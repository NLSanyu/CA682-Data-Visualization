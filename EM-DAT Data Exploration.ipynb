{
 "cells": [
  {
   "cell_type": "markdown",
   "id": "c31ebd37",
   "metadata": {},
   "source": [
    "# EM-DAT natural disasters dataset exploration, cleaning, processing and visualization\n",
    "<br/>"
   ]
  },
  {
   "cell_type": "code",
   "execution_count": 330,
   "id": "a06c7538",
   "metadata": {},
   "outputs": [
    {
     "data": {
      "text/html": [
       "        <script type=\"text/javascript\">\n",
       "        window.PlotlyConfig = {MathJaxConfig: 'local'};\n",
       "        if (window.MathJax) {MathJax.Hub.Config({SVG: {font: \"STIX-Web\"}});}\n",
       "        if (typeof require !== 'undefined') {\n",
       "        require.undef(\"plotly\");\n",
       "        requirejs.config({\n",
       "            paths: {\n",
       "                'plotly': ['https://cdn.plot.ly/plotly-latest.min']\n",
       "            }\n",
       "        });\n",
       "        require(['plotly'], function(Plotly) {\n",
       "            window._Plotly = Plotly;\n",
       "        });\n",
       "        }\n",
       "        </script>\n",
       "        "
      ]
     },
     "metadata": {},
     "output_type": "display_data"
    }
   ],
   "source": [
    "import pandas as pd\n",
    "import matplotlib.pyplot as plt\n",
    "import seaborn as sns\n",
    "\n",
    "import plotly.express as px\n",
    "import plotly.graph_objs as go \n",
    "from plotly.offline import init_notebook_mode,iplot,plot\n",
    "init_notebook_mode(connected=True) "
   ]
  },
  {
   "cell_type": "code",
   "execution_count": 331,
   "id": "4a6277d7",
   "metadata": {},
   "outputs": [],
   "source": [
    "plt.rcParams[\"figure.figsize\"] = (10, 8)"
   ]
  },
  {
   "cell_type": "code",
   "execution_count": 332,
   "id": "801cfedb",
   "metadata": {},
   "outputs": [
    {
     "name": "stderr",
     "output_type": "stream",
     "text": [
      "/opt/homebrew/lib/python3.9/site-packages/openpyxl/styles/stylesheet.py:221: UserWarning:\n",
      "\n",
      "Workbook contains no default style, apply openpyxl's default\n",
      "\n"
     ]
    },
    {
     "data": {
      "text/html": [
       "<div>\n",
       "<style scoped>\n",
       "    .dataframe tbody tr th:only-of-type {\n",
       "        vertical-align: middle;\n",
       "    }\n",
       "\n",
       "    .dataframe tbody tr th {\n",
       "        vertical-align: top;\n",
       "    }\n",
       "\n",
       "    .dataframe thead th {\n",
       "        text-align: right;\n",
       "    }\n",
       "</style>\n",
       "<table border=\"1\" class=\"dataframe\">\n",
       "  <thead>\n",
       "    <tr style=\"text-align: right;\">\n",
       "      <th></th>\n",
       "      <th>Dis No</th>\n",
       "      <th>Year</th>\n",
       "      <th>Seq</th>\n",
       "      <th>Glide</th>\n",
       "      <th>Disaster Group</th>\n",
       "      <th>Disaster Subgroup</th>\n",
       "      <th>Disaster Type</th>\n",
       "      <th>Disaster Subtype</th>\n",
       "      <th>Disaster Subsubtype</th>\n",
       "      <th>Event Name</th>\n",
       "      <th>...</th>\n",
       "      <th>Reconstruction Costs, Adjusted ('000 US$)</th>\n",
       "      <th>Insured Damages ('000 US$)</th>\n",
       "      <th>Insured Damages, Adjusted ('000 US$)</th>\n",
       "      <th>Total Damages ('000 US$)</th>\n",
       "      <th>Total Damages, Adjusted ('000 US$)</th>\n",
       "      <th>CPI</th>\n",
       "      <th>Adm Level</th>\n",
       "      <th>Admin1 Code</th>\n",
       "      <th>Admin2 Code</th>\n",
       "      <th>Geo Locations</th>\n",
       "    </tr>\n",
       "  </thead>\n",
       "  <tbody>\n",
       "    <tr>\n",
       "      <th>0</th>\n",
       "      <td>1900-9002-CPV</td>\n",
       "      <td>1900</td>\n",
       "      <td>9002</td>\n",
       "      <td>NaN</td>\n",
       "      <td>Natural</td>\n",
       "      <td>Climatological</td>\n",
       "      <td>Drought</td>\n",
       "      <td>Drought</td>\n",
       "      <td>NaN</td>\n",
       "      <td>NaN</td>\n",
       "      <td>...</td>\n",
       "      <td>NaN</td>\n",
       "      <td>NaN</td>\n",
       "      <td>NaN</td>\n",
       "      <td>NaN</td>\n",
       "      <td>NaN</td>\n",
       "      <td>3.077091</td>\n",
       "      <td>NaN</td>\n",
       "      <td>NaN</td>\n",
       "      <td>NaN</td>\n",
       "      <td>NaN</td>\n",
       "    </tr>\n",
       "    <tr>\n",
       "      <th>1</th>\n",
       "      <td>1900-9001-IND</td>\n",
       "      <td>1900</td>\n",
       "      <td>9001</td>\n",
       "      <td>NaN</td>\n",
       "      <td>Natural</td>\n",
       "      <td>Climatological</td>\n",
       "      <td>Drought</td>\n",
       "      <td>Drought</td>\n",
       "      <td>NaN</td>\n",
       "      <td>NaN</td>\n",
       "      <td>...</td>\n",
       "      <td>NaN</td>\n",
       "      <td>NaN</td>\n",
       "      <td>NaN</td>\n",
       "      <td>NaN</td>\n",
       "      <td>NaN</td>\n",
       "      <td>3.077091</td>\n",
       "      <td>NaN</td>\n",
       "      <td>NaN</td>\n",
       "      <td>NaN</td>\n",
       "      <td>NaN</td>\n",
       "    </tr>\n",
       "    <tr>\n",
       "      <th>2</th>\n",
       "      <td>1902-0012-GTM</td>\n",
       "      <td>1902</td>\n",
       "      <td>12</td>\n",
       "      <td>NaN</td>\n",
       "      <td>Natural</td>\n",
       "      <td>Geophysical</td>\n",
       "      <td>Earthquake</td>\n",
       "      <td>Ground movement</td>\n",
       "      <td>NaN</td>\n",
       "      <td>NaN</td>\n",
       "      <td>...</td>\n",
       "      <td>NaN</td>\n",
       "      <td>NaN</td>\n",
       "      <td>NaN</td>\n",
       "      <td>25000.0</td>\n",
       "      <td>781207.0</td>\n",
       "      <td>3.200175</td>\n",
       "      <td>NaN</td>\n",
       "      <td>NaN</td>\n",
       "      <td>NaN</td>\n",
       "      <td>NaN</td>\n",
       "    </tr>\n",
       "    <tr>\n",
       "      <th>3</th>\n",
       "      <td>1902-0003-GTM</td>\n",
       "      <td>1902</td>\n",
       "      <td>3</td>\n",
       "      <td>NaN</td>\n",
       "      <td>Natural</td>\n",
       "      <td>Geophysical</td>\n",
       "      <td>Volcanic activity</td>\n",
       "      <td>Ash fall</td>\n",
       "      <td>NaN</td>\n",
       "      <td>Santa Maria</td>\n",
       "      <td>...</td>\n",
       "      <td>NaN</td>\n",
       "      <td>NaN</td>\n",
       "      <td>NaN</td>\n",
       "      <td>NaN</td>\n",
       "      <td>NaN</td>\n",
       "      <td>3.200175</td>\n",
       "      <td>NaN</td>\n",
       "      <td>NaN</td>\n",
       "      <td>NaN</td>\n",
       "      <td>NaN</td>\n",
       "    </tr>\n",
       "    <tr>\n",
       "      <th>4</th>\n",
       "      <td>1902-0010-GTM</td>\n",
       "      <td>1902</td>\n",
       "      <td>10</td>\n",
       "      <td>NaN</td>\n",
       "      <td>Natural</td>\n",
       "      <td>Geophysical</td>\n",
       "      <td>Volcanic activity</td>\n",
       "      <td>Ash fall</td>\n",
       "      <td>NaN</td>\n",
       "      <td>Santa Maria</td>\n",
       "      <td>...</td>\n",
       "      <td>NaN</td>\n",
       "      <td>NaN</td>\n",
       "      <td>NaN</td>\n",
       "      <td>NaN</td>\n",
       "      <td>NaN</td>\n",
       "      <td>3.200175</td>\n",
       "      <td>NaN</td>\n",
       "      <td>NaN</td>\n",
       "      <td>NaN</td>\n",
       "      <td>NaN</td>\n",
       "    </tr>\n",
       "  </tbody>\n",
       "</table>\n",
       "<p>5 rows × 50 columns</p>\n",
       "</div>"
      ],
      "text/plain": [
       "          Dis No  Year   Seq Glide Disaster Group Disaster Subgroup  \\\n",
       "0  1900-9002-CPV  1900  9002   NaN        Natural    Climatological   \n",
       "1  1900-9001-IND  1900  9001   NaN        Natural    Climatological   \n",
       "2  1902-0012-GTM  1902    12   NaN        Natural       Geophysical   \n",
       "3  1902-0003-GTM  1902     3   NaN        Natural       Geophysical   \n",
       "4  1902-0010-GTM  1902    10   NaN        Natural       Geophysical   \n",
       "\n",
       "       Disaster Type Disaster Subtype Disaster Subsubtype   Event Name  ...  \\\n",
       "0            Drought          Drought                 NaN          NaN  ...   \n",
       "1            Drought          Drought                 NaN          NaN  ...   \n",
       "2         Earthquake  Ground movement                 NaN          NaN  ...   \n",
       "3  Volcanic activity         Ash fall                 NaN  Santa Maria  ...   \n",
       "4  Volcanic activity         Ash fall                 NaN  Santa Maria  ...   \n",
       "\n",
       "  Reconstruction Costs, Adjusted ('000 US$) Insured Damages ('000 US$)  \\\n",
       "0                                       NaN                        NaN   \n",
       "1                                       NaN                        NaN   \n",
       "2                                       NaN                        NaN   \n",
       "3                                       NaN                        NaN   \n",
       "4                                       NaN                        NaN   \n",
       "\n",
       "  Insured Damages, Adjusted ('000 US$) Total Damages ('000 US$)  \\\n",
       "0                                  NaN                      NaN   \n",
       "1                                  NaN                      NaN   \n",
       "2                                  NaN                  25000.0   \n",
       "3                                  NaN                      NaN   \n",
       "4                                  NaN                      NaN   \n",
       "\n",
       "  Total Damages, Adjusted ('000 US$)       CPI Adm Level Admin1 Code  \\\n",
       "0                                NaN  3.077091       NaN         NaN   \n",
       "1                                NaN  3.077091       NaN         NaN   \n",
       "2                           781207.0  3.200175       NaN         NaN   \n",
       "3                                NaN  3.200175       NaN         NaN   \n",
       "4                                NaN  3.200175       NaN         NaN   \n",
       "\n",
       "  Admin2 Code Geo Locations  \n",
       "0         NaN           NaN  \n",
       "1         NaN           NaN  \n",
       "2         NaN           NaN  \n",
       "3         NaN           NaN  \n",
       "4         NaN           NaN  \n",
       "\n",
       "[5 rows x 50 columns]"
      ]
     },
     "execution_count": 332,
     "metadata": {},
     "output_type": "execute_result"
    }
   ],
   "source": [
    "df = pd.read_excel(\"data/emdat_public_2022_11_07_query_uid-dvxNk1.xlsx\", header=6)\n",
    "df.head()"
   ]
  },
  {
   "cell_type": "code",
   "execution_count": 333,
   "id": "4287f51f",
   "metadata": {},
   "outputs": [
    {
     "name": "stdout",
     "output_type": "stream",
     "text": [
      "<class 'pandas.core.frame.DataFrame'>\n",
      "RangeIndex: 16457 entries, 0 to 16456\n",
      "Data columns (total 50 columns):\n",
      " #   Column                                     Non-Null Count  Dtype  \n",
      "---  ------                                     --------------  -----  \n",
      " 0   Dis No                                     16457 non-null  object \n",
      " 1   Year                                       16457 non-null  int64  \n",
      " 2   Seq                                        16457 non-null  int64  \n",
      " 3   Glide                                      1703 non-null   object \n",
      " 4   Disaster Group                             16457 non-null  object \n",
      " 5   Disaster Subgroup                          16457 non-null  object \n",
      " 6   Disaster Type                              16457 non-null  object \n",
      " 7   Disaster Subtype                           13195 non-null  object \n",
      " 8   Disaster Subsubtype                        1103 non-null   object \n",
      " 9   Event Name                                 3962 non-null   object \n",
      " 10  Country                                    16457 non-null  object \n",
      " 11  ISO                                        16457 non-null  object \n",
      " 12  Region                                     16457 non-null  object \n",
      " 13  Continent                                  16457 non-null  object \n",
      " 14  Location                                   14666 non-null  object \n",
      " 15  Origin                                     4006 non-null   object \n",
      " 16  Associated Dis                             3525 non-null   object \n",
      " 17  Associated Dis2                            747 non-null    object \n",
      " 18  OFDA Response                              1716 non-null   object \n",
      " 19  Appeal                                     2572 non-null   object \n",
      " 20  Declaration                                3325 non-null   object \n",
      " 21  AID Contribution ('000 US$)                776 non-null    float64\n",
      " 22  Dis Mag Value                              5023 non-null   float64\n",
      " 23  Dis Mag Scale                              15251 non-null  object \n",
      " 24  Latitude                                   2760 non-null   object \n",
      " 25  Longitude                                  2759 non-null   object \n",
      " 26  Local Time                                 1135 non-null   object \n",
      " 27  River Basin                                1319 non-null   object \n",
      " 28  Start Year                                 16457 non-null  int64  \n",
      " 29  Start Month                                16068 non-null  float64\n",
      " 30  Start Day                                  12858 non-null  float64\n",
      " 31  End Year                                   16457 non-null  int64  \n",
      " 32  End Month                                  15755 non-null  float64\n",
      " 33  End Day                                    12944 non-null  float64\n",
      " 34  Total Deaths                               11719 non-null  float64\n",
      " 35  No Injured                                 4072 non-null   float64\n",
      " 36  No Affected                                9539 non-null   float64\n",
      " 37  No Homeless                                2457 non-null   float64\n",
      " 38  Total Affected                             11984 non-null  float64\n",
      " 39  Reconstruction Costs ('000 US$)            33 non-null     float64\n",
      " 40  Reconstruction Costs, Adjusted ('000 US$)  33 non-null     float64\n",
      " 41  Insured Damages ('000 US$)                 1106 non-null   float64\n",
      " 42  Insured Damages, Adjusted ('000 US$)       1101 non-null   float64\n",
      " 43  Total Damages ('000 US$)                   5316 non-null   float64\n",
      " 44  Total Damages, Adjusted ('000 US$)         5266 non-null   float64\n",
      " 45  CPI                                        16133 non-null  float64\n",
      " 46  Adm Level                                  8355 non-null   object \n",
      " 47  Admin1 Code                                4941 non-null   object \n",
      " 48  Admin2 Code                                4191 non-null   object \n",
      " 49  Geo Locations                              8355 non-null   object \n",
      "dtypes: float64(18), int64(4), object(28)\n",
      "memory usage: 6.3+ MB\n"
     ]
    }
   ],
   "source": [
    "df.info()"
   ]
  },
  {
   "cell_type": "code",
   "execution_count": 334,
   "id": "92def9d0",
   "metadata": {},
   "outputs": [
    {
     "data": {
      "text/plain": [
       "(16457, 50)"
      ]
     },
     "execution_count": 334,
     "metadata": {},
     "output_type": "execute_result"
    }
   ],
   "source": [
    "df.shape"
   ]
  },
  {
   "cell_type": "code",
   "execution_count": 335,
   "id": "57983e8c",
   "metadata": {},
   "outputs": [
    {
     "data": {
      "text/plain": [
       "Index(['Dis No', 'Year', 'Seq', 'Glide', 'Disaster Group', 'Disaster Subgroup',\n",
       "       'Disaster Type', 'Disaster Subtype', 'Disaster Subsubtype',\n",
       "       'Event Name', 'Country', 'ISO', 'Region', 'Continent', 'Location',\n",
       "       'Origin', 'Associated Dis', 'Associated Dis2', 'OFDA Response',\n",
       "       'Appeal', 'Declaration', 'AID Contribution ('000 US$)', 'Dis Mag Value',\n",
       "       'Dis Mag Scale', 'Latitude', 'Longitude', 'Local Time', 'River Basin',\n",
       "       'Start Year', 'Start Month', 'Start Day', 'End Year', 'End Month',\n",
       "       'End Day', 'Total Deaths', 'No Injured', 'No Affected', 'No Homeless',\n",
       "       'Total Affected', 'Reconstruction Costs ('000 US$)',\n",
       "       'Reconstruction Costs, Adjusted ('000 US$)',\n",
       "       'Insured Damages ('000 US$)', 'Insured Damages, Adjusted ('000 US$)',\n",
       "       'Total Damages ('000 US$)', 'Total Damages, Adjusted ('000 US$)', 'CPI',\n",
       "       'Adm Level', 'Admin1 Code', 'Admin2 Code', 'Geo Locations'],\n",
       "      dtype='object')"
      ]
     },
     "execution_count": 335,
     "metadata": {},
     "output_type": "execute_result"
    }
   ],
   "source": [
    "df.columns"
   ]
  },
  {
   "cell_type": "markdown",
   "id": "8e56ae67",
   "metadata": {},
   "source": [
    "# Data Exploration - countries, disaster types and counts"
   ]
  },
  {
   "cell_type": "code",
   "execution_count": 336,
   "id": "e558920a",
   "metadata": {},
   "outputs": [
    {
     "data": {
      "text/plain": [
       "United States of America (the)    1117\n",
       "China                              994\n",
       "India                              758\n",
       "Philippines (the)                  679\n",
       "Indonesia                          598\n",
       "                                  ... \n",
       "United Arab Emirates (the)           1\n",
       "Qatar                                1\n",
       "Sint Maarten (Dutch part)            1\n",
       "Saint Martin (French Part)           1\n",
       "Bahrain                              1\n",
       "Name: Country, Length: 228, dtype: int64"
      ]
     },
     "execution_count": 336,
     "metadata": {},
     "output_type": "execute_result"
    }
   ],
   "source": [
    "df[\"Country\"].value_counts()"
   ]
  },
  {
   "cell_type": "code",
   "execution_count": 337,
   "id": "f53f8743",
   "metadata": {},
   "outputs": [
    {
     "data": {
      "text/plain": [
       "Flood                    5728\n",
       "Storm                    4576\n",
       "Earthquake               1576\n",
       "Epidemic                 1519\n",
       "Drought                   792\n",
       "Landslide                 788\n",
       "Extreme temperature       607\n",
       "Wildfire                  453\n",
       "Volcanic activity         269\n",
       "Insect infestation         95\n",
       "Mass movement (dry)        48\n",
       "Glacial lake outburst       3\n",
       "Fog                         1\n",
       "Animal accident             1\n",
       "Impact                      1\n",
       "Name: Disaster Type, dtype: int64"
      ]
     },
     "execution_count": 337,
     "metadata": {},
     "output_type": "execute_result"
    }
   ],
   "source": [
    "df[\"Disaster Type\"].value_counts()"
   ]
  },
  {
   "cell_type": "code",
   "execution_count": 338,
   "id": "b37b32d0",
   "metadata": {},
   "outputs": [
    {
     "data": {
      "text/plain": [
       "0"
      ]
     },
     "execution_count": 338,
     "metadata": {},
     "output_type": "execute_result"
    }
   ],
   "source": [
    "df[\"Disaster Type\"].isna().sum()"
   ]
  },
  {
   "cell_type": "code",
   "execution_count": 339,
   "id": "08edf601",
   "metadata": {},
   "outputs": [
    {
     "data": {
      "text/plain": [
       "count     16457\n",
       "unique       15\n",
       "top       Flood\n",
       "freq       5728\n",
       "Name: Disaster Type, dtype: object"
      ]
     },
     "execution_count": 339,
     "metadata": {},
     "output_type": "execute_result"
    }
   ],
   "source": [
    "df[\"Disaster Type\"].describe()"
   ]
  },
  {
   "cell_type": "code",
   "execution_count": 340,
   "id": "4193679e",
   "metadata": {},
   "outputs": [
    {
     "data": {
      "image/png": "[encoded data removed]",
      "text/plain": [
       "<Figure size 1080x360 with 1 Axes>"
      ]
     },
     "metadata": {
      "needs_background": "light"
     },
     "output_type": "display_data"
    }
   ],
   "source": [
    "fig, ax = plt.subplots(figsize=(15, 5))\n",
    "sns.countplot(data=df, x=df[\"Disaster Type\"])\n",
    "plt.xticks(rotation = 70)\n",
    "plt.title(\"Disaster type counts\")\n",
    "plt.show()"
   ]
  },
  {
   "cell_type": "markdown",
   "id": "38e0dc15",
   "metadata": {},
   "source": [
    "# Data Cleaning"
   ]
  },
  {
   "cell_type": "markdown",
   "id": "1cf1ef06",
   "metadata": {},
   "source": [
    "#### Pick out relevant columns\n"
   ]
  },
  {
   "cell_type": "code",
   "execution_count": 341,
   "id": "97482612",
   "metadata": {},
   "outputs": [
    {
     "data": {
      "text/html": [
       "<div>\n",
       "<style scoped>\n",
       "    .dataframe tbody tr th:only-of-type {\n",
       "        vertical-align: middle;\n",
       "    }\n",
       "\n",
       "    .dataframe tbody tr th {\n",
       "        vertical-align: top;\n",
       "    }\n",
       "\n",
       "    .dataframe thead th {\n",
       "        text-align: right;\n",
       "    }\n",
       "</style>\n",
       "<table border=\"1\" class=\"dataframe\">\n",
       "  <thead>\n",
       "    <tr style=\"text-align: right;\">\n",
       "      <th></th>\n",
       "      <th>Dis No</th>\n",
       "      <th>Year</th>\n",
       "      <th>Disaster Type</th>\n",
       "      <th>Disaster Subtype</th>\n",
       "      <th>Country</th>\n",
       "      <th>ISO</th>\n",
       "      <th>Region</th>\n",
       "      <th>Continent</th>\n",
       "      <th>Start Year</th>\n",
       "      <th>Start Month</th>\n",
       "      <th>End Year</th>\n",
       "      <th>End Month</th>\n",
       "      <th>Total Deaths</th>\n",
       "      <th>No Injured</th>\n",
       "      <th>No Affected</th>\n",
       "      <th>No Homeless</th>\n",
       "      <th>Total Affected</th>\n",
       "    </tr>\n",
       "  </thead>\n",
       "  <tbody>\n",
       "    <tr>\n",
       "      <th>0</th>\n",
       "      <td>1900-9002-CPV</td>\n",
       "      <td>1900</td>\n",
       "      <td>Drought</td>\n",
       "      <td>Drought</td>\n",
       "      <td>Cabo Verde</td>\n",
       "      <td>CPV</td>\n",
       "      <td>Western Africa</td>\n",
       "      <td>Africa</td>\n",
       "      <td>1900</td>\n",
       "      <td>NaN</td>\n",
       "      <td>1900</td>\n",
       "      <td>NaN</td>\n",
       "      <td>11000.0</td>\n",
       "      <td>NaN</td>\n",
       "      <td>NaN</td>\n",
       "      <td>NaN</td>\n",
       "      <td>NaN</td>\n",
       "    </tr>\n",
       "    <tr>\n",
       "      <th>1</th>\n",
       "      <td>1900-9001-IND</td>\n",
       "      <td>1900</td>\n",
       "      <td>Drought</td>\n",
       "      <td>Drought</td>\n",
       "      <td>India</td>\n",
       "      <td>IND</td>\n",
       "      <td>Southern Asia</td>\n",
       "      <td>Asia</td>\n",
       "      <td>1900</td>\n",
       "      <td>NaN</td>\n",
       "      <td>1900</td>\n",
       "      <td>NaN</td>\n",
       "      <td>1250000.0</td>\n",
       "      <td>NaN</td>\n",
       "      <td>NaN</td>\n",
       "      <td>NaN</td>\n",
       "      <td>NaN</td>\n",
       "    </tr>\n",
       "    <tr>\n",
       "      <th>2</th>\n",
       "      <td>1902-0012-GTM</td>\n",
       "      <td>1902</td>\n",
       "      <td>Earthquake</td>\n",
       "      <td>Ground movement</td>\n",
       "      <td>Guatemala</td>\n",
       "      <td>GTM</td>\n",
       "      <td>Central America</td>\n",
       "      <td>Americas</td>\n",
       "      <td>1902</td>\n",
       "      <td>4.0</td>\n",
       "      <td>1902</td>\n",
       "      <td>4.0</td>\n",
       "      <td>2000.0</td>\n",
       "      <td>NaN</td>\n",
       "      <td>NaN</td>\n",
       "      <td>NaN</td>\n",
       "      <td>NaN</td>\n",
       "    </tr>\n",
       "    <tr>\n",
       "      <th>3</th>\n",
       "      <td>1902-0003-GTM</td>\n",
       "      <td>1902</td>\n",
       "      <td>Volcanic activity</td>\n",
       "      <td>Ash fall</td>\n",
       "      <td>Guatemala</td>\n",
       "      <td>GTM</td>\n",
       "      <td>Central America</td>\n",
       "      <td>Americas</td>\n",
       "      <td>1902</td>\n",
       "      <td>4.0</td>\n",
       "      <td>1902</td>\n",
       "      <td>4.0</td>\n",
       "      <td>1000.0</td>\n",
       "      <td>NaN</td>\n",
       "      <td>NaN</td>\n",
       "      <td>NaN</td>\n",
       "      <td>NaN</td>\n",
       "    </tr>\n",
       "    <tr>\n",
       "      <th>4</th>\n",
       "      <td>1902-0010-GTM</td>\n",
       "      <td>1902</td>\n",
       "      <td>Volcanic activity</td>\n",
       "      <td>Ash fall</td>\n",
       "      <td>Guatemala</td>\n",
       "      <td>GTM</td>\n",
       "      <td>Central America</td>\n",
       "      <td>Americas</td>\n",
       "      <td>1902</td>\n",
       "      <td>10.0</td>\n",
       "      <td>1902</td>\n",
       "      <td>10.0</td>\n",
       "      <td>6000.0</td>\n",
       "      <td>NaN</td>\n",
       "      <td>NaN</td>\n",
       "      <td>NaN</td>\n",
       "      <td>NaN</td>\n",
       "    </tr>\n",
       "  </tbody>\n",
       "</table>\n",
       "</div>"
      ],
      "text/plain": [
       "          Dis No  Year      Disaster Type Disaster Subtype     Country  ISO  \\\n",
       "0  1900-9002-CPV  1900            Drought          Drought  Cabo Verde  CPV   \n",
       "1  1900-9001-IND  1900            Drought          Drought       India  IND   \n",
       "2  1902-0012-GTM  1902         Earthquake  Ground movement   Guatemala  GTM   \n",
       "3  1902-0003-GTM  1902  Volcanic activity         Ash fall   Guatemala  GTM   \n",
       "4  1902-0010-GTM  1902  Volcanic activity         Ash fall   Guatemala  GTM   \n",
       "\n",
       "            Region Continent  Start Year  Start Month  End Year  End Month  \\\n",
       "0   Western Africa    Africa        1900          NaN      1900        NaN   \n",
       "1    Southern Asia      Asia        1900          NaN      1900        NaN   \n",
       "2  Central America  Americas        1902          4.0      1902        4.0   \n",
       "3  Central America  Americas        1902          4.0      1902        4.0   \n",
       "4  Central America  Americas        1902         10.0      1902       10.0   \n",
       "\n",
       "   Total Deaths  No Injured  No Affected  No Homeless  Total Affected  \n",
       "0       11000.0         NaN          NaN          NaN             NaN  \n",
       "1     1250000.0         NaN          NaN          NaN             NaN  \n",
       "2        2000.0         NaN          NaN          NaN             NaN  \n",
       "3        1000.0         NaN          NaN          NaN             NaN  \n",
       "4        6000.0         NaN          NaN          NaN             NaN  "
      ]
     },
     "execution_count": 341,
     "metadata": {},
     "output_type": "execute_result"
    }
   ],
   "source": [
    "df_cols_reduced = df[[\n",
    "    \"Dis No\", \"Year\", \"Disaster Type\", \"Disaster Subtype\", \"Country\", \"ISO\", \"Region\", \"Continent\",\n",
    "    \"Start Year\", \"Start Month\", \"End Year\", \"End Month\",\n",
    "    \"Total Deaths\", \"No Injured\", \"No Affected\", \"No Homeless\", \"Total Affected\"\n",
    "]]\n",
    "\n",
    "df_cols_reduced.head()"
   ]
  },
  {
   "cell_type": "markdown",
   "id": "55a889c9",
   "metadata": {},
   "source": [
    "#### Check for missing values (most importantly whether there are any in the columns we will use for visualizationi.e Country, ISO, and Disaster Type)   ---> Conclusion: the most important columns have no missing values"
   ]
  },
  {
   "cell_type": "code",
   "execution_count": 342,
   "id": "c13b4073",
   "metadata": {},
   "outputs": [
    {
     "data": {
      "text/plain": [
       "Dis No                  0\n",
       "Year                    0\n",
       "Disaster Type           0\n",
       "Disaster Subtype     3262\n",
       "Country                 0\n",
       "ISO                     0\n",
       "Region                  0\n",
       "Continent               0\n",
       "Start Year              0\n",
       "Start Month           389\n",
       "End Year                0\n",
       "End Month             702\n",
       "Total Deaths         4738\n",
       "No Injured          12385\n",
       "No Affected          6918\n",
       "No Homeless         14000\n",
       "Total Affected       4473\n",
       "dtype: int64"
      ]
     },
     "execution_count": 342,
     "metadata": {},
     "output_type": "execute_result"
    }
   ],
   "source": [
    "df_cols_reduced.isna().sum()"
   ]
  },
  {
   "cell_type": "markdown",
   "id": "906dad68",
   "metadata": {},
   "source": [
    "#### Exclude rows disasters that are not directly climate-related"
   ]
  },
  {
   "cell_type": "code",
   "execution_count": 343,
   "id": "32b0e535",
   "metadata": {},
   "outputs": [
    {
     "data": {
      "text/html": [
       "<div>\n",
       "<style scoped>\n",
       "    .dataframe tbody tr th:only-of-type {\n",
       "        vertical-align: middle;\n",
       "    }\n",
       "\n",
       "    .dataframe tbody tr th {\n",
       "        vertical-align: top;\n",
       "    }\n",
       "\n",
       "    .dataframe thead th {\n",
       "        text-align: right;\n",
       "    }\n",
       "</style>\n",
       "<table border=\"1\" class=\"dataframe\">\n",
       "  <thead>\n",
       "    <tr style=\"text-align: right;\">\n",
       "      <th></th>\n",
       "      <th>Dis No</th>\n",
       "      <th>Year</th>\n",
       "      <th>Disaster Type</th>\n",
       "      <th>Disaster Subtype</th>\n",
       "      <th>Country</th>\n",
       "      <th>ISO</th>\n",
       "      <th>Region</th>\n",
       "      <th>Continent</th>\n",
       "      <th>Start Year</th>\n",
       "      <th>Start Month</th>\n",
       "      <th>End Year</th>\n",
       "      <th>End Month</th>\n",
       "      <th>Total Deaths</th>\n",
       "      <th>No Injured</th>\n",
       "      <th>No Affected</th>\n",
       "      <th>No Homeless</th>\n",
       "      <th>Total Affected</th>\n",
       "    </tr>\n",
       "  </thead>\n",
       "  <tbody>\n",
       "    <tr>\n",
       "      <th>0</th>\n",
       "      <td>1900-9002-CPV</td>\n",
       "      <td>1900</td>\n",
       "      <td>Drought</td>\n",
       "      <td>Drought</td>\n",
       "      <td>Cabo Verde</td>\n",
       "      <td>CPV</td>\n",
       "      <td>Western Africa</td>\n",
       "      <td>Africa</td>\n",
       "      <td>1900</td>\n",
       "      <td>NaN</td>\n",
       "      <td>1900</td>\n",
       "      <td>NaN</td>\n",
       "      <td>11000.0</td>\n",
       "      <td>NaN</td>\n",
       "      <td>NaN</td>\n",
       "      <td>NaN</td>\n",
       "      <td>NaN</td>\n",
       "    </tr>\n",
       "    <tr>\n",
       "      <th>1</th>\n",
       "      <td>1900-9001-IND</td>\n",
       "      <td>1900</td>\n",
       "      <td>Drought</td>\n",
       "      <td>Drought</td>\n",
       "      <td>India</td>\n",
       "      <td>IND</td>\n",
       "      <td>Southern Asia</td>\n",
       "      <td>Asia</td>\n",
       "      <td>1900</td>\n",
       "      <td>NaN</td>\n",
       "      <td>1900</td>\n",
       "      <td>NaN</td>\n",
       "      <td>1250000.0</td>\n",
       "      <td>NaN</td>\n",
       "      <td>NaN</td>\n",
       "      <td>NaN</td>\n",
       "      <td>NaN</td>\n",
       "    </tr>\n",
       "    <tr>\n",
       "      <th>7</th>\n",
       "      <td>1904-0003-BGD</td>\n",
       "      <td>1904</td>\n",
       "      <td>Storm</td>\n",
       "      <td>Tropical cyclone</td>\n",
       "      <td>Bangladesh</td>\n",
       "      <td>BGD</td>\n",
       "      <td>Southern Asia</td>\n",
       "      <td>Asia</td>\n",
       "      <td>1904</td>\n",
       "      <td>11.0</td>\n",
       "      <td>1904</td>\n",
       "      <td>11.0</td>\n",
       "      <td>NaN</td>\n",
       "      <td>NaN</td>\n",
       "      <td>NaN</td>\n",
       "      <td>NaN</td>\n",
       "      <td>NaN</td>\n",
       "    </tr>\n",
       "    <tr>\n",
       "      <th>12</th>\n",
       "      <td>1906-0023-BEL</td>\n",
       "      <td>1906</td>\n",
       "      <td>Flood</td>\n",
       "      <td>NaN</td>\n",
       "      <td>Belgium</td>\n",
       "      <td>BEL</td>\n",
       "      <td>Western Europe</td>\n",
       "      <td>Europe</td>\n",
       "      <td>1906</td>\n",
       "      <td>5.0</td>\n",
       "      <td>1906</td>\n",
       "      <td>5.0</td>\n",
       "      <td>6.0</td>\n",
       "      <td>NaN</td>\n",
       "      <td>NaN</td>\n",
       "      <td>NaN</td>\n",
       "      <td>NaN</td>\n",
       "    </tr>\n",
       "    <tr>\n",
       "      <th>13</th>\n",
       "      <td>1906-0024-BEL</td>\n",
       "      <td>1906</td>\n",
       "      <td>Flood</td>\n",
       "      <td>NaN</td>\n",
       "      <td>Belgium</td>\n",
       "      <td>BEL</td>\n",
       "      <td>Western Europe</td>\n",
       "      <td>Europe</td>\n",
       "      <td>1906</td>\n",
       "      <td>4.0</td>\n",
       "      <td>1906</td>\n",
       "      <td>4.0</td>\n",
       "      <td>NaN</td>\n",
       "      <td>NaN</td>\n",
       "      <td>NaN</td>\n",
       "      <td>NaN</td>\n",
       "      <td>NaN</td>\n",
       "    </tr>\n",
       "  </tbody>\n",
       "</table>\n",
       "</div>"
      ],
      "text/plain": [
       "           Dis No  Year Disaster Type  Disaster Subtype     Country  ISO  \\\n",
       "0   1900-9002-CPV  1900       Drought           Drought  Cabo Verde  CPV   \n",
       "1   1900-9001-IND  1900       Drought           Drought       India  IND   \n",
       "7   1904-0003-BGD  1904         Storm  Tropical cyclone  Bangladesh  BGD   \n",
       "12  1906-0023-BEL  1906         Flood               NaN     Belgium  BEL   \n",
       "13  1906-0024-BEL  1906         Flood               NaN     Belgium  BEL   \n",
       "\n",
       "            Region Continent  Start Year  Start Month  End Year  End Month  \\\n",
       "0   Western Africa    Africa        1900          NaN      1900        NaN   \n",
       "1    Southern Asia      Asia        1900          NaN      1900        NaN   \n",
       "7    Southern Asia      Asia        1904         11.0      1904       11.0   \n",
       "12  Western Europe    Europe        1906          5.0      1906        5.0   \n",
       "13  Western Europe    Europe        1906          4.0      1906        4.0   \n",
       "\n",
       "    Total Deaths  No Injured  No Affected  No Homeless  Total Affected  \n",
       "0        11000.0         NaN          NaN          NaN             NaN  \n",
       "1      1250000.0         NaN          NaN          NaN             NaN  \n",
       "7            NaN         NaN          NaN          NaN             NaN  \n",
       "12           6.0         NaN          NaN          NaN             NaN  \n",
       "13           NaN         NaN          NaN          NaN             NaN  "
      ]
     },
     "execution_count": 343,
     "metadata": {},
     "output_type": "execute_result"
    }
   ],
   "source": [
    "climate_related_disasters = [\"Extreme temperature\", \"Flood\", \"Storm\", \"Drought\", \"Wildfire\", \"Glacial lake outburst\"]\n",
    "df_rows_reduced = df_cols_reduced[df_cols_reduced[\"Disaster Type\"].isin(climate_related_disasters)]\n",
    "df_rows_reduced.head()"
   ]
  },
  {
   "cell_type": "markdown",
   "id": "04a35402",
   "metadata": {},
   "source": [
    "#### Create the cleaned version of dataframe to be used for processing, analysis and visualization"
   ]
  },
  {
   "cell_type": "code",
   "execution_count": 344,
   "id": "7335aec3",
   "metadata": {},
   "outputs": [
    {
     "data": {
      "text/html": [
       "<div>\n",
       "<style scoped>\n",
       "    .dataframe tbody tr th:only-of-type {\n",
       "        vertical-align: middle;\n",
       "    }\n",
       "\n",
       "    .dataframe tbody tr th {\n",
       "        vertical-align: top;\n",
       "    }\n",
       "\n",
       "    .dataframe thead th {\n",
       "        text-align: right;\n",
       "    }\n",
       "</style>\n",
       "<table border=\"1\" class=\"dataframe\">\n",
       "  <thead>\n",
       "    <tr style=\"text-align: right;\">\n",
       "      <th></th>\n",
       "      <th>Dis No</th>\n",
       "      <th>Year</th>\n",
       "      <th>Disaster Type</th>\n",
       "      <th>Disaster Subtype</th>\n",
       "      <th>Country</th>\n",
       "      <th>ISO</th>\n",
       "      <th>Region</th>\n",
       "      <th>Continent</th>\n",
       "      <th>Start Year</th>\n",
       "      <th>Start Month</th>\n",
       "      <th>End Year</th>\n",
       "      <th>End Month</th>\n",
       "      <th>Total Deaths</th>\n",
       "      <th>No Injured</th>\n",
       "      <th>No Affected</th>\n",
       "      <th>No Homeless</th>\n",
       "      <th>Total Affected</th>\n",
       "    </tr>\n",
       "  </thead>\n",
       "  <tbody>\n",
       "    <tr>\n",
       "      <th>0</th>\n",
       "      <td>1900-9002-CPV</td>\n",
       "      <td>1900</td>\n",
       "      <td>Drought</td>\n",
       "      <td>Drought</td>\n",
       "      <td>Cabo Verde</td>\n",
       "      <td>CPV</td>\n",
       "      <td>Western Africa</td>\n",
       "      <td>Africa</td>\n",
       "      <td>1900</td>\n",
       "      <td>NaN</td>\n",
       "      <td>1900</td>\n",
       "      <td>NaN</td>\n",
       "      <td>11000.0</td>\n",
       "      <td>NaN</td>\n",
       "      <td>NaN</td>\n",
       "      <td>NaN</td>\n",
       "      <td>NaN</td>\n",
       "    </tr>\n",
       "    <tr>\n",
       "      <th>1</th>\n",
       "      <td>1900-9001-IND</td>\n",
       "      <td>1900</td>\n",
       "      <td>Drought</td>\n",
       "      <td>Drought</td>\n",
       "      <td>India</td>\n",
       "      <td>IND</td>\n",
       "      <td>Southern Asia</td>\n",
       "      <td>Asia</td>\n",
       "      <td>1900</td>\n",
       "      <td>NaN</td>\n",
       "      <td>1900</td>\n",
       "      <td>NaN</td>\n",
       "      <td>1250000.0</td>\n",
       "      <td>NaN</td>\n",
       "      <td>NaN</td>\n",
       "      <td>NaN</td>\n",
       "      <td>NaN</td>\n",
       "    </tr>\n",
       "    <tr>\n",
       "      <th>7</th>\n",
       "      <td>1904-0003-BGD</td>\n",
       "      <td>1904</td>\n",
       "      <td>Storm</td>\n",
       "      <td>Tropical cyclone</td>\n",
       "      <td>Bangladesh</td>\n",
       "      <td>BGD</td>\n",
       "      <td>Southern Asia</td>\n",
       "      <td>Asia</td>\n",
       "      <td>1904</td>\n",
       "      <td>11.0</td>\n",
       "      <td>1904</td>\n",
       "      <td>11.0</td>\n",
       "      <td>NaN</td>\n",
       "      <td>NaN</td>\n",
       "      <td>NaN</td>\n",
       "      <td>NaN</td>\n",
       "      <td>NaN</td>\n",
       "    </tr>\n",
       "    <tr>\n",
       "      <th>12</th>\n",
       "      <td>1906-0023-BEL</td>\n",
       "      <td>1906</td>\n",
       "      <td>Flood</td>\n",
       "      <td>NaN</td>\n",
       "      <td>Belgium</td>\n",
       "      <td>BEL</td>\n",
       "      <td>Western Europe</td>\n",
       "      <td>Europe</td>\n",
       "      <td>1906</td>\n",
       "      <td>5.0</td>\n",
       "      <td>1906</td>\n",
       "      <td>5.0</td>\n",
       "      <td>6.0</td>\n",
       "      <td>NaN</td>\n",
       "      <td>NaN</td>\n",
       "      <td>NaN</td>\n",
       "      <td>NaN</td>\n",
       "    </tr>\n",
       "    <tr>\n",
       "      <th>13</th>\n",
       "      <td>1906-0024-BEL</td>\n",
       "      <td>1906</td>\n",
       "      <td>Flood</td>\n",
       "      <td>NaN</td>\n",
       "      <td>Belgium</td>\n",
       "      <td>BEL</td>\n",
       "      <td>Western Europe</td>\n",
       "      <td>Europe</td>\n",
       "      <td>1906</td>\n",
       "      <td>4.0</td>\n",
       "      <td>1906</td>\n",
       "      <td>4.0</td>\n",
       "      <td>NaN</td>\n",
       "      <td>NaN</td>\n",
       "      <td>NaN</td>\n",
       "      <td>NaN</td>\n",
       "      <td>NaN</td>\n",
       "    </tr>\n",
       "  </tbody>\n",
       "</table>\n",
       "</div>"
      ],
      "text/plain": [
       "           Dis No  Year Disaster Type  Disaster Subtype     Country  ISO  \\\n",
       "0   1900-9002-CPV  1900       Drought           Drought  Cabo Verde  CPV   \n",
       "1   1900-9001-IND  1900       Drought           Drought       India  IND   \n",
       "7   1904-0003-BGD  1904         Storm  Tropical cyclone  Bangladesh  BGD   \n",
       "12  1906-0023-BEL  1906         Flood               NaN     Belgium  BEL   \n",
       "13  1906-0024-BEL  1906         Flood               NaN     Belgium  BEL   \n",
       "\n",
       "            Region Continent  Start Year  Start Month  End Year  End Month  \\\n",
       "0   Western Africa    Africa        1900          NaN      1900        NaN   \n",
       "1    Southern Asia      Asia        1900          NaN      1900        NaN   \n",
       "7    Southern Asia      Asia        1904         11.0      1904       11.0   \n",
       "12  Western Europe    Europe        1906          5.0      1906        5.0   \n",
       "13  Western Europe    Europe        1906          4.0      1906        4.0   \n",
       "\n",
       "    Total Deaths  No Injured  No Affected  No Homeless  Total Affected  \n",
       "0        11000.0         NaN          NaN          NaN             NaN  \n",
       "1      1250000.0         NaN          NaN          NaN             NaN  \n",
       "7            NaN         NaN          NaN          NaN             NaN  \n",
       "12           6.0         NaN          NaN          NaN             NaN  \n",
       "13           NaN         NaN          NaN          NaN             NaN  "
      ]
     },
     "execution_count": 344,
     "metadata": {},
     "output_type": "execute_result"
    }
   ],
   "source": [
    "cleaned_df = df_rows_reduced\n",
    "cleaned_df.head()"
   ]
  },
  {
   "cell_type": "markdown",
   "id": "52a66f84",
   "metadata": {},
   "source": [
    "#### Extract a subset of the dataset to use for visualization (from the year 2000 to 2021)"
   ]
  },
  {
   "cell_type": "code",
   "execution_count": 345,
   "id": "0e468b6b",
   "metadata": {},
   "outputs": [
    {
     "data": {
      "text/html": [
       "<div>\n",
       "<style scoped>\n",
       "    .dataframe tbody tr th:only-of-type {\n",
       "        vertical-align: middle;\n",
       "    }\n",
       "\n",
       "    .dataframe tbody tr th {\n",
       "        vertical-align: top;\n",
       "    }\n",
       "\n",
       "    .dataframe thead th {\n",
       "        text-align: right;\n",
       "    }\n",
       "</style>\n",
       "<table border=\"1\" class=\"dataframe\">\n",
       "  <thead>\n",
       "    <tr style=\"text-align: right;\">\n",
       "      <th></th>\n",
       "      <th>Dis No</th>\n",
       "      <th>Year</th>\n",
       "      <th>Disaster Type</th>\n",
       "      <th>Disaster Subtype</th>\n",
       "      <th>Country</th>\n",
       "      <th>ISO</th>\n",
       "      <th>Region</th>\n",
       "      <th>Continent</th>\n",
       "      <th>Start Year</th>\n",
       "      <th>Start Month</th>\n",
       "      <th>End Year</th>\n",
       "      <th>End Month</th>\n",
       "      <th>Total Deaths</th>\n",
       "      <th>No Injured</th>\n",
       "      <th>No Affected</th>\n",
       "      <th>No Homeless</th>\n",
       "      <th>Total Affected</th>\n",
       "    </tr>\n",
       "  </thead>\n",
       "  <tbody>\n",
       "    <tr>\n",
       "      <th>6451</th>\n",
       "      <td>2000-0372-CHN</td>\n",
       "      <td>2000</td>\n",
       "      <td>Flood</td>\n",
       "      <td>Riverine flood</td>\n",
       "      <td>China</td>\n",
       "      <td>CHN</td>\n",
       "      <td>Eastern Asia</td>\n",
       "      <td>Asia</td>\n",
       "      <td>2000</td>\n",
       "      <td>6.0</td>\n",
       "      <td>2000</td>\n",
       "      <td>6.0</td>\n",
       "      <td>43.0</td>\n",
       "      <td>10.0</td>\n",
       "      <td>NaN</td>\n",
       "      <td>31000.0</td>\n",
       "      <td>31010.0</td>\n",
       "    </tr>\n",
       "    <tr>\n",
       "      <th>6452</th>\n",
       "      <td>2000-9186-AFG</td>\n",
       "      <td>2000</td>\n",
       "      <td>Drought</td>\n",
       "      <td>Drought</td>\n",
       "      <td>Afghanistan</td>\n",
       "      <td>AFG</td>\n",
       "      <td>Southern Asia</td>\n",
       "      <td>Asia</td>\n",
       "      <td>2000</td>\n",
       "      <td>5.0</td>\n",
       "      <td>2002</td>\n",
       "      <td>NaN</td>\n",
       "      <td>37.0</td>\n",
       "      <td>NaN</td>\n",
       "      <td>2580000.0</td>\n",
       "      <td>NaN</td>\n",
       "      <td>2580000.0</td>\n",
       "    </tr>\n",
       "    <tr>\n",
       "      <th>6453</th>\n",
       "      <td>2000-0373-BGD</td>\n",
       "      <td>2000</td>\n",
       "      <td>Flood</td>\n",
       "      <td>Flash flood</td>\n",
       "      <td>Bangladesh</td>\n",
       "      <td>BGD</td>\n",
       "      <td>Southern Asia</td>\n",
       "      <td>Asia</td>\n",
       "      <td>2000</td>\n",
       "      <td>6.0</td>\n",
       "      <td>2000</td>\n",
       "      <td>6.0</td>\n",
       "      <td>11.0</td>\n",
       "      <td>50.0</td>\n",
       "      <td>200000.0</td>\n",
       "      <td>NaN</td>\n",
       "      <td>200050.0</td>\n",
       "    </tr>\n",
       "    <tr>\n",
       "      <th>6454</th>\n",
       "      <td>2000-0905-BOL</td>\n",
       "      <td>2000</td>\n",
       "      <td>Flood</td>\n",
       "      <td>NaN</td>\n",
       "      <td>Bolivia (Plurinational State of)</td>\n",
       "      <td>BOL</td>\n",
       "      <td>South America</td>\n",
       "      <td>Americas</td>\n",
       "      <td>2000</td>\n",
       "      <td>2.0</td>\n",
       "      <td>2000</td>\n",
       "      <td>2.0</td>\n",
       "      <td>30.0</td>\n",
       "      <td>10.0</td>\n",
       "      <td>NaN</td>\n",
       "      <td>NaN</td>\n",
       "      <td>10.0</td>\n",
       "    </tr>\n",
       "    <tr>\n",
       "      <th>6455</th>\n",
       "      <td>2000-0019-BRA</td>\n",
       "      <td>2000</td>\n",
       "      <td>Flood</td>\n",
       "      <td>Riverine flood</td>\n",
       "      <td>Brazil</td>\n",
       "      <td>BRA</td>\n",
       "      <td>South America</td>\n",
       "      <td>Americas</td>\n",
       "      <td>2000</td>\n",
       "      <td>1.0</td>\n",
       "      <td>2000</td>\n",
       "      <td>1.0</td>\n",
       "      <td>26.0</td>\n",
       "      <td>NaN</td>\n",
       "      <td>NaN</td>\n",
       "      <td>70000.0</td>\n",
       "      <td>70000.0</td>\n",
       "    </tr>\n",
       "  </tbody>\n",
       "</table>\n",
       "</div>"
      ],
      "text/plain": [
       "             Dis No  Year Disaster Type Disaster Subtype  \\\n",
       "6451  2000-0372-CHN  2000         Flood   Riverine flood   \n",
       "6452  2000-9186-AFG  2000       Drought          Drought   \n",
       "6453  2000-0373-BGD  2000         Flood      Flash flood   \n",
       "6454  2000-0905-BOL  2000         Flood              NaN   \n",
       "6455  2000-0019-BRA  2000         Flood   Riverine flood   \n",
       "\n",
       "                               Country  ISO         Region Continent  \\\n",
       "6451                             China  CHN   Eastern Asia      Asia   \n",
       "6452                       Afghanistan  AFG  Southern Asia      Asia   \n",
       "6453                        Bangladesh  BGD  Southern Asia      Asia   \n",
       "6454  Bolivia (Plurinational State of)  BOL  South America  Americas   \n",
       "6455                            Brazil  BRA  South America  Americas   \n",
       "\n",
       "      Start Year  Start Month  End Year  End Month  Total Deaths  No Injured  \\\n",
       "6451        2000          6.0      2000        6.0          43.0        10.0   \n",
       "6452        2000          5.0      2002        NaN          37.0         NaN   \n",
       "6453        2000          6.0      2000        6.0          11.0        50.0   \n",
       "6454        2000          2.0      2000        2.0          30.0        10.0   \n",
       "6455        2000          1.0      2000        1.0          26.0         NaN   \n",
       "\n",
       "      No Affected  No Homeless  Total Affected  \n",
       "6451          NaN      31000.0         31010.0  \n",
       "6452    2580000.0          NaN       2580000.0  \n",
       "6453     200000.0          NaN        200050.0  \n",
       "6454          NaN          NaN            10.0  \n",
       "6455          NaN      70000.0         70000.0  "
      ]
     },
     "execution_count": 345,
     "metadata": {},
     "output_type": "execute_result"
    }
   ],
   "source": [
    "chosen_years = [\n",
    "    2000, 2001, 2002, 2003, 2004, 2005, 2006, 2007, 2008, 2009, 2010, \n",
    "    2011, 2012, 2013, 2014, 2015, 2016, 2017, 2018, 2019, 2020, 2021\n",
    "]\n",
    "cleaned_df_subset = cleaned_df[cleaned_df[\"Year\"].isin(chosen_years)]\n",
    "cleaned_df_subset.head()"
   ]
  },
  {
   "cell_type": "markdown",
   "id": "c2f226e4",
   "metadata": {},
   "source": [
    "# Data processing & visualization - Method 1 - Disaster frequency (all climate-related disasters)"
   ]
  },
  {
   "cell_type": "code",
   "execution_count": 346,
   "id": "af439f36",
   "metadata": {},
   "outputs": [
    {
     "data": {
      "text/html": [
       "<div>\n",
       "<style scoped>\n",
       "    .dataframe tbody tr th:only-of-type {\n",
       "        vertical-align: middle;\n",
       "    }\n",
       "\n",
       "    .dataframe tbody tr th {\n",
       "        vertical-align: top;\n",
       "    }\n",
       "\n",
       "    .dataframe thead th {\n",
       "        text-align: right;\n",
       "    }\n",
       "</style>\n",
       "<table border=\"1\" class=\"dataframe\">\n",
       "  <thead>\n",
       "    <tr style=\"text-align: right;\">\n",
       "      <th></th>\n",
       "      <th></th>\n",
       "      <th></th>\n",
       "      <th>Dis No</th>\n",
       "      <th>Year</th>\n",
       "      <th>Disaster Type</th>\n",
       "      <th>Disaster Subtype</th>\n",
       "      <th>Region</th>\n",
       "      <th>Start Year</th>\n",
       "      <th>Start Month</th>\n",
       "      <th>End Year</th>\n",
       "      <th>End Month</th>\n",
       "      <th>Total Deaths</th>\n",
       "      <th>No Injured</th>\n",
       "      <th>No Affected</th>\n",
       "      <th>No Homeless</th>\n",
       "      <th>Total Affected</th>\n",
       "    </tr>\n",
       "    <tr>\n",
       "      <th>Country</th>\n",
       "      <th>ISO</th>\n",
       "      <th>Continent</th>\n",
       "      <th></th>\n",
       "      <th></th>\n",
       "      <th></th>\n",
       "      <th></th>\n",
       "      <th></th>\n",
       "      <th></th>\n",
       "      <th></th>\n",
       "      <th></th>\n",
       "      <th></th>\n",
       "      <th></th>\n",
       "      <th></th>\n",
       "      <th></th>\n",
       "      <th></th>\n",
       "      <th></th>\n",
       "    </tr>\n",
       "  </thead>\n",
       "  <tbody>\n",
       "    <tr>\n",
       "      <th>China</th>\n",
       "      <th>CHN</th>\n",
       "      <th>Asia</th>\n",
       "      <td>436</td>\n",
       "      <td>436</td>\n",
       "      <td>436</td>\n",
       "      <td>368</td>\n",
       "      <td>436</td>\n",
       "      <td>436</td>\n",
       "      <td>436</td>\n",
       "      <td>436</td>\n",
       "      <td>426</td>\n",
       "      <td>354</td>\n",
       "      <td>108</td>\n",
       "      <td>319</td>\n",
       "      <td>80</td>\n",
       "      <td>388</td>\n",
       "    </tr>\n",
       "    <tr>\n",
       "      <th>Afghanistan</th>\n",
       "      <th>AFG</th>\n",
       "      <th>Asia</th>\n",
       "      <td>92</td>\n",
       "      <td>92</td>\n",
       "      <td>92</td>\n",
       "      <td>79</td>\n",
       "      <td>92</td>\n",
       "      <td>92</td>\n",
       "      <td>92</td>\n",
       "      <td>92</td>\n",
       "      <td>90</td>\n",
       "      <td>77</td>\n",
       "      <td>27</td>\n",
       "      <td>51</td>\n",
       "      <td>25</td>\n",
       "      <td>68</td>\n",
       "    </tr>\n",
       "    <tr>\n",
       "      <th>Bangladesh</th>\n",
       "      <th>BGD</th>\n",
       "      <th>Asia</th>\n",
       "      <td>105</td>\n",
       "      <td>105</td>\n",
       "      <td>105</td>\n",
       "      <td>83</td>\n",
       "      <td>105</td>\n",
       "      <td>105</td>\n",
       "      <td>105</td>\n",
       "      <td>105</td>\n",
       "      <td>105</td>\n",
       "      <td>93</td>\n",
       "      <td>48</td>\n",
       "      <td>64</td>\n",
       "      <td>21</td>\n",
       "      <td>92</td>\n",
       "    </tr>\n",
       "    <tr>\n",
       "      <th>Bolivia (Plurinational State of)</th>\n",
       "      <th>BOL</th>\n",
       "      <th>Americas</th>\n",
       "      <td>48</td>\n",
       "      <td>48</td>\n",
       "      <td>48</td>\n",
       "      <td>34</td>\n",
       "      <td>48</td>\n",
       "      <td>48</td>\n",
       "      <td>48</td>\n",
       "      <td>48</td>\n",
       "      <td>45</td>\n",
       "      <td>29</td>\n",
       "      <td>10</td>\n",
       "      <td>44</td>\n",
       "      <td>2</td>\n",
       "      <td>47</td>\n",
       "    </tr>\n",
       "    <tr>\n",
       "      <th>Brazil</th>\n",
       "      <th>BRA</th>\n",
       "      <th>Americas</th>\n",
       "      <td>104</td>\n",
       "      <td>104</td>\n",
       "      <td>104</td>\n",
       "      <td>81</td>\n",
       "      <td>104</td>\n",
       "      <td>104</td>\n",
       "      <td>104</td>\n",
       "      <td>104</td>\n",
       "      <td>100</td>\n",
       "      <td>83</td>\n",
       "      <td>25</td>\n",
       "      <td>75</td>\n",
       "      <td>24</td>\n",
       "      <td>96</td>\n",
       "    </tr>\n",
       "  </tbody>\n",
       "</table>\n",
       "</div>"
      ],
      "text/plain": [
       "                                                Dis No  Year  Disaster Type  \\\n",
       "Country                          ISO Continent                                \n",
       "China                            CHN Asia          436   436            436   \n",
       "Afghanistan                      AFG Asia           92    92             92   \n",
       "Bangladesh                       BGD Asia          105   105            105   \n",
       "Bolivia (Plurinational State of) BOL Americas       48    48             48   \n",
       "Brazil                           BRA Americas      104   104            104   \n",
       "\n",
       "                                                Disaster Subtype  Region  \\\n",
       "Country                          ISO Continent                             \n",
       "China                            CHN Asia                    368     436   \n",
       "Afghanistan                      AFG Asia                     79      92   \n",
       "Bangladesh                       BGD Asia                     83     105   \n",
       "Bolivia (Plurinational State of) BOL Americas                 34      48   \n",
       "Brazil                           BRA Americas                 81     104   \n",
       "\n",
       "                                                Start Year  Start Month  \\\n",
       "Country                          ISO Continent                            \n",
       "China                            CHN Asia              436          436   \n",
       "Afghanistan                      AFG Asia               92           92   \n",
       "Bangladesh                       BGD Asia              105          105   \n",
       "Bolivia (Plurinational State of) BOL Americas           48           48   \n",
       "Brazil                           BRA Americas          104          104   \n",
       "\n",
       "                                                End Year  End Month  \\\n",
       "Country                          ISO Continent                        \n",
       "China                            CHN Asia            436        426   \n",
       "Afghanistan                      AFG Asia             92         90   \n",
       "Bangladesh                       BGD Asia            105        105   \n",
       "Bolivia (Plurinational State of) BOL Americas         48         45   \n",
       "Brazil                           BRA Americas        104        100   \n",
       "\n",
       "                                                Total Deaths  No Injured  \\\n",
       "Country                          ISO Continent                             \n",
       "China                            CHN Asia                354         108   \n",
       "Afghanistan                      AFG Asia                 77          27   \n",
       "Bangladesh                       BGD Asia                 93          48   \n",
       "Bolivia (Plurinational State of) BOL Americas             29          10   \n",
       "Brazil                           BRA Americas             83          25   \n",
       "\n",
       "                                                No Affected  No Homeless  \\\n",
       "Country                          ISO Continent                             \n",
       "China                            CHN Asia               319           80   \n",
       "Afghanistan                      AFG Asia                51           25   \n",
       "Bangladesh                       BGD Asia                64           21   \n",
       "Bolivia (Plurinational State of) BOL Americas            44            2   \n",
       "Brazil                           BRA Americas            75           24   \n",
       "\n",
       "                                                Total Affected  \n",
       "Country                          ISO Continent                  \n",
       "China                            CHN Asia                  388  \n",
       "Afghanistan                      AFG Asia                   68  \n",
       "Bangladesh                       BGD Asia                   92  \n",
       "Bolivia (Plurinational State of) BOL Americas               47  \n",
       "Brazil                           BRA Americas               96  "
      ]
     },
     "execution_count": 346,
     "metadata": {},
     "output_type": "execute_result"
    }
   ],
   "source": [
    "disaster_counts_df = cleaned_df_subset.groupby([\"Country\", \"ISO\", \"Continent\"], sort=False).count()\n",
    "disaster_counts_df.head()"
   ]
  },
  {
   "cell_type": "code",
   "execution_count": 347,
   "id": "cdce1e32",
   "metadata": {},
   "outputs": [
    {
     "data": {
      "text/html": [
       "<div>\n",
       "<style scoped>\n",
       "    .dataframe tbody tr th:only-of-type {\n",
       "        vertical-align: middle;\n",
       "    }\n",
       "\n",
       "    .dataframe tbody tr th {\n",
       "        vertical-align: top;\n",
       "    }\n",
       "\n",
       "    .dataframe thead th {\n",
       "        text-align: right;\n",
       "    }\n",
       "</style>\n",
       "<table border=\"1\" class=\"dataframe\">\n",
       "  <thead>\n",
       "    <tr style=\"text-align: right;\">\n",
       "      <th></th>\n",
       "      <th>Country</th>\n",
       "      <th>ISO</th>\n",
       "      <th>Continent</th>\n",
       "      <th>Dis No</th>\n",
       "      <th>Year</th>\n",
       "      <th>Disaster Type</th>\n",
       "      <th>Disaster Subtype</th>\n",
       "      <th>Region</th>\n",
       "      <th>Start Year</th>\n",
       "      <th>Start Month</th>\n",
       "      <th>End Year</th>\n",
       "      <th>End Month</th>\n",
       "      <th>Total Deaths</th>\n",
       "      <th>No Injured</th>\n",
       "      <th>No Affected</th>\n",
       "      <th>No Homeless</th>\n",
       "      <th>Total Affected</th>\n",
       "    </tr>\n",
       "  </thead>\n",
       "  <tbody>\n",
       "    <tr>\n",
       "      <th>0</th>\n",
       "      <td>China</td>\n",
       "      <td>CHN</td>\n",
       "      <td>Asia</td>\n",
       "      <td>436</td>\n",
       "      <td>436</td>\n",
       "      <td>436</td>\n",
       "      <td>368</td>\n",
       "      <td>436</td>\n",
       "      <td>436</td>\n",
       "      <td>436</td>\n",
       "      <td>436</td>\n",
       "      <td>426</td>\n",
       "      <td>354</td>\n",
       "      <td>108</td>\n",
       "      <td>319</td>\n",
       "      <td>80</td>\n",
       "      <td>388</td>\n",
       "    </tr>\n",
       "    <tr>\n",
       "      <th>1</th>\n",
       "      <td>Afghanistan</td>\n",
       "      <td>AFG</td>\n",
       "      <td>Asia</td>\n",
       "      <td>92</td>\n",
       "      <td>92</td>\n",
       "      <td>92</td>\n",
       "      <td>79</td>\n",
       "      <td>92</td>\n",
       "      <td>92</td>\n",
       "      <td>92</td>\n",
       "      <td>92</td>\n",
       "      <td>90</td>\n",
       "      <td>77</td>\n",
       "      <td>27</td>\n",
       "      <td>51</td>\n",
       "      <td>25</td>\n",
       "      <td>68</td>\n",
       "    </tr>\n",
       "    <tr>\n",
       "      <th>2</th>\n",
       "      <td>Bangladesh</td>\n",
       "      <td>BGD</td>\n",
       "      <td>Asia</td>\n",
       "      <td>105</td>\n",
       "      <td>105</td>\n",
       "      <td>105</td>\n",
       "      <td>83</td>\n",
       "      <td>105</td>\n",
       "      <td>105</td>\n",
       "      <td>105</td>\n",
       "      <td>105</td>\n",
       "      <td>105</td>\n",
       "      <td>93</td>\n",
       "      <td>48</td>\n",
       "      <td>64</td>\n",
       "      <td>21</td>\n",
       "      <td>92</td>\n",
       "    </tr>\n",
       "    <tr>\n",
       "      <th>3</th>\n",
       "      <td>Bolivia (Plurinational State of)</td>\n",
       "      <td>BOL</td>\n",
       "      <td>Americas</td>\n",
       "      <td>48</td>\n",
       "      <td>48</td>\n",
       "      <td>48</td>\n",
       "      <td>34</td>\n",
       "      <td>48</td>\n",
       "      <td>48</td>\n",
       "      <td>48</td>\n",
       "      <td>48</td>\n",
       "      <td>45</td>\n",
       "      <td>29</td>\n",
       "      <td>10</td>\n",
       "      <td>44</td>\n",
       "      <td>2</td>\n",
       "      <td>47</td>\n",
       "    </tr>\n",
       "    <tr>\n",
       "      <th>4</th>\n",
       "      <td>Brazil</td>\n",
       "      <td>BRA</td>\n",
       "      <td>Americas</td>\n",
       "      <td>104</td>\n",
       "      <td>104</td>\n",
       "      <td>104</td>\n",
       "      <td>81</td>\n",
       "      <td>104</td>\n",
       "      <td>104</td>\n",
       "      <td>104</td>\n",
       "      <td>104</td>\n",
       "      <td>100</td>\n",
       "      <td>83</td>\n",
       "      <td>25</td>\n",
       "      <td>75</td>\n",
       "      <td>24</td>\n",
       "      <td>96</td>\n",
       "    </tr>\n",
       "  </tbody>\n",
       "</table>\n",
       "</div>"
      ],
      "text/plain": [
       "                            Country  ISO Continent  Dis No  Year  \\\n",
       "0                             China  CHN      Asia     436   436   \n",
       "1                       Afghanistan  AFG      Asia      92    92   \n",
       "2                        Bangladesh  BGD      Asia     105   105   \n",
       "3  Bolivia (Plurinational State of)  BOL  Americas      48    48   \n",
       "4                            Brazil  BRA  Americas     104   104   \n",
       "\n",
       "   Disaster Type  Disaster Subtype  Region  Start Year  Start Month  End Year  \\\n",
       "0            436               368     436         436          436       436   \n",
       "1             92                79      92          92           92        92   \n",
       "2            105                83     105         105          105       105   \n",
       "3             48                34      48          48           48        48   \n",
       "4            104                81     104         104          104       104   \n",
       "\n",
       "   End Month  Total Deaths  No Injured  No Affected  No Homeless  \\\n",
       "0        426           354         108          319           80   \n",
       "1         90            77          27           51           25   \n",
       "2        105            93          48           64           21   \n",
       "3         45            29          10           44            2   \n",
       "4        100            83          25           75           24   \n",
       "\n",
       "   Total Affected  \n",
       "0             388  \n",
       "1              68  \n",
       "2              92  \n",
       "3              47  \n",
       "4              96  "
      ]
     },
     "execution_count": 347,
     "metadata": {},
     "output_type": "execute_result"
    }
   ],
   "source": [
    "disaster_counts_df.reset_index(inplace=True)\n",
    "disaster_counts_df.head()"
   ]
  },
  {
   "cell_type": "code",
   "execution_count": 348,
   "id": "46ce9118",
   "metadata": {},
   "outputs": [
    {
     "data": {
      "text/html": [
       "<div>\n",
       "<style scoped>\n",
       "    .dataframe tbody tr th:only-of-type {\n",
       "        vertical-align: middle;\n",
       "    }\n",
       "\n",
       "    .dataframe tbody tr th {\n",
       "        vertical-align: top;\n",
       "    }\n",
       "\n",
       "    .dataframe thead th {\n",
       "        text-align: right;\n",
       "    }\n",
       "</style>\n",
       "<table border=\"1\" class=\"dataframe\">\n",
       "  <thead>\n",
       "    <tr style=\"text-align: right;\">\n",
       "      <th></th>\n",
       "      <th>Country</th>\n",
       "      <th>ISO</th>\n",
       "      <th>Dis No</th>\n",
       "      <th>Continent</th>\n",
       "    </tr>\n",
       "  </thead>\n",
       "  <tbody>\n",
       "    <tr>\n",
       "      <th>0</th>\n",
       "      <td>China</td>\n",
       "      <td>CHN</td>\n",
       "      <td>436</td>\n",
       "      <td>Asia</td>\n",
       "    </tr>\n",
       "    <tr>\n",
       "      <th>1</th>\n",
       "      <td>Afghanistan</td>\n",
       "      <td>AFG</td>\n",
       "      <td>92</td>\n",
       "      <td>Asia</td>\n",
       "    </tr>\n",
       "    <tr>\n",
       "      <th>2</th>\n",
       "      <td>Bangladesh</td>\n",
       "      <td>BGD</td>\n",
       "      <td>105</td>\n",
       "      <td>Asia</td>\n",
       "    </tr>\n",
       "    <tr>\n",
       "      <th>3</th>\n",
       "      <td>Bolivia (Plurinational State of)</td>\n",
       "      <td>BOL</td>\n",
       "      <td>48</td>\n",
       "      <td>Americas</td>\n",
       "    </tr>\n",
       "    <tr>\n",
       "      <th>4</th>\n",
       "      <td>Brazil</td>\n",
       "      <td>BRA</td>\n",
       "      <td>104</td>\n",
       "      <td>Americas</td>\n",
       "    </tr>\n",
       "  </tbody>\n",
       "</table>\n",
       "</div>"
      ],
      "text/plain": [
       "                            Country  ISO  Dis No Continent\n",
       "0                             China  CHN     436      Asia\n",
       "1                       Afghanistan  AFG      92      Asia\n",
       "2                        Bangladesh  BGD     105      Asia\n",
       "3  Bolivia (Plurinational State of)  BOL      48  Americas\n",
       "4                            Brazil  BRA     104  Americas"
      ]
     },
     "execution_count": 348,
     "metadata": {},
     "output_type": "execute_result"
    }
   ],
   "source": [
    "disaster_counts_df = disaster_counts_df[[\"Country\", \"ISO\", \"Dis No\", \"Continent\"]]\n",
    "disaster_counts_df.head()"
   ]
  },
  {
   "cell_type": "code",
   "execution_count": 349,
   "id": "e0852c6b",
   "metadata": {},
   "outputs": [
    {
     "data": {
      "text/html": [
       "<div>\n",
       "<style scoped>\n",
       "    .dataframe tbody tr th:only-of-type {\n",
       "        vertical-align: middle;\n",
       "    }\n",
       "\n",
       "    .dataframe tbody tr th {\n",
       "        vertical-align: top;\n",
       "    }\n",
       "\n",
       "    .dataframe thead th {\n",
       "        text-align: right;\n",
       "    }\n",
       "</style>\n",
       "<table border=\"1\" class=\"dataframe\">\n",
       "  <thead>\n",
       "    <tr style=\"text-align: right;\">\n",
       "      <th></th>\n",
       "      <th>Country</th>\n",
       "      <th>ISO</th>\n",
       "      <th>Disaster count</th>\n",
       "      <th>Continent</th>\n",
       "    </tr>\n",
       "  </thead>\n",
       "  <tbody>\n",
       "    <tr>\n",
       "      <th>0</th>\n",
       "      <td>China</td>\n",
       "      <td>CHN</td>\n",
       "      <td>436</td>\n",
       "      <td>Asia</td>\n",
       "    </tr>\n",
       "    <tr>\n",
       "      <th>1</th>\n",
       "      <td>Afghanistan</td>\n",
       "      <td>AFG</td>\n",
       "      <td>92</td>\n",
       "      <td>Asia</td>\n",
       "    </tr>\n",
       "    <tr>\n",
       "      <th>2</th>\n",
       "      <td>Bangladesh</td>\n",
       "      <td>BGD</td>\n",
       "      <td>105</td>\n",
       "      <td>Asia</td>\n",
       "    </tr>\n",
       "    <tr>\n",
       "      <th>3</th>\n",
       "      <td>Bolivia (Plurinational State of)</td>\n",
       "      <td>BOL</td>\n",
       "      <td>48</td>\n",
       "      <td>Americas</td>\n",
       "    </tr>\n",
       "    <tr>\n",
       "      <th>4</th>\n",
       "      <td>Brazil</td>\n",
       "      <td>BRA</td>\n",
       "      <td>104</td>\n",
       "      <td>Americas</td>\n",
       "    </tr>\n",
       "  </tbody>\n",
       "</table>\n",
       "</div>"
      ],
      "text/plain": [
       "                            Country  ISO  Disaster count Continent\n",
       "0                             China  CHN             436      Asia\n",
       "1                       Afghanistan  AFG              92      Asia\n",
       "2                        Bangladesh  BGD             105      Asia\n",
       "3  Bolivia (Plurinational State of)  BOL              48  Americas\n",
       "4                            Brazil  BRA             104  Americas"
      ]
     },
     "execution_count": 349,
     "metadata": {},
     "output_type": "execute_result"
    }
   ],
   "source": [
    "disaster_counts_df.rename(columns={\"Dis No\": \"Disaster count\"}, inplace=True)\n",
    "disaster_counts_df.head()"
   ]
  },
  {
   "cell_type": "markdown",
   "id": "6f463b54",
   "metadata": {},
   "source": [
    "#### Create a csv file of the disaster_counts df that will be merged with emissions data for the final visualization"
   ]
  },
  {
   "cell_type": "code",
   "execution_count": 350,
   "id": "6f801939",
   "metadata": {},
   "outputs": [],
   "source": [
    "disaster_counts_df.to_csv(\"data/emdat_disaster_counts_2000_2021.csv\")"
   ]
  },
  {
   "cell_type": "markdown",
   "id": "6a392945",
   "metadata": {},
   "source": [
    "#### Choropleth map of disaster counts"
   ]
  },
  {
   "cell_type": "code",
   "execution_count": 352,
   "id": "5fe0bdd3",
   "metadata": {},
   "outputs": [
    {
     "data": {
      "application/vnd.plotly.v1+json": {
       "config": {
        "plotlyServerURL": "https://plot.ly"
       },
       "data": [
        {
         "colorbar": {
          "title": {
           "text": "Climate-related disaster frequency <br>(2000-2021)<br>"
          }
         },
         "colorscale": [
          [
           0,
           "rgb(243, 231, 155)"
          ],
          [
           0.16666666666666666,
           "rgb(250, 196, 132)"
          ],
          [
           0.3333333333333333,
           "rgb(248, 160, 126)"
          ],
          [
           0.5,
           "rgb(235, 127, 134)"
          ],
          [
           0.6666666666666666,
           "rgb(206, 102, 147)"
          ],
          [
           0.8333333333333334,
           "rgb(160, 89, 160)"
          ],
          [
           1,
           "rgb(92, 83, 165)"
          ]
         ],
         "locations": [
          "CHN",
          "AFG",
          "BGD",
          "BOL",
          "BRA",
          "BTN",
          "AUT",
          "CHL",
          "ARM",
          "BIH",
          "AUS",
          "AGO",
          "ARG",
          "AZE",
          "BDI",
          "BGR",
          "BLZ",
          "BWA",
          "CAN",
          "CAF",
          "IND",
          "LKA",
          "COL",
          "IRN",
          "GTM",
          "IDN",
          "JPN",
          "MEX",
          "MDG",
          "MNG",
          "GBR",
          "HND",
          "NIC",
          "CMR",
          "CUB",
          "CYP",
          "CZE",
          "DZA",
          "ECU",
          "ESP",
          "ETH",
          "FJI",
          "FRA",
          "GEO",
          "GIN",
          "GRC",
          "HRV",
          "HTI",
          "HUN",
          "IRL",
          "ISR",
          "ITA",
          "JAM",
          "JOR",
          "KAZ",
          "KHM",
          "KOR",
          "LAO",
          "MAR",
          "MDA",
          "MKD",
          "MLI",
          "MOZ",
          "MWI",
          "MYS",
          "NAM",
          "NER",
          "NGA",
          "NOR",
          "NPL",
          "NZL",
          "KEN",
          "TWN",
          "PER",
          "PHL",
          "USA",
          "ZMB",
          "ZAF",
          "PRK",
          "PAN",
          "PRT",
          "REU",
          "ROU",
          "RUS",
          "SEN",
          "SLV",
          "SOM",
          "SCG",
          "SVK",
          "SWZ",
          "THA",
          "TJK",
          "TUR",
          "TZA",
          "UGA",
          "UKR",
          "URY",
          "UZB",
          "VEN",
          "VNM",
          "ZWE",
          "SYR",
          "VUT",
          "BFA",
          "BHS",
          "ALB",
          "BEL",
          "BRB",
          "CHE",
          "MRT",
          "COK",
          "CRI",
          "CYM",
          "DEU",
          "DOM",
          "GHA",
          "GMB",
          "LSO",
          "MMR",
          "GRD",
          "CPV",
          "FSM",
          "COG",
          "DNK",
          "EGY",
          "GNB",
          "GUM",
          "LBN",
          "MUS",
          "PAK",
          "TCD",
          "POL",
          "PRI",
          "RWA",
          "SDN",
          "SHN",
          "SPI",
          "TON",
          "WSM",
          "YEM",
          "COD",
          "TLS",
          "PRY",
          "SLB",
          "NLD",
          "OMN",
          "SAU",
          "SWE",
          "SYC",
          "VCT",
          "MNP",
          "ASM",
          "NCL",
          "TUN",
          "BMU",
          "COM",
          "HKG",
          "ERI",
          "DJI",
          "IRQ",
          "LCA",
          "EST",
          "GUY",
          "LTU",
          "LVA",
          "PNG",
          "NIU",
          "SLE",
          "TCA",
          "TTO",
          "VIR",
          "TKL",
          "FIN",
          "BLR",
          "KGZ",
          "SVN",
          "SUR",
          "TGO",
          "GLP",
          "DMA",
          "BEN",
          "CIV",
          "ATG",
          "GAB",
          "MTQ",
          "LBR",
          "MDV",
          "KIR",
          "KNA",
          "MHL",
          "PSE",
          "MNE",
          "SRB",
          "SSD",
          "PYF",
          "LUX",
          "TUV",
          "PLW",
          "LBY",
          "WLF",
          "AIA",
          "ARE",
          "MAC",
          "KWT",
          "QAT",
          "BLM",
          "VGB",
          "MAF",
          "SXM",
          "GUF",
          "IMN",
          "STP"
         ],
         "marker": {
          "line": {
           "color": "darkgray",
           "width": 0.5
          }
         },
         "text": [
          "China",
          "Afghanistan",
          "Bangladesh",
          "Bolivia (Plurinational State of)",
          "Brazil",
          "Bhutan",
          "Austria",
          "Chile",
          "Armenia",
          "Bosnia and Herzegovina",
          "Australia",
          "Angola",
          "Argentina",
          "Azerbaijan",
          "Burundi",
          "Bulgaria",
          "Belize",
          "Botswana",
          "Canada",
          "Central African Republic",
          "India",
          "Sri Lanka",
          "Colombia",
          "Iran (Islamic Republic of)",
          "Guatemala",
          "Indonesia",
          "Japan",
          "Mexico",
          "Madagascar",
          "Mongolia",
          "United Kingdom of Great Britain and Northern Ireland (the)",
          "Honduras",
          "Nicaragua",
          "Cameroon",
          "Cuba",
          "Cyprus",
          "Czech Republic (the)",
          "Algeria",
          "Ecuador",
          "Spain",
          "Ethiopia",
          "Fiji",
          "France",
          "Georgia",
          "Guinea",
          "Greece",
          "Croatia",
          "Haiti",
          "Hungary",
          "Ireland",
          "Israel",
          "Italy",
          "Jamaica",
          "Jordan",
          "Kazakhstan",
          "Cambodia",
          "Korea (the Republic of)",
          "Lao People's Democratic Republic (the)",
          "Morocco",
          "Moldova (the Republic of)",
          "Macedonia (the former Yugoslav Republic of)",
          "Mali",
          "Mozambique",
          "Malawi",
          "Malaysia",
          "Namibia",
          "Niger (the)",
          "Nigeria",
          "Norway",
          "Nepal",
          "New Zealand",
          "Kenya",
          "Taiwan (Province of China)",
          "Peru",
          "Philippines (the)",
          "United States of America (the)",
          "Zambia",
          "South Africa",
          "Korea (the Democratic People's Republic of)",
          "Panama",
          "Portugal",
          "Réunion",
          "Romania",
          "Russian Federation (the)",
          "Senegal",
          "El Salvador",
          "Somalia",
          "Serbia Montenegro",
          "Slovakia",
          "Eswatini",
          "Thailand",
          "Tajikistan",
          "Turkey",
          "Tanzania, United Republic of",
          "Uganda",
          "Ukraine",
          "Uruguay",
          "Uzbekistan",
          "Venezuela (Bolivarian Republic of)",
          "Viet Nam",
          "Zimbabwe",
          "Syrian Arab Republic",
          "Vanuatu",
          "Burkina Faso",
          "Bahamas (the)",
          "Albania",
          "Belgium",
          "Barbados",
          "Switzerland",
          "Mauritania",
          "Cook Islands (the)",
          "Costa Rica",
          "Cayman Islands (the)",
          "Germany",
          "Dominican Republic (the)",
          "Ghana",
          "Gambia (the)",
          "Lesotho",
          "Myanmar",
          "Grenada",
          "Cabo Verde",
          "Micronesia (Federated States of)",
          "Congo (the)",
          "Denmark",
          "Egypt",
          "Guinea-Bissau",
          "Guam",
          "Lebanon",
          "Mauritius",
          "Pakistan",
          "Chad",
          "Poland",
          "Puerto Rico",
          "Rwanda",
          "Sudan (the)",
          "Saint Helena, Ascension and Tristan da Cunha",
          "Canary Is",
          "Tonga",
          "Samoa",
          "Yemen",
          "Congo (the Democratic Republic of the)",
          "Timor-Leste",
          "Paraguay",
          "Solomon Islands",
          "Netherlands (the)",
          "Oman",
          "Saudi Arabia",
          "Sweden",
          "Seychelles",
          "Saint Vincent and the Grenadines",
          "Northern Mariana Islands (the)",
          "American Samoa",
          "New Caledonia",
          "Tunisia",
          "Bermuda",
          "Comoros (the)",
          "Hong Kong",
          "Eritrea",
          "Djibouti",
          "Iraq",
          "Saint Lucia",
          "Estonia",
          "Guyana",
          "Lithuania",
          "Latvia",
          "Papua New Guinea",
          "Niue",
          "Sierra Leone",
          "Turks and Caicos Islands (the)",
          "Trinidad and Tobago",
          "Virgin Island (U.S.)",
          "Tokelau",
          "Finland",
          "Belarus",
          "Kyrgyzstan",
          "Slovenia",
          "Suriname",
          "Togo",
          "Guadeloupe",
          "Dominica",
          "Benin",
          "Côte d’Ivoire",
          "Antigua and Barbuda",
          "Gabon",
          "Martinique",
          "Liberia",
          "Maldives",
          "Kiribati",
          "Saint Kitts and Nevis",
          "Marshall Islands (the)",
          "Palestine, State of",
          "Montenegro",
          "Serbia",
          "South Sudan",
          "French Polynesia",
          "Luxembourg",
          "Tuvalu",
          "Palau",
          "Libya",
          "Wallis and Futuna",
          "Anguilla",
          "United Arab Emirates (the)",
          "Macao",
          "Kuwait",
          "Qatar",
          "Saint Barthélemy",
          "Virgin Island (British)",
          "Saint Martin (French Part)",
          "Sint Maarten (Dutch part)",
          "French Guiana",
          "Isle of Man",
          "Sao Tome and Principe"
         ],
         "type": "choropleth",
         "z": [
          436,
          92,
          105,
          48,
          104,
          4,
          18,
          37,
          6,
          20,
          107,
          49,
          60,
          4,
          40,
          29,
          12,
          11,
          61,
          22,
          284,
          60,
          75,
          51,
          50,
          192,
          107,
          122,
          55,
          19,
          45,
          45,
          37,
          16,
          37,
          5,
          21,
          38,
          24,
          46,
          43,
          28,
          85,
          18,
          15,
          36,
          20,
          77,
          18,
          11,
          9,
          57,
          20,
          5,
          14,
          29,
          50,
          23,
          22,
          8,
          14,
          27,
          60,
          40,
          60,
          21,
          34,
          51,
          5,
          37,
          26,
          58,
          54,
          50,
          278,
          509,
          22,
          60,
          33,
          36,
          25,
          5,
          50,
          88,
          20,
          30,
          50,
          8,
          15,
          11,
          90,
          29,
          41,
          43,
          40,
          20,
          21,
          3,
          28,
          158,
          24,
          10,
          11,
          21,
          15,
          15,
          24,
          6,
          19,
          21,
          3,
          27,
          7,
          42,
          49,
          23,
          17,
          13,
          33,
          3,
          5,
          8,
          11,
          6,
          11,
          7,
          4,
          9,
          4,
          91,
          20,
          27,
          16,
          25,
          30,
          1,
          4,
          10,
          6,
          35,
          39,
          10,
          30,
          15,
          12,
          14,
          23,
          6,
          3,
          10,
          4,
          3,
          2,
          11,
          1,
          6,
          13,
          3,
          8,
          15,
          8,
          1,
          7,
          5,
          3,
          20,
          1,
          10,
          5,
          4,
          3,
          1,
          1,
          2,
          6,
          7,
          3,
          8,
          2,
          4,
          12,
          12,
          3,
          4,
          3,
          6,
          3,
          3,
          2,
          5,
          7,
          5,
          17,
          18,
          2,
          3,
          4,
          4,
          2,
          1,
          1,
          1,
          2,
          1,
          1,
          1,
          2,
          1,
          1,
          1,
          1,
          1
         ]
        }
       ],
       "layout": {
        "geo": {
         "showcoastlines": false,
         "showframe": false
        },
        "template": {
         "data": {
          "bar": [
           {
            "error_x": {
             "color": "#2a3f5f"
            },
            "error_y": {
             "color": "#2a3f5f"
            },
            "marker": {
             "line": {
              "color": "#E5ECF6",
              "width": 0.5
             }
            },
            "type": "bar"
           }
          ],
          "barpolar": [
           {
            "marker": {
             "line": {
              "color": "#E5ECF6",
              "width": 0.5
             }
            },
            "type": "barpolar"
           }
          ],
          "carpet": [
           {
            "aaxis": {
             "endlinecolor": "#2a3f5f",
             "gridcolor": "white",
             "linecolor": "white",
             "minorgridcolor": "white",
             "startlinecolor": "#2a3f5f"
            },
            "baxis": {
             "endlinecolor": "#2a3f5f",
             "gridcolor": "white",
             "linecolor": "white",
             "minorgridcolor": "white",
             "startlinecolor": "#2a3f5f"
            },
            "type": "carpet"
           }
          ],
          "choropleth": [
           {
            "colorbar": {
             "outlinewidth": 0,
             "ticks": ""
            },
            "type": "choropleth"
           }
          ],
          "contour": [
           {
            "colorbar": {
             "outlinewidth": 0,
             "ticks": ""
            },
            "colorscale": [
             [
              0,
              "#0d0887"
             ],
             [
              0.1111111111111111,
              "#46039f"
             ],
             [
              0.2222222222222222,
              "#7201a8"
             ],
             [
              0.3333333333333333,
              "#9c179e"
             ],
             [
              0.4444444444444444,
              "#bd3786"
             ],
             [
              0.5555555555555556,
              "#d8576b"
             ],
             [
              0.6666666666666666,
              "#ed7953"
             ],
             [
              0.7777777777777778,
              "#fb9f3a"
             ],
             [
              0.8888888888888888,
              "#fdca26"
             ],
             [
              1,
              "#f0f921"
             ]
            ],
            "type": "contour"
           }
          ],
          "contourcarpet": [
           {
            "colorbar": {
             "outlinewidth": 0,
             "ticks": ""
            },
            "type": "contourcarpet"
           }
          ],
          "heatmap": [
           {
            "colorbar": {
             "outlinewidth": 0,
             "ticks": ""
            },
            "colorscale": [
             [
              0,
              "#0d0887"
             ],
             [
              0.1111111111111111,
              "#46039f"
             ],
             [
              0.2222222222222222,
              "#7201a8"
             ],
             [
              0.3333333333333333,
              "#9c179e"
             ],
             [
              0.4444444444444444,
              "#bd3786"
             ],
             [
              0.5555555555555556,
              "#d8576b"
             ],
             [
              0.6666666666666666,
              "#ed7953"
             ],
             [
              0.7777777777777778,
              "#fb9f3a"
             ],
             [
              0.8888888888888888,
              "#fdca26"
             ],
             [
              1,
              "#f0f921"
             ]
            ],
            "type": "heatmap"
           }
          ],
          "heatmapgl": [
           {
            "colorbar": {
             "outlinewidth": 0,
             "ticks": ""
            },
            "colorscale": [
             [
              0,
              "#0d0887"
             ],
             [
              0.1111111111111111,
              "#46039f"
             ],
             [
              0.2222222222222222,
              "#7201a8"
             ],
             [
              0.3333333333333333,
              "#9c179e"
             ],
             [
              0.4444444444444444,
              "#bd3786"
             ],
             [
              0.5555555555555556,
              "#d8576b"
             ],
             [
              0.6666666666666666,
              "#ed7953"
             ],
             [
              0.7777777777777778,
              "#fb9f3a"
             ],
             [
              0.8888888888888888,
              "#fdca26"
             ],
             [
              1,
              "#f0f921"
             ]
            ],
            "type": "heatmapgl"
           }
          ],
          "histogram": [
           {
            "marker": {
             "colorbar": {
              "outlinewidth": 0,
              "ticks": ""
             }
            },
            "type": "histogram"
           }
          ],
          "histogram2d": [
           {
            "colorbar": {
             "outlinewidth": 0,
             "ticks": ""
            },
            "colorscale": [
             [
              0,
              "#0d0887"
             ],
             [
              0.1111111111111111,
              "#46039f"
             ],
             [
              0.2222222222222222,
              "#7201a8"
             ],
             [
              0.3333333333333333,
              "#9c179e"
             ],
             [
              0.4444444444444444,
              "#bd3786"
             ],
             [
              0.5555555555555556,
              "#d8576b"
             ],
             [
              0.6666666666666666,
              "#ed7953"
             ],
             [
              0.7777777777777778,
              "#fb9f3a"
             ],
             [
              0.8888888888888888,
              "#fdca26"
             ],
             [
              1,
              "#f0f921"
             ]
            ],
            "type": "histogram2d"
           }
          ],
          "histogram2dcontour": [
           {
            "colorbar": {
             "outlinewidth": 0,
             "ticks": ""
            },
            "colorscale": [
             [
              0,
              "#0d0887"
             ],
             [
              0.1111111111111111,
              "#46039f"
             ],
             [
              0.2222222222222222,
              "#7201a8"
             ],
             [
              0.3333333333333333,
              "#9c179e"
             ],
             [
              0.4444444444444444,
              "#bd3786"
             ],
             [
              0.5555555555555556,
              "#d8576b"
             ],
             [
              0.6666666666666666,
              "#ed7953"
             ],
             [
              0.7777777777777778,
              "#fb9f3a"
             ],
             [
              0.8888888888888888,
              "#fdca26"
             ],
             [
              1,
              "#f0f921"
             ]
            ],
            "type": "histogram2dcontour"
           }
          ],
          "mesh3d": [
           {
            "colorbar": {
             "outlinewidth": 0,
             "ticks": ""
            },
            "type": "mesh3d"
           }
          ],
          "parcoords": [
           {
            "line": {
             "colorbar": {
              "outlinewidth": 0,
              "ticks": ""
             }
            },
            "type": "parcoords"
           }
          ],
          "pie": [
           {
            "automargin": true,
            "type": "pie"
           }
          ],
          "scatter": [
           {
            "marker": {
             "colorbar": {
              "outlinewidth": 0,
              "ticks": ""
             }
            },
            "type": "scatter"
           }
          ],
          "scatter3d": [
           {
            "line": {
             "colorbar": {
              "outlinewidth": 0,
              "ticks": ""
             }
            },
            "marker": {
             "colorbar": {
              "outlinewidth": 0,
              "ticks": ""
             }
            },
            "type": "scatter3d"
           }
          ],
          "scattercarpet": [
           {
            "marker": {
             "colorbar": {
              "outlinewidth": 0,
              "ticks": ""
             }
            },
            "type": "scattercarpet"
           }
          ],
          "scattergeo": [
           {
            "marker": {
             "colorbar": {
              "outlinewidth": 0,
              "ticks": ""
             }
            },
            "type": "scattergeo"
           }
          ],
          "scattergl": [
           {
            "marker": {
             "colorbar": {
              "outlinewidth": 0,
              "ticks": ""
             }
            },
            "type": "scattergl"
           }
          ],
          "scattermapbox": [
           {
            "marker": {
             "colorbar": {
              "outlinewidth": 0,
              "ticks": ""
             }
            },
            "type": "scattermapbox"
           }
          ],
          "scatterpolar": [
           {
            "marker": {
             "colorbar": {
              "outlinewidth": 0,
              "ticks": ""
             }
            },
            "type": "scatterpolar"
           }
          ],
          "scatterpolargl": [
           {
            "marker": {
             "colorbar": {
              "outlinewidth": 0,
              "ticks": ""
             }
            },
            "type": "scatterpolargl"
           }
          ],
          "scatterternary": [
           {
            "marker": {
             "colorbar": {
              "outlinewidth": 0,
              "ticks": ""
             }
            },
            "type": "scatterternary"
           }
          ],
          "surface": [
           {
            "colorbar": {
             "outlinewidth": 0,
             "ticks": ""
            },
            "colorscale": [
             [
              0,
              "#0d0887"
             ],
             [
              0.1111111111111111,
              "#46039f"
             ],
             [
              0.2222222222222222,
              "#7201a8"
             ],
             [
              0.3333333333333333,
              "#9c179e"
             ],
             [
              0.4444444444444444,
              "#bd3786"
             ],
             [
              0.5555555555555556,
              "#d8576b"
             ],
             [
              0.6666666666666666,
              "#ed7953"
             ],
             [
              0.7777777777777778,
              "#fb9f3a"
             ],
             [
              0.8888888888888888,
              "#fdca26"
             ],
             [
              1,
              "#f0f921"
             ]
            ],
            "type": "surface"
           }
          ],
          "table": [
           {
            "cells": {
             "fill": {
              "color": "#EBF0F8"
             },
             "line": {
              "color": "white"
             }
            },
            "header": {
             "fill": {
              "color": "#C8D4E3"
             },
             "line": {
              "color": "white"
             }
            },
            "type": "table"
           }
          ]
         },
         "layout": {
          "annotationdefaults": {
           "arrowcolor": "#2a3f5f",
           "arrowhead": 0,
           "arrowwidth": 1
          },
          "autotypenumbers": "strict",
          "coloraxis": {
           "colorbar": {
            "outlinewidth": 0,
            "ticks": ""
           }
          },
          "colorscale": {
           "diverging": [
            [
             0,
             "#8e0152"
            ],
            [
             0.1,
             "#c51b7d"
            ],
            [
             0.2,
             "#de77ae"
            ],
            [
             0.3,
             "#f1b6da"
            ],
            [
             0.4,
             "#fde0ef"
            ],
            [
             0.5,
             "#f7f7f7"
            ],
            [
             0.6,
             "#e6f5d0"
            ],
            [
             0.7,
             "#b8e186"
            ],
            [
             0.8,
             "#7fbc41"
            ],
            [
             0.9,
             "#4d9221"
            ],
            [
             1,
             "#276419"
            ]
           ],
           "sequential": [
            [
             0,
             "#0d0887"
            ],
            [
             0.1111111111111111,
             "#46039f"
            ],
            [
             0.2222222222222222,
             "#7201a8"
            ],
            [
             0.3333333333333333,
             "#9c179e"
            ],
            [
             0.4444444444444444,
             "#bd3786"
            ],
            [
             0.5555555555555556,
             "#d8576b"
            ],
            [
             0.6666666666666666,
             "#ed7953"
            ],
            [
             0.7777777777777778,
             "#fb9f3a"
            ],
            [
             0.8888888888888888,
             "#fdca26"
            ],
            [
             1,
             "#f0f921"
            ]
           ],
           "sequentialminus": [
            [
             0,
             "#0d0887"
            ],
            [
             0.1111111111111111,
             "#46039f"
            ],
            [
             0.2222222222222222,
             "#7201a8"
            ],
            [
             0.3333333333333333,
             "#9c179e"
            ],
            [
             0.4444444444444444,
             "#bd3786"
            ],
            [
             0.5555555555555556,
             "#d8576b"
            ],
            [
             0.6666666666666666,
             "#ed7953"
            ],
            [
             0.7777777777777778,
             "#fb9f3a"
            ],
            [
             0.8888888888888888,
             "#fdca26"
            ],
            [
             1,
             "#f0f921"
            ]
           ]
          },
          "colorway": [
           "#636efa",
           "#EF553B",
           "#00cc96",
           "#ab63fa",
           "#FFA15A",
           "#19d3f3",
           "#FF6692",
           "#B6E880",
           "#FF97FF",
           "#FECB52"
          ],
          "font": {
           "color": "#2a3f5f"
          },
          "geo": {
           "bgcolor": "white",
           "lakecolor": "white",
           "landcolor": "#E5ECF6",
           "showlakes": true,
           "showland": true,
           "subunitcolor": "white"
          },
          "hoverlabel": {
           "align": "left"
          },
          "hovermode": "closest",
          "mapbox": {
           "style": "light"
          },
          "paper_bgcolor": "white",
          "plot_bgcolor": "#E5ECF6",
          "polar": {
           "angularaxis": {
            "gridcolor": "white",
            "linecolor": "white",
            "ticks": ""
           },
           "bgcolor": "#E5ECF6",
           "radialaxis": {
            "gridcolor": "white",
            "linecolor": "white",
            "ticks": ""
           }
          },
          "scene": {
           "xaxis": {
            "backgroundcolor": "#E5ECF6",
            "gridcolor": "white",
            "gridwidth": 2,
            "linecolor": "white",
            "showbackground": true,
            "ticks": "",
            "zerolinecolor": "white"
           },
           "yaxis": {
            "backgroundcolor": "#E5ECF6",
            "gridcolor": "white",
            "gridwidth": 2,
            "linecolor": "white",
            "showbackground": true,
            "ticks": "",
            "zerolinecolor": "white"
           },
           "zaxis": {
            "backgroundcolor": "#E5ECF6",
            "gridcolor": "white",
            "gridwidth": 2,
            "linecolor": "white",
            "showbackground": true,
            "ticks": "",
            "zerolinecolor": "white"
           }
          },
          "shapedefaults": {
           "line": {
            "color": "#2a3f5f"
           }
          },
          "ternary": {
           "aaxis": {
            "gridcolor": "white",
            "linecolor": "white",
            "ticks": ""
           },
           "baxis": {
            "gridcolor": "white",
            "linecolor": "white",
            "ticks": ""
           },
           "bgcolor": "#E5ECF6",
           "caxis": {
            "gridcolor": "white",
            "linecolor": "white",
            "ticks": ""
           }
          },
          "title": {
           "x": 0.05
          },
          "xaxis": {
           "automargin": true,
           "gridcolor": "white",
           "linecolor": "white",
           "ticks": "",
           "title": {
            "standoff": 15
           },
           "zerolinecolor": "white",
           "zerolinewidth": 2
          },
          "yaxis": {
           "automargin": true,
           "gridcolor": "white",
           "linecolor": "white",
           "ticks": "",
           "title": {
            "standoff": 15
           },
           "zerolinecolor": "white",
           "zerolinewidth": 2
          }
         }
        },
        "title": {
         "text": "Climate-related disaster frequency (2000-2021)"
        }
       }
      },
      "text/html": [
       "<div>                            <div id=\"cd2d9d42-49eb-479b-a1db-12b1a188f51e\" class=\"plotly-graph-div\" style=\"height:525px; width:100%;\"></div>            <script type=\"text/javascript\">                require([\"plotly\"], function(Plotly) {                    window.PLOTLYENV=window.PLOTLYENV || {};                                    if (document.getElementById(\"cd2d9d42-49eb-479b-a1db-12b1a188f51e\")) {                    Plotly.newPlot(                        \"cd2d9d42-49eb-479b-a1db-12b1a188f51e\",                        [{\"colorbar\": {\"title\": {\"text\": \"Climate-related disaster frequency <br>(2000-2021)<br>\"}}, \"colorscale\": [[0.0, \"rgb(243, 231, 155)\"], [0.16666666666666666, \"rgb(250, 196, 132)\"], [0.3333333333333333, \"rgb(248, 160, 126)\"], [0.5, \"rgb(235, 127, 134)\"], [0.6666666666666666, \"rgb(206, 102, 147)\"], [0.8333333333333334, \"rgb(160, 89, 160)\"], [1.0, \"rgb(92, 83, 165)\"]], \"locations\": [\"CHN\", \"AFG\", \"BGD\", \"BOL\", \"BRA\", \"BTN\", \"AUT\", \"CHL\", \"ARM\", \"BIH\", \"AUS\", \"AGO\", \"ARG\", \"AZE\", \"BDI\", \"BGR\", \"BLZ\", \"BWA\", \"CAN\", \"CAF\", \"IND\", \"LKA\", \"COL\", \"IRN\", \"GTM\", \"IDN\", \"JPN\", \"MEX\", \"MDG\", \"MNG\", \"GBR\", \"HND\", \"NIC\", \"CMR\", \"CUB\", \"CYP\", \"CZE\", \"DZA\", \"ECU\", \"ESP\", \"ETH\", \"FJI\", \"FRA\", \"GEO\", \"GIN\", \"GRC\", \"HRV\", \"HTI\", \"HUN\", \"IRL\", \"ISR\", \"ITA\", \"JAM\", \"JOR\", \"KAZ\", \"KHM\", \"KOR\", \"LAO\", \"MAR\", \"MDA\", \"MKD\", \"MLI\", \"MOZ\", \"MWI\", \"MYS\", \"NAM\", \"NER\", \"NGA\", \"NOR\", \"NPL\", \"NZL\", \"KEN\", \"TWN\", \"PER\", \"PHL\", \"USA\", \"ZMB\", \"ZAF\", \"PRK\", \"PAN\", \"PRT\", \"REU\", \"ROU\", \"RUS\", \"SEN\", \"SLV\", \"SOM\", \"SCG\", \"SVK\", \"SWZ\", \"THA\", \"TJK\", \"TUR\", \"TZA\", \"UGA\", \"UKR\", \"URY\", \"UZB\", \"VEN\", \"VNM\", \"ZWE\", \"SYR\", \"VUT\", \"BFA\", \"BHS\", \"ALB\", \"BEL\", \"BRB\", \"CHE\", \"MRT\", \"COK\", \"CRI\", \"CYM\", \"DEU\", \"DOM\", \"GHA\", \"GMB\", \"LSO\", \"MMR\", \"GRD\", \"CPV\", \"FSM\", \"COG\", \"DNK\", \"EGY\", \"GNB\", \"GUM\", \"LBN\", \"MUS\", \"PAK\", \"TCD\", \"POL\", \"PRI\", \"RWA\", \"SDN\", \"SHN\", \"SPI\", \"TON\", \"WSM\", \"YEM\", \"COD\", \"TLS\", \"PRY\", \"SLB\", \"NLD\", \"OMN\", \"SAU\", \"SWE\", \"SYC\", \"VCT\", \"MNP\", \"ASM\", \"NCL\", \"TUN\", \"BMU\", \"COM\", \"HKG\", \"ERI\", \"DJI\", \"IRQ\", \"LCA\", \"EST\", \"GUY\", \"LTU\", \"LVA\", \"PNG\", \"NIU\", \"SLE\", \"TCA\", \"TTO\", \"VIR\", \"TKL\", \"FIN\", \"BLR\", \"KGZ\", \"SVN\", \"SUR\", \"TGO\", \"GLP\", \"DMA\", \"BEN\", \"CIV\", \"ATG\", \"GAB\", \"MTQ\", \"LBR\", \"MDV\", \"KIR\", \"KNA\", \"MHL\", \"PSE\", \"MNE\", \"SRB\", \"SSD\", \"PYF\", \"LUX\", \"TUV\", \"PLW\", \"LBY\", \"WLF\", \"AIA\", \"ARE\", \"MAC\", \"KWT\", \"QAT\", \"BLM\", \"VGB\", \"MAF\", \"SXM\", \"GUF\", \"IMN\", \"STP\"], \"marker\": {\"line\": {\"color\": \"darkgray\", \"width\": 0.5}}, \"text\": [\"China\", \"Afghanistan\", \"Bangladesh\", \"Bolivia (Plurinational State of)\", \"Brazil\", \"Bhutan\", \"Austria\", \"Chile\", \"Armenia\", \"Bosnia and Herzegovina\", \"Australia\", \"Angola\", \"Argentina\", \"Azerbaijan\", \"Burundi\", \"Bulgaria\", \"Belize\", \"Botswana\", \"Canada\", \"Central African Republic\", \"India\", \"Sri Lanka\", \"Colombia\", \"Iran (Islamic Republic of)\", \"Guatemala\", \"Indonesia\", \"Japan\", \"Mexico\", \"Madagascar\", \"Mongolia\", \"United Kingdom of Great Britain and Northern Ireland (the)\", \"Honduras\", \"Nicaragua\", \"Cameroon\", \"Cuba\", \"Cyprus\", \"Czech Republic (the)\", \"Algeria\", \"Ecuador\", \"Spain\", \"Ethiopia\", \"Fiji\", \"France\", \"Georgia\", \"Guinea\", \"Greece\", \"Croatia\", \"Haiti\", \"Hungary\", \"Ireland\", \"Israel\", \"Italy\", \"Jamaica\", \"Jordan\", \"Kazakhstan\", \"Cambodia\", \"Korea (the Republic of)\", \"Lao People's Democratic Republic (the)\", \"Morocco\", \"Moldova (the Republic of)\", \"Macedonia (the former Yugoslav Republic of)\", \"Mali\", \"Mozambique\", \"Malawi\", \"Malaysia\", \"Namibia\", \"Niger (the)\", \"Nigeria\", \"Norway\", \"Nepal\", \"New Zealand\", \"Kenya\", \"Taiwan (Province of China)\", \"Peru\", \"Philippines (the)\", \"United States of America (the)\", \"Zambia\", \"South Africa\", \"Korea (the Democratic People's Republic of)\", \"Panama\", \"Portugal\", \"R\\u00e9union\", \"Romania\", \"Russian Federation (the)\", \"Senegal\", \"El Salvador\", \"Somalia\", \"Serbia Montenegro\", \"Slovakia\", \"Eswatini\", \"Thailand\", \"Tajikistan\", \"Turkey\", \"Tanzania, United Republic of\", \"Uganda\", \"Ukraine\", \"Uruguay\", \"Uzbekistan\", \"Venezuela (Bolivarian Republic of)\", \"Viet Nam\", \"Zimbabwe\", \"Syrian Arab Republic\", \"Vanuatu\", \"Burkina Faso\", \"Bahamas (the)\", \"Albania\", \"Belgium\", \"Barbados\", \"Switzerland\", \"Mauritania\", \"Cook Islands (the)\", \"Costa Rica\", \"Cayman Islands (the)\", \"Germany\", \"Dominican Republic (the)\", \"Ghana\", \"Gambia (the)\", \"Lesotho\", \"Myanmar\", \"Grenada\", \"Cabo Verde\", \"Micronesia (Federated States of)\", \"Congo (the)\", \"Denmark\", \"Egypt\", \"Guinea-Bissau\", \"Guam\", \"Lebanon\", \"Mauritius\", \"Pakistan\", \"Chad\", \"Poland\", \"Puerto Rico\", \"Rwanda\", \"Sudan (the)\", \"Saint Helena, Ascension and Tristan da Cunha\", \"Canary Is\", \"Tonga\", \"Samoa\", \"Yemen\", \"Congo (the Democratic Republic of the)\", \"Timor-Leste\", \"Paraguay\", \"Solomon Islands\", \"Netherlands (the)\", \"Oman\", \"Saudi Arabia\", \"Sweden\", \"Seychelles\", \"Saint Vincent and the Grenadines\", \"Northern Mariana Islands (the)\", \"American Samoa\", \"New Caledonia\", \"Tunisia\", \"Bermuda\", \"Comoros (the)\", \"Hong Kong\", \"Eritrea\", \"Djibouti\", \"Iraq\", \"Saint Lucia\", \"Estonia\", \"Guyana\", \"Lithuania\", \"Latvia\", \"Papua New Guinea\", \"Niue\", \"Sierra Leone\", \"Turks and Caicos Islands (the)\", \"Trinidad and Tobago\", \"Virgin Island (U.S.)\", \"Tokelau\", \"Finland\", \"Belarus\", \"Kyrgyzstan\", \"Slovenia\", \"Suriname\", \"Togo\", \"Guadeloupe\", \"Dominica\", \"Benin\", \"C\\u00f4te d\\u2019Ivoire\", \"Antigua and Barbuda\", \"Gabon\", \"Martinique\", \"Liberia\", \"Maldives\", \"Kiribati\", \"Saint Kitts and Nevis\", \"Marshall Islands (the)\", \"Palestine, State of\", \"Montenegro\", \"Serbia\", \"South Sudan\", \"French Polynesia\", \"Luxembourg\", \"Tuvalu\", \"Palau\", \"Libya\", \"Wallis and Futuna\", \"Anguilla\", \"United Arab Emirates (the)\", \"Macao\", \"Kuwait\", \"Qatar\", \"Saint Barth\\u00e9lemy\", \"Virgin Island (British)\", \"Saint Martin (French Part)\", \"Sint Maarten (Dutch part)\", \"French Guiana\", \"Isle of Man\", \"Sao Tome and Principe\"], \"type\": \"choropleth\", \"z\": [436, 92, 105, 48, 104, 4, 18, 37, 6, 20, 107, 49, 60, 4, 40, 29, 12, 11, 61, 22, 284, 60, 75, 51, 50, 192, 107, 122, 55, 19, 45, 45, 37, 16, 37, 5, 21, 38, 24, 46, 43, 28, 85, 18, 15, 36, 20, 77, 18, 11, 9, 57, 20, 5, 14, 29, 50, 23, 22, 8, 14, 27, 60, 40, 60, 21, 34, 51, 5, 37, 26, 58, 54, 50, 278, 509, 22, 60, 33, 36, 25, 5, 50, 88, 20, 30, 50, 8, 15, 11, 90, 29, 41, 43, 40, 20, 21, 3, 28, 158, 24, 10, 11, 21, 15, 15, 24, 6, 19, 21, 3, 27, 7, 42, 49, 23, 17, 13, 33, 3, 5, 8, 11, 6, 11, 7, 4, 9, 4, 91, 20, 27, 16, 25, 30, 1, 4, 10, 6, 35, 39, 10, 30, 15, 12, 14, 23, 6, 3, 10, 4, 3, 2, 11, 1, 6, 13, 3, 8, 15, 8, 1, 7, 5, 3, 20, 1, 10, 5, 4, 3, 1, 1, 2, 6, 7, 3, 8, 2, 4, 12, 12, 3, 4, 3, 6, 3, 3, 2, 5, 7, 5, 17, 18, 2, 3, 4, 4, 2, 1, 1, 1, 2, 1, 1, 1, 2, 1, 1, 1, 1, 1]}],                        {\"geo\": {\"showcoastlines\": false, \"showframe\": false}, \"template\": {\"data\": {\"bar\": [{\"error_x\": {\"color\": \"#2a3f5f\"}, \"error_y\": {\"color\": \"#2a3f5f\"}, \"marker\": {\"line\": {\"color\": \"#E5ECF6\", \"width\": 0.5}}, \"type\": \"bar\"}], \"barpolar\": [{\"marker\": {\"line\": {\"color\": \"#E5ECF6\", \"width\": 0.5}}, \"type\": \"barpolar\"}], \"carpet\": [{\"aaxis\": {\"endlinecolor\": \"#2a3f5f\", \"gridcolor\": \"white\", \"linecolor\": \"white\", \"minorgridcolor\": \"white\", \"startlinecolor\": \"#2a3f5f\"}, \"baxis\": {\"endlinecolor\": \"#2a3f5f\", \"gridcolor\": \"white\", \"linecolor\": \"white\", \"minorgridcolor\": \"white\", \"startlinecolor\": \"#2a3f5f\"}, \"type\": \"carpet\"}], \"choropleth\": [{\"colorbar\": {\"outlinewidth\": 0, \"ticks\": \"\"}, \"type\": \"choropleth\"}], \"contour\": [{\"colorbar\": {\"outlinewidth\": 0, \"ticks\": \"\"}, \"colorscale\": [[0.0, \"#0d0887\"], [0.1111111111111111, \"#46039f\"], [0.2222222222222222, \"#7201a8\"], [0.3333333333333333, \"#9c179e\"], [0.4444444444444444, \"#bd3786\"], [0.5555555555555556, \"#d8576b\"], [0.6666666666666666, \"#ed7953\"], [0.7777777777777778, \"#fb9f3a\"], [0.8888888888888888, \"#fdca26\"], [1.0, \"#f0f921\"]], \"type\": \"contour\"}], \"contourcarpet\": [{\"colorbar\": {\"outlinewidth\": 0, \"ticks\": \"\"}, \"type\": \"contourcarpet\"}], \"heatmap\": [{\"colorbar\": {\"outlinewidth\": 0, \"ticks\": \"\"}, \"colorscale\": [[0.0, \"#0d0887\"], [0.1111111111111111, \"#46039f\"], [0.2222222222222222, \"#7201a8\"], [0.3333333333333333, \"#9c179e\"], [0.4444444444444444, \"#bd3786\"], [0.5555555555555556, \"#d8576b\"], [0.6666666666666666, \"#ed7953\"], [0.7777777777777778, \"#fb9f3a\"], [0.8888888888888888, \"#fdca26\"], [1.0, \"#f0f921\"]], \"type\": \"heatmap\"}], \"heatmapgl\": [{\"colorbar\": {\"outlinewidth\": 0, \"ticks\": \"\"}, \"colorscale\": [[0.0, \"#0d0887\"], [0.1111111111111111, \"#46039f\"], [0.2222222222222222, \"#7201a8\"], [0.3333333333333333, \"#9c179e\"], [0.4444444444444444, \"#bd3786\"], [0.5555555555555556, \"#d8576b\"], [0.6666666666666666, \"#ed7953\"], [0.7777777777777778, \"#fb9f3a\"], [0.8888888888888888, \"#fdca26\"], [1.0, \"#f0f921\"]], \"type\": \"heatmapgl\"}], \"histogram\": [{\"marker\": {\"colorbar\": {\"outlinewidth\": 0, \"ticks\": \"\"}}, \"type\": \"histogram\"}], \"histogram2d\": [{\"colorbar\": {\"outlinewidth\": 0, \"ticks\": \"\"}, \"colorscale\": [[0.0, \"#0d0887\"], [0.1111111111111111, \"#46039f\"], [0.2222222222222222, \"#7201a8\"], [0.3333333333333333, \"#9c179e\"], [0.4444444444444444, \"#bd3786\"], [0.5555555555555556, \"#d8576b\"], [0.6666666666666666, \"#ed7953\"], [0.7777777777777778, \"#fb9f3a\"], [0.8888888888888888, \"#fdca26\"], [1.0, \"#f0f921\"]], \"type\": \"histogram2d\"}], \"histogram2dcontour\": [{\"colorbar\": {\"outlinewidth\": 0, \"ticks\": \"\"}, \"colorscale\": [[0.0, \"#0d0887\"], [0.1111111111111111, \"#46039f\"], [0.2222222222222222, \"#7201a8\"], [0.3333333333333333, \"#9c179e\"], [0.4444444444444444, \"#bd3786\"], [0.5555555555555556, \"#d8576b\"], [0.6666666666666666, \"#ed7953\"], [0.7777777777777778, \"#fb9f3a\"], [0.8888888888888888, \"#fdca26\"], [1.0, \"#f0f921\"]], \"type\": \"histogram2dcontour\"}], \"mesh3d\": [{\"colorbar\": {\"outlinewidth\": 0, \"ticks\": \"\"}, \"type\": \"mesh3d\"}], \"parcoords\": [{\"line\": {\"colorbar\": {\"outlinewidth\": 0, \"ticks\": \"\"}}, \"type\": \"parcoords\"}], \"pie\": [{\"automargin\": true, \"type\": \"pie\"}], \"scatter\": [{\"marker\": {\"colorbar\": {\"outlinewidth\": 0, \"ticks\": \"\"}}, \"type\": \"scatter\"}], \"scatter3d\": [{\"line\": {\"colorbar\": {\"outlinewidth\": 0, \"ticks\": \"\"}}, \"marker\": {\"colorbar\": {\"outlinewidth\": 0, \"ticks\": \"\"}}, \"type\": \"scatter3d\"}], \"scattercarpet\": [{\"marker\": {\"colorbar\": {\"outlinewidth\": 0, \"ticks\": \"\"}}, \"type\": \"scattercarpet\"}], \"scattergeo\": [{\"marker\": {\"colorbar\": {\"outlinewidth\": 0, \"ticks\": \"\"}}, \"type\": \"scattergeo\"}], \"scattergl\": [{\"marker\": {\"colorbar\": {\"outlinewidth\": 0, \"ticks\": \"\"}}, \"type\": \"scattergl\"}], \"scattermapbox\": [{\"marker\": {\"colorbar\": {\"outlinewidth\": 0, \"ticks\": \"\"}}, \"type\": \"scattermapbox\"}], \"scatterpolar\": [{\"marker\": {\"colorbar\": {\"outlinewidth\": 0, \"ticks\": \"\"}}, \"type\": \"scatterpolar\"}], \"scatterpolargl\": [{\"marker\": {\"colorbar\": {\"outlinewidth\": 0, \"ticks\": \"\"}}, \"type\": \"scatterpolargl\"}], \"scatterternary\": [{\"marker\": {\"colorbar\": {\"outlinewidth\": 0, \"ticks\": \"\"}}, \"type\": \"scatterternary\"}], \"surface\": [{\"colorbar\": {\"outlinewidth\": 0, \"ticks\": \"\"}, \"colorscale\": [[0.0, \"#0d0887\"], [0.1111111111111111, \"#46039f\"], [0.2222222222222222, \"#7201a8\"], [0.3333333333333333, \"#9c179e\"], [0.4444444444444444, \"#bd3786\"], [0.5555555555555556, \"#d8576b\"], [0.6666666666666666, \"#ed7953\"], [0.7777777777777778, \"#fb9f3a\"], [0.8888888888888888, \"#fdca26\"], [1.0, \"#f0f921\"]], \"type\": \"surface\"}], \"table\": [{\"cells\": {\"fill\": {\"color\": \"#EBF0F8\"}, \"line\": {\"color\": \"white\"}}, \"header\": {\"fill\": {\"color\": \"#C8D4E3\"}, \"line\": {\"color\": \"white\"}}, \"type\": \"table\"}]}, \"layout\": {\"annotationdefaults\": {\"arrowcolor\": \"#2a3f5f\", \"arrowhead\": 0, \"arrowwidth\": 1}, \"autotypenumbers\": \"strict\", \"coloraxis\": {\"colorbar\": {\"outlinewidth\": 0, \"ticks\": \"\"}}, \"colorscale\": {\"diverging\": [[0, \"#8e0152\"], [0.1, \"#c51b7d\"], [0.2, \"#de77ae\"], [0.3, \"#f1b6da\"], [0.4, \"#fde0ef\"], [0.5, \"#f7f7f7\"], [0.6, \"#e6f5d0\"], [0.7, \"#b8e186\"], [0.8, \"#7fbc41\"], [0.9, \"#4d9221\"], [1, \"#276419\"]], \"sequential\": [[0.0, \"#0d0887\"], [0.1111111111111111, \"#46039f\"], [0.2222222222222222, \"#7201a8\"], [0.3333333333333333, \"#9c179e\"], [0.4444444444444444, \"#bd3786\"], [0.5555555555555556, \"#d8576b\"], [0.6666666666666666, \"#ed7953\"], [0.7777777777777778, \"#fb9f3a\"], [0.8888888888888888, \"#fdca26\"], [1.0, \"#f0f921\"]], \"sequentialminus\": [[0.0, \"#0d0887\"], [0.1111111111111111, \"#46039f\"], [0.2222222222222222, \"#7201a8\"], [0.3333333333333333, \"#9c179e\"], [0.4444444444444444, \"#bd3786\"], [0.5555555555555556, \"#d8576b\"], [0.6666666666666666, \"#ed7953\"], [0.7777777777777778, \"#fb9f3a\"], [0.8888888888888888, \"#fdca26\"], [1.0, \"#f0f921\"]]}, \"colorway\": [\"#636efa\", \"#EF553B\", \"#00cc96\", \"#ab63fa\", \"#FFA15A\", \"#19d3f3\", \"#FF6692\", \"#B6E880\", \"#FF97FF\", \"#FECB52\"], \"font\": {\"color\": \"#2a3f5f\"}, \"geo\": {\"bgcolor\": \"white\", \"lakecolor\": \"white\", \"landcolor\": \"#E5ECF6\", \"showlakes\": true, \"showland\": true, \"subunitcolor\": \"white\"}, \"hoverlabel\": {\"align\": \"left\"}, \"hovermode\": \"closest\", \"mapbox\": {\"style\": \"light\"}, \"paper_bgcolor\": \"white\", \"plot_bgcolor\": \"#E5ECF6\", \"polar\": {\"angularaxis\": {\"gridcolor\": \"white\", \"linecolor\": \"white\", \"ticks\": \"\"}, \"bgcolor\": \"#E5ECF6\", \"radialaxis\": {\"gridcolor\": \"white\", \"linecolor\": \"white\", \"ticks\": \"\"}}, \"scene\": {\"xaxis\": {\"backgroundcolor\": \"#E5ECF6\", \"gridcolor\": \"white\", \"gridwidth\": 2, \"linecolor\": \"white\", \"showbackground\": true, \"ticks\": \"\", \"zerolinecolor\": \"white\"}, \"yaxis\": {\"backgroundcolor\": \"#E5ECF6\", \"gridcolor\": \"white\", \"gridwidth\": 2, \"linecolor\": \"white\", \"showbackground\": true, \"ticks\": \"\", \"zerolinecolor\": \"white\"}, \"zaxis\": {\"backgroundcolor\": \"#E5ECF6\", \"gridcolor\": \"white\", \"gridwidth\": 2, \"linecolor\": \"white\", \"showbackground\": true, \"ticks\": \"\", \"zerolinecolor\": \"white\"}}, \"shapedefaults\": {\"line\": {\"color\": \"#2a3f5f\"}}, \"ternary\": {\"aaxis\": {\"gridcolor\": \"white\", \"linecolor\": \"white\", \"ticks\": \"\"}, \"baxis\": {\"gridcolor\": \"white\", \"linecolor\": \"white\", \"ticks\": \"\"}, \"bgcolor\": \"#E5ECF6\", \"caxis\": {\"gridcolor\": \"white\", \"linecolor\": \"white\", \"ticks\": \"\"}}, \"title\": {\"x\": 0.05}, \"xaxis\": {\"automargin\": true, \"gridcolor\": \"white\", \"linecolor\": \"white\", \"ticks\": \"\", \"title\": {\"standoff\": 15}, \"zerolinecolor\": \"white\", \"zerolinewidth\": 2}, \"yaxis\": {\"automargin\": true, \"gridcolor\": \"white\", \"linecolor\": \"white\", \"ticks\": \"\", \"title\": {\"standoff\": 15}, \"zerolinecolor\": \"white\", \"zerolinewidth\": 2}}}, \"title\": {\"text\": \"Climate-related disaster frequency (2000-2021)\"}},                        {\"responsive\": true}                    ).then(function(){\n",
       "                            \n",
       "var gd = document.getElementById('cd2d9d42-49eb-479b-a1db-12b1a188f51e');\n",
       "var x = new MutationObserver(function (mutations, observer) {{\n",
       "        var display = window.getComputedStyle(gd).display;\n",
       "        if (!display || display === 'none') {{\n",
       "            console.log([gd, 'removed!']);\n",
       "            Plotly.purge(gd);\n",
       "            observer.disconnect();\n",
       "        }}\n",
       "}});\n",
       "\n",
       "// Listen for the removal of the full notebook cells\n",
       "var notebookContainer = gd.closest('#notebook-container');\n",
       "if (notebookContainer) {{\n",
       "    x.observe(notebookContainer, {childList: true});\n",
       "}}\n",
       "\n",
       "// Listen for the clearing of the current output cell\n",
       "var outputEl = gd.closest('.output');\n",
       "if (outputEl) {{\n",
       "    x.observe(outputEl, {childList: true});\n",
       "}}\n",
       "\n",
       "                        })                };                });            </script>        </div>"
      ]
     },
     "metadata": {},
     "output_type": "display_data"
    }
   ],
   "source": [
    "fig = go.Figure(data=go.Choropleth(\n",
    "    locations = disaster_counts_df[\"ISO\"],\n",
    "    z = disaster_counts_df[\"Disaster count\"],\n",
    "    text = disaster_counts_df[\"Country\"],\n",
    "    colorscale = \"sunset\",\n",
    "    marker_line_color=\"darkgray\",\n",
    "    marker_line_width=0.5,\n",
    "    colorbar_title = \"Climate-related disaster frequency <br>(2000-2021)<br>\",\n",
    "))\n",
    "\n",
    "fig.update_layout(\n",
    "    title_text=\"Climate-related disaster frequency (2000-2021)\",\n",
    "    geo=dict(\n",
    "        showframe=False,\n",
    "        showcoastlines=False,\n",
    "    )\n",
    ")\n",
    "\n",
    "fig.show()"
   ]
  },
  {
   "cell_type": "markdown",
   "id": "0f3ec549",
   "metadata": {},
   "source": [
    "# Data processing & visualization - Method 2 - Disaster comparison scale (Fire vs Flood)"
   ]
  },
  {
   "cell_type": "markdown",
   "id": "4a19d5aa",
   "metadata": {},
   "source": [
    "**Note**: Thie method did not end up getting used in the final report"
   ]
  },
  {
   "cell_type": "markdown",
   "id": "505b4059",
   "metadata": {},
   "source": [
    "### Data processing"
   ]
  },
  {
   "cell_type": "markdown",
   "id": "e07ce709",
   "metadata": {},
   "source": [
    "#### Remove rows with disasters that are not relevant to our Fire vs Flood visualization (i.e anything other than Flood, Wildfire and Drought)"
   ]
  },
  {
   "cell_type": "code",
   "execution_count": 147,
   "id": "bb6af854",
   "metadata": {},
   "outputs": [],
   "source": [
    "relevant_disasters = [\"Flood\", \"Drought\", \"Wildfire\"]\n",
    "cleaned_df_2 = cleaned_df_subset[cleaned_df_subset[\"Disaster Type\"].isin(relevant_disasters)]"
   ]
  },
  {
   "cell_type": "markdown",
   "id": "0d4c1ca7",
   "metadata": {},
   "source": [
    "#### Count the number of disasters by country"
   ]
  },
  {
   "cell_type": "code",
   "execution_count": 153,
   "id": "fcf54df6",
   "metadata": {},
   "outputs": [
    {
     "data": {
      "text/html": [
       "<div>\n",
       "<style scoped>\n",
       "    .dataframe tbody tr th:only-of-type {\n",
       "        vertical-align: middle;\n",
       "    }\n",
       "\n",
       "    .dataframe tbody tr th {\n",
       "        vertical-align: top;\n",
       "    }\n",
       "\n",
       "    .dataframe thead th {\n",
       "        text-align: right;\n",
       "    }\n",
       "</style>\n",
       "<table border=\"1\" class=\"dataframe\">\n",
       "  <thead>\n",
       "    <tr style=\"text-align: right;\">\n",
       "      <th></th>\n",
       "      <th>Dis No</th>\n",
       "      <th>Year</th>\n",
       "      <th>Disaster Type</th>\n",
       "      <th>Disaster Subtype</th>\n",
       "      <th>Country</th>\n",
       "      <th>ISO</th>\n",
       "      <th>Region</th>\n",
       "      <th>Continent</th>\n",
       "      <th>Start Year</th>\n",
       "      <th>Start Month</th>\n",
       "      <th>End Year</th>\n",
       "      <th>End Month</th>\n",
       "      <th>Total Deaths</th>\n",
       "      <th>No Injured</th>\n",
       "      <th>No Affected</th>\n",
       "      <th>No Homeless</th>\n",
       "      <th>Total Affected</th>\n",
       "    </tr>\n",
       "  </thead>\n",
       "  <tbody>\n",
       "    <tr>\n",
       "      <th>15033</th>\n",
       "      <td>2021-0411-AUT</td>\n",
       "      <td>2021</td>\n",
       "      <td>Flood</td>\n",
       "      <td>NaN</td>\n",
       "      <td>Austria</td>\n",
       "      <td>AUT</td>\n",
       "      <td>Western Europe</td>\n",
       "      <td>Europe</td>\n",
       "      <td>2021</td>\n",
       "      <td>7.0</td>\n",
       "      <td>2021</td>\n",
       "      <td>7.0</td>\n",
       "      <td>1.0</td>\n",
       "      <td>NaN</td>\n",
       "      <td>NaN</td>\n",
       "      <td>NaN</td>\n",
       "      <td>NaN</td>\n",
       "    </tr>\n",
       "    <tr>\n",
       "      <th>15034</th>\n",
       "      <td>2021-0455-BGD</td>\n",
       "      <td>2021</td>\n",
       "      <td>Flood</td>\n",
       "      <td>NaN</td>\n",
       "      <td>Bangladesh</td>\n",
       "      <td>BGD</td>\n",
       "      <td>Southern Asia</td>\n",
       "      <td>Asia</td>\n",
       "      <td>2021</td>\n",
       "      <td>7.0</td>\n",
       "      <td>2021</td>\n",
       "      <td>8.0</td>\n",
       "      <td>21.0</td>\n",
       "      <td>NaN</td>\n",
       "      <td>268744.0</td>\n",
       "      <td>NaN</td>\n",
       "      <td>268744.0</td>\n",
       "    </tr>\n",
       "    <tr>\n",
       "      <th>15035</th>\n",
       "      <td>2021-0725-BIH</td>\n",
       "      <td>2021</td>\n",
       "      <td>Flood</td>\n",
       "      <td>Flash flood</td>\n",
       "      <td>Bosnia and Herzegovina</td>\n",
       "      <td>BIH</td>\n",
       "      <td>Southern Europe</td>\n",
       "      <td>Europe</td>\n",
       "      <td>2021</td>\n",
       "      <td>11.0</td>\n",
       "      <td>2021</td>\n",
       "      <td>11.0</td>\n",
       "      <td>NaN</td>\n",
       "      <td>NaN</td>\n",
       "      <td>250000.0</td>\n",
       "      <td>NaN</td>\n",
       "      <td>250000.0</td>\n",
       "    </tr>\n",
       "    <tr>\n",
       "      <th>15036</th>\n",
       "      <td>2021-0332-BRA</td>\n",
       "      <td>2021</td>\n",
       "      <td>Flood</td>\n",
       "      <td>Flash flood</td>\n",
       "      <td>Brazil</td>\n",
       "      <td>BRA</td>\n",
       "      <td>South America</td>\n",
       "      <td>Americas</td>\n",
       "      <td>2021</td>\n",
       "      <td>6.0</td>\n",
       "      <td>2021</td>\n",
       "      <td>6.0</td>\n",
       "      <td>2.0</td>\n",
       "      <td>NaN</td>\n",
       "      <td>2400.0</td>\n",
       "      <td>NaN</td>\n",
       "      <td>2400.0</td>\n",
       "    </tr>\n",
       "    <tr>\n",
       "      <th>15037</th>\n",
       "      <td>2021-0040-BRA</td>\n",
       "      <td>2021</td>\n",
       "      <td>Flood</td>\n",
       "      <td>NaN</td>\n",
       "      <td>Brazil</td>\n",
       "      <td>BRA</td>\n",
       "      <td>South America</td>\n",
       "      <td>Americas</td>\n",
       "      <td>2021</td>\n",
       "      <td>1.0</td>\n",
       "      <td>2021</td>\n",
       "      <td>1.0</td>\n",
       "      <td>2.0</td>\n",
       "      <td>2.0</td>\n",
       "      <td>105.0</td>\n",
       "      <td>NaN</td>\n",
       "      <td>107.0</td>\n",
       "    </tr>\n",
       "  </tbody>\n",
       "</table>\n",
       "</div>"
      ],
      "text/plain": [
       "              Dis No  Year Disaster Type Disaster Subtype  \\\n",
       "15033  2021-0411-AUT  2021         Flood              NaN   \n",
       "15034  2021-0455-BGD  2021         Flood              NaN   \n",
       "15035  2021-0725-BIH  2021         Flood      Flash flood   \n",
       "15036  2021-0332-BRA  2021         Flood      Flash flood   \n",
       "15037  2021-0040-BRA  2021         Flood              NaN   \n",
       "\n",
       "                      Country  ISO           Region Continent  Start Year  \\\n",
       "15033                 Austria  AUT   Western Europe    Europe        2021   \n",
       "15034              Bangladesh  BGD    Southern Asia      Asia        2021   \n",
       "15035  Bosnia and Herzegovina  BIH  Southern Europe    Europe        2021   \n",
       "15036                  Brazil  BRA    South America  Americas        2021   \n",
       "15037                  Brazil  BRA    South America  Americas        2021   \n",
       "\n",
       "       Start Month  End Year  End Month  Total Deaths  No Injured  \\\n",
       "15033          7.0      2021        7.0           1.0         NaN   \n",
       "15034          7.0      2021        8.0          21.0         NaN   \n",
       "15035         11.0      2021       11.0           NaN         NaN   \n",
       "15036          6.0      2021        6.0           2.0         NaN   \n",
       "15037          1.0      2021        1.0           2.0         2.0   \n",
       "\n",
       "       No Affected  No Homeless  Total Affected  \n",
       "15033          NaN          NaN             NaN  \n",
       "15034     268744.0          NaN        268744.0  \n",
       "15035     250000.0          NaN        250000.0  \n",
       "15036       2400.0          NaN          2400.0  \n",
       "15037        105.0          NaN           107.0  "
      ]
     },
     "execution_count": 153,
     "metadata": {},
     "output_type": "execute_result"
    }
   ],
   "source": [
    "# First trying this on just 2021, as a test\n",
    "chosen_years_2 = [2021]\n",
    "cleaned_df_subset_2 = cleaned_df_2[cleaned_df_2[\"Year\"].isin(chosen_years_2)]\n",
    "cleaned_df_subset_2.head()"
   ]
  },
  {
   "cell_type": "code",
   "execution_count": 154,
   "id": "7af678c5",
   "metadata": {},
   "outputs": [
    {
     "data": {
      "text/plain": [
       "2021    259\n",
       "Name: Year, dtype: int64"
      ]
     },
     "execution_count": 154,
     "metadata": {},
     "output_type": "execute_result"
    }
   ],
   "source": [
    "cleaned_df_subset_2[\"Year\"].value_counts()"
   ]
  },
  {
   "cell_type": "markdown",
   "id": "97318710",
   "metadata": {},
   "source": [
    "#### Introducing an idea we came up with: a comparison scale for disasters to allow us compare floods vs drought & wildfires \n",
    "Floods are marked with -1 while drought & wildfires are marked with +1. Later, when each country's data is summed up, it will allow us to see, at a glance, whether floods or drought & wildfires are more prevalent in a country in a given year"
   ]
  },
  {
   "cell_type": "code",
   "execution_count": 155,
   "id": "fc2fd8cc",
   "metadata": {},
   "outputs": [
    {
     "name": "stderr",
     "output_type": "stream",
     "text": [
      "/var/folders/32/t8k4f_4d55nds458_sr5k_d80000gn/T/ipykernel_16988/2080101570.py:2: SettingWithCopyWarning:\n",
      "\n",
      "\n",
      "A value is trying to be set on a copy of a slice from a DataFrame.\n",
      "Try using .loc[row_indexer,col_indexer] = value instead\n",
      "\n",
      "See the caveats in the documentation: https://pandas.pydata.org/pandas-docs/stable/user_guide/indexing.html#returning-a-view-versus-a-copy\n",
      "\n"
     ]
    },
    {
     "data": {
      "text/html": [
       "<div>\n",
       "<style scoped>\n",
       "    .dataframe tbody tr th:only-of-type {\n",
       "        vertical-align: middle;\n",
       "    }\n",
       "\n",
       "    .dataframe tbody tr th {\n",
       "        vertical-align: top;\n",
       "    }\n",
       "\n",
       "    .dataframe thead th {\n",
       "        text-align: right;\n",
       "    }\n",
       "</style>\n",
       "<table border=\"1\" class=\"dataframe\">\n",
       "  <thead>\n",
       "    <tr style=\"text-align: right;\">\n",
       "      <th></th>\n",
       "      <th>Dis No</th>\n",
       "      <th>Year</th>\n",
       "      <th>Disaster Type</th>\n",
       "      <th>Disaster Subtype</th>\n",
       "      <th>Country</th>\n",
       "      <th>ISO</th>\n",
       "      <th>Region</th>\n",
       "      <th>Continent</th>\n",
       "      <th>Start Year</th>\n",
       "      <th>Start Month</th>\n",
       "      <th>End Year</th>\n",
       "      <th>End Month</th>\n",
       "      <th>Total Deaths</th>\n",
       "      <th>No Injured</th>\n",
       "      <th>No Affected</th>\n",
       "      <th>No Homeless</th>\n",
       "      <th>Total Affected</th>\n",
       "      <th>Disaster Comparison Scale</th>\n",
       "    </tr>\n",
       "  </thead>\n",
       "  <tbody>\n",
       "    <tr>\n",
       "      <th>15033</th>\n",
       "      <td>2021-0411-AUT</td>\n",
       "      <td>2021</td>\n",
       "      <td>Flood</td>\n",
       "      <td>NaN</td>\n",
       "      <td>Austria</td>\n",
       "      <td>AUT</td>\n",
       "      <td>Western Europe</td>\n",
       "      <td>Europe</td>\n",
       "      <td>2021</td>\n",
       "      <td>7.0</td>\n",
       "      <td>2021</td>\n",
       "      <td>7.0</td>\n",
       "      <td>1.0</td>\n",
       "      <td>NaN</td>\n",
       "      <td>NaN</td>\n",
       "      <td>NaN</td>\n",
       "      <td>NaN</td>\n",
       "      <td>-1</td>\n",
       "    </tr>\n",
       "    <tr>\n",
       "      <th>15034</th>\n",
       "      <td>2021-0455-BGD</td>\n",
       "      <td>2021</td>\n",
       "      <td>Flood</td>\n",
       "      <td>NaN</td>\n",
       "      <td>Bangladesh</td>\n",
       "      <td>BGD</td>\n",
       "      <td>Southern Asia</td>\n",
       "      <td>Asia</td>\n",
       "      <td>2021</td>\n",
       "      <td>7.0</td>\n",
       "      <td>2021</td>\n",
       "      <td>8.0</td>\n",
       "      <td>21.0</td>\n",
       "      <td>NaN</td>\n",
       "      <td>268744.0</td>\n",
       "      <td>NaN</td>\n",
       "      <td>268744.0</td>\n",
       "      <td>-1</td>\n",
       "    </tr>\n",
       "    <tr>\n",
       "      <th>15035</th>\n",
       "      <td>2021-0725-BIH</td>\n",
       "      <td>2021</td>\n",
       "      <td>Flood</td>\n",
       "      <td>Flash flood</td>\n",
       "      <td>Bosnia and Herzegovina</td>\n",
       "      <td>BIH</td>\n",
       "      <td>Southern Europe</td>\n",
       "      <td>Europe</td>\n",
       "      <td>2021</td>\n",
       "      <td>11.0</td>\n",
       "      <td>2021</td>\n",
       "      <td>11.0</td>\n",
       "      <td>NaN</td>\n",
       "      <td>NaN</td>\n",
       "      <td>250000.0</td>\n",
       "      <td>NaN</td>\n",
       "      <td>250000.0</td>\n",
       "      <td>-1</td>\n",
       "    </tr>\n",
       "    <tr>\n",
       "      <th>15036</th>\n",
       "      <td>2021-0332-BRA</td>\n",
       "      <td>2021</td>\n",
       "      <td>Flood</td>\n",
       "      <td>Flash flood</td>\n",
       "      <td>Brazil</td>\n",
       "      <td>BRA</td>\n",
       "      <td>South America</td>\n",
       "      <td>Americas</td>\n",
       "      <td>2021</td>\n",
       "      <td>6.0</td>\n",
       "      <td>2021</td>\n",
       "      <td>6.0</td>\n",
       "      <td>2.0</td>\n",
       "      <td>NaN</td>\n",
       "      <td>2400.0</td>\n",
       "      <td>NaN</td>\n",
       "      <td>2400.0</td>\n",
       "      <td>-1</td>\n",
       "    </tr>\n",
       "    <tr>\n",
       "      <th>15037</th>\n",
       "      <td>2021-0040-BRA</td>\n",
       "      <td>2021</td>\n",
       "      <td>Flood</td>\n",
       "      <td>NaN</td>\n",
       "      <td>Brazil</td>\n",
       "      <td>BRA</td>\n",
       "      <td>South America</td>\n",
       "      <td>Americas</td>\n",
       "      <td>2021</td>\n",
       "      <td>1.0</td>\n",
       "      <td>2021</td>\n",
       "      <td>1.0</td>\n",
       "      <td>2.0</td>\n",
       "      <td>2.0</td>\n",
       "      <td>105.0</td>\n",
       "      <td>NaN</td>\n",
       "      <td>107.0</td>\n",
       "      <td>-1</td>\n",
       "    </tr>\n",
       "  </tbody>\n",
       "</table>\n",
       "</div>"
      ],
      "text/plain": [
       "              Dis No  Year Disaster Type Disaster Subtype  \\\n",
       "15033  2021-0411-AUT  2021         Flood              NaN   \n",
       "15034  2021-0455-BGD  2021         Flood              NaN   \n",
       "15035  2021-0725-BIH  2021         Flood      Flash flood   \n",
       "15036  2021-0332-BRA  2021         Flood      Flash flood   \n",
       "15037  2021-0040-BRA  2021         Flood              NaN   \n",
       "\n",
       "                      Country  ISO           Region Continent  Start Year  \\\n",
       "15033                 Austria  AUT   Western Europe    Europe        2021   \n",
       "15034              Bangladesh  BGD    Southern Asia      Asia        2021   \n",
       "15035  Bosnia and Herzegovina  BIH  Southern Europe    Europe        2021   \n",
       "15036                  Brazil  BRA    South America  Americas        2021   \n",
       "15037                  Brazil  BRA    South America  Americas        2021   \n",
       "\n",
       "       Start Month  End Year  End Month  Total Deaths  No Injured  \\\n",
       "15033          7.0      2021        7.0           1.0         NaN   \n",
       "15034          7.0      2021        8.0          21.0         NaN   \n",
       "15035         11.0      2021       11.0           NaN         NaN   \n",
       "15036          6.0      2021        6.0           2.0         NaN   \n",
       "15037          1.0      2021        1.0           2.0         2.0   \n",
       "\n",
       "       No Affected  No Homeless  Total Affected  Disaster Comparison Scale  \n",
       "15033          NaN          NaN             NaN                         -1  \n",
       "15034     268744.0          NaN        268744.0                         -1  \n",
       "15035     250000.0          NaN        250000.0                         -1  \n",
       "15036       2400.0          NaN          2400.0                         -1  \n",
       "15037        105.0          NaN           107.0                         -1  "
      ]
     },
     "execution_count": 155,
     "metadata": {},
     "output_type": "execute_result"
    }
   ],
   "source": [
    "# Trying out the use of a scale: -1 for Flood and 1 for Wildfire/Drought\n",
    "cleaned_df_subset_2[\"Disaster Comparison Scale\"] = cleaned_df_subset_2[\"Disaster Type\"].apply(lambda x: -1 if x==\"Flood\" else 1)\n",
    "cleaned_df_subset_2.head()"
   ]
  },
  {
   "cell_type": "markdown",
   "id": "6b5ff5ff",
   "metadata": {},
   "source": [
    "#### Grouping data by country"
   ]
  },
  {
   "cell_type": "code",
   "execution_count": 156,
   "id": "0a4b0545",
   "metadata": {},
   "outputs": [
    {
     "data": {
      "text/plain": [
       "<pandas.core.groupby.generic.DataFrameGroupBy object at 0x14719eca0>"
      ]
     },
     "execution_count": 156,
     "metadata": {},
     "output_type": "execute_result"
    }
   ],
   "source": [
    "group_by_object = cleaned_df_subset_2.groupby([\"Country\"], sort=False)\n",
    "group_by_object"
   ]
  },
  {
   "cell_type": "code",
   "execution_count": 157,
   "id": "cc999e47",
   "metadata": {},
   "outputs": [
    {
     "data": {
      "text/html": [
       "<div>\n",
       "<style scoped>\n",
       "    .dataframe tbody tr th:only-of-type {\n",
       "        vertical-align: middle;\n",
       "    }\n",
       "\n",
       "    .dataframe tbody tr th {\n",
       "        vertical-align: top;\n",
       "    }\n",
       "\n",
       "    .dataframe thead th {\n",
       "        text-align: right;\n",
       "    }\n",
       "</style>\n",
       "<table border=\"1\" class=\"dataframe\">\n",
       "  <thead>\n",
       "    <tr style=\"text-align: right;\">\n",
       "      <th></th>\n",
       "      <th>Year</th>\n",
       "      <th>Start Year</th>\n",
       "      <th>Start Month</th>\n",
       "      <th>End Year</th>\n",
       "      <th>End Month</th>\n",
       "      <th>Total Deaths</th>\n",
       "      <th>No Injured</th>\n",
       "      <th>No Affected</th>\n",
       "      <th>No Homeless</th>\n",
       "      <th>Total Affected</th>\n",
       "      <th>Disaster Comparison Scale</th>\n",
       "    </tr>\n",
       "    <tr>\n",
       "      <th>Country</th>\n",
       "      <th></th>\n",
       "      <th></th>\n",
       "      <th></th>\n",
       "      <th></th>\n",
       "      <th></th>\n",
       "      <th></th>\n",
       "      <th></th>\n",
       "      <th></th>\n",
       "      <th></th>\n",
       "      <th></th>\n",
       "      <th></th>\n",
       "    </tr>\n",
       "  </thead>\n",
       "  <tbody>\n",
       "    <tr>\n",
       "      <th>Austria</th>\n",
       "      <td>2021</td>\n",
       "      <td>2021</td>\n",
       "      <td>7.0</td>\n",
       "      <td>2021</td>\n",
       "      <td>7.0</td>\n",
       "      <td>1.0</td>\n",
       "      <td>0.0</td>\n",
       "      <td>0.0</td>\n",
       "      <td>0.0</td>\n",
       "      <td>0.0</td>\n",
       "      <td>-1</td>\n",
       "    </tr>\n",
       "    <tr>\n",
       "      <th>Bangladesh</th>\n",
       "      <td>2021</td>\n",
       "      <td>2021</td>\n",
       "      <td>7.0</td>\n",
       "      <td>2021</td>\n",
       "      <td>8.0</td>\n",
       "      <td>21.0</td>\n",
       "      <td>0.0</td>\n",
       "      <td>268744.0</td>\n",
       "      <td>0.0</td>\n",
       "      <td>268744.0</td>\n",
       "      <td>-1</td>\n",
       "    </tr>\n",
       "    <tr>\n",
       "      <th>Bosnia and Herzegovina</th>\n",
       "      <td>2021</td>\n",
       "      <td>2021</td>\n",
       "      <td>11.0</td>\n",
       "      <td>2021</td>\n",
       "      <td>11.0</td>\n",
       "      <td>0.0</td>\n",
       "      <td>0.0</td>\n",
       "      <td>250000.0</td>\n",
       "      <td>0.0</td>\n",
       "      <td>250000.0</td>\n",
       "      <td>-1</td>\n",
       "    </tr>\n",
       "    <tr>\n",
       "      <th>Brazil</th>\n",
       "      <td>18189</td>\n",
       "      <td>18189</td>\n",
       "      <td>35.0</td>\n",
       "      <td>18190</td>\n",
       "      <td>38.0</td>\n",
       "      <td>62.0</td>\n",
       "      <td>533.0</td>\n",
       "      <td>1607517.0</td>\n",
       "      <td>0.0</td>\n",
       "      <td>1608050.0</td>\n",
       "      <td>-7</td>\n",
       "    </tr>\n",
       "    <tr>\n",
       "      <th>Bhutan</th>\n",
       "      <td>2021</td>\n",
       "      <td>2021</td>\n",
       "      <td>6.0</td>\n",
       "      <td>2021</td>\n",
       "      <td>6.0</td>\n",
       "      <td>10.0</td>\n",
       "      <td>0.0</td>\n",
       "      <td>0.0</td>\n",
       "      <td>0.0</td>\n",
       "      <td>0.0</td>\n",
       "      <td>-1</td>\n",
       "    </tr>\n",
       "    <tr>\n",
       "      <th>...</th>\n",
       "      <td>...</td>\n",
       "      <td>...</td>\n",
       "      <td>...</td>\n",
       "      <td>...</td>\n",
       "      <td>...</td>\n",
       "      <td>...</td>\n",
       "      <td>...</td>\n",
       "      <td>...</td>\n",
       "      <td>...</td>\n",
       "      <td>...</td>\n",
       "      <td>...</td>\n",
       "    </tr>\n",
       "    <tr>\n",
       "      <th>Chad</th>\n",
       "      <td>2021</td>\n",
       "      <td>2021</td>\n",
       "      <td>6.0</td>\n",
       "      <td>2021</td>\n",
       "      <td>8.0</td>\n",
       "      <td>32.0</td>\n",
       "      <td>329.0</td>\n",
       "      <td>246851.0</td>\n",
       "      <td>22000.0</td>\n",
       "      <td>269180.0</td>\n",
       "      <td>-1</td>\n",
       "    </tr>\n",
       "    <tr>\n",
       "      <th>Tuvalu</th>\n",
       "      <td>2021</td>\n",
       "      <td>2021</td>\n",
       "      <td>1.0</td>\n",
       "      <td>2021</td>\n",
       "      <td>6.0</td>\n",
       "      <td>0.0</td>\n",
       "      <td>0.0</td>\n",
       "      <td>10204.0</td>\n",
       "      <td>0.0</td>\n",
       "      <td>10204.0</td>\n",
       "      <td>1</td>\n",
       "    </tr>\n",
       "    <tr>\n",
       "      <th>Tanzania, United Republic of</th>\n",
       "      <td>4042</td>\n",
       "      <td>4042</td>\n",
       "      <td>12.0</td>\n",
       "      <td>4043</td>\n",
       "      <td>5.0</td>\n",
       "      <td>1.0</td>\n",
       "      <td>0.0</td>\n",
       "      <td>499000.0</td>\n",
       "      <td>0.0</td>\n",
       "      <td>499000.0</td>\n",
       "      <td>0</td>\n",
       "    </tr>\n",
       "    <tr>\n",
       "      <th>Yemen</th>\n",
       "      <td>4042</td>\n",
       "      <td>4042</td>\n",
       "      <td>12.0</td>\n",
       "      <td>4042</td>\n",
       "      <td>13.0</td>\n",
       "      <td>46.0</td>\n",
       "      <td>28.0</td>\n",
       "      <td>228180.0</td>\n",
       "      <td>0.0</td>\n",
       "      <td>228208.0</td>\n",
       "      <td>-2</td>\n",
       "    </tr>\n",
       "    <tr>\n",
       "      <th>Serbia</th>\n",
       "      <td>2021</td>\n",
       "      <td>2021</td>\n",
       "      <td>1.0</td>\n",
       "      <td>2021</td>\n",
       "      <td>1.0</td>\n",
       "      <td>0.0</td>\n",
       "      <td>0.0</td>\n",
       "      <td>22.0</td>\n",
       "      <td>0.0</td>\n",
       "      <td>22.0</td>\n",
       "      <td>-1</td>\n",
       "    </tr>\n",
       "  </tbody>\n",
       "</table>\n",
       "<p>101 rows × 11 columns</p>\n",
       "</div>"
      ],
      "text/plain": [
       "                               Year  Start Year  Start Month  End Year  \\\n",
       "Country                                                                  \n",
       "Austria                        2021        2021          7.0      2021   \n",
       "Bangladesh                     2021        2021          7.0      2021   \n",
       "Bosnia and Herzegovina         2021        2021         11.0      2021   \n",
       "Brazil                        18189       18189         35.0     18190   \n",
       "Bhutan                         2021        2021          6.0      2021   \n",
       "...                             ...         ...          ...       ...   \n",
       "Chad                           2021        2021          6.0      2021   \n",
       "Tuvalu                         2021        2021          1.0      2021   \n",
       "Tanzania, United Republic of   4042        4042         12.0      4043   \n",
       "Yemen                          4042        4042         12.0      4042   \n",
       "Serbia                         2021        2021          1.0      2021   \n",
       "\n",
       "                              End Month  Total Deaths  No Injured  \\\n",
       "Country                                                             \n",
       "Austria                             7.0           1.0         0.0   \n",
       "Bangladesh                          8.0          21.0         0.0   \n",
       "Bosnia and Herzegovina             11.0           0.0         0.0   \n",
       "Brazil                             38.0          62.0       533.0   \n",
       "Bhutan                              6.0          10.0         0.0   \n",
       "...                                 ...           ...         ...   \n",
       "Chad                                8.0          32.0       329.0   \n",
       "Tuvalu                              6.0           0.0         0.0   \n",
       "Tanzania, United Republic of        5.0           1.0         0.0   \n",
       "Yemen                              13.0          46.0        28.0   \n",
       "Serbia                              1.0           0.0         0.0   \n",
       "\n",
       "                              No Affected  No Homeless  Total Affected  \\\n",
       "Country                                                                  \n",
       "Austria                               0.0          0.0             0.0   \n",
       "Bangladesh                       268744.0          0.0        268744.0   \n",
       "Bosnia and Herzegovina           250000.0          0.0        250000.0   \n",
       "Brazil                          1607517.0          0.0       1608050.0   \n",
       "Bhutan                                0.0          0.0             0.0   \n",
       "...                                   ...          ...             ...   \n",
       "Chad                             246851.0      22000.0        269180.0   \n",
       "Tuvalu                            10204.0          0.0         10204.0   \n",
       "Tanzania, United Republic of     499000.0          0.0        499000.0   \n",
       "Yemen                            228180.0          0.0        228208.0   \n",
       "Serbia                               22.0          0.0            22.0   \n",
       "\n",
       "                              Disaster Comparison Scale  \n",
       "Country                                                  \n",
       "Austria                                              -1  \n",
       "Bangladesh                                           -1  \n",
       "Bosnia and Herzegovina                               -1  \n",
       "Brazil                                               -7  \n",
       "Bhutan                                               -1  \n",
       "...                                                 ...  \n",
       "Chad                                                 -1  \n",
       "Tuvalu                                                1  \n",
       "Tanzania, United Republic of                          0  \n",
       "Yemen                                                -2  \n",
       "Serbia                                               -1  \n",
       "\n",
       "[101 rows x 11 columns]"
      ]
     },
     "execution_count": 157,
     "metadata": {},
     "output_type": "execute_result"
    }
   ],
   "source": [
    "aggregated_df = group_by_object.agg(\"sum\")\n",
    "aggregated_df"
   ]
  },
  {
   "cell_type": "code",
   "execution_count": 158,
   "id": "5d6552bc",
   "metadata": {},
   "outputs": [
    {
     "data": {
      "text/plain": [
       "-18.0"
      ]
     },
     "execution_count": 158,
     "metadata": {},
     "output_type": "execute_result"
    }
   ],
   "source": [
    "aggregated_df.loc[\"Indonesia\"][\"Disaster Comparison Scale\"]"
   ]
  },
  {
   "cell_type": "markdown",
   "id": "79175431",
   "metadata": {},
   "source": [
    "Testing on a random country:"
   ]
  },
  {
   "cell_type": "code",
   "execution_count": 160,
   "id": "c7f199fd",
   "metadata": {},
   "outputs": [
    {
     "name": "stdout",
     "output_type": "stream",
     "text": [
      "Flood    18\n",
      "Name: Disaster Type, dtype: int64\n"
     ]
    }
   ],
   "source": [
    "country = \"Indonesia\"\n",
    "country_data = group_by_object.get_group(country)[\"Disaster Type\"].value_counts()\n",
    "print(country_data)"
   ]
  },
  {
   "cell_type": "code",
   "execution_count": 164,
   "id": "21f3e2d3",
   "metadata": {},
   "outputs": [
    {
     "data": {
      "text/plain": [
       "18"
      ]
     },
     "execution_count": 164,
     "metadata": {},
     "output_type": "execute_result"
    }
   ],
   "source": [
    "len(cleaned_df_subset_2[cleaned_df_subset_2[\"Country\"] == \"Indonesia\"])"
   ]
  },
  {
   "cell_type": "markdown",
   "id": "0c8c3d59",
   "metadata": {},
   "source": [
    "#### Extract the disaster comparison scale"
   ]
  },
  {
   "cell_type": "code",
   "execution_count": 165,
   "id": "c89b31be",
   "metadata": {},
   "outputs": [
    {
     "data": {
      "text/plain": [
       "Country\n",
       "Austria                        -1\n",
       "Bangladesh                     -1\n",
       "Bosnia and Herzegovina         -1\n",
       "Brazil                         -7\n",
       "Bhutan                         -1\n",
       "                               ..\n",
       "Chad                           -1\n",
       "Tuvalu                          1\n",
       "Tanzania, United Republic of    0\n",
       "Yemen                          -2\n",
       "Serbia                         -1\n",
       "Name: Disaster Comparison Scale, Length: 101, dtype: int64"
      ]
     },
     "execution_count": 165,
     "metadata": {},
     "output_type": "execute_result"
    }
   ],
   "source": [
    "comparison_scale = aggregated_df[\"Disaster Comparison Scale\"]\n",
    "comparison_scale"
   ]
  },
  {
   "cell_type": "code",
   "execution_count": 166,
   "id": "da113d96",
   "metadata": {},
   "outputs": [
    {
     "data": {
      "text/plain": [
       "-1     45\n",
       " 0     14\n",
       "-2     12\n",
       " 1      8\n",
       "-3      8\n",
       "-4      3\n",
       "-5      3\n",
       "-7      2\n",
       "-8      2\n",
       "-6      1\n",
       "-9      1\n",
       "-10     1\n",
       "-18     1\n",
       "Name: Disaster Comparison Scale, dtype: int64"
      ]
     },
     "execution_count": 166,
     "metadata": {},
     "output_type": "execute_result"
    }
   ],
   "source": [
    "comparison_scale.value_counts()"
   ]
  },
  {
   "cell_type": "code",
   "execution_count": 167,
   "id": "2ad1d492",
   "metadata": {},
   "outputs": [],
   "source": [
    "comparison_scale_dict = comparison_scale.to_dict()"
   ]
  },
  {
   "cell_type": "markdown",
   "id": "302d32db",
   "metadata": {},
   "source": [
    "#### It seems that most countries have more floods than drought/wildfires. Extracting the countries that have more drought/wildfires to see which ones they are"
   ]
  },
  {
   "cell_type": "code",
   "execution_count": 168,
   "id": "407bc96a",
   "metadata": {},
   "outputs": [
    {
     "data": {
      "text/plain": [
       "Country\n",
       "Cyprus                                         1\n",
       "Greece                                         1\n",
       "Kazakhstan                                     1\n",
       "Macedonia (the former Yugoslav Republic of)    1\n",
       "Honduras                                       1\n",
       "Zambia                                         1\n",
       "Zimbabwe                                       1\n",
       "Tuvalu                                         1\n",
       "Name: Disaster Comparison Scale, dtype: int64"
      ]
     },
     "execution_count": 168,
     "metadata": {},
     "output_type": "execute_result"
    }
   ],
   "source": [
    "aggregated_df[aggregated_df[\"Disaster Comparison Scale\"] > 0][\"Disaster Comparison Scale\"]"
   ]
  },
  {
   "cell_type": "markdown",
   "id": "3a3dd6eb",
   "metadata": {},
   "source": [
    "### Visualization"
   ]
  },
  {
   "cell_type": "markdown",
   "id": "9602bd35",
   "metadata": {},
   "source": [
    "#### Add comparison scale values back to \"reduced\" dataset in order to visualize them on a map"
   ]
  },
  {
   "cell_type": "code",
   "execution_count": 169,
   "id": "fbbc804d",
   "metadata": {},
   "outputs": [
    {
     "name": "stderr",
     "output_type": "stream",
     "text": [
      "/var/folders/32/t8k4f_4d55nds458_sr5k_d80000gn/T/ipykernel_16988/67076709.py:1: SettingWithCopyWarning:\n",
      "\n",
      "\n",
      "A value is trying to be set on a copy of a slice from a DataFrame.\n",
      "Try using .loc[row_indexer,col_indexer] = value instead\n",
      "\n",
      "See the caveats in the documentation: https://pandas.pydata.org/pandas-docs/stable/user_guide/indexing.html#returning-a-view-versus-a-copy\n",
      "\n"
     ]
    },
    {
     "data": {
      "text/html": [
       "<div>\n",
       "<style scoped>\n",
       "    .dataframe tbody tr th:only-of-type {\n",
       "        vertical-align: middle;\n",
       "    }\n",
       "\n",
       "    .dataframe tbody tr th {\n",
       "        vertical-align: top;\n",
       "    }\n",
       "\n",
       "    .dataframe thead th {\n",
       "        text-align: right;\n",
       "    }\n",
       "</style>\n",
       "<table border=\"1\" class=\"dataframe\">\n",
       "  <thead>\n",
       "    <tr style=\"text-align: right;\">\n",
       "      <th></th>\n",
       "      <th>Dis No</th>\n",
       "      <th>Year</th>\n",
       "      <th>Disaster Type</th>\n",
       "      <th>Disaster Subtype</th>\n",
       "      <th>Country</th>\n",
       "      <th>ISO</th>\n",
       "      <th>Region</th>\n",
       "      <th>Continent</th>\n",
       "      <th>Start Year</th>\n",
       "      <th>Start Month</th>\n",
       "      <th>End Year</th>\n",
       "      <th>End Month</th>\n",
       "      <th>Total Deaths</th>\n",
       "      <th>No Injured</th>\n",
       "      <th>No Affected</th>\n",
       "      <th>No Homeless</th>\n",
       "      <th>Total Affected</th>\n",
       "      <th>Disaster Comparison Scale</th>\n",
       "      <th>Final Disaster Comparison Scale</th>\n",
       "    </tr>\n",
       "  </thead>\n",
       "  <tbody>\n",
       "    <tr>\n",
       "      <th>15033</th>\n",
       "      <td>2021-0411-AUT</td>\n",
       "      <td>2021</td>\n",
       "      <td>Flood</td>\n",
       "      <td>NaN</td>\n",
       "      <td>Austria</td>\n",
       "      <td>AUT</td>\n",
       "      <td>Western Europe</td>\n",
       "      <td>Europe</td>\n",
       "      <td>2021</td>\n",
       "      <td>7.0</td>\n",
       "      <td>2021</td>\n",
       "      <td>7.0</td>\n",
       "      <td>1.0</td>\n",
       "      <td>NaN</td>\n",
       "      <td>NaN</td>\n",
       "      <td>NaN</td>\n",
       "      <td>NaN</td>\n",
       "      <td>-1</td>\n",
       "      <td>-1.0</td>\n",
       "    </tr>\n",
       "    <tr>\n",
       "      <th>15034</th>\n",
       "      <td>2021-0455-BGD</td>\n",
       "      <td>2021</td>\n",
       "      <td>Flood</td>\n",
       "      <td>NaN</td>\n",
       "      <td>Bangladesh</td>\n",
       "      <td>BGD</td>\n",
       "      <td>Southern Asia</td>\n",
       "      <td>Asia</td>\n",
       "      <td>2021</td>\n",
       "      <td>7.0</td>\n",
       "      <td>2021</td>\n",
       "      <td>8.0</td>\n",
       "      <td>21.0</td>\n",
       "      <td>NaN</td>\n",
       "      <td>268744.0</td>\n",
       "      <td>NaN</td>\n",
       "      <td>268744.0</td>\n",
       "      <td>-1</td>\n",
       "      <td>-1.0</td>\n",
       "    </tr>\n",
       "    <tr>\n",
       "      <th>15035</th>\n",
       "      <td>2021-0725-BIH</td>\n",
       "      <td>2021</td>\n",
       "      <td>Flood</td>\n",
       "      <td>Flash flood</td>\n",
       "      <td>Bosnia and Herzegovina</td>\n",
       "      <td>BIH</td>\n",
       "      <td>Southern Europe</td>\n",
       "      <td>Europe</td>\n",
       "      <td>2021</td>\n",
       "      <td>11.0</td>\n",
       "      <td>2021</td>\n",
       "      <td>11.0</td>\n",
       "      <td>NaN</td>\n",
       "      <td>NaN</td>\n",
       "      <td>250000.0</td>\n",
       "      <td>NaN</td>\n",
       "      <td>250000.0</td>\n",
       "      <td>-1</td>\n",
       "      <td>-1.0</td>\n",
       "    </tr>\n",
       "    <tr>\n",
       "      <th>15036</th>\n",
       "      <td>2021-0332-BRA</td>\n",
       "      <td>2021</td>\n",
       "      <td>Flood</td>\n",
       "      <td>Flash flood</td>\n",
       "      <td>Brazil</td>\n",
       "      <td>BRA</td>\n",
       "      <td>South America</td>\n",
       "      <td>Americas</td>\n",
       "      <td>2021</td>\n",
       "      <td>6.0</td>\n",
       "      <td>2021</td>\n",
       "      <td>6.0</td>\n",
       "      <td>2.0</td>\n",
       "      <td>NaN</td>\n",
       "      <td>2400.0</td>\n",
       "      <td>NaN</td>\n",
       "      <td>2400.0</td>\n",
       "      <td>-1</td>\n",
       "      <td>-7.0</td>\n",
       "    </tr>\n",
       "    <tr>\n",
       "      <th>15037</th>\n",
       "      <td>2021-0040-BRA</td>\n",
       "      <td>2021</td>\n",
       "      <td>Flood</td>\n",
       "      <td>NaN</td>\n",
       "      <td>Brazil</td>\n",
       "      <td>BRA</td>\n",
       "      <td>South America</td>\n",
       "      <td>Americas</td>\n",
       "      <td>2021</td>\n",
       "      <td>1.0</td>\n",
       "      <td>2021</td>\n",
       "      <td>1.0</td>\n",
       "      <td>2.0</td>\n",
       "      <td>2.0</td>\n",
       "      <td>105.0</td>\n",
       "      <td>NaN</td>\n",
       "      <td>107.0</td>\n",
       "      <td>-1</td>\n",
       "      <td>-7.0</td>\n",
       "    </tr>\n",
       "    <tr>\n",
       "      <th>15038</th>\n",
       "      <td>2021-0087-BRA</td>\n",
       "      <td>2021</td>\n",
       "      <td>Flood</td>\n",
       "      <td>NaN</td>\n",
       "      <td>Brazil</td>\n",
       "      <td>BRA</td>\n",
       "      <td>South America</td>\n",
       "      <td>Americas</td>\n",
       "      <td>2021</td>\n",
       "      <td>2.0</td>\n",
       "      <td>2021</td>\n",
       "      <td>2.0</td>\n",
       "      <td>6.0</td>\n",
       "      <td>NaN</td>\n",
       "      <td>100000.0</td>\n",
       "      <td>NaN</td>\n",
       "      <td>100000.0</td>\n",
       "      <td>-1</td>\n",
       "      <td>-7.0</td>\n",
       "    </tr>\n",
       "    <tr>\n",
       "      <th>15039</th>\n",
       "      <td>2021-0308-BTN</td>\n",
       "      <td>2021</td>\n",
       "      <td>Flood</td>\n",
       "      <td>Flash flood</td>\n",
       "      <td>Bhutan</td>\n",
       "      <td>BTN</td>\n",
       "      <td>Southern Asia</td>\n",
       "      <td>Asia</td>\n",
       "      <td>2021</td>\n",
       "      <td>6.0</td>\n",
       "      <td>2021</td>\n",
       "      <td>6.0</td>\n",
       "      <td>10.0</td>\n",
       "      <td>NaN</td>\n",
       "      <td>NaN</td>\n",
       "      <td>NaN</td>\n",
       "      <td>NaN</td>\n",
       "      <td>-1</td>\n",
       "      <td>-1.0</td>\n",
       "    </tr>\n",
       "    <tr>\n",
       "      <th>15040</th>\n",
       "      <td>2021-0741-CAN</td>\n",
       "      <td>2021</td>\n",
       "      <td>Flood</td>\n",
       "      <td>NaN</td>\n",
       "      <td>Canada</td>\n",
       "      <td>CAN</td>\n",
       "      <td>Northern America</td>\n",
       "      <td>Americas</td>\n",
       "      <td>2021</td>\n",
       "      <td>11.0</td>\n",
       "      <td>2021</td>\n",
       "      <td>11.0</td>\n",
       "      <td>4.0</td>\n",
       "      <td>NaN</td>\n",
       "      <td>15000.0</td>\n",
       "      <td>NaN</td>\n",
       "      <td>15000.0</td>\n",
       "      <td>-1</td>\n",
       "      <td>0.0</td>\n",
       "    </tr>\n",
       "    <tr>\n",
       "      <th>15041</th>\n",
       "      <td>2021-0392-CHL</td>\n",
       "      <td>2021</td>\n",
       "      <td>Flood</td>\n",
       "      <td>NaN</td>\n",
       "      <td>Chile</td>\n",
       "      <td>CHL</td>\n",
       "      <td>South America</td>\n",
       "      <td>Americas</td>\n",
       "      <td>2021</td>\n",
       "      <td>6.0</td>\n",
       "      <td>2021</td>\n",
       "      <td>6.0</td>\n",
       "      <td>NaN</td>\n",
       "      <td>10.0</td>\n",
       "      <td>600.0</td>\n",
       "      <td>NaN</td>\n",
       "      <td>610.0</td>\n",
       "      <td>-1</td>\n",
       "      <td>-1.0</td>\n",
       "    </tr>\n",
       "    <tr>\n",
       "      <th>15042</th>\n",
       "      <td>2021-0507-CHN</td>\n",
       "      <td>2021</td>\n",
       "      <td>Flood</td>\n",
       "      <td>NaN</td>\n",
       "      <td>China</td>\n",
       "      <td>CHN</td>\n",
       "      <td>Eastern Asia</td>\n",
       "      <td>Asia</td>\n",
       "      <td>2021</td>\n",
       "      <td>8.0</td>\n",
       "      <td>2021</td>\n",
       "      <td>8.0</td>\n",
       "      <td>21.0</td>\n",
       "      <td>NaN</td>\n",
       "      <td>286100.0</td>\n",
       "      <td>NaN</td>\n",
       "      <td>286100.0</td>\n",
       "      <td>-1</td>\n",
       "      <td>-3.0</td>\n",
       "    </tr>\n",
       "  </tbody>\n",
       "</table>\n",
       "</div>"
      ],
      "text/plain": [
       "              Dis No  Year Disaster Type Disaster Subtype  \\\n",
       "15033  2021-0411-AUT  2021         Flood              NaN   \n",
       "15034  2021-0455-BGD  2021         Flood              NaN   \n",
       "15035  2021-0725-BIH  2021         Flood      Flash flood   \n",
       "15036  2021-0332-BRA  2021         Flood      Flash flood   \n",
       "15037  2021-0040-BRA  2021         Flood              NaN   \n",
       "15038  2021-0087-BRA  2021         Flood              NaN   \n",
       "15039  2021-0308-BTN  2021         Flood      Flash flood   \n",
       "15040  2021-0741-CAN  2021         Flood              NaN   \n",
       "15041  2021-0392-CHL  2021         Flood              NaN   \n",
       "15042  2021-0507-CHN  2021         Flood              NaN   \n",
       "\n",
       "                      Country  ISO            Region Continent  Start Year  \\\n",
       "15033                 Austria  AUT    Western Europe    Europe        2021   \n",
       "15034              Bangladesh  BGD     Southern Asia      Asia        2021   \n",
       "15035  Bosnia and Herzegovina  BIH   Southern Europe    Europe        2021   \n",
       "15036                  Brazil  BRA     South America  Americas        2021   \n",
       "15037                  Brazil  BRA     South America  Americas        2021   \n",
       "15038                  Brazil  BRA     South America  Americas        2021   \n",
       "15039                  Bhutan  BTN     Southern Asia      Asia        2021   \n",
       "15040                  Canada  CAN  Northern America  Americas        2021   \n",
       "15041                   Chile  CHL     South America  Americas        2021   \n",
       "15042                   China  CHN      Eastern Asia      Asia        2021   \n",
       "\n",
       "       Start Month  End Year  End Month  Total Deaths  No Injured  \\\n",
       "15033          7.0      2021        7.0           1.0         NaN   \n",
       "15034          7.0      2021        8.0          21.0         NaN   \n",
       "15035         11.0      2021       11.0           NaN         NaN   \n",
       "15036          6.0      2021        6.0           2.0         NaN   \n",
       "15037          1.0      2021        1.0           2.0         2.0   \n",
       "15038          2.0      2021        2.0           6.0         NaN   \n",
       "15039          6.0      2021        6.0          10.0         NaN   \n",
       "15040         11.0      2021       11.0           4.0         NaN   \n",
       "15041          6.0      2021        6.0           NaN        10.0   \n",
       "15042          8.0      2021        8.0          21.0         NaN   \n",
       "\n",
       "       No Affected  No Homeless  Total Affected  Disaster Comparison Scale  \\\n",
       "15033          NaN          NaN             NaN                         -1   \n",
       "15034     268744.0          NaN        268744.0                         -1   \n",
       "15035     250000.0          NaN        250000.0                         -1   \n",
       "15036       2400.0          NaN          2400.0                         -1   \n",
       "15037        105.0          NaN           107.0                         -1   \n",
       "15038     100000.0          NaN        100000.0                         -1   \n",
       "15039          NaN          NaN             NaN                         -1   \n",
       "15040      15000.0          NaN         15000.0                         -1   \n",
       "15041        600.0          NaN           610.0                         -1   \n",
       "15042     286100.0          NaN        286100.0                         -1   \n",
       "\n",
       "       Final Disaster Comparison Scale  \n",
       "15033                             -1.0  \n",
       "15034                             -1.0  \n",
       "15035                             -1.0  \n",
       "15036                             -7.0  \n",
       "15037                             -7.0  \n",
       "15038                             -7.0  \n",
       "15039                             -1.0  \n",
       "15040                              0.0  \n",
       "15041                             -1.0  \n",
       "15042                             -3.0  "
      ]
     },
     "execution_count": 169,
     "metadata": {},
     "output_type": "execute_result"
    }
   ],
   "source": [
    "cleaned_df_subset_2[\"Final Disaster Comparison Scale\"] = df[\"Country\"].map(comparison_scale_dict)\n",
    "cleaned_df_subset_2.head(10)"
   ]
  },
  {
   "cell_type": "markdown",
   "id": "a35ac51e",
   "metadata": {},
   "source": [
    "#### Choropleth map"
   ]
  },
  {
   "cell_type": "code",
   "execution_count": 286,
   "id": "369becd2",
   "metadata": {},
   "outputs": [
    {
     "data": {
      "application/vnd.plotly.v1+json": {
       "config": {
        "plotlyServerURL": "https://plot.ly"
       },
       "data": [
        {
         "colorbar": {
          "title": {
           "text": "Wildfire/Drought vs Floods <br>(2022)"
          }
         },
         "colorscale": [
          [
           0,
           "rgb(103,0,31)"
          ],
          [
           0.1,
           "rgb(178,24,43)"
          ],
          [
           0.2,
           "rgb(214,96,77)"
          ],
          [
           0.3,
           "rgb(244,165,130)"
          ],
          [
           0.4,
           "rgb(253,219,199)"
          ],
          [
           0.5,
           "rgb(247,247,247)"
          ],
          [
           0.6,
           "rgb(209,229,240)"
          ],
          [
           0.7,
           "rgb(146,197,222)"
          ],
          [
           0.8,
           "rgb(67,147,195)"
          ],
          [
           0.9,
           "rgb(33,102,172)"
          ],
          [
           1,
           "rgb(5,48,97)"
          ]
         ],
         "locations": [
          "AUT",
          "BGD",
          "BIH",
          "BRA",
          "BRA",
          "BRA",
          "BTN",
          "CAN",
          "CHL",
          "CHN",
          "COL",
          "COL",
          "COL",
          "COL",
          "COL",
          "DEU",
          "BEN",
          "BOL",
          "CZE",
          "BRA",
          "BGR",
          "CAN",
          "CYP",
          "DZA",
          "AFG",
          "DZA",
          "AFG",
          "AFG",
          "AGO",
          "AGO",
          "ALB",
          "ARG",
          "ARG",
          "AUS",
          "AUS",
          "AUS",
          "AUS",
          "AUS",
          "BDI",
          "BEL",
          "BGR",
          "BOL",
          "BOL",
          "BOL",
          "BOL",
          "BOL",
          "BOL",
          "BRA",
          "BRA",
          "BRA",
          "BRA",
          "BRA",
          "CAF",
          "CHE",
          "CHN",
          "CHN",
          "CHN",
          "CHN",
          "COG",
          "COL",
          "COL",
          "COL",
          "COL",
          "COL",
          "CRI",
          "DZA",
          "ECU",
          "NPL",
          "PAK",
          "ITA",
          "ESP",
          "EGY",
          "IRQ",
          "LKA",
          "ECU",
          "FRA",
          "FRA",
          "GEO",
          "GTM",
          "GTM",
          "IDN",
          "IDN",
          "IDN",
          "IDN",
          "IDN",
          "IDN",
          "IDN",
          "IND",
          "IND",
          "JPN",
          "JPN",
          "KHM",
          "LKA",
          "LKA",
          "LUX",
          "MDG",
          "MYS",
          "MYS",
          "MYS",
          "NPL",
          "NPL",
          "NPL",
          "NZL",
          "PAN",
          "PAN",
          "PER",
          "PER",
          "PER",
          "PER",
          "PER",
          "IND",
          "IND",
          "NGA",
          "PAK",
          "GRC",
          "IRQ",
          "KAZ",
          "MKD",
          "ETH",
          "KEN",
          "ESP",
          "FRA",
          "FRA",
          "LKA",
          "MYS",
          "ETH",
          "FRA",
          "FRA",
          "GHA",
          "GHA",
          "GIN",
          "GTM",
          "GUY",
          "HND",
          "HTI",
          "IDN",
          "IDN",
          "IDN",
          "IDN",
          "IDN",
          "IDN",
          "IDN",
          "IDN",
          "IDN",
          "IDN",
          "IDN",
          "IND",
          "IND",
          "IND",
          "IND",
          "IND",
          "IRN",
          "IRN",
          "IRQ",
          "ITA",
          "KEN",
          "KHM",
          "KHM",
          "MAR",
          "MAR",
          "MEX",
          "MEX",
          "MEX",
          "MMR",
          "MNG",
          "MOZ",
          "MOZ",
          "MYS",
          "MYS",
          "MYS",
          "MYS",
          "NAM",
          "NER",
          "NGA",
          "NLD",
          "NZL",
          "NZL",
          "PAK",
          "PAK",
          "PER",
          "PER",
          "PER",
          "RWA",
          "UGA",
          "STP",
          "PHL",
          "PHL",
          "PRY",
          "SLV",
          "THA",
          "THA",
          "TJK",
          "TUR",
          "UGA",
          "USA",
          "USA",
          "VEN",
          "VNM",
          "VNM",
          "SVK",
          "POL",
          "RUS",
          "USA",
          "USA",
          "TUR",
          "RUS",
          "SYR",
          "ZAF",
          "ZMB",
          "ZWE",
          "SSD",
          "SOM",
          "PHL",
          "TUN",
          "USA",
          "PHL",
          "PHL",
          "PRK",
          "PRY",
          "ROU",
          "RUS",
          "RUS",
          "SDN",
          "SOM",
          "SUR",
          "SVN",
          "SWE",
          "SYR",
          "TCD",
          "THA",
          "THA",
          "THA",
          "TUN",
          "TUR",
          "TUV",
          "TZA",
          "UGA",
          "USA",
          "USA",
          "USA",
          "USA",
          "USA",
          "USA",
          "USA",
          "USA",
          "USA",
          "USA",
          "USA",
          "USA",
          "USA",
          "USA",
          "VEN",
          "VNM",
          "YEM",
          "YEM",
          "ZAF",
          "SRB",
          "SSD",
          "TZA"
         ],
         "marker": {
          "line": {
           "color": "darkgray",
           "width": 0.5
          }
         },
         "reversescale": true,
         "text": [
          "Austria",
          "Bangladesh",
          "Bosnia and Herzegovina",
          "Brazil",
          "Brazil",
          "Brazil",
          "Bhutan",
          "Canada",
          "Chile",
          "China",
          "Colombia",
          "Colombia",
          "Colombia",
          "Colombia",
          "Colombia",
          "Germany",
          "Benin",
          "Bolivia (Plurinational State of)",
          "Czech Republic (the)",
          "Brazil",
          "Bulgaria",
          "Canada",
          "Cyprus",
          "Algeria",
          "Afghanistan",
          "Algeria",
          "Afghanistan",
          "Afghanistan",
          "Angola",
          "Angola",
          "Albania",
          "Argentina",
          "Argentina",
          "Australia",
          "Australia",
          "Australia",
          "Australia",
          "Australia",
          "Burundi",
          "Belgium",
          "Bulgaria",
          "Bolivia (Plurinational State of)",
          "Bolivia (Plurinational State of)",
          "Bolivia (Plurinational State of)",
          "Bolivia (Plurinational State of)",
          "Bolivia (Plurinational State of)",
          "Bolivia (Plurinational State of)",
          "Brazil",
          "Brazil",
          "Brazil",
          "Brazil",
          "Brazil",
          "Central African Republic",
          "Switzerland",
          "China",
          "China",
          "China",
          "China",
          "Congo (the)",
          "Colombia",
          "Colombia",
          "Colombia",
          "Colombia",
          "Colombia",
          "Costa Rica",
          "Algeria",
          "Ecuador",
          "Nepal",
          "Pakistan",
          "Italy",
          "Spain",
          "Egypt",
          "Iraq",
          "Sri Lanka",
          "Ecuador",
          "France",
          "France",
          "Georgia",
          "Guatemala",
          "Guatemala",
          "Indonesia",
          "Indonesia",
          "Indonesia",
          "Indonesia",
          "Indonesia",
          "Indonesia",
          "Indonesia",
          "India",
          "India",
          "Japan",
          "Japan",
          "Cambodia",
          "Sri Lanka",
          "Sri Lanka",
          "Luxembourg",
          "Madagascar",
          "Malaysia",
          "Malaysia",
          "Malaysia",
          "Nepal",
          "Nepal",
          "Nepal",
          "New Zealand",
          "Panama",
          "Panama",
          "Peru",
          "Peru",
          "Peru",
          "Peru",
          "Peru",
          "India",
          "India",
          "Nigeria",
          "Pakistan",
          "Greece",
          "Iraq",
          "Kazakhstan",
          "Macedonia (the former Yugoslav Republic of)",
          "Ethiopia",
          "Kenya",
          "Spain",
          "France",
          "France",
          "Sri Lanka",
          "Malaysia",
          "Ethiopia",
          "France",
          "France",
          "Ghana",
          "Ghana",
          "Guinea",
          "Guatemala",
          "Guyana",
          "Honduras",
          "Haiti",
          "Indonesia",
          "Indonesia",
          "Indonesia",
          "Indonesia",
          "Indonesia",
          "Indonesia",
          "Indonesia",
          "Indonesia",
          "Indonesia",
          "Indonesia",
          "Indonesia",
          "India",
          "India",
          "India",
          "India",
          "India",
          "Iran (Islamic Republic of)",
          "Iran (Islamic Republic of)",
          "Iraq",
          "Italy",
          "Kenya",
          "Cambodia",
          "Cambodia",
          "Morocco",
          "Morocco",
          "Mexico",
          "Mexico",
          "Mexico",
          "Myanmar",
          "Mongolia",
          "Mozambique",
          "Mozambique",
          "Malaysia",
          "Malaysia",
          "Malaysia",
          "Malaysia",
          "Namibia",
          "Niger (the)",
          "Nigeria",
          "Netherlands (the)",
          "New Zealand",
          "New Zealand",
          "Pakistan",
          "Pakistan",
          "Peru",
          "Peru",
          "Peru",
          "Rwanda",
          "Uganda",
          "Sao Tome and Principe",
          "Philippines (the)",
          "Philippines (the)",
          "Paraguay",
          "El Salvador",
          "Thailand",
          "Thailand",
          "Tajikistan",
          "Turkey",
          "Uganda",
          "United States of America (the)",
          "United States of America (the)",
          "Venezuela (Bolivarian Republic of)",
          "Viet Nam",
          "Viet Nam",
          "Slovakia",
          "Poland",
          "Russian Federation (the)",
          "United States of America (the)",
          "United States of America (the)",
          "Turkey",
          "Russian Federation (the)",
          "Syrian Arab Republic",
          "South Africa",
          "Zambia",
          "Zimbabwe",
          "South Sudan",
          "Somalia",
          "Philippines (the)",
          "Tunisia",
          "United States of America (the)",
          "Philippines (the)",
          "Philippines (the)",
          "Korea (the Democratic People's Republic of)",
          "Paraguay",
          "Romania",
          "Russian Federation (the)",
          "Russian Federation (the)",
          "Sudan (the)",
          "Somalia",
          "Suriname",
          "Slovenia",
          "Sweden",
          "Syrian Arab Republic",
          "Chad",
          "Thailand",
          "Thailand",
          "Thailand",
          "Tunisia",
          "Turkey",
          "Tuvalu",
          "Tanzania, United Republic of",
          "Uganda",
          "United States of America (the)",
          "United States of America (the)",
          "United States of America (the)",
          "United States of America (the)",
          "United States of America (the)",
          "United States of America (the)",
          "United States of America (the)",
          "United States of America (the)",
          "United States of America (the)",
          "United States of America (the)",
          "United States of America (the)",
          "United States of America (the)",
          "United States of America (the)",
          "United States of America (the)",
          "Venezuela (Bolivarian Republic of)",
          "Viet Nam",
          "Yemen",
          "Yemen",
          "South Africa",
          "Serbia",
          "South Sudan",
          "Tanzania, United Republic of"
         ],
         "type": "choropleth",
         "z": [
          -1,
          -1,
          -1,
          -7,
          -7,
          -7,
          -1,
          0,
          -1,
          -3,
          -10,
          -10,
          -10,
          -10,
          -10,
          -1,
          -1,
          -7,
          -1,
          -7,
          0,
          0,
          1,
          -1,
          -1,
          -1,
          -1,
          -1,
          -2,
          -2,
          -1,
          0,
          0,
          -3,
          -3,
          -3,
          -3,
          -3,
          -1,
          -1,
          0,
          -7,
          -7,
          -7,
          -7,
          -7,
          -7,
          -7,
          -7,
          -7,
          -7,
          -7,
          -1,
          -1,
          -3,
          -3,
          -3,
          -3,
          -1,
          -10,
          -10,
          -10,
          -10,
          -10,
          -1,
          -1,
          -2,
          -4,
          -4,
          0,
          -2,
          -1,
          -1,
          -4,
          -2,
          -6,
          -6,
          -1,
          -3,
          -3,
          -18,
          -18,
          -18,
          -18,
          -18,
          -18,
          -18,
          -9,
          -9,
          -2,
          -2,
          -3,
          -4,
          -4,
          -1,
          -1,
          -8,
          -8,
          -8,
          -4,
          -4,
          -4,
          -3,
          -2,
          -2,
          -8,
          -8,
          -8,
          -8,
          -8,
          -9,
          -9,
          -2,
          -4,
          1,
          -1,
          1,
          1,
          0,
          0,
          -2,
          -6,
          -6,
          -4,
          -8,
          0,
          -6,
          -6,
          -2,
          -2,
          -1,
          -3,
          -1,
          1,
          -1,
          -18,
          -18,
          -18,
          -18,
          -18,
          -18,
          -18,
          -18,
          -18,
          -18,
          -18,
          -9,
          -9,
          -9,
          -9,
          -9,
          0,
          0,
          -1,
          0,
          0,
          -3,
          -3,
          -2,
          -2,
          -3,
          -3,
          -3,
          -1,
          -1,
          0,
          0,
          -8,
          -8,
          -8,
          -8,
          -1,
          -1,
          -2,
          -1,
          -3,
          -3,
          -4,
          -4,
          -8,
          -8,
          -8,
          -1,
          -3,
          -1,
          -5,
          -5,
          -2,
          -1,
          -5,
          -5,
          -1,
          -1,
          -3,
          -5,
          -5,
          -2,
          -3,
          -3,
          -1,
          -1,
          -2,
          -5,
          -5,
          -1,
          -2,
          0,
          0,
          1,
          1,
          0,
          0,
          -5,
          0,
          -5,
          -5,
          -5,
          -1,
          -2,
          -1,
          -2,
          -2,
          -1,
          0,
          -1,
          -1,
          -1,
          0,
          -1,
          -5,
          -5,
          -5,
          0,
          -1,
          1,
          0,
          -3,
          -5,
          -5,
          -5,
          -5,
          -5,
          -5,
          -5,
          -5,
          -5,
          -5,
          -5,
          -5,
          -5,
          -5,
          -2,
          -3,
          -2,
          -2,
          0,
          -1,
          0,
          0
         ]
        }
       ],
       "layout": {
        "geo": {
         "projection": {
          "type": "equirectangular"
         },
         "showcoastlines": false,
         "showframe": false
        },
        "template": {
         "data": {
          "bar": [
           {
            "error_x": {
             "color": "#2a3f5f"
            },
            "error_y": {
             "color": "#2a3f5f"
            },
            "marker": {
             "line": {
              "color": "#E5ECF6",
              "width": 0.5
             }
            },
            "type": "bar"
           }
          ],
          "barpolar": [
           {
            "marker": {
             "line": {
              "color": "#E5ECF6",
              "width": 0.5
             }
            },
            "type": "barpolar"
           }
          ],
          "carpet": [
           {
            "aaxis": {
             "endlinecolor": "#2a3f5f",
             "gridcolor": "white",
             "linecolor": "white",
             "minorgridcolor": "white",
             "startlinecolor": "#2a3f5f"
            },
            "baxis": {
             "endlinecolor": "#2a3f5f",
             "gridcolor": "white",
             "linecolor": "white",
             "minorgridcolor": "white",
             "startlinecolor": "#2a3f5f"
            },
            "type": "carpet"
           }
          ],
          "choropleth": [
           {
            "colorbar": {
             "outlinewidth": 0,
             "ticks": ""
            },
            "type": "choropleth"
           }
          ],
          "contour": [
           {
            "colorbar": {
             "outlinewidth": 0,
             "ticks": ""
            },
            "colorscale": [
             [
              0,
              "#0d0887"
             ],
             [
              0.1111111111111111,
              "#46039f"
             ],
             [
              0.2222222222222222,
              "#7201a8"
             ],
             [
              0.3333333333333333,
              "#9c179e"
             ],
             [
              0.4444444444444444,
              "#bd3786"
             ],
             [
              0.5555555555555556,
              "#d8576b"
             ],
             [
              0.6666666666666666,
              "#ed7953"
             ],
             [
              0.7777777777777778,
              "#fb9f3a"
             ],
             [
              0.8888888888888888,
              "#fdca26"
             ],
             [
              1,
              "#f0f921"
             ]
            ],
            "type": "contour"
           }
          ],
          "contourcarpet": [
           {
            "colorbar": {
             "outlinewidth": 0,
             "ticks": ""
            },
            "type": "contourcarpet"
           }
          ],
          "heatmap": [
           {
            "colorbar": {
             "outlinewidth": 0,
             "ticks": ""
            },
            "colorscale": [
             [
              0,
              "#0d0887"
             ],
             [
              0.1111111111111111,
              "#46039f"
             ],
             [
              0.2222222222222222,
              "#7201a8"
             ],
             [
              0.3333333333333333,
              "#9c179e"
             ],
             [
              0.4444444444444444,
              "#bd3786"
             ],
             [
              0.5555555555555556,
              "#d8576b"
             ],
             [
              0.6666666666666666,
              "#ed7953"
             ],
             [
              0.7777777777777778,
              "#fb9f3a"
             ],
             [
              0.8888888888888888,
              "#fdca26"
             ],
             [
              1,
              "#f0f921"
             ]
            ],
            "type": "heatmap"
           }
          ],
          "heatmapgl": [
           {
            "colorbar": {
             "outlinewidth": 0,
             "ticks": ""
            },
            "colorscale": [
             [
              0,
              "#0d0887"
             ],
             [
              0.1111111111111111,
              "#46039f"
             ],
             [
              0.2222222222222222,
              "#7201a8"
             ],
             [
              0.3333333333333333,
              "#9c179e"
             ],
             [
              0.4444444444444444,
              "#bd3786"
             ],
             [
              0.5555555555555556,
              "#d8576b"
             ],
             [
              0.6666666666666666,
              "#ed7953"
             ],
             [
              0.7777777777777778,
              "#fb9f3a"
             ],
             [
              0.8888888888888888,
              "#fdca26"
             ],
             [
              1,
              "#f0f921"
             ]
            ],
            "type": "heatmapgl"
           }
          ],
          "histogram": [
           {
            "marker": {
             "colorbar": {
              "outlinewidth": 0,
              "ticks": ""
             }
            },
            "type": "histogram"
           }
          ],
          "histogram2d": [
           {
            "colorbar": {
             "outlinewidth": 0,
             "ticks": ""
            },
            "colorscale": [
             [
              0,
              "#0d0887"
             ],
             [
              0.1111111111111111,
              "#46039f"
             ],
             [
              0.2222222222222222,
              "#7201a8"
             ],
             [
              0.3333333333333333,
              "#9c179e"
             ],
             [
              0.4444444444444444,
              "#bd3786"
             ],
             [
              0.5555555555555556,
              "#d8576b"
             ],
             [
              0.6666666666666666,
              "#ed7953"
             ],
             [
              0.7777777777777778,
              "#fb9f3a"
             ],
             [
              0.8888888888888888,
              "#fdca26"
             ],
             [
              1,
              "#f0f921"
             ]
            ],
            "type": "histogram2d"
           }
          ],
          "histogram2dcontour": [
           {
            "colorbar": {
             "outlinewidth": 0,
             "ticks": ""
            },
            "colorscale": [
             [
              0,
              "#0d0887"
             ],
             [
              0.1111111111111111,
              "#46039f"
             ],
             [
              0.2222222222222222,
              "#7201a8"
             ],
             [
              0.3333333333333333,
              "#9c179e"
             ],
             [
              0.4444444444444444,
              "#bd3786"
             ],
             [
              0.5555555555555556,
              "#d8576b"
             ],
             [
              0.6666666666666666,
              "#ed7953"
             ],
             [
              0.7777777777777778,
              "#fb9f3a"
             ],
             [
              0.8888888888888888,
              "#fdca26"
             ],
             [
              1,
              "#f0f921"
             ]
            ],
            "type": "histogram2dcontour"
           }
          ],
          "mesh3d": [
           {
            "colorbar": {
             "outlinewidth": 0,
             "ticks": ""
            },
            "type": "mesh3d"
           }
          ],
          "parcoords": [
           {
            "line": {
             "colorbar": {
              "outlinewidth": 0,
              "ticks": ""
             }
            },
            "type": "parcoords"
           }
          ],
          "pie": [
           {
            "automargin": true,
            "type": "pie"
           }
          ],
          "scatter": [
           {
            "marker": {
             "colorbar": {
              "outlinewidth": 0,
              "ticks": ""
             }
            },
            "type": "scatter"
           }
          ],
          "scatter3d": [
           {
            "line": {
             "colorbar": {
              "outlinewidth": 0,
              "ticks": ""
             }
            },
            "marker": {
             "colorbar": {
              "outlinewidth": 0,
              "ticks": ""
             }
            },
            "type": "scatter3d"
           }
          ],
          "scattercarpet": [
           {
            "marker": {
             "colorbar": {
              "outlinewidth": 0,
              "ticks": ""
             }
            },
            "type": "scattercarpet"
           }
          ],
          "scattergeo": [
           {
            "marker": {
             "colorbar": {
              "outlinewidth": 0,
              "ticks": ""
             }
            },
            "type": "scattergeo"
           }
          ],
          "scattergl": [
           {
            "marker": {
             "colorbar": {
              "outlinewidth": 0,
              "ticks": ""
             }
            },
            "type": "scattergl"
           }
          ],
          "scattermapbox": [
           {
            "marker": {
             "colorbar": {
              "outlinewidth": 0,
              "ticks": ""
             }
            },
            "type": "scattermapbox"
           }
          ],
          "scatterpolar": [
           {
            "marker": {
             "colorbar": {
              "outlinewidth": 0,
              "ticks": ""
             }
            },
            "type": "scatterpolar"
           }
          ],
          "scatterpolargl": [
           {
            "marker": {
             "colorbar": {
              "outlinewidth": 0,
              "ticks": ""
             }
            },
            "type": "scatterpolargl"
           }
          ],
          "scatterternary": [
           {
            "marker": {
             "colorbar": {
              "outlinewidth": 0,
              "ticks": ""
             }
            },
            "type": "scatterternary"
           }
          ],
          "surface": [
           {
            "colorbar": {
             "outlinewidth": 0,
             "ticks": ""
            },
            "colorscale": [
             [
              0,
              "#0d0887"
             ],
             [
              0.1111111111111111,
              "#46039f"
             ],
             [
              0.2222222222222222,
              "#7201a8"
             ],
             [
              0.3333333333333333,
              "#9c179e"
             ],
             [
              0.4444444444444444,
              "#bd3786"
             ],
             [
              0.5555555555555556,
              "#d8576b"
             ],
             [
              0.6666666666666666,
              "#ed7953"
             ],
             [
              0.7777777777777778,
              "#fb9f3a"
             ],
             [
              0.8888888888888888,
              "#fdca26"
             ],
             [
              1,
              "#f0f921"
             ]
            ],
            "type": "surface"
           }
          ],
          "table": [
           {
            "cells": {
             "fill": {
              "color": "#EBF0F8"
             },
             "line": {
              "color": "white"
             }
            },
            "header": {
             "fill": {
              "color": "#C8D4E3"
             },
             "line": {
              "color": "white"
             }
            },
            "type": "table"
           }
          ]
         },
         "layout": {
          "annotationdefaults": {
           "arrowcolor": "#2a3f5f",
           "arrowhead": 0,
           "arrowwidth": 1
          },
          "autotypenumbers": "strict",
          "coloraxis": {
           "colorbar": {
            "outlinewidth": 0,
            "ticks": ""
           }
          },
          "colorscale": {
           "diverging": [
            [
             0,
             "#8e0152"
            ],
            [
             0.1,
             "#c51b7d"
            ],
            [
             0.2,
             "#de77ae"
            ],
            [
             0.3,
             "#f1b6da"
            ],
            [
             0.4,
             "#fde0ef"
            ],
            [
             0.5,
             "#f7f7f7"
            ],
            [
             0.6,
             "#e6f5d0"
            ],
            [
             0.7,
             "#b8e186"
            ],
            [
             0.8,
             "#7fbc41"
            ],
            [
             0.9,
             "#4d9221"
            ],
            [
             1,
             "#276419"
            ]
           ],
           "sequential": [
            [
             0,
             "#0d0887"
            ],
            [
             0.1111111111111111,
             "#46039f"
            ],
            [
             0.2222222222222222,
             "#7201a8"
            ],
            [
             0.3333333333333333,
             "#9c179e"
            ],
            [
             0.4444444444444444,
             "#bd3786"
            ],
            [
             0.5555555555555556,
             "#d8576b"
            ],
            [
             0.6666666666666666,
             "#ed7953"
            ],
            [
             0.7777777777777778,
             "#fb9f3a"
            ],
            [
             0.8888888888888888,
             "#fdca26"
            ],
            [
             1,
             "#f0f921"
            ]
           ],
           "sequentialminus": [
            [
             0,
             "#0d0887"
            ],
            [
             0.1111111111111111,
             "#46039f"
            ],
            [
             0.2222222222222222,
             "#7201a8"
            ],
            [
             0.3333333333333333,
             "#9c179e"
            ],
            [
             0.4444444444444444,
             "#bd3786"
            ],
            [
             0.5555555555555556,
             "#d8576b"
            ],
            [
             0.6666666666666666,
             "#ed7953"
            ],
            [
             0.7777777777777778,
             "#fb9f3a"
            ],
            [
             0.8888888888888888,
             "#fdca26"
            ],
            [
             1,
             "#f0f921"
            ]
           ]
          },
          "colorway": [
           "#636efa",
           "#EF553B",
           "#00cc96",
           "#ab63fa",
           "#FFA15A",
           "#19d3f3",
           "#FF6692",
           "#B6E880",
           "#FF97FF",
           "#FECB52"
          ],
          "font": {
           "color": "#2a3f5f"
          },
          "geo": {
           "bgcolor": "white",
           "lakecolor": "white",
           "landcolor": "#E5ECF6",
           "showlakes": true,
           "showland": true,
           "subunitcolor": "white"
          },
          "hoverlabel": {
           "align": "left"
          },
          "hovermode": "closest",
          "mapbox": {
           "style": "light"
          },
          "paper_bgcolor": "white",
          "plot_bgcolor": "#E5ECF6",
          "polar": {
           "angularaxis": {
            "gridcolor": "white",
            "linecolor": "white",
            "ticks": ""
           },
           "bgcolor": "#E5ECF6",
           "radialaxis": {
            "gridcolor": "white",
            "linecolor": "white",
            "ticks": ""
           }
          },
          "scene": {
           "xaxis": {
            "backgroundcolor": "#E5ECF6",
            "gridcolor": "white",
            "gridwidth": 2,
            "linecolor": "white",
            "showbackground": true,
            "ticks": "",
            "zerolinecolor": "white"
           },
           "yaxis": {
            "backgroundcolor": "#E5ECF6",
            "gridcolor": "white",
            "gridwidth": 2,
            "linecolor": "white",
            "showbackground": true,
            "ticks": "",
            "zerolinecolor": "white"
           },
           "zaxis": {
            "backgroundcolor": "#E5ECF6",
            "gridcolor": "white",
            "gridwidth": 2,
            "linecolor": "white",
            "showbackground": true,
            "ticks": "",
            "zerolinecolor": "white"
           }
          },
          "shapedefaults": {
           "line": {
            "color": "#2a3f5f"
           }
          },
          "ternary": {
           "aaxis": {
            "gridcolor": "white",
            "linecolor": "white",
            "ticks": ""
           },
           "baxis": {
            "gridcolor": "white",
            "linecolor": "white",
            "ticks": ""
           },
           "bgcolor": "#E5ECF6",
           "caxis": {
            "gridcolor": "white",
            "linecolor": "white",
            "ticks": ""
           }
          },
          "title": {
           "x": 0.05
          },
          "xaxis": {
           "automargin": true,
           "gridcolor": "white",
           "linecolor": "white",
           "ticks": "",
           "title": {
            "standoff": 15
           },
           "zerolinecolor": "white",
           "zerolinewidth": 2
          },
          "yaxis": {
           "automargin": true,
           "gridcolor": "white",
           "linecolor": "white",
           "ticks": "",
           "title": {
            "standoff": 15
           },
           "zerolinecolor": "white",
           "zerolinewidth": 2
          }
         }
        },
        "title": {
         "text": "Fire vs Flood: While some parts of the world burn, others drown"
        }
       }
      },
      "text/html": [
       "<div>                            <div id=\"923bd792-6abc-4856-b04c-8333558eb5be\" class=\"plotly-graph-div\" style=\"height:525px; width:100%;\"></div>            <script type=\"text/javascript\">                require([\"plotly\"], function(Plotly) {                    window.PLOTLYENV=window.PLOTLYENV || {};                                    if (document.getElementById(\"923bd792-6abc-4856-b04c-8333558eb5be\")) {                    Plotly.newPlot(                        \"923bd792-6abc-4856-b04c-8333558eb5be\",                        [{\"colorbar\": {\"title\": {\"text\": \"Wildfire/Drought vs Floods <br>(2022)\"}}, \"colorscale\": [[0.0, \"rgb(103,0,31)\"], [0.1, \"rgb(178,24,43)\"], [0.2, \"rgb(214,96,77)\"], [0.3, \"rgb(244,165,130)\"], [0.4, \"rgb(253,219,199)\"], [0.5, \"rgb(247,247,247)\"], [0.6, \"rgb(209,229,240)\"], [0.7, \"rgb(146,197,222)\"], [0.8, \"rgb(67,147,195)\"], [0.9, \"rgb(33,102,172)\"], [1.0, \"rgb(5,48,97)\"]], \"locations\": [\"AUT\", \"BGD\", \"BIH\", \"BRA\", \"BRA\", \"BRA\", \"BTN\", \"CAN\", \"CHL\", \"CHN\", \"COL\", \"COL\", \"COL\", \"COL\", \"COL\", \"DEU\", \"BEN\", \"BOL\", \"CZE\", \"BRA\", \"BGR\", \"CAN\", \"CYP\", \"DZA\", \"AFG\", \"DZA\", \"AFG\", \"AFG\", \"AGO\", \"AGO\", \"ALB\", \"ARG\", \"ARG\", \"AUS\", \"AUS\", \"AUS\", \"AUS\", \"AUS\", \"BDI\", \"BEL\", \"BGR\", \"BOL\", \"BOL\", \"BOL\", \"BOL\", \"BOL\", \"BOL\", \"BRA\", \"BRA\", \"BRA\", \"BRA\", \"BRA\", \"CAF\", \"CHE\", \"CHN\", \"CHN\", \"CHN\", \"CHN\", \"COG\", \"COL\", \"COL\", \"COL\", \"COL\", \"COL\", \"CRI\", \"DZA\", \"ECU\", \"NPL\", \"PAK\", \"ITA\", \"ESP\", \"EGY\", \"IRQ\", \"LKA\", \"ECU\", \"FRA\", \"FRA\", \"GEO\", \"GTM\", \"GTM\", \"IDN\", \"IDN\", \"IDN\", \"IDN\", \"IDN\", \"IDN\", \"IDN\", \"IND\", \"IND\", \"JPN\", \"JPN\", \"KHM\", \"LKA\", \"LKA\", \"LUX\", \"MDG\", \"MYS\", \"MYS\", \"MYS\", \"NPL\", \"NPL\", \"NPL\", \"NZL\", \"PAN\", \"PAN\", \"PER\", \"PER\", \"PER\", \"PER\", \"PER\", \"IND\", \"IND\", \"NGA\", \"PAK\", \"GRC\", \"IRQ\", \"KAZ\", \"MKD\", \"ETH\", \"KEN\", \"ESP\", \"FRA\", \"FRA\", \"LKA\", \"MYS\", \"ETH\", \"FRA\", \"FRA\", \"GHA\", \"GHA\", \"GIN\", \"GTM\", \"GUY\", \"HND\", \"HTI\", \"IDN\", \"IDN\", \"IDN\", \"IDN\", \"IDN\", \"IDN\", \"IDN\", \"IDN\", \"IDN\", \"IDN\", \"IDN\", \"IND\", \"IND\", \"IND\", \"IND\", \"IND\", \"IRN\", \"IRN\", \"IRQ\", \"ITA\", \"KEN\", \"KHM\", \"KHM\", \"MAR\", \"MAR\", \"MEX\", \"MEX\", \"MEX\", \"MMR\", \"MNG\", \"MOZ\", \"MOZ\", \"MYS\", \"MYS\", \"MYS\", \"MYS\", \"NAM\", \"NER\", \"NGA\", \"NLD\", \"NZL\", \"NZL\", \"PAK\", \"PAK\", \"PER\", \"PER\", \"PER\", \"RWA\", \"UGA\", \"STP\", \"PHL\", \"PHL\", \"PRY\", \"SLV\", \"THA\", \"THA\", \"TJK\", \"TUR\", \"UGA\", \"USA\", \"USA\", \"VEN\", \"VNM\", \"VNM\", \"SVK\", \"POL\", \"RUS\", \"USA\", \"USA\", \"TUR\", \"RUS\", \"SYR\", \"ZAF\", \"ZMB\", \"ZWE\", \"SSD\", \"SOM\", \"PHL\", \"TUN\", \"USA\", \"PHL\", \"PHL\", \"PRK\", \"PRY\", \"ROU\", \"RUS\", \"RUS\", \"SDN\", \"SOM\", \"SUR\", \"SVN\", \"SWE\", \"SYR\", \"TCD\", \"THA\", \"THA\", \"THA\", \"TUN\", \"TUR\", \"TUV\", \"TZA\", \"UGA\", \"USA\", \"USA\", \"USA\", \"USA\", \"USA\", \"USA\", \"USA\", \"USA\", \"USA\", \"USA\", \"USA\", \"USA\", \"USA\", \"USA\", \"VEN\", \"VNM\", \"YEM\", \"YEM\", \"ZAF\", \"SRB\", \"SSD\", \"TZA\"], \"marker\": {\"line\": {\"color\": \"darkgray\", \"width\": 0.5}}, \"reversescale\": true, \"text\": [\"Austria\", \"Bangladesh\", \"Bosnia and Herzegovina\", \"Brazil\", \"Brazil\", \"Brazil\", \"Bhutan\", \"Canada\", \"Chile\", \"China\", \"Colombia\", \"Colombia\", \"Colombia\", \"Colombia\", \"Colombia\", \"Germany\", \"Benin\", \"Bolivia (Plurinational State of)\", \"Czech Republic (the)\", \"Brazil\", \"Bulgaria\", \"Canada\", \"Cyprus\", \"Algeria\", \"Afghanistan\", \"Algeria\", \"Afghanistan\", \"Afghanistan\", \"Angola\", \"Angola\", \"Albania\", \"Argentina\", \"Argentina\", \"Australia\", \"Australia\", \"Australia\", \"Australia\", \"Australia\", \"Burundi\", \"Belgium\", \"Bulgaria\", \"Bolivia (Plurinational State of)\", \"Bolivia (Plurinational State of)\", \"Bolivia (Plurinational State of)\", \"Bolivia (Plurinational State of)\", \"Bolivia (Plurinational State of)\", \"Bolivia (Plurinational State of)\", \"Brazil\", \"Brazil\", \"Brazil\", \"Brazil\", \"Brazil\", \"Central African Republic\", \"Switzerland\", \"China\", \"China\", \"China\", \"China\", \"Congo (the)\", \"Colombia\", \"Colombia\", \"Colombia\", \"Colombia\", \"Colombia\", \"Costa Rica\", \"Algeria\", \"Ecuador\", \"Nepal\", \"Pakistan\", \"Italy\", \"Spain\", \"Egypt\", \"Iraq\", \"Sri Lanka\", \"Ecuador\", \"France\", \"France\", \"Georgia\", \"Guatemala\", \"Guatemala\", \"Indonesia\", \"Indonesia\", \"Indonesia\", \"Indonesia\", \"Indonesia\", \"Indonesia\", \"Indonesia\", \"India\", \"India\", \"Japan\", \"Japan\", \"Cambodia\", \"Sri Lanka\", \"Sri Lanka\", \"Luxembourg\", \"Madagascar\", \"Malaysia\", \"Malaysia\", \"Malaysia\", \"Nepal\", \"Nepal\", \"Nepal\", \"New Zealand\", \"Panama\", \"Panama\", \"Peru\", \"Peru\", \"Peru\", \"Peru\", \"Peru\", \"India\", \"India\", \"Nigeria\", \"Pakistan\", \"Greece\", \"Iraq\", \"Kazakhstan\", \"Macedonia (the former Yugoslav Republic of)\", \"Ethiopia\", \"Kenya\", \"Spain\", \"France\", \"France\", \"Sri Lanka\", \"Malaysia\", \"Ethiopia\", \"France\", \"France\", \"Ghana\", \"Ghana\", \"Guinea\", \"Guatemala\", \"Guyana\", \"Honduras\", \"Haiti\", \"Indonesia\", \"Indonesia\", \"Indonesia\", \"Indonesia\", \"Indonesia\", \"Indonesia\", \"Indonesia\", \"Indonesia\", \"Indonesia\", \"Indonesia\", \"Indonesia\", \"India\", \"India\", \"India\", \"India\", \"India\", \"Iran (Islamic Republic of)\", \"Iran (Islamic Republic of)\", \"Iraq\", \"Italy\", \"Kenya\", \"Cambodia\", \"Cambodia\", \"Morocco\", \"Morocco\", \"Mexico\", \"Mexico\", \"Mexico\", \"Myanmar\", \"Mongolia\", \"Mozambique\", \"Mozambique\", \"Malaysia\", \"Malaysia\", \"Malaysia\", \"Malaysia\", \"Namibia\", \"Niger (the)\", \"Nigeria\", \"Netherlands (the)\", \"New Zealand\", \"New Zealand\", \"Pakistan\", \"Pakistan\", \"Peru\", \"Peru\", \"Peru\", \"Rwanda\", \"Uganda\", \"Sao Tome and Principe\", \"Philippines (the)\", \"Philippines (the)\", \"Paraguay\", \"El Salvador\", \"Thailand\", \"Thailand\", \"Tajikistan\", \"Turkey\", \"Uganda\", \"United States of America (the)\", \"United States of America (the)\", \"Venezuela (Bolivarian Republic of)\", \"Viet Nam\", \"Viet Nam\", \"Slovakia\", \"Poland\", \"Russian Federation (the)\", \"United States of America (the)\", \"United States of America (the)\", \"Turkey\", \"Russian Federation (the)\", \"Syrian Arab Republic\", \"South Africa\", \"Zambia\", \"Zimbabwe\", \"South Sudan\", \"Somalia\", \"Philippines (the)\", \"Tunisia\", \"United States of America (the)\", \"Philippines (the)\", \"Philippines (the)\", \"Korea (the Democratic People's Republic of)\", \"Paraguay\", \"Romania\", \"Russian Federation (the)\", \"Russian Federation (the)\", \"Sudan (the)\", \"Somalia\", \"Suriname\", \"Slovenia\", \"Sweden\", \"Syrian Arab Republic\", \"Chad\", \"Thailand\", \"Thailand\", \"Thailand\", \"Tunisia\", \"Turkey\", \"Tuvalu\", \"Tanzania, United Republic of\", \"Uganda\", \"United States of America (the)\", \"United States of America (the)\", \"United States of America (the)\", \"United States of America (the)\", \"United States of America (the)\", \"United States of America (the)\", \"United States of America (the)\", \"United States of America (the)\", \"United States of America (the)\", \"United States of America (the)\", \"United States of America (the)\", \"United States of America (the)\", \"United States of America (the)\", \"United States of America (the)\", \"Venezuela (Bolivarian Republic of)\", \"Viet Nam\", \"Yemen\", \"Yemen\", \"South Africa\", \"Serbia\", \"South Sudan\", \"Tanzania, United Republic of\"], \"type\": \"choropleth\", \"z\": [-1.0, -1.0, -1.0, -7.0, -7.0, -7.0, -1.0, 0.0, -1.0, -3.0, -10.0, -10.0, -10.0, -10.0, -10.0, -1.0, -1.0, -7.0, -1.0, -7.0, 0.0, 0.0, 1.0, -1.0, -1.0, -1.0, -1.0, -1.0, -2.0, -2.0, -1.0, 0.0, 0.0, -3.0, -3.0, -3.0, -3.0, -3.0, -1.0, -1.0, 0.0, -7.0, -7.0, -7.0, -7.0, -7.0, -7.0, -7.0, -7.0, -7.0, -7.0, -7.0, -1.0, -1.0, -3.0, -3.0, -3.0, -3.0, -1.0, -10.0, -10.0, -10.0, -10.0, -10.0, -1.0, -1.0, -2.0, -4.0, -4.0, 0.0, -2.0, -1.0, -1.0, -4.0, -2.0, -6.0, -6.0, -1.0, -3.0, -3.0, -18.0, -18.0, -18.0, -18.0, -18.0, -18.0, -18.0, -9.0, -9.0, -2.0, -2.0, -3.0, -4.0, -4.0, -1.0, -1.0, -8.0, -8.0, -8.0, -4.0, -4.0, -4.0, -3.0, -2.0, -2.0, -8.0, -8.0, -8.0, -8.0, -8.0, -9.0, -9.0, -2.0, -4.0, 1.0, -1.0, 1.0, 1.0, 0.0, 0.0, -2.0, -6.0, -6.0, -4.0, -8.0, 0.0, -6.0, -6.0, -2.0, -2.0, -1.0, -3.0, -1.0, 1.0, -1.0, -18.0, -18.0, -18.0, -18.0, -18.0, -18.0, -18.0, -18.0, -18.0, -18.0, -18.0, -9.0, -9.0, -9.0, -9.0, -9.0, 0.0, 0.0, -1.0, 0.0, 0.0, -3.0, -3.0, -2.0, -2.0, -3.0, -3.0, -3.0, -1.0, -1.0, 0.0, 0.0, -8.0, -8.0, -8.0, -8.0, -1.0, -1.0, -2.0, -1.0, -3.0, -3.0, -4.0, -4.0, -8.0, -8.0, -8.0, -1.0, -3.0, -1.0, -5.0, -5.0, -2.0, -1.0, -5.0, -5.0, -1.0, -1.0, -3.0, -5.0, -5.0, -2.0, -3.0, -3.0, -1.0, -1.0, -2.0, -5.0, -5.0, -1.0, -2.0, 0.0, 0.0, 1.0, 1.0, 0.0, 0.0, -5.0, 0.0, -5.0, -5.0, -5.0, -1.0, -2.0, -1.0, -2.0, -2.0, -1.0, 0.0, -1.0, -1.0, -1.0, 0.0, -1.0, -5.0, -5.0, -5.0, 0.0, -1.0, 1.0, 0.0, -3.0, -5.0, -5.0, -5.0, -5.0, -5.0, -5.0, -5.0, -5.0, -5.0, -5.0, -5.0, -5.0, -5.0, -5.0, -2.0, -3.0, -2.0, -2.0, 0.0, -1.0, 0.0, 0.0]}],                        {\"geo\": {\"projection\": {\"type\": \"equirectangular\"}, \"showcoastlines\": false, \"showframe\": false}, \"template\": {\"data\": {\"bar\": [{\"error_x\": {\"color\": \"#2a3f5f\"}, \"error_y\": {\"color\": \"#2a3f5f\"}, \"marker\": {\"line\": {\"color\": \"#E5ECF6\", \"width\": 0.5}}, \"type\": \"bar\"}], \"barpolar\": [{\"marker\": {\"line\": {\"color\": \"#E5ECF6\", \"width\": 0.5}}, \"type\": \"barpolar\"}], \"carpet\": [{\"aaxis\": {\"endlinecolor\": \"#2a3f5f\", \"gridcolor\": \"white\", \"linecolor\": \"white\", \"minorgridcolor\": \"white\", \"startlinecolor\": \"#2a3f5f\"}, \"baxis\": {\"endlinecolor\": \"#2a3f5f\", \"gridcolor\": \"white\", \"linecolor\": \"white\", \"minorgridcolor\": \"white\", \"startlinecolor\": \"#2a3f5f\"}, \"type\": \"carpet\"}], \"choropleth\": [{\"colorbar\": {\"outlinewidth\": 0, \"ticks\": \"\"}, \"type\": \"choropleth\"}], \"contour\": [{\"colorbar\": {\"outlinewidth\": 0, \"ticks\": \"\"}, \"colorscale\": [[0.0, \"#0d0887\"], [0.1111111111111111, \"#46039f\"], [0.2222222222222222, \"#7201a8\"], [0.3333333333333333, \"#9c179e\"], [0.4444444444444444, \"#bd3786\"], [0.5555555555555556, \"#d8576b\"], [0.6666666666666666, \"#ed7953\"], [0.7777777777777778, \"#fb9f3a\"], [0.8888888888888888, \"#fdca26\"], [1.0, \"#f0f921\"]], \"type\": \"contour\"}], \"contourcarpet\": [{\"colorbar\": {\"outlinewidth\": 0, \"ticks\": \"\"}, \"type\": \"contourcarpet\"}], \"heatmap\": [{\"colorbar\": {\"outlinewidth\": 0, \"ticks\": \"\"}, \"colorscale\": [[0.0, \"#0d0887\"], [0.1111111111111111, \"#46039f\"], [0.2222222222222222, \"#7201a8\"], [0.3333333333333333, \"#9c179e\"], [0.4444444444444444, \"#bd3786\"], [0.5555555555555556, \"#d8576b\"], [0.6666666666666666, \"#ed7953\"], [0.7777777777777778, \"#fb9f3a\"], [0.8888888888888888, \"#fdca26\"], [1.0, \"#f0f921\"]], \"type\": \"heatmap\"}], \"heatmapgl\": [{\"colorbar\": {\"outlinewidth\": 0, \"ticks\": \"\"}, \"colorscale\": [[0.0, \"#0d0887\"], [0.1111111111111111, \"#46039f\"], [0.2222222222222222, \"#7201a8\"], [0.3333333333333333, \"#9c179e\"], [0.4444444444444444, \"#bd3786\"], [0.5555555555555556, \"#d8576b\"], [0.6666666666666666, \"#ed7953\"], [0.7777777777777778, \"#fb9f3a\"], [0.8888888888888888, \"#fdca26\"], [1.0, \"#f0f921\"]], \"type\": \"heatmapgl\"}], \"histogram\": [{\"marker\": {\"colorbar\": {\"outlinewidth\": 0, \"ticks\": \"\"}}, \"type\": \"histogram\"}], \"histogram2d\": [{\"colorbar\": {\"outlinewidth\": 0, \"ticks\": \"\"}, \"colorscale\": [[0.0, \"#0d0887\"], [0.1111111111111111, \"#46039f\"], [0.2222222222222222, \"#7201a8\"], [0.3333333333333333, \"#9c179e\"], [0.4444444444444444, \"#bd3786\"], [0.5555555555555556, \"#d8576b\"], [0.6666666666666666, \"#ed7953\"], [0.7777777777777778, \"#fb9f3a\"], [0.8888888888888888, \"#fdca26\"], [1.0, \"#f0f921\"]], \"type\": \"histogram2d\"}], \"histogram2dcontour\": [{\"colorbar\": {\"outlinewidth\": 0, \"ticks\": \"\"}, \"colorscale\": [[0.0, \"#0d0887\"], [0.1111111111111111, \"#46039f\"], [0.2222222222222222, \"#7201a8\"], [0.3333333333333333, \"#9c179e\"], [0.4444444444444444, \"#bd3786\"], [0.5555555555555556, \"#d8576b\"], [0.6666666666666666, \"#ed7953\"], [0.7777777777777778, \"#fb9f3a\"], [0.8888888888888888, \"#fdca26\"], [1.0, \"#f0f921\"]], \"type\": \"histogram2dcontour\"}], \"mesh3d\": [{\"colorbar\": {\"outlinewidth\": 0, \"ticks\": \"\"}, \"type\": \"mesh3d\"}], \"parcoords\": [{\"line\": {\"colorbar\": {\"outlinewidth\": 0, \"ticks\": \"\"}}, \"type\": \"parcoords\"}], \"pie\": [{\"automargin\": true, \"type\": \"pie\"}], \"scatter\": [{\"marker\": {\"colorbar\": {\"outlinewidth\": 0, \"ticks\": \"\"}}, \"type\": \"scatter\"}], \"scatter3d\": [{\"line\": {\"colorbar\": {\"outlinewidth\": 0, \"ticks\": \"\"}}, \"marker\": {\"colorbar\": {\"outlinewidth\": 0, \"ticks\": \"\"}}, \"type\": \"scatter3d\"}], \"scattercarpet\": [{\"marker\": {\"colorbar\": {\"outlinewidth\": 0, \"ticks\": \"\"}}, \"type\": \"scattercarpet\"}], \"scattergeo\": [{\"marker\": {\"colorbar\": {\"outlinewidth\": 0, \"ticks\": \"\"}}, \"type\": \"scattergeo\"}], \"scattergl\": [{\"marker\": {\"colorbar\": {\"outlinewidth\": 0, \"ticks\": \"\"}}, \"type\": \"scattergl\"}], \"scattermapbox\": [{\"marker\": {\"colorbar\": {\"outlinewidth\": 0, \"ticks\": \"\"}}, \"type\": \"scattermapbox\"}], \"scatterpolar\": [{\"marker\": {\"colorbar\": {\"outlinewidth\": 0, \"ticks\": \"\"}}, \"type\": \"scatterpolar\"}], \"scatterpolargl\": [{\"marker\": {\"colorbar\": {\"outlinewidth\": 0, \"ticks\": \"\"}}, \"type\": \"scatterpolargl\"}], \"scatterternary\": [{\"marker\": {\"colorbar\": {\"outlinewidth\": 0, \"ticks\": \"\"}}, \"type\": \"scatterternary\"}], \"surface\": [{\"colorbar\": {\"outlinewidth\": 0, \"ticks\": \"\"}, \"colorscale\": [[0.0, \"#0d0887\"], [0.1111111111111111, \"#46039f\"], [0.2222222222222222, \"#7201a8\"], [0.3333333333333333, \"#9c179e\"], [0.4444444444444444, \"#bd3786\"], [0.5555555555555556, \"#d8576b\"], [0.6666666666666666, \"#ed7953\"], [0.7777777777777778, \"#fb9f3a\"], [0.8888888888888888, \"#fdca26\"], [1.0, \"#f0f921\"]], \"type\": \"surface\"}], \"table\": [{\"cells\": {\"fill\": {\"color\": \"#EBF0F8\"}, \"line\": {\"color\": \"white\"}}, \"header\": {\"fill\": {\"color\": \"#C8D4E3\"}, \"line\": {\"color\": \"white\"}}, \"type\": \"table\"}]}, \"layout\": {\"annotationdefaults\": {\"arrowcolor\": \"#2a3f5f\", \"arrowhead\": 0, \"arrowwidth\": 1}, \"autotypenumbers\": \"strict\", \"coloraxis\": {\"colorbar\": {\"outlinewidth\": 0, \"ticks\": \"\"}}, \"colorscale\": {\"diverging\": [[0, \"#8e0152\"], [0.1, \"#c51b7d\"], [0.2, \"#de77ae\"], [0.3, \"#f1b6da\"], [0.4, \"#fde0ef\"], [0.5, \"#f7f7f7\"], [0.6, \"#e6f5d0\"], [0.7, \"#b8e186\"], [0.8, \"#7fbc41\"], [0.9, \"#4d9221\"], [1, \"#276419\"]], \"sequential\": [[0.0, \"#0d0887\"], [0.1111111111111111, \"#46039f\"], [0.2222222222222222, \"#7201a8\"], [0.3333333333333333, \"#9c179e\"], [0.4444444444444444, \"#bd3786\"], [0.5555555555555556, \"#d8576b\"], [0.6666666666666666, \"#ed7953\"], [0.7777777777777778, \"#fb9f3a\"], [0.8888888888888888, \"#fdca26\"], [1.0, \"#f0f921\"]], \"sequentialminus\": [[0.0, \"#0d0887\"], [0.1111111111111111, \"#46039f\"], [0.2222222222222222, \"#7201a8\"], [0.3333333333333333, \"#9c179e\"], [0.4444444444444444, \"#bd3786\"], [0.5555555555555556, \"#d8576b\"], [0.6666666666666666, \"#ed7953\"], [0.7777777777777778, \"#fb9f3a\"], [0.8888888888888888, \"#fdca26\"], [1.0, \"#f0f921\"]]}, \"colorway\": [\"#636efa\", \"#EF553B\", \"#00cc96\", \"#ab63fa\", \"#FFA15A\", \"#19d3f3\", \"#FF6692\", \"#B6E880\", \"#FF97FF\", \"#FECB52\"], \"font\": {\"color\": \"#2a3f5f\"}, \"geo\": {\"bgcolor\": \"white\", \"lakecolor\": \"white\", \"landcolor\": \"#E5ECF6\", \"showlakes\": true, \"showland\": true, \"subunitcolor\": \"white\"}, \"hoverlabel\": {\"align\": \"left\"}, \"hovermode\": \"closest\", \"mapbox\": {\"style\": \"light\"}, \"paper_bgcolor\": \"white\", \"plot_bgcolor\": \"#E5ECF6\", \"polar\": {\"angularaxis\": {\"gridcolor\": \"white\", \"linecolor\": \"white\", \"ticks\": \"\"}, \"bgcolor\": \"#E5ECF6\", \"radialaxis\": {\"gridcolor\": \"white\", \"linecolor\": \"white\", \"ticks\": \"\"}}, \"scene\": {\"xaxis\": {\"backgroundcolor\": \"#E5ECF6\", \"gridcolor\": \"white\", \"gridwidth\": 2, \"linecolor\": \"white\", \"showbackground\": true, \"ticks\": \"\", \"zerolinecolor\": \"white\"}, \"yaxis\": {\"backgroundcolor\": \"#E5ECF6\", \"gridcolor\": \"white\", \"gridwidth\": 2, \"linecolor\": \"white\", \"showbackground\": true, \"ticks\": \"\", \"zerolinecolor\": \"white\"}, \"zaxis\": {\"backgroundcolor\": \"#E5ECF6\", \"gridcolor\": \"white\", \"gridwidth\": 2, \"linecolor\": \"white\", \"showbackground\": true, \"ticks\": \"\", \"zerolinecolor\": \"white\"}}, \"shapedefaults\": {\"line\": {\"color\": \"#2a3f5f\"}}, \"ternary\": {\"aaxis\": {\"gridcolor\": \"white\", \"linecolor\": \"white\", \"ticks\": \"\"}, \"baxis\": {\"gridcolor\": \"white\", \"linecolor\": \"white\", \"ticks\": \"\"}, \"bgcolor\": \"#E5ECF6\", \"caxis\": {\"gridcolor\": \"white\", \"linecolor\": \"white\", \"ticks\": \"\"}}, \"title\": {\"x\": 0.05}, \"xaxis\": {\"automargin\": true, \"gridcolor\": \"white\", \"linecolor\": \"white\", \"ticks\": \"\", \"title\": {\"standoff\": 15}, \"zerolinecolor\": \"white\", \"zerolinewidth\": 2}, \"yaxis\": {\"automargin\": true, \"gridcolor\": \"white\", \"linecolor\": \"white\", \"ticks\": \"\", \"title\": {\"standoff\": 15}, \"zerolinecolor\": \"white\", \"zerolinewidth\": 2}}}, \"title\": {\"text\": \"Fire vs Flood: While some parts of the world burn, others drown\"}},                        {\"responsive\": true}                    ).then(function(){\n",
       "                            \n",
       "var gd = document.getElementById('923bd792-6abc-4856-b04c-8333558eb5be');\n",
       "var x = new MutationObserver(function (mutations, observer) {{\n",
       "        var display = window.getComputedStyle(gd).display;\n",
       "        if (!display || display === 'none') {{\n",
       "            console.log([gd, 'removed!']);\n",
       "            Plotly.purge(gd);\n",
       "            observer.disconnect();\n",
       "        }}\n",
       "}});\n",
       "\n",
       "// Listen for the removal of the full notebook cells\n",
       "var notebookContainer = gd.closest('#notebook-container');\n",
       "if (notebookContainer) {{\n",
       "    x.observe(notebookContainer, {childList: true});\n",
       "}}\n",
       "\n",
       "// Listen for the clearing of the current output cell\n",
       "var outputEl = gd.closest('.output');\n",
       "if (outputEl) {{\n",
       "    x.observe(outputEl, {childList: true});\n",
       "}}\n",
       "\n",
       "                        })                };                });            </script>        </div>"
      ]
     },
     "metadata": {},
     "output_type": "display_data"
    }
   ],
   "source": [
    "fig = go.Figure(data=go.Choropleth(\n",
    "    locations=cleaned_df_subset_2[\"ISO\"],\n",
    "    z=cleaned_df_subset_2[\"Final Disaster Comparison Scale\"],\n",
    "    text=cleaned_df_subset_2[\"Country\"],\n",
    "    colorscale=\"rdbu\",\n",
    "    reversescale=True,\n",
    "    marker_line_color=\"darkgray\",\n",
    "    marker_line_width=0.5,\n",
    "    colorbar_title = \"Wildfire/Drought vs Floods <br>(2022)\",\n",
    "))\n",
    "\n",
    "fig.update_layout(\n",
    "    title_text=\"Fire vs Flood: While some parts of the world burn, others drown\",\n",
    "    geo=dict(\n",
    "        showframe=False,\n",
    "        showcoastlines=False,\n",
    "        projection_type=\"equirectangular\"\n",
    "    )\n",
    ")\n",
    "\n",
    "fig.show()"
   ]
  },
  {
   "cell_type": "markdown",
   "id": "7b86c810",
   "metadata": {},
   "source": [
    "# Data processing & visualization - Method 3 - Disaster frequency (separated into flood, drought and wildfire)"
   ]
  },
  {
   "cell_type": "markdown",
   "id": "a17684d4",
   "metadata": {},
   "source": [
    "**Note**: Some visualizations in this section ended up being used in the final report as **exploratory** visualizations"
   ]
  },
  {
   "cell_type": "markdown",
   "id": "d6eed57e",
   "metadata": {},
   "source": [
    "### Data processing"
   ]
  },
  {
   "cell_type": "markdown",
   "id": "c56fb8e6",
   "metadata": {},
   "source": [
    "#### Extract the country codes into a dict, for use when visualizing grouped data"
   ]
  },
  {
   "cell_type": "code",
   "execution_count": 252,
   "id": "e13ece07",
   "metadata": {},
   "outputs": [
    {
     "data": {
      "text/plain": [
       "{'Cabo Verde': 'CPV',\n",
       " 'India': 'IND',\n",
       " 'Bangladesh': 'BGD',\n",
       " 'Belgium': 'BEL',\n",
       " 'Hong Kong': 'HKG',\n",
       " 'Haiti': 'HTI',\n",
       " 'Burkina Faso': 'BFA',\n",
       " 'Gambia (the)': 'GMB',\n",
       " 'Guinea-Bissau': 'GNB',\n",
       " 'Canada': 'CAN',\n",
       " 'China': 'CHN',\n",
       " 'Anguilla': 'AIA',\n",
       " 'Germany Fed Rep': 'DFR',\n",
       " 'Bahamas (the)': 'BHS',\n",
       " 'Cuba': 'CUB',\n",
       " 'Algeria': 'DZA',\n",
       " 'Guadeloupe': 'GLP',\n",
       " 'Dominica': 'DMA',\n",
       " 'Dominican Republic (the)': 'DOM',\n",
       " 'Greece': 'GRC',\n",
       " 'Belize': 'BLZ',\n",
       " 'Fiji': 'FJI',\n",
       " 'Honduras': 'HND',\n",
       " 'Australia': 'AUS',\n",
       " 'Cook Islands (the)': 'COK',\n",
       " 'Azores Islands': 'AZO',\n",
       " 'Bermuda': 'BMU',\n",
       " 'Brazil': 'BRA',\n",
       " 'France': 'FRA',\n",
       " 'Guatemala': 'GTM',\n",
       " 'Antigua and Barbuda': 'ATG',\n",
       " 'Ecuador': 'ECU',\n",
       " 'Comoros (the)': 'COM',\n",
       " 'United Kingdom of Great Britain and Northern Ireland (the)': 'GBR',\n",
       " 'Spain': 'ESP',\n",
       " 'Indonesia': 'IDN',\n",
       " 'Netherlands Antilles': 'ANT',\n",
       " 'Egypt': 'EGY',\n",
       " 'Barbados': 'BRB',\n",
       " 'Afghanistan': 'AFG',\n",
       " 'Argentina': 'ARG',\n",
       " 'Colombia': 'COL',\n",
       " 'Guam': 'GUM',\n",
       " 'Grenada': 'GRD',\n",
       " 'Bolivia (Plurinational State of)': 'BOL',\n",
       " 'Botswana': 'BWA',\n",
       " 'Chile': 'CHL',\n",
       " 'Ethiopia': 'ETH',\n",
       " 'American Samoa': 'ASM',\n",
       " 'Ghana': 'GHA',\n",
       " 'Benin': 'BEN',\n",
       " 'Costa Rica': 'CRI',\n",
       " 'Cyprus': 'CYP',\n",
       " 'Hungary': 'HUN',\n",
       " 'Cameroon': 'CMR',\n",
       " 'Guyana': 'GUY',\n",
       " 'Central African Republic': 'CAF',\n",
       " 'Austria': 'AUT',\n",
       " 'Switzerland': 'CHE',\n",
       " 'Denmark': 'DNK',\n",
       " 'Djibouti': 'DJI',\n",
       " 'United States of America (the)': 'USA',\n",
       " 'Jamaica': 'JAM',\n",
       " 'Myanmar': 'MMR',\n",
       " 'Niger (the)': 'NER',\n",
       " 'Philippines (the)': 'PHL',\n",
       " 'Japan': 'JPN',\n",
       " 'Mali': 'MLI',\n",
       " 'Mauritania': 'MRT',\n",
       " 'Senegal': 'SEN',\n",
       " 'Chad': 'TCD',\n",
       " 'Taiwan (Province of China)': 'TWN',\n",
       " 'Tokelau': 'TKL',\n",
       " 'Soviet Union': 'SUN',\n",
       " 'Pakistan': 'PAK',\n",
       " 'Romania': 'ROU',\n",
       " 'Saint Kitts and Nevis': 'KNA',\n",
       " 'Montserrat': 'MSR',\n",
       " 'Poland': 'POL',\n",
       " 'Puerto Rico': 'PRI',\n",
       " 'Mexico': 'MEX',\n",
       " 'Trinidad and Tobago': 'TTO',\n",
       " 'El Salvador': 'SLV',\n",
       " 'Korea (the Republic of)': 'KOR',\n",
       " 'New Zealand': 'NZL',\n",
       " 'Italy': 'ITA',\n",
       " 'New Caledonia': 'NCL',\n",
       " 'Réunion': 'REU',\n",
       " 'Turkey': 'TUR',\n",
       " 'Iran (Islamic Republic of)': 'IRN',\n",
       " 'Morocco': 'MAR',\n",
       " 'Netherlands (the)': 'NLD',\n",
       " 'Iraq': 'IRQ',\n",
       " 'Nepal': 'NPL',\n",
       " 'Lebanon': 'LBN',\n",
       " 'Mozambique': 'MOZ',\n",
       " 'Solomon Islands': 'SLB',\n",
       " 'Sri Lanka': 'LKA',\n",
       " 'Canary Is': 'SPI',\n",
       " 'French Polynesia': 'PYF',\n",
       " 'Niue': 'NIU',\n",
       " 'Saint Lucia': 'LCA',\n",
       " 'Martinique': 'MTQ',\n",
       " 'Mauritius': 'MUS',\n",
       " 'Nicaragua': 'NIC',\n",
       " 'Somalia': 'SOM',\n",
       " 'Tonga': 'TON',\n",
       " 'Peru': 'PER',\n",
       " 'Thailand': 'THA',\n",
       " 'Tunisia': 'TUN',\n",
       " 'Jordan': 'JOR',\n",
       " 'Paraguay': 'PRY',\n",
       " 'Kenya': 'KEN',\n",
       " 'Panama': 'PAN',\n",
       " 'Saudi Arabia': 'SAU',\n",
       " 'Tanzania, United Republic of': 'TZA',\n",
       " 'Malaysia': 'MYS',\n",
       " \"Lao People's Democratic Republic (the)\": 'LAO',\n",
       " 'Mongolia': 'MNG',\n",
       " 'Togo': 'TGO',\n",
       " 'Malawi': 'MWI',\n",
       " 'Portugal': 'PRT',\n",
       " 'Syrian Arab Republic': 'SYR',\n",
       " 'Uganda': 'UGA',\n",
       " 'Uruguay': 'URY',\n",
       " 'Lesotho': 'LSO',\n",
       " 'Madagascar': 'MDG',\n",
       " 'Suriname': 'SUR',\n",
       " 'Kiribati': 'KIR',\n",
       " 'Papua New Guinea': 'PNG',\n",
       " 'Tuvalu': 'TUV',\n",
       " 'Rwanda': 'RWA',\n",
       " 'Sudan (the)': 'SDN',\n",
       " 'Sierra Leone': 'SLE',\n",
       " 'Sweden': 'SWE',\n",
       " 'Oman': 'OMN',\n",
       " 'Nigeria': 'NGA',\n",
       " 'Vanuatu': 'VUT',\n",
       " 'South Africa': 'ZAF',\n",
       " 'Viet Nam': 'VNM',\n",
       " 'Saint Vincent and the Grenadines': 'VCT',\n",
       " 'Samoa': 'WSM',\n",
       " 'Yugoslavia': 'YUG',\n",
       " 'Wallis and Futuna': 'WLF',\n",
       " 'Venezuela (Bolivarian Republic of)': 'VEN',\n",
       " 'Yemen Arab Rep': 'YMN',\n",
       " 'Yemen P Dem Rep': 'YMD',\n",
       " 'Zimbabwe': 'ZWE',\n",
       " 'Zambia': 'ZMB',\n",
       " 'Côte d’Ivoire': 'CIV',\n",
       " 'Guinea': 'GIN',\n",
       " 'Angola': 'AGO',\n",
       " 'Bulgaria': 'BGR',\n",
       " 'Czechoslovakia': 'CSK',\n",
       " 'Congo (the)': 'COG',\n",
       " 'Germany Dem Rep': 'DDR',\n",
       " 'Micronesia (Federated States of)': 'FSM',\n",
       " 'Gabon': 'GAB',\n",
       " 'Liberia': 'LBR',\n",
       " 'Namibia': 'NAM',\n",
       " 'Ireland': 'IRL',\n",
       " 'Israel': 'ISR',\n",
       " 'Luxembourg': 'LUX',\n",
       " 'Cambodia': 'KHM',\n",
       " 'Maldives': 'MDV',\n",
       " \"Korea (the Democratic People's Republic of)\": 'PRK',\n",
       " 'Iceland': 'ISL',\n",
       " 'Congo (the Democratic Republic of the)': 'COD',\n",
       " 'Eswatini': 'SWZ',\n",
       " 'Sao Tome and Principe': 'STP',\n",
       " 'Turks and Caicos Islands (the)': 'TCA',\n",
       " 'Albania': 'ALB',\n",
       " 'Burundi': 'BDI',\n",
       " 'Germany': 'DEU',\n",
       " 'Belarus': 'BLR',\n",
       " 'Finland': 'FIN',\n",
       " 'Norway': 'NOR',\n",
       " 'Marshall Islands (the)': 'MHL',\n",
       " 'Lithuania': 'LTU',\n",
       " 'Russian Federation (the)': 'RUS',\n",
       " 'Eritrea': 'ERI',\n",
       " 'Macedonia (the former Yugoslav Republic of)': 'MKD',\n",
       " 'Kazakhstan': 'KAZ',\n",
       " 'Macao': 'MAC',\n",
       " 'Virgin Island (U.S.)': 'VIR',\n",
       " 'Tajikistan': 'TJK',\n",
       " 'Yemen': 'YEM',\n",
       " 'Serbia Montenegro': 'SCG',\n",
       " 'Ukraine': 'UKR',\n",
       " 'Turkmenistan': 'TKM',\n",
       " 'Bhutan': 'BTN',\n",
       " 'Azerbaijan': 'AZE',\n",
       " 'Armenia': 'ARM',\n",
       " 'Brunei Darussalam': 'BRN',\n",
       " 'Moldova (the Republic of)': 'MDA',\n",
       " 'Georgia': 'GEO',\n",
       " 'Libya': 'LBY',\n",
       " 'Czech Republic (the)': 'CZE',\n",
       " 'French Guiana': 'GUF',\n",
       " 'Croatia': 'HRV',\n",
       " 'Kuwait': 'KWT',\n",
       " 'Kyrgyzstan': 'KGZ',\n",
       " 'Virgin Island (British)': 'VGB',\n",
       " 'Slovakia': 'SVK',\n",
       " 'Seychelles': 'SYC',\n",
       " 'Bosnia and Herzegovina': 'BIH',\n",
       " 'Latvia': 'LVA',\n",
       " 'Uzbekistan': 'UZB',\n",
       " 'Cayman Islands (the)': 'CYM',\n",
       " 'Saint Helena, Ascension and Tristan da Cunha': 'SHN',\n",
       " 'Timor-Leste': 'TLS',\n",
       " 'Northern Mariana Islands (the)': 'MNP',\n",
       " 'Estonia': 'EST',\n",
       " 'Slovenia': 'SVN',\n",
       " 'Palestine, State of': 'PSE',\n",
       " 'Montenegro': 'MNE',\n",
       " 'Serbia': 'SRB',\n",
       " 'South Sudan': 'SSD',\n",
       " 'Palau': 'PLW',\n",
       " 'United Arab Emirates (the)': 'ARE',\n",
       " 'Qatar': 'QAT',\n",
       " 'Saint Barthélemy': 'BLM',\n",
       " 'Saint Martin (French Part)': 'MAF',\n",
       " 'Sint Maarten (Dutch part)': 'SXM',\n",
       " 'Isle of Man': 'IMN'}"
      ]
     },
     "execution_count": 252,
     "metadata": {},
     "output_type": "execute_result"
    }
   ],
   "source": [
    "country_codes = cleaned_df[[\"Country\", \"ISO\"]]\n",
    "country_codes.set_index(\"Country\", inplace=True)\n",
    "country_codes = country_codes.to_dict()[\"ISO\"]\n",
    "country_codes"
   ]
  },
  {
   "cell_type": "markdown",
   "id": "8b95aae0",
   "metadata": {},
   "source": [
    "#### Create a data frame with the country, ISO and years (each year as a column with the frequency of floods, fire & drought)"
   ]
  },
  {
   "cell_type": "code",
   "execution_count": 253,
   "id": "01dd9df6",
   "metadata": {},
   "outputs": [],
   "source": [
    "def create_frequency_df(df):\n",
    "  data = []\n",
    "  for k, v in country_codes.items():\n",
    "    l = {\n",
    "         \"Country\": k, \n",
    "         \"ISO\": v, \n",
    "         \"flood_freq\": len(df[(df[\"Country\"] == k) & (df[\"Disaster Type\"] == \"Flood\")]), \n",
    "         \"drought_freq\": len(df[(df[\"Country\"] == k) & (df[\"Disaster Type\"] == \"Drought\")]), \n",
    "         \"fire_freq\": len(df[(df[\"Country\"] == k) & (df[\"Disaster Type\"] == \"Wildfire\")])\n",
    "        }\n",
    "    data.append(l)\n",
    "  frequency_df = pd.DataFrame.from_records(data)\n",
    "  return frequency_df"
   ]
  },
  {
   "cell_type": "markdown",
   "id": "03d1dbc4",
   "metadata": {},
   "source": [
    "### Subset: 2011-2021"
   ]
  },
  {
   "cell_type": "code",
   "execution_count": 254,
   "id": "321af2c2",
   "metadata": {},
   "outputs": [
    {
     "data": {
      "text/html": [
       "<div>\n",
       "<style scoped>\n",
       "    .dataframe tbody tr th:only-of-type {\n",
       "        vertical-align: middle;\n",
       "    }\n",
       "\n",
       "    .dataframe tbody tr th {\n",
       "        vertical-align: top;\n",
       "    }\n",
       "\n",
       "    .dataframe thead th {\n",
       "        text-align: right;\n",
       "    }\n",
       "</style>\n",
       "<table border=\"1\" class=\"dataframe\">\n",
       "  <thead>\n",
       "    <tr style=\"text-align: right;\">\n",
       "      <th></th>\n",
       "      <th>Country</th>\n",
       "      <th>ISO</th>\n",
       "      <th>flood_freq</th>\n",
       "      <th>drought_freq</th>\n",
       "      <th>fire_freq</th>\n",
       "    </tr>\n",
       "  </thead>\n",
       "  <tbody>\n",
       "    <tr>\n",
       "      <th>35</th>\n",
       "      <td>Indonesia</td>\n",
       "      <td>IDN</td>\n",
       "      <td>112</td>\n",
       "      <td>1</td>\n",
       "      <td>2</td>\n",
       "    </tr>\n",
       "    <tr>\n",
       "      <th>10</th>\n",
       "      <td>China</td>\n",
       "      <td>CHN</td>\n",
       "      <td>103</td>\n",
       "      <td>7</td>\n",
       "      <td>2</td>\n",
       "    </tr>\n",
       "    <tr>\n",
       "      <th>1</th>\n",
       "      <td>India</td>\n",
       "      <td>IND</td>\n",
       "      <td>80</td>\n",
       "      <td>2</td>\n",
       "      <td>2</td>\n",
       "    </tr>\n",
       "    <tr>\n",
       "      <th>61</th>\n",
       "      <td>United States of America (the)</td>\n",
       "      <td>USA</td>\n",
       "      <td>49</td>\n",
       "      <td>9</td>\n",
       "      <td>34</td>\n",
       "    </tr>\n",
       "    <tr>\n",
       "      <th>27</th>\n",
       "      <td>Brazil</td>\n",
       "      <td>BRA</td>\n",
       "      <td>48</td>\n",
       "      <td>4</td>\n",
       "      <td>1</td>\n",
       "    </tr>\n",
       "  </tbody>\n",
       "</table>\n",
       "</div>"
      ],
      "text/plain": [
       "                           Country  ISO  flood_freq  drought_freq  fire_freq\n",
       "35                       Indonesia  IDN         112             1          2\n",
       "10                           China  CHN         103             7          2\n",
       "1                            India  IND          80             2          2\n",
       "61  United States of America (the)  USA          49             9         34\n",
       "27                          Brazil  BRA          48             4          1"
      ]
     },
     "execution_count": 254,
     "metadata": {},
     "output_type": "execute_result"
    }
   ],
   "source": [
    "chosen_years_recent = [2011, 2012, 2013, 2014, 2015, 2016, 2017, 2018, 2019, 2020, 2021]\n",
    "cleaned_df_subset_3 = cleaned_df_subset[cleaned_df_subset[\"Year\"].isin(chosen_years_recent)]\n",
    "freq_df = create_frequency_df(cleaned_df_subset_3)\n",
    "freq_df.sort_values(by=[\"flood_freq\"], ascending=False, inplace=True)\n",
    "freq_df.head(5)"
   ]
  },
  {
   "cell_type": "markdown",
   "id": "3a5978a3",
   "metadata": {},
   "source": [
    "#### Quick sanity check to see if the numbers match up with the original dataset (i.e no errors in calculation)"
   ]
  },
  {
   "cell_type": "code",
   "execution_count": 255,
   "id": "3597ae8b",
   "metadata": {},
   "outputs": [],
   "source": [
    "test_country = \"Malaysia\"\n",
    "test_disaster_type = \"Flood\""
   ]
  },
  {
   "cell_type": "code",
   "execution_count": 256,
   "id": "9036fbc4",
   "metadata": {},
   "outputs": [
    {
     "data": {
      "text/html": [
       "<div>\n",
       "<style scoped>\n",
       "    .dataframe tbody tr th:only-of-type {\n",
       "        vertical-align: middle;\n",
       "    }\n",
       "\n",
       "    .dataframe tbody tr th {\n",
       "        vertical-align: top;\n",
       "    }\n",
       "\n",
       "    .dataframe thead th {\n",
       "        text-align: right;\n",
       "    }\n",
       "</style>\n",
       "<table border=\"1\" class=\"dataframe\">\n",
       "  <thead>\n",
       "    <tr style=\"text-align: right;\">\n",
       "      <th></th>\n",
       "      <th>Country</th>\n",
       "      <th>ISO</th>\n",
       "      <th>flood_freq</th>\n",
       "      <th>drought_freq</th>\n",
       "      <th>fire_freq</th>\n",
       "    </tr>\n",
       "  </thead>\n",
       "  <tbody>\n",
       "    <tr>\n",
       "      <th>116</th>\n",
       "      <td>Malaysia</td>\n",
       "      <td>MYS</td>\n",
       "      <td>30</td>\n",
       "      <td>1</td>\n",
       "      <td>0</td>\n",
       "    </tr>\n",
       "  </tbody>\n",
       "</table>\n",
       "</div>"
      ],
      "text/plain": [
       "      Country  ISO  flood_freq  drought_freq  fire_freq\n",
       "116  Malaysia  MYS          30             1          0"
      ]
     },
     "execution_count": 256,
     "metadata": {},
     "output_type": "execute_result"
    }
   ],
   "source": [
    "freq_df[freq_df[\"Country\"] == test_country]"
   ]
  },
  {
   "cell_type": "code",
   "execution_count": 259,
   "id": "45b5c3d2",
   "metadata": {},
   "outputs": [
    {
     "data": {
      "text/plain": [
       "(30, 17)"
      ]
     },
     "execution_count": 259,
     "metadata": {},
     "output_type": "execute_result"
    }
   ],
   "source": [
    "test = cleaned_df[(cleaned_df[\"Country\"] == test_country) & (cleaned_df[\"Disaster Type\"] == test_disaster_type) & (cleaned_df[\"Year\"].isin(chosen_years_recent))]\n",
    "test.shape"
   ]
  },
  {
   "cell_type": "markdown",
   "id": "4f6e82c8",
   "metadata": {},
   "source": [
    "### Visualization"
   ]
  },
  {
   "cell_type": "markdown",
   "id": "3e9d808a",
   "metadata": {},
   "source": [
    "#### Visualization of flood frequency"
   ]
  },
  {
   "cell_type": "code",
   "execution_count": 288,
   "id": "edce6d34",
   "metadata": {},
   "outputs": [
    {
     "data": {
      "application/vnd.plotly.v1+json": {
       "config": {
        "plotlyServerURL": "https://plot.ly"
       },
       "data": [
        {
         "colorbar": {
          "title": {
           "text": "Flood frequency<br>(2011-2021)<br>"
          }
         },
         "colorscale": [
          [
           0,
           "rgb(247,251,255)"
          ],
          [
           0.125,
           "rgb(222,235,247)"
          ],
          [
           0.25,
           "rgb(198,219,239)"
          ],
          [
           0.375,
           "rgb(158,202,225)"
          ],
          [
           0.5,
           "rgb(107,174,214)"
          ],
          [
           0.625,
           "rgb(66,146,198)"
          ],
          [
           0.75,
           "rgb(33,113,181)"
          ],
          [
           0.875,
           "rgb(8,81,156)"
          ],
          [
           1,
           "rgb(8,48,107)"
          ]
         ],
         "locations": [
          "IDN",
          "CHN",
          "IND",
          "USA",
          "BRA",
          "PHL",
          "PAK",
          "COL",
          "AFG",
          "VNM",
          "MYS",
          "PER",
          "LKA",
          "THA",
          "RUS",
          "BOL",
          "AGO",
          "ARG",
          "TZA",
          "FRA",
          "MEX",
          "IRN",
          "KEN",
          "NGA",
          "ITA",
          "HTI",
          "NPL",
          "COD",
          "UGA",
          "MMR",
          "GTM",
          "NER",
          "RWA",
          "MWI",
          "MOZ",
          "BGD",
          "SOM",
          "YEM",
          "SAU",
          "SDN",
          "PRY",
          "JPN",
          "GHA",
          "ESP",
          "TJK",
          "TUR",
          "VEN",
          "AUS",
          "SRB",
          "ZAF",
          "ROU",
          "BDI",
          "GBR",
          "CAN",
          "GEO",
          "ECU",
          "LAO",
          "DOM",
          "PRK",
          "KHM",
          "CHL",
          "NZL",
          "URY",
          "ETH",
          "IRQ",
          "PNG",
          "PAN",
          "SSD",
          "HND",
          "BIH",
          "DZA",
          "GRC",
          "BFA",
          "MLI",
          "BGR",
          "CIV",
          "ALB",
          "COG",
          "NIC",
          "ZMB",
          "KAZ",
          "CMR",
          "TCD",
          "MNG",
          "HRV",
          "NAM",
          "SEN",
          "GIN",
          "CAF",
          "CRI",
          "BEN",
          "MAR",
          "ZWE",
          "DEU",
          "KOR",
          "BWA",
          "MDG",
          "TUN",
          "SLE",
          "OMN",
          "MKD",
          "SLV",
          "MRT",
          "CUB",
          "SVN",
          "HUN",
          "AUT",
          "POL",
          "UKR",
          "SLB",
          "GUY",
          "VCT",
          "SVK",
          "BEL",
          "LSO",
          "FJI",
          "GMB",
          "PSE",
          "IRL",
          "SYR",
          "PRI",
          "LBY",
          "EGY",
          "CZE",
          "TWN",
          "DJI",
          "JOR",
          "TGO",
          "ISR",
          "LUX",
          "MHL",
          "QAT",
          "STP",
          "ARE",
          "SWZ",
          "MDV",
          "KWT",
          "TLS",
          "UZB",
          "GAB",
          "SYC",
          "LBR",
          "BLR",
          "GUF",
          "KGZ",
          "BTN",
          "CPV",
          "PRT",
          "KIR",
          "NLD",
          "PYF",
          "LCA",
          "BHS",
          "MUS",
          "COM",
          "TTO",
          "SUR",
          "BLZ",
          "SWE",
          "CHE",
          "ANT",
          "BRB",
          "GUM",
          "GRD",
          "ASM",
          "MDA",
          "ATG",
          "VGB",
          "BMU",
          "AZO",
          "COK",
          "BRN",
          "LVA",
          "YMD",
          "DMA",
          "CYM",
          "SHN",
          "AZE",
          "MNP",
          "EST",
          "GLP",
          "MNE",
          "DFR",
          "AIA",
          "PLW",
          "GNB",
          "HKG",
          "BLM",
          "MAF",
          "SXM",
          "ARM",
          "DNK",
          "CYP",
          "TCA",
          "WLF",
          "YUG",
          "WSM",
          "VUT",
          "CSK",
          "DDR",
          "FSM",
          "TUV",
          "TON",
          "MTQ",
          "NIU",
          "ISL",
          "SPI",
          "LBN",
          "REU",
          "TKM",
          "NCL",
          "FIN",
          "NOR",
          "MSR",
          "LTU",
          "KNA",
          "ERI",
          "SUN",
          "TKL",
          "MAC",
          "VIR",
          "JAM",
          "YMN",
          "SCG",
          "IMN"
         ],
         "marker": {
          "line": {
           "color": "darkgray",
           "width": 0.5
          }
         },
         "text": [
          "Indonesia",
          "China",
          "India",
          "United States of America (the)",
          "Brazil",
          "Philippines (the)",
          "Pakistan",
          "Colombia",
          "Afghanistan",
          "Viet Nam",
          "Malaysia",
          "Peru",
          "Sri Lanka",
          "Thailand",
          "Russian Federation (the)",
          "Bolivia (Plurinational State of)",
          "Angola",
          "Argentina",
          "Tanzania, United Republic of",
          "France",
          "Mexico",
          "Iran (Islamic Republic of)",
          "Kenya",
          "Nigeria",
          "Italy",
          "Haiti",
          "Nepal",
          "Congo (the Democratic Republic of the)",
          "Uganda",
          "Myanmar",
          "Guatemala",
          "Niger (the)",
          "Rwanda",
          "Malawi",
          "Mozambique",
          "Bangladesh",
          "Somalia",
          "Yemen",
          "Saudi Arabia",
          "Sudan (the)",
          "Paraguay",
          "Japan",
          "Ghana",
          "Spain",
          "Tajikistan",
          "Turkey",
          "Venezuela (Bolivarian Republic of)",
          "Australia",
          "Serbia",
          "South Africa",
          "Romania",
          "Burundi",
          "United Kingdom of Great Britain and Northern Ireland (the)",
          "Canada",
          "Georgia",
          "Ecuador",
          "Lao People's Democratic Republic (the)",
          "Dominican Republic (the)",
          "Korea (the Democratic People's Republic of)",
          "Cambodia",
          "Chile",
          "New Zealand",
          "Uruguay",
          "Ethiopia",
          "Iraq",
          "Papua New Guinea",
          "Panama",
          "South Sudan",
          "Honduras",
          "Bosnia and Herzegovina",
          "Algeria",
          "Greece",
          "Burkina Faso",
          "Mali",
          "Bulgaria",
          "Côte d’Ivoire",
          "Albania",
          "Congo (the)",
          "Nicaragua",
          "Zambia",
          "Kazakhstan",
          "Cameroon",
          "Chad",
          "Mongolia",
          "Croatia",
          "Namibia",
          "Senegal",
          "Guinea",
          "Central African Republic",
          "Costa Rica",
          "Benin",
          "Morocco",
          "Zimbabwe",
          "Germany",
          "Korea (the Republic of)",
          "Botswana",
          "Madagascar",
          "Tunisia",
          "Sierra Leone",
          "Oman",
          "Macedonia (the former Yugoslav Republic of)",
          "El Salvador",
          "Mauritania",
          "Cuba",
          "Slovenia",
          "Hungary",
          "Austria",
          "Poland",
          "Ukraine",
          "Solomon Islands",
          "Guyana",
          "Saint Vincent and the Grenadines",
          "Slovakia",
          "Belgium",
          "Lesotho",
          "Fiji",
          "Gambia (the)",
          "Palestine, State of",
          "Ireland",
          "Syrian Arab Republic",
          "Puerto Rico",
          "Libya",
          "Egypt",
          "Czech Republic (the)",
          "Taiwan (Province of China)",
          "Djibouti",
          "Jordan",
          "Togo",
          "Israel",
          "Luxembourg",
          "Marshall Islands (the)",
          "Qatar",
          "Sao Tome and Principe",
          "United Arab Emirates (the)",
          "Eswatini",
          "Maldives",
          "Kuwait",
          "Timor-Leste",
          "Uzbekistan",
          "Gabon",
          "Seychelles",
          "Liberia",
          "Belarus",
          "French Guiana",
          "Kyrgyzstan",
          "Bhutan",
          "Cabo Verde",
          "Portugal",
          "Kiribati",
          "Netherlands (the)",
          "French Polynesia",
          "Saint Lucia",
          "Bahamas (the)",
          "Mauritius",
          "Comoros (the)",
          "Trinidad and Tobago",
          "Suriname",
          "Belize",
          "Sweden",
          "Switzerland",
          "Netherlands Antilles",
          "Barbados",
          "Guam",
          "Grenada",
          "American Samoa",
          "Moldova (the Republic of)",
          "Antigua and Barbuda",
          "Virgin Island (British)",
          "Bermuda",
          "Azores Islands",
          "Cook Islands (the)",
          "Brunei Darussalam",
          "Latvia",
          "Yemen P Dem Rep",
          "Dominica",
          "Cayman Islands (the)",
          "Saint Helena, Ascension and Tristan da Cunha",
          "Azerbaijan",
          "Northern Mariana Islands (the)",
          "Estonia",
          "Guadeloupe",
          "Montenegro",
          "Germany Fed Rep",
          "Anguilla",
          "Palau",
          "Guinea-Bissau",
          "Hong Kong",
          "Saint Barthélemy",
          "Saint Martin (French Part)",
          "Sint Maarten (Dutch part)",
          "Armenia",
          "Denmark",
          "Cyprus",
          "Turks and Caicos Islands (the)",
          "Wallis and Futuna",
          "Yugoslavia",
          "Samoa",
          "Vanuatu",
          "Czechoslovakia",
          "Germany Dem Rep",
          "Micronesia (Federated States of)",
          "Tuvalu",
          "Tonga",
          "Martinique",
          "Niue",
          "Iceland",
          "Canary Is",
          "Lebanon",
          "Réunion",
          "Turkmenistan",
          "New Caledonia",
          "Finland",
          "Norway",
          "Montserrat",
          "Lithuania",
          "Saint Kitts and Nevis",
          "Eritrea",
          "Soviet Union",
          "Tokelau",
          "Macao",
          "Virgin Island (U.S.)",
          "Jamaica",
          "Yemen Arab Rep",
          "Serbia Montenegro",
          "Isle of Man"
         ],
         "type": "choropleth",
         "z": [
          112,
          103,
          80,
          49,
          48,
          48,
          39,
          37,
          36,
          33,
          30,
          29,
          28,
          26,
          23,
          21,
          21,
          21,
          21,
          21,
          20,
          20,
          20,
          20,
          19,
          19,
          19,
          18,
          18,
          18,
          17,
          17,
          15,
          15,
          15,
          15,
          14,
          13,
          13,
          13,
          13,
          13,
          13,
          13,
          12,
          12,
          12,
          12,
          12,
          12,
          11,
          11,
          11,
          11,
          10,
          10,
          10,
          10,
          10,
          10,
          10,
          10,
          9,
          9,
          9,
          9,
          9,
          9,
          9,
          9,
          8,
          8,
          8,
          8,
          8,
          8,
          7,
          7,
          7,
          7,
          7,
          7,
          6,
          6,
          6,
          6,
          6,
          6,
          5,
          5,
          5,
          5,
          5,
          5,
          5,
          4,
          4,
          4,
          4,
          4,
          4,
          4,
          4,
          3,
          3,
          3,
          3,
          3,
          3,
          3,
          3,
          3,
          3,
          3,
          2,
          2,
          2,
          2,
          2,
          2,
          2,
          2,
          2,
          2,
          2,
          2,
          2,
          2,
          2,
          1,
          1,
          1,
          1,
          1,
          1,
          1,
          1,
          1,
          1,
          1,
          1,
          1,
          1,
          1,
          1,
          1,
          1,
          1,
          1,
          1,
          1,
          1,
          1,
          1,
          1,
          1,
          1,
          1,
          1,
          1,
          0,
          0,
          0,
          0,
          0,
          0,
          0,
          0,
          0,
          0,
          0,
          0,
          0,
          0,
          0,
          0,
          0,
          0,
          0,
          0,
          0,
          0,
          0,
          0,
          0,
          0,
          0,
          0,
          0,
          0,
          0,
          0,
          0,
          0,
          0,
          0,
          0,
          0,
          0,
          0,
          0,
          0,
          0,
          0,
          0,
          0,
          0,
          0,
          0,
          0,
          0,
          0,
          0,
          0,
          0,
          0,
          0,
          0,
          0,
          0,
          0,
          0,
          0,
          0,
          0
         ]
        }
       ],
       "layout": {
        "geo": {
         "showcoastlines": false,
         "showframe": false
        },
        "template": {
         "data": {
          "bar": [
           {
            "error_x": {
             "color": "#2a3f5f"
            },
            "error_y": {
             "color": "#2a3f5f"
            },
            "marker": {
             "line": {
              "color": "#E5ECF6",
              "width": 0.5
             }
            },
            "type": "bar"
           }
          ],
          "barpolar": [
           {
            "marker": {
             "line": {
              "color": "#E5ECF6",
              "width": 0.5
             }
            },
            "type": "barpolar"
           }
          ],
          "carpet": [
           {
            "aaxis": {
             "endlinecolor": "#2a3f5f",
             "gridcolor": "white",
             "linecolor": "white",
             "minorgridcolor": "white",
             "startlinecolor": "#2a3f5f"
            },
            "baxis": {
             "endlinecolor": "#2a3f5f",
             "gridcolor": "white",
             "linecolor": "white",
             "minorgridcolor": "white",
             "startlinecolor": "#2a3f5f"
            },
            "type": "carpet"
           }
          ],
          "choropleth": [
           {
            "colorbar": {
             "outlinewidth": 0,
             "ticks": ""
            },
            "type": "choropleth"
           }
          ],
          "contour": [
           {
            "colorbar": {
             "outlinewidth": 0,
             "ticks": ""
            },
            "colorscale": [
             [
              0,
              "#0d0887"
             ],
             [
              0.1111111111111111,
              "#46039f"
             ],
             [
              0.2222222222222222,
              "#7201a8"
             ],
             [
              0.3333333333333333,
              "#9c179e"
             ],
             [
              0.4444444444444444,
              "#bd3786"
             ],
             [
              0.5555555555555556,
              "#d8576b"
             ],
             [
              0.6666666666666666,
              "#ed7953"
             ],
             [
              0.7777777777777778,
              "#fb9f3a"
             ],
             [
              0.8888888888888888,
              "#fdca26"
             ],
             [
              1,
              "#f0f921"
             ]
            ],
            "type": "contour"
           }
          ],
          "contourcarpet": [
           {
            "colorbar": {
             "outlinewidth": 0,
             "ticks": ""
            },
            "type": "contourcarpet"
           }
          ],
          "heatmap": [
           {
            "colorbar": {
             "outlinewidth": 0,
             "ticks": ""
            },
            "colorscale": [
             [
              0,
              "#0d0887"
             ],
             [
              0.1111111111111111,
              "#46039f"
             ],
             [
              0.2222222222222222,
              "#7201a8"
             ],
             [
              0.3333333333333333,
              "#9c179e"
             ],
             [
              0.4444444444444444,
              "#bd3786"
             ],
             [
              0.5555555555555556,
              "#d8576b"
             ],
             [
              0.6666666666666666,
              "#ed7953"
             ],
             [
              0.7777777777777778,
              "#fb9f3a"
             ],
             [
              0.8888888888888888,
              "#fdca26"
             ],
             [
              1,
              "#f0f921"
             ]
            ],
            "type": "heatmap"
           }
          ],
          "heatmapgl": [
           {
            "colorbar": {
             "outlinewidth": 0,
             "ticks": ""
            },
            "colorscale": [
             [
              0,
              "#0d0887"
             ],
             [
              0.1111111111111111,
              "#46039f"
             ],
             [
              0.2222222222222222,
              "#7201a8"
             ],
             [
              0.3333333333333333,
              "#9c179e"
             ],
             [
              0.4444444444444444,
              "#bd3786"
             ],
             [
              0.5555555555555556,
              "#d8576b"
             ],
             [
              0.6666666666666666,
              "#ed7953"
             ],
             [
              0.7777777777777778,
              "#fb9f3a"
             ],
             [
              0.8888888888888888,
              "#fdca26"
             ],
             [
              1,
              "#f0f921"
             ]
            ],
            "type": "heatmapgl"
           }
          ],
          "histogram": [
           {
            "marker": {
             "colorbar": {
              "outlinewidth": 0,
              "ticks": ""
             }
            },
            "type": "histogram"
           }
          ],
          "histogram2d": [
           {
            "colorbar": {
             "outlinewidth": 0,
             "ticks": ""
            },
            "colorscale": [
             [
              0,
              "#0d0887"
             ],
             [
              0.1111111111111111,
              "#46039f"
             ],
             [
              0.2222222222222222,
              "#7201a8"
             ],
             [
              0.3333333333333333,
              "#9c179e"
             ],
             [
              0.4444444444444444,
              "#bd3786"
             ],
             [
              0.5555555555555556,
              "#d8576b"
             ],
             [
              0.6666666666666666,
              "#ed7953"
             ],
             [
              0.7777777777777778,
              "#fb9f3a"
             ],
             [
              0.8888888888888888,
              "#fdca26"
             ],
             [
              1,
              "#f0f921"
             ]
            ],
            "type": "histogram2d"
           }
          ],
          "histogram2dcontour": [
           {
            "colorbar": {
             "outlinewidth": 0,
             "ticks": ""
            },
            "colorscale": [
             [
              0,
              "#0d0887"
             ],
             [
              0.1111111111111111,
              "#46039f"
             ],
             [
              0.2222222222222222,
              "#7201a8"
             ],
             [
              0.3333333333333333,
              "#9c179e"
             ],
             [
              0.4444444444444444,
              "#bd3786"
             ],
             [
              0.5555555555555556,
              "#d8576b"
             ],
             [
              0.6666666666666666,
              "#ed7953"
             ],
             [
              0.7777777777777778,
              "#fb9f3a"
             ],
             [
              0.8888888888888888,
              "#fdca26"
             ],
             [
              1,
              "#f0f921"
             ]
            ],
            "type": "histogram2dcontour"
           }
          ],
          "mesh3d": [
           {
            "colorbar": {
             "outlinewidth": 0,
             "ticks": ""
            },
            "type": "mesh3d"
           }
          ],
          "parcoords": [
           {
            "line": {
             "colorbar": {
              "outlinewidth": 0,
              "ticks": ""
             }
            },
            "type": "parcoords"
           }
          ],
          "pie": [
           {
            "automargin": true,
            "type": "pie"
           }
          ],
          "scatter": [
           {
            "marker": {
             "colorbar": {
              "outlinewidth": 0,
              "ticks": ""
             }
            },
            "type": "scatter"
           }
          ],
          "scatter3d": [
           {
            "line": {
             "colorbar": {
              "outlinewidth": 0,
              "ticks": ""
             }
            },
            "marker": {
             "colorbar": {
              "outlinewidth": 0,
              "ticks": ""
             }
            },
            "type": "scatter3d"
           }
          ],
          "scattercarpet": [
           {
            "marker": {
             "colorbar": {
              "outlinewidth": 0,
              "ticks": ""
             }
            },
            "type": "scattercarpet"
           }
          ],
          "scattergeo": [
           {
            "marker": {
             "colorbar": {
              "outlinewidth": 0,
              "ticks": ""
             }
            },
            "type": "scattergeo"
           }
          ],
          "scattergl": [
           {
            "marker": {
             "colorbar": {
              "outlinewidth": 0,
              "ticks": ""
             }
            },
            "type": "scattergl"
           }
          ],
          "scattermapbox": [
           {
            "marker": {
             "colorbar": {
              "outlinewidth": 0,
              "ticks": ""
             }
            },
            "type": "scattermapbox"
           }
          ],
          "scatterpolar": [
           {
            "marker": {
             "colorbar": {
              "outlinewidth": 0,
              "ticks": ""
             }
            },
            "type": "scatterpolar"
           }
          ],
          "scatterpolargl": [
           {
            "marker": {
             "colorbar": {
              "outlinewidth": 0,
              "ticks": ""
             }
            },
            "type": "scatterpolargl"
           }
          ],
          "scatterternary": [
           {
            "marker": {
             "colorbar": {
              "outlinewidth": 0,
              "ticks": ""
             }
            },
            "type": "scatterternary"
           }
          ],
          "surface": [
           {
            "colorbar": {
             "outlinewidth": 0,
             "ticks": ""
            },
            "colorscale": [
             [
              0,
              "#0d0887"
             ],
             [
              0.1111111111111111,
              "#46039f"
             ],
             [
              0.2222222222222222,
              "#7201a8"
             ],
             [
              0.3333333333333333,
              "#9c179e"
             ],
             [
              0.4444444444444444,
              "#bd3786"
             ],
             [
              0.5555555555555556,
              "#d8576b"
             ],
             [
              0.6666666666666666,
              "#ed7953"
             ],
             [
              0.7777777777777778,
              "#fb9f3a"
             ],
             [
              0.8888888888888888,
              "#fdca26"
             ],
             [
              1,
              "#f0f921"
             ]
            ],
            "type": "surface"
           }
          ],
          "table": [
           {
            "cells": {
             "fill": {
              "color": "#EBF0F8"
             },
             "line": {
              "color": "white"
             }
            },
            "header": {
             "fill": {
              "color": "#C8D4E3"
             },
             "line": {
              "color": "white"
             }
            },
            "type": "table"
           }
          ]
         },
         "layout": {
          "annotationdefaults": {
           "arrowcolor": "#2a3f5f",
           "arrowhead": 0,
           "arrowwidth": 1
          },
          "autotypenumbers": "strict",
          "coloraxis": {
           "colorbar": {
            "outlinewidth": 0,
            "ticks": ""
           }
          },
          "colorscale": {
           "diverging": [
            [
             0,
             "#8e0152"
            ],
            [
             0.1,
             "#c51b7d"
            ],
            [
             0.2,
             "#de77ae"
            ],
            [
             0.3,
             "#f1b6da"
            ],
            [
             0.4,
             "#fde0ef"
            ],
            [
             0.5,
             "#f7f7f7"
            ],
            [
             0.6,
             "#e6f5d0"
            ],
            [
             0.7,
             "#b8e186"
            ],
            [
             0.8,
             "#7fbc41"
            ],
            [
             0.9,
             "#4d9221"
            ],
            [
             1,
             "#276419"
            ]
           ],
           "sequential": [
            [
             0,
             "#0d0887"
            ],
            [
             0.1111111111111111,
             "#46039f"
            ],
            [
             0.2222222222222222,
             "#7201a8"
            ],
            [
             0.3333333333333333,
             "#9c179e"
            ],
            [
             0.4444444444444444,
             "#bd3786"
            ],
            [
             0.5555555555555556,
             "#d8576b"
            ],
            [
             0.6666666666666666,
             "#ed7953"
            ],
            [
             0.7777777777777778,
             "#fb9f3a"
            ],
            [
             0.8888888888888888,
             "#fdca26"
            ],
            [
             1,
             "#f0f921"
            ]
           ],
           "sequentialminus": [
            [
             0,
             "#0d0887"
            ],
            [
             0.1111111111111111,
             "#46039f"
            ],
            [
             0.2222222222222222,
             "#7201a8"
            ],
            [
             0.3333333333333333,
             "#9c179e"
            ],
            [
             0.4444444444444444,
             "#bd3786"
            ],
            [
             0.5555555555555556,
             "#d8576b"
            ],
            [
             0.6666666666666666,
             "#ed7953"
            ],
            [
             0.7777777777777778,
             "#fb9f3a"
            ],
            [
             0.8888888888888888,
             "#fdca26"
            ],
            [
             1,
             "#f0f921"
            ]
           ]
          },
          "colorway": [
           "#636efa",
           "#EF553B",
           "#00cc96",
           "#ab63fa",
           "#FFA15A",
           "#19d3f3",
           "#FF6692",
           "#B6E880",
           "#FF97FF",
           "#FECB52"
          ],
          "font": {
           "color": "#2a3f5f"
          },
          "geo": {
           "bgcolor": "white",
           "lakecolor": "white",
           "landcolor": "#E5ECF6",
           "showlakes": true,
           "showland": true,
           "subunitcolor": "white"
          },
          "hoverlabel": {
           "align": "left"
          },
          "hovermode": "closest",
          "mapbox": {
           "style": "light"
          },
          "paper_bgcolor": "white",
          "plot_bgcolor": "#E5ECF6",
          "polar": {
           "angularaxis": {
            "gridcolor": "white",
            "linecolor": "white",
            "ticks": ""
           },
           "bgcolor": "#E5ECF6",
           "radialaxis": {
            "gridcolor": "white",
            "linecolor": "white",
            "ticks": ""
           }
          },
          "scene": {
           "xaxis": {
            "backgroundcolor": "#E5ECF6",
            "gridcolor": "white",
            "gridwidth": 2,
            "linecolor": "white",
            "showbackground": true,
            "ticks": "",
            "zerolinecolor": "white"
           },
           "yaxis": {
            "backgroundcolor": "#E5ECF6",
            "gridcolor": "white",
            "gridwidth": 2,
            "linecolor": "white",
            "showbackground": true,
            "ticks": "",
            "zerolinecolor": "white"
           },
           "zaxis": {
            "backgroundcolor": "#E5ECF6",
            "gridcolor": "white",
            "gridwidth": 2,
            "linecolor": "white",
            "showbackground": true,
            "ticks": "",
            "zerolinecolor": "white"
           }
          },
          "shapedefaults": {
           "line": {
            "color": "#2a3f5f"
           }
          },
          "ternary": {
           "aaxis": {
            "gridcolor": "white",
            "linecolor": "white",
            "ticks": ""
           },
           "baxis": {
            "gridcolor": "white",
            "linecolor": "white",
            "ticks": ""
           },
           "bgcolor": "#E5ECF6",
           "caxis": {
            "gridcolor": "white",
            "linecolor": "white",
            "ticks": ""
           }
          },
          "title": {
           "x": 0.05
          },
          "xaxis": {
           "automargin": true,
           "gridcolor": "white",
           "linecolor": "white",
           "ticks": "",
           "title": {
            "standoff": 15
           },
           "zerolinecolor": "white",
           "zerolinewidth": 2
          },
          "yaxis": {
           "automargin": true,
           "gridcolor": "white",
           "linecolor": "white",
           "ticks": "",
           "title": {
            "standoff": 15
           },
           "zerolinecolor": "white",
           "zerolinewidth": 2
          }
         }
        },
        "title": {
         "text": "Flood frequency (2011-2021)"
        }
       }
      },
      "text/html": [
       "<div>                            <div id=\"dc665617-0c00-4daf-92b4-9a297fa44002\" class=\"plotly-graph-div\" style=\"height:525px; width:100%;\"></div>            <script type=\"text/javascript\">                require([\"plotly\"], function(Plotly) {                    window.PLOTLYENV=window.PLOTLYENV || {};                                    if (document.getElementById(\"dc665617-0c00-4daf-92b4-9a297fa44002\")) {                    Plotly.newPlot(                        \"dc665617-0c00-4daf-92b4-9a297fa44002\",                        [{\"colorbar\": {\"title\": {\"text\": \"Flood frequency<br>(2011-2021)<br>\"}}, \"colorscale\": [[0.0, \"rgb(247,251,255)\"], [0.125, \"rgb(222,235,247)\"], [0.25, \"rgb(198,219,239)\"], [0.375, \"rgb(158,202,225)\"], [0.5, \"rgb(107,174,214)\"], [0.625, \"rgb(66,146,198)\"], [0.75, \"rgb(33,113,181)\"], [0.875, \"rgb(8,81,156)\"], [1.0, \"rgb(8,48,107)\"]], \"locations\": [\"IDN\", \"CHN\", \"IND\", \"USA\", \"BRA\", \"PHL\", \"PAK\", \"COL\", \"AFG\", \"VNM\", \"MYS\", \"PER\", \"LKA\", \"THA\", \"RUS\", \"BOL\", \"AGO\", \"ARG\", \"TZA\", \"FRA\", \"MEX\", \"IRN\", \"KEN\", \"NGA\", \"ITA\", \"HTI\", \"NPL\", \"COD\", \"UGA\", \"MMR\", \"GTM\", \"NER\", \"RWA\", \"MWI\", \"MOZ\", \"BGD\", \"SOM\", \"YEM\", \"SAU\", \"SDN\", \"PRY\", \"JPN\", \"GHA\", \"ESP\", \"TJK\", \"TUR\", \"VEN\", \"AUS\", \"SRB\", \"ZAF\", \"ROU\", \"BDI\", \"GBR\", \"CAN\", \"GEO\", \"ECU\", \"LAO\", \"DOM\", \"PRK\", \"KHM\", \"CHL\", \"NZL\", \"URY\", \"ETH\", \"IRQ\", \"PNG\", \"PAN\", \"SSD\", \"HND\", \"BIH\", \"DZA\", \"GRC\", \"BFA\", \"MLI\", \"BGR\", \"CIV\", \"ALB\", \"COG\", \"NIC\", \"ZMB\", \"KAZ\", \"CMR\", \"TCD\", \"MNG\", \"HRV\", \"NAM\", \"SEN\", \"GIN\", \"CAF\", \"CRI\", \"BEN\", \"MAR\", \"ZWE\", \"DEU\", \"KOR\", \"BWA\", \"MDG\", \"TUN\", \"SLE\", \"OMN\", \"MKD\", \"SLV\", \"MRT\", \"CUB\", \"SVN\", \"HUN\", \"AUT\", \"POL\", \"UKR\", \"SLB\", \"GUY\", \"VCT\", \"SVK\", \"BEL\", \"LSO\", \"FJI\", \"GMB\", \"PSE\", \"IRL\", \"SYR\", \"PRI\", \"LBY\", \"EGY\", \"CZE\", \"TWN\", \"DJI\", \"JOR\", \"TGO\", \"ISR\", \"LUX\", \"MHL\", \"QAT\", \"STP\", \"ARE\", \"SWZ\", \"MDV\", \"KWT\", \"TLS\", \"UZB\", \"GAB\", \"SYC\", \"LBR\", \"BLR\", \"GUF\", \"KGZ\", \"BTN\", \"CPV\", \"PRT\", \"KIR\", \"NLD\", \"PYF\", \"LCA\", \"BHS\", \"MUS\", \"COM\", \"TTO\", \"SUR\", \"BLZ\", \"SWE\", \"CHE\", \"ANT\", \"BRB\", \"GUM\", \"GRD\", \"ASM\", \"MDA\", \"ATG\", \"VGB\", \"BMU\", \"AZO\", \"COK\", \"BRN\", \"LVA\", \"YMD\", \"DMA\", \"CYM\", \"SHN\", \"AZE\", \"MNP\", \"EST\", \"GLP\", \"MNE\", \"DFR\", \"AIA\", \"PLW\", \"GNB\", \"HKG\", \"BLM\", \"MAF\", \"SXM\", \"ARM\", \"DNK\", \"CYP\", \"TCA\", \"WLF\", \"YUG\", \"WSM\", \"VUT\", \"CSK\", \"DDR\", \"FSM\", \"TUV\", \"TON\", \"MTQ\", \"NIU\", \"ISL\", \"SPI\", \"LBN\", \"REU\", \"TKM\", \"NCL\", \"FIN\", \"NOR\", \"MSR\", \"LTU\", \"KNA\", \"ERI\", \"SUN\", \"TKL\", \"MAC\", \"VIR\", \"JAM\", \"YMN\", \"SCG\", \"IMN\"], \"marker\": {\"line\": {\"color\": \"darkgray\", \"width\": 0.5}}, \"text\": [\"Indonesia\", \"China\", \"India\", \"United States of America (the)\", \"Brazil\", \"Philippines (the)\", \"Pakistan\", \"Colombia\", \"Afghanistan\", \"Viet Nam\", \"Malaysia\", \"Peru\", \"Sri Lanka\", \"Thailand\", \"Russian Federation (the)\", \"Bolivia (Plurinational State of)\", \"Angola\", \"Argentina\", \"Tanzania, United Republic of\", \"France\", \"Mexico\", \"Iran (Islamic Republic of)\", \"Kenya\", \"Nigeria\", \"Italy\", \"Haiti\", \"Nepal\", \"Congo (the Democratic Republic of the)\", \"Uganda\", \"Myanmar\", \"Guatemala\", \"Niger (the)\", \"Rwanda\", \"Malawi\", \"Mozambique\", \"Bangladesh\", \"Somalia\", \"Yemen\", \"Saudi Arabia\", \"Sudan (the)\", \"Paraguay\", \"Japan\", \"Ghana\", \"Spain\", \"Tajikistan\", \"Turkey\", \"Venezuela (Bolivarian Republic of)\", \"Australia\", \"Serbia\", \"South Africa\", \"Romania\", \"Burundi\", \"United Kingdom of Great Britain and Northern Ireland (the)\", \"Canada\", \"Georgia\", \"Ecuador\", \"Lao People's Democratic Republic (the)\", \"Dominican Republic (the)\", \"Korea (the Democratic People's Republic of)\", \"Cambodia\", \"Chile\", \"New Zealand\", \"Uruguay\", \"Ethiopia\", \"Iraq\", \"Papua New Guinea\", \"Panama\", \"South Sudan\", \"Honduras\", \"Bosnia and Herzegovina\", \"Algeria\", \"Greece\", \"Burkina Faso\", \"Mali\", \"Bulgaria\", \"C\\u00f4te d\\u2019Ivoire\", \"Albania\", \"Congo (the)\", \"Nicaragua\", \"Zambia\", \"Kazakhstan\", \"Cameroon\", \"Chad\", \"Mongolia\", \"Croatia\", \"Namibia\", \"Senegal\", \"Guinea\", \"Central African Republic\", \"Costa Rica\", \"Benin\", \"Morocco\", \"Zimbabwe\", \"Germany\", \"Korea (the Republic of)\", \"Botswana\", \"Madagascar\", \"Tunisia\", \"Sierra Leone\", \"Oman\", \"Macedonia (the former Yugoslav Republic of)\", \"El Salvador\", \"Mauritania\", \"Cuba\", \"Slovenia\", \"Hungary\", \"Austria\", \"Poland\", \"Ukraine\", \"Solomon Islands\", \"Guyana\", \"Saint Vincent and the Grenadines\", \"Slovakia\", \"Belgium\", \"Lesotho\", \"Fiji\", \"Gambia (the)\", \"Palestine, State of\", \"Ireland\", \"Syrian Arab Republic\", \"Puerto Rico\", \"Libya\", \"Egypt\", \"Czech Republic (the)\", \"Taiwan (Province of China)\", \"Djibouti\", \"Jordan\", \"Togo\", \"Israel\", \"Luxembourg\", \"Marshall Islands (the)\", \"Qatar\", \"Sao Tome and Principe\", \"United Arab Emirates (the)\", \"Eswatini\", \"Maldives\", \"Kuwait\", \"Timor-Leste\", \"Uzbekistan\", \"Gabon\", \"Seychelles\", \"Liberia\", \"Belarus\", \"French Guiana\", \"Kyrgyzstan\", \"Bhutan\", \"Cabo Verde\", \"Portugal\", \"Kiribati\", \"Netherlands (the)\", \"French Polynesia\", \"Saint Lucia\", \"Bahamas (the)\", \"Mauritius\", \"Comoros (the)\", \"Trinidad and Tobago\", \"Suriname\", \"Belize\", \"Sweden\", \"Switzerland\", \"Netherlands Antilles\", \"Barbados\", \"Guam\", \"Grenada\", \"American Samoa\", \"Moldova (the Republic of)\", \"Antigua and Barbuda\", \"Virgin Island (British)\", \"Bermuda\", \"Azores Islands\", \"Cook Islands (the)\", \"Brunei Darussalam\", \"Latvia\", \"Yemen P Dem Rep\", \"Dominica\", \"Cayman Islands (the)\", \"Saint Helena, Ascension and Tristan da Cunha\", \"Azerbaijan\", \"Northern Mariana Islands (the)\", \"Estonia\", \"Guadeloupe\", \"Montenegro\", \"Germany Fed Rep\", \"Anguilla\", \"Palau\", \"Guinea-Bissau\", \"Hong Kong\", \"Saint Barth\\u00e9lemy\", \"Saint Martin (French Part)\", \"Sint Maarten (Dutch part)\", \"Armenia\", \"Denmark\", \"Cyprus\", \"Turks and Caicos Islands (the)\", \"Wallis and Futuna\", \"Yugoslavia\", \"Samoa\", \"Vanuatu\", \"Czechoslovakia\", \"Germany Dem Rep\", \"Micronesia (Federated States of)\", \"Tuvalu\", \"Tonga\", \"Martinique\", \"Niue\", \"Iceland\", \"Canary Is\", \"Lebanon\", \"R\\u00e9union\", \"Turkmenistan\", \"New Caledonia\", \"Finland\", \"Norway\", \"Montserrat\", \"Lithuania\", \"Saint Kitts and Nevis\", \"Eritrea\", \"Soviet Union\", \"Tokelau\", \"Macao\", \"Virgin Island (U.S.)\", \"Jamaica\", \"Yemen Arab Rep\", \"Serbia Montenegro\", \"Isle of Man\"], \"type\": \"choropleth\", \"z\": [112, 103, 80, 49, 48, 48, 39, 37, 36, 33, 30, 29, 28, 26, 23, 21, 21, 21, 21, 21, 20, 20, 20, 20, 19, 19, 19, 18, 18, 18, 17, 17, 15, 15, 15, 15, 14, 13, 13, 13, 13, 13, 13, 13, 12, 12, 12, 12, 12, 12, 11, 11, 11, 11, 10, 10, 10, 10, 10, 10, 10, 10, 9, 9, 9, 9, 9, 9, 9, 9, 8, 8, 8, 8, 8, 8, 7, 7, 7, 7, 7, 7, 6, 6, 6, 6, 6, 6, 5, 5, 5, 5, 5, 5, 5, 4, 4, 4, 4, 4, 4, 4, 4, 3, 3, 3, 3, 3, 3, 3, 3, 3, 3, 3, 2, 2, 2, 2, 2, 2, 2, 2, 2, 2, 2, 2, 2, 2, 2, 1, 1, 1, 1, 1, 1, 1, 1, 1, 1, 1, 1, 1, 1, 1, 1, 1, 1, 1, 1, 1, 1, 1, 1, 1, 1, 1, 1, 1, 1, 1, 0, 0, 0, 0, 0, 0, 0, 0, 0, 0, 0, 0, 0, 0, 0, 0, 0, 0, 0, 0, 0, 0, 0, 0, 0, 0, 0, 0, 0, 0, 0, 0, 0, 0, 0, 0, 0, 0, 0, 0, 0, 0, 0, 0, 0, 0, 0, 0, 0, 0, 0, 0, 0, 0, 0, 0, 0, 0, 0, 0, 0, 0, 0, 0, 0]}],                        {\"geo\": {\"showcoastlines\": false, \"showframe\": false}, \"template\": {\"data\": {\"bar\": [{\"error_x\": {\"color\": \"#2a3f5f\"}, \"error_y\": {\"color\": \"#2a3f5f\"}, \"marker\": {\"line\": {\"color\": \"#E5ECF6\", \"width\": 0.5}}, \"type\": \"bar\"}], \"barpolar\": [{\"marker\": {\"line\": {\"color\": \"#E5ECF6\", \"width\": 0.5}}, \"type\": \"barpolar\"}], \"carpet\": [{\"aaxis\": {\"endlinecolor\": \"#2a3f5f\", \"gridcolor\": \"white\", \"linecolor\": \"white\", \"minorgridcolor\": \"white\", \"startlinecolor\": \"#2a3f5f\"}, \"baxis\": {\"endlinecolor\": \"#2a3f5f\", \"gridcolor\": \"white\", \"linecolor\": \"white\", \"minorgridcolor\": \"white\", \"startlinecolor\": \"#2a3f5f\"}, \"type\": \"carpet\"}], \"choropleth\": [{\"colorbar\": {\"outlinewidth\": 0, \"ticks\": \"\"}, \"type\": \"choropleth\"}], \"contour\": [{\"colorbar\": {\"outlinewidth\": 0, \"ticks\": \"\"}, \"colorscale\": [[0.0, \"#0d0887\"], [0.1111111111111111, \"#46039f\"], [0.2222222222222222, \"#7201a8\"], [0.3333333333333333, \"#9c179e\"], [0.4444444444444444, \"#bd3786\"], [0.5555555555555556, \"#d8576b\"], [0.6666666666666666, \"#ed7953\"], [0.7777777777777778, \"#fb9f3a\"], [0.8888888888888888, \"#fdca26\"], [1.0, \"#f0f921\"]], \"type\": \"contour\"}], \"contourcarpet\": [{\"colorbar\": {\"outlinewidth\": 0, \"ticks\": \"\"}, \"type\": \"contourcarpet\"}], \"heatmap\": [{\"colorbar\": {\"outlinewidth\": 0, \"ticks\": \"\"}, \"colorscale\": [[0.0, \"#0d0887\"], [0.1111111111111111, \"#46039f\"], [0.2222222222222222, \"#7201a8\"], [0.3333333333333333, \"#9c179e\"], [0.4444444444444444, \"#bd3786\"], [0.5555555555555556, \"#d8576b\"], [0.6666666666666666, \"#ed7953\"], [0.7777777777777778, \"#fb9f3a\"], [0.8888888888888888, \"#fdca26\"], [1.0, \"#f0f921\"]], \"type\": \"heatmap\"}], \"heatmapgl\": [{\"colorbar\": {\"outlinewidth\": 0, \"ticks\": \"\"}, \"colorscale\": [[0.0, \"#0d0887\"], [0.1111111111111111, \"#46039f\"], [0.2222222222222222, \"#7201a8\"], [0.3333333333333333, \"#9c179e\"], [0.4444444444444444, \"#bd3786\"], [0.5555555555555556, \"#d8576b\"], [0.6666666666666666, \"#ed7953\"], [0.7777777777777778, \"#fb9f3a\"], [0.8888888888888888, \"#fdca26\"], [1.0, \"#f0f921\"]], \"type\": \"heatmapgl\"}], \"histogram\": [{\"marker\": {\"colorbar\": {\"outlinewidth\": 0, \"ticks\": \"\"}}, \"type\": \"histogram\"}], \"histogram2d\": [{\"colorbar\": {\"outlinewidth\": 0, \"ticks\": \"\"}, \"colorscale\": [[0.0, \"#0d0887\"], [0.1111111111111111, \"#46039f\"], [0.2222222222222222, \"#7201a8\"], [0.3333333333333333, \"#9c179e\"], [0.4444444444444444, \"#bd3786\"], [0.5555555555555556, \"#d8576b\"], [0.6666666666666666, \"#ed7953\"], [0.7777777777777778, \"#fb9f3a\"], [0.8888888888888888, \"#fdca26\"], [1.0, \"#f0f921\"]], \"type\": \"histogram2d\"}], \"histogram2dcontour\": [{\"colorbar\": {\"outlinewidth\": 0, \"ticks\": \"\"}, \"colorscale\": [[0.0, \"#0d0887\"], [0.1111111111111111, \"#46039f\"], [0.2222222222222222, \"#7201a8\"], [0.3333333333333333, \"#9c179e\"], [0.4444444444444444, \"#bd3786\"], [0.5555555555555556, \"#d8576b\"], [0.6666666666666666, \"#ed7953\"], [0.7777777777777778, \"#fb9f3a\"], [0.8888888888888888, \"#fdca26\"], [1.0, \"#f0f921\"]], \"type\": \"histogram2dcontour\"}], \"mesh3d\": [{\"colorbar\": {\"outlinewidth\": 0, \"ticks\": \"\"}, \"type\": \"mesh3d\"}], \"parcoords\": [{\"line\": {\"colorbar\": {\"outlinewidth\": 0, \"ticks\": \"\"}}, \"type\": \"parcoords\"}], \"pie\": [{\"automargin\": true, \"type\": \"pie\"}], \"scatter\": [{\"marker\": {\"colorbar\": {\"outlinewidth\": 0, \"ticks\": \"\"}}, \"type\": \"scatter\"}], \"scatter3d\": [{\"line\": {\"colorbar\": {\"outlinewidth\": 0, \"ticks\": \"\"}}, \"marker\": {\"colorbar\": {\"outlinewidth\": 0, \"ticks\": \"\"}}, \"type\": \"scatter3d\"}], \"scattercarpet\": [{\"marker\": {\"colorbar\": {\"outlinewidth\": 0, \"ticks\": \"\"}}, \"type\": \"scattercarpet\"}], \"scattergeo\": [{\"marker\": {\"colorbar\": {\"outlinewidth\": 0, \"ticks\": \"\"}}, \"type\": \"scattergeo\"}], \"scattergl\": [{\"marker\": {\"colorbar\": {\"outlinewidth\": 0, \"ticks\": \"\"}}, \"type\": \"scattergl\"}], \"scattermapbox\": [{\"marker\": {\"colorbar\": {\"outlinewidth\": 0, \"ticks\": \"\"}}, \"type\": \"scattermapbox\"}], \"scatterpolar\": [{\"marker\": {\"colorbar\": {\"outlinewidth\": 0, \"ticks\": \"\"}}, \"type\": \"scatterpolar\"}], \"scatterpolargl\": [{\"marker\": {\"colorbar\": {\"outlinewidth\": 0, \"ticks\": \"\"}}, \"type\": \"scatterpolargl\"}], \"scatterternary\": [{\"marker\": {\"colorbar\": {\"outlinewidth\": 0, \"ticks\": \"\"}}, \"type\": \"scatterternary\"}], \"surface\": [{\"colorbar\": {\"outlinewidth\": 0, \"ticks\": \"\"}, \"colorscale\": [[0.0, \"#0d0887\"], [0.1111111111111111, \"#46039f\"], [0.2222222222222222, \"#7201a8\"], [0.3333333333333333, \"#9c179e\"], [0.4444444444444444, \"#bd3786\"], [0.5555555555555556, \"#d8576b\"], [0.6666666666666666, \"#ed7953\"], [0.7777777777777778, \"#fb9f3a\"], [0.8888888888888888, \"#fdca26\"], [1.0, \"#f0f921\"]], \"type\": \"surface\"}], \"table\": [{\"cells\": {\"fill\": {\"color\": \"#EBF0F8\"}, \"line\": {\"color\": \"white\"}}, \"header\": {\"fill\": {\"color\": \"#C8D4E3\"}, \"line\": {\"color\": \"white\"}}, \"type\": \"table\"}]}, \"layout\": {\"annotationdefaults\": {\"arrowcolor\": \"#2a3f5f\", \"arrowhead\": 0, \"arrowwidth\": 1}, \"autotypenumbers\": \"strict\", \"coloraxis\": {\"colorbar\": {\"outlinewidth\": 0, \"ticks\": \"\"}}, \"colorscale\": {\"diverging\": [[0, \"#8e0152\"], [0.1, \"#c51b7d\"], [0.2, \"#de77ae\"], [0.3, \"#f1b6da\"], [0.4, \"#fde0ef\"], [0.5, \"#f7f7f7\"], [0.6, \"#e6f5d0\"], [0.7, \"#b8e186\"], [0.8, \"#7fbc41\"], [0.9, \"#4d9221\"], [1, \"#276419\"]], \"sequential\": [[0.0, \"#0d0887\"], [0.1111111111111111, \"#46039f\"], [0.2222222222222222, \"#7201a8\"], [0.3333333333333333, \"#9c179e\"], [0.4444444444444444, \"#bd3786\"], [0.5555555555555556, \"#d8576b\"], [0.6666666666666666, \"#ed7953\"], [0.7777777777777778, \"#fb9f3a\"], [0.8888888888888888, \"#fdca26\"], [1.0, \"#f0f921\"]], \"sequentialminus\": [[0.0, \"#0d0887\"], [0.1111111111111111, \"#46039f\"], [0.2222222222222222, \"#7201a8\"], [0.3333333333333333, \"#9c179e\"], [0.4444444444444444, \"#bd3786\"], [0.5555555555555556, \"#d8576b\"], [0.6666666666666666, \"#ed7953\"], [0.7777777777777778, \"#fb9f3a\"], [0.8888888888888888, \"#fdca26\"], [1.0, \"#f0f921\"]]}, \"colorway\": [\"#636efa\", \"#EF553B\", \"#00cc96\", \"#ab63fa\", \"#FFA15A\", \"#19d3f3\", \"#FF6692\", \"#B6E880\", \"#FF97FF\", \"#FECB52\"], \"font\": {\"color\": \"#2a3f5f\"}, \"geo\": {\"bgcolor\": \"white\", \"lakecolor\": \"white\", \"landcolor\": \"#E5ECF6\", \"showlakes\": true, \"showland\": true, \"subunitcolor\": \"white\"}, \"hoverlabel\": {\"align\": \"left\"}, \"hovermode\": \"closest\", \"mapbox\": {\"style\": \"light\"}, \"paper_bgcolor\": \"white\", \"plot_bgcolor\": \"#E5ECF6\", \"polar\": {\"angularaxis\": {\"gridcolor\": \"white\", \"linecolor\": \"white\", \"ticks\": \"\"}, \"bgcolor\": \"#E5ECF6\", \"radialaxis\": {\"gridcolor\": \"white\", \"linecolor\": \"white\", \"ticks\": \"\"}}, \"scene\": {\"xaxis\": {\"backgroundcolor\": \"#E5ECF6\", \"gridcolor\": \"white\", \"gridwidth\": 2, \"linecolor\": \"white\", \"showbackground\": true, \"ticks\": \"\", \"zerolinecolor\": \"white\"}, \"yaxis\": {\"backgroundcolor\": \"#E5ECF6\", \"gridcolor\": \"white\", \"gridwidth\": 2, \"linecolor\": \"white\", \"showbackground\": true, \"ticks\": \"\", \"zerolinecolor\": \"white\"}, \"zaxis\": {\"backgroundcolor\": \"#E5ECF6\", \"gridcolor\": \"white\", \"gridwidth\": 2, \"linecolor\": \"white\", \"showbackground\": true, \"ticks\": \"\", \"zerolinecolor\": \"white\"}}, \"shapedefaults\": {\"line\": {\"color\": \"#2a3f5f\"}}, \"ternary\": {\"aaxis\": {\"gridcolor\": \"white\", \"linecolor\": \"white\", \"ticks\": \"\"}, \"baxis\": {\"gridcolor\": \"white\", \"linecolor\": \"white\", \"ticks\": \"\"}, \"bgcolor\": \"#E5ECF6\", \"caxis\": {\"gridcolor\": \"white\", \"linecolor\": \"white\", \"ticks\": \"\"}}, \"title\": {\"x\": 0.05}, \"xaxis\": {\"automargin\": true, \"gridcolor\": \"white\", \"linecolor\": \"white\", \"ticks\": \"\", \"title\": {\"standoff\": 15}, \"zerolinecolor\": \"white\", \"zerolinewidth\": 2}, \"yaxis\": {\"automargin\": true, \"gridcolor\": \"white\", \"linecolor\": \"white\", \"ticks\": \"\", \"title\": {\"standoff\": 15}, \"zerolinecolor\": \"white\", \"zerolinewidth\": 2}}}, \"title\": {\"text\": \"Flood frequency (2011-2021)\"}},                        {\"responsive\": true}                    ).then(function(){\n",
       "                            \n",
       "var gd = document.getElementById('dc665617-0c00-4daf-92b4-9a297fa44002');\n",
       "var x = new MutationObserver(function (mutations, observer) {{\n",
       "        var display = window.getComputedStyle(gd).display;\n",
       "        if (!display || display === 'none') {{\n",
       "            console.log([gd, 'removed!']);\n",
       "            Plotly.purge(gd);\n",
       "            observer.disconnect();\n",
       "        }}\n",
       "}});\n",
       "\n",
       "// Listen for the removal of the full notebook cells\n",
       "var notebookContainer = gd.closest('#notebook-container');\n",
       "if (notebookContainer) {{\n",
       "    x.observe(notebookContainer, {childList: true});\n",
       "}}\n",
       "\n",
       "// Listen for the clearing of the current output cell\n",
       "var outputEl = gd.closest('.output');\n",
       "if (outputEl) {{\n",
       "    x.observe(outputEl, {childList: true});\n",
       "}}\n",
       "\n",
       "                        })                };                });            </script>        </div>"
      ]
     },
     "metadata": {},
     "output_type": "display_data"
    }
   ],
   "source": [
    "fig = go.Figure(data=go.Choropleth(\n",
    "    locations=freq_df[\"ISO\"],\n",
    "    z=freq_df[\"flood_freq\"],\n",
    "    text=freq_df[\"Country\"],\n",
    "    colorscale=\"blues\",\n",
    "    marker_line_color=\"darkgray\",\n",
    "    marker_line_width=0.5,\n",
    "    colorbar_title=\"Flood frequency<br>(2011-2021)<br>\",\n",
    "))\n",
    "\n",
    "fig.update_layout(\n",
    "    title_text=\"Flood frequency (2011-2021)\",\n",
    "    geo=dict(\n",
    "        showframe=False,\n",
    "        showcoastlines=False,\n",
    "    )\n",
    ")\n",
    "\n",
    "fig.show()"
   ]
  },
  {
   "cell_type": "markdown",
   "id": "84d2eea2",
   "metadata": {},
   "source": [
    "#### Visualization of wildfire frequency "
   ]
  },
  {
   "cell_type": "code",
   "execution_count": 271,
   "id": "c0f9990e",
   "metadata": {},
   "outputs": [
    {
     "data": {
      "application/vnd.plotly.v1+json": {
       "config": {
        "plotlyServerURL": "https://plot.ly"
       },
       "data": [
        {
         "colorbar": {
          "title": {
           "text": "Wildfire frequency<br>(2011-2021)<br>"
          }
         },
         "colorscale": [
          [
           0,
           "rgb(255,245,235)"
          ],
          [
           0.125,
           "rgb(254,230,206)"
          ],
          [
           0.25,
           "rgb(253,208,162)"
          ],
          [
           0.375,
           "rgb(253,174,107)"
          ],
          [
           0.5,
           "rgb(253,141,60)"
          ],
          [
           0.625,
           "rgb(241,105,19)"
          ],
          [
           0.75,
           "rgb(217,72,1)"
          ],
          [
           0.875,
           "rgb(166,54,3)"
          ],
          [
           1,
           "rgb(127,39,4)"
          ]
         ],
         "locations": [
          "IDN",
          "CHN",
          "IND",
          "USA",
          "BRA",
          "PHL",
          "PAK",
          "COL",
          "AFG",
          "VNM",
          "MYS",
          "PER",
          "LKA",
          "THA",
          "RUS",
          "BOL",
          "AGO",
          "ARG",
          "TZA",
          "FRA",
          "MEX",
          "IRN",
          "KEN",
          "NGA",
          "ITA",
          "HTI",
          "NPL",
          "COD",
          "UGA",
          "MMR",
          "GTM",
          "NER",
          "RWA",
          "MWI",
          "MOZ",
          "BGD",
          "SOM",
          "YEM",
          "SAU",
          "SDN",
          "PRY",
          "JPN",
          "GHA",
          "ESP",
          "TJK",
          "TUR",
          "VEN",
          "AUS",
          "SRB",
          "ZAF",
          "ROU",
          "BDI",
          "GBR",
          "CAN",
          "GEO",
          "ECU",
          "LAO",
          "DOM",
          "PRK",
          "KHM",
          "CHL",
          "NZL",
          "URY",
          "ETH",
          "IRQ",
          "PNG",
          "PAN",
          "SSD",
          "HND",
          "BIH",
          "DZA",
          "GRC",
          "BFA",
          "MLI",
          "BGR",
          "CIV",
          "ALB",
          "COG",
          "NIC",
          "ZMB",
          "KAZ",
          "CMR",
          "TCD",
          "MNG",
          "HRV",
          "NAM",
          "SEN",
          "GIN",
          "CAF",
          "CRI",
          "BEN",
          "MAR",
          "ZWE",
          "DEU",
          "KOR",
          "BWA",
          "MDG",
          "TUN",
          "SLE",
          "OMN",
          "MKD",
          "SLV",
          "MRT",
          "CUB",
          "SVN",
          "HUN",
          "AUT",
          "POL",
          "UKR",
          "SLB",
          "GUY",
          "VCT",
          "SVK",
          "BEL",
          "LSO",
          "FJI",
          "GMB",
          "PSE",
          "IRL",
          "SYR",
          "PRI",
          "LBY",
          "EGY",
          "CZE",
          "TWN",
          "DJI",
          "JOR",
          "TGO",
          "ISR",
          "LUX",
          "MHL",
          "QAT",
          "STP",
          "ARE",
          "SWZ",
          "MDV",
          "KWT",
          "TLS",
          "UZB",
          "GAB",
          "SYC",
          "LBR",
          "BLR",
          "GUF",
          "KGZ",
          "BTN",
          "CPV",
          "PRT",
          "KIR",
          "NLD",
          "PYF",
          "LCA",
          "BHS",
          "MUS",
          "COM",
          "TTO",
          "SUR",
          "BLZ",
          "SWE",
          "CHE",
          "ANT",
          "BRB",
          "GUM",
          "GRD",
          "ASM",
          "MDA",
          "ATG",
          "VGB",
          "BMU",
          "AZO",
          "COK",
          "BRN",
          "LVA",
          "YMD",
          "DMA",
          "CYM",
          "SHN",
          "AZE",
          "MNP",
          "EST",
          "GLP",
          "MNE",
          "DFR",
          "AIA",
          "PLW",
          "GNB",
          "HKG",
          "BLM",
          "MAF",
          "SXM",
          "ARM",
          "DNK",
          "CYP",
          "TCA",
          "WLF",
          "YUG",
          "WSM",
          "VUT",
          "CSK",
          "DDR",
          "FSM",
          "TUV",
          "TON",
          "MTQ",
          "NIU",
          "ISL",
          "SPI",
          "LBN",
          "REU",
          "TKM",
          "NCL",
          "FIN",
          "NOR",
          "MSR",
          "LTU",
          "KNA",
          "ERI",
          "SUN",
          "TKL",
          "MAC",
          "VIR",
          "JAM",
          "YMN",
          "SCG",
          "IMN"
         ],
         "marker": {
          "line": {
           "color": "darkgray",
           "width": 0.5
          }
         },
         "text": [
          "Indonesia",
          "China",
          "India",
          "United States of America (the)",
          "Brazil",
          "Philippines (the)",
          "Pakistan",
          "Colombia",
          "Afghanistan",
          "Viet Nam",
          "Malaysia",
          "Peru",
          "Sri Lanka",
          "Thailand",
          "Russian Federation (the)",
          "Bolivia (Plurinational State of)",
          "Angola",
          "Argentina",
          "Tanzania, United Republic of",
          "France",
          "Mexico",
          "Iran (Islamic Republic of)",
          "Kenya",
          "Nigeria",
          "Italy",
          "Haiti",
          "Nepal",
          "Congo (the Democratic Republic of the)",
          "Uganda",
          "Myanmar",
          "Guatemala",
          "Niger (the)",
          "Rwanda",
          "Malawi",
          "Mozambique",
          "Bangladesh",
          "Somalia",
          "Yemen",
          "Saudi Arabia",
          "Sudan (the)",
          "Paraguay",
          "Japan",
          "Ghana",
          "Spain",
          "Tajikistan",
          "Turkey",
          "Venezuela (Bolivarian Republic of)",
          "Australia",
          "Serbia",
          "South Africa",
          "Romania",
          "Burundi",
          "United Kingdom of Great Britain and Northern Ireland (the)",
          "Canada",
          "Georgia",
          "Ecuador",
          "Lao People's Democratic Republic (the)",
          "Dominican Republic (the)",
          "Korea (the Democratic People's Republic of)",
          "Cambodia",
          "Chile",
          "New Zealand",
          "Uruguay",
          "Ethiopia",
          "Iraq",
          "Papua New Guinea",
          "Panama",
          "South Sudan",
          "Honduras",
          "Bosnia and Herzegovina",
          "Algeria",
          "Greece",
          "Burkina Faso",
          "Mali",
          "Bulgaria",
          "Côte d’Ivoire",
          "Albania",
          "Congo (the)",
          "Nicaragua",
          "Zambia",
          "Kazakhstan",
          "Cameroon",
          "Chad",
          "Mongolia",
          "Croatia",
          "Namibia",
          "Senegal",
          "Guinea",
          "Central African Republic",
          "Costa Rica",
          "Benin",
          "Morocco",
          "Zimbabwe",
          "Germany",
          "Korea (the Republic of)",
          "Botswana",
          "Madagascar",
          "Tunisia",
          "Sierra Leone",
          "Oman",
          "Macedonia (the former Yugoslav Republic of)",
          "El Salvador",
          "Mauritania",
          "Cuba",
          "Slovenia",
          "Hungary",
          "Austria",
          "Poland",
          "Ukraine",
          "Solomon Islands",
          "Guyana",
          "Saint Vincent and the Grenadines",
          "Slovakia",
          "Belgium",
          "Lesotho",
          "Fiji",
          "Gambia (the)",
          "Palestine, State of",
          "Ireland",
          "Syrian Arab Republic",
          "Puerto Rico",
          "Libya",
          "Egypt",
          "Czech Republic (the)",
          "Taiwan (Province of China)",
          "Djibouti",
          "Jordan",
          "Togo",
          "Israel",
          "Luxembourg",
          "Marshall Islands (the)",
          "Qatar",
          "Sao Tome and Principe",
          "United Arab Emirates (the)",
          "Eswatini",
          "Maldives",
          "Kuwait",
          "Timor-Leste",
          "Uzbekistan",
          "Gabon",
          "Seychelles",
          "Liberia",
          "Belarus",
          "French Guiana",
          "Kyrgyzstan",
          "Bhutan",
          "Cabo Verde",
          "Portugal",
          "Kiribati",
          "Netherlands (the)",
          "French Polynesia",
          "Saint Lucia",
          "Bahamas (the)",
          "Mauritius",
          "Comoros (the)",
          "Trinidad and Tobago",
          "Suriname",
          "Belize",
          "Sweden",
          "Switzerland",
          "Netherlands Antilles",
          "Barbados",
          "Guam",
          "Grenada",
          "American Samoa",
          "Moldova (the Republic of)",
          "Antigua and Barbuda",
          "Virgin Island (British)",
          "Bermuda",
          "Azores Islands",
          "Cook Islands (the)",
          "Brunei Darussalam",
          "Latvia",
          "Yemen P Dem Rep",
          "Dominica",
          "Cayman Islands (the)",
          "Saint Helena, Ascension and Tristan da Cunha",
          "Azerbaijan",
          "Northern Mariana Islands (the)",
          "Estonia",
          "Guadeloupe",
          "Montenegro",
          "Germany Fed Rep",
          "Anguilla",
          "Palau",
          "Guinea-Bissau",
          "Hong Kong",
          "Saint Barthélemy",
          "Saint Martin (French Part)",
          "Sint Maarten (Dutch part)",
          "Armenia",
          "Denmark",
          "Cyprus",
          "Turks and Caicos Islands (the)",
          "Wallis and Futuna",
          "Yugoslavia",
          "Samoa",
          "Vanuatu",
          "Czechoslovakia",
          "Germany Dem Rep",
          "Micronesia (Federated States of)",
          "Tuvalu",
          "Tonga",
          "Martinique",
          "Niue",
          "Iceland",
          "Canary Is",
          "Lebanon",
          "Réunion",
          "Turkmenistan",
          "New Caledonia",
          "Finland",
          "Norway",
          "Montserrat",
          "Lithuania",
          "Saint Kitts and Nevis",
          "Eritrea",
          "Soviet Union",
          "Tokelau",
          "Macao",
          "Virgin Island (U.S.)",
          "Jamaica",
          "Yemen Arab Rep",
          "Serbia Montenegro",
          "Isle of Man"
         ],
         "type": "choropleth",
         "z": [
          2,
          2,
          2,
          34,
          1,
          0,
          0,
          1,
          0,
          0,
          0,
          1,
          0,
          0,
          4,
          2,
          0,
          1,
          0,
          1,
          1,
          0,
          0,
          0,
          1,
          0,
          1,
          1,
          0,
          0,
          0,
          0,
          0,
          0,
          0,
          0,
          0,
          0,
          0,
          0,
          1,
          0,
          0,
          4,
          0,
          1,
          0,
          13,
          0,
          1,
          0,
          0,
          0,
          6,
          0,
          1,
          0,
          0,
          0,
          0,
          7,
          1,
          0,
          0,
          0,
          0,
          0,
          1,
          1,
          0,
          1,
          2,
          0,
          0,
          1,
          0,
          0,
          0,
          0,
          0,
          0,
          0,
          0,
          0,
          1,
          0,
          0,
          0,
          0,
          0,
          1,
          0,
          0,
          0,
          1,
          0,
          0,
          2,
          1,
          0,
          1,
          0,
          0,
          0,
          0,
          0,
          0,
          0,
          2,
          0,
          0,
          0,
          0,
          0,
          0,
          0,
          0,
          0,
          0,
          1,
          0,
          0,
          0,
          0,
          0,
          0,
          0,
          0,
          2,
          0,
          0,
          0,
          0,
          0,
          0,
          0,
          0,
          0,
          0,
          0,
          0,
          0,
          0,
          0,
          0,
          0,
          0,
          5,
          0,
          0,
          0,
          0,
          0,
          0,
          0,
          0,
          0,
          0,
          1,
          0,
          0,
          0,
          0,
          0,
          0,
          0,
          0,
          0,
          0,
          0,
          0,
          0,
          1,
          0,
          0,
          0,
          0,
          0,
          0,
          0,
          0,
          1,
          0,
          0,
          0,
          0,
          0,
          0,
          0,
          0,
          0,
          0,
          1,
          0,
          0,
          0,
          0,
          0,
          0,
          0,
          0,
          0,
          0,
          0,
          0,
          0,
          0,
          1,
          0,
          0,
          0,
          0,
          0,
          0,
          0,
          0,
          0,
          0,
          0,
          0,
          0,
          0,
          0,
          0,
          0
         ]
        }
       ],
       "layout": {
        "geo": {
         "showcoastlines": false,
         "showframe": false
        },
        "template": {
         "data": {
          "bar": [
           {
            "error_x": {
             "color": "#2a3f5f"
            },
            "error_y": {
             "color": "#2a3f5f"
            },
            "marker": {
             "line": {
              "color": "#E5ECF6",
              "width": 0.5
             }
            },
            "type": "bar"
           }
          ],
          "barpolar": [
           {
            "marker": {
             "line": {
              "color": "#E5ECF6",
              "width": 0.5
             }
            },
            "type": "barpolar"
           }
          ],
          "carpet": [
           {
            "aaxis": {
             "endlinecolor": "#2a3f5f",
             "gridcolor": "white",
             "linecolor": "white",
             "minorgridcolor": "white",
             "startlinecolor": "#2a3f5f"
            },
            "baxis": {
             "endlinecolor": "#2a3f5f",
             "gridcolor": "white",
             "linecolor": "white",
             "minorgridcolor": "white",
             "startlinecolor": "#2a3f5f"
            },
            "type": "carpet"
           }
          ],
          "choropleth": [
           {
            "colorbar": {
             "outlinewidth": 0,
             "ticks": ""
            },
            "type": "choropleth"
           }
          ],
          "contour": [
           {
            "colorbar": {
             "outlinewidth": 0,
             "ticks": ""
            },
            "colorscale": [
             [
              0,
              "#0d0887"
             ],
             [
              0.1111111111111111,
              "#46039f"
             ],
             [
              0.2222222222222222,
              "#7201a8"
             ],
             [
              0.3333333333333333,
              "#9c179e"
             ],
             [
              0.4444444444444444,
              "#bd3786"
             ],
             [
              0.5555555555555556,
              "#d8576b"
             ],
             [
              0.6666666666666666,
              "#ed7953"
             ],
             [
              0.7777777777777778,
              "#fb9f3a"
             ],
             [
              0.8888888888888888,
              "#fdca26"
             ],
             [
              1,
              "#f0f921"
             ]
            ],
            "type": "contour"
           }
          ],
          "contourcarpet": [
           {
            "colorbar": {
             "outlinewidth": 0,
             "ticks": ""
            },
            "type": "contourcarpet"
           }
          ],
          "heatmap": [
           {
            "colorbar": {
             "outlinewidth": 0,
             "ticks": ""
            },
            "colorscale": [
             [
              0,
              "#0d0887"
             ],
             [
              0.1111111111111111,
              "#46039f"
             ],
             [
              0.2222222222222222,
              "#7201a8"
             ],
             [
              0.3333333333333333,
              "#9c179e"
             ],
             [
              0.4444444444444444,
              "#bd3786"
             ],
             [
              0.5555555555555556,
              "#d8576b"
             ],
             [
              0.6666666666666666,
              "#ed7953"
             ],
             [
              0.7777777777777778,
              "#fb9f3a"
             ],
             [
              0.8888888888888888,
              "#fdca26"
             ],
             [
              1,
              "#f0f921"
             ]
            ],
            "type": "heatmap"
           }
          ],
          "heatmapgl": [
           {
            "colorbar": {
             "outlinewidth": 0,
             "ticks": ""
            },
            "colorscale": [
             [
              0,
              "#0d0887"
             ],
             [
              0.1111111111111111,
              "#46039f"
             ],
             [
              0.2222222222222222,
              "#7201a8"
             ],
             [
              0.3333333333333333,
              "#9c179e"
             ],
             [
              0.4444444444444444,
              "#bd3786"
             ],
             [
              0.5555555555555556,
              "#d8576b"
             ],
             [
              0.6666666666666666,
              "#ed7953"
             ],
             [
              0.7777777777777778,
              "#fb9f3a"
             ],
             [
              0.8888888888888888,
              "#fdca26"
             ],
             [
              1,
              "#f0f921"
             ]
            ],
            "type": "heatmapgl"
           }
          ],
          "histogram": [
           {
            "marker": {
             "colorbar": {
              "outlinewidth": 0,
              "ticks": ""
             }
            },
            "type": "histogram"
           }
          ],
          "histogram2d": [
           {
            "colorbar": {
             "outlinewidth": 0,
             "ticks": ""
            },
            "colorscale": [
             [
              0,
              "#0d0887"
             ],
             [
              0.1111111111111111,
              "#46039f"
             ],
             [
              0.2222222222222222,
              "#7201a8"
             ],
             [
              0.3333333333333333,
              "#9c179e"
             ],
             [
              0.4444444444444444,
              "#bd3786"
             ],
             [
              0.5555555555555556,
              "#d8576b"
             ],
             [
              0.6666666666666666,
              "#ed7953"
             ],
             [
              0.7777777777777778,
              "#fb9f3a"
             ],
             [
              0.8888888888888888,
              "#fdca26"
             ],
             [
              1,
              "#f0f921"
             ]
            ],
            "type": "histogram2d"
           }
          ],
          "histogram2dcontour": [
           {
            "colorbar": {
             "outlinewidth": 0,
             "ticks": ""
            },
            "colorscale": [
             [
              0,
              "#0d0887"
             ],
             [
              0.1111111111111111,
              "#46039f"
             ],
             [
              0.2222222222222222,
              "#7201a8"
             ],
             [
              0.3333333333333333,
              "#9c179e"
             ],
             [
              0.4444444444444444,
              "#bd3786"
             ],
             [
              0.5555555555555556,
              "#d8576b"
             ],
             [
              0.6666666666666666,
              "#ed7953"
             ],
             [
              0.7777777777777778,
              "#fb9f3a"
             ],
             [
              0.8888888888888888,
              "#fdca26"
             ],
             [
              1,
              "#f0f921"
             ]
            ],
            "type": "histogram2dcontour"
           }
          ],
          "mesh3d": [
           {
            "colorbar": {
             "outlinewidth": 0,
             "ticks": ""
            },
            "type": "mesh3d"
           }
          ],
          "parcoords": [
           {
            "line": {
             "colorbar": {
              "outlinewidth": 0,
              "ticks": ""
             }
            },
            "type": "parcoords"
           }
          ],
          "pie": [
           {
            "automargin": true,
            "type": "pie"
           }
          ],
          "scatter": [
           {
            "marker": {
             "colorbar": {
              "outlinewidth": 0,
              "ticks": ""
             }
            },
            "type": "scatter"
           }
          ],
          "scatter3d": [
           {
            "line": {
             "colorbar": {
              "outlinewidth": 0,
              "ticks": ""
             }
            },
            "marker": {
             "colorbar": {
              "outlinewidth": 0,
              "ticks": ""
             }
            },
            "type": "scatter3d"
           }
          ],
          "scattercarpet": [
           {
            "marker": {
             "colorbar": {
              "outlinewidth": 0,
              "ticks": ""
             }
            },
            "type": "scattercarpet"
           }
          ],
          "scattergeo": [
           {
            "marker": {
             "colorbar": {
              "outlinewidth": 0,
              "ticks": ""
             }
            },
            "type": "scattergeo"
           }
          ],
          "scattergl": [
           {
            "marker": {
             "colorbar": {
              "outlinewidth": 0,
              "ticks": ""
             }
            },
            "type": "scattergl"
           }
          ],
          "scattermapbox": [
           {
            "marker": {
             "colorbar": {
              "outlinewidth": 0,
              "ticks": ""
             }
            },
            "type": "scattermapbox"
           }
          ],
          "scatterpolar": [
           {
            "marker": {
             "colorbar": {
              "outlinewidth": 0,
              "ticks": ""
             }
            },
            "type": "scatterpolar"
           }
          ],
          "scatterpolargl": [
           {
            "marker": {
             "colorbar": {
              "outlinewidth": 0,
              "ticks": ""
             }
            },
            "type": "scatterpolargl"
           }
          ],
          "scatterternary": [
           {
            "marker": {
             "colorbar": {
              "outlinewidth": 0,
              "ticks": ""
             }
            },
            "type": "scatterternary"
           }
          ],
          "surface": [
           {
            "colorbar": {
             "outlinewidth": 0,
             "ticks": ""
            },
            "colorscale": [
             [
              0,
              "#0d0887"
             ],
             [
              0.1111111111111111,
              "#46039f"
             ],
             [
              0.2222222222222222,
              "#7201a8"
             ],
             [
              0.3333333333333333,
              "#9c179e"
             ],
             [
              0.4444444444444444,
              "#bd3786"
             ],
             [
              0.5555555555555556,
              "#d8576b"
             ],
             [
              0.6666666666666666,
              "#ed7953"
             ],
             [
              0.7777777777777778,
              "#fb9f3a"
             ],
             [
              0.8888888888888888,
              "#fdca26"
             ],
             [
              1,
              "#f0f921"
             ]
            ],
            "type": "surface"
           }
          ],
          "table": [
           {
            "cells": {
             "fill": {
              "color": "#EBF0F8"
             },
             "line": {
              "color": "white"
             }
            },
            "header": {
             "fill": {
              "color": "#C8D4E3"
             },
             "line": {
              "color": "white"
             }
            },
            "type": "table"
           }
          ]
         },
         "layout": {
          "annotationdefaults": {
           "arrowcolor": "#2a3f5f",
           "arrowhead": 0,
           "arrowwidth": 1
          },
          "autotypenumbers": "strict",
          "coloraxis": {
           "colorbar": {
            "outlinewidth": 0,
            "ticks": ""
           }
          },
          "colorscale": {
           "diverging": [
            [
             0,
             "#8e0152"
            ],
            [
             0.1,
             "#c51b7d"
            ],
            [
             0.2,
             "#de77ae"
            ],
            [
             0.3,
             "#f1b6da"
            ],
            [
             0.4,
             "#fde0ef"
            ],
            [
             0.5,
             "#f7f7f7"
            ],
            [
             0.6,
             "#e6f5d0"
            ],
            [
             0.7,
             "#b8e186"
            ],
            [
             0.8,
             "#7fbc41"
            ],
            [
             0.9,
             "#4d9221"
            ],
            [
             1,
             "#276419"
            ]
           ],
           "sequential": [
            [
             0,
             "#0d0887"
            ],
            [
             0.1111111111111111,
             "#46039f"
            ],
            [
             0.2222222222222222,
             "#7201a8"
            ],
            [
             0.3333333333333333,
             "#9c179e"
            ],
            [
             0.4444444444444444,
             "#bd3786"
            ],
            [
             0.5555555555555556,
             "#d8576b"
            ],
            [
             0.6666666666666666,
             "#ed7953"
            ],
            [
             0.7777777777777778,
             "#fb9f3a"
            ],
            [
             0.8888888888888888,
             "#fdca26"
            ],
            [
             1,
             "#f0f921"
            ]
           ],
           "sequentialminus": [
            [
             0,
             "#0d0887"
            ],
            [
             0.1111111111111111,
             "#46039f"
            ],
            [
             0.2222222222222222,
             "#7201a8"
            ],
            [
             0.3333333333333333,
             "#9c179e"
            ],
            [
             0.4444444444444444,
             "#bd3786"
            ],
            [
             0.5555555555555556,
             "#d8576b"
            ],
            [
             0.6666666666666666,
             "#ed7953"
            ],
            [
             0.7777777777777778,
             "#fb9f3a"
            ],
            [
             0.8888888888888888,
             "#fdca26"
            ],
            [
             1,
             "#f0f921"
            ]
           ]
          },
          "colorway": [
           "#636efa",
           "#EF553B",
           "#00cc96",
           "#ab63fa",
           "#FFA15A",
           "#19d3f3",
           "#FF6692",
           "#B6E880",
           "#FF97FF",
           "#FECB52"
          ],
          "font": {
           "color": "#2a3f5f"
          },
          "geo": {
           "bgcolor": "white",
           "lakecolor": "white",
           "landcolor": "#E5ECF6",
           "showlakes": true,
           "showland": true,
           "subunitcolor": "white"
          },
          "hoverlabel": {
           "align": "left"
          },
          "hovermode": "closest",
          "mapbox": {
           "style": "light"
          },
          "paper_bgcolor": "white",
          "plot_bgcolor": "#E5ECF6",
          "polar": {
           "angularaxis": {
            "gridcolor": "white",
            "linecolor": "white",
            "ticks": ""
           },
           "bgcolor": "#E5ECF6",
           "radialaxis": {
            "gridcolor": "white",
            "linecolor": "white",
            "ticks": ""
           }
          },
          "scene": {
           "xaxis": {
            "backgroundcolor": "#E5ECF6",
            "gridcolor": "white",
            "gridwidth": 2,
            "linecolor": "white",
            "showbackground": true,
            "ticks": "",
            "zerolinecolor": "white"
           },
           "yaxis": {
            "backgroundcolor": "#E5ECF6",
            "gridcolor": "white",
            "gridwidth": 2,
            "linecolor": "white",
            "showbackground": true,
            "ticks": "",
            "zerolinecolor": "white"
           },
           "zaxis": {
            "backgroundcolor": "#E5ECF6",
            "gridcolor": "white",
            "gridwidth": 2,
            "linecolor": "white",
            "showbackground": true,
            "ticks": "",
            "zerolinecolor": "white"
           }
          },
          "shapedefaults": {
           "line": {
            "color": "#2a3f5f"
           }
          },
          "ternary": {
           "aaxis": {
            "gridcolor": "white",
            "linecolor": "white",
            "ticks": ""
           },
           "baxis": {
            "gridcolor": "white",
            "linecolor": "white",
            "ticks": ""
           },
           "bgcolor": "#E5ECF6",
           "caxis": {
            "gridcolor": "white",
            "linecolor": "white",
            "ticks": ""
           }
          },
          "title": {
           "x": 0.05
          },
          "xaxis": {
           "automargin": true,
           "gridcolor": "white",
           "linecolor": "white",
           "ticks": "",
           "title": {
            "standoff": 15
           },
           "zerolinecolor": "white",
           "zerolinewidth": 2
          },
          "yaxis": {
           "automargin": true,
           "gridcolor": "white",
           "linecolor": "white",
           "ticks": "",
           "title": {
            "standoff": 15
           },
           "zerolinecolor": "white",
           "zerolinewidth": 2
          }
         }
        },
        "title": {
         "text": "Wildfire frequency (2011-2021)"
        }
       }
      },
      "text/html": [
       "<div>                            <div id=\"624a3126-8356-4171-8d9c-9efca07c5698\" class=\"plotly-graph-div\" style=\"height:525px; width:100%;\"></div>            <script type=\"text/javascript\">                require([\"plotly\"], function(Plotly) {                    window.PLOTLYENV=window.PLOTLYENV || {};                                    if (document.getElementById(\"624a3126-8356-4171-8d9c-9efca07c5698\")) {                    Plotly.newPlot(                        \"624a3126-8356-4171-8d9c-9efca07c5698\",                        [{\"colorbar\": {\"title\": {\"text\": \"Wildfire frequency<br>(2011-2021)<br>\"}}, \"colorscale\": [[0.0, \"rgb(255,245,235)\"], [0.125, \"rgb(254,230,206)\"], [0.25, \"rgb(253,208,162)\"], [0.375, \"rgb(253,174,107)\"], [0.5, \"rgb(253,141,60)\"], [0.625, \"rgb(241,105,19)\"], [0.75, \"rgb(217,72,1)\"], [0.875, \"rgb(166,54,3)\"], [1.0, \"rgb(127,39,4)\"]], \"locations\": [\"IDN\", \"CHN\", \"IND\", \"USA\", \"BRA\", \"PHL\", \"PAK\", \"COL\", \"AFG\", \"VNM\", \"MYS\", \"PER\", \"LKA\", \"THA\", \"RUS\", \"BOL\", \"AGO\", \"ARG\", \"TZA\", \"FRA\", \"MEX\", \"IRN\", \"KEN\", \"NGA\", \"ITA\", \"HTI\", \"NPL\", \"COD\", \"UGA\", \"MMR\", \"GTM\", \"NER\", \"RWA\", \"MWI\", \"MOZ\", \"BGD\", \"SOM\", \"YEM\", \"SAU\", \"SDN\", \"PRY\", \"JPN\", \"GHA\", \"ESP\", \"TJK\", \"TUR\", \"VEN\", \"AUS\", \"SRB\", \"ZAF\", \"ROU\", \"BDI\", \"GBR\", \"CAN\", \"GEO\", \"ECU\", \"LAO\", \"DOM\", \"PRK\", \"KHM\", \"CHL\", \"NZL\", \"URY\", \"ETH\", \"IRQ\", \"PNG\", \"PAN\", \"SSD\", \"HND\", \"BIH\", \"DZA\", \"GRC\", \"BFA\", \"MLI\", \"BGR\", \"CIV\", \"ALB\", \"COG\", \"NIC\", \"ZMB\", \"KAZ\", \"CMR\", \"TCD\", \"MNG\", \"HRV\", \"NAM\", \"SEN\", \"GIN\", \"CAF\", \"CRI\", \"BEN\", \"MAR\", \"ZWE\", \"DEU\", \"KOR\", \"BWA\", \"MDG\", \"TUN\", \"SLE\", \"OMN\", \"MKD\", \"SLV\", \"MRT\", \"CUB\", \"SVN\", \"HUN\", \"AUT\", \"POL\", \"UKR\", \"SLB\", \"GUY\", \"VCT\", \"SVK\", \"BEL\", \"LSO\", \"FJI\", \"GMB\", \"PSE\", \"IRL\", \"SYR\", \"PRI\", \"LBY\", \"EGY\", \"CZE\", \"TWN\", \"DJI\", \"JOR\", \"TGO\", \"ISR\", \"LUX\", \"MHL\", \"QAT\", \"STP\", \"ARE\", \"SWZ\", \"MDV\", \"KWT\", \"TLS\", \"UZB\", \"GAB\", \"SYC\", \"LBR\", \"BLR\", \"GUF\", \"KGZ\", \"BTN\", \"CPV\", \"PRT\", \"KIR\", \"NLD\", \"PYF\", \"LCA\", \"BHS\", \"MUS\", \"COM\", \"TTO\", \"SUR\", \"BLZ\", \"SWE\", \"CHE\", \"ANT\", \"BRB\", \"GUM\", \"GRD\", \"ASM\", \"MDA\", \"ATG\", \"VGB\", \"BMU\", \"AZO\", \"COK\", \"BRN\", \"LVA\", \"YMD\", \"DMA\", \"CYM\", \"SHN\", \"AZE\", \"MNP\", \"EST\", \"GLP\", \"MNE\", \"DFR\", \"AIA\", \"PLW\", \"GNB\", \"HKG\", \"BLM\", \"MAF\", \"SXM\", \"ARM\", \"DNK\", \"CYP\", \"TCA\", \"WLF\", \"YUG\", \"WSM\", \"VUT\", \"CSK\", \"DDR\", \"FSM\", \"TUV\", \"TON\", \"MTQ\", \"NIU\", \"ISL\", \"SPI\", \"LBN\", \"REU\", \"TKM\", \"NCL\", \"FIN\", \"NOR\", \"MSR\", \"LTU\", \"KNA\", \"ERI\", \"SUN\", \"TKL\", \"MAC\", \"VIR\", \"JAM\", \"YMN\", \"SCG\", \"IMN\"], \"marker\": {\"line\": {\"color\": \"darkgray\", \"width\": 0.5}}, \"text\": [\"Indonesia\", \"China\", \"India\", \"United States of America (the)\", \"Brazil\", \"Philippines (the)\", \"Pakistan\", \"Colombia\", \"Afghanistan\", \"Viet Nam\", \"Malaysia\", \"Peru\", \"Sri Lanka\", \"Thailand\", \"Russian Federation (the)\", \"Bolivia (Plurinational State of)\", \"Angola\", \"Argentina\", \"Tanzania, United Republic of\", \"France\", \"Mexico\", \"Iran (Islamic Republic of)\", \"Kenya\", \"Nigeria\", \"Italy\", \"Haiti\", \"Nepal\", \"Congo (the Democratic Republic of the)\", \"Uganda\", \"Myanmar\", \"Guatemala\", \"Niger (the)\", \"Rwanda\", \"Malawi\", \"Mozambique\", \"Bangladesh\", \"Somalia\", \"Yemen\", \"Saudi Arabia\", \"Sudan (the)\", \"Paraguay\", \"Japan\", \"Ghana\", \"Spain\", \"Tajikistan\", \"Turkey\", \"Venezuela (Bolivarian Republic of)\", \"Australia\", \"Serbia\", \"South Africa\", \"Romania\", \"Burundi\", \"United Kingdom of Great Britain and Northern Ireland (the)\", \"Canada\", \"Georgia\", \"Ecuador\", \"Lao People's Democratic Republic (the)\", \"Dominican Republic (the)\", \"Korea (the Democratic People's Republic of)\", \"Cambodia\", \"Chile\", \"New Zealand\", \"Uruguay\", \"Ethiopia\", \"Iraq\", \"Papua New Guinea\", \"Panama\", \"South Sudan\", \"Honduras\", \"Bosnia and Herzegovina\", \"Algeria\", \"Greece\", \"Burkina Faso\", \"Mali\", \"Bulgaria\", \"C\\u00f4te d\\u2019Ivoire\", \"Albania\", \"Congo (the)\", \"Nicaragua\", \"Zambia\", \"Kazakhstan\", \"Cameroon\", \"Chad\", \"Mongolia\", \"Croatia\", \"Namibia\", \"Senegal\", \"Guinea\", \"Central African Republic\", \"Costa Rica\", \"Benin\", \"Morocco\", \"Zimbabwe\", \"Germany\", \"Korea (the Republic of)\", \"Botswana\", \"Madagascar\", \"Tunisia\", \"Sierra Leone\", \"Oman\", \"Macedonia (the former Yugoslav Republic of)\", \"El Salvador\", \"Mauritania\", \"Cuba\", \"Slovenia\", \"Hungary\", \"Austria\", \"Poland\", \"Ukraine\", \"Solomon Islands\", \"Guyana\", \"Saint Vincent and the Grenadines\", \"Slovakia\", \"Belgium\", \"Lesotho\", \"Fiji\", \"Gambia (the)\", \"Palestine, State of\", \"Ireland\", \"Syrian Arab Republic\", \"Puerto Rico\", \"Libya\", \"Egypt\", \"Czech Republic (the)\", \"Taiwan (Province of China)\", \"Djibouti\", \"Jordan\", \"Togo\", \"Israel\", \"Luxembourg\", \"Marshall Islands (the)\", \"Qatar\", \"Sao Tome and Principe\", \"United Arab Emirates (the)\", \"Eswatini\", \"Maldives\", \"Kuwait\", \"Timor-Leste\", \"Uzbekistan\", \"Gabon\", \"Seychelles\", \"Liberia\", \"Belarus\", \"French Guiana\", \"Kyrgyzstan\", \"Bhutan\", \"Cabo Verde\", \"Portugal\", \"Kiribati\", \"Netherlands (the)\", \"French Polynesia\", \"Saint Lucia\", \"Bahamas (the)\", \"Mauritius\", \"Comoros (the)\", \"Trinidad and Tobago\", \"Suriname\", \"Belize\", \"Sweden\", \"Switzerland\", \"Netherlands Antilles\", \"Barbados\", \"Guam\", \"Grenada\", \"American Samoa\", \"Moldova (the Republic of)\", \"Antigua and Barbuda\", \"Virgin Island (British)\", \"Bermuda\", \"Azores Islands\", \"Cook Islands (the)\", \"Brunei Darussalam\", \"Latvia\", \"Yemen P Dem Rep\", \"Dominica\", \"Cayman Islands (the)\", \"Saint Helena, Ascension and Tristan da Cunha\", \"Azerbaijan\", \"Northern Mariana Islands (the)\", \"Estonia\", \"Guadeloupe\", \"Montenegro\", \"Germany Fed Rep\", \"Anguilla\", \"Palau\", \"Guinea-Bissau\", \"Hong Kong\", \"Saint Barth\\u00e9lemy\", \"Saint Martin (French Part)\", \"Sint Maarten (Dutch part)\", \"Armenia\", \"Denmark\", \"Cyprus\", \"Turks and Caicos Islands (the)\", \"Wallis and Futuna\", \"Yugoslavia\", \"Samoa\", \"Vanuatu\", \"Czechoslovakia\", \"Germany Dem Rep\", \"Micronesia (Federated States of)\", \"Tuvalu\", \"Tonga\", \"Martinique\", \"Niue\", \"Iceland\", \"Canary Is\", \"Lebanon\", \"R\\u00e9union\", \"Turkmenistan\", \"New Caledonia\", \"Finland\", \"Norway\", \"Montserrat\", \"Lithuania\", \"Saint Kitts and Nevis\", \"Eritrea\", \"Soviet Union\", \"Tokelau\", \"Macao\", \"Virgin Island (U.S.)\", \"Jamaica\", \"Yemen Arab Rep\", \"Serbia Montenegro\", \"Isle of Man\"], \"type\": \"choropleth\", \"z\": [2, 2, 2, 34, 1, 0, 0, 1, 0, 0, 0, 1, 0, 0, 4, 2, 0, 1, 0, 1, 1, 0, 0, 0, 1, 0, 1, 1, 0, 0, 0, 0, 0, 0, 0, 0, 0, 0, 0, 0, 1, 0, 0, 4, 0, 1, 0, 13, 0, 1, 0, 0, 0, 6, 0, 1, 0, 0, 0, 0, 7, 1, 0, 0, 0, 0, 0, 1, 1, 0, 1, 2, 0, 0, 1, 0, 0, 0, 0, 0, 0, 0, 0, 0, 1, 0, 0, 0, 0, 0, 1, 0, 0, 0, 1, 0, 0, 2, 1, 0, 1, 0, 0, 0, 0, 0, 0, 0, 2, 0, 0, 0, 0, 0, 0, 0, 0, 0, 0, 1, 0, 0, 0, 0, 0, 0, 0, 0, 2, 0, 0, 0, 0, 0, 0, 0, 0, 0, 0, 0, 0, 0, 0, 0, 0, 0, 0, 5, 0, 0, 0, 0, 0, 0, 0, 0, 0, 0, 1, 0, 0, 0, 0, 0, 0, 0, 0, 0, 0, 0, 0, 0, 1, 0, 0, 0, 0, 0, 0, 0, 0, 1, 0, 0, 0, 0, 0, 0, 0, 0, 0, 0, 1, 0, 0, 0, 0, 0, 0, 0, 0, 0, 0, 0, 0, 0, 0, 1, 0, 0, 0, 0, 0, 0, 0, 0, 0, 0, 0, 0, 0, 0, 0, 0, 0]}],                        {\"geo\": {\"showcoastlines\": false, \"showframe\": false}, \"template\": {\"data\": {\"bar\": [{\"error_x\": {\"color\": \"#2a3f5f\"}, \"error_y\": {\"color\": \"#2a3f5f\"}, \"marker\": {\"line\": {\"color\": \"#E5ECF6\", \"width\": 0.5}}, \"type\": \"bar\"}], \"barpolar\": [{\"marker\": {\"line\": {\"color\": \"#E5ECF6\", \"width\": 0.5}}, \"type\": \"barpolar\"}], \"carpet\": [{\"aaxis\": {\"endlinecolor\": \"#2a3f5f\", \"gridcolor\": \"white\", \"linecolor\": \"white\", \"minorgridcolor\": \"white\", \"startlinecolor\": \"#2a3f5f\"}, \"baxis\": {\"endlinecolor\": \"#2a3f5f\", \"gridcolor\": \"white\", \"linecolor\": \"white\", \"minorgridcolor\": \"white\", \"startlinecolor\": \"#2a3f5f\"}, \"type\": \"carpet\"}], \"choropleth\": [{\"colorbar\": {\"outlinewidth\": 0, \"ticks\": \"\"}, \"type\": \"choropleth\"}], \"contour\": [{\"colorbar\": {\"outlinewidth\": 0, \"ticks\": \"\"}, \"colorscale\": [[0.0, \"#0d0887\"], [0.1111111111111111, \"#46039f\"], [0.2222222222222222, \"#7201a8\"], [0.3333333333333333, \"#9c179e\"], [0.4444444444444444, \"#bd3786\"], [0.5555555555555556, \"#d8576b\"], [0.6666666666666666, \"#ed7953\"], [0.7777777777777778, \"#fb9f3a\"], [0.8888888888888888, \"#fdca26\"], [1.0, \"#f0f921\"]], \"type\": \"contour\"}], \"contourcarpet\": [{\"colorbar\": {\"outlinewidth\": 0, \"ticks\": \"\"}, \"type\": \"contourcarpet\"}], \"heatmap\": [{\"colorbar\": {\"outlinewidth\": 0, \"ticks\": \"\"}, \"colorscale\": [[0.0, \"#0d0887\"], [0.1111111111111111, \"#46039f\"], [0.2222222222222222, \"#7201a8\"], [0.3333333333333333, \"#9c179e\"], [0.4444444444444444, \"#bd3786\"], [0.5555555555555556, \"#d8576b\"], [0.6666666666666666, \"#ed7953\"], [0.7777777777777778, \"#fb9f3a\"], [0.8888888888888888, \"#fdca26\"], [1.0, \"#f0f921\"]], \"type\": \"heatmap\"}], \"heatmapgl\": [{\"colorbar\": {\"outlinewidth\": 0, \"ticks\": \"\"}, \"colorscale\": [[0.0, \"#0d0887\"], [0.1111111111111111, \"#46039f\"], [0.2222222222222222, \"#7201a8\"], [0.3333333333333333, \"#9c179e\"], [0.4444444444444444, \"#bd3786\"], [0.5555555555555556, \"#d8576b\"], [0.6666666666666666, \"#ed7953\"], [0.7777777777777778, \"#fb9f3a\"], [0.8888888888888888, \"#fdca26\"], [1.0, \"#f0f921\"]], \"type\": \"heatmapgl\"}], \"histogram\": [{\"marker\": {\"colorbar\": {\"outlinewidth\": 0, \"ticks\": \"\"}}, \"type\": \"histogram\"}], \"histogram2d\": [{\"colorbar\": {\"outlinewidth\": 0, \"ticks\": \"\"}, \"colorscale\": [[0.0, \"#0d0887\"], [0.1111111111111111, \"#46039f\"], [0.2222222222222222, \"#7201a8\"], [0.3333333333333333, \"#9c179e\"], [0.4444444444444444, \"#bd3786\"], [0.5555555555555556, \"#d8576b\"], [0.6666666666666666, \"#ed7953\"], [0.7777777777777778, \"#fb9f3a\"], [0.8888888888888888, \"#fdca26\"], [1.0, \"#f0f921\"]], \"type\": \"histogram2d\"}], \"histogram2dcontour\": [{\"colorbar\": {\"outlinewidth\": 0, \"ticks\": \"\"}, \"colorscale\": [[0.0, \"#0d0887\"], [0.1111111111111111, \"#46039f\"], [0.2222222222222222, \"#7201a8\"], [0.3333333333333333, \"#9c179e\"], [0.4444444444444444, \"#bd3786\"], [0.5555555555555556, \"#d8576b\"], [0.6666666666666666, \"#ed7953\"], [0.7777777777777778, \"#fb9f3a\"], [0.8888888888888888, \"#fdca26\"], [1.0, \"#f0f921\"]], \"type\": \"histogram2dcontour\"}], \"mesh3d\": [{\"colorbar\": {\"outlinewidth\": 0, \"ticks\": \"\"}, \"type\": \"mesh3d\"}], \"parcoords\": [{\"line\": {\"colorbar\": {\"outlinewidth\": 0, \"ticks\": \"\"}}, \"type\": \"parcoords\"}], \"pie\": [{\"automargin\": true, \"type\": \"pie\"}], \"scatter\": [{\"marker\": {\"colorbar\": {\"outlinewidth\": 0, \"ticks\": \"\"}}, \"type\": \"scatter\"}], \"scatter3d\": [{\"line\": {\"colorbar\": {\"outlinewidth\": 0, \"ticks\": \"\"}}, \"marker\": {\"colorbar\": {\"outlinewidth\": 0, \"ticks\": \"\"}}, \"type\": \"scatter3d\"}], \"scattercarpet\": [{\"marker\": {\"colorbar\": {\"outlinewidth\": 0, \"ticks\": \"\"}}, \"type\": \"scattercarpet\"}], \"scattergeo\": [{\"marker\": {\"colorbar\": {\"outlinewidth\": 0, \"ticks\": \"\"}}, \"type\": \"scattergeo\"}], \"scattergl\": [{\"marker\": {\"colorbar\": {\"outlinewidth\": 0, \"ticks\": \"\"}}, \"type\": \"scattergl\"}], \"scattermapbox\": [{\"marker\": {\"colorbar\": {\"outlinewidth\": 0, \"ticks\": \"\"}}, \"type\": \"scattermapbox\"}], \"scatterpolar\": [{\"marker\": {\"colorbar\": {\"outlinewidth\": 0, \"ticks\": \"\"}}, \"type\": \"scatterpolar\"}], \"scatterpolargl\": [{\"marker\": {\"colorbar\": {\"outlinewidth\": 0, \"ticks\": \"\"}}, \"type\": \"scatterpolargl\"}], \"scatterternary\": [{\"marker\": {\"colorbar\": {\"outlinewidth\": 0, \"ticks\": \"\"}}, \"type\": \"scatterternary\"}], \"surface\": [{\"colorbar\": {\"outlinewidth\": 0, \"ticks\": \"\"}, \"colorscale\": [[0.0, \"#0d0887\"], [0.1111111111111111, \"#46039f\"], [0.2222222222222222, \"#7201a8\"], [0.3333333333333333, \"#9c179e\"], [0.4444444444444444, \"#bd3786\"], [0.5555555555555556, \"#d8576b\"], [0.6666666666666666, \"#ed7953\"], [0.7777777777777778, \"#fb9f3a\"], [0.8888888888888888, \"#fdca26\"], [1.0, \"#f0f921\"]], \"type\": \"surface\"}], \"table\": [{\"cells\": {\"fill\": {\"color\": \"#EBF0F8\"}, \"line\": {\"color\": \"white\"}}, \"header\": {\"fill\": {\"color\": \"#C8D4E3\"}, \"line\": {\"color\": \"white\"}}, \"type\": \"table\"}]}, \"layout\": {\"annotationdefaults\": {\"arrowcolor\": \"#2a3f5f\", \"arrowhead\": 0, \"arrowwidth\": 1}, \"autotypenumbers\": \"strict\", \"coloraxis\": {\"colorbar\": {\"outlinewidth\": 0, \"ticks\": \"\"}}, \"colorscale\": {\"diverging\": [[0, \"#8e0152\"], [0.1, \"#c51b7d\"], [0.2, \"#de77ae\"], [0.3, \"#f1b6da\"], [0.4, \"#fde0ef\"], [0.5, \"#f7f7f7\"], [0.6, \"#e6f5d0\"], [0.7, \"#b8e186\"], [0.8, \"#7fbc41\"], [0.9, \"#4d9221\"], [1, \"#276419\"]], \"sequential\": [[0.0, \"#0d0887\"], [0.1111111111111111, \"#46039f\"], [0.2222222222222222, \"#7201a8\"], [0.3333333333333333, \"#9c179e\"], [0.4444444444444444, \"#bd3786\"], [0.5555555555555556, \"#d8576b\"], [0.6666666666666666, \"#ed7953\"], [0.7777777777777778, \"#fb9f3a\"], [0.8888888888888888, \"#fdca26\"], [1.0, \"#f0f921\"]], \"sequentialminus\": [[0.0, \"#0d0887\"], [0.1111111111111111, \"#46039f\"], [0.2222222222222222, \"#7201a8\"], [0.3333333333333333, \"#9c179e\"], [0.4444444444444444, \"#bd3786\"], [0.5555555555555556, \"#d8576b\"], [0.6666666666666666, \"#ed7953\"], [0.7777777777777778, \"#fb9f3a\"], [0.8888888888888888, \"#fdca26\"], [1.0, \"#f0f921\"]]}, \"colorway\": [\"#636efa\", \"#EF553B\", \"#00cc96\", \"#ab63fa\", \"#FFA15A\", \"#19d3f3\", \"#FF6692\", \"#B6E880\", \"#FF97FF\", \"#FECB52\"], \"font\": {\"color\": \"#2a3f5f\"}, \"geo\": {\"bgcolor\": \"white\", \"lakecolor\": \"white\", \"landcolor\": \"#E5ECF6\", \"showlakes\": true, \"showland\": true, \"subunitcolor\": \"white\"}, \"hoverlabel\": {\"align\": \"left\"}, \"hovermode\": \"closest\", \"mapbox\": {\"style\": \"light\"}, \"paper_bgcolor\": \"white\", \"plot_bgcolor\": \"#E5ECF6\", \"polar\": {\"angularaxis\": {\"gridcolor\": \"white\", \"linecolor\": \"white\", \"ticks\": \"\"}, \"bgcolor\": \"#E5ECF6\", \"radialaxis\": {\"gridcolor\": \"white\", \"linecolor\": \"white\", \"ticks\": \"\"}}, \"scene\": {\"xaxis\": {\"backgroundcolor\": \"#E5ECF6\", \"gridcolor\": \"white\", \"gridwidth\": 2, \"linecolor\": \"white\", \"showbackground\": true, \"ticks\": \"\", \"zerolinecolor\": \"white\"}, \"yaxis\": {\"backgroundcolor\": \"#E5ECF6\", \"gridcolor\": \"white\", \"gridwidth\": 2, \"linecolor\": \"white\", \"showbackground\": true, \"ticks\": \"\", \"zerolinecolor\": \"white\"}, \"zaxis\": {\"backgroundcolor\": \"#E5ECF6\", \"gridcolor\": \"white\", \"gridwidth\": 2, \"linecolor\": \"white\", \"showbackground\": true, \"ticks\": \"\", \"zerolinecolor\": \"white\"}}, \"shapedefaults\": {\"line\": {\"color\": \"#2a3f5f\"}}, \"ternary\": {\"aaxis\": {\"gridcolor\": \"white\", \"linecolor\": \"white\", \"ticks\": \"\"}, \"baxis\": {\"gridcolor\": \"white\", \"linecolor\": \"white\", \"ticks\": \"\"}, \"bgcolor\": \"#E5ECF6\", \"caxis\": {\"gridcolor\": \"white\", \"linecolor\": \"white\", \"ticks\": \"\"}}, \"title\": {\"x\": 0.05}, \"xaxis\": {\"automargin\": true, \"gridcolor\": \"white\", \"linecolor\": \"white\", \"ticks\": \"\", \"title\": {\"standoff\": 15}, \"zerolinecolor\": \"white\", \"zerolinewidth\": 2}, \"yaxis\": {\"automargin\": true, \"gridcolor\": \"white\", \"linecolor\": \"white\", \"ticks\": \"\", \"title\": {\"standoff\": 15}, \"zerolinecolor\": \"white\", \"zerolinewidth\": 2}}}, \"title\": {\"text\": \"Wildfire frequency (2011-2021)\"}},                        {\"responsive\": true}                    ).then(function(){\n",
       "                            \n",
       "var gd = document.getElementById('624a3126-8356-4171-8d9c-9efca07c5698');\n",
       "var x = new MutationObserver(function (mutations, observer) {{\n",
       "        var display = window.getComputedStyle(gd).display;\n",
       "        if (!display || display === 'none') {{\n",
       "            console.log([gd, 'removed!']);\n",
       "            Plotly.purge(gd);\n",
       "            observer.disconnect();\n",
       "        }}\n",
       "}});\n",
       "\n",
       "// Listen for the removal of the full notebook cells\n",
       "var notebookContainer = gd.closest('#notebook-container');\n",
       "if (notebookContainer) {{\n",
       "    x.observe(notebookContainer, {childList: true});\n",
       "}}\n",
       "\n",
       "// Listen for the clearing of the current output cell\n",
       "var outputEl = gd.closest('.output');\n",
       "if (outputEl) {{\n",
       "    x.observe(outputEl, {childList: true});\n",
       "}}\n",
       "\n",
       "                        })                };                });            </script>        </div>"
      ]
     },
     "metadata": {},
     "output_type": "display_data"
    }
   ],
   "source": [
    "fig = go.Figure(data=go.Choropleth(\n",
    "    locations=freq_df[\"ISO\"],\n",
    "    z=freq_df[\"fire_freq\"],\n",
    "    text=freq_df[\"Country\"],\n",
    "    colorscale=\"oranges\",\n",
    "    marker_line_color=\"darkgray\",\n",
    "    marker_line_width=0.5,\n",
    "    colorbar_title=\"Wildfire frequency<br>(2011-2021)<br>\",\n",
    "))\n",
    "\n",
    "fig.update_layout(\n",
    "    title_text=\"Wildfire frequency (2011-2021)\",\n",
    "    geo=dict(\n",
    "        showframe=False,\n",
    "        showcoastlines=False,\n",
    "    )\n",
    ")\n",
    "\n",
    "fig.show()"
   ]
  },
  {
   "cell_type": "markdown",
   "id": "08791f59",
   "metadata": {},
   "source": [
    "### Subset: 2000-2010"
   ]
  },
  {
   "cell_type": "code",
   "execution_count": 263,
   "id": "6b0f3167",
   "metadata": {},
   "outputs": [
    {
     "data": {
      "text/html": [
       "<div>\n",
       "<style scoped>\n",
       "    .dataframe tbody tr th:only-of-type {\n",
       "        vertical-align: middle;\n",
       "    }\n",
       "\n",
       "    .dataframe tbody tr th {\n",
       "        vertical-align: top;\n",
       "    }\n",
       "\n",
       "    .dataframe thead th {\n",
       "        text-align: right;\n",
       "    }\n",
       "</style>\n",
       "<table border=\"1\" class=\"dataframe\">\n",
       "  <thead>\n",
       "    <tr style=\"text-align: right;\">\n",
       "      <th></th>\n",
       "      <th>Country</th>\n",
       "      <th>ISO</th>\n",
       "      <th>flood_freq</th>\n",
       "      <th>drought_freq</th>\n",
       "      <th>fire_freq</th>\n",
       "    </tr>\n",
       "  </thead>\n",
       "  <tbody>\n",
       "    <tr>\n",
       "      <th>0</th>\n",
       "      <td>Cabo Verde</td>\n",
       "      <td>CPV</td>\n",
       "      <td>1</td>\n",
       "      <td>1</td>\n",
       "      <td>0</td>\n",
       "    </tr>\n",
       "    <tr>\n",
       "      <th>1</th>\n",
       "      <td>India</td>\n",
       "      <td>IND</td>\n",
       "      <td>105</td>\n",
       "      <td>3</td>\n",
       "      <td>0</td>\n",
       "    </tr>\n",
       "    <tr>\n",
       "      <th>2</th>\n",
       "      <td>Bangladesh</td>\n",
       "      <td>BGD</td>\n",
       "      <td>24</td>\n",
       "      <td>1</td>\n",
       "      <td>0</td>\n",
       "    </tr>\n",
       "    <tr>\n",
       "      <th>3</th>\n",
       "      <td>Belgium</td>\n",
       "      <td>BEL</td>\n",
       "      <td>7</td>\n",
       "      <td>0</td>\n",
       "      <td>0</td>\n",
       "    </tr>\n",
       "    <tr>\n",
       "      <th>4</th>\n",
       "      <td>Hong Kong</td>\n",
       "      <td>HKG</td>\n",
       "      <td>1</td>\n",
       "      <td>0</td>\n",
       "      <td>0</td>\n",
       "    </tr>\n",
       "  </tbody>\n",
       "</table>\n",
       "</div>"
      ],
      "text/plain": [
       "      Country  ISO  flood_freq  drought_freq  fire_freq\n",
       "0  Cabo Verde  CPV           1             1          0\n",
       "1       India  IND         105             3          0\n",
       "2  Bangladesh  BGD          24             1          0\n",
       "3     Belgium  BEL           7             0          0\n",
       "4   Hong Kong  HKG           1             0          0"
      ]
     },
     "execution_count": 263,
     "metadata": {},
     "output_type": "execute_result"
    }
   ],
   "source": [
    "chosen_years_past = [2000, 2001, 2002, 2003, 2004, 2005, 2006, 2007, 2008, 2009, 2010]\n",
    "cleaned_df_subset_3 = cleaned_df[cleaned_df[\"Year\"].isin(chosen_years_past)]\n",
    "freq_df_2 = create_frequency_df(cleaned_df_subset_3)\n",
    "freq_df_2.head()"
   ]
  },
  {
   "cell_type": "markdown",
   "id": "35d6ee7c",
   "metadata": {},
   "source": [
    "#### Visualization of flood frequency "
   ]
  },
  {
   "cell_type": "code",
   "execution_count": 289,
   "id": "8bce510d",
   "metadata": {},
   "outputs": [
    {
     "data": {
      "application/vnd.plotly.v1+json": {
       "config": {
        "plotlyServerURL": "https://plot.ly"
       },
       "data": [
        {
         "colorbar": {
          "title": {
           "text": "Flood frequency<br>(2000-2010)<br>"
          }
         },
         "colorscale": [
          [
           0,
           "rgb(247,251,255)"
          ],
          [
           0.125,
           "rgb(222,235,247)"
          ],
          [
           0.25,
           "rgb(198,219,239)"
          ],
          [
           0.375,
           "rgb(158,202,225)"
          ],
          [
           0.5,
           "rgb(107,174,214)"
          ],
          [
           0.625,
           "rgb(66,146,198)"
          ],
          [
           0.75,
           "rgb(33,113,181)"
          ],
          [
           0.875,
           "rgb(8,81,156)"
          ],
          [
           1,
           "rgb(8,48,107)"
          ]
         ],
         "locations": [
          "CPV",
          "IND",
          "BGD",
          "BEL",
          "HKG",
          "HTI",
          "BFA",
          "GMB",
          "GNB",
          "CAN",
          "CHN",
          "AIA",
          "DFR",
          "BHS",
          "CUB",
          "DZA",
          "GLP",
          "DMA",
          "DOM",
          "GRC",
          "BLZ",
          "FJI",
          "HND",
          "AUS",
          "COK",
          "AZO",
          "BMU",
          "BRA",
          "FRA",
          "GTM",
          "ATG",
          "ECU",
          "COM",
          "GBR",
          "ESP",
          "IDN",
          "ANT",
          "EGY",
          "BRB",
          "AFG",
          "ARG",
          "COL",
          "GUM",
          "GRD",
          "BOL",
          "BWA",
          "CHL",
          "ETH",
          "ASM",
          "GHA",
          "BEN",
          "CRI",
          "CYP",
          "HUN",
          "CMR",
          "GUY",
          "CAF",
          "AUT",
          "CHE",
          "DNK",
          "DJI",
          "USA",
          "JAM",
          "MMR",
          "NER",
          "PHL",
          "JPN",
          "MLI",
          "MRT",
          "SEN",
          "TCD",
          "TWN",
          "TKL",
          "SUN",
          "PAK",
          "ROU",
          "KNA",
          "MSR",
          "POL",
          "PRI",
          "MEX",
          "TTO",
          "SLV",
          "KOR",
          "NZL",
          "ITA",
          "NCL",
          "REU",
          "TUR",
          "IRN",
          "MAR",
          "NLD",
          "IRQ",
          "NPL",
          "LBN",
          "MOZ",
          "SLB",
          "LKA",
          "SPI",
          "PYF",
          "NIU",
          "LCA",
          "MTQ",
          "MUS",
          "NIC",
          "SOM",
          "TON",
          "PER",
          "THA",
          "TUN",
          "JOR",
          "PRY",
          "KEN",
          "PAN",
          "SAU",
          "TZA",
          "MYS",
          "LAO",
          "MNG",
          "TGO",
          "MWI",
          "PRT",
          "SYR",
          "UGA",
          "URY",
          "LSO",
          "MDG",
          "SUR",
          "KIR",
          "PNG",
          "TUV",
          "RWA",
          "SDN",
          "SLE",
          "SWE",
          "OMN",
          "NGA",
          "VUT",
          "ZAF",
          "VNM",
          "VCT",
          "WSM",
          "YUG",
          "WLF",
          "VEN",
          "YMN",
          "YMD",
          "ZWE",
          "ZMB",
          "CIV",
          "GIN",
          "AGO",
          "BGR",
          "CSK",
          "COG",
          "DDR",
          "FSM",
          "GAB",
          "LBR",
          "NAM",
          "IRL",
          "ISR",
          "LUX",
          "KHM",
          "MDV",
          "PRK",
          "ISL",
          "COD",
          "SWZ",
          "STP",
          "TCA",
          "ALB",
          "BDI",
          "DEU",
          "BLR",
          "FIN",
          "NOR",
          "MHL",
          "LTU",
          "RUS",
          "ERI",
          "MKD",
          "KAZ",
          "MAC",
          "VIR",
          "TJK",
          "YEM",
          "SCG",
          "UKR",
          "TKM",
          "BTN",
          "AZE",
          "ARM",
          "BRN",
          "MDA",
          "GEO",
          "LBY",
          "CZE",
          "GUF",
          "HRV",
          "KWT",
          "KGZ",
          "VGB",
          "SVK",
          "SYC",
          "BIH",
          "LVA",
          "UZB",
          "CYM",
          "SHN",
          "TLS",
          "MNP",
          "EST",
          "SVN",
          "PSE",
          "MNE",
          "SRB",
          "SSD",
          "PLW",
          "ARE",
          "QAT",
          "BLM",
          "MAF",
          "SXM",
          "IMN"
         ],
         "marker": {
          "line": {
           "color": "darkgray",
           "width": 0.5
          }
         },
         "text": [
          "Cabo Verde",
          "India",
          "Bangladesh",
          "Belgium",
          "Hong Kong",
          "Haiti",
          "Burkina Faso",
          "Gambia (the)",
          "Guinea-Bissau",
          "Canada",
          "China",
          "Anguilla",
          "Germany Fed Rep",
          "Bahamas (the)",
          "Cuba",
          "Algeria",
          "Guadeloupe",
          "Dominica",
          "Dominican Republic (the)",
          "Greece",
          "Belize",
          "Fiji",
          "Honduras",
          "Australia",
          "Cook Islands (the)",
          "Azores Islands",
          "Bermuda",
          "Brazil",
          "France",
          "Guatemala",
          "Antigua and Barbuda",
          "Ecuador",
          "Comoros (the)",
          "United Kingdom of Great Britain and Northern Ireland (the)",
          "Spain",
          "Indonesia",
          "Netherlands Antilles",
          "Egypt",
          "Barbados",
          "Afghanistan",
          "Argentina",
          "Colombia",
          "Guam",
          "Grenada",
          "Bolivia (Plurinational State of)",
          "Botswana",
          "Chile",
          "Ethiopia",
          "American Samoa",
          "Ghana",
          "Benin",
          "Costa Rica",
          "Cyprus",
          "Hungary",
          "Cameroon",
          "Guyana",
          "Central African Republic",
          "Austria",
          "Switzerland",
          "Denmark",
          "Djibouti",
          "United States of America (the)",
          "Jamaica",
          "Myanmar",
          "Niger (the)",
          "Philippines (the)",
          "Japan",
          "Mali",
          "Mauritania",
          "Senegal",
          "Chad",
          "Taiwan (Province of China)",
          "Tokelau",
          "Soviet Union",
          "Pakistan",
          "Romania",
          "Saint Kitts and Nevis",
          "Montserrat",
          "Poland",
          "Puerto Rico",
          "Mexico",
          "Trinidad and Tobago",
          "El Salvador",
          "Korea (the Republic of)",
          "New Zealand",
          "Italy",
          "New Caledonia",
          "Réunion",
          "Turkey",
          "Iran (Islamic Republic of)",
          "Morocco",
          "Netherlands (the)",
          "Iraq",
          "Nepal",
          "Lebanon",
          "Mozambique",
          "Solomon Islands",
          "Sri Lanka",
          "Canary Is",
          "French Polynesia",
          "Niue",
          "Saint Lucia",
          "Martinique",
          "Mauritius",
          "Nicaragua",
          "Somalia",
          "Tonga",
          "Peru",
          "Thailand",
          "Tunisia",
          "Jordan",
          "Paraguay",
          "Kenya",
          "Panama",
          "Saudi Arabia",
          "Tanzania, United Republic of",
          "Malaysia",
          "Lao People's Democratic Republic (the)",
          "Mongolia",
          "Togo",
          "Malawi",
          "Portugal",
          "Syrian Arab Republic",
          "Uganda",
          "Uruguay",
          "Lesotho",
          "Madagascar",
          "Suriname",
          "Kiribati",
          "Papua New Guinea",
          "Tuvalu",
          "Rwanda",
          "Sudan (the)",
          "Sierra Leone",
          "Sweden",
          "Oman",
          "Nigeria",
          "Vanuatu",
          "South Africa",
          "Viet Nam",
          "Saint Vincent and the Grenadines",
          "Samoa",
          "Yugoslavia",
          "Wallis and Futuna",
          "Venezuela (Bolivarian Republic of)",
          "Yemen Arab Rep",
          "Yemen P Dem Rep",
          "Zimbabwe",
          "Zambia",
          "Côte d’Ivoire",
          "Guinea",
          "Angola",
          "Bulgaria",
          "Czechoslovakia",
          "Congo (the)",
          "Germany Dem Rep",
          "Micronesia (Federated States of)",
          "Gabon",
          "Liberia",
          "Namibia",
          "Ireland",
          "Israel",
          "Luxembourg",
          "Cambodia",
          "Maldives",
          "Korea (the Democratic People's Republic of)",
          "Iceland",
          "Congo (the Democratic Republic of the)",
          "Eswatini",
          "Sao Tome and Principe",
          "Turks and Caicos Islands (the)",
          "Albania",
          "Burundi",
          "Germany",
          "Belarus",
          "Finland",
          "Norway",
          "Marshall Islands (the)",
          "Lithuania",
          "Russian Federation (the)",
          "Eritrea",
          "Macedonia (the former Yugoslav Republic of)",
          "Kazakhstan",
          "Macao",
          "Virgin Island (U.S.)",
          "Tajikistan",
          "Yemen",
          "Serbia Montenegro",
          "Ukraine",
          "Turkmenistan",
          "Bhutan",
          "Azerbaijan",
          "Armenia",
          "Brunei Darussalam",
          "Moldova (the Republic of)",
          "Georgia",
          "Libya",
          "Czech Republic (the)",
          "French Guiana",
          "Croatia",
          "Kuwait",
          "Kyrgyzstan",
          "Virgin Island (British)",
          "Slovakia",
          "Seychelles",
          "Bosnia and Herzegovina",
          "Latvia",
          "Uzbekistan",
          "Cayman Islands (the)",
          "Saint Helena, Ascension and Tristan da Cunha",
          "Timor-Leste",
          "Northern Mariana Islands (the)",
          "Estonia",
          "Slovenia",
          "Palestine, State of",
          "Montenegro",
          "Serbia",
          "South Sudan",
          "Palau",
          "United Arab Emirates (the)",
          "Qatar",
          "Saint Barthélemy",
          "Saint Martin (French Part)",
          "Sint Maarten (Dutch part)",
          "Isle of Man"
         ],
         "type": "choropleth",
         "z": [
          1,
          105,
          24,
          7,
          1,
          23,
          9,
          6,
          4,
          18,
          104,
          0,
          0,
          0,
          6,
          25,
          0,
          0,
          11,
          15,
          1,
          6,
          12,
          26,
          0,
          0,
          0,
          37,
          19,
          10,
          0,
          11,
          1,
          15,
          9,
          66,
          0,
          4,
          0,
          42,
          18,
          28,
          0,
          0,
          13,
          4,
          14,
          25,
          1,
          9,
          5,
          15,
          0,
          8,
          6,
          3,
          7,
          6,
          3,
          0,
          1,
          59,
          2,
          7,
          9,
          52,
          11,
          13,
          10,
          9,
          9,
          2,
          0,
          0,
          37,
          31,
          0,
          0,
          7,
          3,
          25,
          0,
          8,
          11,
          6,
          16,
          0,
          0,
          18,
          21,
          14,
          0,
          5,
          13,
          1,
          16,
          2,
          19,
          2,
          0,
          0,
          1,
          0,
          0,
          9,
          21,
          0,
          15,
          32,
          5,
          0,
          2,
          29,
          19,
          9,
          11,
          23,
          5,
          2,
          6,
          16,
          6,
          1,
          13,
          7,
          0,
          4,
          2,
          1,
          6,
          0,
          7,
          12,
          5,
          0,
          0,
          27,
          2,
          14,
          41,
          0,
          1,
          0,
          0,
          13,
          0,
          0,
          6,
          12,
          4,
          7,
          23,
          12,
          0,
          4,
          0,
          1,
          0,
          4,
          10,
          2,
          1,
          0,
          9,
          1,
          11,
          0,
          13,
          2,
          0,
          0,
          5,
          18,
          7,
          0,
          1,
          2,
          1,
          2,
          30,
          2,
          6,
          6,
          0,
          0,
          14,
          16,
          6,
          7,
          0,
          2,
          3,
          1,
          0,
          4,
          4,
          0,
          9,
          0,
          6,
          0,
          2,
          0,
          8,
          0,
          8,
          0,
          1,
          0,
          0,
          5,
          0,
          0,
          1,
          2,
          4,
          5,
          5,
          0,
          0,
          0,
          0,
          0,
          0,
          0
         ]
        }
       ],
       "layout": {
        "geo": {
         "showcoastlines": false,
         "showframe": false
        },
        "template": {
         "data": {
          "bar": [
           {
            "error_x": {
             "color": "#2a3f5f"
            },
            "error_y": {
             "color": "#2a3f5f"
            },
            "marker": {
             "line": {
              "color": "#E5ECF6",
              "width": 0.5
             }
            },
            "type": "bar"
           }
          ],
          "barpolar": [
           {
            "marker": {
             "line": {
              "color": "#E5ECF6",
              "width": 0.5
             }
            },
            "type": "barpolar"
           }
          ],
          "carpet": [
           {
            "aaxis": {
             "endlinecolor": "#2a3f5f",
             "gridcolor": "white",
             "linecolor": "white",
             "minorgridcolor": "white",
             "startlinecolor": "#2a3f5f"
            },
            "baxis": {
             "endlinecolor": "#2a3f5f",
             "gridcolor": "white",
             "linecolor": "white",
             "minorgridcolor": "white",
             "startlinecolor": "#2a3f5f"
            },
            "type": "carpet"
           }
          ],
          "choropleth": [
           {
            "colorbar": {
             "outlinewidth": 0,
             "ticks": ""
            },
            "type": "choropleth"
           }
          ],
          "contour": [
           {
            "colorbar": {
             "outlinewidth": 0,
             "ticks": ""
            },
            "colorscale": [
             [
              0,
              "#0d0887"
             ],
             [
              0.1111111111111111,
              "#46039f"
             ],
             [
              0.2222222222222222,
              "#7201a8"
             ],
             [
              0.3333333333333333,
              "#9c179e"
             ],
             [
              0.4444444444444444,
              "#bd3786"
             ],
             [
              0.5555555555555556,
              "#d8576b"
             ],
             [
              0.6666666666666666,
              "#ed7953"
             ],
             [
              0.7777777777777778,
              "#fb9f3a"
             ],
             [
              0.8888888888888888,
              "#fdca26"
             ],
             [
              1,
              "#f0f921"
             ]
            ],
            "type": "contour"
           }
          ],
          "contourcarpet": [
           {
            "colorbar": {
             "outlinewidth": 0,
             "ticks": ""
            },
            "type": "contourcarpet"
           }
          ],
          "heatmap": [
           {
            "colorbar": {
             "outlinewidth": 0,
             "ticks": ""
            },
            "colorscale": [
             [
              0,
              "#0d0887"
             ],
             [
              0.1111111111111111,
              "#46039f"
             ],
             [
              0.2222222222222222,
              "#7201a8"
             ],
             [
              0.3333333333333333,
              "#9c179e"
             ],
             [
              0.4444444444444444,
              "#bd3786"
             ],
             [
              0.5555555555555556,
              "#d8576b"
             ],
             [
              0.6666666666666666,
              "#ed7953"
             ],
             [
              0.7777777777777778,
              "#fb9f3a"
             ],
             [
              0.8888888888888888,
              "#fdca26"
             ],
             [
              1,
              "#f0f921"
             ]
            ],
            "type": "heatmap"
           }
          ],
          "heatmapgl": [
           {
            "colorbar": {
             "outlinewidth": 0,
             "ticks": ""
            },
            "colorscale": [
             [
              0,
              "#0d0887"
             ],
             [
              0.1111111111111111,
              "#46039f"
             ],
             [
              0.2222222222222222,
              "#7201a8"
             ],
             [
              0.3333333333333333,
              "#9c179e"
             ],
             [
              0.4444444444444444,
              "#bd3786"
             ],
             [
              0.5555555555555556,
              "#d8576b"
             ],
             [
              0.6666666666666666,
              "#ed7953"
             ],
             [
              0.7777777777777778,
              "#fb9f3a"
             ],
             [
              0.8888888888888888,
              "#fdca26"
             ],
             [
              1,
              "#f0f921"
             ]
            ],
            "type": "heatmapgl"
           }
          ],
          "histogram": [
           {
            "marker": {
             "colorbar": {
              "outlinewidth": 0,
              "ticks": ""
             }
            },
            "type": "histogram"
           }
          ],
          "histogram2d": [
           {
            "colorbar": {
             "outlinewidth": 0,
             "ticks": ""
            },
            "colorscale": [
             [
              0,
              "#0d0887"
             ],
             [
              0.1111111111111111,
              "#46039f"
             ],
             [
              0.2222222222222222,
              "#7201a8"
             ],
             [
              0.3333333333333333,
              "#9c179e"
             ],
             [
              0.4444444444444444,
              "#bd3786"
             ],
             [
              0.5555555555555556,
              "#d8576b"
             ],
             [
              0.6666666666666666,
              "#ed7953"
             ],
             [
              0.7777777777777778,
              "#fb9f3a"
             ],
             [
              0.8888888888888888,
              "#fdca26"
             ],
             [
              1,
              "#f0f921"
             ]
            ],
            "type": "histogram2d"
           }
          ],
          "histogram2dcontour": [
           {
            "colorbar": {
             "outlinewidth": 0,
             "ticks": ""
            },
            "colorscale": [
             [
              0,
              "#0d0887"
             ],
             [
              0.1111111111111111,
              "#46039f"
             ],
             [
              0.2222222222222222,
              "#7201a8"
             ],
             [
              0.3333333333333333,
              "#9c179e"
             ],
             [
              0.4444444444444444,
              "#bd3786"
             ],
             [
              0.5555555555555556,
              "#d8576b"
             ],
             [
              0.6666666666666666,
              "#ed7953"
             ],
             [
              0.7777777777777778,
              "#fb9f3a"
             ],
             [
              0.8888888888888888,
              "#fdca26"
             ],
             [
              1,
              "#f0f921"
             ]
            ],
            "type": "histogram2dcontour"
           }
          ],
          "mesh3d": [
           {
            "colorbar": {
             "outlinewidth": 0,
             "ticks": ""
            },
            "type": "mesh3d"
           }
          ],
          "parcoords": [
           {
            "line": {
             "colorbar": {
              "outlinewidth": 0,
              "ticks": ""
             }
            },
            "type": "parcoords"
           }
          ],
          "pie": [
           {
            "automargin": true,
            "type": "pie"
           }
          ],
          "scatter": [
           {
            "marker": {
             "colorbar": {
              "outlinewidth": 0,
              "ticks": ""
             }
            },
            "type": "scatter"
           }
          ],
          "scatter3d": [
           {
            "line": {
             "colorbar": {
              "outlinewidth": 0,
              "ticks": ""
             }
            },
            "marker": {
             "colorbar": {
              "outlinewidth": 0,
              "ticks": ""
             }
            },
            "type": "scatter3d"
           }
          ],
          "scattercarpet": [
           {
            "marker": {
             "colorbar": {
              "outlinewidth": 0,
              "ticks": ""
             }
            },
            "type": "scattercarpet"
           }
          ],
          "scattergeo": [
           {
            "marker": {
             "colorbar": {
              "outlinewidth": 0,
              "ticks": ""
             }
            },
            "type": "scattergeo"
           }
          ],
          "scattergl": [
           {
            "marker": {
             "colorbar": {
              "outlinewidth": 0,
              "ticks": ""
             }
            },
            "type": "scattergl"
           }
          ],
          "scattermapbox": [
           {
            "marker": {
             "colorbar": {
              "outlinewidth": 0,
              "ticks": ""
             }
            },
            "type": "scattermapbox"
           }
          ],
          "scatterpolar": [
           {
            "marker": {
             "colorbar": {
              "outlinewidth": 0,
              "ticks": ""
             }
            },
            "type": "scatterpolar"
           }
          ],
          "scatterpolargl": [
           {
            "marker": {
             "colorbar": {
              "outlinewidth": 0,
              "ticks": ""
             }
            },
            "type": "scatterpolargl"
           }
          ],
          "scatterternary": [
           {
            "marker": {
             "colorbar": {
              "outlinewidth": 0,
              "ticks": ""
             }
            },
            "type": "scatterternary"
           }
          ],
          "surface": [
           {
            "colorbar": {
             "outlinewidth": 0,
             "ticks": ""
            },
            "colorscale": [
             [
              0,
              "#0d0887"
             ],
             [
              0.1111111111111111,
              "#46039f"
             ],
             [
              0.2222222222222222,
              "#7201a8"
             ],
             [
              0.3333333333333333,
              "#9c179e"
             ],
             [
              0.4444444444444444,
              "#bd3786"
             ],
             [
              0.5555555555555556,
              "#d8576b"
             ],
             [
              0.6666666666666666,
              "#ed7953"
             ],
             [
              0.7777777777777778,
              "#fb9f3a"
             ],
             [
              0.8888888888888888,
              "#fdca26"
             ],
             [
              1,
              "#f0f921"
             ]
            ],
            "type": "surface"
           }
          ],
          "table": [
           {
            "cells": {
             "fill": {
              "color": "#EBF0F8"
             },
             "line": {
              "color": "white"
             }
            },
            "header": {
             "fill": {
              "color": "#C8D4E3"
             },
             "line": {
              "color": "white"
             }
            },
            "type": "table"
           }
          ]
         },
         "layout": {
          "annotationdefaults": {
           "arrowcolor": "#2a3f5f",
           "arrowhead": 0,
           "arrowwidth": 1
          },
          "autotypenumbers": "strict",
          "coloraxis": {
           "colorbar": {
            "outlinewidth": 0,
            "ticks": ""
           }
          },
          "colorscale": {
           "diverging": [
            [
             0,
             "#8e0152"
            ],
            [
             0.1,
             "#c51b7d"
            ],
            [
             0.2,
             "#de77ae"
            ],
            [
             0.3,
             "#f1b6da"
            ],
            [
             0.4,
             "#fde0ef"
            ],
            [
             0.5,
             "#f7f7f7"
            ],
            [
             0.6,
             "#e6f5d0"
            ],
            [
             0.7,
             "#b8e186"
            ],
            [
             0.8,
             "#7fbc41"
            ],
            [
             0.9,
             "#4d9221"
            ],
            [
             1,
             "#276419"
            ]
           ],
           "sequential": [
            [
             0,
             "#0d0887"
            ],
            [
             0.1111111111111111,
             "#46039f"
            ],
            [
             0.2222222222222222,
             "#7201a8"
            ],
            [
             0.3333333333333333,
             "#9c179e"
            ],
            [
             0.4444444444444444,
             "#bd3786"
            ],
            [
             0.5555555555555556,
             "#d8576b"
            ],
            [
             0.6666666666666666,
             "#ed7953"
            ],
            [
             0.7777777777777778,
             "#fb9f3a"
            ],
            [
             0.8888888888888888,
             "#fdca26"
            ],
            [
             1,
             "#f0f921"
            ]
           ],
           "sequentialminus": [
            [
             0,
             "#0d0887"
            ],
            [
             0.1111111111111111,
             "#46039f"
            ],
            [
             0.2222222222222222,
             "#7201a8"
            ],
            [
             0.3333333333333333,
             "#9c179e"
            ],
            [
             0.4444444444444444,
             "#bd3786"
            ],
            [
             0.5555555555555556,
             "#d8576b"
            ],
            [
             0.6666666666666666,
             "#ed7953"
            ],
            [
             0.7777777777777778,
             "#fb9f3a"
            ],
            [
             0.8888888888888888,
             "#fdca26"
            ],
            [
             1,
             "#f0f921"
            ]
           ]
          },
          "colorway": [
           "#636efa",
           "#EF553B",
           "#00cc96",
           "#ab63fa",
           "#FFA15A",
           "#19d3f3",
           "#FF6692",
           "#B6E880",
           "#FF97FF",
           "#FECB52"
          ],
          "font": {
           "color": "#2a3f5f"
          },
          "geo": {
           "bgcolor": "white",
           "lakecolor": "white",
           "landcolor": "#E5ECF6",
           "showlakes": true,
           "showland": true,
           "subunitcolor": "white"
          },
          "hoverlabel": {
           "align": "left"
          },
          "hovermode": "closest",
          "mapbox": {
           "style": "light"
          },
          "paper_bgcolor": "white",
          "plot_bgcolor": "#E5ECF6",
          "polar": {
           "angularaxis": {
            "gridcolor": "white",
            "linecolor": "white",
            "ticks": ""
           },
           "bgcolor": "#E5ECF6",
           "radialaxis": {
            "gridcolor": "white",
            "linecolor": "white",
            "ticks": ""
           }
          },
          "scene": {
           "xaxis": {
            "backgroundcolor": "#E5ECF6",
            "gridcolor": "white",
            "gridwidth": 2,
            "linecolor": "white",
            "showbackground": true,
            "ticks": "",
            "zerolinecolor": "white"
           },
           "yaxis": {
            "backgroundcolor": "#E5ECF6",
            "gridcolor": "white",
            "gridwidth": 2,
            "linecolor": "white",
            "showbackground": true,
            "ticks": "",
            "zerolinecolor": "white"
           },
           "zaxis": {
            "backgroundcolor": "#E5ECF6",
            "gridcolor": "white",
            "gridwidth": 2,
            "linecolor": "white",
            "showbackground": true,
            "ticks": "",
            "zerolinecolor": "white"
           }
          },
          "shapedefaults": {
           "line": {
            "color": "#2a3f5f"
           }
          },
          "ternary": {
           "aaxis": {
            "gridcolor": "white",
            "linecolor": "white",
            "ticks": ""
           },
           "baxis": {
            "gridcolor": "white",
            "linecolor": "white",
            "ticks": ""
           },
           "bgcolor": "#E5ECF6",
           "caxis": {
            "gridcolor": "white",
            "linecolor": "white",
            "ticks": ""
           }
          },
          "title": {
           "x": 0.05
          },
          "xaxis": {
           "automargin": true,
           "gridcolor": "white",
           "linecolor": "white",
           "ticks": "",
           "title": {
            "standoff": 15
           },
           "zerolinecolor": "white",
           "zerolinewidth": 2
          },
          "yaxis": {
           "automargin": true,
           "gridcolor": "white",
           "linecolor": "white",
           "ticks": "",
           "title": {
            "standoff": 15
           },
           "zerolinecolor": "white",
           "zerolinewidth": 2
          }
         }
        },
        "title": {
         "text": "Flood frequency (2000-2010)"
        }
       }
      },
      "text/html": [
       "<div>                            <div id=\"f4e9b013-06ed-406c-a31c-511e3a9ed538\" class=\"plotly-graph-div\" style=\"height:525px; width:100%;\"></div>            <script type=\"text/javascript\">                require([\"plotly\"], function(Plotly) {                    window.PLOTLYENV=window.PLOTLYENV || {};                                    if (document.getElementById(\"f4e9b013-06ed-406c-a31c-511e3a9ed538\")) {                    Plotly.newPlot(                        \"f4e9b013-06ed-406c-a31c-511e3a9ed538\",                        [{\"colorbar\": {\"title\": {\"text\": \"Flood frequency<br>(2000-2010)<br>\"}}, \"colorscale\": [[0.0, \"rgb(247,251,255)\"], [0.125, \"rgb(222,235,247)\"], [0.25, \"rgb(198,219,239)\"], [0.375, \"rgb(158,202,225)\"], [0.5, \"rgb(107,174,214)\"], [0.625, \"rgb(66,146,198)\"], [0.75, \"rgb(33,113,181)\"], [0.875, \"rgb(8,81,156)\"], [1.0, \"rgb(8,48,107)\"]], \"locations\": [\"CPV\", \"IND\", \"BGD\", \"BEL\", \"HKG\", \"HTI\", \"BFA\", \"GMB\", \"GNB\", \"CAN\", \"CHN\", \"AIA\", \"DFR\", \"BHS\", \"CUB\", \"DZA\", \"GLP\", \"DMA\", \"DOM\", \"GRC\", \"BLZ\", \"FJI\", \"HND\", \"AUS\", \"COK\", \"AZO\", \"BMU\", \"BRA\", \"FRA\", \"GTM\", \"ATG\", \"ECU\", \"COM\", \"GBR\", \"ESP\", \"IDN\", \"ANT\", \"EGY\", \"BRB\", \"AFG\", \"ARG\", \"COL\", \"GUM\", \"GRD\", \"BOL\", \"BWA\", \"CHL\", \"ETH\", \"ASM\", \"GHA\", \"BEN\", \"CRI\", \"CYP\", \"HUN\", \"CMR\", \"GUY\", \"CAF\", \"AUT\", \"CHE\", \"DNK\", \"DJI\", \"USA\", \"JAM\", \"MMR\", \"NER\", \"PHL\", \"JPN\", \"MLI\", \"MRT\", \"SEN\", \"TCD\", \"TWN\", \"TKL\", \"SUN\", \"PAK\", \"ROU\", \"KNA\", \"MSR\", \"POL\", \"PRI\", \"MEX\", \"TTO\", \"SLV\", \"KOR\", \"NZL\", \"ITA\", \"NCL\", \"REU\", \"TUR\", \"IRN\", \"MAR\", \"NLD\", \"IRQ\", \"NPL\", \"LBN\", \"MOZ\", \"SLB\", \"LKA\", \"SPI\", \"PYF\", \"NIU\", \"LCA\", \"MTQ\", \"MUS\", \"NIC\", \"SOM\", \"TON\", \"PER\", \"THA\", \"TUN\", \"JOR\", \"PRY\", \"KEN\", \"PAN\", \"SAU\", \"TZA\", \"MYS\", \"LAO\", \"MNG\", \"TGO\", \"MWI\", \"PRT\", \"SYR\", \"UGA\", \"URY\", \"LSO\", \"MDG\", \"SUR\", \"KIR\", \"PNG\", \"TUV\", \"RWA\", \"SDN\", \"SLE\", \"SWE\", \"OMN\", \"NGA\", \"VUT\", \"ZAF\", \"VNM\", \"VCT\", \"WSM\", \"YUG\", \"WLF\", \"VEN\", \"YMN\", \"YMD\", \"ZWE\", \"ZMB\", \"CIV\", \"GIN\", \"AGO\", \"BGR\", \"CSK\", \"COG\", \"DDR\", \"FSM\", \"GAB\", \"LBR\", \"NAM\", \"IRL\", \"ISR\", \"LUX\", \"KHM\", \"MDV\", \"PRK\", \"ISL\", \"COD\", \"SWZ\", \"STP\", \"TCA\", \"ALB\", \"BDI\", \"DEU\", \"BLR\", \"FIN\", \"NOR\", \"MHL\", \"LTU\", \"RUS\", \"ERI\", \"MKD\", \"KAZ\", \"MAC\", \"VIR\", \"TJK\", \"YEM\", \"SCG\", \"UKR\", \"TKM\", \"BTN\", \"AZE\", \"ARM\", \"BRN\", \"MDA\", \"GEO\", \"LBY\", \"CZE\", \"GUF\", \"HRV\", \"KWT\", \"KGZ\", \"VGB\", \"SVK\", \"SYC\", \"BIH\", \"LVA\", \"UZB\", \"CYM\", \"SHN\", \"TLS\", \"MNP\", \"EST\", \"SVN\", \"PSE\", \"MNE\", \"SRB\", \"SSD\", \"PLW\", \"ARE\", \"QAT\", \"BLM\", \"MAF\", \"SXM\", \"IMN\"], \"marker\": {\"line\": {\"color\": \"darkgray\", \"width\": 0.5}}, \"text\": [\"Cabo Verde\", \"India\", \"Bangladesh\", \"Belgium\", \"Hong Kong\", \"Haiti\", \"Burkina Faso\", \"Gambia (the)\", \"Guinea-Bissau\", \"Canada\", \"China\", \"Anguilla\", \"Germany Fed Rep\", \"Bahamas (the)\", \"Cuba\", \"Algeria\", \"Guadeloupe\", \"Dominica\", \"Dominican Republic (the)\", \"Greece\", \"Belize\", \"Fiji\", \"Honduras\", \"Australia\", \"Cook Islands (the)\", \"Azores Islands\", \"Bermuda\", \"Brazil\", \"France\", \"Guatemala\", \"Antigua and Barbuda\", \"Ecuador\", \"Comoros (the)\", \"United Kingdom of Great Britain and Northern Ireland (the)\", \"Spain\", \"Indonesia\", \"Netherlands Antilles\", \"Egypt\", \"Barbados\", \"Afghanistan\", \"Argentina\", \"Colombia\", \"Guam\", \"Grenada\", \"Bolivia (Plurinational State of)\", \"Botswana\", \"Chile\", \"Ethiopia\", \"American Samoa\", \"Ghana\", \"Benin\", \"Costa Rica\", \"Cyprus\", \"Hungary\", \"Cameroon\", \"Guyana\", \"Central African Republic\", \"Austria\", \"Switzerland\", \"Denmark\", \"Djibouti\", \"United States of America (the)\", \"Jamaica\", \"Myanmar\", \"Niger (the)\", \"Philippines (the)\", \"Japan\", \"Mali\", \"Mauritania\", \"Senegal\", \"Chad\", \"Taiwan (Province of China)\", \"Tokelau\", \"Soviet Union\", \"Pakistan\", \"Romania\", \"Saint Kitts and Nevis\", \"Montserrat\", \"Poland\", \"Puerto Rico\", \"Mexico\", \"Trinidad and Tobago\", \"El Salvador\", \"Korea (the Republic of)\", \"New Zealand\", \"Italy\", \"New Caledonia\", \"R\\u00e9union\", \"Turkey\", \"Iran (Islamic Republic of)\", \"Morocco\", \"Netherlands (the)\", \"Iraq\", \"Nepal\", \"Lebanon\", \"Mozambique\", \"Solomon Islands\", \"Sri Lanka\", \"Canary Is\", \"French Polynesia\", \"Niue\", \"Saint Lucia\", \"Martinique\", \"Mauritius\", \"Nicaragua\", \"Somalia\", \"Tonga\", \"Peru\", \"Thailand\", \"Tunisia\", \"Jordan\", \"Paraguay\", \"Kenya\", \"Panama\", \"Saudi Arabia\", \"Tanzania, United Republic of\", \"Malaysia\", \"Lao People's Democratic Republic (the)\", \"Mongolia\", \"Togo\", \"Malawi\", \"Portugal\", \"Syrian Arab Republic\", \"Uganda\", \"Uruguay\", \"Lesotho\", \"Madagascar\", \"Suriname\", \"Kiribati\", \"Papua New Guinea\", \"Tuvalu\", \"Rwanda\", \"Sudan (the)\", \"Sierra Leone\", \"Sweden\", \"Oman\", \"Nigeria\", \"Vanuatu\", \"South Africa\", \"Viet Nam\", \"Saint Vincent and the Grenadines\", \"Samoa\", \"Yugoslavia\", \"Wallis and Futuna\", \"Venezuela (Bolivarian Republic of)\", \"Yemen Arab Rep\", \"Yemen P Dem Rep\", \"Zimbabwe\", \"Zambia\", \"C\\u00f4te d\\u2019Ivoire\", \"Guinea\", \"Angola\", \"Bulgaria\", \"Czechoslovakia\", \"Congo (the)\", \"Germany Dem Rep\", \"Micronesia (Federated States of)\", \"Gabon\", \"Liberia\", \"Namibia\", \"Ireland\", \"Israel\", \"Luxembourg\", \"Cambodia\", \"Maldives\", \"Korea (the Democratic People's Republic of)\", \"Iceland\", \"Congo (the Democratic Republic of the)\", \"Eswatini\", \"Sao Tome and Principe\", \"Turks and Caicos Islands (the)\", \"Albania\", \"Burundi\", \"Germany\", \"Belarus\", \"Finland\", \"Norway\", \"Marshall Islands (the)\", \"Lithuania\", \"Russian Federation (the)\", \"Eritrea\", \"Macedonia (the former Yugoslav Republic of)\", \"Kazakhstan\", \"Macao\", \"Virgin Island (U.S.)\", \"Tajikistan\", \"Yemen\", \"Serbia Montenegro\", \"Ukraine\", \"Turkmenistan\", \"Bhutan\", \"Azerbaijan\", \"Armenia\", \"Brunei Darussalam\", \"Moldova (the Republic of)\", \"Georgia\", \"Libya\", \"Czech Republic (the)\", \"French Guiana\", \"Croatia\", \"Kuwait\", \"Kyrgyzstan\", \"Virgin Island (British)\", \"Slovakia\", \"Seychelles\", \"Bosnia and Herzegovina\", \"Latvia\", \"Uzbekistan\", \"Cayman Islands (the)\", \"Saint Helena, Ascension and Tristan da Cunha\", \"Timor-Leste\", \"Northern Mariana Islands (the)\", \"Estonia\", \"Slovenia\", \"Palestine, State of\", \"Montenegro\", \"Serbia\", \"South Sudan\", \"Palau\", \"United Arab Emirates (the)\", \"Qatar\", \"Saint Barth\\u00e9lemy\", \"Saint Martin (French Part)\", \"Sint Maarten (Dutch part)\", \"Isle of Man\"], \"type\": \"choropleth\", \"z\": [1, 105, 24, 7, 1, 23, 9, 6, 4, 18, 104, 0, 0, 0, 6, 25, 0, 0, 11, 15, 1, 6, 12, 26, 0, 0, 0, 37, 19, 10, 0, 11, 1, 15, 9, 66, 0, 4, 0, 42, 18, 28, 0, 0, 13, 4, 14, 25, 1, 9, 5, 15, 0, 8, 6, 3, 7, 6, 3, 0, 1, 59, 2, 7, 9, 52, 11, 13, 10, 9, 9, 2, 0, 0, 37, 31, 0, 0, 7, 3, 25, 0, 8, 11, 6, 16, 0, 0, 18, 21, 14, 0, 5, 13, 1, 16, 2, 19, 2, 0, 0, 1, 0, 0, 9, 21, 0, 15, 32, 5, 0, 2, 29, 19, 9, 11, 23, 5, 2, 6, 16, 6, 1, 13, 7, 0, 4, 2, 1, 6, 0, 7, 12, 5, 0, 0, 27, 2, 14, 41, 0, 1, 0, 0, 13, 0, 0, 6, 12, 4, 7, 23, 12, 0, 4, 0, 1, 0, 4, 10, 2, 1, 0, 9, 1, 11, 0, 13, 2, 0, 0, 5, 18, 7, 0, 1, 2, 1, 2, 30, 2, 6, 6, 0, 0, 14, 16, 6, 7, 0, 2, 3, 1, 0, 4, 4, 0, 9, 0, 6, 0, 2, 0, 8, 0, 8, 0, 1, 0, 0, 5, 0, 0, 1, 2, 4, 5, 5, 0, 0, 0, 0, 0, 0, 0]}],                        {\"geo\": {\"showcoastlines\": false, \"showframe\": false}, \"template\": {\"data\": {\"bar\": [{\"error_x\": {\"color\": \"#2a3f5f\"}, \"error_y\": {\"color\": \"#2a3f5f\"}, \"marker\": {\"line\": {\"color\": \"#E5ECF6\", \"width\": 0.5}}, \"type\": \"bar\"}], \"barpolar\": [{\"marker\": {\"line\": {\"color\": \"#E5ECF6\", \"width\": 0.5}}, \"type\": \"barpolar\"}], \"carpet\": [{\"aaxis\": {\"endlinecolor\": \"#2a3f5f\", \"gridcolor\": \"white\", \"linecolor\": \"white\", \"minorgridcolor\": \"white\", \"startlinecolor\": \"#2a3f5f\"}, \"baxis\": {\"endlinecolor\": \"#2a3f5f\", \"gridcolor\": \"white\", \"linecolor\": \"white\", \"minorgridcolor\": \"white\", \"startlinecolor\": \"#2a3f5f\"}, \"type\": \"carpet\"}], \"choropleth\": [{\"colorbar\": {\"outlinewidth\": 0, \"ticks\": \"\"}, \"type\": \"choropleth\"}], \"contour\": [{\"colorbar\": {\"outlinewidth\": 0, \"ticks\": \"\"}, \"colorscale\": [[0.0, \"#0d0887\"], [0.1111111111111111, \"#46039f\"], [0.2222222222222222, \"#7201a8\"], [0.3333333333333333, \"#9c179e\"], [0.4444444444444444, \"#bd3786\"], [0.5555555555555556, \"#d8576b\"], [0.6666666666666666, \"#ed7953\"], [0.7777777777777778, \"#fb9f3a\"], [0.8888888888888888, \"#fdca26\"], [1.0, \"#f0f921\"]], \"type\": \"contour\"}], \"contourcarpet\": [{\"colorbar\": {\"outlinewidth\": 0, \"ticks\": \"\"}, \"type\": \"contourcarpet\"}], \"heatmap\": [{\"colorbar\": {\"outlinewidth\": 0, \"ticks\": \"\"}, \"colorscale\": [[0.0, \"#0d0887\"], [0.1111111111111111, \"#46039f\"], [0.2222222222222222, \"#7201a8\"], [0.3333333333333333, \"#9c179e\"], [0.4444444444444444, \"#bd3786\"], [0.5555555555555556, \"#d8576b\"], [0.6666666666666666, \"#ed7953\"], [0.7777777777777778, \"#fb9f3a\"], [0.8888888888888888, \"#fdca26\"], [1.0, \"#f0f921\"]], \"type\": \"heatmap\"}], \"heatmapgl\": [{\"colorbar\": {\"outlinewidth\": 0, \"ticks\": \"\"}, \"colorscale\": [[0.0, \"#0d0887\"], [0.1111111111111111, \"#46039f\"], [0.2222222222222222, \"#7201a8\"], [0.3333333333333333, \"#9c179e\"], [0.4444444444444444, \"#bd3786\"], [0.5555555555555556, \"#d8576b\"], [0.6666666666666666, \"#ed7953\"], [0.7777777777777778, \"#fb9f3a\"], [0.8888888888888888, \"#fdca26\"], [1.0, \"#f0f921\"]], \"type\": \"heatmapgl\"}], \"histogram\": [{\"marker\": {\"colorbar\": {\"outlinewidth\": 0, \"ticks\": \"\"}}, \"type\": \"histogram\"}], \"histogram2d\": [{\"colorbar\": {\"outlinewidth\": 0, \"ticks\": \"\"}, \"colorscale\": [[0.0, \"#0d0887\"], [0.1111111111111111, \"#46039f\"], [0.2222222222222222, \"#7201a8\"], [0.3333333333333333, \"#9c179e\"], [0.4444444444444444, \"#bd3786\"], [0.5555555555555556, \"#d8576b\"], [0.6666666666666666, \"#ed7953\"], [0.7777777777777778, \"#fb9f3a\"], [0.8888888888888888, \"#fdca26\"], [1.0, \"#f0f921\"]], \"type\": \"histogram2d\"}], \"histogram2dcontour\": [{\"colorbar\": {\"outlinewidth\": 0, \"ticks\": \"\"}, \"colorscale\": [[0.0, \"#0d0887\"], [0.1111111111111111, \"#46039f\"], [0.2222222222222222, \"#7201a8\"], [0.3333333333333333, \"#9c179e\"], [0.4444444444444444, \"#bd3786\"], [0.5555555555555556, \"#d8576b\"], [0.6666666666666666, \"#ed7953\"], [0.7777777777777778, \"#fb9f3a\"], [0.8888888888888888, \"#fdca26\"], [1.0, \"#f0f921\"]], \"type\": \"histogram2dcontour\"}], \"mesh3d\": [{\"colorbar\": {\"outlinewidth\": 0, \"ticks\": \"\"}, \"type\": \"mesh3d\"}], \"parcoords\": [{\"line\": {\"colorbar\": {\"outlinewidth\": 0, \"ticks\": \"\"}}, \"type\": \"parcoords\"}], \"pie\": [{\"automargin\": true, \"type\": \"pie\"}], \"scatter\": [{\"marker\": {\"colorbar\": {\"outlinewidth\": 0, \"ticks\": \"\"}}, \"type\": \"scatter\"}], \"scatter3d\": [{\"line\": {\"colorbar\": {\"outlinewidth\": 0, \"ticks\": \"\"}}, \"marker\": {\"colorbar\": {\"outlinewidth\": 0, \"ticks\": \"\"}}, \"type\": \"scatter3d\"}], \"scattercarpet\": [{\"marker\": {\"colorbar\": {\"outlinewidth\": 0, \"ticks\": \"\"}}, \"type\": \"scattercarpet\"}], \"scattergeo\": [{\"marker\": {\"colorbar\": {\"outlinewidth\": 0, \"ticks\": \"\"}}, \"type\": \"scattergeo\"}], \"scattergl\": [{\"marker\": {\"colorbar\": {\"outlinewidth\": 0, \"ticks\": \"\"}}, \"type\": \"scattergl\"}], \"scattermapbox\": [{\"marker\": {\"colorbar\": {\"outlinewidth\": 0, \"ticks\": \"\"}}, \"type\": \"scattermapbox\"}], \"scatterpolar\": [{\"marker\": {\"colorbar\": {\"outlinewidth\": 0, \"ticks\": \"\"}}, \"type\": \"scatterpolar\"}], \"scatterpolargl\": [{\"marker\": {\"colorbar\": {\"outlinewidth\": 0, \"ticks\": \"\"}}, \"type\": \"scatterpolargl\"}], \"scatterternary\": [{\"marker\": {\"colorbar\": {\"outlinewidth\": 0, \"ticks\": \"\"}}, \"type\": \"scatterternary\"}], \"surface\": [{\"colorbar\": {\"outlinewidth\": 0, \"ticks\": \"\"}, \"colorscale\": [[0.0, \"#0d0887\"], [0.1111111111111111, \"#46039f\"], [0.2222222222222222, \"#7201a8\"], [0.3333333333333333, \"#9c179e\"], [0.4444444444444444, \"#bd3786\"], [0.5555555555555556, \"#d8576b\"], [0.6666666666666666, \"#ed7953\"], [0.7777777777777778, \"#fb9f3a\"], [0.8888888888888888, \"#fdca26\"], [1.0, \"#f0f921\"]], \"type\": \"surface\"}], \"table\": [{\"cells\": {\"fill\": {\"color\": \"#EBF0F8\"}, \"line\": {\"color\": \"white\"}}, \"header\": {\"fill\": {\"color\": \"#C8D4E3\"}, \"line\": {\"color\": \"white\"}}, \"type\": \"table\"}]}, \"layout\": {\"annotationdefaults\": {\"arrowcolor\": \"#2a3f5f\", \"arrowhead\": 0, \"arrowwidth\": 1}, \"autotypenumbers\": \"strict\", \"coloraxis\": {\"colorbar\": {\"outlinewidth\": 0, \"ticks\": \"\"}}, \"colorscale\": {\"diverging\": [[0, \"#8e0152\"], [0.1, \"#c51b7d\"], [0.2, \"#de77ae\"], [0.3, \"#f1b6da\"], [0.4, \"#fde0ef\"], [0.5, \"#f7f7f7\"], [0.6, \"#e6f5d0\"], [0.7, \"#b8e186\"], [0.8, \"#7fbc41\"], [0.9, \"#4d9221\"], [1, \"#276419\"]], \"sequential\": [[0.0, \"#0d0887\"], [0.1111111111111111, \"#46039f\"], [0.2222222222222222, \"#7201a8\"], [0.3333333333333333, \"#9c179e\"], [0.4444444444444444, \"#bd3786\"], [0.5555555555555556, \"#d8576b\"], [0.6666666666666666, \"#ed7953\"], [0.7777777777777778, \"#fb9f3a\"], [0.8888888888888888, \"#fdca26\"], [1.0, \"#f0f921\"]], \"sequentialminus\": [[0.0, \"#0d0887\"], [0.1111111111111111, \"#46039f\"], [0.2222222222222222, \"#7201a8\"], [0.3333333333333333, \"#9c179e\"], [0.4444444444444444, \"#bd3786\"], [0.5555555555555556, \"#d8576b\"], [0.6666666666666666, \"#ed7953\"], [0.7777777777777778, \"#fb9f3a\"], [0.8888888888888888, \"#fdca26\"], [1.0, \"#f0f921\"]]}, \"colorway\": [\"#636efa\", \"#EF553B\", \"#00cc96\", \"#ab63fa\", \"#FFA15A\", \"#19d3f3\", \"#FF6692\", \"#B6E880\", \"#FF97FF\", \"#FECB52\"], \"font\": {\"color\": \"#2a3f5f\"}, \"geo\": {\"bgcolor\": \"white\", \"lakecolor\": \"white\", \"landcolor\": \"#E5ECF6\", \"showlakes\": true, \"showland\": true, \"subunitcolor\": \"white\"}, \"hoverlabel\": {\"align\": \"left\"}, \"hovermode\": \"closest\", \"mapbox\": {\"style\": \"light\"}, \"paper_bgcolor\": \"white\", \"plot_bgcolor\": \"#E5ECF6\", \"polar\": {\"angularaxis\": {\"gridcolor\": \"white\", \"linecolor\": \"white\", \"ticks\": \"\"}, \"bgcolor\": \"#E5ECF6\", \"radialaxis\": {\"gridcolor\": \"white\", \"linecolor\": \"white\", \"ticks\": \"\"}}, \"scene\": {\"xaxis\": {\"backgroundcolor\": \"#E5ECF6\", \"gridcolor\": \"white\", \"gridwidth\": 2, \"linecolor\": \"white\", \"showbackground\": true, \"ticks\": \"\", \"zerolinecolor\": \"white\"}, \"yaxis\": {\"backgroundcolor\": \"#E5ECF6\", \"gridcolor\": \"white\", \"gridwidth\": 2, \"linecolor\": \"white\", \"showbackground\": true, \"ticks\": \"\", \"zerolinecolor\": \"white\"}, \"zaxis\": {\"backgroundcolor\": \"#E5ECF6\", \"gridcolor\": \"white\", \"gridwidth\": 2, \"linecolor\": \"white\", \"showbackground\": true, \"ticks\": \"\", \"zerolinecolor\": \"white\"}}, \"shapedefaults\": {\"line\": {\"color\": \"#2a3f5f\"}}, \"ternary\": {\"aaxis\": {\"gridcolor\": \"white\", \"linecolor\": \"white\", \"ticks\": \"\"}, \"baxis\": {\"gridcolor\": \"white\", \"linecolor\": \"white\", \"ticks\": \"\"}, \"bgcolor\": \"#E5ECF6\", \"caxis\": {\"gridcolor\": \"white\", \"linecolor\": \"white\", \"ticks\": \"\"}}, \"title\": {\"x\": 0.05}, \"xaxis\": {\"automargin\": true, \"gridcolor\": \"white\", \"linecolor\": \"white\", \"ticks\": \"\", \"title\": {\"standoff\": 15}, \"zerolinecolor\": \"white\", \"zerolinewidth\": 2}, \"yaxis\": {\"automargin\": true, \"gridcolor\": \"white\", \"linecolor\": \"white\", \"ticks\": \"\", \"title\": {\"standoff\": 15}, \"zerolinecolor\": \"white\", \"zerolinewidth\": 2}}}, \"title\": {\"text\": \"Flood frequency (2000-2010)\"}},                        {\"responsive\": true}                    ).then(function(){\n",
       "                            \n",
       "var gd = document.getElementById('f4e9b013-06ed-406c-a31c-511e3a9ed538');\n",
       "var x = new MutationObserver(function (mutations, observer) {{\n",
       "        var display = window.getComputedStyle(gd).display;\n",
       "        if (!display || display === 'none') {{\n",
       "            console.log([gd, 'removed!']);\n",
       "            Plotly.purge(gd);\n",
       "            observer.disconnect();\n",
       "        }}\n",
       "}});\n",
       "\n",
       "// Listen for the removal of the full notebook cells\n",
       "var notebookContainer = gd.closest('#notebook-container');\n",
       "if (notebookContainer) {{\n",
       "    x.observe(notebookContainer, {childList: true});\n",
       "}}\n",
       "\n",
       "// Listen for the clearing of the current output cell\n",
       "var outputEl = gd.closest('.output');\n",
       "if (outputEl) {{\n",
       "    x.observe(outputEl, {childList: true});\n",
       "}}\n",
       "\n",
       "                        })                };                });            </script>        </div>"
      ]
     },
     "metadata": {},
     "output_type": "display_data"
    }
   ],
   "source": [
    "fig = go.Figure(data=go.Choropleth(\n",
    "    locations=freq_df_2[\"ISO\"],\n",
    "    z=freq_df_2[\"flood_freq\"],\n",
    "    text=freq_df_2[\"Country\"],\n",
    "    colorscale=\"blues\",\n",
    "    marker_line_color=\"darkgray\",\n",
    "    marker_line_width=0.5,\n",
    "    colorbar_title = \"Flood frequency<br>(2000-2010)<br>\",\n",
    "))\n",
    "\n",
    "fig.update_layout(\n",
    "    title_text=\"Flood frequency (2000-2010)\",\n",
    "    geo=dict(\n",
    "        showframe=False,\n",
    "        showcoastlines=False,\n",
    "    )\n",
    ")\n",
    "\n",
    "fig.show()"
   ]
  },
  {
   "cell_type": "markdown",
   "id": "dece018f",
   "metadata": {},
   "source": [
    "#### Visualization of wildfire frequency "
   ]
  },
  {
   "cell_type": "code",
   "execution_count": 273,
   "id": "0ae020cc",
   "metadata": {},
   "outputs": [
    {
     "data": {
      "application/vnd.plotly.v1+json": {
       "config": {
        "plotlyServerURL": "https://plot.ly"
       },
       "data": [
        {
         "colorbar": {
          "title": {
           "text": "Wildfire frequency<br>(2000-2010)<br>"
          }
         },
         "colorscale": [
          [
           0,
           "rgb(255,245,235)"
          ],
          [
           0.125,
           "rgb(254,230,206)"
          ],
          [
           0.25,
           "rgb(253,208,162)"
          ],
          [
           0.375,
           "rgb(253,174,107)"
          ],
          [
           0.5,
           "rgb(253,141,60)"
          ],
          [
           0.625,
           "rgb(241,105,19)"
          ],
          [
           0.75,
           "rgb(217,72,1)"
          ],
          [
           0.875,
           "rgb(166,54,3)"
          ],
          [
           1,
           "rgb(127,39,4)"
          ]
         ],
         "locations": [
          "CPV",
          "IND",
          "BGD",
          "BEL",
          "HKG",
          "HTI",
          "BFA",
          "GMB",
          "GNB",
          "CAN",
          "CHN",
          "AIA",
          "DFR",
          "BHS",
          "CUB",
          "DZA",
          "GLP",
          "DMA",
          "DOM",
          "GRC",
          "BLZ",
          "FJI",
          "HND",
          "AUS",
          "COK",
          "AZO",
          "BMU",
          "BRA",
          "FRA",
          "GTM",
          "ATG",
          "ECU",
          "COM",
          "GBR",
          "ESP",
          "IDN",
          "ANT",
          "EGY",
          "BRB",
          "AFG",
          "ARG",
          "COL",
          "GUM",
          "GRD",
          "BOL",
          "BWA",
          "CHL",
          "ETH",
          "ASM",
          "GHA",
          "BEN",
          "CRI",
          "CYP",
          "HUN",
          "CMR",
          "GUY",
          "CAF",
          "AUT",
          "CHE",
          "DNK",
          "DJI",
          "USA",
          "JAM",
          "MMR",
          "NER",
          "PHL",
          "JPN",
          "MLI",
          "MRT",
          "SEN",
          "TCD",
          "TWN",
          "TKL",
          "SUN",
          "PAK",
          "ROU",
          "KNA",
          "MSR",
          "POL",
          "PRI",
          "MEX",
          "TTO",
          "SLV",
          "KOR",
          "NZL",
          "ITA",
          "NCL",
          "REU",
          "TUR",
          "IRN",
          "MAR",
          "NLD",
          "IRQ",
          "NPL",
          "LBN",
          "MOZ",
          "SLB",
          "LKA",
          "SPI",
          "PYF",
          "NIU",
          "LCA",
          "MTQ",
          "MUS",
          "NIC",
          "SOM",
          "TON",
          "PER",
          "THA",
          "TUN",
          "JOR",
          "PRY",
          "KEN",
          "PAN",
          "SAU",
          "TZA",
          "MYS",
          "LAO",
          "MNG",
          "TGO",
          "MWI",
          "PRT",
          "SYR",
          "UGA",
          "URY",
          "LSO",
          "MDG",
          "SUR",
          "KIR",
          "PNG",
          "TUV",
          "RWA",
          "SDN",
          "SLE",
          "SWE",
          "OMN",
          "NGA",
          "VUT",
          "ZAF",
          "VNM",
          "VCT",
          "WSM",
          "YUG",
          "WLF",
          "VEN",
          "YMN",
          "YMD",
          "ZWE",
          "ZMB",
          "CIV",
          "GIN",
          "AGO",
          "BGR",
          "CSK",
          "COG",
          "DDR",
          "FSM",
          "GAB",
          "LBR",
          "NAM",
          "IRL",
          "ISR",
          "LUX",
          "KHM",
          "MDV",
          "PRK",
          "ISL",
          "COD",
          "SWZ",
          "STP",
          "TCA",
          "ALB",
          "BDI",
          "DEU",
          "BLR",
          "FIN",
          "NOR",
          "MHL",
          "LTU",
          "RUS",
          "ERI",
          "MKD",
          "KAZ",
          "MAC",
          "VIR",
          "TJK",
          "YEM",
          "SCG",
          "UKR",
          "TKM",
          "BTN",
          "AZE",
          "ARM",
          "BRN",
          "MDA",
          "GEO",
          "LBY",
          "CZE",
          "GUF",
          "HRV",
          "KWT",
          "KGZ",
          "VGB",
          "SVK",
          "SYC",
          "BIH",
          "LVA",
          "UZB",
          "CYM",
          "SHN",
          "TLS",
          "MNP",
          "EST",
          "SVN",
          "PSE",
          "MNE",
          "SRB",
          "SSD",
          "PLW",
          "ARE",
          "QAT",
          "BLM",
          "MAF",
          "SXM",
          "IMN"
         ],
         "marker": {
          "line": {
           "color": "darkgray",
           "width": 0.5
          }
         },
         "text": [
          "Cabo Verde",
          "India",
          "Bangladesh",
          "Belgium",
          "Hong Kong",
          "Haiti",
          "Burkina Faso",
          "Gambia (the)",
          "Guinea-Bissau",
          "Canada",
          "China",
          "Anguilla",
          "Germany Fed Rep",
          "Bahamas (the)",
          "Cuba",
          "Algeria",
          "Guadeloupe",
          "Dominica",
          "Dominican Republic (the)",
          "Greece",
          "Belize",
          "Fiji",
          "Honduras",
          "Australia",
          "Cook Islands (the)",
          "Azores Islands",
          "Bermuda",
          "Brazil",
          "France",
          "Guatemala",
          "Antigua and Barbuda",
          "Ecuador",
          "Comoros (the)",
          "United Kingdom of Great Britain and Northern Ireland (the)",
          "Spain",
          "Indonesia",
          "Netherlands Antilles",
          "Egypt",
          "Barbados",
          "Afghanistan",
          "Argentina",
          "Colombia",
          "Guam",
          "Grenada",
          "Bolivia (Plurinational State of)",
          "Botswana",
          "Chile",
          "Ethiopia",
          "American Samoa",
          "Ghana",
          "Benin",
          "Costa Rica",
          "Cyprus",
          "Hungary",
          "Cameroon",
          "Guyana",
          "Central African Republic",
          "Austria",
          "Switzerland",
          "Denmark",
          "Djibouti",
          "United States of America (the)",
          "Jamaica",
          "Myanmar",
          "Niger (the)",
          "Philippines (the)",
          "Japan",
          "Mali",
          "Mauritania",
          "Senegal",
          "Chad",
          "Taiwan (Province of China)",
          "Tokelau",
          "Soviet Union",
          "Pakistan",
          "Romania",
          "Saint Kitts and Nevis",
          "Montserrat",
          "Poland",
          "Puerto Rico",
          "Mexico",
          "Trinidad and Tobago",
          "El Salvador",
          "Korea (the Republic of)",
          "New Zealand",
          "Italy",
          "New Caledonia",
          "Réunion",
          "Turkey",
          "Iran (Islamic Republic of)",
          "Morocco",
          "Netherlands (the)",
          "Iraq",
          "Nepal",
          "Lebanon",
          "Mozambique",
          "Solomon Islands",
          "Sri Lanka",
          "Canary Is",
          "French Polynesia",
          "Niue",
          "Saint Lucia",
          "Martinique",
          "Mauritius",
          "Nicaragua",
          "Somalia",
          "Tonga",
          "Peru",
          "Thailand",
          "Tunisia",
          "Jordan",
          "Paraguay",
          "Kenya",
          "Panama",
          "Saudi Arabia",
          "Tanzania, United Republic of",
          "Malaysia",
          "Lao People's Democratic Republic (the)",
          "Mongolia",
          "Togo",
          "Malawi",
          "Portugal",
          "Syrian Arab Republic",
          "Uganda",
          "Uruguay",
          "Lesotho",
          "Madagascar",
          "Suriname",
          "Kiribati",
          "Papua New Guinea",
          "Tuvalu",
          "Rwanda",
          "Sudan (the)",
          "Sierra Leone",
          "Sweden",
          "Oman",
          "Nigeria",
          "Vanuatu",
          "South Africa",
          "Viet Nam",
          "Saint Vincent and the Grenadines",
          "Samoa",
          "Yugoslavia",
          "Wallis and Futuna",
          "Venezuela (Bolivarian Republic of)",
          "Yemen Arab Rep",
          "Yemen P Dem Rep",
          "Zimbabwe",
          "Zambia",
          "Côte d’Ivoire",
          "Guinea",
          "Angola",
          "Bulgaria",
          "Czechoslovakia",
          "Congo (the)",
          "Germany Dem Rep",
          "Micronesia (Federated States of)",
          "Gabon",
          "Liberia",
          "Namibia",
          "Ireland",
          "Israel",
          "Luxembourg",
          "Cambodia",
          "Maldives",
          "Korea (the Democratic People's Republic of)",
          "Iceland",
          "Congo (the Democratic Republic of the)",
          "Eswatini",
          "Sao Tome and Principe",
          "Turks and Caicos Islands (the)",
          "Albania",
          "Burundi",
          "Germany",
          "Belarus",
          "Finland",
          "Norway",
          "Marshall Islands (the)",
          "Lithuania",
          "Russian Federation (the)",
          "Eritrea",
          "Macedonia (the former Yugoslav Republic of)",
          "Kazakhstan",
          "Macao",
          "Virgin Island (U.S.)",
          "Tajikistan",
          "Yemen",
          "Serbia Montenegro",
          "Ukraine",
          "Turkmenistan",
          "Bhutan",
          "Azerbaijan",
          "Armenia",
          "Brunei Darussalam",
          "Moldova (the Republic of)",
          "Georgia",
          "Libya",
          "Czech Republic (the)",
          "French Guiana",
          "Croatia",
          "Kuwait",
          "Kyrgyzstan",
          "Virgin Island (British)",
          "Slovakia",
          "Seychelles",
          "Bosnia and Herzegovina",
          "Latvia",
          "Uzbekistan",
          "Cayman Islands (the)",
          "Saint Helena, Ascension and Tristan da Cunha",
          "Timor-Leste",
          "Northern Mariana Islands (the)",
          "Estonia",
          "Slovenia",
          "Palestine, State of",
          "Montenegro",
          "Serbia",
          "South Sudan",
          "Palau",
          "United Arab Emirates (the)",
          "Qatar",
          "Saint Barthélemy",
          "Saint Martin (French Part)",
          "Sint Maarten (Dutch part)",
          "Isle of Man"
         ],
         "type": "choropleth",
         "z": [
          0,
          0,
          0,
          0,
          0,
          0,
          0,
          0,
          0,
          5,
          2,
          0,
          0,
          0,
          0,
          1,
          0,
          0,
          1,
          6,
          0,
          0,
          1,
          10,
          0,
          0,
          0,
          0,
          3,
          1,
          0,
          0,
          0,
          0,
          6,
          4,
          0,
          0,
          0,
          0,
          2,
          2,
          0,
          0,
          3,
          0,
          2,
          1,
          0,
          0,
          0,
          0,
          1,
          0,
          0,
          0,
          1,
          0,
          0,
          0,
          0,
          35,
          0,
          0,
          0,
          0,
          1,
          0,
          0,
          0,
          0,
          0,
          0,
          0,
          0,
          0,
          0,
          0,
          0,
          0,
          1,
          0,
          0,
          3,
          0,
          2,
          0,
          0,
          3,
          1,
          0,
          0,
          0,
          0,
          1,
          1,
          0,
          0,
          1,
          0,
          0,
          0,
          0,
          0,
          1,
          0,
          0,
          0,
          1,
          0,
          0,
          1,
          0,
          1,
          0,
          0,
          1,
          0,
          0,
          0,
          0,
          4,
          0,
          0,
          0,
          0,
          0,
          0,
          0,
          0,
          0,
          0,
          0,
          0,
          0,
          0,
          0,
          0,
          6,
          1,
          0,
          0,
          0,
          0,
          0,
          0,
          0,
          0,
          0,
          0,
          1,
          0,
          4,
          0,
          0,
          0,
          0,
          0,
          0,
          0,
          0,
          1,
          0,
          0,
          0,
          0,
          0,
          2,
          1,
          0,
          0,
          1,
          0,
          0,
          0,
          0,
          0,
          0,
          0,
          14,
          0,
          2,
          0,
          0,
          0,
          0,
          0,
          1,
          0,
          0,
          0,
          0,
          0,
          0,
          0,
          0,
          0,
          0,
          0,
          4,
          0,
          0,
          0,
          1,
          0,
          0,
          0,
          0,
          0,
          0,
          0,
          0,
          0,
          0,
          0,
          0,
          0,
          0,
          0,
          0,
          0,
          0,
          0,
          0,
          0
         ]
        }
       ],
       "layout": {
        "geo": {
         "showcoastlines": false,
         "showframe": false
        },
        "template": {
         "data": {
          "bar": [
           {
            "error_x": {
             "color": "#2a3f5f"
            },
            "error_y": {
             "color": "#2a3f5f"
            },
            "marker": {
             "line": {
              "color": "#E5ECF6",
              "width": 0.5
             }
            },
            "type": "bar"
           }
          ],
          "barpolar": [
           {
            "marker": {
             "line": {
              "color": "#E5ECF6",
              "width": 0.5
             }
            },
            "type": "barpolar"
           }
          ],
          "carpet": [
           {
            "aaxis": {
             "endlinecolor": "#2a3f5f",
             "gridcolor": "white",
             "linecolor": "white",
             "minorgridcolor": "white",
             "startlinecolor": "#2a3f5f"
            },
            "baxis": {
             "endlinecolor": "#2a3f5f",
             "gridcolor": "white",
             "linecolor": "white",
             "minorgridcolor": "white",
             "startlinecolor": "#2a3f5f"
            },
            "type": "carpet"
           }
          ],
          "choropleth": [
           {
            "colorbar": {
             "outlinewidth": 0,
             "ticks": ""
            },
            "type": "choropleth"
           }
          ],
          "contour": [
           {
            "colorbar": {
             "outlinewidth": 0,
             "ticks": ""
            },
            "colorscale": [
             [
              0,
              "#0d0887"
             ],
             [
              0.1111111111111111,
              "#46039f"
             ],
             [
              0.2222222222222222,
              "#7201a8"
             ],
             [
              0.3333333333333333,
              "#9c179e"
             ],
             [
              0.4444444444444444,
              "#bd3786"
             ],
             [
              0.5555555555555556,
              "#d8576b"
             ],
             [
              0.6666666666666666,
              "#ed7953"
             ],
             [
              0.7777777777777778,
              "#fb9f3a"
             ],
             [
              0.8888888888888888,
              "#fdca26"
             ],
             [
              1,
              "#f0f921"
             ]
            ],
            "type": "contour"
           }
          ],
          "contourcarpet": [
           {
            "colorbar": {
             "outlinewidth": 0,
             "ticks": ""
            },
            "type": "contourcarpet"
           }
          ],
          "heatmap": [
           {
            "colorbar": {
             "outlinewidth": 0,
             "ticks": ""
            },
            "colorscale": [
             [
              0,
              "#0d0887"
             ],
             [
              0.1111111111111111,
              "#46039f"
             ],
             [
              0.2222222222222222,
              "#7201a8"
             ],
             [
              0.3333333333333333,
              "#9c179e"
             ],
             [
              0.4444444444444444,
              "#bd3786"
             ],
             [
              0.5555555555555556,
              "#d8576b"
             ],
             [
              0.6666666666666666,
              "#ed7953"
             ],
             [
              0.7777777777777778,
              "#fb9f3a"
             ],
             [
              0.8888888888888888,
              "#fdca26"
             ],
             [
              1,
              "#f0f921"
             ]
            ],
            "type": "heatmap"
           }
          ],
          "heatmapgl": [
           {
            "colorbar": {
             "outlinewidth": 0,
             "ticks": ""
            },
            "colorscale": [
             [
              0,
              "#0d0887"
             ],
             [
              0.1111111111111111,
              "#46039f"
             ],
             [
              0.2222222222222222,
              "#7201a8"
             ],
             [
              0.3333333333333333,
              "#9c179e"
             ],
             [
              0.4444444444444444,
              "#bd3786"
             ],
             [
              0.5555555555555556,
              "#d8576b"
             ],
             [
              0.6666666666666666,
              "#ed7953"
             ],
             [
              0.7777777777777778,
              "#fb9f3a"
             ],
             [
              0.8888888888888888,
              "#fdca26"
             ],
             [
              1,
              "#f0f921"
             ]
            ],
            "type": "heatmapgl"
           }
          ],
          "histogram": [
           {
            "marker": {
             "colorbar": {
              "outlinewidth": 0,
              "ticks": ""
             }
            },
            "type": "histogram"
           }
          ],
          "histogram2d": [
           {
            "colorbar": {
             "outlinewidth": 0,
             "ticks": ""
            },
            "colorscale": [
             [
              0,
              "#0d0887"
             ],
             [
              0.1111111111111111,
              "#46039f"
             ],
             [
              0.2222222222222222,
              "#7201a8"
             ],
             [
              0.3333333333333333,
              "#9c179e"
             ],
             [
              0.4444444444444444,
              "#bd3786"
             ],
             [
              0.5555555555555556,
              "#d8576b"
             ],
             [
              0.6666666666666666,
              "#ed7953"
             ],
             [
              0.7777777777777778,
              "#fb9f3a"
             ],
             [
              0.8888888888888888,
              "#fdca26"
             ],
             [
              1,
              "#f0f921"
             ]
            ],
            "type": "histogram2d"
           }
          ],
          "histogram2dcontour": [
           {
            "colorbar": {
             "outlinewidth": 0,
             "ticks": ""
            },
            "colorscale": [
             [
              0,
              "#0d0887"
             ],
             [
              0.1111111111111111,
              "#46039f"
             ],
             [
              0.2222222222222222,
              "#7201a8"
             ],
             [
              0.3333333333333333,
              "#9c179e"
             ],
             [
              0.4444444444444444,
              "#bd3786"
             ],
             [
              0.5555555555555556,
              "#d8576b"
             ],
             [
              0.6666666666666666,
              "#ed7953"
             ],
             [
              0.7777777777777778,
              "#fb9f3a"
             ],
             [
              0.8888888888888888,
              "#fdca26"
             ],
             [
              1,
              "#f0f921"
             ]
            ],
            "type": "histogram2dcontour"
           }
          ],
          "mesh3d": [
           {
            "colorbar": {
             "outlinewidth": 0,
             "ticks": ""
            },
            "type": "mesh3d"
           }
          ],
          "parcoords": [
           {
            "line": {
             "colorbar": {
              "outlinewidth": 0,
              "ticks": ""
             }
            },
            "type": "parcoords"
           }
          ],
          "pie": [
           {
            "automargin": true,
            "type": "pie"
           }
          ],
          "scatter": [
           {
            "marker": {
             "colorbar": {
              "outlinewidth": 0,
              "ticks": ""
             }
            },
            "type": "scatter"
           }
          ],
          "scatter3d": [
           {
            "line": {
             "colorbar": {
              "outlinewidth": 0,
              "ticks": ""
             }
            },
            "marker": {
             "colorbar": {
              "outlinewidth": 0,
              "ticks": ""
             }
            },
            "type": "scatter3d"
           }
          ],
          "scattercarpet": [
           {
            "marker": {
             "colorbar": {
              "outlinewidth": 0,
              "ticks": ""
             }
            },
            "type": "scattercarpet"
           }
          ],
          "scattergeo": [
           {
            "marker": {
             "colorbar": {
              "outlinewidth": 0,
              "ticks": ""
             }
            },
            "type": "scattergeo"
           }
          ],
          "scattergl": [
           {
            "marker": {
             "colorbar": {
              "outlinewidth": 0,
              "ticks": ""
             }
            },
            "type": "scattergl"
           }
          ],
          "scattermapbox": [
           {
            "marker": {
             "colorbar": {
              "outlinewidth": 0,
              "ticks": ""
             }
            },
            "type": "scattermapbox"
           }
          ],
          "scatterpolar": [
           {
            "marker": {
             "colorbar": {
              "outlinewidth": 0,
              "ticks": ""
             }
            },
            "type": "scatterpolar"
           }
          ],
          "scatterpolargl": [
           {
            "marker": {
             "colorbar": {
              "outlinewidth": 0,
              "ticks": ""
             }
            },
            "type": "scatterpolargl"
           }
          ],
          "scatterternary": [
           {
            "marker": {
             "colorbar": {
              "outlinewidth": 0,
              "ticks": ""
             }
            },
            "type": "scatterternary"
           }
          ],
          "surface": [
           {
            "colorbar": {
             "outlinewidth": 0,
             "ticks": ""
            },
            "colorscale": [
             [
              0,
              "#0d0887"
             ],
             [
              0.1111111111111111,
              "#46039f"
             ],
             [
              0.2222222222222222,
              "#7201a8"
             ],
             [
              0.3333333333333333,
              "#9c179e"
             ],
             [
              0.4444444444444444,
              "#bd3786"
             ],
             [
              0.5555555555555556,
              "#d8576b"
             ],
             [
              0.6666666666666666,
              "#ed7953"
             ],
             [
              0.7777777777777778,
              "#fb9f3a"
             ],
             [
              0.8888888888888888,
              "#fdca26"
             ],
             [
              1,
              "#f0f921"
             ]
            ],
            "type": "surface"
           }
          ],
          "table": [
           {
            "cells": {
             "fill": {
              "color": "#EBF0F8"
             },
             "line": {
              "color": "white"
             }
            },
            "header": {
             "fill": {
              "color": "#C8D4E3"
             },
             "line": {
              "color": "white"
             }
            },
            "type": "table"
           }
          ]
         },
         "layout": {
          "annotationdefaults": {
           "arrowcolor": "#2a3f5f",
           "arrowhead": 0,
           "arrowwidth": 1
          },
          "autotypenumbers": "strict",
          "coloraxis": {
           "colorbar": {
            "outlinewidth": 0,
            "ticks": ""
           }
          },
          "colorscale": {
           "diverging": [
            [
             0,
             "#8e0152"
            ],
            [
             0.1,
             "#c51b7d"
            ],
            [
             0.2,
             "#de77ae"
            ],
            [
             0.3,
             "#f1b6da"
            ],
            [
             0.4,
             "#fde0ef"
            ],
            [
             0.5,
             "#f7f7f7"
            ],
            [
             0.6,
             "#e6f5d0"
            ],
            [
             0.7,
             "#b8e186"
            ],
            [
             0.8,
             "#7fbc41"
            ],
            [
             0.9,
             "#4d9221"
            ],
            [
             1,
             "#276419"
            ]
           ],
           "sequential": [
            [
             0,
             "#0d0887"
            ],
            [
             0.1111111111111111,
             "#46039f"
            ],
            [
             0.2222222222222222,
             "#7201a8"
            ],
            [
             0.3333333333333333,
             "#9c179e"
            ],
            [
             0.4444444444444444,
             "#bd3786"
            ],
            [
             0.5555555555555556,
             "#d8576b"
            ],
            [
             0.6666666666666666,
             "#ed7953"
            ],
            [
             0.7777777777777778,
             "#fb9f3a"
            ],
            [
             0.8888888888888888,
             "#fdca26"
            ],
            [
             1,
             "#f0f921"
            ]
           ],
           "sequentialminus": [
            [
             0,
             "#0d0887"
            ],
            [
             0.1111111111111111,
             "#46039f"
            ],
            [
             0.2222222222222222,
             "#7201a8"
            ],
            [
             0.3333333333333333,
             "#9c179e"
            ],
            [
             0.4444444444444444,
             "#bd3786"
            ],
            [
             0.5555555555555556,
             "#d8576b"
            ],
            [
             0.6666666666666666,
             "#ed7953"
            ],
            [
             0.7777777777777778,
             "#fb9f3a"
            ],
            [
             0.8888888888888888,
             "#fdca26"
            ],
            [
             1,
             "#f0f921"
            ]
           ]
          },
          "colorway": [
           "#636efa",
           "#EF553B",
           "#00cc96",
           "#ab63fa",
           "#FFA15A",
           "#19d3f3",
           "#FF6692",
           "#B6E880",
           "#FF97FF",
           "#FECB52"
          ],
          "font": {
           "color": "#2a3f5f"
          },
          "geo": {
           "bgcolor": "white",
           "lakecolor": "white",
           "landcolor": "#E5ECF6",
           "showlakes": true,
           "showland": true,
           "subunitcolor": "white"
          },
          "hoverlabel": {
           "align": "left"
          },
          "hovermode": "closest",
          "mapbox": {
           "style": "light"
          },
          "paper_bgcolor": "white",
          "plot_bgcolor": "#E5ECF6",
          "polar": {
           "angularaxis": {
            "gridcolor": "white",
            "linecolor": "white",
            "ticks": ""
           },
           "bgcolor": "#E5ECF6",
           "radialaxis": {
            "gridcolor": "white",
            "linecolor": "white",
            "ticks": ""
           }
          },
          "scene": {
           "xaxis": {
            "backgroundcolor": "#E5ECF6",
            "gridcolor": "white",
            "gridwidth": 2,
            "linecolor": "white",
            "showbackground": true,
            "ticks": "",
            "zerolinecolor": "white"
           },
           "yaxis": {
            "backgroundcolor": "#E5ECF6",
            "gridcolor": "white",
            "gridwidth": 2,
            "linecolor": "white",
            "showbackground": true,
            "ticks": "",
            "zerolinecolor": "white"
           },
           "zaxis": {
            "backgroundcolor": "#E5ECF6",
            "gridcolor": "white",
            "gridwidth": 2,
            "linecolor": "white",
            "showbackground": true,
            "ticks": "",
            "zerolinecolor": "white"
           }
          },
          "shapedefaults": {
           "line": {
            "color": "#2a3f5f"
           }
          },
          "ternary": {
           "aaxis": {
            "gridcolor": "white",
            "linecolor": "white",
            "ticks": ""
           },
           "baxis": {
            "gridcolor": "white",
            "linecolor": "white",
            "ticks": ""
           },
           "bgcolor": "#E5ECF6",
           "caxis": {
            "gridcolor": "white",
            "linecolor": "white",
            "ticks": ""
           }
          },
          "title": {
           "x": 0.05
          },
          "xaxis": {
           "automargin": true,
           "gridcolor": "white",
           "linecolor": "white",
           "ticks": "",
           "title": {
            "standoff": 15
           },
           "zerolinecolor": "white",
           "zerolinewidth": 2
          },
          "yaxis": {
           "automargin": true,
           "gridcolor": "white",
           "linecolor": "white",
           "ticks": "",
           "title": {
            "standoff": 15
           },
           "zerolinecolor": "white",
           "zerolinewidth": 2
          }
         }
        },
        "title": {
         "text": "Wildfire frequency (2000-2010)"
        }
       }
      },
      "text/html": [
       "<div>                            <div id=\"bf8e622f-1ecc-4833-ade3-190800440640\" class=\"plotly-graph-div\" style=\"height:525px; width:100%;\"></div>            <script type=\"text/javascript\">                require([\"plotly\"], function(Plotly) {                    window.PLOTLYENV=window.PLOTLYENV || {};                                    if (document.getElementById(\"bf8e622f-1ecc-4833-ade3-190800440640\")) {                    Plotly.newPlot(                        \"bf8e622f-1ecc-4833-ade3-190800440640\",                        [{\"colorbar\": {\"title\": {\"text\": \"Wildfire frequency<br>(2000-2010)<br>\"}}, \"colorscale\": [[0.0, \"rgb(255,245,235)\"], [0.125, \"rgb(254,230,206)\"], [0.25, \"rgb(253,208,162)\"], [0.375, \"rgb(253,174,107)\"], [0.5, \"rgb(253,141,60)\"], [0.625, \"rgb(241,105,19)\"], [0.75, \"rgb(217,72,1)\"], [0.875, \"rgb(166,54,3)\"], [1.0, \"rgb(127,39,4)\"]], \"locations\": [\"CPV\", \"IND\", \"BGD\", \"BEL\", \"HKG\", \"HTI\", \"BFA\", \"GMB\", \"GNB\", \"CAN\", \"CHN\", \"AIA\", \"DFR\", \"BHS\", \"CUB\", \"DZA\", \"GLP\", \"DMA\", \"DOM\", \"GRC\", \"BLZ\", \"FJI\", \"HND\", \"AUS\", \"COK\", \"AZO\", \"BMU\", \"BRA\", \"FRA\", \"GTM\", \"ATG\", \"ECU\", \"COM\", \"GBR\", \"ESP\", \"IDN\", \"ANT\", \"EGY\", \"BRB\", \"AFG\", \"ARG\", \"COL\", \"GUM\", \"GRD\", \"BOL\", \"BWA\", \"CHL\", \"ETH\", \"ASM\", \"GHA\", \"BEN\", \"CRI\", \"CYP\", \"HUN\", \"CMR\", \"GUY\", \"CAF\", \"AUT\", \"CHE\", \"DNK\", \"DJI\", \"USA\", \"JAM\", \"MMR\", \"NER\", \"PHL\", \"JPN\", \"MLI\", \"MRT\", \"SEN\", \"TCD\", \"TWN\", \"TKL\", \"SUN\", \"PAK\", \"ROU\", \"KNA\", \"MSR\", \"POL\", \"PRI\", \"MEX\", \"TTO\", \"SLV\", \"KOR\", \"NZL\", \"ITA\", \"NCL\", \"REU\", \"TUR\", \"IRN\", \"MAR\", \"NLD\", \"IRQ\", \"NPL\", \"LBN\", \"MOZ\", \"SLB\", \"LKA\", \"SPI\", \"PYF\", \"NIU\", \"LCA\", \"MTQ\", \"MUS\", \"NIC\", \"SOM\", \"TON\", \"PER\", \"THA\", \"TUN\", \"JOR\", \"PRY\", \"KEN\", \"PAN\", \"SAU\", \"TZA\", \"MYS\", \"LAO\", \"MNG\", \"TGO\", \"MWI\", \"PRT\", \"SYR\", \"UGA\", \"URY\", \"LSO\", \"MDG\", \"SUR\", \"KIR\", \"PNG\", \"TUV\", \"RWA\", \"SDN\", \"SLE\", \"SWE\", \"OMN\", \"NGA\", \"VUT\", \"ZAF\", \"VNM\", \"VCT\", \"WSM\", \"YUG\", \"WLF\", \"VEN\", \"YMN\", \"YMD\", \"ZWE\", \"ZMB\", \"CIV\", \"GIN\", \"AGO\", \"BGR\", \"CSK\", \"COG\", \"DDR\", \"FSM\", \"GAB\", \"LBR\", \"NAM\", \"IRL\", \"ISR\", \"LUX\", \"KHM\", \"MDV\", \"PRK\", \"ISL\", \"COD\", \"SWZ\", \"STP\", \"TCA\", \"ALB\", \"BDI\", \"DEU\", \"BLR\", \"FIN\", \"NOR\", \"MHL\", \"LTU\", \"RUS\", \"ERI\", \"MKD\", \"KAZ\", \"MAC\", \"VIR\", \"TJK\", \"YEM\", \"SCG\", \"UKR\", \"TKM\", \"BTN\", \"AZE\", \"ARM\", \"BRN\", \"MDA\", \"GEO\", \"LBY\", \"CZE\", \"GUF\", \"HRV\", \"KWT\", \"KGZ\", \"VGB\", \"SVK\", \"SYC\", \"BIH\", \"LVA\", \"UZB\", \"CYM\", \"SHN\", \"TLS\", \"MNP\", \"EST\", \"SVN\", \"PSE\", \"MNE\", \"SRB\", \"SSD\", \"PLW\", \"ARE\", \"QAT\", \"BLM\", \"MAF\", \"SXM\", \"IMN\"], \"marker\": {\"line\": {\"color\": \"darkgray\", \"width\": 0.5}}, \"text\": [\"Cabo Verde\", \"India\", \"Bangladesh\", \"Belgium\", \"Hong Kong\", \"Haiti\", \"Burkina Faso\", \"Gambia (the)\", \"Guinea-Bissau\", \"Canada\", \"China\", \"Anguilla\", \"Germany Fed Rep\", \"Bahamas (the)\", \"Cuba\", \"Algeria\", \"Guadeloupe\", \"Dominica\", \"Dominican Republic (the)\", \"Greece\", \"Belize\", \"Fiji\", \"Honduras\", \"Australia\", \"Cook Islands (the)\", \"Azores Islands\", \"Bermuda\", \"Brazil\", \"France\", \"Guatemala\", \"Antigua and Barbuda\", \"Ecuador\", \"Comoros (the)\", \"United Kingdom of Great Britain and Northern Ireland (the)\", \"Spain\", \"Indonesia\", \"Netherlands Antilles\", \"Egypt\", \"Barbados\", \"Afghanistan\", \"Argentina\", \"Colombia\", \"Guam\", \"Grenada\", \"Bolivia (Plurinational State of)\", \"Botswana\", \"Chile\", \"Ethiopia\", \"American Samoa\", \"Ghana\", \"Benin\", \"Costa Rica\", \"Cyprus\", \"Hungary\", \"Cameroon\", \"Guyana\", \"Central African Republic\", \"Austria\", \"Switzerland\", \"Denmark\", \"Djibouti\", \"United States of America (the)\", \"Jamaica\", \"Myanmar\", \"Niger (the)\", \"Philippines (the)\", \"Japan\", \"Mali\", \"Mauritania\", \"Senegal\", \"Chad\", \"Taiwan (Province of China)\", \"Tokelau\", \"Soviet Union\", \"Pakistan\", \"Romania\", \"Saint Kitts and Nevis\", \"Montserrat\", \"Poland\", \"Puerto Rico\", \"Mexico\", \"Trinidad and Tobago\", \"El Salvador\", \"Korea (the Republic of)\", \"New Zealand\", \"Italy\", \"New Caledonia\", \"R\\u00e9union\", \"Turkey\", \"Iran (Islamic Republic of)\", \"Morocco\", \"Netherlands (the)\", \"Iraq\", \"Nepal\", \"Lebanon\", \"Mozambique\", \"Solomon Islands\", \"Sri Lanka\", \"Canary Is\", \"French Polynesia\", \"Niue\", \"Saint Lucia\", \"Martinique\", \"Mauritius\", \"Nicaragua\", \"Somalia\", \"Tonga\", \"Peru\", \"Thailand\", \"Tunisia\", \"Jordan\", \"Paraguay\", \"Kenya\", \"Panama\", \"Saudi Arabia\", \"Tanzania, United Republic of\", \"Malaysia\", \"Lao People's Democratic Republic (the)\", \"Mongolia\", \"Togo\", \"Malawi\", \"Portugal\", \"Syrian Arab Republic\", \"Uganda\", \"Uruguay\", \"Lesotho\", \"Madagascar\", \"Suriname\", \"Kiribati\", \"Papua New Guinea\", \"Tuvalu\", \"Rwanda\", \"Sudan (the)\", \"Sierra Leone\", \"Sweden\", \"Oman\", \"Nigeria\", \"Vanuatu\", \"South Africa\", \"Viet Nam\", \"Saint Vincent and the Grenadines\", \"Samoa\", \"Yugoslavia\", \"Wallis and Futuna\", \"Venezuela (Bolivarian Republic of)\", \"Yemen Arab Rep\", \"Yemen P Dem Rep\", \"Zimbabwe\", \"Zambia\", \"C\\u00f4te d\\u2019Ivoire\", \"Guinea\", \"Angola\", \"Bulgaria\", \"Czechoslovakia\", \"Congo (the)\", \"Germany Dem Rep\", \"Micronesia (Federated States of)\", \"Gabon\", \"Liberia\", \"Namibia\", \"Ireland\", \"Israel\", \"Luxembourg\", \"Cambodia\", \"Maldives\", \"Korea (the Democratic People's Republic of)\", \"Iceland\", \"Congo (the Democratic Republic of the)\", \"Eswatini\", \"Sao Tome and Principe\", \"Turks and Caicos Islands (the)\", \"Albania\", \"Burundi\", \"Germany\", \"Belarus\", \"Finland\", \"Norway\", \"Marshall Islands (the)\", \"Lithuania\", \"Russian Federation (the)\", \"Eritrea\", \"Macedonia (the former Yugoslav Republic of)\", \"Kazakhstan\", \"Macao\", \"Virgin Island (U.S.)\", \"Tajikistan\", \"Yemen\", \"Serbia Montenegro\", \"Ukraine\", \"Turkmenistan\", \"Bhutan\", \"Azerbaijan\", \"Armenia\", \"Brunei Darussalam\", \"Moldova (the Republic of)\", \"Georgia\", \"Libya\", \"Czech Republic (the)\", \"French Guiana\", \"Croatia\", \"Kuwait\", \"Kyrgyzstan\", \"Virgin Island (British)\", \"Slovakia\", \"Seychelles\", \"Bosnia and Herzegovina\", \"Latvia\", \"Uzbekistan\", \"Cayman Islands (the)\", \"Saint Helena, Ascension and Tristan da Cunha\", \"Timor-Leste\", \"Northern Mariana Islands (the)\", \"Estonia\", \"Slovenia\", \"Palestine, State of\", \"Montenegro\", \"Serbia\", \"South Sudan\", \"Palau\", \"United Arab Emirates (the)\", \"Qatar\", \"Saint Barth\\u00e9lemy\", \"Saint Martin (French Part)\", \"Sint Maarten (Dutch part)\", \"Isle of Man\"], \"type\": \"choropleth\", \"z\": [0, 0, 0, 0, 0, 0, 0, 0, 0, 5, 2, 0, 0, 0, 0, 1, 0, 0, 1, 6, 0, 0, 1, 10, 0, 0, 0, 0, 3, 1, 0, 0, 0, 0, 6, 4, 0, 0, 0, 0, 2, 2, 0, 0, 3, 0, 2, 1, 0, 0, 0, 0, 1, 0, 0, 0, 1, 0, 0, 0, 0, 35, 0, 0, 0, 0, 1, 0, 0, 0, 0, 0, 0, 0, 0, 0, 0, 0, 0, 0, 1, 0, 0, 3, 0, 2, 0, 0, 3, 1, 0, 0, 0, 0, 1, 1, 0, 0, 1, 0, 0, 0, 0, 0, 1, 0, 0, 0, 1, 0, 0, 1, 0, 1, 0, 0, 1, 0, 0, 0, 0, 4, 0, 0, 0, 0, 0, 0, 0, 0, 0, 0, 0, 0, 0, 0, 0, 0, 6, 1, 0, 0, 0, 0, 0, 0, 0, 0, 0, 0, 1, 0, 4, 0, 0, 0, 0, 0, 0, 0, 0, 1, 0, 0, 0, 0, 0, 2, 1, 0, 0, 1, 0, 0, 0, 0, 0, 0, 0, 14, 0, 2, 0, 0, 0, 0, 0, 1, 0, 0, 0, 0, 0, 0, 0, 0, 0, 0, 0, 4, 0, 0, 0, 1, 0, 0, 0, 0, 0, 0, 0, 0, 0, 0, 0, 0, 0, 0, 0, 0, 0, 0, 0, 0, 0]}],                        {\"geo\": {\"showcoastlines\": false, \"showframe\": false}, \"template\": {\"data\": {\"bar\": [{\"error_x\": {\"color\": \"#2a3f5f\"}, \"error_y\": {\"color\": \"#2a3f5f\"}, \"marker\": {\"line\": {\"color\": \"#E5ECF6\", \"width\": 0.5}}, \"type\": \"bar\"}], \"barpolar\": [{\"marker\": {\"line\": {\"color\": \"#E5ECF6\", \"width\": 0.5}}, \"type\": \"barpolar\"}], \"carpet\": [{\"aaxis\": {\"endlinecolor\": \"#2a3f5f\", \"gridcolor\": \"white\", \"linecolor\": \"white\", \"minorgridcolor\": \"white\", \"startlinecolor\": \"#2a3f5f\"}, \"baxis\": {\"endlinecolor\": \"#2a3f5f\", \"gridcolor\": \"white\", \"linecolor\": \"white\", \"minorgridcolor\": \"white\", \"startlinecolor\": \"#2a3f5f\"}, \"type\": \"carpet\"}], \"choropleth\": [{\"colorbar\": {\"outlinewidth\": 0, \"ticks\": \"\"}, \"type\": \"choropleth\"}], \"contour\": [{\"colorbar\": {\"outlinewidth\": 0, \"ticks\": \"\"}, \"colorscale\": [[0.0, \"#0d0887\"], [0.1111111111111111, \"#46039f\"], [0.2222222222222222, \"#7201a8\"], [0.3333333333333333, \"#9c179e\"], [0.4444444444444444, \"#bd3786\"], [0.5555555555555556, \"#d8576b\"], [0.6666666666666666, \"#ed7953\"], [0.7777777777777778, \"#fb9f3a\"], [0.8888888888888888, \"#fdca26\"], [1.0, \"#f0f921\"]], \"type\": \"contour\"}], \"contourcarpet\": [{\"colorbar\": {\"outlinewidth\": 0, \"ticks\": \"\"}, \"type\": \"contourcarpet\"}], \"heatmap\": [{\"colorbar\": {\"outlinewidth\": 0, \"ticks\": \"\"}, \"colorscale\": [[0.0, \"#0d0887\"], [0.1111111111111111, \"#46039f\"], [0.2222222222222222, \"#7201a8\"], [0.3333333333333333, \"#9c179e\"], [0.4444444444444444, \"#bd3786\"], [0.5555555555555556, \"#d8576b\"], [0.6666666666666666, \"#ed7953\"], [0.7777777777777778, \"#fb9f3a\"], [0.8888888888888888, \"#fdca26\"], [1.0, \"#f0f921\"]], \"type\": \"heatmap\"}], \"heatmapgl\": [{\"colorbar\": {\"outlinewidth\": 0, \"ticks\": \"\"}, \"colorscale\": [[0.0, \"#0d0887\"], [0.1111111111111111, \"#46039f\"], [0.2222222222222222, \"#7201a8\"], [0.3333333333333333, \"#9c179e\"], [0.4444444444444444, \"#bd3786\"], [0.5555555555555556, \"#d8576b\"], [0.6666666666666666, \"#ed7953\"], [0.7777777777777778, \"#fb9f3a\"], [0.8888888888888888, \"#fdca26\"], [1.0, \"#f0f921\"]], \"type\": \"heatmapgl\"}], \"histogram\": [{\"marker\": {\"colorbar\": {\"outlinewidth\": 0, \"ticks\": \"\"}}, \"type\": \"histogram\"}], \"histogram2d\": [{\"colorbar\": {\"outlinewidth\": 0, \"ticks\": \"\"}, \"colorscale\": [[0.0, \"#0d0887\"], [0.1111111111111111, \"#46039f\"], [0.2222222222222222, \"#7201a8\"], [0.3333333333333333, \"#9c179e\"], [0.4444444444444444, \"#bd3786\"], [0.5555555555555556, \"#d8576b\"], [0.6666666666666666, \"#ed7953\"], [0.7777777777777778, \"#fb9f3a\"], [0.8888888888888888, \"#fdca26\"], [1.0, \"#f0f921\"]], \"type\": \"histogram2d\"}], \"histogram2dcontour\": [{\"colorbar\": {\"outlinewidth\": 0, \"ticks\": \"\"}, \"colorscale\": [[0.0, \"#0d0887\"], [0.1111111111111111, \"#46039f\"], [0.2222222222222222, \"#7201a8\"], [0.3333333333333333, \"#9c179e\"], [0.4444444444444444, \"#bd3786\"], [0.5555555555555556, \"#d8576b\"], [0.6666666666666666, \"#ed7953\"], [0.7777777777777778, \"#fb9f3a\"], [0.8888888888888888, \"#fdca26\"], [1.0, \"#f0f921\"]], \"type\": \"histogram2dcontour\"}], \"mesh3d\": [{\"colorbar\": {\"outlinewidth\": 0, \"ticks\": \"\"}, \"type\": \"mesh3d\"}], \"parcoords\": [{\"line\": {\"colorbar\": {\"outlinewidth\": 0, \"ticks\": \"\"}}, \"type\": \"parcoords\"}], \"pie\": [{\"automargin\": true, \"type\": \"pie\"}], \"scatter\": [{\"marker\": {\"colorbar\": {\"outlinewidth\": 0, \"ticks\": \"\"}}, \"type\": \"scatter\"}], \"scatter3d\": [{\"line\": {\"colorbar\": {\"outlinewidth\": 0, \"ticks\": \"\"}}, \"marker\": {\"colorbar\": {\"outlinewidth\": 0, \"ticks\": \"\"}}, \"type\": \"scatter3d\"}], \"scattercarpet\": [{\"marker\": {\"colorbar\": {\"outlinewidth\": 0, \"ticks\": \"\"}}, \"type\": \"scattercarpet\"}], \"scattergeo\": [{\"marker\": {\"colorbar\": {\"outlinewidth\": 0, \"ticks\": \"\"}}, \"type\": \"scattergeo\"}], \"scattergl\": [{\"marker\": {\"colorbar\": {\"outlinewidth\": 0, \"ticks\": \"\"}}, \"type\": \"scattergl\"}], \"scattermapbox\": [{\"marker\": {\"colorbar\": {\"outlinewidth\": 0, \"ticks\": \"\"}}, \"type\": \"scattermapbox\"}], \"scatterpolar\": [{\"marker\": {\"colorbar\": {\"outlinewidth\": 0, \"ticks\": \"\"}}, \"type\": \"scatterpolar\"}], \"scatterpolargl\": [{\"marker\": {\"colorbar\": {\"outlinewidth\": 0, \"ticks\": \"\"}}, \"type\": \"scatterpolargl\"}], \"scatterternary\": [{\"marker\": {\"colorbar\": {\"outlinewidth\": 0, \"ticks\": \"\"}}, \"type\": \"scatterternary\"}], \"surface\": [{\"colorbar\": {\"outlinewidth\": 0, \"ticks\": \"\"}, \"colorscale\": [[0.0, \"#0d0887\"], [0.1111111111111111, \"#46039f\"], [0.2222222222222222, \"#7201a8\"], [0.3333333333333333, \"#9c179e\"], [0.4444444444444444, \"#bd3786\"], [0.5555555555555556, \"#d8576b\"], [0.6666666666666666, \"#ed7953\"], [0.7777777777777778, \"#fb9f3a\"], [0.8888888888888888, \"#fdca26\"], [1.0, \"#f0f921\"]], \"type\": \"surface\"}], \"table\": [{\"cells\": {\"fill\": {\"color\": \"#EBF0F8\"}, \"line\": {\"color\": \"white\"}}, \"header\": {\"fill\": {\"color\": \"#C8D4E3\"}, \"line\": {\"color\": \"white\"}}, \"type\": \"table\"}]}, \"layout\": {\"annotationdefaults\": {\"arrowcolor\": \"#2a3f5f\", \"arrowhead\": 0, \"arrowwidth\": 1}, \"autotypenumbers\": \"strict\", \"coloraxis\": {\"colorbar\": {\"outlinewidth\": 0, \"ticks\": \"\"}}, \"colorscale\": {\"diverging\": [[0, \"#8e0152\"], [0.1, \"#c51b7d\"], [0.2, \"#de77ae\"], [0.3, \"#f1b6da\"], [0.4, \"#fde0ef\"], [0.5, \"#f7f7f7\"], [0.6, \"#e6f5d0\"], [0.7, \"#b8e186\"], [0.8, \"#7fbc41\"], [0.9, \"#4d9221\"], [1, \"#276419\"]], \"sequential\": [[0.0, \"#0d0887\"], [0.1111111111111111, \"#46039f\"], [0.2222222222222222, \"#7201a8\"], [0.3333333333333333, \"#9c179e\"], [0.4444444444444444, \"#bd3786\"], [0.5555555555555556, \"#d8576b\"], [0.6666666666666666, \"#ed7953\"], [0.7777777777777778, \"#fb9f3a\"], [0.8888888888888888, \"#fdca26\"], [1.0, \"#f0f921\"]], \"sequentialminus\": [[0.0, \"#0d0887\"], [0.1111111111111111, \"#46039f\"], [0.2222222222222222, \"#7201a8\"], [0.3333333333333333, \"#9c179e\"], [0.4444444444444444, \"#bd3786\"], [0.5555555555555556, \"#d8576b\"], [0.6666666666666666, \"#ed7953\"], [0.7777777777777778, \"#fb9f3a\"], [0.8888888888888888, \"#fdca26\"], [1.0, \"#f0f921\"]]}, \"colorway\": [\"#636efa\", \"#EF553B\", \"#00cc96\", \"#ab63fa\", \"#FFA15A\", \"#19d3f3\", \"#FF6692\", \"#B6E880\", \"#FF97FF\", \"#FECB52\"], \"font\": {\"color\": \"#2a3f5f\"}, \"geo\": {\"bgcolor\": \"white\", \"lakecolor\": \"white\", \"landcolor\": \"#E5ECF6\", \"showlakes\": true, \"showland\": true, \"subunitcolor\": \"white\"}, \"hoverlabel\": {\"align\": \"left\"}, \"hovermode\": \"closest\", \"mapbox\": {\"style\": \"light\"}, \"paper_bgcolor\": \"white\", \"plot_bgcolor\": \"#E5ECF6\", \"polar\": {\"angularaxis\": {\"gridcolor\": \"white\", \"linecolor\": \"white\", \"ticks\": \"\"}, \"bgcolor\": \"#E5ECF6\", \"radialaxis\": {\"gridcolor\": \"white\", \"linecolor\": \"white\", \"ticks\": \"\"}}, \"scene\": {\"xaxis\": {\"backgroundcolor\": \"#E5ECF6\", \"gridcolor\": \"white\", \"gridwidth\": 2, \"linecolor\": \"white\", \"showbackground\": true, \"ticks\": \"\", \"zerolinecolor\": \"white\"}, \"yaxis\": {\"backgroundcolor\": \"#E5ECF6\", \"gridcolor\": \"white\", \"gridwidth\": 2, \"linecolor\": \"white\", \"showbackground\": true, \"ticks\": \"\", \"zerolinecolor\": \"white\"}, \"zaxis\": {\"backgroundcolor\": \"#E5ECF6\", \"gridcolor\": \"white\", \"gridwidth\": 2, \"linecolor\": \"white\", \"showbackground\": true, \"ticks\": \"\", \"zerolinecolor\": \"white\"}}, \"shapedefaults\": {\"line\": {\"color\": \"#2a3f5f\"}}, \"ternary\": {\"aaxis\": {\"gridcolor\": \"white\", \"linecolor\": \"white\", \"ticks\": \"\"}, \"baxis\": {\"gridcolor\": \"white\", \"linecolor\": \"white\", \"ticks\": \"\"}, \"bgcolor\": \"#E5ECF6\", \"caxis\": {\"gridcolor\": \"white\", \"linecolor\": \"white\", \"ticks\": \"\"}}, \"title\": {\"x\": 0.05}, \"xaxis\": {\"automargin\": true, \"gridcolor\": \"white\", \"linecolor\": \"white\", \"ticks\": \"\", \"title\": {\"standoff\": 15}, \"zerolinecolor\": \"white\", \"zerolinewidth\": 2}, \"yaxis\": {\"automargin\": true, \"gridcolor\": \"white\", \"linecolor\": \"white\", \"ticks\": \"\", \"title\": {\"standoff\": 15}, \"zerolinecolor\": \"white\", \"zerolinewidth\": 2}}}, \"title\": {\"text\": \"Wildfire frequency (2000-2010)\"}},                        {\"responsive\": true}                    ).then(function(){\n",
       "                            \n",
       "var gd = document.getElementById('bf8e622f-1ecc-4833-ade3-190800440640');\n",
       "var x = new MutationObserver(function (mutations, observer) {{\n",
       "        var display = window.getComputedStyle(gd).display;\n",
       "        if (!display || display === 'none') {{\n",
       "            console.log([gd, 'removed!']);\n",
       "            Plotly.purge(gd);\n",
       "            observer.disconnect();\n",
       "        }}\n",
       "}});\n",
       "\n",
       "// Listen for the removal of the full notebook cells\n",
       "var notebookContainer = gd.closest('#notebook-container');\n",
       "if (notebookContainer) {{\n",
       "    x.observe(notebookContainer, {childList: true});\n",
       "}}\n",
       "\n",
       "// Listen for the clearing of the current output cell\n",
       "var outputEl = gd.closest('.output');\n",
       "if (outputEl) {{\n",
       "    x.observe(outputEl, {childList: true});\n",
       "}}\n",
       "\n",
       "                        })                };                });            </script>        </div>"
      ]
     },
     "metadata": {},
     "output_type": "display_data"
    }
   ],
   "source": [
    "fig = go.Figure(data=go.Choropleth(\n",
    "    locations = freq_df_2[\"ISO\"],\n",
    "    z = freq_df_2[\"fire_freq\"],\n",
    "    text = freq_df_2[\"Country\"],\n",
    "    colorscale = \"oranges\",\n",
    "    marker_line_color=\"darkgray\",\n",
    "    marker_line_width=0.5,\n",
    "    colorbar_title = \"Wildfire frequency<br>(2000-2010)<br>\",\n",
    "))\n",
    "\n",
    "fig.update_layout(\n",
    "    title_text=\"Wildfire frequency (2000-2010)\",\n",
    "    geo=dict(\n",
    "        showframe=False,\n",
    "        showcoastlines=False,\n",
    "    )\n",
    ")\n",
    "\n",
    "fig.show()"
   ]
  },
  {
   "cell_type": "code",
   "execution_count": null,
   "id": "b7a12a93",
   "metadata": {},
   "outputs": [],
   "source": []
  }
 ],
 "metadata": {
  "kernelspec": {
   "display_name": "Python 3 (ipykernel)",
   "language": "python",
   "name": "python3"
  },
  "language_info": {
   "codemirror_mode": {
    "name": "ipython",
    "version": 3
   },
   "file_extension": ".py",
   "mimetype": "text/x-python",
   "name": "python",
   "nbconvert_exporter": "python",
   "pygments_lexer": "ipython3",
   "version": "3.9.13"
  },
  "vscode": {
   "interpreter": {
    "hash": "a665b5d41d17b532ea9890333293a1b812fa0b73c9c25c950b3cedf1bebd0438"
   }
  }
 },
 "nbformat": 4,
 "nbformat_minor": 5
}
