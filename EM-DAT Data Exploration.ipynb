{
 "cells": [
  {
   "cell_type": "markdown",
   "id": "c31ebd37",
   "metadata": {},
   "source": [
    "# EM-DAT data exploration\n",
    "<br/>"
   ]
  },
  {
   "cell_type": "markdown",
   "id": "da15fa76",
   "metadata": {},
   "source": [
    "### Reading in data"
   ]
  },
  {
   "cell_type": "code",
   "execution_count": 576,
   "id": "a06c7538",
   "metadata": {},
   "outputs": [
    {
     "data": {
      "text/html": [
       "        <script type=\"text/javascript\">\n",
       "        window.PlotlyConfig = {MathJaxConfig: 'local'};\n",
       "        if (window.MathJax) {MathJax.Hub.Config({SVG: {font: \"STIX-Web\"}});}\n",
       "        if (typeof require !== 'undefined') {\n",
       "        require.undef(\"plotly\");\n",
       "        requirejs.config({\n",
       "            paths: {\n",
       "                'plotly': ['https://cdn.plot.ly/plotly-latest.min']\n",
       "            }\n",
       "        });\n",
       "        require(['plotly'], function(Plotly) {\n",
       "            window._Plotly = Plotly;\n",
       "        });\n",
       "        }\n",
       "        </script>\n",
       "        "
      ]
     },
     "metadata": {},
     "output_type": "display_data"
    }
   ],
   "source": [
    "import pandas as pd\n",
    "import matplotlib.pyplot as plt\n",
    "import seaborn as sns\n",
    "\n",
    "import plotly.express as px\n",
    "import plotly.graph_objs as go \n",
    "from plotly.offline import init_notebook_mode,iplot,plot\n",
    "init_notebook_mode(connected=True) "
   ]
  },
  {
   "cell_type": "code",
   "execution_count": 577,
   "id": "4a6277d7",
   "metadata": {},
   "outputs": [],
   "source": [
    "plt.rcParams[\"figure.figsize\"] = (10, 8)"
   ]
  },
  {
   "cell_type": "code",
   "execution_count": 578,
   "id": "801cfedb",
   "metadata": {},
   "outputs": [
    {
     "name": "stderr",
     "output_type": "stream",
     "text": [
      "/opt/homebrew/lib/python3.9/site-packages/openpyxl/styles/stylesheet.py:221: UserWarning:\n",
      "\n",
      "Workbook contains no default style, apply openpyxl's default\n",
      "\n"
     ]
    },
    {
     "data": {
      "text/html": [
       "<div>\n",
       "<style scoped>\n",
       "    .dataframe tbody tr th:only-of-type {\n",
       "        vertical-align: middle;\n",
       "    }\n",
       "\n",
       "    .dataframe tbody tr th {\n",
       "        vertical-align: top;\n",
       "    }\n",
       "\n",
       "    .dataframe thead th {\n",
       "        text-align: right;\n",
       "    }\n",
       "</style>\n",
       "<table border=\"1\" class=\"dataframe\">\n",
       "  <thead>\n",
       "    <tr style=\"text-align: right;\">\n",
       "      <th></th>\n",
       "      <th>Dis No</th>\n",
       "      <th>Year</th>\n",
       "      <th>Seq</th>\n",
       "      <th>Glide</th>\n",
       "      <th>Disaster Group</th>\n",
       "      <th>Disaster Subgroup</th>\n",
       "      <th>Disaster Type</th>\n",
       "      <th>Disaster Subtype</th>\n",
       "      <th>Disaster Subsubtype</th>\n",
       "      <th>Event Name</th>\n",
       "      <th>...</th>\n",
       "      <th>Reconstruction Costs, Adjusted ('000 US$)</th>\n",
       "      <th>Insured Damages ('000 US$)</th>\n",
       "      <th>Insured Damages, Adjusted ('000 US$)</th>\n",
       "      <th>Total Damages ('000 US$)</th>\n",
       "      <th>Total Damages, Adjusted ('000 US$)</th>\n",
       "      <th>CPI</th>\n",
       "      <th>Adm Level</th>\n",
       "      <th>Admin1 Code</th>\n",
       "      <th>Admin2 Code</th>\n",
       "      <th>Geo Locations</th>\n",
       "    </tr>\n",
       "  </thead>\n",
       "  <tbody>\n",
       "    <tr>\n",
       "      <th>0</th>\n",
       "      <td>1900-9002-CPV</td>\n",
       "      <td>1900</td>\n",
       "      <td>9002</td>\n",
       "      <td>NaN</td>\n",
       "      <td>Natural</td>\n",
       "      <td>Climatological</td>\n",
       "      <td>Drought</td>\n",
       "      <td>Drought</td>\n",
       "      <td>NaN</td>\n",
       "      <td>NaN</td>\n",
       "      <td>...</td>\n",
       "      <td>NaN</td>\n",
       "      <td>NaN</td>\n",
       "      <td>NaN</td>\n",
       "      <td>NaN</td>\n",
       "      <td>NaN</td>\n",
       "      <td>3.077091</td>\n",
       "      <td>NaN</td>\n",
       "      <td>NaN</td>\n",
       "      <td>NaN</td>\n",
       "      <td>NaN</td>\n",
       "    </tr>\n",
       "    <tr>\n",
       "      <th>1</th>\n",
       "      <td>1900-9001-IND</td>\n",
       "      <td>1900</td>\n",
       "      <td>9001</td>\n",
       "      <td>NaN</td>\n",
       "      <td>Natural</td>\n",
       "      <td>Climatological</td>\n",
       "      <td>Drought</td>\n",
       "      <td>Drought</td>\n",
       "      <td>NaN</td>\n",
       "      <td>NaN</td>\n",
       "      <td>...</td>\n",
       "      <td>NaN</td>\n",
       "      <td>NaN</td>\n",
       "      <td>NaN</td>\n",
       "      <td>NaN</td>\n",
       "      <td>NaN</td>\n",
       "      <td>3.077091</td>\n",
       "      <td>NaN</td>\n",
       "      <td>NaN</td>\n",
       "      <td>NaN</td>\n",
       "      <td>NaN</td>\n",
       "    </tr>\n",
       "    <tr>\n",
       "      <th>2</th>\n",
       "      <td>1902-0012-GTM</td>\n",
       "      <td>1902</td>\n",
       "      <td>12</td>\n",
       "      <td>NaN</td>\n",
       "      <td>Natural</td>\n",
       "      <td>Geophysical</td>\n",
       "      <td>Earthquake</td>\n",
       "      <td>Ground movement</td>\n",
       "      <td>NaN</td>\n",
       "      <td>NaN</td>\n",
       "      <td>...</td>\n",
       "      <td>NaN</td>\n",
       "      <td>NaN</td>\n",
       "      <td>NaN</td>\n",
       "      <td>25000.0</td>\n",
       "      <td>781207.0</td>\n",
       "      <td>3.200175</td>\n",
       "      <td>NaN</td>\n",
       "      <td>NaN</td>\n",
       "      <td>NaN</td>\n",
       "      <td>NaN</td>\n",
       "    </tr>\n",
       "    <tr>\n",
       "      <th>3</th>\n",
       "      <td>1902-0003-GTM</td>\n",
       "      <td>1902</td>\n",
       "      <td>3</td>\n",
       "      <td>NaN</td>\n",
       "      <td>Natural</td>\n",
       "      <td>Geophysical</td>\n",
       "      <td>Volcanic activity</td>\n",
       "      <td>Ash fall</td>\n",
       "      <td>NaN</td>\n",
       "      <td>Santa Maria</td>\n",
       "      <td>...</td>\n",
       "      <td>NaN</td>\n",
       "      <td>NaN</td>\n",
       "      <td>NaN</td>\n",
       "      <td>NaN</td>\n",
       "      <td>NaN</td>\n",
       "      <td>3.200175</td>\n",
       "      <td>NaN</td>\n",
       "      <td>NaN</td>\n",
       "      <td>NaN</td>\n",
       "      <td>NaN</td>\n",
       "    </tr>\n",
       "    <tr>\n",
       "      <th>4</th>\n",
       "      <td>1902-0010-GTM</td>\n",
       "      <td>1902</td>\n",
       "      <td>10</td>\n",
       "      <td>NaN</td>\n",
       "      <td>Natural</td>\n",
       "      <td>Geophysical</td>\n",
       "      <td>Volcanic activity</td>\n",
       "      <td>Ash fall</td>\n",
       "      <td>NaN</td>\n",
       "      <td>Santa Maria</td>\n",
       "      <td>...</td>\n",
       "      <td>NaN</td>\n",
       "      <td>NaN</td>\n",
       "      <td>NaN</td>\n",
       "      <td>NaN</td>\n",
       "      <td>NaN</td>\n",
       "      <td>3.200175</td>\n",
       "      <td>NaN</td>\n",
       "      <td>NaN</td>\n",
       "      <td>NaN</td>\n",
       "      <td>NaN</td>\n",
       "    </tr>\n",
       "  </tbody>\n",
       "</table>\n",
       "<p>5 rows × 50 columns</p>\n",
       "</div>"
      ],
      "text/plain": [
       "          Dis No  Year   Seq Glide Disaster Group Disaster Subgroup  \\\n",
       "0  1900-9002-CPV  1900  9002   NaN        Natural    Climatological   \n",
       "1  1900-9001-IND  1900  9001   NaN        Natural    Climatological   \n",
       "2  1902-0012-GTM  1902    12   NaN        Natural       Geophysical   \n",
       "3  1902-0003-GTM  1902     3   NaN        Natural       Geophysical   \n",
       "4  1902-0010-GTM  1902    10   NaN        Natural       Geophysical   \n",
       "\n",
       "       Disaster Type Disaster Subtype Disaster Subsubtype   Event Name  ...  \\\n",
       "0            Drought          Drought                 NaN          NaN  ...   \n",
       "1            Drought          Drought                 NaN          NaN  ...   \n",
       "2         Earthquake  Ground movement                 NaN          NaN  ...   \n",
       "3  Volcanic activity         Ash fall                 NaN  Santa Maria  ...   \n",
       "4  Volcanic activity         Ash fall                 NaN  Santa Maria  ...   \n",
       "\n",
       "  Reconstruction Costs, Adjusted ('000 US$) Insured Damages ('000 US$)  \\\n",
       "0                                       NaN                        NaN   \n",
       "1                                       NaN                        NaN   \n",
       "2                                       NaN                        NaN   \n",
       "3                                       NaN                        NaN   \n",
       "4                                       NaN                        NaN   \n",
       "\n",
       "  Insured Damages, Adjusted ('000 US$) Total Damages ('000 US$)  \\\n",
       "0                                  NaN                      NaN   \n",
       "1                                  NaN                      NaN   \n",
       "2                                  NaN                  25000.0   \n",
       "3                                  NaN                      NaN   \n",
       "4                                  NaN                      NaN   \n",
       "\n",
       "  Total Damages, Adjusted ('000 US$)       CPI Adm Level Admin1 Code  \\\n",
       "0                                NaN  3.077091       NaN         NaN   \n",
       "1                                NaN  3.077091       NaN         NaN   \n",
       "2                           781207.0  3.200175       NaN         NaN   \n",
       "3                                NaN  3.200175       NaN         NaN   \n",
       "4                                NaN  3.200175       NaN         NaN   \n",
       "\n",
       "  Admin2 Code Geo Locations  \n",
       "0         NaN           NaN  \n",
       "1         NaN           NaN  \n",
       "2         NaN           NaN  \n",
       "3         NaN           NaN  \n",
       "4         NaN           NaN  \n",
       "\n",
       "[5 rows x 50 columns]"
      ]
     },
     "execution_count": 578,
     "metadata": {},
     "output_type": "execute_result"
    }
   ],
   "source": [
    "df = pd.read_excel(\"emdat_public_2022_11_07_query_uid-dvxNk1.xlsx\", header=6)\n",
    "df.head()"
   ]
  },
  {
   "cell_type": "code",
   "execution_count": 579,
   "id": "4287f51f",
   "metadata": {},
   "outputs": [
    {
     "name": "stdout",
     "output_type": "stream",
     "text": [
      "<class 'pandas.core.frame.DataFrame'>\n",
      "RangeIndex: 16457 entries, 0 to 16456\n",
      "Data columns (total 50 columns):\n",
      " #   Column                                     Non-Null Count  Dtype  \n",
      "---  ------                                     --------------  -----  \n",
      " 0   Dis No                                     16457 non-null  object \n",
      " 1   Year                                       16457 non-null  int64  \n",
      " 2   Seq                                        16457 non-null  int64  \n",
      " 3   Glide                                      1703 non-null   object \n",
      " 4   Disaster Group                             16457 non-null  object \n",
      " 5   Disaster Subgroup                          16457 non-null  object \n",
      " 6   Disaster Type                              16457 non-null  object \n",
      " 7   Disaster Subtype                           13195 non-null  object \n",
      " 8   Disaster Subsubtype                        1103 non-null   object \n",
      " 9   Event Name                                 3962 non-null   object \n",
      " 10  Country                                    16457 non-null  object \n",
      " 11  ISO                                        16457 non-null  object \n",
      " 12  Region                                     16457 non-null  object \n",
      " 13  Continent                                  16457 non-null  object \n",
      " 14  Location                                   14666 non-null  object \n",
      " 15  Origin                                     4006 non-null   object \n",
      " 16  Associated Dis                             3525 non-null   object \n",
      " 17  Associated Dis2                            747 non-null    object \n",
      " 18  OFDA Response                              1716 non-null   object \n",
      " 19  Appeal                                     2572 non-null   object \n",
      " 20  Declaration                                3325 non-null   object \n",
      " 21  AID Contribution ('000 US$)                776 non-null    float64\n",
      " 22  Dis Mag Value                              5023 non-null   float64\n",
      " 23  Dis Mag Scale                              15251 non-null  object \n",
      " 24  Latitude                                   2760 non-null   object \n",
      " 25  Longitude                                  2759 non-null   object \n",
      " 26  Local Time                                 1135 non-null   object \n",
      " 27  River Basin                                1319 non-null   object \n",
      " 28  Start Year                                 16457 non-null  int64  \n",
      " 29  Start Month                                16068 non-null  float64\n",
      " 30  Start Day                                  12858 non-null  float64\n",
      " 31  End Year                                   16457 non-null  int64  \n",
      " 32  End Month                                  15755 non-null  float64\n",
      " 33  End Day                                    12944 non-null  float64\n",
      " 34  Total Deaths                               11719 non-null  float64\n",
      " 35  No Injured                                 4072 non-null   float64\n",
      " 36  No Affected                                9539 non-null   float64\n",
      " 37  No Homeless                                2457 non-null   float64\n",
      " 38  Total Affected                             11984 non-null  float64\n",
      " 39  Reconstruction Costs ('000 US$)            33 non-null     float64\n",
      " 40  Reconstruction Costs, Adjusted ('000 US$)  33 non-null     float64\n",
      " 41  Insured Damages ('000 US$)                 1106 non-null   float64\n",
      " 42  Insured Damages, Adjusted ('000 US$)       1101 non-null   float64\n",
      " 43  Total Damages ('000 US$)                   5316 non-null   float64\n",
      " 44  Total Damages, Adjusted ('000 US$)         5266 non-null   float64\n",
      " 45  CPI                                        16133 non-null  float64\n",
      " 46  Adm Level                                  8355 non-null   object \n",
      " 47  Admin1 Code                                4941 non-null   object \n",
      " 48  Admin2 Code                                4191 non-null   object \n",
      " 49  Geo Locations                              8355 non-null   object \n",
      "dtypes: float64(18), int64(4), object(28)\n",
      "memory usage: 6.3+ MB\n"
     ]
    }
   ],
   "source": [
    "df.info()"
   ]
  },
  {
   "cell_type": "code",
   "execution_count": 580,
   "id": "57983e8c",
   "metadata": {},
   "outputs": [
    {
     "data": {
      "text/plain": [
       "Index(['Dis No', 'Year', 'Seq', 'Glide', 'Disaster Group', 'Disaster Subgroup',\n",
       "       'Disaster Type', 'Disaster Subtype', 'Disaster Subsubtype',\n",
       "       'Event Name', 'Country', 'ISO', 'Region', 'Continent', 'Location',\n",
       "       'Origin', 'Associated Dis', 'Associated Dis2', 'OFDA Response',\n",
       "       'Appeal', 'Declaration', 'AID Contribution ('000 US$)', 'Dis Mag Value',\n",
       "       'Dis Mag Scale', 'Latitude', 'Longitude', 'Local Time', 'River Basin',\n",
       "       'Start Year', 'Start Month', 'Start Day', 'End Year', 'End Month',\n",
       "       'End Day', 'Total Deaths', 'No Injured', 'No Affected', 'No Homeless',\n",
       "       'Total Affected', 'Reconstruction Costs ('000 US$)',\n",
       "       'Reconstruction Costs, Adjusted ('000 US$)',\n",
       "       'Insured Damages ('000 US$)', 'Insured Damages, Adjusted ('000 US$)',\n",
       "       'Total Damages ('000 US$)', 'Total Damages, Adjusted ('000 US$)', 'CPI',\n",
       "       'Adm Level', 'Admin1 Code', 'Admin2 Code', 'Geo Locations'],\n",
       "      dtype='object')"
      ]
     },
     "execution_count": 580,
     "metadata": {},
     "output_type": "execute_result"
    }
   ],
   "source": [
    "df.columns"
   ]
  },
  {
   "cell_type": "markdown",
   "id": "8e56ae67",
   "metadata": {},
   "source": [
    "# Data Exploration - disaster types and counts"
   ]
  },
  {
   "cell_type": "code",
   "execution_count": 581,
   "id": "e558920a",
   "metadata": {},
   "outputs": [
    {
     "data": {
      "text/plain": [
       "United States of America (the)    1117\n",
       "China                              994\n",
       "India                              758\n",
       "Philippines (the)                  679\n",
       "Indonesia                          598\n",
       "                                  ... \n",
       "Saint Barthélemy                     1\n",
       "Equatorial Guinea                    1\n",
       "Saint Martin (French Part)           1\n",
       "Isle of Man                          1\n",
       "United Arab Emirates (the)           1\n",
       "Name: Country, Length: 228, dtype: int64"
      ]
     },
     "execution_count": 581,
     "metadata": {},
     "output_type": "execute_result"
    }
   ],
   "source": [
    "df[\"Country\"].value_counts()"
   ]
  },
  {
   "cell_type": "code",
   "execution_count": 582,
   "id": "f53f8743",
   "metadata": {},
   "outputs": [
    {
     "data": {
      "text/plain": [
       "Flood                    5728\n",
       "Storm                    4576\n",
       "Earthquake               1576\n",
       "Epidemic                 1519\n",
       "Drought                   792\n",
       "Landslide                 788\n",
       "Extreme temperature       607\n",
       "Wildfire                  453\n",
       "Volcanic activity         269\n",
       "Insect infestation         95\n",
       "Mass movement (dry)        48\n",
       "Glacial lake outburst       3\n",
       "Animal accident             1\n",
       "Fog                         1\n",
       "Impact                      1\n",
       "Name: Disaster Type, dtype: int64"
      ]
     },
     "execution_count": 582,
     "metadata": {},
     "output_type": "execute_result"
    }
   ],
   "source": [
    "df[\"Disaster Type\"].value_counts()"
   ]
  },
  {
   "cell_type": "code",
   "execution_count": 583,
   "id": "b37b32d0",
   "metadata": {},
   "outputs": [
    {
     "data": {
      "text/plain": [
       "0"
      ]
     },
     "execution_count": 583,
     "metadata": {},
     "output_type": "execute_result"
    }
   ],
   "source": [
    "df[\"Disaster Type\"].isna().sum()"
   ]
  },
  {
   "cell_type": "code",
   "execution_count": 584,
   "id": "08edf601",
   "metadata": {},
   "outputs": [
    {
     "data": {
      "text/plain": [
       "count     16457\n",
       "unique       15\n",
       "top       Flood\n",
       "freq       5728\n",
       "Name: Disaster Type, dtype: object"
      ]
     },
     "execution_count": 584,
     "metadata": {},
     "output_type": "execute_result"
    }
   ],
   "source": [
    "df[\"Disaster Type\"].describe()"
   ]
  },
  {
   "cell_type": "code",
   "execution_count": 585,
   "id": "4193679e",
   "metadata": {},
   "outputs": [
    {
     "data": {
      "image/png": "[encoded data removed]",
      "text/plain": [
       "<Figure size 1080x360 with 1 Axes>"
      ]
     },
     "metadata": {
      "needs_background": "light"
     },
     "output_type": "display_data"
    }
   ],
   "source": [
    "fig, ax = plt.subplots(figsize=(15, 5))\n",
    "sns.countplot(data=df, x=df[\"Disaster Type\"])\n",
    "plt.xticks(rotation = 70)\n",
    "plt.show()"
   ]
  },
  {
   "cell_type": "markdown",
   "id": "38e0dc15",
   "metadata": {},
   "source": [
    "# Data Cleaning"
   ]
  },
  {
   "cell_type": "markdown",
   "id": "1cf1ef06",
   "metadata": {},
   "source": [
    "#### Pick out relevant columns\n"
   ]
  },
  {
   "cell_type": "code",
   "execution_count": 586,
   "id": "97482612",
   "metadata": {},
   "outputs": [
    {
     "data": {
      "text/html": [
       "<div>\n",
       "<style scoped>\n",
       "    .dataframe tbody tr th:only-of-type {\n",
       "        vertical-align: middle;\n",
       "    }\n",
       "\n",
       "    .dataframe tbody tr th {\n",
       "        vertical-align: top;\n",
       "    }\n",
       "\n",
       "    .dataframe thead th {\n",
       "        text-align: right;\n",
       "    }\n",
       "</style>\n",
       "<table border=\"1\" class=\"dataframe\">\n",
       "  <thead>\n",
       "    <tr style=\"text-align: right;\">\n",
       "      <th></th>\n",
       "      <th>Dis No</th>\n",
       "      <th>Year</th>\n",
       "      <th>Disaster Type</th>\n",
       "      <th>Disaster Subtype</th>\n",
       "      <th>Country</th>\n",
       "      <th>ISO</th>\n",
       "      <th>Region</th>\n",
       "      <th>Continent</th>\n",
       "      <th>Start Year</th>\n",
       "      <th>Start Month</th>\n",
       "      <th>End Year</th>\n",
       "      <th>End Month</th>\n",
       "      <th>Total Deaths</th>\n",
       "      <th>No Injured</th>\n",
       "      <th>No Affected</th>\n",
       "      <th>No Homeless</th>\n",
       "      <th>Total Affected</th>\n",
       "    </tr>\n",
       "  </thead>\n",
       "  <tbody>\n",
       "    <tr>\n",
       "      <th>0</th>\n",
       "      <td>1900-9002-CPV</td>\n",
       "      <td>1900</td>\n",
       "      <td>Drought</td>\n",
       "      <td>Drought</td>\n",
       "      <td>Cabo Verde</td>\n",
       "      <td>CPV</td>\n",
       "      <td>Western Africa</td>\n",
       "      <td>Africa</td>\n",
       "      <td>1900</td>\n",
       "      <td>NaN</td>\n",
       "      <td>1900</td>\n",
       "      <td>NaN</td>\n",
       "      <td>11000.0</td>\n",
       "      <td>NaN</td>\n",
       "      <td>NaN</td>\n",
       "      <td>NaN</td>\n",
       "      <td>NaN</td>\n",
       "    </tr>\n",
       "    <tr>\n",
       "      <th>1</th>\n",
       "      <td>1900-9001-IND</td>\n",
       "      <td>1900</td>\n",
       "      <td>Drought</td>\n",
       "      <td>Drought</td>\n",
       "      <td>India</td>\n",
       "      <td>IND</td>\n",
       "      <td>Southern Asia</td>\n",
       "      <td>Asia</td>\n",
       "      <td>1900</td>\n",
       "      <td>NaN</td>\n",
       "      <td>1900</td>\n",
       "      <td>NaN</td>\n",
       "      <td>1250000.0</td>\n",
       "      <td>NaN</td>\n",
       "      <td>NaN</td>\n",
       "      <td>NaN</td>\n",
       "      <td>NaN</td>\n",
       "    </tr>\n",
       "    <tr>\n",
       "      <th>2</th>\n",
       "      <td>1902-0012-GTM</td>\n",
       "      <td>1902</td>\n",
       "      <td>Earthquake</td>\n",
       "      <td>Ground movement</td>\n",
       "      <td>Guatemala</td>\n",
       "      <td>GTM</td>\n",
       "      <td>Central America</td>\n",
       "      <td>Americas</td>\n",
       "      <td>1902</td>\n",
       "      <td>4.0</td>\n",
       "      <td>1902</td>\n",
       "      <td>4.0</td>\n",
       "      <td>2000.0</td>\n",
       "      <td>NaN</td>\n",
       "      <td>NaN</td>\n",
       "      <td>NaN</td>\n",
       "      <td>NaN</td>\n",
       "    </tr>\n",
       "    <tr>\n",
       "      <th>3</th>\n",
       "      <td>1902-0003-GTM</td>\n",
       "      <td>1902</td>\n",
       "      <td>Volcanic activity</td>\n",
       "      <td>Ash fall</td>\n",
       "      <td>Guatemala</td>\n",
       "      <td>GTM</td>\n",
       "      <td>Central America</td>\n",
       "      <td>Americas</td>\n",
       "      <td>1902</td>\n",
       "      <td>4.0</td>\n",
       "      <td>1902</td>\n",
       "      <td>4.0</td>\n",
       "      <td>1000.0</td>\n",
       "      <td>NaN</td>\n",
       "      <td>NaN</td>\n",
       "      <td>NaN</td>\n",
       "      <td>NaN</td>\n",
       "    </tr>\n",
       "    <tr>\n",
       "      <th>4</th>\n",
       "      <td>1902-0010-GTM</td>\n",
       "      <td>1902</td>\n",
       "      <td>Volcanic activity</td>\n",
       "      <td>Ash fall</td>\n",
       "      <td>Guatemala</td>\n",
       "      <td>GTM</td>\n",
       "      <td>Central America</td>\n",
       "      <td>Americas</td>\n",
       "      <td>1902</td>\n",
       "      <td>10.0</td>\n",
       "      <td>1902</td>\n",
       "      <td>10.0</td>\n",
       "      <td>6000.0</td>\n",
       "      <td>NaN</td>\n",
       "      <td>NaN</td>\n",
       "      <td>NaN</td>\n",
       "      <td>NaN</td>\n",
       "    </tr>\n",
       "  </tbody>\n",
       "</table>\n",
       "</div>"
      ],
      "text/plain": [
       "          Dis No  Year      Disaster Type Disaster Subtype     Country  ISO  \\\n",
       "0  1900-9002-CPV  1900            Drought          Drought  Cabo Verde  CPV   \n",
       "1  1900-9001-IND  1900            Drought          Drought       India  IND   \n",
       "2  1902-0012-GTM  1902         Earthquake  Ground movement   Guatemala  GTM   \n",
       "3  1902-0003-GTM  1902  Volcanic activity         Ash fall   Guatemala  GTM   \n",
       "4  1902-0010-GTM  1902  Volcanic activity         Ash fall   Guatemala  GTM   \n",
       "\n",
       "            Region Continent  Start Year  Start Month  End Year  End Month  \\\n",
       "0   Western Africa    Africa        1900          NaN      1900        NaN   \n",
       "1    Southern Asia      Asia        1900          NaN      1900        NaN   \n",
       "2  Central America  Americas        1902          4.0      1902        4.0   \n",
       "3  Central America  Americas        1902          4.0      1902        4.0   \n",
       "4  Central America  Americas        1902         10.0      1902       10.0   \n",
       "\n",
       "   Total Deaths  No Injured  No Affected  No Homeless  Total Affected  \n",
       "0       11000.0         NaN          NaN          NaN             NaN  \n",
       "1     1250000.0         NaN          NaN          NaN             NaN  \n",
       "2        2000.0         NaN          NaN          NaN             NaN  \n",
       "3        1000.0         NaN          NaN          NaN             NaN  \n",
       "4        6000.0         NaN          NaN          NaN             NaN  "
      ]
     },
     "execution_count": 586,
     "metadata": {},
     "output_type": "execute_result"
    }
   ],
   "source": [
    "df_cols_reduced = df[[\n",
    "    \"Dis No\", \"Year\", \"Disaster Type\", \"Disaster Subtype\", \"Country\", \"ISO\", \"Region\", \"Continent\",\n",
    "    \"Start Year\", \"Start Month\", \"End Year\", \"End Month\",\n",
    "    \"Total Deaths\", \"No Injured\", \"No Affected\", \"No Homeless\", \"Total Affected\"\n",
    "]]\n",
    "\n",
    "df_cols_reduced.head()"
   ]
  },
  {
   "cell_type": "markdown",
   "id": "55a889c9",
   "metadata": {},
   "source": [
    "#### Check for missing values (most importantly whether there are any in the columns we will use for visualizationi.e Country, ISO, and Disaster Type)   ---> Conclusion: the most important columns have no missing values"
   ]
  },
  {
   "cell_type": "code",
   "execution_count": 587,
   "id": "c13b4073",
   "metadata": {},
   "outputs": [
    {
     "data": {
      "text/plain": [
       "Dis No                  0\n",
       "Year                    0\n",
       "Disaster Type           0\n",
       "Disaster Subtype     3262\n",
       "Country                 0\n",
       "ISO                     0\n",
       "Region                  0\n",
       "Continent               0\n",
       "Start Year              0\n",
       "Start Month           389\n",
       "End Year                0\n",
       "End Month             702\n",
       "Total Deaths         4738\n",
       "No Injured          12385\n",
       "No Affected          6918\n",
       "No Homeless         14000\n",
       "Total Affected       4473\n",
       "dtype: int64"
      ]
     },
     "execution_count": 587,
     "metadata": {},
     "output_type": "execute_result"
    }
   ],
   "source": [
    "df_cols_reduced.isna().sum()"
   ]
  },
  {
   "cell_type": "markdown",
   "id": "e07ce709",
   "metadata": {},
   "source": [
    "#### Remove rows with disasters that are not relevant to our Fire vs Flood visualization (i.e anything other than Flood, Wildfire and Drought)"
   ]
  },
  {
   "cell_type": "code",
   "execution_count": 588,
   "id": "32b0e535",
   "metadata": {},
   "outputs": [
    {
     "data": {
      "text/html": [
       "<div>\n",
       "<style scoped>\n",
       "    .dataframe tbody tr th:only-of-type {\n",
       "        vertical-align: middle;\n",
       "    }\n",
       "\n",
       "    .dataframe tbody tr th {\n",
       "        vertical-align: top;\n",
       "    }\n",
       "\n",
       "    .dataframe thead th {\n",
       "        text-align: right;\n",
       "    }\n",
       "</style>\n",
       "<table border=\"1\" class=\"dataframe\">\n",
       "  <thead>\n",
       "    <tr style=\"text-align: right;\">\n",
       "      <th></th>\n",
       "      <th>Dis No</th>\n",
       "      <th>Year</th>\n",
       "      <th>Disaster Type</th>\n",
       "      <th>Disaster Subtype</th>\n",
       "      <th>Country</th>\n",
       "      <th>ISO</th>\n",
       "      <th>Region</th>\n",
       "      <th>Continent</th>\n",
       "      <th>Start Year</th>\n",
       "      <th>Start Month</th>\n",
       "      <th>End Year</th>\n",
       "      <th>End Month</th>\n",
       "      <th>Total Deaths</th>\n",
       "      <th>No Injured</th>\n",
       "      <th>No Affected</th>\n",
       "      <th>No Homeless</th>\n",
       "      <th>Total Affected</th>\n",
       "    </tr>\n",
       "  </thead>\n",
       "  <tbody>\n",
       "    <tr>\n",
       "      <th>0</th>\n",
       "      <td>1900-9002-CPV</td>\n",
       "      <td>1900</td>\n",
       "      <td>Drought</td>\n",
       "      <td>Drought</td>\n",
       "      <td>Cabo Verde</td>\n",
       "      <td>CPV</td>\n",
       "      <td>Western Africa</td>\n",
       "      <td>Africa</td>\n",
       "      <td>1900</td>\n",
       "      <td>NaN</td>\n",
       "      <td>1900</td>\n",
       "      <td>NaN</td>\n",
       "      <td>11000.0</td>\n",
       "      <td>NaN</td>\n",
       "      <td>NaN</td>\n",
       "      <td>NaN</td>\n",
       "      <td>NaN</td>\n",
       "    </tr>\n",
       "    <tr>\n",
       "      <th>1</th>\n",
       "      <td>1900-9001-IND</td>\n",
       "      <td>1900</td>\n",
       "      <td>Drought</td>\n",
       "      <td>Drought</td>\n",
       "      <td>India</td>\n",
       "      <td>IND</td>\n",
       "      <td>Southern Asia</td>\n",
       "      <td>Asia</td>\n",
       "      <td>1900</td>\n",
       "      <td>NaN</td>\n",
       "      <td>1900</td>\n",
       "      <td>NaN</td>\n",
       "      <td>1250000.0</td>\n",
       "      <td>NaN</td>\n",
       "      <td>NaN</td>\n",
       "      <td>NaN</td>\n",
       "      <td>NaN</td>\n",
       "    </tr>\n",
       "    <tr>\n",
       "      <th>12</th>\n",
       "      <td>1906-0023-BEL</td>\n",
       "      <td>1906</td>\n",
       "      <td>Flood</td>\n",
       "      <td>NaN</td>\n",
       "      <td>Belgium</td>\n",
       "      <td>BEL</td>\n",
       "      <td>Western Europe</td>\n",
       "      <td>Europe</td>\n",
       "      <td>1906</td>\n",
       "      <td>5.0</td>\n",
       "      <td>1906</td>\n",
       "      <td>5.0</td>\n",
       "      <td>6.0</td>\n",
       "      <td>NaN</td>\n",
       "      <td>NaN</td>\n",
       "      <td>NaN</td>\n",
       "      <td>NaN</td>\n",
       "    </tr>\n",
       "    <tr>\n",
       "      <th>13</th>\n",
       "      <td>1906-0024-BEL</td>\n",
       "      <td>1906</td>\n",
       "      <td>Flood</td>\n",
       "      <td>NaN</td>\n",
       "      <td>Belgium</td>\n",
       "      <td>BEL</td>\n",
       "      <td>Western Europe</td>\n",
       "      <td>Europe</td>\n",
       "      <td>1906</td>\n",
       "      <td>4.0</td>\n",
       "      <td>1906</td>\n",
       "      <td>4.0</td>\n",
       "      <td>NaN</td>\n",
       "      <td>NaN</td>\n",
       "      <td>NaN</td>\n",
       "      <td>NaN</td>\n",
       "      <td>NaN</td>\n",
       "    </tr>\n",
       "    <tr>\n",
       "      <th>24</th>\n",
       "      <td>1910-9006-BFA</td>\n",
       "      <td>1910</td>\n",
       "      <td>Drought</td>\n",
       "      <td>Drought</td>\n",
       "      <td>Burkina Faso</td>\n",
       "      <td>BFA</td>\n",
       "      <td>Western Africa</td>\n",
       "      <td>Africa</td>\n",
       "      <td>1910</td>\n",
       "      <td>NaN</td>\n",
       "      <td>1914</td>\n",
       "      <td>NaN</td>\n",
       "      <td>NaN</td>\n",
       "      <td>NaN</td>\n",
       "      <td>NaN</td>\n",
       "      <td>NaN</td>\n",
       "      <td>NaN</td>\n",
       "    </tr>\n",
       "  </tbody>\n",
       "</table>\n",
       "</div>"
      ],
      "text/plain": [
       "           Dis No  Year Disaster Type Disaster Subtype       Country  ISO  \\\n",
       "0   1900-9002-CPV  1900       Drought          Drought    Cabo Verde  CPV   \n",
       "1   1900-9001-IND  1900       Drought          Drought         India  IND   \n",
       "12  1906-0023-BEL  1906         Flood              NaN       Belgium  BEL   \n",
       "13  1906-0024-BEL  1906         Flood              NaN       Belgium  BEL   \n",
       "24  1910-9006-BFA  1910       Drought          Drought  Burkina Faso  BFA   \n",
       "\n",
       "            Region Continent  Start Year  Start Month  End Year  End Month  \\\n",
       "0   Western Africa    Africa        1900          NaN      1900        NaN   \n",
       "1    Southern Asia      Asia        1900          NaN      1900        NaN   \n",
       "12  Western Europe    Europe        1906          5.0      1906        5.0   \n",
       "13  Western Europe    Europe        1906          4.0      1906        4.0   \n",
       "24  Western Africa    Africa        1910          NaN      1914        NaN   \n",
       "\n",
       "    Total Deaths  No Injured  No Affected  No Homeless  Total Affected  \n",
       "0        11000.0         NaN          NaN          NaN             NaN  \n",
       "1      1250000.0         NaN          NaN          NaN             NaN  \n",
       "12           6.0         NaN          NaN          NaN             NaN  \n",
       "13           NaN         NaN          NaN          NaN             NaN  \n",
       "24           NaN         NaN          NaN          NaN             NaN  "
      ]
     },
     "execution_count": 588,
     "metadata": {},
     "output_type": "execute_result"
    }
   ],
   "source": [
    "relevant_disasters = [\"Flood\", \"Wildfire\", \"Drought\"]\n",
    "df_rows_reduced = df_cols_reduced[df_cols_reduced[\"Disaster Type\"].isin(relevant_disasters)]\n",
    "df_rows_reduced.head()"
   ]
  },
  {
   "cell_type": "code",
   "execution_count": 589,
   "id": "3b451ce4",
   "metadata": {},
   "outputs": [
    {
     "data": {
      "text/plain": [
       "Flood       5728\n",
       "Drought      792\n",
       "Wildfire     453\n",
       "Name: Disaster Type, dtype: int64"
      ]
     },
     "execution_count": 589,
     "metadata": {},
     "output_type": "execute_result"
    }
   ],
   "source": [
    "df_rows_reduced[\"Disaster Type\"].value_counts()"
   ]
  },
  {
   "cell_type": "markdown",
   "id": "04a35402",
   "metadata": {},
   "source": [
    "#### Create the cleaned version of dataframe to be used for processing, analysis and visualization"
   ]
  },
  {
   "cell_type": "code",
   "execution_count": 590,
   "id": "7335aec3",
   "metadata": {},
   "outputs": [
    {
     "data": {
      "text/html": [
       "<div>\n",
       "<style scoped>\n",
       "    .dataframe tbody tr th:only-of-type {\n",
       "        vertical-align: middle;\n",
       "    }\n",
       "\n",
       "    .dataframe tbody tr th {\n",
       "        vertical-align: top;\n",
       "    }\n",
       "\n",
       "    .dataframe thead th {\n",
       "        text-align: right;\n",
       "    }\n",
       "</style>\n",
       "<table border=\"1\" class=\"dataframe\">\n",
       "  <thead>\n",
       "    <tr style=\"text-align: right;\">\n",
       "      <th></th>\n",
       "      <th>Dis No</th>\n",
       "      <th>Year</th>\n",
       "      <th>Disaster Type</th>\n",
       "      <th>Disaster Subtype</th>\n",
       "      <th>Country</th>\n",
       "      <th>ISO</th>\n",
       "      <th>Region</th>\n",
       "      <th>Continent</th>\n",
       "      <th>Start Year</th>\n",
       "      <th>Start Month</th>\n",
       "      <th>End Year</th>\n",
       "      <th>End Month</th>\n",
       "      <th>Total Deaths</th>\n",
       "      <th>No Injured</th>\n",
       "      <th>No Affected</th>\n",
       "      <th>No Homeless</th>\n",
       "      <th>Total Affected</th>\n",
       "    </tr>\n",
       "  </thead>\n",
       "  <tbody>\n",
       "    <tr>\n",
       "      <th>0</th>\n",
       "      <td>1900-9002-CPV</td>\n",
       "      <td>1900</td>\n",
       "      <td>Drought</td>\n",
       "      <td>Drought</td>\n",
       "      <td>Cabo Verde</td>\n",
       "      <td>CPV</td>\n",
       "      <td>Western Africa</td>\n",
       "      <td>Africa</td>\n",
       "      <td>1900</td>\n",
       "      <td>NaN</td>\n",
       "      <td>1900</td>\n",
       "      <td>NaN</td>\n",
       "      <td>11000.0</td>\n",
       "      <td>NaN</td>\n",
       "      <td>NaN</td>\n",
       "      <td>NaN</td>\n",
       "      <td>NaN</td>\n",
       "    </tr>\n",
       "    <tr>\n",
       "      <th>1</th>\n",
       "      <td>1900-9001-IND</td>\n",
       "      <td>1900</td>\n",
       "      <td>Drought</td>\n",
       "      <td>Drought</td>\n",
       "      <td>India</td>\n",
       "      <td>IND</td>\n",
       "      <td>Southern Asia</td>\n",
       "      <td>Asia</td>\n",
       "      <td>1900</td>\n",
       "      <td>NaN</td>\n",
       "      <td>1900</td>\n",
       "      <td>NaN</td>\n",
       "      <td>1250000.0</td>\n",
       "      <td>NaN</td>\n",
       "      <td>NaN</td>\n",
       "      <td>NaN</td>\n",
       "      <td>NaN</td>\n",
       "    </tr>\n",
       "    <tr>\n",
       "      <th>12</th>\n",
       "      <td>1906-0023-BEL</td>\n",
       "      <td>1906</td>\n",
       "      <td>Flood</td>\n",
       "      <td>NaN</td>\n",
       "      <td>Belgium</td>\n",
       "      <td>BEL</td>\n",
       "      <td>Western Europe</td>\n",
       "      <td>Europe</td>\n",
       "      <td>1906</td>\n",
       "      <td>5.0</td>\n",
       "      <td>1906</td>\n",
       "      <td>5.0</td>\n",
       "      <td>6.0</td>\n",
       "      <td>NaN</td>\n",
       "      <td>NaN</td>\n",
       "      <td>NaN</td>\n",
       "      <td>NaN</td>\n",
       "    </tr>\n",
       "    <tr>\n",
       "      <th>13</th>\n",
       "      <td>1906-0024-BEL</td>\n",
       "      <td>1906</td>\n",
       "      <td>Flood</td>\n",
       "      <td>NaN</td>\n",
       "      <td>Belgium</td>\n",
       "      <td>BEL</td>\n",
       "      <td>Western Europe</td>\n",
       "      <td>Europe</td>\n",
       "      <td>1906</td>\n",
       "      <td>4.0</td>\n",
       "      <td>1906</td>\n",
       "      <td>4.0</td>\n",
       "      <td>NaN</td>\n",
       "      <td>NaN</td>\n",
       "      <td>NaN</td>\n",
       "      <td>NaN</td>\n",
       "      <td>NaN</td>\n",
       "    </tr>\n",
       "    <tr>\n",
       "      <th>24</th>\n",
       "      <td>1910-9006-BFA</td>\n",
       "      <td>1910</td>\n",
       "      <td>Drought</td>\n",
       "      <td>Drought</td>\n",
       "      <td>Burkina Faso</td>\n",
       "      <td>BFA</td>\n",
       "      <td>Western Africa</td>\n",
       "      <td>Africa</td>\n",
       "      <td>1910</td>\n",
       "      <td>NaN</td>\n",
       "      <td>1914</td>\n",
       "      <td>NaN</td>\n",
       "      <td>NaN</td>\n",
       "      <td>NaN</td>\n",
       "      <td>NaN</td>\n",
       "      <td>NaN</td>\n",
       "      <td>NaN</td>\n",
       "    </tr>\n",
       "  </tbody>\n",
       "</table>\n",
       "</div>"
      ],
      "text/plain": [
       "           Dis No  Year Disaster Type Disaster Subtype       Country  ISO  \\\n",
       "0   1900-9002-CPV  1900       Drought          Drought    Cabo Verde  CPV   \n",
       "1   1900-9001-IND  1900       Drought          Drought         India  IND   \n",
       "12  1906-0023-BEL  1906         Flood              NaN       Belgium  BEL   \n",
       "13  1906-0024-BEL  1906         Flood              NaN       Belgium  BEL   \n",
       "24  1910-9006-BFA  1910       Drought          Drought  Burkina Faso  BFA   \n",
       "\n",
       "            Region Continent  Start Year  Start Month  End Year  End Month  \\\n",
       "0   Western Africa    Africa        1900          NaN      1900        NaN   \n",
       "1    Southern Asia      Asia        1900          NaN      1900        NaN   \n",
       "12  Western Europe    Europe        1906          5.0      1906        5.0   \n",
       "13  Western Europe    Europe        1906          4.0      1906        4.0   \n",
       "24  Western Africa    Africa        1910          NaN      1914        NaN   \n",
       "\n",
       "    Total Deaths  No Injured  No Affected  No Homeless  Total Affected  \n",
       "0        11000.0         NaN          NaN          NaN             NaN  \n",
       "1      1250000.0         NaN          NaN          NaN             NaN  \n",
       "12           6.0         NaN          NaN          NaN             NaN  \n",
       "13           NaN         NaN          NaN          NaN             NaN  \n",
       "24           NaN         NaN          NaN          NaN             NaN  "
      ]
     },
     "execution_count": 590,
     "metadata": {},
     "output_type": "execute_result"
    }
   ],
   "source": [
    "cleaned_df = df_rows_reduced\n",
    "cleaned_df.head()"
   ]
  },
  {
   "cell_type": "markdown",
   "id": "0f3ec549",
   "metadata": {},
   "source": [
    "# Data processing & visualization - Method 1 - Disaster comparison scale"
   ]
  },
  {
   "cell_type": "markdown",
   "id": "505b4059",
   "metadata": {},
   "source": [
    "### Data processing"
   ]
  },
  {
   "cell_type": "markdown",
   "id": "0d4c1ca7",
   "metadata": {},
   "source": [
    "#### Count the number of disasters by country"
   ]
  },
  {
   "cell_type": "code",
   "execution_count": 591,
   "id": "fcf54df6",
   "metadata": {},
   "outputs": [
    {
     "data": {
      "text/html": [
       "<div>\n",
       "<style scoped>\n",
       "    .dataframe tbody tr th:only-of-type {\n",
       "        vertical-align: middle;\n",
       "    }\n",
       "\n",
       "    .dataframe tbody tr th {\n",
       "        vertical-align: top;\n",
       "    }\n",
       "\n",
       "    .dataframe thead th {\n",
       "        text-align: right;\n",
       "    }\n",
       "</style>\n",
       "<table border=\"1\" class=\"dataframe\">\n",
       "  <thead>\n",
       "    <tr style=\"text-align: right;\">\n",
       "      <th></th>\n",
       "      <th>Dis No</th>\n",
       "      <th>Year</th>\n",
       "      <th>Disaster Type</th>\n",
       "      <th>Disaster Subtype</th>\n",
       "      <th>Country</th>\n",
       "      <th>ISO</th>\n",
       "      <th>Region</th>\n",
       "      <th>Continent</th>\n",
       "      <th>Start Year</th>\n",
       "      <th>Start Month</th>\n",
       "      <th>End Year</th>\n",
       "      <th>End Month</th>\n",
       "      <th>Total Deaths</th>\n",
       "      <th>No Injured</th>\n",
       "      <th>No Affected</th>\n",
       "      <th>No Homeless</th>\n",
       "      <th>Total Affected</th>\n",
       "    </tr>\n",
       "  </thead>\n",
       "  <tbody>\n",
       "    <tr>\n",
       "      <th>15134</th>\n",
       "      <td>2022-0020-BRA</td>\n",
       "      <td>2022</td>\n",
       "      <td>Flood</td>\n",
       "      <td>NaN</td>\n",
       "      <td>Brazil</td>\n",
       "      <td>BRA</td>\n",
       "      <td>South America</td>\n",
       "      <td>Americas</td>\n",
       "      <td>2022</td>\n",
       "      <td>1.0</td>\n",
       "      <td>2022</td>\n",
       "      <td>1.0</td>\n",
       "      <td>15.0</td>\n",
       "      <td>32.0</td>\n",
       "      <td>NaN</td>\n",
       "      <td>NaN</td>\n",
       "      <td>32.0</td>\n",
       "    </tr>\n",
       "    <tr>\n",
       "      <th>15135</th>\n",
       "      <td>2022-0065-BRA</td>\n",
       "      <td>2022</td>\n",
       "      <td>Flood</td>\n",
       "      <td>NaN</td>\n",
       "      <td>Brazil</td>\n",
       "      <td>BRA</td>\n",
       "      <td>South America</td>\n",
       "      <td>Americas</td>\n",
       "      <td>2022</td>\n",
       "      <td>1.0</td>\n",
       "      <td>2022</td>\n",
       "      <td>2.0</td>\n",
       "      <td>35.0</td>\n",
       "      <td>12.0</td>\n",
       "      <td>3000.0</td>\n",
       "      <td>NaN</td>\n",
       "      <td>3012.0</td>\n",
       "    </tr>\n",
       "    <tr>\n",
       "      <th>15136</th>\n",
       "      <td>2022-0089-BRA</td>\n",
       "      <td>2022</td>\n",
       "      <td>Flood</td>\n",
       "      <td>NaN</td>\n",
       "      <td>Brazil</td>\n",
       "      <td>BRA</td>\n",
       "      <td>South America</td>\n",
       "      <td>Americas</td>\n",
       "      <td>2022</td>\n",
       "      <td>2.0</td>\n",
       "      <td>2022</td>\n",
       "      <td>2.0</td>\n",
       "      <td>272.0</td>\n",
       "      <td>197.0</td>\n",
       "      <td>15000.0</td>\n",
       "      <td>886.0</td>\n",
       "      <td>16083.0</td>\n",
       "    </tr>\n",
       "    <tr>\n",
       "      <th>15137</th>\n",
       "      <td>2022-0109-COL</td>\n",
       "      <td>2022</td>\n",
       "      <td>Flood</td>\n",
       "      <td>NaN</td>\n",
       "      <td>Colombia</td>\n",
       "      <td>COL</td>\n",
       "      <td>South America</td>\n",
       "      <td>Americas</td>\n",
       "      <td>2022</td>\n",
       "      <td>2.0</td>\n",
       "      <td>2022</td>\n",
       "      <td>2.0</td>\n",
       "      <td>1.0</td>\n",
       "      <td>NaN</td>\n",
       "      <td>1650.0</td>\n",
       "      <td>NaN</td>\n",
       "      <td>1650.0</td>\n",
       "    </tr>\n",
       "    <tr>\n",
       "      <th>15142</th>\n",
       "      <td>2022-0105-ARG</td>\n",
       "      <td>2022</td>\n",
       "      <td>Wildfire</td>\n",
       "      <td>NaN</td>\n",
       "      <td>Argentina</td>\n",
       "      <td>ARG</td>\n",
       "      <td>South America</td>\n",
       "      <td>Americas</td>\n",
       "      <td>2022</td>\n",
       "      <td>1.0</td>\n",
       "      <td>2022</td>\n",
       "      <td>3.0</td>\n",
       "      <td>NaN</td>\n",
       "      <td>NaN</td>\n",
       "      <td>124085.0</td>\n",
       "      <td>NaN</td>\n",
       "      <td>124085.0</td>\n",
       "    </tr>\n",
       "  </tbody>\n",
       "</table>\n",
       "</div>"
      ],
      "text/plain": [
       "              Dis No  Year Disaster Type Disaster Subtype    Country  ISO  \\\n",
       "15134  2022-0020-BRA  2022         Flood              NaN     Brazil  BRA   \n",
       "15135  2022-0065-BRA  2022         Flood              NaN     Brazil  BRA   \n",
       "15136  2022-0089-BRA  2022         Flood              NaN     Brazil  BRA   \n",
       "15137  2022-0109-COL  2022         Flood              NaN   Colombia  COL   \n",
       "15142  2022-0105-ARG  2022      Wildfire              NaN  Argentina  ARG   \n",
       "\n",
       "              Region Continent  Start Year  Start Month  End Year  End Month  \\\n",
       "15134  South America  Americas        2022          1.0      2022        1.0   \n",
       "15135  South America  Americas        2022          1.0      2022        2.0   \n",
       "15136  South America  Americas        2022          2.0      2022        2.0   \n",
       "15137  South America  Americas        2022          2.0      2022        2.0   \n",
       "15142  South America  Americas        2022          1.0      2022        3.0   \n",
       "\n",
       "       Total Deaths  No Injured  No Affected  No Homeless  Total Affected  \n",
       "15134          15.0        32.0          NaN          NaN            32.0  \n",
       "15135          35.0        12.0       3000.0          NaN          3012.0  \n",
       "15136         272.0       197.0      15000.0        886.0         16083.0  \n",
       "15137           1.0         NaN       1650.0          NaN          1650.0  \n",
       "15142           NaN         NaN     124085.0          NaN        124085.0  "
      ]
     },
     "execution_count": 591,
     "metadata": {},
     "output_type": "execute_result"
    }
   ],
   "source": [
    "# Filter out a few (recent) years for analysis\n",
    "# chosen_years = [2018, 2019, 2020, 2021, 2022]\n",
    "chosen_years = [2022]\n",
    "cleaned_df_subset = cleaned_df[cleaned_df[\"Year\"].isin(chosen_years)]\n",
    "cleaned_df_subset.head()"
   ]
  },
  {
   "cell_type": "code",
   "execution_count": 592,
   "id": "7af678c5",
   "metadata": {},
   "outputs": [
    {
     "data": {
      "text/plain": [
       "2022    167\n",
       "Name: Year, dtype: int64"
      ]
     },
     "execution_count": 592,
     "metadata": {},
     "output_type": "execute_result"
    }
   ],
   "source": [
    "cleaned_df_subset[\"Year\"].value_counts()"
   ]
  },
  {
   "cell_type": "markdown",
   "id": "97318710",
   "metadata": {},
   "source": [
    "#### Introducing an idea we came up with: a comparison scale for disasters to allow us compare floods vs drought & wildfires \n",
    "Floods are marked with -1 while drought & wildfires are marked with +1. Later, when each country's data is summed up, it will allow us to see, at a glance, whether floods or drought & wildfires are more prevalent in a country in a given year"
   ]
  },
  {
   "cell_type": "code",
   "execution_count": 593,
   "id": "fc2fd8cc",
   "metadata": {},
   "outputs": [
    {
     "name": "stderr",
     "output_type": "stream",
     "text": [
      "/var/folders/32/t8k4f_4d55nds458_sr5k_d80000gn/T/ipykernel_29562/4150874711.py:2: SettingWithCopyWarning:\n",
      "\n",
      "\n",
      "A value is trying to be set on a copy of a slice from a DataFrame.\n",
      "Try using .loc[row_indexer,col_indexer] = value instead\n",
      "\n",
      "See the caveats in the documentation: https://pandas.pydata.org/pandas-docs/stable/user_guide/indexing.html#returning-a-view-versus-a-copy\n",
      "\n"
     ]
    },
    {
     "data": {
      "text/html": [
       "<div>\n",
       "<style scoped>\n",
       "    .dataframe tbody tr th:only-of-type {\n",
       "        vertical-align: middle;\n",
       "    }\n",
       "\n",
       "    .dataframe tbody tr th {\n",
       "        vertical-align: top;\n",
       "    }\n",
       "\n",
       "    .dataframe thead th {\n",
       "        text-align: right;\n",
       "    }\n",
       "</style>\n",
       "<table border=\"1\" class=\"dataframe\">\n",
       "  <thead>\n",
       "    <tr style=\"text-align: right;\">\n",
       "      <th></th>\n",
       "      <th>Dis No</th>\n",
       "      <th>Year</th>\n",
       "      <th>Disaster Type</th>\n",
       "      <th>Disaster Subtype</th>\n",
       "      <th>Country</th>\n",
       "      <th>ISO</th>\n",
       "      <th>Region</th>\n",
       "      <th>Continent</th>\n",
       "      <th>Start Year</th>\n",
       "      <th>Start Month</th>\n",
       "      <th>End Year</th>\n",
       "      <th>End Month</th>\n",
       "      <th>Total Deaths</th>\n",
       "      <th>No Injured</th>\n",
       "      <th>No Affected</th>\n",
       "      <th>No Homeless</th>\n",
       "      <th>Total Affected</th>\n",
       "      <th>Disaster Comparison Scale</th>\n",
       "    </tr>\n",
       "  </thead>\n",
       "  <tbody>\n",
       "    <tr>\n",
       "      <th>15134</th>\n",
       "      <td>2022-0020-BRA</td>\n",
       "      <td>2022</td>\n",
       "      <td>Flood</td>\n",
       "      <td>NaN</td>\n",
       "      <td>Brazil</td>\n",
       "      <td>BRA</td>\n",
       "      <td>South America</td>\n",
       "      <td>Americas</td>\n",
       "      <td>2022</td>\n",
       "      <td>1.0</td>\n",
       "      <td>2022</td>\n",
       "      <td>1.0</td>\n",
       "      <td>15.0</td>\n",
       "      <td>32.0</td>\n",
       "      <td>NaN</td>\n",
       "      <td>NaN</td>\n",
       "      <td>32.0</td>\n",
       "      <td>-1</td>\n",
       "    </tr>\n",
       "    <tr>\n",
       "      <th>15135</th>\n",
       "      <td>2022-0065-BRA</td>\n",
       "      <td>2022</td>\n",
       "      <td>Flood</td>\n",
       "      <td>NaN</td>\n",
       "      <td>Brazil</td>\n",
       "      <td>BRA</td>\n",
       "      <td>South America</td>\n",
       "      <td>Americas</td>\n",
       "      <td>2022</td>\n",
       "      <td>1.0</td>\n",
       "      <td>2022</td>\n",
       "      <td>2.0</td>\n",
       "      <td>35.0</td>\n",
       "      <td>12.0</td>\n",
       "      <td>3000.0</td>\n",
       "      <td>NaN</td>\n",
       "      <td>3012.0</td>\n",
       "      <td>-1</td>\n",
       "    </tr>\n",
       "    <tr>\n",
       "      <th>15136</th>\n",
       "      <td>2022-0089-BRA</td>\n",
       "      <td>2022</td>\n",
       "      <td>Flood</td>\n",
       "      <td>NaN</td>\n",
       "      <td>Brazil</td>\n",
       "      <td>BRA</td>\n",
       "      <td>South America</td>\n",
       "      <td>Americas</td>\n",
       "      <td>2022</td>\n",
       "      <td>2.0</td>\n",
       "      <td>2022</td>\n",
       "      <td>2.0</td>\n",
       "      <td>272.0</td>\n",
       "      <td>197.0</td>\n",
       "      <td>15000.0</td>\n",
       "      <td>886.0</td>\n",
       "      <td>16083.0</td>\n",
       "      <td>-1</td>\n",
       "    </tr>\n",
       "    <tr>\n",
       "      <th>15137</th>\n",
       "      <td>2022-0109-COL</td>\n",
       "      <td>2022</td>\n",
       "      <td>Flood</td>\n",
       "      <td>NaN</td>\n",
       "      <td>Colombia</td>\n",
       "      <td>COL</td>\n",
       "      <td>South America</td>\n",
       "      <td>Americas</td>\n",
       "      <td>2022</td>\n",
       "      <td>2.0</td>\n",
       "      <td>2022</td>\n",
       "      <td>2.0</td>\n",
       "      <td>1.0</td>\n",
       "      <td>NaN</td>\n",
       "      <td>1650.0</td>\n",
       "      <td>NaN</td>\n",
       "      <td>1650.0</td>\n",
       "      <td>-1</td>\n",
       "    </tr>\n",
       "    <tr>\n",
       "      <th>15142</th>\n",
       "      <td>2022-0105-ARG</td>\n",
       "      <td>2022</td>\n",
       "      <td>Wildfire</td>\n",
       "      <td>NaN</td>\n",
       "      <td>Argentina</td>\n",
       "      <td>ARG</td>\n",
       "      <td>South America</td>\n",
       "      <td>Americas</td>\n",
       "      <td>2022</td>\n",
       "      <td>1.0</td>\n",
       "      <td>2022</td>\n",
       "      <td>3.0</td>\n",
       "      <td>NaN</td>\n",
       "      <td>NaN</td>\n",
       "      <td>124085.0</td>\n",
       "      <td>NaN</td>\n",
       "      <td>124085.0</td>\n",
       "      <td>1</td>\n",
       "    </tr>\n",
       "  </tbody>\n",
       "</table>\n",
       "</div>"
      ],
      "text/plain": [
       "              Dis No  Year Disaster Type Disaster Subtype    Country  ISO  \\\n",
       "15134  2022-0020-BRA  2022         Flood              NaN     Brazil  BRA   \n",
       "15135  2022-0065-BRA  2022         Flood              NaN     Brazil  BRA   \n",
       "15136  2022-0089-BRA  2022         Flood              NaN     Brazil  BRA   \n",
       "15137  2022-0109-COL  2022         Flood              NaN   Colombia  COL   \n",
       "15142  2022-0105-ARG  2022      Wildfire              NaN  Argentina  ARG   \n",
       "\n",
       "              Region Continent  Start Year  Start Month  End Year  End Month  \\\n",
       "15134  South America  Americas        2022          1.0      2022        1.0   \n",
       "15135  South America  Americas        2022          1.0      2022        2.0   \n",
       "15136  South America  Americas        2022          2.0      2022        2.0   \n",
       "15137  South America  Americas        2022          2.0      2022        2.0   \n",
       "15142  South America  Americas        2022          1.0      2022        3.0   \n",
       "\n",
       "       Total Deaths  No Injured  No Affected  No Homeless  Total Affected  \\\n",
       "15134          15.0        32.0          NaN          NaN            32.0   \n",
       "15135          35.0        12.0       3000.0          NaN          3012.0   \n",
       "15136         272.0       197.0      15000.0        886.0         16083.0   \n",
       "15137           1.0         NaN       1650.0          NaN          1650.0   \n",
       "15142           NaN         NaN     124085.0          NaN        124085.0   \n",
       "\n",
       "       Disaster Comparison Scale  \n",
       "15134                         -1  \n",
       "15135                         -1  \n",
       "15136                         -1  \n",
       "15137                         -1  \n",
       "15142                          1  "
      ]
     },
     "execution_count": 593,
     "metadata": {},
     "output_type": "execute_result"
    }
   ],
   "source": [
    "# Trying out the use of a scale: -1 for Flood and 1 for Wildfire/Drought\n",
    "cleaned_df_subset[\"Disaster Comparison Scale\"] = cleaned_df_subset[\"Disaster Type\"].apply(lambda x: -1 if x==\"Flood\" else 1)\n",
    "cleaned_df_subset.head()"
   ]
  },
  {
   "cell_type": "markdown",
   "id": "6b5ff5ff",
   "metadata": {},
   "source": [
    "#### Grouping data by country"
   ]
  },
  {
   "cell_type": "code",
   "execution_count": 594,
   "id": "0a4b0545",
   "metadata": {},
   "outputs": [
    {
     "data": {
      "text/plain": [
       "<pandas.core.groupby.generic.DataFrameGroupBy object at 0x282106520>"
      ]
     },
     "execution_count": 594,
     "metadata": {},
     "output_type": "execute_result"
    }
   ],
   "source": [
    "group_by_object = cleaned_df_subset.groupby([\"Country\"], sort=False)\n",
    "group_by_object"
   ]
  },
  {
   "cell_type": "code",
   "execution_count": 595,
   "id": "cc999e47",
   "metadata": {},
   "outputs": [
    {
     "data": {
      "text/html": [
       "<div>\n",
       "<style scoped>\n",
       "    .dataframe tbody tr th:only-of-type {\n",
       "        vertical-align: middle;\n",
       "    }\n",
       "\n",
       "    .dataframe tbody tr th {\n",
       "        vertical-align: top;\n",
       "    }\n",
       "\n",
       "    .dataframe thead th {\n",
       "        text-align: right;\n",
       "    }\n",
       "</style>\n",
       "<table border=\"1\" class=\"dataframe\">\n",
       "  <thead>\n",
       "    <tr style=\"text-align: right;\">\n",
       "      <th></th>\n",
       "      <th>Year</th>\n",
       "      <th>Start Year</th>\n",
       "      <th>Start Month</th>\n",
       "      <th>End Year</th>\n",
       "      <th>End Month</th>\n",
       "      <th>Total Deaths</th>\n",
       "      <th>No Injured</th>\n",
       "      <th>No Affected</th>\n",
       "      <th>No Homeless</th>\n",
       "      <th>Total Affected</th>\n",
       "      <th>Disaster Comparison Scale</th>\n",
       "    </tr>\n",
       "    <tr>\n",
       "      <th>Country</th>\n",
       "      <th></th>\n",
       "      <th></th>\n",
       "      <th></th>\n",
       "      <th></th>\n",
       "      <th></th>\n",
       "      <th></th>\n",
       "      <th></th>\n",
       "      <th></th>\n",
       "      <th></th>\n",
       "      <th></th>\n",
       "      <th></th>\n",
       "    </tr>\n",
       "  </thead>\n",
       "  <tbody>\n",
       "    <tr>\n",
       "      <th>Brazil</th>\n",
       "      <td>16176</td>\n",
       "      <td>16176</td>\n",
       "      <td>28.0</td>\n",
       "      <td>16176</td>\n",
       "      <td>29.0</td>\n",
       "      <td>478.0</td>\n",
       "      <td>245.0</td>\n",
       "      <td>177600.0</td>\n",
       "      <td>886.0</td>\n",
       "      <td>178731.0</td>\n",
       "      <td>-8</td>\n",
       "    </tr>\n",
       "    <tr>\n",
       "      <th>Colombia</th>\n",
       "      <td>16176</td>\n",
       "      <td>16176</td>\n",
       "      <td>40.0</td>\n",
       "      <td>16176</td>\n",
       "      <td>43.0</td>\n",
       "      <td>57.0</td>\n",
       "      <td>40.0</td>\n",
       "      <td>202500.0</td>\n",
       "      <td>0.0</td>\n",
       "      <td>202540.0</td>\n",
       "      <td>-8</td>\n",
       "    </tr>\n",
       "    <tr>\n",
       "      <th>Argentina</th>\n",
       "      <td>2022</td>\n",
       "      <td>2022</td>\n",
       "      <td>1.0</td>\n",
       "      <td>2022</td>\n",
       "      <td>3.0</td>\n",
       "      <td>0.0</td>\n",
       "      <td>0.0</td>\n",
       "      <td>124085.0</td>\n",
       "      <td>0.0</td>\n",
       "      <td>124085.0</td>\n",
       "      <td>1</td>\n",
       "    </tr>\n",
       "    <tr>\n",
       "      <th>Australia</th>\n",
       "      <td>10110</td>\n",
       "      <td>10110</td>\n",
       "      <td>23.0</td>\n",
       "      <td>10110</td>\n",
       "      <td>24.0</td>\n",
       "      <td>31.0</td>\n",
       "      <td>12.0</td>\n",
       "      <td>162800.0</td>\n",
       "      <td>0.0</td>\n",
       "      <td>162812.0</td>\n",
       "      <td>-5</td>\n",
       "    </tr>\n",
       "    <tr>\n",
       "      <th>Bolivia (Plurinational State of)</th>\n",
       "      <td>2022</td>\n",
       "      <td>2022</td>\n",
       "      <td>2.0</td>\n",
       "      <td>2022</td>\n",
       "      <td>2.0</td>\n",
       "      <td>60.0</td>\n",
       "      <td>0.0</td>\n",
       "      <td>375000.0</td>\n",
       "      <td>0.0</td>\n",
       "      <td>375000.0</td>\n",
       "      <td>-1</td>\n",
       "    </tr>\n",
       "    <tr>\n",
       "      <th>...</th>\n",
       "      <td>...</td>\n",
       "      <td>...</td>\n",
       "      <td>...</td>\n",
       "      <td>...</td>\n",
       "      <td>...</td>\n",
       "      <td>...</td>\n",
       "      <td>...</td>\n",
       "      <td>...</td>\n",
       "      <td>...</td>\n",
       "      <td>...</td>\n",
       "      <td>...</td>\n",
       "    </tr>\n",
       "    <tr>\n",
       "      <th>Tunisia</th>\n",
       "      <td>2022</td>\n",
       "      <td>2022</td>\n",
       "      <td>3.0</td>\n",
       "      <td>2022</td>\n",
       "      <td>3.0</td>\n",
       "      <td>1.0</td>\n",
       "      <td>0.0</td>\n",
       "      <td>4000.0</td>\n",
       "      <td>0.0</td>\n",
       "      <td>4000.0</td>\n",
       "      <td>-1</td>\n",
       "    </tr>\n",
       "    <tr>\n",
       "      <th>Tanzania, United Republic of</th>\n",
       "      <td>2022</td>\n",
       "      <td>2022</td>\n",
       "      <td>4.0</td>\n",
       "      <td>2022</td>\n",
       "      <td>5.0</td>\n",
       "      <td>10.0</td>\n",
       "      <td>0.0</td>\n",
       "      <td>0.0</td>\n",
       "      <td>1500.0</td>\n",
       "      <td>1500.0</td>\n",
       "      <td>-1</td>\n",
       "    </tr>\n",
       "    <tr>\n",
       "      <th>Venezuela (Bolivarian Republic of)</th>\n",
       "      <td>8088</td>\n",
       "      <td>8088</td>\n",
       "      <td>31.0</td>\n",
       "      <td>8088</td>\n",
       "      <td>34.0</td>\n",
       "      <td>24.0</td>\n",
       "      <td>0.0</td>\n",
       "      <td>90800.0</td>\n",
       "      <td>0.0</td>\n",
       "      <td>90800.0</td>\n",
       "      <td>-4</td>\n",
       "    </tr>\n",
       "    <tr>\n",
       "      <th>Yemen</th>\n",
       "      <td>6066</td>\n",
       "      <td>6066</td>\n",
       "      <td>21.0</td>\n",
       "      <td>6066</td>\n",
       "      <td>22.0</td>\n",
       "      <td>90.0</td>\n",
       "      <td>0.0</td>\n",
       "      <td>219400.0</td>\n",
       "      <td>0.0</td>\n",
       "      <td>219400.0</td>\n",
       "      <td>-3</td>\n",
       "    </tr>\n",
       "    <tr>\n",
       "      <th>South Sudan</th>\n",
       "      <td>2022</td>\n",
       "      <td>2022</td>\n",
       "      <td>8.0</td>\n",
       "      <td>2022</td>\n",
       "      <td>10.0</td>\n",
       "      <td>0.0</td>\n",
       "      <td>0.0</td>\n",
       "      <td>900000.0</td>\n",
       "      <td>0.0</td>\n",
       "      <td>900000.0</td>\n",
       "      <td>-1</td>\n",
       "    </tr>\n",
       "  </tbody>\n",
       "</table>\n",
       "<p>79 rows × 11 columns</p>\n",
       "</div>"
      ],
      "text/plain": [
       "                                     Year  Start Year  Start Month  End Year  \\\n",
       "Country                                                                        \n",
       "Brazil                              16176       16176         28.0     16176   \n",
       "Colombia                            16176       16176         40.0     16176   \n",
       "Argentina                            2022        2022          1.0      2022   \n",
       "Australia                           10110       10110         23.0     10110   \n",
       "Bolivia (Plurinational State of)     2022        2022          2.0      2022   \n",
       "...                                   ...         ...          ...       ...   \n",
       "Tunisia                              2022        2022          3.0      2022   \n",
       "Tanzania, United Republic of         2022        2022          4.0      2022   \n",
       "Venezuela (Bolivarian Republic of)   8088        8088         31.0      8088   \n",
       "Yemen                                6066        6066         21.0      6066   \n",
       "South Sudan                          2022        2022          8.0      2022   \n",
       "\n",
       "                                    End Month  Total Deaths  No Injured  \\\n",
       "Country                                                                   \n",
       "Brazil                                   29.0         478.0       245.0   \n",
       "Colombia                                 43.0          57.0        40.0   \n",
       "Argentina                                 3.0           0.0         0.0   \n",
       "Australia                                24.0          31.0        12.0   \n",
       "Bolivia (Plurinational State of)          2.0          60.0         0.0   \n",
       "...                                       ...           ...         ...   \n",
       "Tunisia                                   3.0           1.0         0.0   \n",
       "Tanzania, United Republic of              5.0          10.0         0.0   \n",
       "Venezuela (Bolivarian Republic of)       34.0          24.0         0.0   \n",
       "Yemen                                    22.0          90.0         0.0   \n",
       "South Sudan                              10.0           0.0         0.0   \n",
       "\n",
       "                                    No Affected  No Homeless  Total Affected  \\\n",
       "Country                                                                        \n",
       "Brazil                                 177600.0        886.0        178731.0   \n",
       "Colombia                               202500.0          0.0        202540.0   \n",
       "Argentina                              124085.0          0.0        124085.0   \n",
       "Australia                              162800.0          0.0        162812.0   \n",
       "Bolivia (Plurinational State of)       375000.0          0.0        375000.0   \n",
       "...                                         ...          ...             ...   \n",
       "Tunisia                                  4000.0          0.0          4000.0   \n",
       "Tanzania, United Republic of                0.0       1500.0          1500.0   \n",
       "Venezuela (Bolivarian Republic of)      90800.0          0.0         90800.0   \n",
       "Yemen                                  219400.0          0.0        219400.0   \n",
       "South Sudan                            900000.0          0.0        900000.0   \n",
       "\n",
       "                                    Disaster Comparison Scale  \n",
       "Country                                                        \n",
       "Brazil                                                     -8  \n",
       "Colombia                                                   -8  \n",
       "Argentina                                                   1  \n",
       "Australia                                                  -5  \n",
       "Bolivia (Plurinational State of)                           -1  \n",
       "...                                                       ...  \n",
       "Tunisia                                                    -1  \n",
       "Tanzania, United Republic of                               -1  \n",
       "Venezuela (Bolivarian Republic of)                         -4  \n",
       "Yemen                                                      -3  \n",
       "South Sudan                                                -1  \n",
       "\n",
       "[79 rows x 11 columns]"
      ]
     },
     "execution_count": 595,
     "metadata": {},
     "output_type": "execute_result"
    }
   ],
   "source": [
    "aggregated_df = group_by_object.agg(\"sum\")\n",
    "aggregated_df"
   ]
  },
  {
   "cell_type": "code",
   "execution_count": 596,
   "id": "5d6552bc",
   "metadata": {},
   "outputs": [
    {
     "data": {
      "text/plain": [
       "-8.0"
      ]
     },
     "execution_count": 596,
     "metadata": {},
     "output_type": "execute_result"
    }
   ],
   "source": [
    "aggregated_df.loc[\"Indonesia\"][\"Disaster Comparison Scale\"]"
   ]
  },
  {
   "cell_type": "code",
   "execution_count": 597,
   "id": "c7f199fd",
   "metadata": {},
   "outputs": [
    {
     "name": "stdout",
     "output_type": "stream",
     "text": [
      "Flood    8\n",
      "Name: Disaster Type, dtype: int64\n"
     ]
    }
   ],
   "source": [
    "country = \"Indonesia\"\n",
    "country_data = group_by_object.get_group(country)[\"Disaster Type\"].value_counts()\n",
    "print(country_data)"
   ]
  },
  {
   "cell_type": "code",
   "execution_count": 598,
   "id": "a7e6983a",
   "metadata": {},
   "outputs": [
    {
     "name": "stdout",
     "output_type": "stream",
     "text": [
      "Brazil:\n",
      "Flood    8\n",
      "Name: Disaster Type, dtype: int64\n",
      "Colombia:\n",
      "Flood    8\n",
      "Name: Disaster Type, dtype: int64\n",
      "Argentina:\n",
      "Wildfire    1\n",
      "Name: Disaster Type, dtype: int64\n",
      "Australia:\n",
      "Flood    5\n",
      "Name: Disaster Type, dtype: int64\n",
      "Bolivia (Plurinational State of):\n",
      "Flood    1\n",
      "Name: Disaster Type, dtype: int64\n",
      "Dominican Republic (the):\n",
      "Flood    1\n",
      "Name: Disaster Type, dtype: int64\n",
      "Madagascar:\n",
      "Flood    1\n",
      "Name: Disaster Type, dtype: int64\n",
      "Ecuador:\n",
      "Flood    5\n",
      "Name: Disaster Type, dtype: int64\n",
      "Indonesia:\n",
      "Flood    8\n",
      "Name: Disaster Type, dtype: int64\n",
      "Peru:\n",
      "Flood    1\n",
      "Name: Disaster Type, dtype: int64\n",
      "Honduras:\n",
      "Flood    2\n",
      "Name: Disaster Type, dtype: int64\n",
      "Haiti:\n",
      "Flood    2\n",
      "Name: Disaster Type, dtype: int64\n",
      "Iran (Islamic Republic of):\n",
      "Flood    3\n",
      "Name: Disaster Type, dtype: int64\n",
      "Korea (the Republic of):\n",
      "Wildfire    1\n",
      "Flood       1\n",
      "Name: Disaster Type, dtype: int64\n",
      "Marshall Islands (the):\n",
      "Drought    1\n",
      "Name: Disaster Type, dtype: int64\n",
      "Malaysia:\n",
      "Flood    3\n",
      "Name: Disaster Type, dtype: int64\n",
      "Georgia:\n",
      "Flood    1\n",
      "Name: Disaster Type, dtype: int64\n",
      "Sri Lanka:\n",
      "Flood    2\n",
      "Name: Disaster Type, dtype: int64\n",
      "India:\n",
      "Flood    3\n",
      "Name: Disaster Type, dtype: int64\n",
      "Rwanda:\n",
      "Flood    2\n",
      "Name: Disaster Type, dtype: int64\n",
      "Uganda:\n",
      "Flood      2\n",
      "Drought    1\n",
      "Name: Disaster Type, dtype: int64\n",
      "Afghanistan:\n",
      "Flood    4\n",
      "Name: Disaster Type, dtype: int64\n",
      "China:\n",
      "Flood      4\n",
      "Drought    1\n",
      "Name: Disaster Type, dtype: int64\n",
      "Côte d’Ivoire:\n",
      "Flood    1\n",
      "Name: Disaster Type, dtype: int64\n",
      "Guatemala:\n",
      "Flood    1\n",
      "Name: Disaster Type, dtype: int64\n",
      "Lao People's Democratic Republic (the):\n",
      "Flood    1\n",
      "Name: Disaster Type, dtype: int64\n",
      "Central African Republic:\n",
      "Wildfire    1\n",
      "Flood       1\n",
      "Name: Disaster Type, dtype: int64\n",
      "Gambia (the):\n",
      "Flood    1\n",
      "Name: Disaster Type, dtype: int64\n",
      "Cabo Verde:\n",
      "Drought    1\n",
      "Name: Disaster Type, dtype: int64\n",
      "Djibouti:\n",
      "Drought    1\n",
      "Name: Disaster Type, dtype: int64\n",
      "Thailand:\n",
      "Flood    7\n",
      "Name: Disaster Type, dtype: int64\n",
      "Uruguay:\n",
      "Flood    1\n",
      "Name: Disaster Type, dtype: int64\n",
      "United States of America (the):\n",
      "Wildfire    5\n",
      "Flood       3\n",
      "Drought     1\n",
      "Name: Disaster Type, dtype: int64\n",
      "South Africa:\n",
      "Flood    7\n",
      "Name: Disaster Type, dtype: int64\n",
      "Zambia:\n",
      "Flood    1\n",
      "Name: Disaster Type, dtype: int64\n",
      "Zimbabwe:\n",
      "Flood    1\n",
      "Name: Disaster Type, dtype: int64\n",
      "Benin:\n",
      "Flood    1\n",
      "Name: Disaster Type, dtype: int64\n",
      "Bangladesh:\n",
      "Flood    1\n",
      "Name: Disaster Type, dtype: int64\n",
      "Bulgaria:\n",
      "Flood    1\n",
      "Name: Disaster Type, dtype: int64\n",
      "Canada:\n",
      "Flood    2\n",
      "Name: Disaster Type, dtype: int64\n",
      "Cuba:\n",
      "Flood    1\n",
      "Name: Disaster Type, dtype: int64\n",
      "Algeria:\n",
      "Wildfire    1\n",
      "Name: Disaster Type, dtype: int64\n",
      "Spain:\n",
      "Wildfire    1\n",
      "Name: Disaster Type, dtype: int64\n",
      "Ethiopia:\n",
      "Drought    1\n",
      "Name: Disaster Type, dtype: int64\n",
      "France:\n",
      "Drought    1\n",
      "Name: Disaster Type, dtype: int64\n",
      "United Kingdom of Great Britain and Northern Ireland (the):\n",
      "Drought    1\n",
      "Name: Disaster Type, dtype: int64\n",
      "Ghana:\n",
      "Flood    1\n",
      "Name: Disaster Type, dtype: int64\n",
      "Guinea:\n",
      "Flood    1\n",
      "Name: Disaster Type, dtype: int64\n",
      "Greece:\n",
      "Wildfire    1\n",
      "Name: Disaster Type, dtype: int64\n",
      "Guyana:\n",
      "Flood    1\n",
      "Name: Disaster Type, dtype: int64\n",
      "Italy:\n",
      "Drought    1\n",
      "Name: Disaster Type, dtype: int64\n",
      "Japan:\n",
      "Flood    1\n",
      "Name: Disaster Type, dtype: int64\n",
      "Cambodia:\n",
      "Flood    1\n",
      "Name: Disaster Type, dtype: int64\n",
      "Mexico:\n",
      "Flood    2\n",
      "Name: Disaster Type, dtype: int64\n",
      "Mali:\n",
      "Flood    1\n",
      "Name: Disaster Type, dtype: int64\n",
      "Mongolia:\n",
      "Flood    1\n",
      "Name: Disaster Type, dtype: int64\n",
      "Mauritania:\n",
      "Flood    1\n",
      "Name: Disaster Type, dtype: int64\n",
      "Pakistan:\n",
      "Wildfire    1\n",
      "Flood       1\n",
      "Name: Disaster Type, dtype: int64\n",
      "Philippines (the):\n",
      "Flood    1\n",
      "Name: Disaster Type, dtype: int64\n",
      "Portugal:\n",
      "Wildfire    1\n",
      "Drought     1\n",
      "Name: Disaster Type, dtype: int64\n",
      "Niger (the):\n",
      "Flood      1\n",
      "Drought    1\n",
      "Name: Disaster Type, dtype: int64\n",
      "Nepal:\n",
      "Flood    2\n",
      "Name: Disaster Type, dtype: int64\n",
      "Sierra Leone:\n",
      "Flood    1\n",
      "Name: Disaster Type, dtype: int64\n",
      "Turkey:\n",
      "Flood    3\n",
      "Name: Disaster Type, dtype: int64\n",
      "Uzbekistan:\n",
      "Flood    1\n",
      "Name: Disaster Type, dtype: int64\n",
      "Viet Nam:\n",
      "Flood    4\n",
      "Name: Disaster Type, dtype: int64\n",
      "Congo (the Democratic Republic of the):\n",
      "Flood    1\n",
      "Name: Disaster Type, dtype: int64\n",
      "Somalia:\n",
      "Flood    1\n",
      "Name: Disaster Type, dtype: int64\n",
      "Chad:\n",
      "Flood      1\n",
      "Drought    1\n",
      "Name: Disaster Type, dtype: int64\n",
      "Nigeria:\n",
      "Flood    1\n",
      "Name: Disaster Type, dtype: int64\n",
      "Russian Federation (the):\n",
      "Wildfire    1\n",
      "Flood       1\n",
      "Name: Disaster Type, dtype: int64\n",
      "Sudan (the):\n",
      "Flood    1\n",
      "Name: Disaster Type, dtype: int64\n",
      "Senegal:\n",
      "Flood    1\n",
      "Name: Disaster Type, dtype: int64\n",
      "Suriname:\n",
      "Flood    1\n",
      "Name: Disaster Type, dtype: int64\n",
      "Tunisia:\n",
      "Flood    1\n",
      "Name: Disaster Type, dtype: int64\n",
      "Tanzania, United Republic of:\n",
      "Flood    1\n",
      "Name: Disaster Type, dtype: int64\n",
      "Venezuela (Bolivarian Republic of):\n",
      "Flood    4\n",
      "Name: Disaster Type, dtype: int64\n",
      "Yemen:\n",
      "Flood    3\n",
      "Name: Disaster Type, dtype: int64\n",
      "South Sudan:\n",
      "Flood    1\n",
      "Name: Disaster Type, dtype: int64\n"
     ]
    }
   ],
   "source": [
    "# quick check through distaster ocurrence counts for all countries\n",
    "for country_name, country_df in group_by_object:\n",
    "    print(f\"{country_name}:\") \n",
    "    print(f\"{country_df['Disaster Type'].value_counts()}\")\n",
    "    # break"
   ]
  },
  {
   "cell_type": "markdown",
   "id": "0c8c3d59",
   "metadata": {},
   "source": [
    "#### Extract the disaster comparison scale"
   ]
  },
  {
   "cell_type": "code",
   "execution_count": 599,
   "id": "c89b31be",
   "metadata": {},
   "outputs": [
    {
     "data": {
      "text/plain": [
       "Country\n",
       "Brazil                               -8\n",
       "Colombia                             -8\n",
       "Argentina                             1\n",
       "Australia                            -5\n",
       "Bolivia (Plurinational State of)     -1\n",
       "                                     ..\n",
       "Tunisia                              -1\n",
       "Tanzania, United Republic of         -1\n",
       "Venezuela (Bolivarian Republic of)   -4\n",
       "Yemen                                -3\n",
       "South Sudan                          -1\n",
       "Name: Disaster Comparison Scale, Length: 79, dtype: int64"
      ]
     },
     "execution_count": 599,
     "metadata": {},
     "output_type": "execute_result"
    }
   ],
   "source": [
    "comparison_scale = aggregated_df[\"Disaster Comparison Scale\"]\n",
    "comparison_scale"
   ]
  },
  {
   "cell_type": "code",
   "execution_count": 600,
   "id": "da113d96",
   "metadata": {},
   "outputs": [
    {
     "data": {
      "text/plain": [
       "-1    37\n",
       " 1    11\n",
       "-2     7\n",
       "-3     6\n",
       " 0     6\n",
       "-4     3\n",
       "-8     3\n",
       "-5     2\n",
       "-7     2\n",
       " 2     1\n",
       " 3     1\n",
       "Name: Disaster Comparison Scale, dtype: int64"
      ]
     },
     "execution_count": 600,
     "metadata": {},
     "output_type": "execute_result"
    }
   ],
   "source": [
    "comparison_scale.value_counts()"
   ]
  },
  {
   "cell_type": "code",
   "execution_count": 601,
   "id": "2ad1d492",
   "metadata": {},
   "outputs": [],
   "source": [
    "comparison_scale_dict = comparison_scale.to_dict()"
   ]
  },
  {
   "cell_type": "markdown",
   "id": "302d32db",
   "metadata": {},
   "source": [
    "#### It seems that most countries have more floods than drought/wildfires. Extracting the countries that have more drought/wildfires to see which ones they are"
   ]
  },
  {
   "cell_type": "code",
   "execution_count": 602,
   "id": "407bc96a",
   "metadata": {},
   "outputs": [
    {
     "data": {
      "text/plain": [
       "Country\n",
       "Argentina                                                     1\n",
       "Marshall Islands (the)                                        1\n",
       "Cabo Verde                                                    1\n",
       "Djibouti                                                      1\n",
       "United States of America (the)                                3\n",
       "Algeria                                                       1\n",
       "Spain                                                         1\n",
       "Ethiopia                                                      1\n",
       "France                                                        1\n",
       "United Kingdom of Great Britain and Northern Ireland (the)    1\n",
       "Greece                                                        1\n",
       "Italy                                                         1\n",
       "Portugal                                                      2\n",
       "Name: Disaster Comparison Scale, dtype: int64"
      ]
     },
     "execution_count": 602,
     "metadata": {},
     "output_type": "execute_result"
    }
   ],
   "source": [
    "aggregated_df[aggregated_df[\"Disaster Comparison Scale\"] > 0][\"Disaster Comparison Scale\"]"
   ]
  },
  {
   "cell_type": "markdown",
   "id": "3a3dd6eb",
   "metadata": {},
   "source": [
    "### Visualization"
   ]
  },
  {
   "cell_type": "markdown",
   "id": "53f36d42",
   "metadata": {},
   "source": [
    "#### Choropleth Map"
   ]
  },
  {
   "cell_type": "markdown",
   "id": "9602bd35",
   "metadata": {},
   "source": [
    "#### Add comparison scale values back to \"reduced\" dataset"
   ]
  },
  {
   "cell_type": "code",
   "execution_count": 603,
   "id": "fbbc804d",
   "metadata": {},
   "outputs": [
    {
     "name": "stderr",
     "output_type": "stream",
     "text": [
      "/var/folders/32/t8k4f_4d55nds458_sr5k_d80000gn/T/ipykernel_29562/3168745512.py:1: SettingWithCopyWarning:\n",
      "\n",
      "\n",
      "A value is trying to be set on a copy of a slice from a DataFrame.\n",
      "Try using .loc[row_indexer,col_indexer] = value instead\n",
      "\n",
      "See the caveats in the documentation: https://pandas.pydata.org/pandas-docs/stable/user_guide/indexing.html#returning-a-view-versus-a-copy\n",
      "\n"
     ]
    },
    {
     "data": {
      "text/html": [
       "<div>\n",
       "<style scoped>\n",
       "    .dataframe tbody tr th:only-of-type {\n",
       "        vertical-align: middle;\n",
       "    }\n",
       "\n",
       "    .dataframe tbody tr th {\n",
       "        vertical-align: top;\n",
       "    }\n",
       "\n",
       "    .dataframe thead th {\n",
       "        text-align: right;\n",
       "    }\n",
       "</style>\n",
       "<table border=\"1\" class=\"dataframe\">\n",
       "  <thead>\n",
       "    <tr style=\"text-align: right;\">\n",
       "      <th></th>\n",
       "      <th>Dis No</th>\n",
       "      <th>Year</th>\n",
       "      <th>Disaster Type</th>\n",
       "      <th>Disaster Subtype</th>\n",
       "      <th>Country</th>\n",
       "      <th>ISO</th>\n",
       "      <th>Region</th>\n",
       "      <th>Continent</th>\n",
       "      <th>Start Year</th>\n",
       "      <th>Start Month</th>\n",
       "      <th>End Year</th>\n",
       "      <th>End Month</th>\n",
       "      <th>Total Deaths</th>\n",
       "      <th>No Injured</th>\n",
       "      <th>No Affected</th>\n",
       "      <th>No Homeless</th>\n",
       "      <th>Total Affected</th>\n",
       "      <th>Disaster Comparison Scale</th>\n",
       "      <th>Final Disaster Comparison Scale</th>\n",
       "    </tr>\n",
       "  </thead>\n",
       "  <tbody>\n",
       "    <tr>\n",
       "      <th>15134</th>\n",
       "      <td>2022-0020-BRA</td>\n",
       "      <td>2022</td>\n",
       "      <td>Flood</td>\n",
       "      <td>NaN</td>\n",
       "      <td>Brazil</td>\n",
       "      <td>BRA</td>\n",
       "      <td>South America</td>\n",
       "      <td>Americas</td>\n",
       "      <td>2022</td>\n",
       "      <td>1.0</td>\n",
       "      <td>2022</td>\n",
       "      <td>1.0</td>\n",
       "      <td>15.0</td>\n",
       "      <td>32.0</td>\n",
       "      <td>NaN</td>\n",
       "      <td>NaN</td>\n",
       "      <td>32.0</td>\n",
       "      <td>-1</td>\n",
       "      <td>-8.0</td>\n",
       "    </tr>\n",
       "    <tr>\n",
       "      <th>15135</th>\n",
       "      <td>2022-0065-BRA</td>\n",
       "      <td>2022</td>\n",
       "      <td>Flood</td>\n",
       "      <td>NaN</td>\n",
       "      <td>Brazil</td>\n",
       "      <td>BRA</td>\n",
       "      <td>South America</td>\n",
       "      <td>Americas</td>\n",
       "      <td>2022</td>\n",
       "      <td>1.0</td>\n",
       "      <td>2022</td>\n",
       "      <td>2.0</td>\n",
       "      <td>35.0</td>\n",
       "      <td>12.0</td>\n",
       "      <td>3000.0</td>\n",
       "      <td>NaN</td>\n",
       "      <td>3012.0</td>\n",
       "      <td>-1</td>\n",
       "      <td>-8.0</td>\n",
       "    </tr>\n",
       "    <tr>\n",
       "      <th>15136</th>\n",
       "      <td>2022-0089-BRA</td>\n",
       "      <td>2022</td>\n",
       "      <td>Flood</td>\n",
       "      <td>NaN</td>\n",
       "      <td>Brazil</td>\n",
       "      <td>BRA</td>\n",
       "      <td>South America</td>\n",
       "      <td>Americas</td>\n",
       "      <td>2022</td>\n",
       "      <td>2.0</td>\n",
       "      <td>2022</td>\n",
       "      <td>2.0</td>\n",
       "      <td>272.0</td>\n",
       "      <td>197.0</td>\n",
       "      <td>15000.0</td>\n",
       "      <td>886.0</td>\n",
       "      <td>16083.0</td>\n",
       "      <td>-1</td>\n",
       "      <td>-8.0</td>\n",
       "    </tr>\n",
       "    <tr>\n",
       "      <th>15137</th>\n",
       "      <td>2022-0109-COL</td>\n",
       "      <td>2022</td>\n",
       "      <td>Flood</td>\n",
       "      <td>NaN</td>\n",
       "      <td>Colombia</td>\n",
       "      <td>COL</td>\n",
       "      <td>South America</td>\n",
       "      <td>Americas</td>\n",
       "      <td>2022</td>\n",
       "      <td>2.0</td>\n",
       "      <td>2022</td>\n",
       "      <td>2.0</td>\n",
       "      <td>1.0</td>\n",
       "      <td>NaN</td>\n",
       "      <td>1650.0</td>\n",
       "      <td>NaN</td>\n",
       "      <td>1650.0</td>\n",
       "      <td>-1</td>\n",
       "      <td>-8.0</td>\n",
       "    </tr>\n",
       "    <tr>\n",
       "      <th>15142</th>\n",
       "      <td>2022-0105-ARG</td>\n",
       "      <td>2022</td>\n",
       "      <td>Wildfire</td>\n",
       "      <td>NaN</td>\n",
       "      <td>Argentina</td>\n",
       "      <td>ARG</td>\n",
       "      <td>South America</td>\n",
       "      <td>Americas</td>\n",
       "      <td>2022</td>\n",
       "      <td>1.0</td>\n",
       "      <td>2022</td>\n",
       "      <td>3.0</td>\n",
       "      <td>NaN</td>\n",
       "      <td>NaN</td>\n",
       "      <td>124085.0</td>\n",
       "      <td>NaN</td>\n",
       "      <td>124085.0</td>\n",
       "      <td>1</td>\n",
       "      <td>1.0</td>\n",
       "    </tr>\n",
       "    <tr>\n",
       "      <th>15143</th>\n",
       "      <td>2022-0046-AUS</td>\n",
       "      <td>2022</td>\n",
       "      <td>Flood</td>\n",
       "      <td>NaN</td>\n",
       "      <td>Australia</td>\n",
       "      <td>AUS</td>\n",
       "      <td>Australia and New Zealand</td>\n",
       "      <td>Oceania</td>\n",
       "      <td>2022</td>\n",
       "      <td>1.0</td>\n",
       "      <td>2022</td>\n",
       "      <td>1.0</td>\n",
       "      <td>2.0</td>\n",
       "      <td>NaN</td>\n",
       "      <td>200.0</td>\n",
       "      <td>NaN</td>\n",
       "      <td>200.0</td>\n",
       "      <td>-1</td>\n",
       "      <td>-5.0</td>\n",
       "    </tr>\n",
       "    <tr>\n",
       "      <th>15144</th>\n",
       "      <td>2022-0103-AUS</td>\n",
       "      <td>2022</td>\n",
       "      <td>Flood</td>\n",
       "      <td>NaN</td>\n",
       "      <td>Australia</td>\n",
       "      <td>AUS</td>\n",
       "      <td>Australia and New Zealand</td>\n",
       "      <td>Oceania</td>\n",
       "      <td>2022</td>\n",
       "      <td>2.0</td>\n",
       "      <td>2022</td>\n",
       "      <td>3.0</td>\n",
       "      <td>22.0</td>\n",
       "      <td>NaN</td>\n",
       "      <td>54000.0</td>\n",
       "      <td>NaN</td>\n",
       "      <td>54000.0</td>\n",
       "      <td>-1</td>\n",
       "      <td>-5.0</td>\n",
       "    </tr>\n",
       "    <tr>\n",
       "      <th>15146</th>\n",
       "      <td>2022-0102-BOL</td>\n",
       "      <td>2022</td>\n",
       "      <td>Flood</td>\n",
       "      <td>NaN</td>\n",
       "      <td>Bolivia (Plurinational State of)</td>\n",
       "      <td>BOL</td>\n",
       "      <td>South America</td>\n",
       "      <td>Americas</td>\n",
       "      <td>2022</td>\n",
       "      <td>2.0</td>\n",
       "      <td>2022</td>\n",
       "      <td>2.0</td>\n",
       "      <td>60.0</td>\n",
       "      <td>NaN</td>\n",
       "      <td>375000.0</td>\n",
       "      <td>NaN</td>\n",
       "      <td>375000.0</td>\n",
       "      <td>-1</td>\n",
       "      <td>-1.0</td>\n",
       "    </tr>\n",
       "    <tr>\n",
       "      <th>15156</th>\n",
       "      <td>2022-0130-DOM</td>\n",
       "      <td>2022</td>\n",
       "      <td>Flood</td>\n",
       "      <td>Flash flood</td>\n",
       "      <td>Dominican Republic (the)</td>\n",
       "      <td>DOM</td>\n",
       "      <td>Caribbean</td>\n",
       "      <td>Americas</td>\n",
       "      <td>2022</td>\n",
       "      <td>3.0</td>\n",
       "      <td>2022</td>\n",
       "      <td>3.0</td>\n",
       "      <td>NaN</td>\n",
       "      <td>NaN</td>\n",
       "      <td>210.0</td>\n",
       "      <td>NaN</td>\n",
       "      <td>210.0</td>\n",
       "      <td>-1</td>\n",
       "      <td>-1.0</td>\n",
       "    </tr>\n",
       "    <tr>\n",
       "      <th>15726</th>\n",
       "      <td>2022-0032-MDG</td>\n",
       "      <td>2022</td>\n",
       "      <td>Flood</td>\n",
       "      <td>NaN</td>\n",
       "      <td>Madagascar</td>\n",
       "      <td>MDG</td>\n",
       "      <td>Eastern Africa</td>\n",
       "      <td>Africa</td>\n",
       "      <td>2022</td>\n",
       "      <td>1.0</td>\n",
       "      <td>2022</td>\n",
       "      <td>1.0</td>\n",
       "      <td>34.0</td>\n",
       "      <td>2.0</td>\n",
       "      <td>62112.0</td>\n",
       "      <td>NaN</td>\n",
       "      <td>62114.0</td>\n",
       "      <td>-1</td>\n",
       "      <td>-1.0</td>\n",
       "    </tr>\n",
       "  </tbody>\n",
       "</table>\n",
       "</div>"
      ],
      "text/plain": [
       "              Dis No  Year Disaster Type Disaster Subtype  \\\n",
       "15134  2022-0020-BRA  2022         Flood              NaN   \n",
       "15135  2022-0065-BRA  2022         Flood              NaN   \n",
       "15136  2022-0089-BRA  2022         Flood              NaN   \n",
       "15137  2022-0109-COL  2022         Flood              NaN   \n",
       "15142  2022-0105-ARG  2022      Wildfire              NaN   \n",
       "15143  2022-0046-AUS  2022         Flood              NaN   \n",
       "15144  2022-0103-AUS  2022         Flood              NaN   \n",
       "15146  2022-0102-BOL  2022         Flood              NaN   \n",
       "15156  2022-0130-DOM  2022         Flood      Flash flood   \n",
       "15726  2022-0032-MDG  2022         Flood              NaN   \n",
       "\n",
       "                                Country  ISO                     Region  \\\n",
       "15134                            Brazil  BRA              South America   \n",
       "15135                            Brazil  BRA              South America   \n",
       "15136                            Brazil  BRA              South America   \n",
       "15137                          Colombia  COL              South America   \n",
       "15142                         Argentina  ARG              South America   \n",
       "15143                         Australia  AUS  Australia and New Zealand   \n",
       "15144                         Australia  AUS  Australia and New Zealand   \n",
       "15146  Bolivia (Plurinational State of)  BOL              South America   \n",
       "15156          Dominican Republic (the)  DOM                  Caribbean   \n",
       "15726                        Madagascar  MDG             Eastern Africa   \n",
       "\n",
       "      Continent  Start Year  Start Month  End Year  End Month  Total Deaths  \\\n",
       "15134  Americas        2022          1.0      2022        1.0          15.0   \n",
       "15135  Americas        2022          1.0      2022        2.0          35.0   \n",
       "15136  Americas        2022          2.0      2022        2.0         272.0   \n",
       "15137  Americas        2022          2.0      2022        2.0           1.0   \n",
       "15142  Americas        2022          1.0      2022        3.0           NaN   \n",
       "15143   Oceania        2022          1.0      2022        1.0           2.0   \n",
       "15144   Oceania        2022          2.0      2022        3.0          22.0   \n",
       "15146  Americas        2022          2.0      2022        2.0          60.0   \n",
       "15156  Americas        2022          3.0      2022        3.0           NaN   \n",
       "15726    Africa        2022          1.0      2022        1.0          34.0   \n",
       "\n",
       "       No Injured  No Affected  No Homeless  Total Affected  \\\n",
       "15134        32.0          NaN          NaN            32.0   \n",
       "15135        12.0       3000.0          NaN          3012.0   \n",
       "15136       197.0      15000.0        886.0         16083.0   \n",
       "15137         NaN       1650.0          NaN          1650.0   \n",
       "15142         NaN     124085.0          NaN        124085.0   \n",
       "15143         NaN        200.0          NaN           200.0   \n",
       "15144         NaN      54000.0          NaN         54000.0   \n",
       "15146         NaN     375000.0          NaN        375000.0   \n",
       "15156         NaN        210.0          NaN           210.0   \n",
       "15726         2.0      62112.0          NaN         62114.0   \n",
       "\n",
       "       Disaster Comparison Scale  Final Disaster Comparison Scale  \n",
       "15134                         -1                             -8.0  \n",
       "15135                         -1                             -8.0  \n",
       "15136                         -1                             -8.0  \n",
       "15137                         -1                             -8.0  \n",
       "15142                          1                              1.0  \n",
       "15143                         -1                             -5.0  \n",
       "15144                         -1                             -5.0  \n",
       "15146                         -1                             -1.0  \n",
       "15156                         -1                             -1.0  \n",
       "15726                         -1                             -1.0  "
      ]
     },
     "execution_count": 603,
     "metadata": {},
     "output_type": "execute_result"
    }
   ],
   "source": [
    "cleaned_df_subset[\"Final Disaster Comparison Scale\"] = df[\"Country\"].map(comparison_scale_dict)\n",
    "cleaned_df_subset.head(10)"
   ]
  },
  {
   "cell_type": "markdown",
   "id": "a35ac51e",
   "metadata": {},
   "source": [
    "#### Visualization (finally!)"
   ]
  },
  {
   "cell_type": "code",
   "execution_count": 604,
   "id": "369becd2",
   "metadata": {},
   "outputs": [
    {
     "data": {
      "application/vnd.plotly.v1+json": {
       "config": {
        "plotlyServerURL": "https://plot.ly"
       },
       "data": [
        {
         "colorbar": {
          "title": {
           "text": "Wildfire/Drought vs Floods <br>(2022)"
          }
         },
         "colorscale": [
          [
           0,
           "rgb(103,0,31)"
          ],
          [
           0.1,
           "rgb(178,24,43)"
          ],
          [
           0.2,
           "rgb(214,96,77)"
          ],
          [
           0.3,
           "rgb(244,165,130)"
          ],
          [
           0.4,
           "rgb(253,219,199)"
          ],
          [
           0.5,
           "rgb(247,247,247)"
          ],
          [
           0.6,
           "rgb(209,229,240)"
          ],
          [
           0.7,
           "rgb(146,197,222)"
          ],
          [
           0.8,
           "rgb(67,147,195)"
          ],
          [
           0.9,
           "rgb(33,102,172)"
          ],
          [
           1,
           "rgb(5,48,97)"
          ]
         ],
         "locations": [
          "BRA",
          "BRA",
          "BRA",
          "COL",
          "ARG",
          "AUS",
          "AUS",
          "BOL",
          "DOM",
          "MDG",
          "ECU",
          "IDN",
          "IDN",
          "PER",
          "ECU",
          "HND",
          "HTI",
          "HTI",
          "IDN",
          "IDN",
          "IRN",
          "IRN",
          "KOR",
          "MHL",
          "MYS",
          "MYS",
          "IDN",
          "GEO",
          "LKA",
          "IND",
          "RWA",
          "UGA",
          "AFG",
          "AFG",
          "BRA",
          "BRA",
          "BRA",
          "CHN",
          "CHN",
          "CHN",
          "CIV",
          "COL",
          "COL",
          "COL",
          "COL",
          "COL",
          "COL",
          "ECU",
          "ECU",
          "GTM",
          "IDN",
          "IDN",
          "IDN",
          "IND",
          "IRN",
          "LAO",
          "COL",
          "CAF",
          "GMB",
          "CHN",
          "CPV",
          "DJI",
          "THA",
          "URY",
          "USA",
          "ZAF",
          "ZAF",
          "ZAF",
          "ZAF",
          "ZMB",
          "ZWE",
          "AFG",
          "AFG",
          "AUS",
          "AUS",
          "AUS",
          "BEN",
          "BGD",
          "BGR",
          "BRA",
          "BRA",
          "CAF",
          "CAN",
          "CAN",
          "CHN",
          "CUB",
          "DZA",
          "ECU",
          "ESP",
          "ETH",
          "FRA",
          "GBR",
          "GHA",
          "GIN",
          "GRC",
          "GUY",
          "HND",
          "IND",
          "ITA",
          "JPN",
          "KHM",
          "KOR",
          "LKA",
          "MEX",
          "MEX",
          "MLI",
          "MNG",
          "MRT",
          "MYS",
          "PAK",
          "PHL",
          "PRT",
          "NER",
          "NPL",
          "NPL",
          "RWA",
          "SLE",
          "TUR",
          "USA",
          "UZB",
          "VNM",
          "VNM",
          "VNM",
          "ZAF",
          "COD",
          "SOM",
          "PRT",
          "USA",
          "NER",
          "TCD",
          "UGA",
          "NGA",
          "PAK",
          "RUS",
          "RUS",
          "SDN",
          "SEN",
          "SUR",
          "TCD",
          "THA",
          "THA",
          "THA",
          "THA",
          "THA",
          "THA",
          "TUN",
          "TUR",
          "TUR",
          "TZA",
          "UGA",
          "USA",
          "USA",
          "USA",
          "USA",
          "USA",
          "USA",
          "VEN",
          "VEN",
          "VEN",
          "VEN",
          "VNM",
          "YEM",
          "YEM",
          "YEM",
          "ZAF",
          "ZAF",
          "SSD"
         ],
         "marker": {
          "line": {
           "color": "darkgray",
           "width": 0.5
          }
         },
         "reversescale": true,
         "text": [
          "Brazil",
          "Brazil",
          "Brazil",
          "Colombia",
          "Argentina",
          "Australia",
          "Australia",
          "Bolivia (Plurinational State of)",
          "Dominican Republic (the)",
          "Madagascar",
          "Ecuador",
          "Indonesia",
          "Indonesia",
          "Peru",
          "Ecuador",
          "Honduras",
          "Haiti",
          "Haiti",
          "Indonesia",
          "Indonesia",
          "Iran (Islamic Republic of)",
          "Iran (Islamic Republic of)",
          "Korea (the Republic of)",
          "Marshall Islands (the)",
          "Malaysia",
          "Malaysia",
          "Indonesia",
          "Georgia",
          "Sri Lanka",
          "India",
          "Rwanda",
          "Uganda",
          "Afghanistan",
          "Afghanistan",
          "Brazil",
          "Brazil",
          "Brazil",
          "China",
          "China",
          "China",
          "Côte d’Ivoire",
          "Colombia",
          "Colombia",
          "Colombia",
          "Colombia",
          "Colombia",
          "Colombia",
          "Ecuador",
          "Ecuador",
          "Guatemala",
          "Indonesia",
          "Indonesia",
          "Indonesia",
          "India",
          "Iran (Islamic Republic of)",
          "Lao People's Democratic Republic (the)",
          "Colombia",
          "Central African Republic",
          "Gambia (the)",
          "China",
          "Cabo Verde",
          "Djibouti",
          "Thailand",
          "Uruguay",
          "United States of America (the)",
          "South Africa",
          "South Africa",
          "South Africa",
          "South Africa",
          "Zambia",
          "Zimbabwe",
          "Afghanistan",
          "Afghanistan",
          "Australia",
          "Australia",
          "Australia",
          "Benin",
          "Bangladesh",
          "Bulgaria",
          "Brazil",
          "Brazil",
          "Central African Republic",
          "Canada",
          "Canada",
          "China",
          "Cuba",
          "Algeria",
          "Ecuador",
          "Spain",
          "Ethiopia",
          "France",
          "United Kingdom of Great Britain and Northern Ireland (the)",
          "Ghana",
          "Guinea",
          "Greece",
          "Guyana",
          "Honduras",
          "India",
          "Italy",
          "Japan",
          "Cambodia",
          "Korea (the Republic of)",
          "Sri Lanka",
          "Mexico",
          "Mexico",
          "Mali",
          "Mongolia",
          "Mauritania",
          "Malaysia",
          "Pakistan",
          "Philippines (the)",
          "Portugal",
          "Niger (the)",
          "Nepal",
          "Nepal",
          "Rwanda",
          "Sierra Leone",
          "Turkey",
          "United States of America (the)",
          "Uzbekistan",
          "Viet Nam",
          "Viet Nam",
          "Viet Nam",
          "South Africa",
          "Congo (the Democratic Republic of the)",
          "Somalia",
          "Portugal",
          "United States of America (the)",
          "Niger (the)",
          "Chad",
          "Uganda",
          "Nigeria",
          "Pakistan",
          "Russian Federation (the)",
          "Russian Federation (the)",
          "Sudan (the)",
          "Senegal",
          "Suriname",
          "Chad",
          "Thailand",
          "Thailand",
          "Thailand",
          "Thailand",
          "Thailand",
          "Thailand",
          "Tunisia",
          "Turkey",
          "Turkey",
          "Tanzania, United Republic of",
          "Uganda",
          "United States of America (the)",
          "United States of America (the)",
          "United States of America (the)",
          "United States of America (the)",
          "United States of America (the)",
          "United States of America (the)",
          "Venezuela (Bolivarian Republic of)",
          "Venezuela (Bolivarian Republic of)",
          "Venezuela (Bolivarian Republic of)",
          "Venezuela (Bolivarian Republic of)",
          "Viet Nam",
          "Yemen",
          "Yemen",
          "Yemen",
          "South Africa",
          "South Africa",
          "South Sudan"
         ],
         "type": "choropleth",
         "z": [
          -8,
          -8,
          -8,
          -8,
          1,
          -5,
          -5,
          -1,
          -1,
          -1,
          -5,
          -8,
          -8,
          -1,
          -5,
          -2,
          -2,
          -2,
          -8,
          -8,
          -3,
          -3,
          0,
          1,
          -3,
          -3,
          -8,
          -1,
          -2,
          -3,
          -2,
          -1,
          -4,
          -4,
          -8,
          -8,
          -8,
          -3,
          -3,
          -3,
          -1,
          -8,
          -8,
          -8,
          -8,
          -8,
          -8,
          -5,
          -5,
          -1,
          -8,
          -8,
          -8,
          -3,
          -3,
          -1,
          -8,
          0,
          -1,
          -3,
          1,
          1,
          -7,
          -1,
          3,
          -7,
          -7,
          -7,
          -7,
          -1,
          -1,
          -4,
          -4,
          -5,
          -5,
          -5,
          -1,
          -1,
          -1,
          -8,
          -8,
          0,
          -2,
          -2,
          -3,
          -1,
          1,
          -5,
          1,
          1,
          1,
          1,
          -1,
          -1,
          1,
          -1,
          -2,
          -3,
          1,
          -1,
          -1,
          0,
          -2,
          -2,
          -2,
          -1,
          -1,
          -1,
          -3,
          0,
          -1,
          2,
          0,
          -2,
          -2,
          -2,
          -1,
          -3,
          3,
          -1,
          -4,
          -4,
          -4,
          -7,
          -1,
          -1,
          2,
          3,
          0,
          0,
          -1,
          -1,
          0,
          0,
          0,
          -1,
          -1,
          -1,
          0,
          -7,
          -7,
          -7,
          -7,
          -7,
          -7,
          -1,
          -3,
          -3,
          -1,
          -1,
          3,
          3,
          3,
          3,
          3,
          3,
          -4,
          -4,
          -4,
          -4,
          -4,
          -3,
          -3,
          -3,
          -7,
          -7,
          -1
         ]
        }
       ],
       "layout": {
        "geo": {
         "showcoastlines": false,
         "showframe": false
        },
        "template": {
         "data": {
          "bar": [
           {
            "error_x": {
             "color": "#2a3f5f"
            },
            "error_y": {
             "color": "#2a3f5f"
            },
            "marker": {
             "line": {
              "color": "#E5ECF6",
              "width": 0.5
             }
            },
            "type": "bar"
           }
          ],
          "barpolar": [
           {
            "marker": {
             "line": {
              "color": "#E5ECF6",
              "width": 0.5
             }
            },
            "type": "barpolar"
           }
          ],
          "carpet": [
           {
            "aaxis": {
             "endlinecolor": "#2a3f5f",
             "gridcolor": "white",
             "linecolor": "white",
             "minorgridcolor": "white",
             "startlinecolor": "#2a3f5f"
            },
            "baxis": {
             "endlinecolor": "#2a3f5f",
             "gridcolor": "white",
             "linecolor": "white",
             "minorgridcolor": "white",
             "startlinecolor": "#2a3f5f"
            },
            "type": "carpet"
           }
          ],
          "choropleth": [
           {
            "colorbar": {
             "outlinewidth": 0,
             "ticks": ""
            },
            "type": "choropleth"
           }
          ],
          "contour": [
           {
            "colorbar": {
             "outlinewidth": 0,
             "ticks": ""
            },
            "colorscale": [
             [
              0,
              "#0d0887"
             ],
             [
              0.1111111111111111,
              "#46039f"
             ],
             [
              0.2222222222222222,
              "#7201a8"
             ],
             [
              0.3333333333333333,
              "#9c179e"
             ],
             [
              0.4444444444444444,
              "#bd3786"
             ],
             [
              0.5555555555555556,
              "#d8576b"
             ],
             [
              0.6666666666666666,
              "#ed7953"
             ],
             [
              0.7777777777777778,
              "#fb9f3a"
             ],
             [
              0.8888888888888888,
              "#fdca26"
             ],
             [
              1,
              "#f0f921"
             ]
            ],
            "type": "contour"
           }
          ],
          "contourcarpet": [
           {
            "colorbar": {
             "outlinewidth": 0,
             "ticks": ""
            },
            "type": "contourcarpet"
           }
          ],
          "heatmap": [
           {
            "colorbar": {
             "outlinewidth": 0,
             "ticks": ""
            },
            "colorscale": [
             [
              0,
              "#0d0887"
             ],
             [
              0.1111111111111111,
              "#46039f"
             ],
             [
              0.2222222222222222,
              "#7201a8"
             ],
             [
              0.3333333333333333,
              "#9c179e"
             ],
             [
              0.4444444444444444,
              "#bd3786"
             ],
             [
              0.5555555555555556,
              "#d8576b"
             ],
             [
              0.6666666666666666,
              "#ed7953"
             ],
             [
              0.7777777777777778,
              "#fb9f3a"
             ],
             [
              0.8888888888888888,
              "#fdca26"
             ],
             [
              1,
              "#f0f921"
             ]
            ],
            "type": "heatmap"
           }
          ],
          "heatmapgl": [
           {
            "colorbar": {
             "outlinewidth": 0,
             "ticks": ""
            },
            "colorscale": [
             [
              0,
              "#0d0887"
             ],
             [
              0.1111111111111111,
              "#46039f"
             ],
             [
              0.2222222222222222,
              "#7201a8"
             ],
             [
              0.3333333333333333,
              "#9c179e"
             ],
             [
              0.4444444444444444,
              "#bd3786"
             ],
             [
              0.5555555555555556,
              "#d8576b"
             ],
             [
              0.6666666666666666,
              "#ed7953"
             ],
             [
              0.7777777777777778,
              "#fb9f3a"
             ],
             [
              0.8888888888888888,
              "#fdca26"
             ],
             [
              1,
              "#f0f921"
             ]
            ],
            "type": "heatmapgl"
           }
          ],
          "histogram": [
           {
            "marker": {
             "colorbar": {
              "outlinewidth": 0,
              "ticks": ""
             }
            },
            "type": "histogram"
           }
          ],
          "histogram2d": [
           {
            "colorbar": {
             "outlinewidth": 0,
             "ticks": ""
            },
            "colorscale": [
             [
              0,
              "#0d0887"
             ],
             [
              0.1111111111111111,
              "#46039f"
             ],
             [
              0.2222222222222222,
              "#7201a8"
             ],
             [
              0.3333333333333333,
              "#9c179e"
             ],
             [
              0.4444444444444444,
              "#bd3786"
             ],
             [
              0.5555555555555556,
              "#d8576b"
             ],
             [
              0.6666666666666666,
              "#ed7953"
             ],
             [
              0.7777777777777778,
              "#fb9f3a"
             ],
             [
              0.8888888888888888,
              "#fdca26"
             ],
             [
              1,
              "#f0f921"
             ]
            ],
            "type": "histogram2d"
           }
          ],
          "histogram2dcontour": [
           {
            "colorbar": {
             "outlinewidth": 0,
             "ticks": ""
            },
            "colorscale": [
             [
              0,
              "#0d0887"
             ],
             [
              0.1111111111111111,
              "#46039f"
             ],
             [
              0.2222222222222222,
              "#7201a8"
             ],
             [
              0.3333333333333333,
              "#9c179e"
             ],
             [
              0.4444444444444444,
              "#bd3786"
             ],
             [
              0.5555555555555556,
              "#d8576b"
             ],
             [
              0.6666666666666666,
              "#ed7953"
             ],
             [
              0.7777777777777778,
              "#fb9f3a"
             ],
             [
              0.8888888888888888,
              "#fdca26"
             ],
             [
              1,
              "#f0f921"
             ]
            ],
            "type": "histogram2dcontour"
           }
          ],
          "mesh3d": [
           {
            "colorbar": {
             "outlinewidth": 0,
             "ticks": ""
            },
            "type": "mesh3d"
           }
          ],
          "parcoords": [
           {
            "line": {
             "colorbar": {
              "outlinewidth": 0,
              "ticks": ""
             }
            },
            "type": "parcoords"
           }
          ],
          "pie": [
           {
            "automargin": true,
            "type": "pie"
           }
          ],
          "scatter": [
           {
            "marker": {
             "colorbar": {
              "outlinewidth": 0,
              "ticks": ""
             }
            },
            "type": "scatter"
           }
          ],
          "scatter3d": [
           {
            "line": {
             "colorbar": {
              "outlinewidth": 0,
              "ticks": ""
             }
            },
            "marker": {
             "colorbar": {
              "outlinewidth": 0,
              "ticks": ""
             }
            },
            "type": "scatter3d"
           }
          ],
          "scattercarpet": [
           {
            "marker": {
             "colorbar": {
              "outlinewidth": 0,
              "ticks": ""
             }
            },
            "type": "scattercarpet"
           }
          ],
          "scattergeo": [
           {
            "marker": {
             "colorbar": {
              "outlinewidth": 0,
              "ticks": ""
             }
            },
            "type": "scattergeo"
           }
          ],
          "scattergl": [
           {
            "marker": {
             "colorbar": {
              "outlinewidth": 0,
              "ticks": ""
             }
            },
            "type": "scattergl"
           }
          ],
          "scattermapbox": [
           {
            "marker": {
             "colorbar": {
              "outlinewidth": 0,
              "ticks": ""
             }
            },
            "type": "scattermapbox"
           }
          ],
          "scatterpolar": [
           {
            "marker": {
             "colorbar": {
              "outlinewidth": 0,
              "ticks": ""
             }
            },
            "type": "scatterpolar"
           }
          ],
          "scatterpolargl": [
           {
            "marker": {
             "colorbar": {
              "outlinewidth": 0,
              "ticks": ""
             }
            },
            "type": "scatterpolargl"
           }
          ],
          "scatterternary": [
           {
            "marker": {
             "colorbar": {
              "outlinewidth": 0,
              "ticks": ""
             }
            },
            "type": "scatterternary"
           }
          ],
          "surface": [
           {
            "colorbar": {
             "outlinewidth": 0,
             "ticks": ""
            },
            "colorscale": [
             [
              0,
              "#0d0887"
             ],
             [
              0.1111111111111111,
              "#46039f"
             ],
             [
              0.2222222222222222,
              "#7201a8"
             ],
             [
              0.3333333333333333,
              "#9c179e"
             ],
             [
              0.4444444444444444,
              "#bd3786"
             ],
             [
              0.5555555555555556,
              "#d8576b"
             ],
             [
              0.6666666666666666,
              "#ed7953"
             ],
             [
              0.7777777777777778,
              "#fb9f3a"
             ],
             [
              0.8888888888888888,
              "#fdca26"
             ],
             [
              1,
              "#f0f921"
             ]
            ],
            "type": "surface"
           }
          ],
          "table": [
           {
            "cells": {
             "fill": {
              "color": "#EBF0F8"
             },
             "line": {
              "color": "white"
             }
            },
            "header": {
             "fill": {
              "color": "#C8D4E3"
             },
             "line": {
              "color": "white"
             }
            },
            "type": "table"
           }
          ]
         },
         "layout": {
          "annotationdefaults": {
           "arrowcolor": "#2a3f5f",
           "arrowhead": 0,
           "arrowwidth": 1
          },
          "autotypenumbers": "strict",
          "coloraxis": {
           "colorbar": {
            "outlinewidth": 0,
            "ticks": ""
           }
          },
          "colorscale": {
           "diverging": [
            [
             0,
             "#8e0152"
            ],
            [
             0.1,
             "#c51b7d"
            ],
            [
             0.2,
             "#de77ae"
            ],
            [
             0.3,
             "#f1b6da"
            ],
            [
             0.4,
             "#fde0ef"
            ],
            [
             0.5,
             "#f7f7f7"
            ],
            [
             0.6,
             "#e6f5d0"
            ],
            [
             0.7,
             "#b8e186"
            ],
            [
             0.8,
             "#7fbc41"
            ],
            [
             0.9,
             "#4d9221"
            ],
            [
             1,
             "#276419"
            ]
           ],
           "sequential": [
            [
             0,
             "#0d0887"
            ],
            [
             0.1111111111111111,
             "#46039f"
            ],
            [
             0.2222222222222222,
             "#7201a8"
            ],
            [
             0.3333333333333333,
             "#9c179e"
            ],
            [
             0.4444444444444444,
             "#bd3786"
            ],
            [
             0.5555555555555556,
             "#d8576b"
            ],
            [
             0.6666666666666666,
             "#ed7953"
            ],
            [
             0.7777777777777778,
             "#fb9f3a"
            ],
            [
             0.8888888888888888,
             "#fdca26"
            ],
            [
             1,
             "#f0f921"
            ]
           ],
           "sequentialminus": [
            [
             0,
             "#0d0887"
            ],
            [
             0.1111111111111111,
             "#46039f"
            ],
            [
             0.2222222222222222,
             "#7201a8"
            ],
            [
             0.3333333333333333,
             "#9c179e"
            ],
            [
             0.4444444444444444,
             "#bd3786"
            ],
            [
             0.5555555555555556,
             "#d8576b"
            ],
            [
             0.6666666666666666,
             "#ed7953"
            ],
            [
             0.7777777777777778,
             "#fb9f3a"
            ],
            [
             0.8888888888888888,
             "#fdca26"
            ],
            [
             1,
             "#f0f921"
            ]
           ]
          },
          "colorway": [
           "#636efa",
           "#EF553B",
           "#00cc96",
           "#ab63fa",
           "#FFA15A",
           "#19d3f3",
           "#FF6692",
           "#B6E880",
           "#FF97FF",
           "#FECB52"
          ],
          "font": {
           "color": "#2a3f5f"
          },
          "geo": {
           "bgcolor": "white",
           "lakecolor": "white",
           "landcolor": "#E5ECF6",
           "showlakes": true,
           "showland": true,
           "subunitcolor": "white"
          },
          "hoverlabel": {
           "align": "left"
          },
          "hovermode": "closest",
          "mapbox": {
           "style": "light"
          },
          "paper_bgcolor": "white",
          "plot_bgcolor": "#E5ECF6",
          "polar": {
           "angularaxis": {
            "gridcolor": "white",
            "linecolor": "white",
            "ticks": ""
           },
           "bgcolor": "#E5ECF6",
           "radialaxis": {
            "gridcolor": "white",
            "linecolor": "white",
            "ticks": ""
           }
          },
          "scene": {
           "xaxis": {
            "backgroundcolor": "#E5ECF6",
            "gridcolor": "white",
            "gridwidth": 2,
            "linecolor": "white",
            "showbackground": true,
            "ticks": "",
            "zerolinecolor": "white"
           },
           "yaxis": {
            "backgroundcolor": "#E5ECF6",
            "gridcolor": "white",
            "gridwidth": 2,
            "linecolor": "white",
            "showbackground": true,
            "ticks": "",
            "zerolinecolor": "white"
           },
           "zaxis": {
            "backgroundcolor": "#E5ECF6",
            "gridcolor": "white",
            "gridwidth": 2,
            "linecolor": "white",
            "showbackground": true,
            "ticks": "",
            "zerolinecolor": "white"
           }
          },
          "shapedefaults": {
           "line": {
            "color": "#2a3f5f"
           }
          },
          "ternary": {
           "aaxis": {
            "gridcolor": "white",
            "linecolor": "white",
            "ticks": ""
           },
           "baxis": {
            "gridcolor": "white",
            "linecolor": "white",
            "ticks": ""
           },
           "bgcolor": "#E5ECF6",
           "caxis": {
            "gridcolor": "white",
            "linecolor": "white",
            "ticks": ""
           }
          },
          "title": {
           "x": 0.05
          },
          "xaxis": {
           "automargin": true,
           "gridcolor": "white",
           "linecolor": "white",
           "ticks": "",
           "title": {
            "standoff": 15
           },
           "zerolinecolor": "white",
           "zerolinewidth": 2
          },
          "yaxis": {
           "automargin": true,
           "gridcolor": "white",
           "linecolor": "white",
           "ticks": "",
           "title": {
            "standoff": 15
           },
           "zerolinecolor": "white",
           "zerolinewidth": 2
          }
         }
        },
        "title": {
         "text": "Fire vs Flood: While some parts of the world burn, others drown"
        }
       }
      },
      "text/html": [
       "<div>                            <div id=\"55479c98-e7ff-467f-9250-cd1559d7cf0f\" class=\"plotly-graph-div\" style=\"height:525px; width:100%;\"></div>            <script type=\"text/javascript\">                require([\"plotly\"], function(Plotly) {                    window.PLOTLYENV=window.PLOTLYENV || {};                                    if (document.getElementById(\"55479c98-e7ff-467f-9250-cd1559d7cf0f\")) {                    Plotly.newPlot(                        \"55479c98-e7ff-467f-9250-cd1559d7cf0f\",                        [{\"colorbar\": {\"title\": {\"text\": \"Wildfire/Drought vs Floods <br>(2022)\"}}, \"colorscale\": [[0.0, \"rgb(103,0,31)\"], [0.1, \"rgb(178,24,43)\"], [0.2, \"rgb(214,96,77)\"], [0.3, \"rgb(244,165,130)\"], [0.4, \"rgb(253,219,199)\"], [0.5, \"rgb(247,247,247)\"], [0.6, \"rgb(209,229,240)\"], [0.7, \"rgb(146,197,222)\"], [0.8, \"rgb(67,147,195)\"], [0.9, \"rgb(33,102,172)\"], [1.0, \"rgb(5,48,97)\"]], \"locations\": [\"BRA\", \"BRA\", \"BRA\", \"COL\", \"ARG\", \"AUS\", \"AUS\", \"BOL\", \"DOM\", \"MDG\", \"ECU\", \"IDN\", \"IDN\", \"PER\", \"ECU\", \"HND\", \"HTI\", \"HTI\", \"IDN\", \"IDN\", \"IRN\", \"IRN\", \"KOR\", \"MHL\", \"MYS\", \"MYS\", \"IDN\", \"GEO\", \"LKA\", \"IND\", \"RWA\", \"UGA\", \"AFG\", \"AFG\", \"BRA\", \"BRA\", \"BRA\", \"CHN\", \"CHN\", \"CHN\", \"CIV\", \"COL\", \"COL\", \"COL\", \"COL\", \"COL\", \"COL\", \"ECU\", \"ECU\", \"GTM\", \"IDN\", \"IDN\", \"IDN\", \"IND\", \"IRN\", \"LAO\", \"COL\", \"CAF\", \"GMB\", \"CHN\", \"CPV\", \"DJI\", \"THA\", \"URY\", \"USA\", \"ZAF\", \"ZAF\", \"ZAF\", \"ZAF\", \"ZMB\", \"ZWE\", \"AFG\", \"AFG\", \"AUS\", \"AUS\", \"AUS\", \"BEN\", \"BGD\", \"BGR\", \"BRA\", \"BRA\", \"CAF\", \"CAN\", \"CAN\", \"CHN\", \"CUB\", \"DZA\", \"ECU\", \"ESP\", \"ETH\", \"FRA\", \"GBR\", \"GHA\", \"GIN\", \"GRC\", \"GUY\", \"HND\", \"IND\", \"ITA\", \"JPN\", \"KHM\", \"KOR\", \"LKA\", \"MEX\", \"MEX\", \"MLI\", \"MNG\", \"MRT\", \"MYS\", \"PAK\", \"PHL\", \"PRT\", \"NER\", \"NPL\", \"NPL\", \"RWA\", \"SLE\", \"TUR\", \"USA\", \"UZB\", \"VNM\", \"VNM\", \"VNM\", \"ZAF\", \"COD\", \"SOM\", \"PRT\", \"USA\", \"NER\", \"TCD\", \"UGA\", \"NGA\", \"PAK\", \"RUS\", \"RUS\", \"SDN\", \"SEN\", \"SUR\", \"TCD\", \"THA\", \"THA\", \"THA\", \"THA\", \"THA\", \"THA\", \"TUN\", \"TUR\", \"TUR\", \"TZA\", \"UGA\", \"USA\", \"USA\", \"USA\", \"USA\", \"USA\", \"USA\", \"VEN\", \"VEN\", \"VEN\", \"VEN\", \"VNM\", \"YEM\", \"YEM\", \"YEM\", \"ZAF\", \"ZAF\", \"SSD\"], \"marker\": {\"line\": {\"color\": \"darkgray\", \"width\": 0.5}}, \"reversescale\": true, \"text\": [\"Brazil\", \"Brazil\", \"Brazil\", \"Colombia\", \"Argentina\", \"Australia\", \"Australia\", \"Bolivia (Plurinational State of)\", \"Dominican Republic (the)\", \"Madagascar\", \"Ecuador\", \"Indonesia\", \"Indonesia\", \"Peru\", \"Ecuador\", \"Honduras\", \"Haiti\", \"Haiti\", \"Indonesia\", \"Indonesia\", \"Iran (Islamic Republic of)\", \"Iran (Islamic Republic of)\", \"Korea (the Republic of)\", \"Marshall Islands (the)\", \"Malaysia\", \"Malaysia\", \"Indonesia\", \"Georgia\", \"Sri Lanka\", \"India\", \"Rwanda\", \"Uganda\", \"Afghanistan\", \"Afghanistan\", \"Brazil\", \"Brazil\", \"Brazil\", \"China\", \"China\", \"China\", \"C\\u00f4te d\\u2019Ivoire\", \"Colombia\", \"Colombia\", \"Colombia\", \"Colombia\", \"Colombia\", \"Colombia\", \"Ecuador\", \"Ecuador\", \"Guatemala\", \"Indonesia\", \"Indonesia\", \"Indonesia\", \"India\", \"Iran (Islamic Republic of)\", \"Lao People's Democratic Republic (the)\", \"Colombia\", \"Central African Republic\", \"Gambia (the)\", \"China\", \"Cabo Verde\", \"Djibouti\", \"Thailand\", \"Uruguay\", \"United States of America (the)\", \"South Africa\", \"South Africa\", \"South Africa\", \"South Africa\", \"Zambia\", \"Zimbabwe\", \"Afghanistan\", \"Afghanistan\", \"Australia\", \"Australia\", \"Australia\", \"Benin\", \"Bangladesh\", \"Bulgaria\", \"Brazil\", \"Brazil\", \"Central African Republic\", \"Canada\", \"Canada\", \"China\", \"Cuba\", \"Algeria\", \"Ecuador\", \"Spain\", \"Ethiopia\", \"France\", \"United Kingdom of Great Britain and Northern Ireland (the)\", \"Ghana\", \"Guinea\", \"Greece\", \"Guyana\", \"Honduras\", \"India\", \"Italy\", \"Japan\", \"Cambodia\", \"Korea (the Republic of)\", \"Sri Lanka\", \"Mexico\", \"Mexico\", \"Mali\", \"Mongolia\", \"Mauritania\", \"Malaysia\", \"Pakistan\", \"Philippines (the)\", \"Portugal\", \"Niger (the)\", \"Nepal\", \"Nepal\", \"Rwanda\", \"Sierra Leone\", \"Turkey\", \"United States of America (the)\", \"Uzbekistan\", \"Viet Nam\", \"Viet Nam\", \"Viet Nam\", \"South Africa\", \"Congo (the Democratic Republic of the)\", \"Somalia\", \"Portugal\", \"United States of America (the)\", \"Niger (the)\", \"Chad\", \"Uganda\", \"Nigeria\", \"Pakistan\", \"Russian Federation (the)\", \"Russian Federation (the)\", \"Sudan (the)\", \"Senegal\", \"Suriname\", \"Chad\", \"Thailand\", \"Thailand\", \"Thailand\", \"Thailand\", \"Thailand\", \"Thailand\", \"Tunisia\", \"Turkey\", \"Turkey\", \"Tanzania, United Republic of\", \"Uganda\", \"United States of America (the)\", \"United States of America (the)\", \"United States of America (the)\", \"United States of America (the)\", \"United States of America (the)\", \"United States of America (the)\", \"Venezuela (Bolivarian Republic of)\", \"Venezuela (Bolivarian Republic of)\", \"Venezuela (Bolivarian Republic of)\", \"Venezuela (Bolivarian Republic of)\", \"Viet Nam\", \"Yemen\", \"Yemen\", \"Yemen\", \"South Africa\", \"South Africa\", \"South Sudan\"], \"type\": \"choropleth\", \"z\": [-8.0, -8.0, -8.0, -8.0, 1.0, -5.0, -5.0, -1.0, -1.0, -1.0, -5.0, -8.0, -8.0, -1.0, -5.0, -2.0, -2.0, -2.0, -8.0, -8.0, -3.0, -3.0, 0.0, 1.0, -3.0, -3.0, -8.0, -1.0, -2.0, -3.0, -2.0, -1.0, -4.0, -4.0, -8.0, -8.0, -8.0, -3.0, -3.0, -3.0, -1.0, -8.0, -8.0, -8.0, -8.0, -8.0, -8.0, -5.0, -5.0, -1.0, -8.0, -8.0, -8.0, -3.0, -3.0, -1.0, -8.0, 0.0, -1.0, -3.0, 1.0, 1.0, -7.0, -1.0, 3.0, -7.0, -7.0, -7.0, -7.0, -1.0, -1.0, -4.0, -4.0, -5.0, -5.0, -5.0, -1.0, -1.0, -1.0, -8.0, -8.0, 0.0, -2.0, -2.0, -3.0, -1.0, 1.0, -5.0, 1.0, 1.0, 1.0, 1.0, -1.0, -1.0, 1.0, -1.0, -2.0, -3.0, 1.0, -1.0, -1.0, 0.0, -2.0, -2.0, -2.0, -1.0, -1.0, -1.0, -3.0, 0.0, -1.0, 2.0, 0.0, -2.0, -2.0, -2.0, -1.0, -3.0, 3.0, -1.0, -4.0, -4.0, -4.0, -7.0, -1.0, -1.0, 2.0, 3.0, 0.0, 0.0, -1.0, -1.0, 0.0, 0.0, 0.0, -1.0, -1.0, -1.0, 0.0, -7.0, -7.0, -7.0, -7.0, -7.0, -7.0, -1.0, -3.0, -3.0, -1.0, -1.0, 3.0, 3.0, 3.0, 3.0, 3.0, 3.0, -4.0, -4.0, -4.0, -4.0, -4.0, -3.0, -3.0, -3.0, -7.0, -7.0, -1.0]}],                        {\"geo\": {\"showcoastlines\": false, \"showframe\": false}, \"template\": {\"data\": {\"bar\": [{\"error_x\": {\"color\": \"#2a3f5f\"}, \"error_y\": {\"color\": \"#2a3f5f\"}, \"marker\": {\"line\": {\"color\": \"#E5ECF6\", \"width\": 0.5}}, \"type\": \"bar\"}], \"barpolar\": [{\"marker\": {\"line\": {\"color\": \"#E5ECF6\", \"width\": 0.5}}, \"type\": \"barpolar\"}], \"carpet\": [{\"aaxis\": {\"endlinecolor\": \"#2a3f5f\", \"gridcolor\": \"white\", \"linecolor\": \"white\", \"minorgridcolor\": \"white\", \"startlinecolor\": \"#2a3f5f\"}, \"baxis\": {\"endlinecolor\": \"#2a3f5f\", \"gridcolor\": \"white\", \"linecolor\": \"white\", \"minorgridcolor\": \"white\", \"startlinecolor\": \"#2a3f5f\"}, \"type\": \"carpet\"}], \"choropleth\": [{\"colorbar\": {\"outlinewidth\": 0, \"ticks\": \"\"}, \"type\": \"choropleth\"}], \"contour\": [{\"colorbar\": {\"outlinewidth\": 0, \"ticks\": \"\"}, \"colorscale\": [[0.0, \"#0d0887\"], [0.1111111111111111, \"#46039f\"], [0.2222222222222222, \"#7201a8\"], [0.3333333333333333, \"#9c179e\"], [0.4444444444444444, \"#bd3786\"], [0.5555555555555556, \"#d8576b\"], [0.6666666666666666, \"#ed7953\"], [0.7777777777777778, \"#fb9f3a\"], [0.8888888888888888, \"#fdca26\"], [1.0, \"#f0f921\"]], \"type\": \"contour\"}], \"contourcarpet\": [{\"colorbar\": {\"outlinewidth\": 0, \"ticks\": \"\"}, \"type\": \"contourcarpet\"}], \"heatmap\": [{\"colorbar\": {\"outlinewidth\": 0, \"ticks\": \"\"}, \"colorscale\": [[0.0, \"#0d0887\"], [0.1111111111111111, \"#46039f\"], [0.2222222222222222, \"#7201a8\"], [0.3333333333333333, \"#9c179e\"], [0.4444444444444444, \"#bd3786\"], [0.5555555555555556, \"#d8576b\"], [0.6666666666666666, \"#ed7953\"], [0.7777777777777778, \"#fb9f3a\"], [0.8888888888888888, \"#fdca26\"], [1.0, \"#f0f921\"]], \"type\": \"heatmap\"}], \"heatmapgl\": [{\"colorbar\": {\"outlinewidth\": 0, \"ticks\": \"\"}, \"colorscale\": [[0.0, \"#0d0887\"], [0.1111111111111111, \"#46039f\"], [0.2222222222222222, \"#7201a8\"], [0.3333333333333333, \"#9c179e\"], [0.4444444444444444, \"#bd3786\"], [0.5555555555555556, \"#d8576b\"], [0.6666666666666666, \"#ed7953\"], [0.7777777777777778, \"#fb9f3a\"], [0.8888888888888888, \"#fdca26\"], [1.0, \"#f0f921\"]], \"type\": \"heatmapgl\"}], \"histogram\": [{\"marker\": {\"colorbar\": {\"outlinewidth\": 0, \"ticks\": \"\"}}, \"type\": \"histogram\"}], \"histogram2d\": [{\"colorbar\": {\"outlinewidth\": 0, \"ticks\": \"\"}, \"colorscale\": [[0.0, \"#0d0887\"], [0.1111111111111111, \"#46039f\"], [0.2222222222222222, \"#7201a8\"], [0.3333333333333333, \"#9c179e\"], [0.4444444444444444, \"#bd3786\"], [0.5555555555555556, \"#d8576b\"], [0.6666666666666666, \"#ed7953\"], [0.7777777777777778, \"#fb9f3a\"], [0.8888888888888888, \"#fdca26\"], [1.0, \"#f0f921\"]], \"type\": \"histogram2d\"}], \"histogram2dcontour\": [{\"colorbar\": {\"outlinewidth\": 0, \"ticks\": \"\"}, \"colorscale\": [[0.0, \"#0d0887\"], [0.1111111111111111, \"#46039f\"], [0.2222222222222222, \"#7201a8\"], [0.3333333333333333, \"#9c179e\"], [0.4444444444444444, \"#bd3786\"], [0.5555555555555556, \"#d8576b\"], [0.6666666666666666, \"#ed7953\"], [0.7777777777777778, \"#fb9f3a\"], [0.8888888888888888, \"#fdca26\"], [1.0, \"#f0f921\"]], \"type\": \"histogram2dcontour\"}], \"mesh3d\": [{\"colorbar\": {\"outlinewidth\": 0, \"ticks\": \"\"}, \"type\": \"mesh3d\"}], \"parcoords\": [{\"line\": {\"colorbar\": {\"outlinewidth\": 0, \"ticks\": \"\"}}, \"type\": \"parcoords\"}], \"pie\": [{\"automargin\": true, \"type\": \"pie\"}], \"scatter\": [{\"marker\": {\"colorbar\": {\"outlinewidth\": 0, \"ticks\": \"\"}}, \"type\": \"scatter\"}], \"scatter3d\": [{\"line\": {\"colorbar\": {\"outlinewidth\": 0, \"ticks\": \"\"}}, \"marker\": {\"colorbar\": {\"outlinewidth\": 0, \"ticks\": \"\"}}, \"type\": \"scatter3d\"}], \"scattercarpet\": [{\"marker\": {\"colorbar\": {\"outlinewidth\": 0, \"ticks\": \"\"}}, \"type\": \"scattercarpet\"}], \"scattergeo\": [{\"marker\": {\"colorbar\": {\"outlinewidth\": 0, \"ticks\": \"\"}}, \"type\": \"scattergeo\"}], \"scattergl\": [{\"marker\": {\"colorbar\": {\"outlinewidth\": 0, \"ticks\": \"\"}}, \"type\": \"scattergl\"}], \"scattermapbox\": [{\"marker\": {\"colorbar\": {\"outlinewidth\": 0, \"ticks\": \"\"}}, \"type\": \"scattermapbox\"}], \"scatterpolar\": [{\"marker\": {\"colorbar\": {\"outlinewidth\": 0, \"ticks\": \"\"}}, \"type\": \"scatterpolar\"}], \"scatterpolargl\": [{\"marker\": {\"colorbar\": {\"outlinewidth\": 0, \"ticks\": \"\"}}, \"type\": \"scatterpolargl\"}], \"scatterternary\": [{\"marker\": {\"colorbar\": {\"outlinewidth\": 0, \"ticks\": \"\"}}, \"type\": \"scatterternary\"}], \"surface\": [{\"colorbar\": {\"outlinewidth\": 0, \"ticks\": \"\"}, \"colorscale\": [[0.0, \"#0d0887\"], [0.1111111111111111, \"#46039f\"], [0.2222222222222222, \"#7201a8\"], [0.3333333333333333, \"#9c179e\"], [0.4444444444444444, \"#bd3786\"], [0.5555555555555556, \"#d8576b\"], [0.6666666666666666, \"#ed7953\"], [0.7777777777777778, \"#fb9f3a\"], [0.8888888888888888, \"#fdca26\"], [1.0, \"#f0f921\"]], \"type\": \"surface\"}], \"table\": [{\"cells\": {\"fill\": {\"color\": \"#EBF0F8\"}, \"line\": {\"color\": \"white\"}}, \"header\": {\"fill\": {\"color\": \"#C8D4E3\"}, \"line\": {\"color\": \"white\"}}, \"type\": \"table\"}]}, \"layout\": {\"annotationdefaults\": {\"arrowcolor\": \"#2a3f5f\", \"arrowhead\": 0, \"arrowwidth\": 1}, \"autotypenumbers\": \"strict\", \"coloraxis\": {\"colorbar\": {\"outlinewidth\": 0, \"ticks\": \"\"}}, \"colorscale\": {\"diverging\": [[0, \"#8e0152\"], [0.1, \"#c51b7d\"], [0.2, \"#de77ae\"], [0.3, \"#f1b6da\"], [0.4, \"#fde0ef\"], [0.5, \"#f7f7f7\"], [0.6, \"#e6f5d0\"], [0.7, \"#b8e186\"], [0.8, \"#7fbc41\"], [0.9, \"#4d9221\"], [1, \"#276419\"]], \"sequential\": [[0.0, \"#0d0887\"], [0.1111111111111111, \"#46039f\"], [0.2222222222222222, \"#7201a8\"], [0.3333333333333333, \"#9c179e\"], [0.4444444444444444, \"#bd3786\"], [0.5555555555555556, \"#d8576b\"], [0.6666666666666666, \"#ed7953\"], [0.7777777777777778, \"#fb9f3a\"], [0.8888888888888888, \"#fdca26\"], [1.0, \"#f0f921\"]], \"sequentialminus\": [[0.0, \"#0d0887\"], [0.1111111111111111, \"#46039f\"], [0.2222222222222222, \"#7201a8\"], [0.3333333333333333, \"#9c179e\"], [0.4444444444444444, \"#bd3786\"], [0.5555555555555556, \"#d8576b\"], [0.6666666666666666, \"#ed7953\"], [0.7777777777777778, \"#fb9f3a\"], [0.8888888888888888, \"#fdca26\"], [1.0, \"#f0f921\"]]}, \"colorway\": [\"#636efa\", \"#EF553B\", \"#00cc96\", \"#ab63fa\", \"#FFA15A\", \"#19d3f3\", \"#FF6692\", \"#B6E880\", \"#FF97FF\", \"#FECB52\"], \"font\": {\"color\": \"#2a3f5f\"}, \"geo\": {\"bgcolor\": \"white\", \"lakecolor\": \"white\", \"landcolor\": \"#E5ECF6\", \"showlakes\": true, \"showland\": true, \"subunitcolor\": \"white\"}, \"hoverlabel\": {\"align\": \"left\"}, \"hovermode\": \"closest\", \"mapbox\": {\"style\": \"light\"}, \"paper_bgcolor\": \"white\", \"plot_bgcolor\": \"#E5ECF6\", \"polar\": {\"angularaxis\": {\"gridcolor\": \"white\", \"linecolor\": \"white\", \"ticks\": \"\"}, \"bgcolor\": \"#E5ECF6\", \"radialaxis\": {\"gridcolor\": \"white\", \"linecolor\": \"white\", \"ticks\": \"\"}}, \"scene\": {\"xaxis\": {\"backgroundcolor\": \"#E5ECF6\", \"gridcolor\": \"white\", \"gridwidth\": 2, \"linecolor\": \"white\", \"showbackground\": true, \"ticks\": \"\", \"zerolinecolor\": \"white\"}, \"yaxis\": {\"backgroundcolor\": \"#E5ECF6\", \"gridcolor\": \"white\", \"gridwidth\": 2, \"linecolor\": \"white\", \"showbackground\": true, \"ticks\": \"\", \"zerolinecolor\": \"white\"}, \"zaxis\": {\"backgroundcolor\": \"#E5ECF6\", \"gridcolor\": \"white\", \"gridwidth\": 2, \"linecolor\": \"white\", \"showbackground\": true, \"ticks\": \"\", \"zerolinecolor\": \"white\"}}, \"shapedefaults\": {\"line\": {\"color\": \"#2a3f5f\"}}, \"ternary\": {\"aaxis\": {\"gridcolor\": \"white\", \"linecolor\": \"white\", \"ticks\": \"\"}, \"baxis\": {\"gridcolor\": \"white\", \"linecolor\": \"white\", \"ticks\": \"\"}, \"bgcolor\": \"#E5ECF6\", \"caxis\": {\"gridcolor\": \"white\", \"linecolor\": \"white\", \"ticks\": \"\"}}, \"title\": {\"x\": 0.05}, \"xaxis\": {\"automargin\": true, \"gridcolor\": \"white\", \"linecolor\": \"white\", \"ticks\": \"\", \"title\": {\"standoff\": 15}, \"zerolinecolor\": \"white\", \"zerolinewidth\": 2}, \"yaxis\": {\"automargin\": true, \"gridcolor\": \"white\", \"linecolor\": \"white\", \"ticks\": \"\", \"title\": {\"standoff\": 15}, \"zerolinecolor\": \"white\", \"zerolinewidth\": 2}}}, \"title\": {\"text\": \"Fire vs Flood: While some parts of the world burn, others drown\"}},                        {\"responsive\": true}                    ).then(function(){\n",
       "                            \n",
       "var gd = document.getElementById('55479c98-e7ff-467f-9250-cd1559d7cf0f');\n",
       "var x = new MutationObserver(function (mutations, observer) {{\n",
       "        var display = window.getComputedStyle(gd).display;\n",
       "        if (!display || display === 'none') {{\n",
       "            console.log([gd, 'removed!']);\n",
       "            Plotly.purge(gd);\n",
       "            observer.disconnect();\n",
       "        }}\n",
       "}});\n",
       "\n",
       "// Listen for the removal of the full notebook cells\n",
       "var notebookContainer = gd.closest('#notebook-container');\n",
       "if (notebookContainer) {{\n",
       "    x.observe(notebookContainer, {childList: true});\n",
       "}}\n",
       "\n",
       "// Listen for the clearing of the current output cell\n",
       "var outputEl = gd.closest('.output');\n",
       "if (outputEl) {{\n",
       "    x.observe(outputEl, {childList: true});\n",
       "}}\n",
       "\n",
       "                        })                };                });            </script>        </div>"
      ]
     },
     "metadata": {},
     "output_type": "display_data"
    }
   ],
   "source": [
    "fig = go.Figure(data=go.Choropleth(\n",
    "    locations = cleaned_df_subset[\"ISO\"],\n",
    "    z = cleaned_df_subset[\"Final Disaster Comparison Scale\"],\n",
    "    text = cleaned_df_subset[\"Country\"],\n",
    "    colorscale = \"rdbu\",\n",
    "    # autocolorscale=False,\n",
    "    reversescale=True,\n",
    "    marker_line_color=\"darkgray\",\n",
    "    marker_line_width=0.5,\n",
    "    colorbar_title = \"Wildfire/Drought vs Floods <br>(2022)\",\n",
    "))\n",
    "\n",
    "fig.update_layout(\n",
    "    title_text=\"Fire vs Flood: While some parts of the world burn, others drown\",\n",
    "    geo=dict(\n",
    "        showframe=False,\n",
    "        showcoastlines=False,\n",
    "        # projection_type='equirectangular'\n",
    "    )\n",
    ")\n",
    "\n",
    "fig.show()"
   ]
  },
  {
   "cell_type": "markdown",
   "id": "7b86c810",
   "metadata": {},
   "source": [
    "# Data processing & visualization - Method 2 - Disaster frequency"
   ]
  },
  {
   "cell_type": "markdown",
   "id": "d6eed57e",
   "metadata": {},
   "source": [
    "### Data processing"
   ]
  },
  {
   "cell_type": "markdown",
   "id": "8b95aae0",
   "metadata": {},
   "source": [
    "#### Create a data frame with the country, ISO and years (each year as a column with the frequency of floods, fire & drought)"
   ]
  },
  {
   "cell_type": "code",
   "execution_count": 658,
   "id": "e13ece07",
   "metadata": {},
   "outputs": [
    {
     "data": {
      "text/plain": [
       "{'Cabo Verde': 'CPV',\n",
       " 'India': 'IND',\n",
       " 'Belgium': 'BEL',\n",
       " 'Burkina Faso': 'BFA',\n",
       " 'Gambia (the)': 'GMB',\n",
       " 'Guinea-Bissau': 'GNB',\n",
       " 'Canada': 'CAN',\n",
       " 'China': 'CHN',\n",
       " 'Anguilla': 'AIA',\n",
       " 'Germany Fed Rep': 'DFR',\n",
       " 'Algeria': 'DZA',\n",
       " 'Australia': 'AUS',\n",
       " 'Bangladesh': 'BGD',\n",
       " 'Brazil': 'BRA',\n",
       " 'France': 'FRA',\n",
       " 'Guatemala': 'GTM',\n",
       " 'Ecuador': 'ECU',\n",
       " 'United Kingdom of Great Britain and Northern Ireland (the)': 'GBR',\n",
       " 'Spain': 'ESP',\n",
       " 'Indonesia': 'IDN',\n",
       " 'Egypt': 'EGY',\n",
       " 'Afghanistan': 'AFG',\n",
       " 'Argentina': 'ARG',\n",
       " 'Colombia': 'COL',\n",
       " 'Haiti': 'HTI',\n",
       " 'Hong Kong': 'HKG',\n",
       " 'Fiji': 'FJI',\n",
       " 'Bolivia (Plurinational State of)': 'BOL',\n",
       " 'Botswana': 'BWA',\n",
       " 'Chile': 'CHL',\n",
       " 'Dominican Republic (the)': 'DOM',\n",
       " 'Ethiopia': 'ETH',\n",
       " 'Honduras': 'HND',\n",
       " 'Ghana': 'GHA',\n",
       " 'Benin': 'BEN',\n",
       " 'Costa Rica': 'CRI',\n",
       " 'Barbados': 'BRB',\n",
       " 'Hungary': 'HUN',\n",
       " 'Cameroon': 'CMR',\n",
       " 'Guyana': 'GUY',\n",
       " 'Central African Republic': 'CAF',\n",
       " 'Grenada': 'GRD',\n",
       " 'Switzerland': 'CHE',\n",
       " 'Cuba': 'CUB',\n",
       " 'Djibouti': 'DJI',\n",
       " 'Greece': 'GRC',\n",
       " 'Jamaica': 'JAM',\n",
       " 'Niger (the)': 'NER',\n",
       " 'United States of America (the)': 'USA',\n",
       " 'Japan': 'JPN',\n",
       " 'Mali': 'MLI',\n",
       " 'Mauritania': 'MRT',\n",
       " 'Senegal': 'SEN',\n",
       " 'Chad': 'TCD',\n",
       " 'Soviet Union': 'SUN',\n",
       " 'Romania': 'ROU',\n",
       " 'Mexico': 'MEX',\n",
       " 'New Zealand': 'NZL',\n",
       " 'Italy': 'ITA',\n",
       " 'Turkey': 'TUR',\n",
       " 'Iran (Islamic Republic of)': 'IRN',\n",
       " 'Pakistan': 'PAK',\n",
       " 'Morocco': 'MAR',\n",
       " 'Netherlands (the)': 'NLD',\n",
       " 'Iraq': 'IRQ',\n",
       " 'Nepal': 'NPL',\n",
       " 'Lebanon': 'LBN',\n",
       " 'Korea (the Republic of)': 'KOR',\n",
       " 'Nicaragua': 'NIC',\n",
       " 'Somalia': 'SOM',\n",
       " 'Tunisia': 'TUN',\n",
       " 'Jordan': 'JOR',\n",
       " 'Paraguay': 'PRY',\n",
       " 'Kenya': 'KEN',\n",
       " 'Saudi Arabia': 'SAU',\n",
       " 'Tanzania, United Republic of': 'TZA',\n",
       " 'Myanmar': 'MMR',\n",
       " 'Malaysia': 'MYS',\n",
       " 'Peru': 'PER',\n",
       " \"Lao People's Democratic Republic (the)\": 'LAO',\n",
       " 'Sri Lanka': 'LKA',\n",
       " 'Mongolia': 'MNG',\n",
       " 'Panama': 'PAN',\n",
       " 'Thailand': 'THA',\n",
       " 'Mozambique': 'MOZ',\n",
       " 'Malawi': 'MWI',\n",
       " 'Portugal': 'PRT',\n",
       " 'Syrian Arab Republic': 'SYR',\n",
       " 'Uganda': 'UGA',\n",
       " 'Uruguay': 'URY',\n",
       " 'Lesotho': 'LSO',\n",
       " 'Philippines (the)': 'PHL',\n",
       " 'Suriname': 'SUR',\n",
       " 'Puerto Rico': 'PRI',\n",
       " 'Togo': 'TGO',\n",
       " 'Rwanda': 'RWA',\n",
       " 'Sudan (the)': 'SDN',\n",
       " 'Poland': 'POL',\n",
       " 'Sweden': 'SWE',\n",
       " 'Taiwan (Province of China)': 'TWN',\n",
       " 'South Africa': 'ZAF',\n",
       " 'Viet Nam': 'VNM',\n",
       " 'Yugoslavia': 'YUG',\n",
       " 'Venezuela (Bolivarian Republic of)': 'VEN',\n",
       " 'Yemen Arab Rep': 'YMN',\n",
       " 'Yemen P Dem Rep': 'YMD',\n",
       " 'Saint Vincent and the Grenadines': 'VCT',\n",
       " 'Zambia': 'ZMB',\n",
       " 'Belize': 'BLZ',\n",
       " 'Côte d’Ivoire': 'CIV',\n",
       " 'Austria': 'AUT',\n",
       " 'Guinea': 'GIN',\n",
       " 'Angola': 'AGO',\n",
       " 'Comoros (the)': 'COM',\n",
       " 'Bulgaria': 'BGR',\n",
       " 'Congo (the)': 'COG',\n",
       " 'Antigua and Barbuda': 'ATG',\n",
       " 'Czechoslovakia': 'CSK',\n",
       " 'Guadeloupe': 'GLP',\n",
       " 'Bahamas (the)': 'BHS',\n",
       " 'Gabon': 'GAB',\n",
       " 'Liberia': 'LBR',\n",
       " 'Papua New Guinea': 'PNG',\n",
       " 'Madagascar': 'MDG',\n",
       " 'Namibia': 'NAM',\n",
       " 'Nigeria': 'NGA',\n",
       " 'Israel': 'ISR',\n",
       " 'Luxembourg': 'LUX',\n",
       " 'Ireland': 'IRL',\n",
       " 'Cambodia': 'KHM',\n",
       " 'Saint Kitts and Nevis': 'KNA',\n",
       " 'Maldives': 'MDV',\n",
       " \"Korea (the Democratic People's Republic of)\": 'PRK',\n",
       " 'Iceland': 'ISL',\n",
       " 'Congo (the Democratic Republic of the)': 'COD',\n",
       " 'Eswatini': 'SWZ',\n",
       " 'Zimbabwe': 'ZWE',\n",
       " 'El Salvador': 'SLV',\n",
       " 'Sao Tome and Principe': 'STP',\n",
       " 'Samoa': 'WSM',\n",
       " 'Albania': 'ALB',\n",
       " 'Burundi': 'BDI',\n",
       " 'Cyprus': 'CYP',\n",
       " 'Germany': 'DEU',\n",
       " 'Denmark': 'DNK',\n",
       " 'Belarus': 'BLR',\n",
       " 'Lithuania': 'LTU',\n",
       " 'Russian Federation (the)': 'RUS',\n",
       " 'Eritrea': 'ERI',\n",
       " 'Macedonia (the former Yugoslav Republic of)': 'MKD',\n",
       " 'Kazakhstan': 'KAZ',\n",
       " 'Tajikistan': 'TJK',\n",
       " 'Yemen': 'YEM',\n",
       " 'Serbia Montenegro': 'SCG',\n",
       " 'Trinidad and Tobago': 'TTO',\n",
       " 'Turkmenistan': 'TKM',\n",
       " 'Ukraine': 'UKR',\n",
       " 'Bhutan': 'BTN',\n",
       " 'Azerbaijan': 'AZE',\n",
       " 'Armenia': 'ARM',\n",
       " 'Brunei Darussalam': 'BRN',\n",
       " 'Moldova (the Republic of)': 'MDA',\n",
       " 'Georgia': 'GEO',\n",
       " 'Libya': 'LBY',\n",
       " 'Norway': 'NOR',\n",
       " 'Czech Republic (the)': 'CZE',\n",
       " 'French Guiana': 'GUF',\n",
       " 'Croatia': 'HRV',\n",
       " 'Kuwait': 'KWT',\n",
       " 'Kyrgyzstan': 'KGZ',\n",
       " 'Sierra Leone': 'SLE',\n",
       " 'Solomon Islands': 'SLB',\n",
       " 'Slovakia': 'SVK',\n",
       " 'Seychelles': 'SYC',\n",
       " 'Bosnia and Herzegovina': 'BIH',\n",
       " 'Micronesia (Federated States of)': 'FSM',\n",
       " 'Mauritius': 'MUS',\n",
       " 'Kiribati': 'KIR',\n",
       " 'Uzbekistan': 'UZB',\n",
       " 'Canary Is': 'SPI',\n",
       " 'Timor-Leste': 'TLS',\n",
       " 'Vanuatu': 'VUT',\n",
       " 'American Samoa': 'ASM',\n",
       " 'Finland': 'FIN',\n",
       " 'Slovenia': 'SVN',\n",
       " 'Marshall Islands (the)': 'MHL',\n",
       " 'Palestine, State of': 'PSE',\n",
       " 'Montenegro': 'MNE',\n",
       " 'Serbia': 'SRB',\n",
       " 'South Sudan': 'SSD',\n",
       " 'Saint Lucia': 'LCA',\n",
       " 'Tuvalu': 'TUV',\n",
       " 'Oman': 'OMN',\n",
       " 'Tonga': 'TON',\n",
       " 'United Arab Emirates (the)': 'ARE',\n",
       " 'French Polynesia': 'PYF',\n",
       " 'Latvia': 'LVA',\n",
       " 'Qatar': 'QAT',\n",
       " 'Palau': 'PLW'}"
      ]
     },
     "execution_count": 658,
     "metadata": {},
     "output_type": "execute_result"
    }
   ],
   "source": [
    "country_codes = cleaned_df[[\"Country\", \"ISO\"]]\n",
    "country_codes.set_index(\"Country\", inplace=True)\n",
    "country_codes = country_codes.to_dict()[\"ISO\"]\n",
    "country_codes"
   ]
  },
  {
   "cell_type": "code",
   "execution_count": 662,
   "id": "01dd9df6",
   "metadata": {},
   "outputs": [],
   "source": [
    "def create_frequency_df(df):\n",
    "  data = []\n",
    "  for k, v in country_codes.items():\n",
    "    l = {\n",
    "         \"Country\": k, \n",
    "         \"ISO\": v, \n",
    "         \"flood_freq\": len(df[(df[\"Country\"] == k) & (df[\"Disaster Type\"] == \"Flood\")]), \n",
    "         \"drought_freq\": len(df[(df[\"Country\"] == k) & (df[\"Disaster Type\"] == \"Drought\")]), \n",
    "         \"fire_freq\": len(df[(df[\"Country\"] == k) & (df[\"Disaster Type\"] == \"Wildfire\")])\n",
    "        }\n",
    "    data.append(l)\n",
    "  frequency_df = pd.DataFrame.from_records(data)\n",
    "  return frequency_df"
   ]
  },
  {
   "cell_type": "markdown",
   "id": "2a79e2d0",
   "metadata": {},
   "source": [
    "### Subset: 2020-2022"
   ]
  },
  {
   "cell_type": "code",
   "execution_count": 685,
   "id": "1f19080b",
   "metadata": {},
   "outputs": [
    {
     "data": {
      "text/html": [
       "<div>\n",
       "<style scoped>\n",
       "    .dataframe tbody tr th:only-of-type {\n",
       "        vertical-align: middle;\n",
       "    }\n",
       "\n",
       "    .dataframe tbody tr th {\n",
       "        vertical-align: top;\n",
       "    }\n",
       "\n",
       "    .dataframe thead th {\n",
       "        text-align: right;\n",
       "    }\n",
       "</style>\n",
       "<table border=\"1\" class=\"dataframe\">\n",
       "  <thead>\n",
       "    <tr style=\"text-align: right;\">\n",
       "      <th></th>\n",
       "      <th>Country</th>\n",
       "      <th>ISO</th>\n",
       "      <th>flood_freq</th>\n",
       "      <th>drought_freq</th>\n",
       "      <th>fire_freq</th>\n",
       "    </tr>\n",
       "  </thead>\n",
       "  <tbody>\n",
       "    <tr>\n",
       "      <th>0</th>\n",
       "      <td>Cabo Verde</td>\n",
       "      <td>CPV</td>\n",
       "      <td>1</td>\n",
       "      <td>1</td>\n",
       "      <td>0</td>\n",
       "    </tr>\n",
       "    <tr>\n",
       "      <th>1</th>\n",
       "      <td>India</td>\n",
       "      <td>IND</td>\n",
       "      <td>17</td>\n",
       "      <td>0</td>\n",
       "      <td>0</td>\n",
       "    </tr>\n",
       "    <tr>\n",
       "      <th>2</th>\n",
       "      <td>Belgium</td>\n",
       "      <td>BEL</td>\n",
       "      <td>1</td>\n",
       "      <td>0</td>\n",
       "      <td>0</td>\n",
       "    </tr>\n",
       "    <tr>\n",
       "      <th>3</th>\n",
       "      <td>Burkina Faso</td>\n",
       "      <td>BFA</td>\n",
       "      <td>3</td>\n",
       "      <td>1</td>\n",
       "      <td>0</td>\n",
       "    </tr>\n",
       "    <tr>\n",
       "      <th>4</th>\n",
       "      <td>Gambia (the)</td>\n",
       "      <td>GMB</td>\n",
       "      <td>1</td>\n",
       "      <td>0</td>\n",
       "      <td>0</td>\n",
       "    </tr>\n",
       "  </tbody>\n",
       "</table>\n",
       "</div>"
      ],
      "text/plain": [
       "        Country  ISO  flood_freq  drought_freq  fire_freq\n",
       "0    Cabo Verde  CPV           1             1          0\n",
       "1         India  IND          17             0          0\n",
       "2       Belgium  BEL           1             0          0\n",
       "3  Burkina Faso  BFA           3             1          0\n",
       "4  Gambia (the)  GMB           1             0          0"
      ]
     },
     "execution_count": 685,
     "metadata": {},
     "output_type": "execute_result"
    }
   ],
   "source": [
    "chosen_years_recent = [2020, 2021, 2022]\n",
    "cleaned_df_subset_2 = cleaned_df[cleaned_df[\"Year\"].isin(chosen_years_recent)]\n",
    "freq_df = create_frequency_df(cleaned_df_subset_2)\n",
    "freq_df.head()"
   ]
  },
  {
   "cell_type": "markdown",
   "id": "c6cef5a7",
   "metadata": {},
   "source": [
    "#### Quick sanity check to see if the numbers match up with the original dataset (i.e no errors in calculation)"
   ]
  },
  {
   "cell_type": "code",
   "execution_count": 686,
   "id": "b77c5555",
   "metadata": {},
   "outputs": [],
   "source": [
    "test_country = \"Indonesia\""
   ]
  },
  {
   "cell_type": "code",
   "execution_count": 687,
   "id": "f54ae5a2",
   "metadata": {},
   "outputs": [
    {
     "data": {
      "text/html": [
       "<div>\n",
       "<style scoped>\n",
       "    .dataframe tbody tr th:only-of-type {\n",
       "        vertical-align: middle;\n",
       "    }\n",
       "\n",
       "    .dataframe tbody tr th {\n",
       "        vertical-align: top;\n",
       "    }\n",
       "\n",
       "    .dataframe thead th {\n",
       "        text-align: right;\n",
       "    }\n",
       "</style>\n",
       "<table border=\"1\" class=\"dataframe\">\n",
       "  <thead>\n",
       "    <tr style=\"text-align: right;\">\n",
       "      <th></th>\n",
       "      <th>Country</th>\n",
       "      <th>ISO</th>\n",
       "      <th>flood_freq</th>\n",
       "      <th>drought_freq</th>\n",
       "      <th>fire_freq</th>\n",
       "    </tr>\n",
       "  </thead>\n",
       "  <tbody>\n",
       "    <tr>\n",
       "      <th>19</th>\n",
       "      <td>Indonesia</td>\n",
       "      <td>IDN</td>\n",
       "      <td>51</td>\n",
       "      <td>0</td>\n",
       "      <td>0</td>\n",
       "    </tr>\n",
       "  </tbody>\n",
       "</table>\n",
       "</div>"
      ],
      "text/plain": [
       "      Country  ISO  flood_freq  drought_freq  fire_freq\n",
       "19  Indonesia  IDN          51             0          0"
      ]
     },
     "execution_count": 687,
     "metadata": {},
     "output_type": "execute_result"
    }
   ],
   "source": [
    "freq_df[freq_df[\"Country\"] == test_country]"
   ]
  },
  {
   "cell_type": "code",
   "execution_count": 688,
   "id": "05238324",
   "metadata": {},
   "outputs": [
    {
     "data": {
      "text/html": [
       "<div>\n",
       "<style scoped>\n",
       "    .dataframe tbody tr th:only-of-type {\n",
       "        vertical-align: middle;\n",
       "    }\n",
       "\n",
       "    .dataframe tbody tr th {\n",
       "        vertical-align: top;\n",
       "    }\n",
       "\n",
       "    .dataframe thead th {\n",
       "        text-align: right;\n",
       "    }\n",
       "</style>\n",
       "<table border=\"1\" class=\"dataframe\">\n",
       "  <thead>\n",
       "    <tr style=\"text-align: right;\">\n",
       "      <th></th>\n",
       "      <th>Dis No</th>\n",
       "      <th>Year</th>\n",
       "      <th>Disaster Type</th>\n",
       "      <th>Disaster Subtype</th>\n",
       "      <th>Country</th>\n",
       "      <th>ISO</th>\n",
       "      <th>Region</th>\n",
       "      <th>Continent</th>\n",
       "      <th>Start Year</th>\n",
       "      <th>Start Month</th>\n",
       "      <th>End Year</th>\n",
       "      <th>End Month</th>\n",
       "      <th>Total Deaths</th>\n",
       "      <th>No Injured</th>\n",
       "      <th>No Affected</th>\n",
       "      <th>No Homeless</th>\n",
       "      <th>Total Affected</th>\n",
       "    </tr>\n",
       "  </thead>\n",
       "  <tbody>\n",
       "    <tr>\n",
       "      <th>15358</th>\n",
       "      <td>2020-0134-IDN</td>\n",
       "      <td>2020</td>\n",
       "      <td>Flood</td>\n",
       "      <td>Flash flood</td>\n",
       "      <td>Indonesia</td>\n",
       "      <td>IDN</td>\n",
       "      <td>South-Eastern Asia</td>\n",
       "      <td>Asia</td>\n",
       "      <td>2020</td>\n",
       "      <td>4.0</td>\n",
       "      <td>2020</td>\n",
       "      <td>4.0</td>\n",
       "      <td>4.0</td>\n",
       "      <td>NaN</td>\n",
       "      <td>100.0</td>\n",
       "      <td>NaN</td>\n",
       "      <td>100.0</td>\n",
       "    </tr>\n",
       "    <tr>\n",
       "      <th>15359</th>\n",
       "      <td>2020-0250-IDN</td>\n",
       "      <td>2020</td>\n",
       "      <td>Flood</td>\n",
       "      <td>Flash flood</td>\n",
       "      <td>Indonesia</td>\n",
       "      <td>IDN</td>\n",
       "      <td>South-Eastern Asia</td>\n",
       "      <td>Asia</td>\n",
       "      <td>2020</td>\n",
       "      <td>6.0</td>\n",
       "      <td>2020</td>\n",
       "      <td>6.0</td>\n",
       "      <td>7.0</td>\n",
       "      <td>3.0</td>\n",
       "      <td>12000.0</td>\n",
       "      <td>NaN</td>\n",
       "      <td>12003.0</td>\n",
       "    </tr>\n",
       "    <tr>\n",
       "      <th>15360</th>\n",
       "      <td>2020-0544-IDN</td>\n",
       "      <td>2020</td>\n",
       "      <td>Flood</td>\n",
       "      <td>Riverine flood</td>\n",
       "      <td>Indonesia</td>\n",
       "      <td>IDN</td>\n",
       "      <td>South-Eastern Asia</td>\n",
       "      <td>Asia</td>\n",
       "      <td>2020</td>\n",
       "      <td>12.0</td>\n",
       "      <td>2020</td>\n",
       "      <td>12.0</td>\n",
       "      <td>2.0</td>\n",
       "      <td>2.0</td>\n",
       "      <td>1850.0</td>\n",
       "      <td>NaN</td>\n",
       "      <td>1852.0</td>\n",
       "    </tr>\n",
       "    <tr>\n",
       "      <th>15361</th>\n",
       "      <td>2020-0059-IDN</td>\n",
       "      <td>2020</td>\n",
       "      <td>Flood</td>\n",
       "      <td>NaN</td>\n",
       "      <td>Indonesia</td>\n",
       "      <td>IDN</td>\n",
       "      <td>South-Eastern Asia</td>\n",
       "      <td>Asia</td>\n",
       "      <td>2020</td>\n",
       "      <td>2.0</td>\n",
       "      <td>2020</td>\n",
       "      <td>2.0</td>\n",
       "      <td>6.0</td>\n",
       "      <td>NaN</td>\n",
       "      <td>115000.0</td>\n",
       "      <td>NaN</td>\n",
       "      <td>115000.0</td>\n",
       "    </tr>\n",
       "    <tr>\n",
       "      <th>15362</th>\n",
       "      <td>2020-0161-IDN</td>\n",
       "      <td>2020</td>\n",
       "      <td>Flood</td>\n",
       "      <td>NaN</td>\n",
       "      <td>Indonesia</td>\n",
       "      <td>IDN</td>\n",
       "      <td>South-Eastern Asia</td>\n",
       "      <td>Asia</td>\n",
       "      <td>2020</td>\n",
       "      <td>4.0</td>\n",
       "      <td>2020</td>\n",
       "      <td>4.0</td>\n",
       "      <td>NaN</td>\n",
       "      <td>NaN</td>\n",
       "      <td>2000.0</td>\n",
       "      <td>NaN</td>\n",
       "      <td>2000.0</td>\n",
       "    </tr>\n",
       "    <tr>\n",
       "      <th>15363</th>\n",
       "      <td>2020-0185-IDN</td>\n",
       "      <td>2020</td>\n",
       "      <td>Flood</td>\n",
       "      <td>NaN</td>\n",
       "      <td>Indonesia</td>\n",
       "      <td>IDN</td>\n",
       "      <td>South-Eastern Asia</td>\n",
       "      <td>Asia</td>\n",
       "      <td>2020</td>\n",
       "      <td>5.0</td>\n",
       "      <td>2020</td>\n",
       "      <td>5.0</td>\n",
       "      <td>7.0</td>\n",
       "      <td>NaN</td>\n",
       "      <td>3805.0</td>\n",
       "      <td>NaN</td>\n",
       "      <td>3805.0</td>\n",
       "    </tr>\n",
       "    <tr>\n",
       "      <th>15364</th>\n",
       "      <td>2020-0325-IDN</td>\n",
       "      <td>2020</td>\n",
       "      <td>Flood</td>\n",
       "      <td>NaN</td>\n",
       "      <td>Indonesia</td>\n",
       "      <td>IDN</td>\n",
       "      <td>South-Eastern Asia</td>\n",
       "      <td>Asia</td>\n",
       "      <td>2020</td>\n",
       "      <td>7.0</td>\n",
       "      <td>2020</td>\n",
       "      <td>7.0</td>\n",
       "      <td>105.0</td>\n",
       "      <td>51.0</td>\n",
       "      <td>14483.0</td>\n",
       "      <td>NaN</td>\n",
       "      <td>14534.0</td>\n",
       "    </tr>\n",
       "    <tr>\n",
       "      <th>15365</th>\n",
       "      <td>2020-0486-IDN</td>\n",
       "      <td>2020</td>\n",
       "      <td>Flood</td>\n",
       "      <td>NaN</td>\n",
       "      <td>Indonesia</td>\n",
       "      <td>IDN</td>\n",
       "      <td>South-Eastern Asia</td>\n",
       "      <td>Asia</td>\n",
       "      <td>2020</td>\n",
       "      <td>10.0</td>\n",
       "      <td>2020</td>\n",
       "      <td>10.0</td>\n",
       "      <td>15.0</td>\n",
       "      <td>NaN</td>\n",
       "      <td>10000.0</td>\n",
       "      <td>NaN</td>\n",
       "      <td>10000.0</td>\n",
       "    </tr>\n",
       "    <tr>\n",
       "      <th>15384</th>\n",
       "      <td>2020-0018-IDN</td>\n",
       "      <td>2020</td>\n",
       "      <td>Flood</td>\n",
       "      <td>Flash flood</td>\n",
       "      <td>Indonesia</td>\n",
       "      <td>IDN</td>\n",
       "      <td>South-Eastern Asia</td>\n",
       "      <td>Asia</td>\n",
       "      <td>2020</td>\n",
       "      <td>1.0</td>\n",
       "      <td>2020</td>\n",
       "      <td>1.0</td>\n",
       "      <td>10.0</td>\n",
       "      <td>NaN</td>\n",
       "      <td>NaN</td>\n",
       "      <td>NaN</td>\n",
       "      <td>NaN</td>\n",
       "    </tr>\n",
       "    <tr>\n",
       "      <th>15442</th>\n",
       "      <td>2020-0086-IDN</td>\n",
       "      <td>2020</td>\n",
       "      <td>Flood</td>\n",
       "      <td>Flash flood</td>\n",
       "      <td>Indonesia</td>\n",
       "      <td>IDN</td>\n",
       "      <td>South-Eastern Asia</td>\n",
       "      <td>Asia</td>\n",
       "      <td>2020</td>\n",
       "      <td>3.0</td>\n",
       "      <td>2020</td>\n",
       "      <td>3.0</td>\n",
       "      <td>2.0</td>\n",
       "      <td>NaN</td>\n",
       "      <td>40000.0</td>\n",
       "      <td>NaN</td>\n",
       "      <td>40000.0</td>\n",
       "    </tr>\n",
       "    <tr>\n",
       "      <th>15443</th>\n",
       "      <td>2020-0144-IDN</td>\n",
       "      <td>2020</td>\n",
       "      <td>Flood</td>\n",
       "      <td>Flash flood</td>\n",
       "      <td>Indonesia</td>\n",
       "      <td>IDN</td>\n",
       "      <td>South-Eastern Asia</td>\n",
       "      <td>Asia</td>\n",
       "      <td>2020</td>\n",
       "      <td>4.0</td>\n",
       "      <td>2020</td>\n",
       "      <td>4.0</td>\n",
       "      <td>NaN</td>\n",
       "      <td>NaN</td>\n",
       "      <td>25000.0</td>\n",
       "      <td>NaN</td>\n",
       "      <td>25000.0</td>\n",
       "    </tr>\n",
       "    <tr>\n",
       "      <th>15444</th>\n",
       "      <td>2020-0245-IDN</td>\n",
       "      <td>2020</td>\n",
       "      <td>Flood</td>\n",
       "      <td>Flash flood</td>\n",
       "      <td>Indonesia</td>\n",
       "      <td>IDN</td>\n",
       "      <td>South-Eastern Asia</td>\n",
       "      <td>Asia</td>\n",
       "      <td>2020</td>\n",
       "      <td>5.0</td>\n",
       "      <td>2020</td>\n",
       "      <td>6.0</td>\n",
       "      <td>4.0</td>\n",
       "      <td>NaN</td>\n",
       "      <td>41837.0</td>\n",
       "      <td>NaN</td>\n",
       "      <td>41837.0</td>\n",
       "    </tr>\n",
       "    <tr>\n",
       "      <th>15445</th>\n",
       "      <td>2020-0310-IDN</td>\n",
       "      <td>2020</td>\n",
       "      <td>Flood</td>\n",
       "      <td>Flash flood</td>\n",
       "      <td>Indonesia</td>\n",
       "      <td>IDN</td>\n",
       "      <td>South-Eastern Asia</td>\n",
       "      <td>Asia</td>\n",
       "      <td>2020</td>\n",
       "      <td>8.0</td>\n",
       "      <td>2020</td>\n",
       "      <td>8.0</td>\n",
       "      <td>NaN</td>\n",
       "      <td>NaN</td>\n",
       "      <td>23461.0</td>\n",
       "      <td>NaN</td>\n",
       "      <td>23461.0</td>\n",
       "    </tr>\n",
       "    <tr>\n",
       "      <th>15446</th>\n",
       "      <td>2020-0551-IDN</td>\n",
       "      <td>2020</td>\n",
       "      <td>Flood</td>\n",
       "      <td>Flash flood</td>\n",
       "      <td>Indonesia</td>\n",
       "      <td>IDN</td>\n",
       "      <td>South-Eastern Asia</td>\n",
       "      <td>Asia</td>\n",
       "      <td>2020</td>\n",
       "      <td>12.0</td>\n",
       "      <td>2020</td>\n",
       "      <td>12.0</td>\n",
       "      <td>NaN</td>\n",
       "      <td>NaN</td>\n",
       "      <td>18200.0</td>\n",
       "      <td>NaN</td>\n",
       "      <td>18200.0</td>\n",
       "    </tr>\n",
       "    <tr>\n",
       "      <th>15447</th>\n",
       "      <td>2020-0052-IDN</td>\n",
       "      <td>2020</td>\n",
       "      <td>Flood</td>\n",
       "      <td>Riverine flood</td>\n",
       "      <td>Indonesia</td>\n",
       "      <td>IDN</td>\n",
       "      <td>South-Eastern Asia</td>\n",
       "      <td>Asia</td>\n",
       "      <td>2020</td>\n",
       "      <td>2.0</td>\n",
       "      <td>2020</td>\n",
       "      <td>2.0</td>\n",
       "      <td>NaN</td>\n",
       "      <td>NaN</td>\n",
       "      <td>10905.0</td>\n",
       "      <td>NaN</td>\n",
       "      <td>10905.0</td>\n",
       "    </tr>\n",
       "    <tr>\n",
       "      <th>15449</th>\n",
       "      <td>2020-0014-IDN</td>\n",
       "      <td>2020</td>\n",
       "      <td>Flood</td>\n",
       "      <td>NaN</td>\n",
       "      <td>Indonesia</td>\n",
       "      <td>IDN</td>\n",
       "      <td>South-Eastern Asia</td>\n",
       "      <td>Asia</td>\n",
       "      <td>2020</td>\n",
       "      <td>1.0</td>\n",
       "      <td>2020</td>\n",
       "      <td>1.0</td>\n",
       "      <td>NaN</td>\n",
       "      <td>NaN</td>\n",
       "      <td>7213.0</td>\n",
       "      <td>NaN</td>\n",
       "      <td>7213.0</td>\n",
       "    </tr>\n",
       "    <tr>\n",
       "      <th>15450</th>\n",
       "      <td>2020-0033-IDN</td>\n",
       "      <td>2020</td>\n",
       "      <td>Flood</td>\n",
       "      <td>NaN</td>\n",
       "      <td>Indonesia</td>\n",
       "      <td>IDN</td>\n",
       "      <td>South-Eastern Asia</td>\n",
       "      <td>Asia</td>\n",
       "      <td>2020</td>\n",
       "      <td>1.0</td>\n",
       "      <td>2020</td>\n",
       "      <td>1.0</td>\n",
       "      <td>10.0</td>\n",
       "      <td>NaN</td>\n",
       "      <td>75000.0</td>\n",
       "      <td>NaN</td>\n",
       "      <td>75000.0</td>\n",
       "    </tr>\n",
       "    <tr>\n",
       "      <th>15451</th>\n",
       "      <td>2020-0036-IDN</td>\n",
       "      <td>2020</td>\n",
       "      <td>Flood</td>\n",
       "      <td>NaN</td>\n",
       "      <td>Indonesia</td>\n",
       "      <td>IDN</td>\n",
       "      <td>South-Eastern Asia</td>\n",
       "      <td>Asia</td>\n",
       "      <td>2020</td>\n",
       "      <td>1.0</td>\n",
       "      <td>2020</td>\n",
       "      <td>1.0</td>\n",
       "      <td>9.0</td>\n",
       "      <td>22.0</td>\n",
       "      <td>2100.0</td>\n",
       "      <td>NaN</td>\n",
       "      <td>2122.0</td>\n",
       "    </tr>\n",
       "    <tr>\n",
       "      <th>15452</th>\n",
       "      <td>2020-0068-IDN</td>\n",
       "      <td>2020</td>\n",
       "      <td>Flood</td>\n",
       "      <td>NaN</td>\n",
       "      <td>Indonesia</td>\n",
       "      <td>IDN</td>\n",
       "      <td>South-Eastern Asia</td>\n",
       "      <td>Asia</td>\n",
       "      <td>2020</td>\n",
       "      <td>2.0</td>\n",
       "      <td>2020</td>\n",
       "      <td>2.0</td>\n",
       "      <td>10.0</td>\n",
       "      <td>NaN</td>\n",
       "      <td>112000.0</td>\n",
       "      <td>NaN</td>\n",
       "      <td>112000.0</td>\n",
       "    </tr>\n",
       "    <tr>\n",
       "      <th>15453</th>\n",
       "      <td>2020-0115-IDN</td>\n",
       "      <td>2020</td>\n",
       "      <td>Flood</td>\n",
       "      <td>NaN</td>\n",
       "      <td>Indonesia</td>\n",
       "      <td>IDN</td>\n",
       "      <td>South-Eastern Asia</td>\n",
       "      <td>Asia</td>\n",
       "      <td>2020</td>\n",
       "      <td>3.0</td>\n",
       "      <td>2020</td>\n",
       "      <td>3.0</td>\n",
       "      <td>NaN</td>\n",
       "      <td>NaN</td>\n",
       "      <td>84609.0</td>\n",
       "      <td>NaN</td>\n",
       "      <td>84609.0</td>\n",
       "    </tr>\n",
       "    <tr>\n",
       "      <th>15454</th>\n",
       "      <td>2020-0121-IDN</td>\n",
       "      <td>2020</td>\n",
       "      <td>Flood</td>\n",
       "      <td>NaN</td>\n",
       "      <td>Indonesia</td>\n",
       "      <td>IDN</td>\n",
       "      <td>South-Eastern Asia</td>\n",
       "      <td>Asia</td>\n",
       "      <td>2020</td>\n",
       "      <td>3.0</td>\n",
       "      <td>2020</td>\n",
       "      <td>4.0</td>\n",
       "      <td>1.0</td>\n",
       "      <td>NaN</td>\n",
       "      <td>56488.0</td>\n",
       "      <td>NaN</td>\n",
       "      <td>56488.0</td>\n",
       "    </tr>\n",
       "    <tr>\n",
       "      <th>15455</th>\n",
       "      <td>2020-0151-IDN</td>\n",
       "      <td>2020</td>\n",
       "      <td>Flood</td>\n",
       "      <td>NaN</td>\n",
       "      <td>Indonesia</td>\n",
       "      <td>IDN</td>\n",
       "      <td>South-Eastern Asia</td>\n",
       "      <td>Asia</td>\n",
       "      <td>2020</td>\n",
       "      <td>4.0</td>\n",
       "      <td>2020</td>\n",
       "      <td>5.0</td>\n",
       "      <td>2.0</td>\n",
       "      <td>NaN</td>\n",
       "      <td>110000.0</td>\n",
       "      <td>NaN</td>\n",
       "      <td>110000.0</td>\n",
       "    </tr>\n",
       "    <tr>\n",
       "      <th>15456</th>\n",
       "      <td>2020-0224-IDN</td>\n",
       "      <td>2020</td>\n",
       "      <td>Flood</td>\n",
       "      <td>NaN</td>\n",
       "      <td>Indonesia</td>\n",
       "      <td>IDN</td>\n",
       "      <td>South-Eastern Asia</td>\n",
       "      <td>Asia</td>\n",
       "      <td>2020</td>\n",
       "      <td>6.0</td>\n",
       "      <td>2020</td>\n",
       "      <td>6.0</td>\n",
       "      <td>NaN</td>\n",
       "      <td>NaN</td>\n",
       "      <td>1835.0</td>\n",
       "      <td>NaN</td>\n",
       "      <td>1835.0</td>\n",
       "    </tr>\n",
       "    <tr>\n",
       "      <th>15457</th>\n",
       "      <td>2020-0265-IDN</td>\n",
       "      <td>2020</td>\n",
       "      <td>Flood</td>\n",
       "      <td>NaN</td>\n",
       "      <td>Indonesia</td>\n",
       "      <td>IDN</td>\n",
       "      <td>South-Eastern Asia</td>\n",
       "      <td>Asia</td>\n",
       "      <td>2020</td>\n",
       "      <td>6.0</td>\n",
       "      <td>2020</td>\n",
       "      <td>6.0</td>\n",
       "      <td>NaN</td>\n",
       "      <td>NaN</td>\n",
       "      <td>10000.0</td>\n",
       "      <td>NaN</td>\n",
       "      <td>10000.0</td>\n",
       "    </tr>\n",
       "    <tr>\n",
       "      <th>15458</th>\n",
       "      <td>2020-0532-IDN</td>\n",
       "      <td>2020</td>\n",
       "      <td>Flood</td>\n",
       "      <td>NaN</td>\n",
       "      <td>Indonesia</td>\n",
       "      <td>IDN</td>\n",
       "      <td>South-Eastern Asia</td>\n",
       "      <td>Asia</td>\n",
       "      <td>2020</td>\n",
       "      <td>12.0</td>\n",
       "      <td>2020</td>\n",
       "      <td>12.0</td>\n",
       "      <td>5.0</td>\n",
       "      <td>NaN</td>\n",
       "      <td>110000.0</td>\n",
       "      <td>NaN</td>\n",
       "      <td>110000.0</td>\n",
       "    </tr>\n",
       "    <tr>\n",
       "      <th>15556</th>\n",
       "      <td>2021-0005-IDN</td>\n",
       "      <td>2021</td>\n",
       "      <td>Flood</td>\n",
       "      <td>NaN</td>\n",
       "      <td>Indonesia</td>\n",
       "      <td>IDN</td>\n",
       "      <td>South-Eastern Asia</td>\n",
       "      <td>Asia</td>\n",
       "      <td>2021</td>\n",
       "      <td>1.0</td>\n",
       "      <td>2021</td>\n",
       "      <td>1.0</td>\n",
       "      <td>21.0</td>\n",
       "      <td>NaN</td>\n",
       "      <td>126025.0</td>\n",
       "      <td>NaN</td>\n",
       "      <td>126025.0</td>\n",
       "    </tr>\n",
       "    <tr>\n",
       "      <th>15557</th>\n",
       "      <td>2021-0165-IDN</td>\n",
       "      <td>2021</td>\n",
       "      <td>Flood</td>\n",
       "      <td>NaN</td>\n",
       "      <td>Indonesia</td>\n",
       "      <td>IDN</td>\n",
       "      <td>South-Eastern Asia</td>\n",
       "      <td>Asia</td>\n",
       "      <td>2021</td>\n",
       "      <td>3.0</td>\n",
       "      <td>2021</td>\n",
       "      <td>3.0</td>\n",
       "      <td>NaN</td>\n",
       "      <td>NaN</td>\n",
       "      <td>1974.0</td>\n",
       "      <td>NaN</td>\n",
       "      <td>1974.0</td>\n",
       "    </tr>\n",
       "    <tr>\n",
       "      <th>15558</th>\n",
       "      <td>2021-0185-IDN</td>\n",
       "      <td>2021</td>\n",
       "      <td>Flood</td>\n",
       "      <td>NaN</td>\n",
       "      <td>Indonesia</td>\n",
       "      <td>IDN</td>\n",
       "      <td>South-Eastern Asia</td>\n",
       "      <td>Asia</td>\n",
       "      <td>2021</td>\n",
       "      <td>3.0</td>\n",
       "      <td>2021</td>\n",
       "      <td>3.0</td>\n",
       "      <td>NaN</td>\n",
       "      <td>NaN</td>\n",
       "      <td>75506.0</td>\n",
       "      <td>NaN</td>\n",
       "      <td>75506.0</td>\n",
       "    </tr>\n",
       "    <tr>\n",
       "      <th>15559</th>\n",
       "      <td>2021-0379-IDN</td>\n",
       "      <td>2021</td>\n",
       "      <td>Flood</td>\n",
       "      <td>NaN</td>\n",
       "      <td>Indonesia</td>\n",
       "      <td>IDN</td>\n",
       "      <td>South-Eastern Asia</td>\n",
       "      <td>Asia</td>\n",
       "      <td>2021</td>\n",
       "      <td>7.0</td>\n",
       "      <td>2021</td>\n",
       "      <td>7.0</td>\n",
       "      <td>NaN</td>\n",
       "      <td>NaN</td>\n",
       "      <td>6408.0</td>\n",
       "      <td>NaN</td>\n",
       "      <td>6408.0</td>\n",
       "    </tr>\n",
       "    <tr>\n",
       "      <th>15560</th>\n",
       "      <td>2021-0530-IDN</td>\n",
       "      <td>2021</td>\n",
       "      <td>Flood</td>\n",
       "      <td>NaN</td>\n",
       "      <td>Indonesia</td>\n",
       "      <td>IDN</td>\n",
       "      <td>South-Eastern Asia</td>\n",
       "      <td>Asia</td>\n",
       "      <td>2021</td>\n",
       "      <td>8.0</td>\n",
       "      <td>2021</td>\n",
       "      <td>8.0</td>\n",
       "      <td>9.0</td>\n",
       "      <td>NaN</td>\n",
       "      <td>62900.0</td>\n",
       "      <td>NaN</td>\n",
       "      <td>62900.0</td>\n",
       "    </tr>\n",
       "    <tr>\n",
       "      <th>15561</th>\n",
       "      <td>2021-0584-IDN</td>\n",
       "      <td>2021</td>\n",
       "      <td>Flood</td>\n",
       "      <td>NaN</td>\n",
       "      <td>Indonesia</td>\n",
       "      <td>IDN</td>\n",
       "      <td>South-Eastern Asia</td>\n",
       "      <td>Asia</td>\n",
       "      <td>2021</td>\n",
       "      <td>9.0</td>\n",
       "      <td>2021</td>\n",
       "      <td>9.0</td>\n",
       "      <td>NaN</td>\n",
       "      <td>NaN</td>\n",
       "      <td>11839.0</td>\n",
       "      <td>NaN</td>\n",
       "      <td>11839.0</td>\n",
       "    </tr>\n",
       "    <tr>\n",
       "      <th>15562</th>\n",
       "      <td>2021-0823-IDN</td>\n",
       "      <td>2021</td>\n",
       "      <td>Flood</td>\n",
       "      <td>NaN</td>\n",
       "      <td>Indonesia</td>\n",
       "      <td>IDN</td>\n",
       "      <td>South-Eastern Asia</td>\n",
       "      <td>Asia</td>\n",
       "      <td>2021</td>\n",
       "      <td>12.0</td>\n",
       "      <td>2021</td>\n",
       "      <td>12.0</td>\n",
       "      <td>NaN</td>\n",
       "      <td>NaN</td>\n",
       "      <td>43000.0</td>\n",
       "      <td>NaN</td>\n",
       "      <td>43000.0</td>\n",
       "    </tr>\n",
       "    <tr>\n",
       "      <th>15646</th>\n",
       "      <td>2021-0719-IDN</td>\n",
       "      <td>2021</td>\n",
       "      <td>Flood</td>\n",
       "      <td>Flash flood</td>\n",
       "      <td>Indonesia</td>\n",
       "      <td>IDN</td>\n",
       "      <td>South-Eastern Asia</td>\n",
       "      <td>Asia</td>\n",
       "      <td>2021</td>\n",
       "      <td>11.0</td>\n",
       "      <td>2021</td>\n",
       "      <td>11.0</td>\n",
       "      <td>9.0</td>\n",
       "      <td>NaN</td>\n",
       "      <td>1275.0</td>\n",
       "      <td>NaN</td>\n",
       "      <td>1275.0</td>\n",
       "    </tr>\n",
       "    <tr>\n",
       "      <th>15647</th>\n",
       "      <td>2021-0023-IDN</td>\n",
       "      <td>2021</td>\n",
       "      <td>Flood</td>\n",
       "      <td>Riverine flood</td>\n",
       "      <td>Indonesia</td>\n",
       "      <td>IDN</td>\n",
       "      <td>South-Eastern Asia</td>\n",
       "      <td>Asia</td>\n",
       "      <td>2021</td>\n",
       "      <td>1.0</td>\n",
       "      <td>2021</td>\n",
       "      <td>1.0</td>\n",
       "      <td>3.0</td>\n",
       "      <td>NaN</td>\n",
       "      <td>10000.0</td>\n",
       "      <td>NaN</td>\n",
       "      <td>10000.0</td>\n",
       "    </tr>\n",
       "    <tr>\n",
       "      <th>15649</th>\n",
       "      <td>2021-0062-IDN</td>\n",
       "      <td>2021</td>\n",
       "      <td>Flood</td>\n",
       "      <td>NaN</td>\n",
       "      <td>Indonesia</td>\n",
       "      <td>IDN</td>\n",
       "      <td>South-Eastern Asia</td>\n",
       "      <td>Asia</td>\n",
       "      <td>2021</td>\n",
       "      <td>2.0</td>\n",
       "      <td>2021</td>\n",
       "      <td>2.0</td>\n",
       "      <td>2.0</td>\n",
       "      <td>NaN</td>\n",
       "      <td>25400.0</td>\n",
       "      <td>NaN</td>\n",
       "      <td>25400.0</td>\n",
       "    </tr>\n",
       "    <tr>\n",
       "      <th>15650</th>\n",
       "      <td>2021-0088-IDN</td>\n",
       "      <td>2021</td>\n",
       "      <td>Flood</td>\n",
       "      <td>NaN</td>\n",
       "      <td>Indonesia</td>\n",
       "      <td>IDN</td>\n",
       "      <td>South-Eastern Asia</td>\n",
       "      <td>Asia</td>\n",
       "      <td>2021</td>\n",
       "      <td>2.0</td>\n",
       "      <td>2021</td>\n",
       "      <td>2.0</td>\n",
       "      <td>7.0</td>\n",
       "      <td>NaN</td>\n",
       "      <td>228650.0</td>\n",
       "      <td>NaN</td>\n",
       "      <td>228650.0</td>\n",
       "    </tr>\n",
       "    <tr>\n",
       "      <th>15651</th>\n",
       "      <td>2021-0104-IDN</td>\n",
       "      <td>2021</td>\n",
       "      <td>Flood</td>\n",
       "      <td>NaN</td>\n",
       "      <td>Indonesia</td>\n",
       "      <td>IDN</td>\n",
       "      <td>South-Eastern Asia</td>\n",
       "      <td>Asia</td>\n",
       "      <td>2021</td>\n",
       "      <td>2.0</td>\n",
       "      <td>2021</td>\n",
       "      <td>2.0</td>\n",
       "      <td>1.0</td>\n",
       "      <td>NaN</td>\n",
       "      <td>90590.0</td>\n",
       "      <td>NaN</td>\n",
       "      <td>90590.0</td>\n",
       "    </tr>\n",
       "    <tr>\n",
       "      <th>15652</th>\n",
       "      <td>2021-0302-IDN</td>\n",
       "      <td>2021</td>\n",
       "      <td>Flood</td>\n",
       "      <td>NaN</td>\n",
       "      <td>Indonesia</td>\n",
       "      <td>IDN</td>\n",
       "      <td>South-Eastern Asia</td>\n",
       "      <td>Asia</td>\n",
       "      <td>2021</td>\n",
       "      <td>5.0</td>\n",
       "      <td>2021</td>\n",
       "      <td>5.0</td>\n",
       "      <td>NaN</td>\n",
       "      <td>NaN</td>\n",
       "      <td>59800.0</td>\n",
       "      <td>NaN</td>\n",
       "      <td>59800.0</td>\n",
       "    </tr>\n",
       "    <tr>\n",
       "      <th>15653</th>\n",
       "      <td>2021-0653-IDN</td>\n",
       "      <td>2021</td>\n",
       "      <td>Flood</td>\n",
       "      <td>NaN</td>\n",
       "      <td>Indonesia</td>\n",
       "      <td>IDN</td>\n",
       "      <td>South-Eastern Asia</td>\n",
       "      <td>Asia</td>\n",
       "      <td>2021</td>\n",
       "      <td>10.0</td>\n",
       "      <td>2021</td>\n",
       "      <td>10.0</td>\n",
       "      <td>NaN</td>\n",
       "      <td>NaN</td>\n",
       "      <td>79095.0</td>\n",
       "      <td>NaN</td>\n",
       "      <td>79095.0</td>\n",
       "    </tr>\n",
       "    <tr>\n",
       "      <th>15654</th>\n",
       "      <td>2021-0695-IDN</td>\n",
       "      <td>2021</td>\n",
       "      <td>Flood</td>\n",
       "      <td>NaN</td>\n",
       "      <td>Indonesia</td>\n",
       "      <td>IDN</td>\n",
       "      <td>South-Eastern Asia</td>\n",
       "      <td>Asia</td>\n",
       "      <td>2021</td>\n",
       "      <td>10.0</td>\n",
       "      <td>2021</td>\n",
       "      <td>10.0</td>\n",
       "      <td>NaN</td>\n",
       "      <td>NaN</td>\n",
       "      <td>2226.0</td>\n",
       "      <td>NaN</td>\n",
       "      <td>2226.0</td>\n",
       "    </tr>\n",
       "    <tr>\n",
       "      <th>15655</th>\n",
       "      <td>2021-0768-IDN</td>\n",
       "      <td>2021</td>\n",
       "      <td>Flood</td>\n",
       "      <td>NaN</td>\n",
       "      <td>Indonesia</td>\n",
       "      <td>IDN</td>\n",
       "      <td>South-Eastern Asia</td>\n",
       "      <td>Asia</td>\n",
       "      <td>2021</td>\n",
       "      <td>11.0</td>\n",
       "      <td>2021</td>\n",
       "      <td>11.0</td>\n",
       "      <td>NaN</td>\n",
       "      <td>8.0</td>\n",
       "      <td>11020.0</td>\n",
       "      <td>NaN</td>\n",
       "      <td>11028.0</td>\n",
       "    </tr>\n",
       "    <tr>\n",
       "      <th>15656</th>\n",
       "      <td>2021-0788-IDN</td>\n",
       "      <td>2021</td>\n",
       "      <td>Flood</td>\n",
       "      <td>NaN</td>\n",
       "      <td>Indonesia</td>\n",
       "      <td>IDN</td>\n",
       "      <td>South-Eastern Asia</td>\n",
       "      <td>Asia</td>\n",
       "      <td>2021</td>\n",
       "      <td>12.0</td>\n",
       "      <td>2021</td>\n",
       "      <td>12.0</td>\n",
       "      <td>6.0</td>\n",
       "      <td>8.0</td>\n",
       "      <td>78730.0</td>\n",
       "      <td>NaN</td>\n",
       "      <td>78738.0</td>\n",
       "    </tr>\n",
       "    <tr>\n",
       "      <th>15657</th>\n",
       "      <td>2021-0835-IDN</td>\n",
       "      <td>2021</td>\n",
       "      <td>Flood</td>\n",
       "      <td>NaN</td>\n",
       "      <td>Indonesia</td>\n",
       "      <td>IDN</td>\n",
       "      <td>South-Eastern Asia</td>\n",
       "      <td>Asia</td>\n",
       "      <td>2021</td>\n",
       "      <td>12.0</td>\n",
       "      <td>2022</td>\n",
       "      <td>1.0</td>\n",
       "      <td>2.0</td>\n",
       "      <td>NaN</td>\n",
       "      <td>27500.0</td>\n",
       "      <td>NaN</td>\n",
       "      <td>27500.0</td>\n",
       "    </tr>\n",
       "    <tr>\n",
       "      <th>15728</th>\n",
       "      <td>2022-0011-IDN</td>\n",
       "      <td>2022</td>\n",
       "      <td>Flood</td>\n",
       "      <td>NaN</td>\n",
       "      <td>Indonesia</td>\n",
       "      <td>IDN</td>\n",
       "      <td>South-Eastern Asia</td>\n",
       "      <td>Asia</td>\n",
       "      <td>2022</td>\n",
       "      <td>1.0</td>\n",
       "      <td>2022</td>\n",
       "      <td>1.0</td>\n",
       "      <td>10.0</td>\n",
       "      <td>NaN</td>\n",
       "      <td>6500.0</td>\n",
       "      <td>NaN</td>\n",
       "      <td>6500.0</td>\n",
       "    </tr>\n",
       "    <tr>\n",
       "      <th>15729</th>\n",
       "      <td>2022-0136-IDN</td>\n",
       "      <td>2022</td>\n",
       "      <td>Flood</td>\n",
       "      <td>NaN</td>\n",
       "      <td>Indonesia</td>\n",
       "      <td>IDN</td>\n",
       "      <td>South-Eastern Asia</td>\n",
       "      <td>Asia</td>\n",
       "      <td>2022</td>\n",
       "      <td>3.0</td>\n",
       "      <td>2022</td>\n",
       "      <td>3.0</td>\n",
       "      <td>4.0</td>\n",
       "      <td>3.0</td>\n",
       "      <td>16000.0</td>\n",
       "      <td>NaN</td>\n",
       "      <td>16003.0</td>\n",
       "    </tr>\n",
       "    <tr>\n",
       "      <th>15747</th>\n",
       "      <td>2022-0087-IDN</td>\n",
       "      <td>2022</td>\n",
       "      <td>Flood</td>\n",
       "      <td>NaN</td>\n",
       "      <td>Indonesia</td>\n",
       "      <td>IDN</td>\n",
       "      <td>South-Eastern Asia</td>\n",
       "      <td>Asia</td>\n",
       "      <td>2022</td>\n",
       "      <td>2.0</td>\n",
       "      <td>2022</td>\n",
       "      <td>2.0</td>\n",
       "      <td>1.0</td>\n",
       "      <td>NaN</td>\n",
       "      <td>14700.0</td>\n",
       "      <td>NaN</td>\n",
       "      <td>14700.0</td>\n",
       "    </tr>\n",
       "    <tr>\n",
       "      <th>15748</th>\n",
       "      <td>2022-0120-IDN</td>\n",
       "      <td>2022</td>\n",
       "      <td>Flood</td>\n",
       "      <td>NaN</td>\n",
       "      <td>Indonesia</td>\n",
       "      <td>IDN</td>\n",
       "      <td>South-Eastern Asia</td>\n",
       "      <td>Asia</td>\n",
       "      <td>2022</td>\n",
       "      <td>2.0</td>\n",
       "      <td>2022</td>\n",
       "      <td>3.0</td>\n",
       "      <td>5.0</td>\n",
       "      <td>NaN</td>\n",
       "      <td>31800.0</td>\n",
       "      <td>NaN</td>\n",
       "      <td>31800.0</td>\n",
       "    </tr>\n",
       "    <tr>\n",
       "      <th>16193</th>\n",
       "      <td>2022-0642-IDN</td>\n",
       "      <td>2022</td>\n",
       "      <td>Flood</td>\n",
       "      <td>Flash flood</td>\n",
       "      <td>Indonesia</td>\n",
       "      <td>IDN</td>\n",
       "      <td>South-Eastern Asia</td>\n",
       "      <td>Asia</td>\n",
       "      <td>2022</td>\n",
       "      <td>10.0</td>\n",
       "      <td>2022</td>\n",
       "      <td>10.0</td>\n",
       "      <td>10.0</td>\n",
       "      <td>2.0</td>\n",
       "      <td>40000.0</td>\n",
       "      <td>NaN</td>\n",
       "      <td>40002.0</td>\n",
       "    </tr>\n",
       "    <tr>\n",
       "      <th>16225</th>\n",
       "      <td>2022-0324-IDN</td>\n",
       "      <td>2022</td>\n",
       "      <td>Flood</td>\n",
       "      <td>NaN</td>\n",
       "      <td>Indonesia</td>\n",
       "      <td>IDN</td>\n",
       "      <td>South-Eastern Asia</td>\n",
       "      <td>Asia</td>\n",
       "      <td>2022</td>\n",
       "      <td>5.0</td>\n",
       "      <td>2022</td>\n",
       "      <td>5.0</td>\n",
       "      <td>NaN</td>\n",
       "      <td>1.0</td>\n",
       "      <td>17200.0</td>\n",
       "      <td>NaN</td>\n",
       "      <td>17201.0</td>\n",
       "    </tr>\n",
       "    <tr>\n",
       "      <th>16226</th>\n",
       "      <td>2022-0418-IDN</td>\n",
       "      <td>2022</td>\n",
       "      <td>Flood</td>\n",
       "      <td>NaN</td>\n",
       "      <td>Indonesia</td>\n",
       "      <td>IDN</td>\n",
       "      <td>South-Eastern Asia</td>\n",
       "      <td>Asia</td>\n",
       "      <td>2022</td>\n",
       "      <td>7.0</td>\n",
       "      <td>2022</td>\n",
       "      <td>7.0</td>\n",
       "      <td>7.0</td>\n",
       "      <td>NaN</td>\n",
       "      <td>3126.0</td>\n",
       "      <td>NaN</td>\n",
       "      <td>3126.0</td>\n",
       "    </tr>\n",
       "    <tr>\n",
       "      <th>16227</th>\n",
       "      <td>2022-0694-IDN</td>\n",
       "      <td>2022</td>\n",
       "      <td>Flood</td>\n",
       "      <td>NaN</td>\n",
       "      <td>Indonesia</td>\n",
       "      <td>IDN</td>\n",
       "      <td>South-Eastern Asia</td>\n",
       "      <td>Asia</td>\n",
       "      <td>2022</td>\n",
       "      <td>10.0</td>\n",
       "      <td>2022</td>\n",
       "      <td>10.0</td>\n",
       "      <td>5.0</td>\n",
       "      <td>3.0</td>\n",
       "      <td>200.0</td>\n",
       "      <td>NaN</td>\n",
       "      <td>203.0</td>\n",
       "    </tr>\n",
       "  </tbody>\n",
       "</table>\n",
       "</div>"
      ],
      "text/plain": [
       "              Dis No  Year Disaster Type Disaster Subtype    Country  ISO  \\\n",
       "15358  2020-0134-IDN  2020         Flood      Flash flood  Indonesia  IDN   \n",
       "15359  2020-0250-IDN  2020         Flood      Flash flood  Indonesia  IDN   \n",
       "15360  2020-0544-IDN  2020         Flood   Riverine flood  Indonesia  IDN   \n",
       "15361  2020-0059-IDN  2020         Flood              NaN  Indonesia  IDN   \n",
       "15362  2020-0161-IDN  2020         Flood              NaN  Indonesia  IDN   \n",
       "15363  2020-0185-IDN  2020         Flood              NaN  Indonesia  IDN   \n",
       "15364  2020-0325-IDN  2020         Flood              NaN  Indonesia  IDN   \n",
       "15365  2020-0486-IDN  2020         Flood              NaN  Indonesia  IDN   \n",
       "15384  2020-0018-IDN  2020         Flood      Flash flood  Indonesia  IDN   \n",
       "15442  2020-0086-IDN  2020         Flood      Flash flood  Indonesia  IDN   \n",
       "15443  2020-0144-IDN  2020         Flood      Flash flood  Indonesia  IDN   \n",
       "15444  2020-0245-IDN  2020         Flood      Flash flood  Indonesia  IDN   \n",
       "15445  2020-0310-IDN  2020         Flood      Flash flood  Indonesia  IDN   \n",
       "15446  2020-0551-IDN  2020         Flood      Flash flood  Indonesia  IDN   \n",
       "15447  2020-0052-IDN  2020         Flood   Riverine flood  Indonesia  IDN   \n",
       "15449  2020-0014-IDN  2020         Flood              NaN  Indonesia  IDN   \n",
       "15450  2020-0033-IDN  2020         Flood              NaN  Indonesia  IDN   \n",
       "15451  2020-0036-IDN  2020         Flood              NaN  Indonesia  IDN   \n",
       "15452  2020-0068-IDN  2020         Flood              NaN  Indonesia  IDN   \n",
       "15453  2020-0115-IDN  2020         Flood              NaN  Indonesia  IDN   \n",
       "15454  2020-0121-IDN  2020         Flood              NaN  Indonesia  IDN   \n",
       "15455  2020-0151-IDN  2020         Flood              NaN  Indonesia  IDN   \n",
       "15456  2020-0224-IDN  2020         Flood              NaN  Indonesia  IDN   \n",
       "15457  2020-0265-IDN  2020         Flood              NaN  Indonesia  IDN   \n",
       "15458  2020-0532-IDN  2020         Flood              NaN  Indonesia  IDN   \n",
       "15556  2021-0005-IDN  2021         Flood              NaN  Indonesia  IDN   \n",
       "15557  2021-0165-IDN  2021         Flood              NaN  Indonesia  IDN   \n",
       "15558  2021-0185-IDN  2021         Flood              NaN  Indonesia  IDN   \n",
       "15559  2021-0379-IDN  2021         Flood              NaN  Indonesia  IDN   \n",
       "15560  2021-0530-IDN  2021         Flood              NaN  Indonesia  IDN   \n",
       "15561  2021-0584-IDN  2021         Flood              NaN  Indonesia  IDN   \n",
       "15562  2021-0823-IDN  2021         Flood              NaN  Indonesia  IDN   \n",
       "15646  2021-0719-IDN  2021         Flood      Flash flood  Indonesia  IDN   \n",
       "15647  2021-0023-IDN  2021         Flood   Riverine flood  Indonesia  IDN   \n",
       "15649  2021-0062-IDN  2021         Flood              NaN  Indonesia  IDN   \n",
       "15650  2021-0088-IDN  2021         Flood              NaN  Indonesia  IDN   \n",
       "15651  2021-0104-IDN  2021         Flood              NaN  Indonesia  IDN   \n",
       "15652  2021-0302-IDN  2021         Flood              NaN  Indonesia  IDN   \n",
       "15653  2021-0653-IDN  2021         Flood              NaN  Indonesia  IDN   \n",
       "15654  2021-0695-IDN  2021         Flood              NaN  Indonesia  IDN   \n",
       "15655  2021-0768-IDN  2021         Flood              NaN  Indonesia  IDN   \n",
       "15656  2021-0788-IDN  2021         Flood              NaN  Indonesia  IDN   \n",
       "15657  2021-0835-IDN  2021         Flood              NaN  Indonesia  IDN   \n",
       "15728  2022-0011-IDN  2022         Flood              NaN  Indonesia  IDN   \n",
       "15729  2022-0136-IDN  2022         Flood              NaN  Indonesia  IDN   \n",
       "15747  2022-0087-IDN  2022         Flood              NaN  Indonesia  IDN   \n",
       "15748  2022-0120-IDN  2022         Flood              NaN  Indonesia  IDN   \n",
       "16193  2022-0642-IDN  2022         Flood      Flash flood  Indonesia  IDN   \n",
       "16225  2022-0324-IDN  2022         Flood              NaN  Indonesia  IDN   \n",
       "16226  2022-0418-IDN  2022         Flood              NaN  Indonesia  IDN   \n",
       "16227  2022-0694-IDN  2022         Flood              NaN  Indonesia  IDN   \n",
       "\n",
       "                   Region Continent  Start Year  Start Month  End Year  \\\n",
       "15358  South-Eastern Asia      Asia        2020          4.0      2020   \n",
       "15359  South-Eastern Asia      Asia        2020          6.0      2020   \n",
       "15360  South-Eastern Asia      Asia        2020         12.0      2020   \n",
       "15361  South-Eastern Asia      Asia        2020          2.0      2020   \n",
       "15362  South-Eastern Asia      Asia        2020          4.0      2020   \n",
       "15363  South-Eastern Asia      Asia        2020          5.0      2020   \n",
       "15364  South-Eastern Asia      Asia        2020          7.0      2020   \n",
       "15365  South-Eastern Asia      Asia        2020         10.0      2020   \n",
       "15384  South-Eastern Asia      Asia        2020          1.0      2020   \n",
       "15442  South-Eastern Asia      Asia        2020          3.0      2020   \n",
       "15443  South-Eastern Asia      Asia        2020          4.0      2020   \n",
       "15444  South-Eastern Asia      Asia        2020          5.0      2020   \n",
       "15445  South-Eastern Asia      Asia        2020          8.0      2020   \n",
       "15446  South-Eastern Asia      Asia        2020         12.0      2020   \n",
       "15447  South-Eastern Asia      Asia        2020          2.0      2020   \n",
       "15449  South-Eastern Asia      Asia        2020          1.0      2020   \n",
       "15450  South-Eastern Asia      Asia        2020          1.0      2020   \n",
       "15451  South-Eastern Asia      Asia        2020          1.0      2020   \n",
       "15452  South-Eastern Asia      Asia        2020          2.0      2020   \n",
       "15453  South-Eastern Asia      Asia        2020          3.0      2020   \n",
       "15454  South-Eastern Asia      Asia        2020          3.0      2020   \n",
       "15455  South-Eastern Asia      Asia        2020          4.0      2020   \n",
       "15456  South-Eastern Asia      Asia        2020          6.0      2020   \n",
       "15457  South-Eastern Asia      Asia        2020          6.0      2020   \n",
       "15458  South-Eastern Asia      Asia        2020         12.0      2020   \n",
       "15556  South-Eastern Asia      Asia        2021          1.0      2021   \n",
       "15557  South-Eastern Asia      Asia        2021          3.0      2021   \n",
       "15558  South-Eastern Asia      Asia        2021          3.0      2021   \n",
       "15559  South-Eastern Asia      Asia        2021          7.0      2021   \n",
       "15560  South-Eastern Asia      Asia        2021          8.0      2021   \n",
       "15561  South-Eastern Asia      Asia        2021          9.0      2021   \n",
       "15562  South-Eastern Asia      Asia        2021         12.0      2021   \n",
       "15646  South-Eastern Asia      Asia        2021         11.0      2021   \n",
       "15647  South-Eastern Asia      Asia        2021          1.0      2021   \n",
       "15649  South-Eastern Asia      Asia        2021          2.0      2021   \n",
       "15650  South-Eastern Asia      Asia        2021          2.0      2021   \n",
       "15651  South-Eastern Asia      Asia        2021          2.0      2021   \n",
       "15652  South-Eastern Asia      Asia        2021          5.0      2021   \n",
       "15653  South-Eastern Asia      Asia        2021         10.0      2021   \n",
       "15654  South-Eastern Asia      Asia        2021         10.0      2021   \n",
       "15655  South-Eastern Asia      Asia        2021         11.0      2021   \n",
       "15656  South-Eastern Asia      Asia        2021         12.0      2021   \n",
       "15657  South-Eastern Asia      Asia        2021         12.0      2022   \n",
       "15728  South-Eastern Asia      Asia        2022          1.0      2022   \n",
       "15729  South-Eastern Asia      Asia        2022          3.0      2022   \n",
       "15747  South-Eastern Asia      Asia        2022          2.0      2022   \n",
       "15748  South-Eastern Asia      Asia        2022          2.0      2022   \n",
       "16193  South-Eastern Asia      Asia        2022         10.0      2022   \n",
       "16225  South-Eastern Asia      Asia        2022          5.0      2022   \n",
       "16226  South-Eastern Asia      Asia        2022          7.0      2022   \n",
       "16227  South-Eastern Asia      Asia        2022         10.0      2022   \n",
       "\n",
       "       End Month  Total Deaths  No Injured  No Affected  No Homeless  \\\n",
       "15358        4.0           4.0         NaN        100.0          NaN   \n",
       "15359        6.0           7.0         3.0      12000.0          NaN   \n",
       "15360       12.0           2.0         2.0       1850.0          NaN   \n",
       "15361        2.0           6.0         NaN     115000.0          NaN   \n",
       "15362        4.0           NaN         NaN       2000.0          NaN   \n",
       "15363        5.0           7.0         NaN       3805.0          NaN   \n",
       "15364        7.0         105.0        51.0      14483.0          NaN   \n",
       "15365       10.0          15.0         NaN      10000.0          NaN   \n",
       "15384        1.0          10.0         NaN          NaN          NaN   \n",
       "15442        3.0           2.0         NaN      40000.0          NaN   \n",
       "15443        4.0           NaN         NaN      25000.0          NaN   \n",
       "15444        6.0           4.0         NaN      41837.0          NaN   \n",
       "15445        8.0           NaN         NaN      23461.0          NaN   \n",
       "15446       12.0           NaN         NaN      18200.0          NaN   \n",
       "15447        2.0           NaN         NaN      10905.0          NaN   \n",
       "15449        1.0           NaN         NaN       7213.0          NaN   \n",
       "15450        1.0          10.0         NaN      75000.0          NaN   \n",
       "15451        1.0           9.0        22.0       2100.0          NaN   \n",
       "15452        2.0          10.0         NaN     112000.0          NaN   \n",
       "15453        3.0           NaN         NaN      84609.0          NaN   \n",
       "15454        4.0           1.0         NaN      56488.0          NaN   \n",
       "15455        5.0           2.0         NaN     110000.0          NaN   \n",
       "15456        6.0           NaN         NaN       1835.0          NaN   \n",
       "15457        6.0           NaN         NaN      10000.0          NaN   \n",
       "15458       12.0           5.0         NaN     110000.0          NaN   \n",
       "15556        1.0          21.0         NaN     126025.0          NaN   \n",
       "15557        3.0           NaN         NaN       1974.0          NaN   \n",
       "15558        3.0           NaN         NaN      75506.0          NaN   \n",
       "15559        7.0           NaN         NaN       6408.0          NaN   \n",
       "15560        8.0           9.0         NaN      62900.0          NaN   \n",
       "15561        9.0           NaN         NaN      11839.0          NaN   \n",
       "15562       12.0           NaN         NaN      43000.0          NaN   \n",
       "15646       11.0           9.0         NaN       1275.0          NaN   \n",
       "15647        1.0           3.0         NaN      10000.0          NaN   \n",
       "15649        2.0           2.0         NaN      25400.0          NaN   \n",
       "15650        2.0           7.0         NaN     228650.0          NaN   \n",
       "15651        2.0           1.0         NaN      90590.0          NaN   \n",
       "15652        5.0           NaN         NaN      59800.0          NaN   \n",
       "15653       10.0           NaN         NaN      79095.0          NaN   \n",
       "15654       10.0           NaN         NaN       2226.0          NaN   \n",
       "15655       11.0           NaN         8.0      11020.0          NaN   \n",
       "15656       12.0           6.0         8.0      78730.0          NaN   \n",
       "15657        1.0           2.0         NaN      27500.0          NaN   \n",
       "15728        1.0          10.0         NaN       6500.0          NaN   \n",
       "15729        3.0           4.0         3.0      16000.0          NaN   \n",
       "15747        2.0           1.0         NaN      14700.0          NaN   \n",
       "15748        3.0           5.0         NaN      31800.0          NaN   \n",
       "16193       10.0          10.0         2.0      40000.0          NaN   \n",
       "16225        5.0           NaN         1.0      17200.0          NaN   \n",
       "16226        7.0           7.0         NaN       3126.0          NaN   \n",
       "16227       10.0           5.0         3.0        200.0          NaN   \n",
       "\n",
       "       Total Affected  \n",
       "15358           100.0  \n",
       "15359         12003.0  \n",
       "15360          1852.0  \n",
       "15361        115000.0  \n",
       "15362          2000.0  \n",
       "15363          3805.0  \n",
       "15364         14534.0  \n",
       "15365         10000.0  \n",
       "15384             NaN  \n",
       "15442         40000.0  \n",
       "15443         25000.0  \n",
       "15444         41837.0  \n",
       "15445         23461.0  \n",
       "15446         18200.0  \n",
       "15447         10905.0  \n",
       "15449          7213.0  \n",
       "15450         75000.0  \n",
       "15451          2122.0  \n",
       "15452        112000.0  \n",
       "15453         84609.0  \n",
       "15454         56488.0  \n",
       "15455        110000.0  \n",
       "15456          1835.0  \n",
       "15457         10000.0  \n",
       "15458        110000.0  \n",
       "15556        126025.0  \n",
       "15557          1974.0  \n",
       "15558         75506.0  \n",
       "15559          6408.0  \n",
       "15560         62900.0  \n",
       "15561         11839.0  \n",
       "15562         43000.0  \n",
       "15646          1275.0  \n",
       "15647         10000.0  \n",
       "15649         25400.0  \n",
       "15650        228650.0  \n",
       "15651         90590.0  \n",
       "15652         59800.0  \n",
       "15653         79095.0  \n",
       "15654          2226.0  \n",
       "15655         11028.0  \n",
       "15656         78738.0  \n",
       "15657         27500.0  \n",
       "15728          6500.0  \n",
       "15729         16003.0  \n",
       "15747         14700.0  \n",
       "15748         31800.0  \n",
       "16193         40002.0  \n",
       "16225         17201.0  \n",
       "16226          3126.0  \n",
       "16227           203.0  "
      ]
     },
     "execution_count": 688,
     "metadata": {},
     "output_type": "execute_result"
    }
   ],
   "source": [
    "test = cleaned_df[(cleaned_df[\"Country\"] == test_country) & (cleaned_df[\"Year\"].isin(chosen_years_recent))]\n",
    "test"
   ]
  },
  {
   "cell_type": "code",
   "execution_count": 689,
   "id": "b4bf9124",
   "metadata": {},
   "outputs": [
    {
     "data": {
      "text/plain": [
       "51"
      ]
     },
     "execution_count": 689,
     "metadata": {},
     "output_type": "execute_result"
    }
   ],
   "source": [
    "len(test)"
   ]
  },
  {
   "cell_type": "markdown",
   "id": "4f6e82c8",
   "metadata": {},
   "source": [
    "### Visualization"
   ]
  },
  {
   "cell_type": "markdown",
   "id": "e49ff166",
   "metadata": {},
   "source": [
    "#### Visualization of flood frequency "
   ]
  },
  {
   "cell_type": "code",
   "execution_count": 692,
   "id": "1a794bc0",
   "metadata": {},
   "outputs": [
    {
     "data": {
      "application/vnd.plotly.v1+json": {
       "config": {
        "plotlyServerURL": "https://plot.ly"
       },
       "data": [
        {
         "colorbar": {
          "title": {
           "text": "Flood frequency<br>(2020-2022)<br>"
          }
         },
         "colorscale": [
          [
           0,
           "rgb(210, 251, 212)"
          ],
          [
           0.16666666666666666,
           "rgb(165, 219, 194)"
          ],
          [
           0.3333333333333333,
           "rgb(123, 188, 176)"
          ],
          [
           0.5,
           "rgb(85, 156, 158)"
          ],
          [
           0.6666666666666666,
           "rgb(58, 124, 137)"
          ],
          [
           0.8333333333333334,
           "rgb(35, 93, 114)"
          ],
          [
           1,
           "rgb(18, 63, 90)"
          ]
         ],
         "locations": [
          "CPV",
          "IND",
          "BEL",
          "BFA",
          "GMB",
          "GNB",
          "CAN",
          "CHN",
          "AIA",
          "DFR",
          "DZA",
          "AUS",
          "BGD",
          "BRA",
          "FRA",
          "GTM",
          "ECU",
          "GBR",
          "ESP",
          "IDN",
          "EGY",
          "AFG",
          "ARG",
          "COL",
          "HTI",
          "HKG",
          "FJI",
          "BOL",
          "BWA",
          "CHL",
          "DOM",
          "ETH",
          "HND",
          "GHA",
          "BEN",
          "CRI",
          "BRB",
          "HUN",
          "CMR",
          "GUY",
          "CAF",
          "GRD",
          "CHE",
          "CUB",
          "DJI",
          "GRC",
          "JAM",
          "NER",
          "USA",
          "JPN",
          "MLI",
          "MRT",
          "SEN",
          "TCD",
          "SUN",
          "ROU",
          "MEX",
          "NZL",
          "ITA",
          "TUR",
          "IRN",
          "PAK",
          "MAR",
          "NLD",
          "IRQ",
          "NPL",
          "LBN",
          "KOR",
          "NIC",
          "SOM",
          "TUN",
          "JOR",
          "PRY",
          "KEN",
          "SAU",
          "TZA",
          "MMR",
          "MYS",
          "PER",
          "LAO",
          "LKA",
          "MNG",
          "PAN",
          "THA",
          "MOZ",
          "MWI",
          "PRT",
          "SYR",
          "UGA",
          "URY",
          "LSO",
          "PHL",
          "SUR",
          "PRI",
          "TGO",
          "RWA",
          "SDN",
          "POL",
          "SWE",
          "TWN",
          "ZAF",
          "VNM",
          "YUG",
          "VEN",
          "YMN",
          "YMD",
          "VCT",
          "ZMB",
          "BLZ",
          "CIV",
          "AUT",
          "GIN",
          "AGO",
          "COM",
          "BGR",
          "COG",
          "ATG",
          "CSK",
          "GLP",
          "BHS",
          "GAB",
          "LBR",
          "PNG",
          "MDG",
          "NAM",
          "NGA",
          "ISR",
          "LUX",
          "IRL",
          "KHM",
          "KNA",
          "MDV",
          "PRK",
          "ISL",
          "COD",
          "SWZ",
          "ZWE",
          "SLV",
          "STP",
          "WSM",
          "ALB",
          "BDI",
          "CYP",
          "DEU",
          "DNK",
          "BLR",
          "LTU",
          "RUS",
          "ERI",
          "MKD",
          "KAZ",
          "TJK",
          "YEM",
          "SCG",
          "TTO",
          "TKM",
          "UKR",
          "BTN",
          "AZE",
          "ARM",
          "BRN",
          "MDA",
          "GEO",
          "LBY",
          "NOR",
          "CZE",
          "GUF",
          "HRV",
          "KWT",
          "KGZ",
          "SLE",
          "SLB",
          "SVK",
          "SYC",
          "BIH",
          "FSM",
          "MUS",
          "KIR",
          "UZB",
          "SPI",
          "TLS",
          "VUT",
          "ASM",
          "FIN",
          "SVN",
          "MHL",
          "PSE",
          "MNE",
          "SRB",
          "SSD",
          "LCA",
          "TUV",
          "OMN",
          "TON",
          "ARE",
          "PYF",
          "LVA",
          "QAT",
          "PLW"
         ],
         "marker": {
          "line": {
           "color": "darkgray",
           "width": 0.5
          }
         },
         "text": [
          "Cabo Verde",
          "India",
          "Belgium",
          "Burkina Faso",
          "Gambia (the)",
          "Guinea-Bissau",
          "Canada",
          "China",
          "Anguilla",
          "Germany Fed Rep",
          "Algeria",
          "Australia",
          "Bangladesh",
          "Brazil",
          "France",
          "Guatemala",
          "Ecuador",
          "United Kingdom of Great Britain and Northern Ireland (the)",
          "Spain",
          "Indonesia",
          "Egypt",
          "Afghanistan",
          "Argentina",
          "Colombia",
          "Haiti",
          "Hong Kong",
          "Fiji",
          "Bolivia (Plurinational State of)",
          "Botswana",
          "Chile",
          "Dominican Republic (the)",
          "Ethiopia",
          "Honduras",
          "Ghana",
          "Benin",
          "Costa Rica",
          "Barbados",
          "Hungary",
          "Cameroon",
          "Guyana",
          "Central African Republic",
          "Grenada",
          "Switzerland",
          "Cuba",
          "Djibouti",
          "Greece",
          "Jamaica",
          "Niger (the)",
          "United States of America (the)",
          "Japan",
          "Mali",
          "Mauritania",
          "Senegal",
          "Chad",
          "Soviet Union",
          "Romania",
          "Mexico",
          "New Zealand",
          "Italy",
          "Turkey",
          "Iran (Islamic Republic of)",
          "Pakistan",
          "Morocco",
          "Netherlands (the)",
          "Iraq",
          "Nepal",
          "Lebanon",
          "Korea (the Republic of)",
          "Nicaragua",
          "Somalia",
          "Tunisia",
          "Jordan",
          "Paraguay",
          "Kenya",
          "Saudi Arabia",
          "Tanzania, United Republic of",
          "Myanmar",
          "Malaysia",
          "Peru",
          "Lao People's Democratic Republic (the)",
          "Sri Lanka",
          "Mongolia",
          "Panama",
          "Thailand",
          "Mozambique",
          "Malawi",
          "Portugal",
          "Syrian Arab Republic",
          "Uganda",
          "Uruguay",
          "Lesotho",
          "Philippines (the)",
          "Suriname",
          "Puerto Rico",
          "Togo",
          "Rwanda",
          "Sudan (the)",
          "Poland",
          "Sweden",
          "Taiwan (Province of China)",
          "South Africa",
          "Viet Nam",
          "Yugoslavia",
          "Venezuela (Bolivarian Republic of)",
          "Yemen Arab Rep",
          "Yemen P Dem Rep",
          "Saint Vincent and the Grenadines",
          "Zambia",
          "Belize",
          "Côte d’Ivoire",
          "Austria",
          "Guinea",
          "Angola",
          "Comoros (the)",
          "Bulgaria",
          "Congo (the)",
          "Antigua and Barbuda",
          "Czechoslovakia",
          "Guadeloupe",
          "Bahamas (the)",
          "Gabon",
          "Liberia",
          "Papua New Guinea",
          "Madagascar",
          "Namibia",
          "Nigeria",
          "Israel",
          "Luxembourg",
          "Ireland",
          "Cambodia",
          "Saint Kitts and Nevis",
          "Maldives",
          "Korea (the Democratic People's Republic of)",
          "Iceland",
          "Congo (the Democratic Republic of the)",
          "Eswatini",
          "Zimbabwe",
          "El Salvador",
          "Sao Tome and Principe",
          "Samoa",
          "Albania",
          "Burundi",
          "Cyprus",
          "Germany",
          "Denmark",
          "Belarus",
          "Lithuania",
          "Russian Federation (the)",
          "Eritrea",
          "Macedonia (the former Yugoslav Republic of)",
          "Kazakhstan",
          "Tajikistan",
          "Yemen",
          "Serbia Montenegro",
          "Trinidad and Tobago",
          "Turkmenistan",
          "Ukraine",
          "Bhutan",
          "Azerbaijan",
          "Armenia",
          "Brunei Darussalam",
          "Moldova (the Republic of)",
          "Georgia",
          "Libya",
          "Norway",
          "Czech Republic (the)",
          "French Guiana",
          "Croatia",
          "Kuwait",
          "Kyrgyzstan",
          "Sierra Leone",
          "Solomon Islands",
          "Slovakia",
          "Seychelles",
          "Bosnia and Herzegovina",
          "Micronesia (Federated States of)",
          "Mauritius",
          "Kiribati",
          "Uzbekistan",
          "Canary Is",
          "Timor-Leste",
          "Vanuatu",
          "American Samoa",
          "Finland",
          "Slovenia",
          "Marshall Islands (the)",
          "Palestine, State of",
          "Montenegro",
          "Serbia",
          "South Sudan",
          "Saint Lucia",
          "Tuvalu",
          "Oman",
          "Tonga",
          "United Arab Emirates (the)",
          "French Polynesia",
          "Latvia",
          "Qatar",
          "Palau"
         ],
         "type": "choropleth",
         "z": [
          1,
          17,
          1,
          3,
          1,
          0,
          4,
          13,
          0,
          0,
          2,
          10,
          3,
          21,
          9,
          6,
          8,
          1,
          2,
          51,
          2,
          11,
          2,
          21,
          3,
          0,
          0,
          10,
          0,
          1,
          1,
          3,
          3,
          5,
          3,
          1,
          0,
          0,
          1,
          2,
          2,
          0,
          1,
          1,
          1,
          2,
          0,
          4,
          17,
          4,
          1,
          3,
          2,
          4,
          0,
          2,
          7,
          5,
          4,
          8,
          10,
          9,
          2,
          1,
          3,
          7,
          0,
          3,
          0,
          4,
          3,
          0,
          2,
          2,
          1,
          6,
          2,
          16,
          12,
          1,
          8,
          5,
          3,
          15,
          3,
          1,
          0,
          1,
          10,
          2,
          0,
          6,
          2,
          0,
          1,
          8,
          3,
          2,
          1,
          0,
          9,
          8,
          0,
          7,
          0,
          0,
          0,
          4,
          0,
          2,
          1,
          3,
          4,
          0,
          2,
          3,
          0,
          0,
          0,
          0,
          0,
          0,
          3,
          3,
          2,
          6,
          1,
          1,
          0,
          4,
          0,
          0,
          2,
          0,
          7,
          0,
          1,
          1,
          1,
          0,
          1,
          3,
          0,
          1,
          0,
          0,
          0,
          4,
          0,
          0,
          1,
          2,
          10,
          0,
          0,
          0,
          1,
          1,
          0,
          0,
          0,
          0,
          3,
          0,
          0,
          1,
          1,
          0,
          0,
          0,
          1,
          0,
          2,
          0,
          2,
          0,
          0,
          0,
          2,
          0,
          1,
          0,
          0,
          0,
          1,
          0,
          0,
          0,
          2,
          3,
          0,
          0,
          1,
          0,
          0,
          0,
          0,
          0,
          0
         ]
        }
       ],
       "layout": {
        "geo": {
         "showcoastlines": false,
         "showframe": false
        },
        "template": {
         "data": {
          "bar": [
           {
            "error_x": {
             "color": "#2a3f5f"
            },
            "error_y": {
             "color": "#2a3f5f"
            },
            "marker": {
             "line": {
              "color": "#E5ECF6",
              "width": 0.5
             }
            },
            "type": "bar"
           }
          ],
          "barpolar": [
           {
            "marker": {
             "line": {
              "color": "#E5ECF6",
              "width": 0.5
             }
            },
            "type": "barpolar"
           }
          ],
          "carpet": [
           {
            "aaxis": {
             "endlinecolor": "#2a3f5f",
             "gridcolor": "white",
             "linecolor": "white",
             "minorgridcolor": "white",
             "startlinecolor": "#2a3f5f"
            },
            "baxis": {
             "endlinecolor": "#2a3f5f",
             "gridcolor": "white",
             "linecolor": "white",
             "minorgridcolor": "white",
             "startlinecolor": "#2a3f5f"
            },
            "type": "carpet"
           }
          ],
          "choropleth": [
           {
            "colorbar": {
             "outlinewidth": 0,
             "ticks": ""
            },
            "type": "choropleth"
           }
          ],
          "contour": [
           {
            "colorbar": {
             "outlinewidth": 0,
             "ticks": ""
            },
            "colorscale": [
             [
              0,
              "#0d0887"
             ],
             [
              0.1111111111111111,
              "#46039f"
             ],
             [
              0.2222222222222222,
              "#7201a8"
             ],
             [
              0.3333333333333333,
              "#9c179e"
             ],
             [
              0.4444444444444444,
              "#bd3786"
             ],
             [
              0.5555555555555556,
              "#d8576b"
             ],
             [
              0.6666666666666666,
              "#ed7953"
             ],
             [
              0.7777777777777778,
              "#fb9f3a"
             ],
             [
              0.8888888888888888,
              "#fdca26"
             ],
             [
              1,
              "#f0f921"
             ]
            ],
            "type": "contour"
           }
          ],
          "contourcarpet": [
           {
            "colorbar": {
             "outlinewidth": 0,
             "ticks": ""
            },
            "type": "contourcarpet"
           }
          ],
          "heatmap": [
           {
            "colorbar": {
             "outlinewidth": 0,
             "ticks": ""
            },
            "colorscale": [
             [
              0,
              "#0d0887"
             ],
             [
              0.1111111111111111,
              "#46039f"
             ],
             [
              0.2222222222222222,
              "#7201a8"
             ],
             [
              0.3333333333333333,
              "#9c179e"
             ],
             [
              0.4444444444444444,
              "#bd3786"
             ],
             [
              0.5555555555555556,
              "#d8576b"
             ],
             [
              0.6666666666666666,
              "#ed7953"
             ],
             [
              0.7777777777777778,
              "#fb9f3a"
             ],
             [
              0.8888888888888888,
              "#fdca26"
             ],
             [
              1,
              "#f0f921"
             ]
            ],
            "type": "heatmap"
           }
          ],
          "heatmapgl": [
           {
            "colorbar": {
             "outlinewidth": 0,
             "ticks": ""
            },
            "colorscale": [
             [
              0,
              "#0d0887"
             ],
             [
              0.1111111111111111,
              "#46039f"
             ],
             [
              0.2222222222222222,
              "#7201a8"
             ],
             [
              0.3333333333333333,
              "#9c179e"
             ],
             [
              0.4444444444444444,
              "#bd3786"
             ],
             [
              0.5555555555555556,
              "#d8576b"
             ],
             [
              0.6666666666666666,
              "#ed7953"
             ],
             [
              0.7777777777777778,
              "#fb9f3a"
             ],
             [
              0.8888888888888888,
              "#fdca26"
             ],
             [
              1,
              "#f0f921"
             ]
            ],
            "type": "heatmapgl"
           }
          ],
          "histogram": [
           {
            "marker": {
             "colorbar": {
              "outlinewidth": 0,
              "ticks": ""
             }
            },
            "type": "histogram"
           }
          ],
          "histogram2d": [
           {
            "colorbar": {
             "outlinewidth": 0,
             "ticks": ""
            },
            "colorscale": [
             [
              0,
              "#0d0887"
             ],
             [
              0.1111111111111111,
              "#46039f"
             ],
             [
              0.2222222222222222,
              "#7201a8"
             ],
             [
              0.3333333333333333,
              "#9c179e"
             ],
             [
              0.4444444444444444,
              "#bd3786"
             ],
             [
              0.5555555555555556,
              "#d8576b"
             ],
             [
              0.6666666666666666,
              "#ed7953"
             ],
             [
              0.7777777777777778,
              "#fb9f3a"
             ],
             [
              0.8888888888888888,
              "#fdca26"
             ],
             [
              1,
              "#f0f921"
             ]
            ],
            "type": "histogram2d"
           }
          ],
          "histogram2dcontour": [
           {
            "colorbar": {
             "outlinewidth": 0,
             "ticks": ""
            },
            "colorscale": [
             [
              0,
              "#0d0887"
             ],
             [
              0.1111111111111111,
              "#46039f"
             ],
             [
              0.2222222222222222,
              "#7201a8"
             ],
             [
              0.3333333333333333,
              "#9c179e"
             ],
             [
              0.4444444444444444,
              "#bd3786"
             ],
             [
              0.5555555555555556,
              "#d8576b"
             ],
             [
              0.6666666666666666,
              "#ed7953"
             ],
             [
              0.7777777777777778,
              "#fb9f3a"
             ],
             [
              0.8888888888888888,
              "#fdca26"
             ],
             [
              1,
              "#f0f921"
             ]
            ],
            "type": "histogram2dcontour"
           }
          ],
          "mesh3d": [
           {
            "colorbar": {
             "outlinewidth": 0,
             "ticks": ""
            },
            "type": "mesh3d"
           }
          ],
          "parcoords": [
           {
            "line": {
             "colorbar": {
              "outlinewidth": 0,
              "ticks": ""
             }
            },
            "type": "parcoords"
           }
          ],
          "pie": [
           {
            "automargin": true,
            "type": "pie"
           }
          ],
          "scatter": [
           {
            "marker": {
             "colorbar": {
              "outlinewidth": 0,
              "ticks": ""
             }
            },
            "type": "scatter"
           }
          ],
          "scatter3d": [
           {
            "line": {
             "colorbar": {
              "outlinewidth": 0,
              "ticks": ""
             }
            },
            "marker": {
             "colorbar": {
              "outlinewidth": 0,
              "ticks": ""
             }
            },
            "type": "scatter3d"
           }
          ],
          "scattercarpet": [
           {
            "marker": {
             "colorbar": {
              "outlinewidth": 0,
              "ticks": ""
             }
            },
            "type": "scattercarpet"
           }
          ],
          "scattergeo": [
           {
            "marker": {
             "colorbar": {
              "outlinewidth": 0,
              "ticks": ""
             }
            },
            "type": "scattergeo"
           }
          ],
          "scattergl": [
           {
            "marker": {
             "colorbar": {
              "outlinewidth": 0,
              "ticks": ""
             }
            },
            "type": "scattergl"
           }
          ],
          "scattermapbox": [
           {
            "marker": {
             "colorbar": {
              "outlinewidth": 0,
              "ticks": ""
             }
            },
            "type": "scattermapbox"
           }
          ],
          "scatterpolar": [
           {
            "marker": {
             "colorbar": {
              "outlinewidth": 0,
              "ticks": ""
             }
            },
            "type": "scatterpolar"
           }
          ],
          "scatterpolargl": [
           {
            "marker": {
             "colorbar": {
              "outlinewidth": 0,
              "ticks": ""
             }
            },
            "type": "scatterpolargl"
           }
          ],
          "scatterternary": [
           {
            "marker": {
             "colorbar": {
              "outlinewidth": 0,
              "ticks": ""
             }
            },
            "type": "scatterternary"
           }
          ],
          "surface": [
           {
            "colorbar": {
             "outlinewidth": 0,
             "ticks": ""
            },
            "colorscale": [
             [
              0,
              "#0d0887"
             ],
             [
              0.1111111111111111,
              "#46039f"
             ],
             [
              0.2222222222222222,
              "#7201a8"
             ],
             [
              0.3333333333333333,
              "#9c179e"
             ],
             [
              0.4444444444444444,
              "#bd3786"
             ],
             [
              0.5555555555555556,
              "#d8576b"
             ],
             [
              0.6666666666666666,
              "#ed7953"
             ],
             [
              0.7777777777777778,
              "#fb9f3a"
             ],
             [
              0.8888888888888888,
              "#fdca26"
             ],
             [
              1,
              "#f0f921"
             ]
            ],
            "type": "surface"
           }
          ],
          "table": [
           {
            "cells": {
             "fill": {
              "color": "#EBF0F8"
             },
             "line": {
              "color": "white"
             }
            },
            "header": {
             "fill": {
              "color": "#C8D4E3"
             },
             "line": {
              "color": "white"
             }
            },
            "type": "table"
           }
          ]
         },
         "layout": {
          "annotationdefaults": {
           "arrowcolor": "#2a3f5f",
           "arrowhead": 0,
           "arrowwidth": 1
          },
          "autotypenumbers": "strict",
          "coloraxis": {
           "colorbar": {
            "outlinewidth": 0,
            "ticks": ""
           }
          },
          "colorscale": {
           "diverging": [
            [
             0,
             "#8e0152"
            ],
            [
             0.1,
             "#c51b7d"
            ],
            [
             0.2,
             "#de77ae"
            ],
            [
             0.3,
             "#f1b6da"
            ],
            [
             0.4,
             "#fde0ef"
            ],
            [
             0.5,
             "#f7f7f7"
            ],
            [
             0.6,
             "#e6f5d0"
            ],
            [
             0.7,
             "#b8e186"
            ],
            [
             0.8,
             "#7fbc41"
            ],
            [
             0.9,
             "#4d9221"
            ],
            [
             1,
             "#276419"
            ]
           ],
           "sequential": [
            [
             0,
             "#0d0887"
            ],
            [
             0.1111111111111111,
             "#46039f"
            ],
            [
             0.2222222222222222,
             "#7201a8"
            ],
            [
             0.3333333333333333,
             "#9c179e"
            ],
            [
             0.4444444444444444,
             "#bd3786"
            ],
            [
             0.5555555555555556,
             "#d8576b"
            ],
            [
             0.6666666666666666,
             "#ed7953"
            ],
            [
             0.7777777777777778,
             "#fb9f3a"
            ],
            [
             0.8888888888888888,
             "#fdca26"
            ],
            [
             1,
             "#f0f921"
            ]
           ],
           "sequentialminus": [
            [
             0,
             "#0d0887"
            ],
            [
             0.1111111111111111,
             "#46039f"
            ],
            [
             0.2222222222222222,
             "#7201a8"
            ],
            [
             0.3333333333333333,
             "#9c179e"
            ],
            [
             0.4444444444444444,
             "#bd3786"
            ],
            [
             0.5555555555555556,
             "#d8576b"
            ],
            [
             0.6666666666666666,
             "#ed7953"
            ],
            [
             0.7777777777777778,
             "#fb9f3a"
            ],
            [
             0.8888888888888888,
             "#fdca26"
            ],
            [
             1,
             "#f0f921"
            ]
           ]
          },
          "colorway": [
           "#636efa",
           "#EF553B",
           "#00cc96",
           "#ab63fa",
           "#FFA15A",
           "#19d3f3",
           "#FF6692",
           "#B6E880",
           "#FF97FF",
           "#FECB52"
          ],
          "font": {
           "color": "#2a3f5f"
          },
          "geo": {
           "bgcolor": "white",
           "lakecolor": "white",
           "landcolor": "#E5ECF6",
           "showlakes": true,
           "showland": true,
           "subunitcolor": "white"
          },
          "hoverlabel": {
           "align": "left"
          },
          "hovermode": "closest",
          "mapbox": {
           "style": "light"
          },
          "paper_bgcolor": "white",
          "plot_bgcolor": "#E5ECF6",
          "polar": {
           "angularaxis": {
            "gridcolor": "white",
            "linecolor": "white",
            "ticks": ""
           },
           "bgcolor": "#E5ECF6",
           "radialaxis": {
            "gridcolor": "white",
            "linecolor": "white",
            "ticks": ""
           }
          },
          "scene": {
           "xaxis": {
            "backgroundcolor": "#E5ECF6",
            "gridcolor": "white",
            "gridwidth": 2,
            "linecolor": "white",
            "showbackground": true,
            "ticks": "",
            "zerolinecolor": "white"
           },
           "yaxis": {
            "backgroundcolor": "#E5ECF6",
            "gridcolor": "white",
            "gridwidth": 2,
            "linecolor": "white",
            "showbackground": true,
            "ticks": "",
            "zerolinecolor": "white"
           },
           "zaxis": {
            "backgroundcolor": "#E5ECF6",
            "gridcolor": "white",
            "gridwidth": 2,
            "linecolor": "white",
            "showbackground": true,
            "ticks": "",
            "zerolinecolor": "white"
           }
          },
          "shapedefaults": {
           "line": {
            "color": "#2a3f5f"
           }
          },
          "ternary": {
           "aaxis": {
            "gridcolor": "white",
            "linecolor": "white",
            "ticks": ""
           },
           "baxis": {
            "gridcolor": "white",
            "linecolor": "white",
            "ticks": ""
           },
           "bgcolor": "#E5ECF6",
           "caxis": {
            "gridcolor": "white",
            "linecolor": "white",
            "ticks": ""
           }
          },
          "title": {
           "x": 0.05
          },
          "xaxis": {
           "automargin": true,
           "gridcolor": "white",
           "linecolor": "white",
           "ticks": "",
           "title": {
            "standoff": 15
           },
           "zerolinecolor": "white",
           "zerolinewidth": 2
          },
          "yaxis": {
           "automargin": true,
           "gridcolor": "white",
           "linecolor": "white",
           "ticks": "",
           "title": {
            "standoff": 15
           },
           "zerolinecolor": "white",
           "zerolinewidth": 2
          }
         }
        },
        "title": {
         "text": "Flood frequency (2020-2022)"
        }
       }
      },
      "text/html": [
       "<div>                            <div id=\"13c7d3fb-deed-4ddb-a6ef-b1b800e9cb1b\" class=\"plotly-graph-div\" style=\"height:525px; width:100%;\"></div>            <script type=\"text/javascript\">                require([\"plotly\"], function(Plotly) {                    window.PLOTLYENV=window.PLOTLYENV || {};                                    if (document.getElementById(\"13c7d3fb-deed-4ddb-a6ef-b1b800e9cb1b\")) {                    Plotly.newPlot(                        \"13c7d3fb-deed-4ddb-a6ef-b1b800e9cb1b\",                        [{\"colorbar\": {\"title\": {\"text\": \"Flood frequency<br>(2020-2022)<br>\"}}, \"colorscale\": [[0.0, \"rgb(210, 251, 212)\"], [0.16666666666666666, \"rgb(165, 219, 194)\"], [0.3333333333333333, \"rgb(123, 188, 176)\"], [0.5, \"rgb(85, 156, 158)\"], [0.6666666666666666, \"rgb(58, 124, 137)\"], [0.8333333333333334, \"rgb(35, 93, 114)\"], [1.0, \"rgb(18, 63, 90)\"]], \"locations\": [\"CPV\", \"IND\", \"BEL\", \"BFA\", \"GMB\", \"GNB\", \"CAN\", \"CHN\", \"AIA\", \"DFR\", \"DZA\", \"AUS\", \"BGD\", \"BRA\", \"FRA\", \"GTM\", \"ECU\", \"GBR\", \"ESP\", \"IDN\", \"EGY\", \"AFG\", \"ARG\", \"COL\", \"HTI\", \"HKG\", \"FJI\", \"BOL\", \"BWA\", \"CHL\", \"DOM\", \"ETH\", \"HND\", \"GHA\", \"BEN\", \"CRI\", \"BRB\", \"HUN\", \"CMR\", \"GUY\", \"CAF\", \"GRD\", \"CHE\", \"CUB\", \"DJI\", \"GRC\", \"JAM\", \"NER\", \"USA\", \"JPN\", \"MLI\", \"MRT\", \"SEN\", \"TCD\", \"SUN\", \"ROU\", \"MEX\", \"NZL\", \"ITA\", \"TUR\", \"IRN\", \"PAK\", \"MAR\", \"NLD\", \"IRQ\", \"NPL\", \"LBN\", \"KOR\", \"NIC\", \"SOM\", \"TUN\", \"JOR\", \"PRY\", \"KEN\", \"SAU\", \"TZA\", \"MMR\", \"MYS\", \"PER\", \"LAO\", \"LKA\", \"MNG\", \"PAN\", \"THA\", \"MOZ\", \"MWI\", \"PRT\", \"SYR\", \"UGA\", \"URY\", \"LSO\", \"PHL\", \"SUR\", \"PRI\", \"TGO\", \"RWA\", \"SDN\", \"POL\", \"SWE\", \"TWN\", \"ZAF\", \"VNM\", \"YUG\", \"VEN\", \"YMN\", \"YMD\", \"VCT\", \"ZMB\", \"BLZ\", \"CIV\", \"AUT\", \"GIN\", \"AGO\", \"COM\", \"BGR\", \"COG\", \"ATG\", \"CSK\", \"GLP\", \"BHS\", \"GAB\", \"LBR\", \"PNG\", \"MDG\", \"NAM\", \"NGA\", \"ISR\", \"LUX\", \"IRL\", \"KHM\", \"KNA\", \"MDV\", \"PRK\", \"ISL\", \"COD\", \"SWZ\", \"ZWE\", \"SLV\", \"STP\", \"WSM\", \"ALB\", \"BDI\", \"CYP\", \"DEU\", \"DNK\", \"BLR\", \"LTU\", \"RUS\", \"ERI\", \"MKD\", \"KAZ\", \"TJK\", \"YEM\", \"SCG\", \"TTO\", \"TKM\", \"UKR\", \"BTN\", \"AZE\", \"ARM\", \"BRN\", \"MDA\", \"GEO\", \"LBY\", \"NOR\", \"CZE\", \"GUF\", \"HRV\", \"KWT\", \"KGZ\", \"SLE\", \"SLB\", \"SVK\", \"SYC\", \"BIH\", \"FSM\", \"MUS\", \"KIR\", \"UZB\", \"SPI\", \"TLS\", \"VUT\", \"ASM\", \"FIN\", \"SVN\", \"MHL\", \"PSE\", \"MNE\", \"SRB\", \"SSD\", \"LCA\", \"TUV\", \"OMN\", \"TON\", \"ARE\", \"PYF\", \"LVA\", \"QAT\", \"PLW\"], \"marker\": {\"line\": {\"color\": \"darkgray\", \"width\": 0.5}}, \"text\": [\"Cabo Verde\", \"India\", \"Belgium\", \"Burkina Faso\", \"Gambia (the)\", \"Guinea-Bissau\", \"Canada\", \"China\", \"Anguilla\", \"Germany Fed Rep\", \"Algeria\", \"Australia\", \"Bangladesh\", \"Brazil\", \"France\", \"Guatemala\", \"Ecuador\", \"United Kingdom of Great Britain and Northern Ireland (the)\", \"Spain\", \"Indonesia\", \"Egypt\", \"Afghanistan\", \"Argentina\", \"Colombia\", \"Haiti\", \"Hong Kong\", \"Fiji\", \"Bolivia (Plurinational State of)\", \"Botswana\", \"Chile\", \"Dominican Republic (the)\", \"Ethiopia\", \"Honduras\", \"Ghana\", \"Benin\", \"Costa Rica\", \"Barbados\", \"Hungary\", \"Cameroon\", \"Guyana\", \"Central African Republic\", \"Grenada\", \"Switzerland\", \"Cuba\", \"Djibouti\", \"Greece\", \"Jamaica\", \"Niger (the)\", \"United States of America (the)\", \"Japan\", \"Mali\", \"Mauritania\", \"Senegal\", \"Chad\", \"Soviet Union\", \"Romania\", \"Mexico\", \"New Zealand\", \"Italy\", \"Turkey\", \"Iran (Islamic Republic of)\", \"Pakistan\", \"Morocco\", \"Netherlands (the)\", \"Iraq\", \"Nepal\", \"Lebanon\", \"Korea (the Republic of)\", \"Nicaragua\", \"Somalia\", \"Tunisia\", \"Jordan\", \"Paraguay\", \"Kenya\", \"Saudi Arabia\", \"Tanzania, United Republic of\", \"Myanmar\", \"Malaysia\", \"Peru\", \"Lao People's Democratic Republic (the)\", \"Sri Lanka\", \"Mongolia\", \"Panama\", \"Thailand\", \"Mozambique\", \"Malawi\", \"Portugal\", \"Syrian Arab Republic\", \"Uganda\", \"Uruguay\", \"Lesotho\", \"Philippines (the)\", \"Suriname\", \"Puerto Rico\", \"Togo\", \"Rwanda\", \"Sudan (the)\", \"Poland\", \"Sweden\", \"Taiwan (Province of China)\", \"South Africa\", \"Viet Nam\", \"Yugoslavia\", \"Venezuela (Bolivarian Republic of)\", \"Yemen Arab Rep\", \"Yemen P Dem Rep\", \"Saint Vincent and the Grenadines\", \"Zambia\", \"Belize\", \"C\\u00f4te d\\u2019Ivoire\", \"Austria\", \"Guinea\", \"Angola\", \"Comoros (the)\", \"Bulgaria\", \"Congo (the)\", \"Antigua and Barbuda\", \"Czechoslovakia\", \"Guadeloupe\", \"Bahamas (the)\", \"Gabon\", \"Liberia\", \"Papua New Guinea\", \"Madagascar\", \"Namibia\", \"Nigeria\", \"Israel\", \"Luxembourg\", \"Ireland\", \"Cambodia\", \"Saint Kitts and Nevis\", \"Maldives\", \"Korea (the Democratic People's Republic of)\", \"Iceland\", \"Congo (the Democratic Republic of the)\", \"Eswatini\", \"Zimbabwe\", \"El Salvador\", \"Sao Tome and Principe\", \"Samoa\", \"Albania\", \"Burundi\", \"Cyprus\", \"Germany\", \"Denmark\", \"Belarus\", \"Lithuania\", \"Russian Federation (the)\", \"Eritrea\", \"Macedonia (the former Yugoslav Republic of)\", \"Kazakhstan\", \"Tajikistan\", \"Yemen\", \"Serbia Montenegro\", \"Trinidad and Tobago\", \"Turkmenistan\", \"Ukraine\", \"Bhutan\", \"Azerbaijan\", \"Armenia\", \"Brunei Darussalam\", \"Moldova (the Republic of)\", \"Georgia\", \"Libya\", \"Norway\", \"Czech Republic (the)\", \"French Guiana\", \"Croatia\", \"Kuwait\", \"Kyrgyzstan\", \"Sierra Leone\", \"Solomon Islands\", \"Slovakia\", \"Seychelles\", \"Bosnia and Herzegovina\", \"Micronesia (Federated States of)\", \"Mauritius\", \"Kiribati\", \"Uzbekistan\", \"Canary Is\", \"Timor-Leste\", \"Vanuatu\", \"American Samoa\", \"Finland\", \"Slovenia\", \"Marshall Islands (the)\", \"Palestine, State of\", \"Montenegro\", \"Serbia\", \"South Sudan\", \"Saint Lucia\", \"Tuvalu\", \"Oman\", \"Tonga\", \"United Arab Emirates (the)\", \"French Polynesia\", \"Latvia\", \"Qatar\", \"Palau\"], \"type\": \"choropleth\", \"z\": [1, 17, 1, 3, 1, 0, 4, 13, 0, 0, 2, 10, 3, 21, 9, 6, 8, 1, 2, 51, 2, 11, 2, 21, 3, 0, 0, 10, 0, 1, 1, 3, 3, 5, 3, 1, 0, 0, 1, 2, 2, 0, 1, 1, 1, 2, 0, 4, 17, 4, 1, 3, 2, 4, 0, 2, 7, 5, 4, 8, 10, 9, 2, 1, 3, 7, 0, 3, 0, 4, 3, 0, 2, 2, 1, 6, 2, 16, 12, 1, 8, 5, 3, 15, 3, 1, 0, 1, 10, 2, 0, 6, 2, 0, 1, 8, 3, 2, 1, 0, 9, 8, 0, 7, 0, 0, 0, 4, 0, 2, 1, 3, 4, 0, 2, 3, 0, 0, 0, 0, 0, 0, 3, 3, 2, 6, 1, 1, 0, 4, 0, 0, 2, 0, 7, 0, 1, 1, 1, 0, 1, 3, 0, 1, 0, 0, 0, 4, 0, 0, 1, 2, 10, 0, 0, 0, 1, 1, 0, 0, 0, 0, 3, 0, 0, 1, 1, 0, 0, 0, 1, 0, 2, 0, 2, 0, 0, 0, 2, 0, 1, 0, 0, 0, 1, 0, 0, 0, 2, 3, 0, 0, 1, 0, 0, 0, 0, 0, 0]}],                        {\"geo\": {\"showcoastlines\": false, \"showframe\": false}, \"template\": {\"data\": {\"bar\": [{\"error_x\": {\"color\": \"#2a3f5f\"}, \"error_y\": {\"color\": \"#2a3f5f\"}, \"marker\": {\"line\": {\"color\": \"#E5ECF6\", \"width\": 0.5}}, \"type\": \"bar\"}], \"barpolar\": [{\"marker\": {\"line\": {\"color\": \"#E5ECF6\", \"width\": 0.5}}, \"type\": \"barpolar\"}], \"carpet\": [{\"aaxis\": {\"endlinecolor\": \"#2a3f5f\", \"gridcolor\": \"white\", \"linecolor\": \"white\", \"minorgridcolor\": \"white\", \"startlinecolor\": \"#2a3f5f\"}, \"baxis\": {\"endlinecolor\": \"#2a3f5f\", \"gridcolor\": \"white\", \"linecolor\": \"white\", \"minorgridcolor\": \"white\", \"startlinecolor\": \"#2a3f5f\"}, \"type\": \"carpet\"}], \"choropleth\": [{\"colorbar\": {\"outlinewidth\": 0, \"ticks\": \"\"}, \"type\": \"choropleth\"}], \"contour\": [{\"colorbar\": {\"outlinewidth\": 0, \"ticks\": \"\"}, \"colorscale\": [[0.0, \"#0d0887\"], [0.1111111111111111, \"#46039f\"], [0.2222222222222222, \"#7201a8\"], [0.3333333333333333, \"#9c179e\"], [0.4444444444444444, \"#bd3786\"], [0.5555555555555556, \"#d8576b\"], [0.6666666666666666, \"#ed7953\"], [0.7777777777777778, \"#fb9f3a\"], [0.8888888888888888, \"#fdca26\"], [1.0, \"#f0f921\"]], \"type\": \"contour\"}], \"contourcarpet\": [{\"colorbar\": {\"outlinewidth\": 0, \"ticks\": \"\"}, \"type\": \"contourcarpet\"}], \"heatmap\": [{\"colorbar\": {\"outlinewidth\": 0, \"ticks\": \"\"}, \"colorscale\": [[0.0, \"#0d0887\"], [0.1111111111111111, \"#46039f\"], [0.2222222222222222, \"#7201a8\"], [0.3333333333333333, \"#9c179e\"], [0.4444444444444444, \"#bd3786\"], [0.5555555555555556, \"#d8576b\"], [0.6666666666666666, \"#ed7953\"], [0.7777777777777778, \"#fb9f3a\"], [0.8888888888888888, \"#fdca26\"], [1.0, \"#f0f921\"]], \"type\": \"heatmap\"}], \"heatmapgl\": [{\"colorbar\": {\"outlinewidth\": 0, \"ticks\": \"\"}, \"colorscale\": [[0.0, \"#0d0887\"], [0.1111111111111111, \"#46039f\"], [0.2222222222222222, \"#7201a8\"], [0.3333333333333333, \"#9c179e\"], [0.4444444444444444, \"#bd3786\"], [0.5555555555555556, \"#d8576b\"], [0.6666666666666666, \"#ed7953\"], [0.7777777777777778, \"#fb9f3a\"], [0.8888888888888888, \"#fdca26\"], [1.0, \"#f0f921\"]], \"type\": \"heatmapgl\"}], \"histogram\": [{\"marker\": {\"colorbar\": {\"outlinewidth\": 0, \"ticks\": \"\"}}, \"type\": \"histogram\"}], \"histogram2d\": [{\"colorbar\": {\"outlinewidth\": 0, \"ticks\": \"\"}, \"colorscale\": [[0.0, \"#0d0887\"], [0.1111111111111111, \"#46039f\"], [0.2222222222222222, \"#7201a8\"], [0.3333333333333333, \"#9c179e\"], [0.4444444444444444, \"#bd3786\"], [0.5555555555555556, \"#d8576b\"], [0.6666666666666666, \"#ed7953\"], [0.7777777777777778, \"#fb9f3a\"], [0.8888888888888888, \"#fdca26\"], [1.0, \"#f0f921\"]], \"type\": \"histogram2d\"}], \"histogram2dcontour\": [{\"colorbar\": {\"outlinewidth\": 0, \"ticks\": \"\"}, \"colorscale\": [[0.0, \"#0d0887\"], [0.1111111111111111, \"#46039f\"], [0.2222222222222222, \"#7201a8\"], [0.3333333333333333, \"#9c179e\"], [0.4444444444444444, \"#bd3786\"], [0.5555555555555556, \"#d8576b\"], [0.6666666666666666, \"#ed7953\"], [0.7777777777777778, \"#fb9f3a\"], [0.8888888888888888, \"#fdca26\"], [1.0, \"#f0f921\"]], \"type\": \"histogram2dcontour\"}], \"mesh3d\": [{\"colorbar\": {\"outlinewidth\": 0, \"ticks\": \"\"}, \"type\": \"mesh3d\"}], \"parcoords\": [{\"line\": {\"colorbar\": {\"outlinewidth\": 0, \"ticks\": \"\"}}, \"type\": \"parcoords\"}], \"pie\": [{\"automargin\": true, \"type\": \"pie\"}], \"scatter\": [{\"marker\": {\"colorbar\": {\"outlinewidth\": 0, \"ticks\": \"\"}}, \"type\": \"scatter\"}], \"scatter3d\": [{\"line\": {\"colorbar\": {\"outlinewidth\": 0, \"ticks\": \"\"}}, \"marker\": {\"colorbar\": {\"outlinewidth\": 0, \"ticks\": \"\"}}, \"type\": \"scatter3d\"}], \"scattercarpet\": [{\"marker\": {\"colorbar\": {\"outlinewidth\": 0, \"ticks\": \"\"}}, \"type\": \"scattercarpet\"}], \"scattergeo\": [{\"marker\": {\"colorbar\": {\"outlinewidth\": 0, \"ticks\": \"\"}}, \"type\": \"scattergeo\"}], \"scattergl\": [{\"marker\": {\"colorbar\": {\"outlinewidth\": 0, \"ticks\": \"\"}}, \"type\": \"scattergl\"}], \"scattermapbox\": [{\"marker\": {\"colorbar\": {\"outlinewidth\": 0, \"ticks\": \"\"}}, \"type\": \"scattermapbox\"}], \"scatterpolar\": [{\"marker\": {\"colorbar\": {\"outlinewidth\": 0, \"ticks\": \"\"}}, \"type\": \"scatterpolar\"}], \"scatterpolargl\": [{\"marker\": {\"colorbar\": {\"outlinewidth\": 0, \"ticks\": \"\"}}, \"type\": \"scatterpolargl\"}], \"scatterternary\": [{\"marker\": {\"colorbar\": {\"outlinewidth\": 0, \"ticks\": \"\"}}, \"type\": \"scatterternary\"}], \"surface\": [{\"colorbar\": {\"outlinewidth\": 0, \"ticks\": \"\"}, \"colorscale\": [[0.0, \"#0d0887\"], [0.1111111111111111, \"#46039f\"], [0.2222222222222222, \"#7201a8\"], [0.3333333333333333, \"#9c179e\"], [0.4444444444444444, \"#bd3786\"], [0.5555555555555556, \"#d8576b\"], [0.6666666666666666, \"#ed7953\"], [0.7777777777777778, \"#fb9f3a\"], [0.8888888888888888, \"#fdca26\"], [1.0, \"#f0f921\"]], \"type\": \"surface\"}], \"table\": [{\"cells\": {\"fill\": {\"color\": \"#EBF0F8\"}, \"line\": {\"color\": \"white\"}}, \"header\": {\"fill\": {\"color\": \"#C8D4E3\"}, \"line\": {\"color\": \"white\"}}, \"type\": \"table\"}]}, \"layout\": {\"annotationdefaults\": {\"arrowcolor\": \"#2a3f5f\", \"arrowhead\": 0, \"arrowwidth\": 1}, \"autotypenumbers\": \"strict\", \"coloraxis\": {\"colorbar\": {\"outlinewidth\": 0, \"ticks\": \"\"}}, \"colorscale\": {\"diverging\": [[0, \"#8e0152\"], [0.1, \"#c51b7d\"], [0.2, \"#de77ae\"], [0.3, \"#f1b6da\"], [0.4, \"#fde0ef\"], [0.5, \"#f7f7f7\"], [0.6, \"#e6f5d0\"], [0.7, \"#b8e186\"], [0.8, \"#7fbc41\"], [0.9, \"#4d9221\"], [1, \"#276419\"]], \"sequential\": [[0.0, \"#0d0887\"], [0.1111111111111111, \"#46039f\"], [0.2222222222222222, \"#7201a8\"], [0.3333333333333333, \"#9c179e\"], [0.4444444444444444, \"#bd3786\"], [0.5555555555555556, \"#d8576b\"], [0.6666666666666666, \"#ed7953\"], [0.7777777777777778, \"#fb9f3a\"], [0.8888888888888888, \"#fdca26\"], [1.0, \"#f0f921\"]], \"sequentialminus\": [[0.0, \"#0d0887\"], [0.1111111111111111, \"#46039f\"], [0.2222222222222222, \"#7201a8\"], [0.3333333333333333, \"#9c179e\"], [0.4444444444444444, \"#bd3786\"], [0.5555555555555556, \"#d8576b\"], [0.6666666666666666, \"#ed7953\"], [0.7777777777777778, \"#fb9f3a\"], [0.8888888888888888, \"#fdca26\"], [1.0, \"#f0f921\"]]}, \"colorway\": [\"#636efa\", \"#EF553B\", \"#00cc96\", \"#ab63fa\", \"#FFA15A\", \"#19d3f3\", \"#FF6692\", \"#B6E880\", \"#FF97FF\", \"#FECB52\"], \"font\": {\"color\": \"#2a3f5f\"}, \"geo\": {\"bgcolor\": \"white\", \"lakecolor\": \"white\", \"landcolor\": \"#E5ECF6\", \"showlakes\": true, \"showland\": true, \"subunitcolor\": \"white\"}, \"hoverlabel\": {\"align\": \"left\"}, \"hovermode\": \"closest\", \"mapbox\": {\"style\": \"light\"}, \"paper_bgcolor\": \"white\", \"plot_bgcolor\": \"#E5ECF6\", \"polar\": {\"angularaxis\": {\"gridcolor\": \"white\", \"linecolor\": \"white\", \"ticks\": \"\"}, \"bgcolor\": \"#E5ECF6\", \"radialaxis\": {\"gridcolor\": \"white\", \"linecolor\": \"white\", \"ticks\": \"\"}}, \"scene\": {\"xaxis\": {\"backgroundcolor\": \"#E5ECF6\", \"gridcolor\": \"white\", \"gridwidth\": 2, \"linecolor\": \"white\", \"showbackground\": true, \"ticks\": \"\", \"zerolinecolor\": \"white\"}, \"yaxis\": {\"backgroundcolor\": \"#E5ECF6\", \"gridcolor\": \"white\", \"gridwidth\": 2, \"linecolor\": \"white\", \"showbackground\": true, \"ticks\": \"\", \"zerolinecolor\": \"white\"}, \"zaxis\": {\"backgroundcolor\": \"#E5ECF6\", \"gridcolor\": \"white\", \"gridwidth\": 2, \"linecolor\": \"white\", \"showbackground\": true, \"ticks\": \"\", \"zerolinecolor\": \"white\"}}, \"shapedefaults\": {\"line\": {\"color\": \"#2a3f5f\"}}, \"ternary\": {\"aaxis\": {\"gridcolor\": \"white\", \"linecolor\": \"white\", \"ticks\": \"\"}, \"baxis\": {\"gridcolor\": \"white\", \"linecolor\": \"white\", \"ticks\": \"\"}, \"bgcolor\": \"#E5ECF6\", \"caxis\": {\"gridcolor\": \"white\", \"linecolor\": \"white\", \"ticks\": \"\"}}, \"title\": {\"x\": 0.05}, \"xaxis\": {\"automargin\": true, \"gridcolor\": \"white\", \"linecolor\": \"white\", \"ticks\": \"\", \"title\": {\"standoff\": 15}, \"zerolinecolor\": \"white\", \"zerolinewidth\": 2}, \"yaxis\": {\"automargin\": true, \"gridcolor\": \"white\", \"linecolor\": \"white\", \"ticks\": \"\", \"title\": {\"standoff\": 15}, \"zerolinecolor\": \"white\", \"zerolinewidth\": 2}}}, \"title\": {\"text\": \"Flood frequency (2020-2022)\"}},                        {\"responsive\": true}                    ).then(function(){\n",
       "                            \n",
       "var gd = document.getElementById('13c7d3fb-deed-4ddb-a6ef-b1b800e9cb1b');\n",
       "var x = new MutationObserver(function (mutations, observer) {{\n",
       "        var display = window.getComputedStyle(gd).display;\n",
       "        if (!display || display === 'none') {{\n",
       "            console.log([gd, 'removed!']);\n",
       "            Plotly.purge(gd);\n",
       "            observer.disconnect();\n",
       "        }}\n",
       "}});\n",
       "\n",
       "// Listen for the removal of the full notebook cells\n",
       "var notebookContainer = gd.closest('#notebook-container');\n",
       "if (notebookContainer) {{\n",
       "    x.observe(notebookContainer, {childList: true});\n",
       "}}\n",
       "\n",
       "// Listen for the clearing of the current output cell\n",
       "var outputEl = gd.closest('.output');\n",
       "if (outputEl) {{\n",
       "    x.observe(outputEl, {childList: true});\n",
       "}}\n",
       "\n",
       "                        })                };                });            </script>        </div>"
      ]
     },
     "metadata": {},
     "output_type": "display_data"
    }
   ],
   "source": [
    "fig = go.Figure(data=go.Choropleth(\n",
    "    locations = freq_df[\"ISO\"],\n",
    "    z = freq_df[\"flood_freq\"],\n",
    "    text = freq_df[\"Country\"],\n",
    "    colorscale = \"darkmint\",\n",
    "    marker_line_color=\"darkgray\",\n",
    "    marker_line_width=0.5,\n",
    "    colorbar_title = \"Flood frequency<br>(2020-2022)<br>\",\n",
    "))\n",
    "\n",
    "fig.update_layout(\n",
    "    title_text=\"Flood frequency (2020-2022)\",\n",
    "    geo=dict(\n",
    "        showframe=False,\n",
    "        showcoastlines=False,\n",
    "    )\n",
    ")\n",
    "\n",
    "fig.show()"
   ]
  },
  {
   "cell_type": "markdown",
   "id": "8ae5ab03",
   "metadata": {},
   "source": [
    "#### Visualization of wildfire frequency "
   ]
  },
  {
   "cell_type": "code",
   "execution_count": 701,
   "id": "1da3d0de",
   "metadata": {},
   "outputs": [
    {
     "data": {
      "application/vnd.plotly.v1+json": {
       "config": {
        "plotlyServerURL": "https://plot.ly"
       },
       "data": [
        {
         "colorbar": {
          "title": {
           "text": "Wildfire frequency<br>(2020-2022)<br>"
          }
         },
         "colorscale": [
          [
           0,
           "rgb(255,245,235)"
          ],
          [
           0.125,
           "rgb(254,230,206)"
          ],
          [
           0.25,
           "rgb(253,208,162)"
          ],
          [
           0.375,
           "rgb(253,174,107)"
          ],
          [
           0.5,
           "rgb(253,141,60)"
          ],
          [
           0.625,
           "rgb(241,105,19)"
          ],
          [
           0.75,
           "rgb(217,72,1)"
          ],
          [
           0.875,
           "rgb(166,54,3)"
          ],
          [
           1,
           "rgb(127,39,4)"
          ]
         ],
         "locations": [
          "CPV",
          "IND",
          "BEL",
          "BFA",
          "GMB",
          "GNB",
          "CAN",
          "CHN",
          "AIA",
          "DFR",
          "DZA",
          "AUS",
          "BGD",
          "BRA",
          "FRA",
          "GTM",
          "ECU",
          "GBR",
          "ESP",
          "IDN",
          "EGY",
          "AFG",
          "ARG",
          "COL",
          "HTI",
          "HKG",
          "FJI",
          "BOL",
          "BWA",
          "CHL",
          "DOM",
          "ETH",
          "HND",
          "GHA",
          "BEN",
          "CRI",
          "BRB",
          "HUN",
          "CMR",
          "GUY",
          "CAF",
          "GRD",
          "CHE",
          "CUB",
          "DJI",
          "GRC",
          "JAM",
          "NER",
          "USA",
          "JPN",
          "MLI",
          "MRT",
          "SEN",
          "TCD",
          "SUN",
          "ROU",
          "MEX",
          "NZL",
          "ITA",
          "TUR",
          "IRN",
          "PAK",
          "MAR",
          "NLD",
          "IRQ",
          "NPL",
          "LBN",
          "KOR",
          "NIC",
          "SOM",
          "TUN",
          "JOR",
          "PRY",
          "KEN",
          "SAU",
          "TZA",
          "MMR",
          "MYS",
          "PER",
          "LAO",
          "LKA",
          "MNG",
          "PAN",
          "THA",
          "MOZ",
          "MWI",
          "PRT",
          "SYR",
          "UGA",
          "URY",
          "LSO",
          "PHL",
          "SUR",
          "PRI",
          "TGO",
          "RWA",
          "SDN",
          "POL",
          "SWE",
          "TWN",
          "ZAF",
          "VNM",
          "YUG",
          "VEN",
          "YMN",
          "YMD",
          "VCT",
          "ZMB",
          "BLZ",
          "CIV",
          "AUT",
          "GIN",
          "AGO",
          "COM",
          "BGR",
          "COG",
          "ATG",
          "CSK",
          "GLP",
          "BHS",
          "GAB",
          "LBR",
          "PNG",
          "MDG",
          "NAM",
          "NGA",
          "ISR",
          "LUX",
          "IRL",
          "KHM",
          "KNA",
          "MDV",
          "PRK",
          "ISL",
          "COD",
          "SWZ",
          "ZWE",
          "SLV",
          "STP",
          "WSM",
          "ALB",
          "BDI",
          "CYP",
          "DEU",
          "DNK",
          "BLR",
          "LTU",
          "RUS",
          "ERI",
          "MKD",
          "KAZ",
          "TJK",
          "YEM",
          "SCG",
          "TTO",
          "TKM",
          "UKR",
          "BTN",
          "AZE",
          "ARM",
          "BRN",
          "MDA",
          "GEO",
          "LBY",
          "NOR",
          "CZE",
          "GUF",
          "HRV",
          "KWT",
          "KGZ",
          "SLE",
          "SLB",
          "SVK",
          "SYC",
          "BIH",
          "FSM",
          "MUS",
          "KIR",
          "UZB",
          "SPI",
          "TLS",
          "VUT",
          "ASM",
          "FIN",
          "SVN",
          "MHL",
          "PSE",
          "MNE",
          "SRB",
          "SSD",
          "LCA",
          "TUV",
          "OMN",
          "TON",
          "ARE",
          "PYF",
          "LVA",
          "QAT",
          "PLW"
         ],
         "marker": {
          "line": {
           "color": "darkgray",
           "width": 0.5
          }
         },
         "text": [
          "Cabo Verde",
          "India",
          "Belgium",
          "Burkina Faso",
          "Gambia (the)",
          "Guinea-Bissau",
          "Canada",
          "China",
          "Anguilla",
          "Germany Fed Rep",
          "Algeria",
          "Australia",
          "Bangladesh",
          "Brazil",
          "France",
          "Guatemala",
          "Ecuador",
          "United Kingdom of Great Britain and Northern Ireland (the)",
          "Spain",
          "Indonesia",
          "Egypt",
          "Afghanistan",
          "Argentina",
          "Colombia",
          "Haiti",
          "Hong Kong",
          "Fiji",
          "Bolivia (Plurinational State of)",
          "Botswana",
          "Chile",
          "Dominican Republic (the)",
          "Ethiopia",
          "Honduras",
          "Ghana",
          "Benin",
          "Costa Rica",
          "Barbados",
          "Hungary",
          "Cameroon",
          "Guyana",
          "Central African Republic",
          "Grenada",
          "Switzerland",
          "Cuba",
          "Djibouti",
          "Greece",
          "Jamaica",
          "Niger (the)",
          "United States of America (the)",
          "Japan",
          "Mali",
          "Mauritania",
          "Senegal",
          "Chad",
          "Soviet Union",
          "Romania",
          "Mexico",
          "New Zealand",
          "Italy",
          "Turkey",
          "Iran (Islamic Republic of)",
          "Pakistan",
          "Morocco",
          "Netherlands (the)",
          "Iraq",
          "Nepal",
          "Lebanon",
          "Korea (the Republic of)",
          "Nicaragua",
          "Somalia",
          "Tunisia",
          "Jordan",
          "Paraguay",
          "Kenya",
          "Saudi Arabia",
          "Tanzania, United Republic of",
          "Myanmar",
          "Malaysia",
          "Peru",
          "Lao People's Democratic Republic (the)",
          "Sri Lanka",
          "Mongolia",
          "Panama",
          "Thailand",
          "Mozambique",
          "Malawi",
          "Portugal",
          "Syrian Arab Republic",
          "Uganda",
          "Uruguay",
          "Lesotho",
          "Philippines (the)",
          "Suriname",
          "Puerto Rico",
          "Togo",
          "Rwanda",
          "Sudan (the)",
          "Poland",
          "Sweden",
          "Taiwan (Province of China)",
          "South Africa",
          "Viet Nam",
          "Yugoslavia",
          "Venezuela (Bolivarian Republic of)",
          "Yemen Arab Rep",
          "Yemen P Dem Rep",
          "Saint Vincent and the Grenadines",
          "Zambia",
          "Belize",
          "Côte d’Ivoire",
          "Austria",
          "Guinea",
          "Angola",
          "Comoros (the)",
          "Bulgaria",
          "Congo (the)",
          "Antigua and Barbuda",
          "Czechoslovakia",
          "Guadeloupe",
          "Bahamas (the)",
          "Gabon",
          "Liberia",
          "Papua New Guinea",
          "Madagascar",
          "Namibia",
          "Nigeria",
          "Israel",
          "Luxembourg",
          "Ireland",
          "Cambodia",
          "Saint Kitts and Nevis",
          "Maldives",
          "Korea (the Democratic People's Republic of)",
          "Iceland",
          "Congo (the Democratic Republic of the)",
          "Eswatini",
          "Zimbabwe",
          "El Salvador",
          "Sao Tome and Principe",
          "Samoa",
          "Albania",
          "Burundi",
          "Cyprus",
          "Germany",
          "Denmark",
          "Belarus",
          "Lithuania",
          "Russian Federation (the)",
          "Eritrea",
          "Macedonia (the former Yugoslav Republic of)",
          "Kazakhstan",
          "Tajikistan",
          "Yemen",
          "Serbia Montenegro",
          "Trinidad and Tobago",
          "Turkmenistan",
          "Ukraine",
          "Bhutan",
          "Azerbaijan",
          "Armenia",
          "Brunei Darussalam",
          "Moldova (the Republic of)",
          "Georgia",
          "Libya",
          "Norway",
          "Czech Republic (the)",
          "French Guiana",
          "Croatia",
          "Kuwait",
          "Kyrgyzstan",
          "Sierra Leone",
          "Solomon Islands",
          "Slovakia",
          "Seychelles",
          "Bosnia and Herzegovina",
          "Micronesia (Federated States of)",
          "Mauritius",
          "Kiribati",
          "Uzbekistan",
          "Canary Is",
          "Timor-Leste",
          "Vanuatu",
          "American Samoa",
          "Finland",
          "Slovenia",
          "Marshall Islands (the)",
          "Palestine, State of",
          "Montenegro",
          "Serbia",
          "South Sudan",
          "Saint Lucia",
          "Tuvalu",
          "Oman",
          "Tonga",
          "United Arab Emirates (the)",
          "French Polynesia",
          "Latvia",
          "Qatar",
          "Palau"
         ],
         "type": "choropleth",
         "z": [
          0,
          0,
          0,
          0,
          0,
          0,
          1,
          1,
          0,
          0,
          2,
          1,
          0,
          0,
          0,
          0,
          0,
          0,
          1,
          0,
          0,
          0,
          2,
          0,
          0,
          0,
          0,
          1,
          0,
          0,
          0,
          0,
          1,
          0,
          0,
          0,
          0,
          0,
          0,
          0,
          1,
          0,
          0,
          0,
          0,
          2,
          0,
          0,
          12,
          0,
          0,
          0,
          0,
          0,
          0,
          0,
          0,
          1,
          1,
          1,
          0,
          1,
          0,
          0,
          0,
          0,
          1,
          1,
          0,
          0,
          1,
          0,
          0,
          0,
          0,
          0,
          0,
          0,
          0,
          0,
          0,
          0,
          0,
          0,
          0,
          0,
          1,
          1,
          0,
          0,
          0,
          0,
          0,
          0,
          0,
          0,
          0,
          0,
          0,
          0,
          0,
          0,
          0,
          0,
          0,
          0,
          0,
          0,
          0,
          0,
          0,
          0,
          0,
          0,
          1,
          0,
          0,
          0,
          0,
          0,
          0,
          0,
          0,
          0,
          0,
          0,
          1,
          0,
          0,
          0,
          0,
          0,
          0,
          0,
          0,
          0,
          0,
          0,
          0,
          0,
          0,
          0,
          1,
          0,
          0,
          0,
          0,
          2,
          0,
          1,
          0,
          0,
          0,
          0,
          0,
          0,
          2,
          0,
          0,
          0,
          0,
          0,
          0,
          0,
          0,
          0,
          0,
          0,
          0,
          0,
          0,
          0,
          0,
          0,
          0,
          0,
          0,
          0,
          0,
          0,
          0,
          0,
          0,
          0,
          0,
          0,
          0,
          0,
          0,
          0,
          0,
          0,
          0,
          0,
          0,
          0,
          0,
          0,
          0
         ]
        }
       ],
       "layout": {
        "geo": {
         "showcoastlines": false,
         "showframe": false
        },
        "template": {
         "data": {
          "bar": [
           {
            "error_x": {
             "color": "#2a3f5f"
            },
            "error_y": {
             "color": "#2a3f5f"
            },
            "marker": {
             "line": {
              "color": "#E5ECF6",
              "width": 0.5
             }
            },
            "type": "bar"
           }
          ],
          "barpolar": [
           {
            "marker": {
             "line": {
              "color": "#E5ECF6",
              "width": 0.5
             }
            },
            "type": "barpolar"
           }
          ],
          "carpet": [
           {
            "aaxis": {
             "endlinecolor": "#2a3f5f",
             "gridcolor": "white",
             "linecolor": "white",
             "minorgridcolor": "white",
             "startlinecolor": "#2a3f5f"
            },
            "baxis": {
             "endlinecolor": "#2a3f5f",
             "gridcolor": "white",
             "linecolor": "white",
             "minorgridcolor": "white",
             "startlinecolor": "#2a3f5f"
            },
            "type": "carpet"
           }
          ],
          "choropleth": [
           {
            "colorbar": {
             "outlinewidth": 0,
             "ticks": ""
            },
            "type": "choropleth"
           }
          ],
          "contour": [
           {
            "colorbar": {
             "outlinewidth": 0,
             "ticks": ""
            },
            "colorscale": [
             [
              0,
              "#0d0887"
             ],
             [
              0.1111111111111111,
              "#46039f"
             ],
             [
              0.2222222222222222,
              "#7201a8"
             ],
             [
              0.3333333333333333,
              "#9c179e"
             ],
             [
              0.4444444444444444,
              "#bd3786"
             ],
             [
              0.5555555555555556,
              "#d8576b"
             ],
             [
              0.6666666666666666,
              "#ed7953"
             ],
             [
              0.7777777777777778,
              "#fb9f3a"
             ],
             [
              0.8888888888888888,
              "#fdca26"
             ],
             [
              1,
              "#f0f921"
             ]
            ],
            "type": "contour"
           }
          ],
          "contourcarpet": [
           {
            "colorbar": {
             "outlinewidth": 0,
             "ticks": ""
            },
            "type": "contourcarpet"
           }
          ],
          "heatmap": [
           {
            "colorbar": {
             "outlinewidth": 0,
             "ticks": ""
            },
            "colorscale": [
             [
              0,
              "#0d0887"
             ],
             [
              0.1111111111111111,
              "#46039f"
             ],
             [
              0.2222222222222222,
              "#7201a8"
             ],
             [
              0.3333333333333333,
              "#9c179e"
             ],
             [
              0.4444444444444444,
              "#bd3786"
             ],
             [
              0.5555555555555556,
              "#d8576b"
             ],
             [
              0.6666666666666666,
              "#ed7953"
             ],
             [
              0.7777777777777778,
              "#fb9f3a"
             ],
             [
              0.8888888888888888,
              "#fdca26"
             ],
             [
              1,
              "#f0f921"
             ]
            ],
            "type": "heatmap"
           }
          ],
          "heatmapgl": [
           {
            "colorbar": {
             "outlinewidth": 0,
             "ticks": ""
            },
            "colorscale": [
             [
              0,
              "#0d0887"
             ],
             [
              0.1111111111111111,
              "#46039f"
             ],
             [
              0.2222222222222222,
              "#7201a8"
             ],
             [
              0.3333333333333333,
              "#9c179e"
             ],
             [
              0.4444444444444444,
              "#bd3786"
             ],
             [
              0.5555555555555556,
              "#d8576b"
             ],
             [
              0.6666666666666666,
              "#ed7953"
             ],
             [
              0.7777777777777778,
              "#fb9f3a"
             ],
             [
              0.8888888888888888,
              "#fdca26"
             ],
             [
              1,
              "#f0f921"
             ]
            ],
            "type": "heatmapgl"
           }
          ],
          "histogram": [
           {
            "marker": {
             "colorbar": {
              "outlinewidth": 0,
              "ticks": ""
             }
            },
            "type": "histogram"
           }
          ],
          "histogram2d": [
           {
            "colorbar": {
             "outlinewidth": 0,
             "ticks": ""
            },
            "colorscale": [
             [
              0,
              "#0d0887"
             ],
             [
              0.1111111111111111,
              "#46039f"
             ],
             [
              0.2222222222222222,
              "#7201a8"
             ],
             [
              0.3333333333333333,
              "#9c179e"
             ],
             [
              0.4444444444444444,
              "#bd3786"
             ],
             [
              0.5555555555555556,
              "#d8576b"
             ],
             [
              0.6666666666666666,
              "#ed7953"
             ],
             [
              0.7777777777777778,
              "#fb9f3a"
             ],
             [
              0.8888888888888888,
              "#fdca26"
             ],
             [
              1,
              "#f0f921"
             ]
            ],
            "type": "histogram2d"
           }
          ],
          "histogram2dcontour": [
           {
            "colorbar": {
             "outlinewidth": 0,
             "ticks": ""
            },
            "colorscale": [
             [
              0,
              "#0d0887"
             ],
             [
              0.1111111111111111,
              "#46039f"
             ],
             [
              0.2222222222222222,
              "#7201a8"
             ],
             [
              0.3333333333333333,
              "#9c179e"
             ],
             [
              0.4444444444444444,
              "#bd3786"
             ],
             [
              0.5555555555555556,
              "#d8576b"
             ],
             [
              0.6666666666666666,
              "#ed7953"
             ],
             [
              0.7777777777777778,
              "#fb9f3a"
             ],
             [
              0.8888888888888888,
              "#fdca26"
             ],
             [
              1,
              "#f0f921"
             ]
            ],
            "type": "histogram2dcontour"
           }
          ],
          "mesh3d": [
           {
            "colorbar": {
             "outlinewidth": 0,
             "ticks": ""
            },
            "type": "mesh3d"
           }
          ],
          "parcoords": [
           {
            "line": {
             "colorbar": {
              "outlinewidth": 0,
              "ticks": ""
             }
            },
            "type": "parcoords"
           }
          ],
          "pie": [
           {
            "automargin": true,
            "type": "pie"
           }
          ],
          "scatter": [
           {
            "marker": {
             "colorbar": {
              "outlinewidth": 0,
              "ticks": ""
             }
            },
            "type": "scatter"
           }
          ],
          "scatter3d": [
           {
            "line": {
             "colorbar": {
              "outlinewidth": 0,
              "ticks": ""
             }
            },
            "marker": {
             "colorbar": {
              "outlinewidth": 0,
              "ticks": ""
             }
            },
            "type": "scatter3d"
           }
          ],
          "scattercarpet": [
           {
            "marker": {
             "colorbar": {
              "outlinewidth": 0,
              "ticks": ""
             }
            },
            "type": "scattercarpet"
           }
          ],
          "scattergeo": [
           {
            "marker": {
             "colorbar": {
              "outlinewidth": 0,
              "ticks": ""
             }
            },
            "type": "scattergeo"
           }
          ],
          "scattergl": [
           {
            "marker": {
             "colorbar": {
              "outlinewidth": 0,
              "ticks": ""
             }
            },
            "type": "scattergl"
           }
          ],
          "scattermapbox": [
           {
            "marker": {
             "colorbar": {
              "outlinewidth": 0,
              "ticks": ""
             }
            },
            "type": "scattermapbox"
           }
          ],
          "scatterpolar": [
           {
            "marker": {
             "colorbar": {
              "outlinewidth": 0,
              "ticks": ""
             }
            },
            "type": "scatterpolar"
           }
          ],
          "scatterpolargl": [
           {
            "marker": {
             "colorbar": {
              "outlinewidth": 0,
              "ticks": ""
             }
            },
            "type": "scatterpolargl"
           }
          ],
          "scatterternary": [
           {
            "marker": {
             "colorbar": {
              "outlinewidth": 0,
              "ticks": ""
             }
            },
            "type": "scatterternary"
           }
          ],
          "surface": [
           {
            "colorbar": {
             "outlinewidth": 0,
             "ticks": ""
            },
            "colorscale": [
             [
              0,
              "#0d0887"
             ],
             [
              0.1111111111111111,
              "#46039f"
             ],
             [
              0.2222222222222222,
              "#7201a8"
             ],
             [
              0.3333333333333333,
              "#9c179e"
             ],
             [
              0.4444444444444444,
              "#bd3786"
             ],
             [
              0.5555555555555556,
              "#d8576b"
             ],
             [
              0.6666666666666666,
              "#ed7953"
             ],
             [
              0.7777777777777778,
              "#fb9f3a"
             ],
             [
              0.8888888888888888,
              "#fdca26"
             ],
             [
              1,
              "#f0f921"
             ]
            ],
            "type": "surface"
           }
          ],
          "table": [
           {
            "cells": {
             "fill": {
              "color": "#EBF0F8"
             },
             "line": {
              "color": "white"
             }
            },
            "header": {
             "fill": {
              "color": "#C8D4E3"
             },
             "line": {
              "color": "white"
             }
            },
            "type": "table"
           }
          ]
         },
         "layout": {
          "annotationdefaults": {
           "arrowcolor": "#2a3f5f",
           "arrowhead": 0,
           "arrowwidth": 1
          },
          "autotypenumbers": "strict",
          "coloraxis": {
           "colorbar": {
            "outlinewidth": 0,
            "ticks": ""
           }
          },
          "colorscale": {
           "diverging": [
            [
             0,
             "#8e0152"
            ],
            [
             0.1,
             "#c51b7d"
            ],
            [
             0.2,
             "#de77ae"
            ],
            [
             0.3,
             "#f1b6da"
            ],
            [
             0.4,
             "#fde0ef"
            ],
            [
             0.5,
             "#f7f7f7"
            ],
            [
             0.6,
             "#e6f5d0"
            ],
            [
             0.7,
             "#b8e186"
            ],
            [
             0.8,
             "#7fbc41"
            ],
            [
             0.9,
             "#4d9221"
            ],
            [
             1,
             "#276419"
            ]
           ],
           "sequential": [
            [
             0,
             "#0d0887"
            ],
            [
             0.1111111111111111,
             "#46039f"
            ],
            [
             0.2222222222222222,
             "#7201a8"
            ],
            [
             0.3333333333333333,
             "#9c179e"
            ],
            [
             0.4444444444444444,
             "#bd3786"
            ],
            [
             0.5555555555555556,
             "#d8576b"
            ],
            [
             0.6666666666666666,
             "#ed7953"
            ],
            [
             0.7777777777777778,
             "#fb9f3a"
            ],
            [
             0.8888888888888888,
             "#fdca26"
            ],
            [
             1,
             "#f0f921"
            ]
           ],
           "sequentialminus": [
            [
             0,
             "#0d0887"
            ],
            [
             0.1111111111111111,
             "#46039f"
            ],
            [
             0.2222222222222222,
             "#7201a8"
            ],
            [
             0.3333333333333333,
             "#9c179e"
            ],
            [
             0.4444444444444444,
             "#bd3786"
            ],
            [
             0.5555555555555556,
             "#d8576b"
            ],
            [
             0.6666666666666666,
             "#ed7953"
            ],
            [
             0.7777777777777778,
             "#fb9f3a"
            ],
            [
             0.8888888888888888,
             "#fdca26"
            ],
            [
             1,
             "#f0f921"
            ]
           ]
          },
          "colorway": [
           "#636efa",
           "#EF553B",
           "#00cc96",
           "#ab63fa",
           "#FFA15A",
           "#19d3f3",
           "#FF6692",
           "#B6E880",
           "#FF97FF",
           "#FECB52"
          ],
          "font": {
           "color": "#2a3f5f"
          },
          "geo": {
           "bgcolor": "white",
           "lakecolor": "white",
           "landcolor": "#E5ECF6",
           "showlakes": true,
           "showland": true,
           "subunitcolor": "white"
          },
          "hoverlabel": {
           "align": "left"
          },
          "hovermode": "closest",
          "mapbox": {
           "style": "light"
          },
          "paper_bgcolor": "white",
          "plot_bgcolor": "#E5ECF6",
          "polar": {
           "angularaxis": {
            "gridcolor": "white",
            "linecolor": "white",
            "ticks": ""
           },
           "bgcolor": "#E5ECF6",
           "radialaxis": {
            "gridcolor": "white",
            "linecolor": "white",
            "ticks": ""
           }
          },
          "scene": {
           "xaxis": {
            "backgroundcolor": "#E5ECF6",
            "gridcolor": "white",
            "gridwidth": 2,
            "linecolor": "white",
            "showbackground": true,
            "ticks": "",
            "zerolinecolor": "white"
           },
           "yaxis": {
            "backgroundcolor": "#E5ECF6",
            "gridcolor": "white",
            "gridwidth": 2,
            "linecolor": "white",
            "showbackground": true,
            "ticks": "",
            "zerolinecolor": "white"
           },
           "zaxis": {
            "backgroundcolor": "#E5ECF6",
            "gridcolor": "white",
            "gridwidth": 2,
            "linecolor": "white",
            "showbackground": true,
            "ticks": "",
            "zerolinecolor": "white"
           }
          },
          "shapedefaults": {
           "line": {
            "color": "#2a3f5f"
           }
          },
          "ternary": {
           "aaxis": {
            "gridcolor": "white",
            "linecolor": "white",
            "ticks": ""
           },
           "baxis": {
            "gridcolor": "white",
            "linecolor": "white",
            "ticks": ""
           },
           "bgcolor": "#E5ECF6",
           "caxis": {
            "gridcolor": "white",
            "linecolor": "white",
            "ticks": ""
           }
          },
          "title": {
           "x": 0.05
          },
          "xaxis": {
           "automargin": true,
           "gridcolor": "white",
           "linecolor": "white",
           "ticks": "",
           "title": {
            "standoff": 15
           },
           "zerolinecolor": "white",
           "zerolinewidth": 2
          },
          "yaxis": {
           "automargin": true,
           "gridcolor": "white",
           "linecolor": "white",
           "ticks": "",
           "title": {
            "standoff": 15
           },
           "zerolinecolor": "white",
           "zerolinewidth": 2
          }
         }
        },
        "title": {
         "text": "Wildfire frequency (2020-2022)"
        }
       }
      },
      "text/html": [
       "<div>                            <div id=\"43c961ae-1829-4751-bbff-97cb96e53efe\" class=\"plotly-graph-div\" style=\"height:525px; width:100%;\"></div>            <script type=\"text/javascript\">                require([\"plotly\"], function(Plotly) {                    window.PLOTLYENV=window.PLOTLYENV || {};                                    if (document.getElementById(\"43c961ae-1829-4751-bbff-97cb96e53efe\")) {                    Plotly.newPlot(                        \"43c961ae-1829-4751-bbff-97cb96e53efe\",                        [{\"colorbar\": {\"title\": {\"text\": \"Wildfire frequency<br>(2020-2022)<br>\"}}, \"colorscale\": [[0.0, \"rgb(255,245,235)\"], [0.125, \"rgb(254,230,206)\"], [0.25, \"rgb(253,208,162)\"], [0.375, \"rgb(253,174,107)\"], [0.5, \"rgb(253,141,60)\"], [0.625, \"rgb(241,105,19)\"], [0.75, \"rgb(217,72,1)\"], [0.875, \"rgb(166,54,3)\"], [1.0, \"rgb(127,39,4)\"]], \"locations\": [\"CPV\", \"IND\", \"BEL\", \"BFA\", \"GMB\", \"GNB\", \"CAN\", \"CHN\", \"AIA\", \"DFR\", \"DZA\", \"AUS\", \"BGD\", \"BRA\", \"FRA\", \"GTM\", \"ECU\", \"GBR\", \"ESP\", \"IDN\", \"EGY\", \"AFG\", \"ARG\", \"COL\", \"HTI\", \"HKG\", \"FJI\", \"BOL\", \"BWA\", \"CHL\", \"DOM\", \"ETH\", \"HND\", \"GHA\", \"BEN\", \"CRI\", \"BRB\", \"HUN\", \"CMR\", \"GUY\", \"CAF\", \"GRD\", \"CHE\", \"CUB\", \"DJI\", \"GRC\", \"JAM\", \"NER\", \"USA\", \"JPN\", \"MLI\", \"MRT\", \"SEN\", \"TCD\", \"SUN\", \"ROU\", \"MEX\", \"NZL\", \"ITA\", \"TUR\", \"IRN\", \"PAK\", \"MAR\", \"NLD\", \"IRQ\", \"NPL\", \"LBN\", \"KOR\", \"NIC\", \"SOM\", \"TUN\", \"JOR\", \"PRY\", \"KEN\", \"SAU\", \"TZA\", \"MMR\", \"MYS\", \"PER\", \"LAO\", \"LKA\", \"MNG\", \"PAN\", \"THA\", \"MOZ\", \"MWI\", \"PRT\", \"SYR\", \"UGA\", \"URY\", \"LSO\", \"PHL\", \"SUR\", \"PRI\", \"TGO\", \"RWA\", \"SDN\", \"POL\", \"SWE\", \"TWN\", \"ZAF\", \"VNM\", \"YUG\", \"VEN\", \"YMN\", \"YMD\", \"VCT\", \"ZMB\", \"BLZ\", \"CIV\", \"AUT\", \"GIN\", \"AGO\", \"COM\", \"BGR\", \"COG\", \"ATG\", \"CSK\", \"GLP\", \"BHS\", \"GAB\", \"LBR\", \"PNG\", \"MDG\", \"NAM\", \"NGA\", \"ISR\", \"LUX\", \"IRL\", \"KHM\", \"KNA\", \"MDV\", \"PRK\", \"ISL\", \"COD\", \"SWZ\", \"ZWE\", \"SLV\", \"STP\", \"WSM\", \"ALB\", \"BDI\", \"CYP\", \"DEU\", \"DNK\", \"BLR\", \"LTU\", \"RUS\", \"ERI\", \"MKD\", \"KAZ\", \"TJK\", \"YEM\", \"SCG\", \"TTO\", \"TKM\", \"UKR\", \"BTN\", \"AZE\", \"ARM\", \"BRN\", \"MDA\", \"GEO\", \"LBY\", \"NOR\", \"CZE\", \"GUF\", \"HRV\", \"KWT\", \"KGZ\", \"SLE\", \"SLB\", \"SVK\", \"SYC\", \"BIH\", \"FSM\", \"MUS\", \"KIR\", \"UZB\", \"SPI\", \"TLS\", \"VUT\", \"ASM\", \"FIN\", \"SVN\", \"MHL\", \"PSE\", \"MNE\", \"SRB\", \"SSD\", \"LCA\", \"TUV\", \"OMN\", \"TON\", \"ARE\", \"PYF\", \"LVA\", \"QAT\", \"PLW\"], \"marker\": {\"line\": {\"color\": \"darkgray\", \"width\": 0.5}}, \"text\": [\"Cabo Verde\", \"India\", \"Belgium\", \"Burkina Faso\", \"Gambia (the)\", \"Guinea-Bissau\", \"Canada\", \"China\", \"Anguilla\", \"Germany Fed Rep\", \"Algeria\", \"Australia\", \"Bangladesh\", \"Brazil\", \"France\", \"Guatemala\", \"Ecuador\", \"United Kingdom of Great Britain and Northern Ireland (the)\", \"Spain\", \"Indonesia\", \"Egypt\", \"Afghanistan\", \"Argentina\", \"Colombia\", \"Haiti\", \"Hong Kong\", \"Fiji\", \"Bolivia (Plurinational State of)\", \"Botswana\", \"Chile\", \"Dominican Republic (the)\", \"Ethiopia\", \"Honduras\", \"Ghana\", \"Benin\", \"Costa Rica\", \"Barbados\", \"Hungary\", \"Cameroon\", \"Guyana\", \"Central African Republic\", \"Grenada\", \"Switzerland\", \"Cuba\", \"Djibouti\", \"Greece\", \"Jamaica\", \"Niger (the)\", \"United States of America (the)\", \"Japan\", \"Mali\", \"Mauritania\", \"Senegal\", \"Chad\", \"Soviet Union\", \"Romania\", \"Mexico\", \"New Zealand\", \"Italy\", \"Turkey\", \"Iran (Islamic Republic of)\", \"Pakistan\", \"Morocco\", \"Netherlands (the)\", \"Iraq\", \"Nepal\", \"Lebanon\", \"Korea (the Republic of)\", \"Nicaragua\", \"Somalia\", \"Tunisia\", \"Jordan\", \"Paraguay\", \"Kenya\", \"Saudi Arabia\", \"Tanzania, United Republic of\", \"Myanmar\", \"Malaysia\", \"Peru\", \"Lao People's Democratic Republic (the)\", \"Sri Lanka\", \"Mongolia\", \"Panama\", \"Thailand\", \"Mozambique\", \"Malawi\", \"Portugal\", \"Syrian Arab Republic\", \"Uganda\", \"Uruguay\", \"Lesotho\", \"Philippines (the)\", \"Suriname\", \"Puerto Rico\", \"Togo\", \"Rwanda\", \"Sudan (the)\", \"Poland\", \"Sweden\", \"Taiwan (Province of China)\", \"South Africa\", \"Viet Nam\", \"Yugoslavia\", \"Venezuela (Bolivarian Republic of)\", \"Yemen Arab Rep\", \"Yemen P Dem Rep\", \"Saint Vincent and the Grenadines\", \"Zambia\", \"Belize\", \"C\\u00f4te d\\u2019Ivoire\", \"Austria\", \"Guinea\", \"Angola\", \"Comoros (the)\", \"Bulgaria\", \"Congo (the)\", \"Antigua and Barbuda\", \"Czechoslovakia\", \"Guadeloupe\", \"Bahamas (the)\", \"Gabon\", \"Liberia\", \"Papua New Guinea\", \"Madagascar\", \"Namibia\", \"Nigeria\", \"Israel\", \"Luxembourg\", \"Ireland\", \"Cambodia\", \"Saint Kitts and Nevis\", \"Maldives\", \"Korea (the Democratic People's Republic of)\", \"Iceland\", \"Congo (the Democratic Republic of the)\", \"Eswatini\", \"Zimbabwe\", \"El Salvador\", \"Sao Tome and Principe\", \"Samoa\", \"Albania\", \"Burundi\", \"Cyprus\", \"Germany\", \"Denmark\", \"Belarus\", \"Lithuania\", \"Russian Federation (the)\", \"Eritrea\", \"Macedonia (the former Yugoslav Republic of)\", \"Kazakhstan\", \"Tajikistan\", \"Yemen\", \"Serbia Montenegro\", \"Trinidad and Tobago\", \"Turkmenistan\", \"Ukraine\", \"Bhutan\", \"Azerbaijan\", \"Armenia\", \"Brunei Darussalam\", \"Moldova (the Republic of)\", \"Georgia\", \"Libya\", \"Norway\", \"Czech Republic (the)\", \"French Guiana\", \"Croatia\", \"Kuwait\", \"Kyrgyzstan\", \"Sierra Leone\", \"Solomon Islands\", \"Slovakia\", \"Seychelles\", \"Bosnia and Herzegovina\", \"Micronesia (Federated States of)\", \"Mauritius\", \"Kiribati\", \"Uzbekistan\", \"Canary Is\", \"Timor-Leste\", \"Vanuatu\", \"American Samoa\", \"Finland\", \"Slovenia\", \"Marshall Islands (the)\", \"Palestine, State of\", \"Montenegro\", \"Serbia\", \"South Sudan\", \"Saint Lucia\", \"Tuvalu\", \"Oman\", \"Tonga\", \"United Arab Emirates (the)\", \"French Polynesia\", \"Latvia\", \"Qatar\", \"Palau\"], \"type\": \"choropleth\", \"z\": [0, 0, 0, 0, 0, 0, 1, 1, 0, 0, 2, 1, 0, 0, 0, 0, 0, 0, 1, 0, 0, 0, 2, 0, 0, 0, 0, 1, 0, 0, 0, 0, 1, 0, 0, 0, 0, 0, 0, 0, 1, 0, 0, 0, 0, 2, 0, 0, 12, 0, 0, 0, 0, 0, 0, 0, 0, 1, 1, 1, 0, 1, 0, 0, 0, 0, 1, 1, 0, 0, 1, 0, 0, 0, 0, 0, 0, 0, 0, 0, 0, 0, 0, 0, 0, 0, 1, 1, 0, 0, 0, 0, 0, 0, 0, 0, 0, 0, 0, 0, 0, 0, 0, 0, 0, 0, 0, 0, 0, 0, 0, 0, 0, 0, 1, 0, 0, 0, 0, 0, 0, 0, 0, 0, 0, 0, 1, 0, 0, 0, 0, 0, 0, 0, 0, 0, 0, 0, 0, 0, 0, 0, 1, 0, 0, 0, 0, 2, 0, 1, 0, 0, 0, 0, 0, 0, 2, 0, 0, 0, 0, 0, 0, 0, 0, 0, 0, 0, 0, 0, 0, 0, 0, 0, 0, 0, 0, 0, 0, 0, 0, 0, 0, 0, 0, 0, 0, 0, 0, 0, 0, 0, 0, 0, 0, 0, 0, 0, 0]}],                        {\"geo\": {\"showcoastlines\": false, \"showframe\": false}, \"template\": {\"data\": {\"bar\": [{\"error_x\": {\"color\": \"#2a3f5f\"}, \"error_y\": {\"color\": \"#2a3f5f\"}, \"marker\": {\"line\": {\"color\": \"#E5ECF6\", \"width\": 0.5}}, \"type\": \"bar\"}], \"barpolar\": [{\"marker\": {\"line\": {\"color\": \"#E5ECF6\", \"width\": 0.5}}, \"type\": \"barpolar\"}], \"carpet\": [{\"aaxis\": {\"endlinecolor\": \"#2a3f5f\", \"gridcolor\": \"white\", \"linecolor\": \"white\", \"minorgridcolor\": \"white\", \"startlinecolor\": \"#2a3f5f\"}, \"baxis\": {\"endlinecolor\": \"#2a3f5f\", \"gridcolor\": \"white\", \"linecolor\": \"white\", \"minorgridcolor\": \"white\", \"startlinecolor\": \"#2a3f5f\"}, \"type\": \"carpet\"}], \"choropleth\": [{\"colorbar\": {\"outlinewidth\": 0, \"ticks\": \"\"}, \"type\": \"choropleth\"}], \"contour\": [{\"colorbar\": {\"outlinewidth\": 0, \"ticks\": \"\"}, \"colorscale\": [[0.0, \"#0d0887\"], [0.1111111111111111, \"#46039f\"], [0.2222222222222222, \"#7201a8\"], [0.3333333333333333, \"#9c179e\"], [0.4444444444444444, \"#bd3786\"], [0.5555555555555556, \"#d8576b\"], [0.6666666666666666, \"#ed7953\"], [0.7777777777777778, \"#fb9f3a\"], [0.8888888888888888, \"#fdca26\"], [1.0, \"#f0f921\"]], \"type\": \"contour\"}], \"contourcarpet\": [{\"colorbar\": {\"outlinewidth\": 0, \"ticks\": \"\"}, \"type\": \"contourcarpet\"}], \"heatmap\": [{\"colorbar\": {\"outlinewidth\": 0, \"ticks\": \"\"}, \"colorscale\": [[0.0, \"#0d0887\"], [0.1111111111111111, \"#46039f\"], [0.2222222222222222, \"#7201a8\"], [0.3333333333333333, \"#9c179e\"], [0.4444444444444444, \"#bd3786\"], [0.5555555555555556, \"#d8576b\"], [0.6666666666666666, \"#ed7953\"], [0.7777777777777778, \"#fb9f3a\"], [0.8888888888888888, \"#fdca26\"], [1.0, \"#f0f921\"]], \"type\": \"heatmap\"}], \"heatmapgl\": [{\"colorbar\": {\"outlinewidth\": 0, \"ticks\": \"\"}, \"colorscale\": [[0.0, \"#0d0887\"], [0.1111111111111111, \"#46039f\"], [0.2222222222222222, \"#7201a8\"], [0.3333333333333333, \"#9c179e\"], [0.4444444444444444, \"#bd3786\"], [0.5555555555555556, \"#d8576b\"], [0.6666666666666666, \"#ed7953\"], [0.7777777777777778, \"#fb9f3a\"], [0.8888888888888888, \"#fdca26\"], [1.0, \"#f0f921\"]], \"type\": \"heatmapgl\"}], \"histogram\": [{\"marker\": {\"colorbar\": {\"outlinewidth\": 0, \"ticks\": \"\"}}, \"type\": \"histogram\"}], \"histogram2d\": [{\"colorbar\": {\"outlinewidth\": 0, \"ticks\": \"\"}, \"colorscale\": [[0.0, \"#0d0887\"], [0.1111111111111111, \"#46039f\"], [0.2222222222222222, \"#7201a8\"], [0.3333333333333333, \"#9c179e\"], [0.4444444444444444, \"#bd3786\"], [0.5555555555555556, \"#d8576b\"], [0.6666666666666666, \"#ed7953\"], [0.7777777777777778, \"#fb9f3a\"], [0.8888888888888888, \"#fdca26\"], [1.0, \"#f0f921\"]], \"type\": \"histogram2d\"}], \"histogram2dcontour\": [{\"colorbar\": {\"outlinewidth\": 0, \"ticks\": \"\"}, \"colorscale\": [[0.0, \"#0d0887\"], [0.1111111111111111, \"#46039f\"], [0.2222222222222222, \"#7201a8\"], [0.3333333333333333, \"#9c179e\"], [0.4444444444444444, \"#bd3786\"], [0.5555555555555556, \"#d8576b\"], [0.6666666666666666, \"#ed7953\"], [0.7777777777777778, \"#fb9f3a\"], [0.8888888888888888, \"#fdca26\"], [1.0, \"#f0f921\"]], \"type\": \"histogram2dcontour\"}], \"mesh3d\": [{\"colorbar\": {\"outlinewidth\": 0, \"ticks\": \"\"}, \"type\": \"mesh3d\"}], \"parcoords\": [{\"line\": {\"colorbar\": {\"outlinewidth\": 0, \"ticks\": \"\"}}, \"type\": \"parcoords\"}], \"pie\": [{\"automargin\": true, \"type\": \"pie\"}], \"scatter\": [{\"marker\": {\"colorbar\": {\"outlinewidth\": 0, \"ticks\": \"\"}}, \"type\": \"scatter\"}], \"scatter3d\": [{\"line\": {\"colorbar\": {\"outlinewidth\": 0, \"ticks\": \"\"}}, \"marker\": {\"colorbar\": {\"outlinewidth\": 0, \"ticks\": \"\"}}, \"type\": \"scatter3d\"}], \"scattercarpet\": [{\"marker\": {\"colorbar\": {\"outlinewidth\": 0, \"ticks\": \"\"}}, \"type\": \"scattercarpet\"}], \"scattergeo\": [{\"marker\": {\"colorbar\": {\"outlinewidth\": 0, \"ticks\": \"\"}}, \"type\": \"scattergeo\"}], \"scattergl\": [{\"marker\": {\"colorbar\": {\"outlinewidth\": 0, \"ticks\": \"\"}}, \"type\": \"scattergl\"}], \"scattermapbox\": [{\"marker\": {\"colorbar\": {\"outlinewidth\": 0, \"ticks\": \"\"}}, \"type\": \"scattermapbox\"}], \"scatterpolar\": [{\"marker\": {\"colorbar\": {\"outlinewidth\": 0, \"ticks\": \"\"}}, \"type\": \"scatterpolar\"}], \"scatterpolargl\": [{\"marker\": {\"colorbar\": {\"outlinewidth\": 0, \"ticks\": \"\"}}, \"type\": \"scatterpolargl\"}], \"scatterternary\": [{\"marker\": {\"colorbar\": {\"outlinewidth\": 0, \"ticks\": \"\"}}, \"type\": \"scatterternary\"}], \"surface\": [{\"colorbar\": {\"outlinewidth\": 0, \"ticks\": \"\"}, \"colorscale\": [[0.0, \"#0d0887\"], [0.1111111111111111, \"#46039f\"], [0.2222222222222222, \"#7201a8\"], [0.3333333333333333, \"#9c179e\"], [0.4444444444444444, \"#bd3786\"], [0.5555555555555556, \"#d8576b\"], [0.6666666666666666, \"#ed7953\"], [0.7777777777777778, \"#fb9f3a\"], [0.8888888888888888, \"#fdca26\"], [1.0, \"#f0f921\"]], \"type\": \"surface\"}], \"table\": [{\"cells\": {\"fill\": {\"color\": \"#EBF0F8\"}, \"line\": {\"color\": \"white\"}}, \"header\": {\"fill\": {\"color\": \"#C8D4E3\"}, \"line\": {\"color\": \"white\"}}, \"type\": \"table\"}]}, \"layout\": {\"annotationdefaults\": {\"arrowcolor\": \"#2a3f5f\", \"arrowhead\": 0, \"arrowwidth\": 1}, \"autotypenumbers\": \"strict\", \"coloraxis\": {\"colorbar\": {\"outlinewidth\": 0, \"ticks\": \"\"}}, \"colorscale\": {\"diverging\": [[0, \"#8e0152\"], [0.1, \"#c51b7d\"], [0.2, \"#de77ae\"], [0.3, \"#f1b6da\"], [0.4, \"#fde0ef\"], [0.5, \"#f7f7f7\"], [0.6, \"#e6f5d0\"], [0.7, \"#b8e186\"], [0.8, \"#7fbc41\"], [0.9, \"#4d9221\"], [1, \"#276419\"]], \"sequential\": [[0.0, \"#0d0887\"], [0.1111111111111111, \"#46039f\"], [0.2222222222222222, \"#7201a8\"], [0.3333333333333333, \"#9c179e\"], [0.4444444444444444, \"#bd3786\"], [0.5555555555555556, \"#d8576b\"], [0.6666666666666666, \"#ed7953\"], [0.7777777777777778, \"#fb9f3a\"], [0.8888888888888888, \"#fdca26\"], [1.0, \"#f0f921\"]], \"sequentialminus\": [[0.0, \"#0d0887\"], [0.1111111111111111, \"#46039f\"], [0.2222222222222222, \"#7201a8\"], [0.3333333333333333, \"#9c179e\"], [0.4444444444444444, \"#bd3786\"], [0.5555555555555556, \"#d8576b\"], [0.6666666666666666, \"#ed7953\"], [0.7777777777777778, \"#fb9f3a\"], [0.8888888888888888, \"#fdca26\"], [1.0, \"#f0f921\"]]}, \"colorway\": [\"#636efa\", \"#EF553B\", \"#00cc96\", \"#ab63fa\", \"#FFA15A\", \"#19d3f3\", \"#FF6692\", \"#B6E880\", \"#FF97FF\", \"#FECB52\"], \"font\": {\"color\": \"#2a3f5f\"}, \"geo\": {\"bgcolor\": \"white\", \"lakecolor\": \"white\", \"landcolor\": \"#E5ECF6\", \"showlakes\": true, \"showland\": true, \"subunitcolor\": \"white\"}, \"hoverlabel\": {\"align\": \"left\"}, \"hovermode\": \"closest\", \"mapbox\": {\"style\": \"light\"}, \"paper_bgcolor\": \"white\", \"plot_bgcolor\": \"#E5ECF6\", \"polar\": {\"angularaxis\": {\"gridcolor\": \"white\", \"linecolor\": \"white\", \"ticks\": \"\"}, \"bgcolor\": \"#E5ECF6\", \"radialaxis\": {\"gridcolor\": \"white\", \"linecolor\": \"white\", \"ticks\": \"\"}}, \"scene\": {\"xaxis\": {\"backgroundcolor\": \"#E5ECF6\", \"gridcolor\": \"white\", \"gridwidth\": 2, \"linecolor\": \"white\", \"showbackground\": true, \"ticks\": \"\", \"zerolinecolor\": \"white\"}, \"yaxis\": {\"backgroundcolor\": \"#E5ECF6\", \"gridcolor\": \"white\", \"gridwidth\": 2, \"linecolor\": \"white\", \"showbackground\": true, \"ticks\": \"\", \"zerolinecolor\": \"white\"}, \"zaxis\": {\"backgroundcolor\": \"#E5ECF6\", \"gridcolor\": \"white\", \"gridwidth\": 2, \"linecolor\": \"white\", \"showbackground\": true, \"ticks\": \"\", \"zerolinecolor\": \"white\"}}, \"shapedefaults\": {\"line\": {\"color\": \"#2a3f5f\"}}, \"ternary\": {\"aaxis\": {\"gridcolor\": \"white\", \"linecolor\": \"white\", \"ticks\": \"\"}, \"baxis\": {\"gridcolor\": \"white\", \"linecolor\": \"white\", \"ticks\": \"\"}, \"bgcolor\": \"#E5ECF6\", \"caxis\": {\"gridcolor\": \"white\", \"linecolor\": \"white\", \"ticks\": \"\"}}, \"title\": {\"x\": 0.05}, \"xaxis\": {\"automargin\": true, \"gridcolor\": \"white\", \"linecolor\": \"white\", \"ticks\": \"\", \"title\": {\"standoff\": 15}, \"zerolinecolor\": \"white\", \"zerolinewidth\": 2}, \"yaxis\": {\"automargin\": true, \"gridcolor\": \"white\", \"linecolor\": \"white\", \"ticks\": \"\", \"title\": {\"standoff\": 15}, \"zerolinecolor\": \"white\", \"zerolinewidth\": 2}}}, \"title\": {\"text\": \"Wildfire frequency (2020-2022)\"}},                        {\"responsive\": true}                    ).then(function(){\n",
       "                            \n",
       "var gd = document.getElementById('43c961ae-1829-4751-bbff-97cb96e53efe');\n",
       "var x = new MutationObserver(function (mutations, observer) {{\n",
       "        var display = window.getComputedStyle(gd).display;\n",
       "        if (!display || display === 'none') {{\n",
       "            console.log([gd, 'removed!']);\n",
       "            Plotly.purge(gd);\n",
       "            observer.disconnect();\n",
       "        }}\n",
       "}});\n",
       "\n",
       "// Listen for the removal of the full notebook cells\n",
       "var notebookContainer = gd.closest('#notebook-container');\n",
       "if (notebookContainer) {{\n",
       "    x.observe(notebookContainer, {childList: true});\n",
       "}}\n",
       "\n",
       "// Listen for the clearing of the current output cell\n",
       "var outputEl = gd.closest('.output');\n",
       "if (outputEl) {{\n",
       "    x.observe(outputEl, {childList: true});\n",
       "}}\n",
       "\n",
       "                        })                };                });            </script>        </div>"
      ]
     },
     "metadata": {},
     "output_type": "display_data"
    }
   ],
   "source": [
    "fig = go.Figure(data=go.Choropleth(\n",
    "    locations = freq_df[\"ISO\"],\n",
    "    z = freq_df[\"fire_freq\"],\n",
    "    text = freq_df[\"Country\"],\n",
    "    colorscale = \"oranges\",\n",
    "    marker_line_color=\"darkgray\",\n",
    "    marker_line_width=0.5,\n",
    "    colorbar_title = \"Wildfire frequency<br>(2020-2022)<br>\",\n",
    "))\n",
    "\n",
    "fig.update_layout(\n",
    "    title_text=\"Wildfire frequency (2020-2022)\",\n",
    "    geo=dict(\n",
    "        showframe=False,\n",
    "        showcoastlines=False,\n",
    "    )\n",
    ")\n",
    "\n",
    "fig.show()"
   ]
  },
  {
   "cell_type": "markdown",
   "id": "92aa9b50",
   "metadata": {},
   "source": [
    "### Subset: 2000-2002"
   ]
  },
  {
   "cell_type": "code",
   "execution_count": 698,
   "id": "db82c1cf",
   "metadata": {},
   "outputs": [
    {
     "data": {
      "text/html": [
       "<div>\n",
       "<style scoped>\n",
       "    .dataframe tbody tr th:only-of-type {\n",
       "        vertical-align: middle;\n",
       "    }\n",
       "\n",
       "    .dataframe tbody tr th {\n",
       "        vertical-align: top;\n",
       "    }\n",
       "\n",
       "    .dataframe thead th {\n",
       "        text-align: right;\n",
       "    }\n",
       "</style>\n",
       "<table border=\"1\" class=\"dataframe\">\n",
       "  <thead>\n",
       "    <tr style=\"text-align: right;\">\n",
       "      <th></th>\n",
       "      <th>Country</th>\n",
       "      <th>ISO</th>\n",
       "      <th>flood_freq</th>\n",
       "      <th>drought_freq</th>\n",
       "      <th>fire_freq</th>\n",
       "    </tr>\n",
       "  </thead>\n",
       "  <tbody>\n",
       "    <tr>\n",
       "      <th>0</th>\n",
       "      <td>Cabo Verde</td>\n",
       "      <td>CPV</td>\n",
       "      <td>0</td>\n",
       "      <td>1</td>\n",
       "      <td>0</td>\n",
       "    </tr>\n",
       "    <tr>\n",
       "      <th>1</th>\n",
       "      <td>India</td>\n",
       "      <td>IND</td>\n",
       "      <td>21</td>\n",
       "      <td>2</td>\n",
       "      <td>0</td>\n",
       "    </tr>\n",
       "    <tr>\n",
       "      <th>2</th>\n",
       "      <td>Belgium</td>\n",
       "      <td>BEL</td>\n",
       "      <td>4</td>\n",
       "      <td>0</td>\n",
       "      <td>0</td>\n",
       "    </tr>\n",
       "    <tr>\n",
       "      <th>3</th>\n",
       "      <td>Burkina Faso</td>\n",
       "      <td>BFA</td>\n",
       "      <td>0</td>\n",
       "      <td>1</td>\n",
       "      <td>0</td>\n",
       "    </tr>\n",
       "    <tr>\n",
       "      <th>4</th>\n",
       "      <td>Gambia (the)</td>\n",
       "      <td>GMB</td>\n",
       "      <td>1</td>\n",
       "      <td>1</td>\n",
       "      <td>0</td>\n",
       "    </tr>\n",
       "  </tbody>\n",
       "</table>\n",
       "</div>"
      ],
      "text/plain": [
       "        Country  ISO  flood_freq  drought_freq  fire_freq\n",
       "0    Cabo Verde  CPV           0             1          0\n",
       "1         India  IND          21             2          0\n",
       "2       Belgium  BEL           4             0          0\n",
       "3  Burkina Faso  BFA           0             1          0\n",
       "4  Gambia (the)  GMB           1             1          0"
      ]
     },
     "execution_count": 698,
     "metadata": {},
     "output_type": "execute_result"
    }
   ],
   "source": [
    "chosen_years_past = [2000, 2001, 2002]\n",
    "cleaned_df_subset_3 = cleaned_df[cleaned_df[\"Year\"].isin(chosen_years_past)]\n",
    "freq_df_2 = create_frequency_df(cleaned_df_subset_3)\n",
    "freq_df_2.head()"
   ]
  },
  {
   "cell_type": "markdown",
   "id": "5607b13d",
   "metadata": {},
   "source": [
    "#### Visualization of flood frequency "
   ]
  },
  {
   "cell_type": "code",
   "execution_count": 699,
   "id": "b5259c26",
   "metadata": {},
   "outputs": [
    {
     "data": {
      "application/vnd.plotly.v1+json": {
       "config": {
        "plotlyServerURL": "https://plot.ly"
       },
       "data": [
        {
         "colorbar": {
          "title": {
           "text": "Flood frequency<br>(2000-2002)<br>"
          }
         },
         "colorscale": [
          [
           0,
           "rgb(210, 251, 212)"
          ],
          [
           0.16666666666666666,
           "rgb(165, 219, 194)"
          ],
          [
           0.3333333333333333,
           "rgb(123, 188, 176)"
          ],
          [
           0.5,
           "rgb(85, 156, 158)"
          ],
          [
           0.6666666666666666,
           "rgb(58, 124, 137)"
          ],
          [
           0.8333333333333334,
           "rgb(35, 93, 114)"
          ],
          [
           1,
           "rgb(18, 63, 90)"
          ]
         ],
         "locations": [
          "CPV",
          "IND",
          "BEL",
          "BFA",
          "GMB",
          "GNB",
          "CAN",
          "CHN",
          "AIA",
          "DFR",
          "DZA",
          "AUS",
          "BGD",
          "BRA",
          "FRA",
          "GTM",
          "ECU",
          "GBR",
          "ESP",
          "IDN",
          "EGY",
          "AFG",
          "ARG",
          "COL",
          "HTI",
          "HKG",
          "FJI",
          "BOL",
          "BWA",
          "CHL",
          "DOM",
          "ETH",
          "HND",
          "GHA",
          "BEN",
          "CRI",
          "BRB",
          "HUN",
          "CMR",
          "GUY",
          "CAF",
          "GRD",
          "CHE",
          "CUB",
          "DJI",
          "GRC",
          "JAM",
          "NER",
          "USA",
          "JPN",
          "MLI",
          "MRT",
          "SEN",
          "TCD",
          "SUN",
          "ROU",
          "MEX",
          "NZL",
          "ITA",
          "TUR",
          "IRN",
          "PAK",
          "MAR",
          "NLD",
          "IRQ",
          "NPL",
          "LBN",
          "KOR",
          "NIC",
          "SOM",
          "TUN",
          "JOR",
          "PRY",
          "KEN",
          "SAU",
          "TZA",
          "MMR",
          "MYS",
          "PER",
          "LAO",
          "LKA",
          "MNG",
          "PAN",
          "THA",
          "MOZ",
          "MWI",
          "PRT",
          "SYR",
          "UGA",
          "URY",
          "LSO",
          "PHL",
          "SUR",
          "PRI",
          "TGO",
          "RWA",
          "SDN",
          "POL",
          "SWE",
          "TWN",
          "ZAF",
          "VNM",
          "YUG",
          "VEN",
          "YMN",
          "YMD",
          "VCT",
          "ZMB",
          "BLZ",
          "CIV",
          "AUT",
          "GIN",
          "AGO",
          "COM",
          "BGR",
          "COG",
          "ATG",
          "CSK",
          "GLP",
          "BHS",
          "GAB",
          "LBR",
          "PNG",
          "MDG",
          "NAM",
          "NGA",
          "ISR",
          "LUX",
          "IRL",
          "KHM",
          "KNA",
          "MDV",
          "PRK",
          "ISL",
          "COD",
          "SWZ",
          "ZWE",
          "SLV",
          "STP",
          "WSM",
          "ALB",
          "BDI",
          "CYP",
          "DEU",
          "DNK",
          "BLR",
          "LTU",
          "RUS",
          "ERI",
          "MKD",
          "KAZ",
          "TJK",
          "YEM",
          "SCG",
          "TTO",
          "TKM",
          "UKR",
          "BTN",
          "AZE",
          "ARM",
          "BRN",
          "MDA",
          "GEO",
          "LBY",
          "NOR",
          "CZE",
          "GUF",
          "HRV",
          "KWT",
          "KGZ",
          "SLE",
          "SLB",
          "SVK",
          "SYC",
          "BIH",
          "FSM",
          "MUS",
          "KIR",
          "UZB",
          "SPI",
          "TLS",
          "VUT",
          "ASM",
          "FIN",
          "SVN",
          "MHL",
          "PSE",
          "MNE",
          "SRB",
          "SSD",
          "LCA",
          "TUV",
          "OMN",
          "TON",
          "ARE",
          "PYF",
          "LVA",
          "QAT",
          "PLW"
         ],
         "marker": {
          "line": {
           "color": "darkgray",
           "width": 0.5
          }
         },
         "text": [
          "Cabo Verde",
          "India",
          "Belgium",
          "Burkina Faso",
          "Gambia (the)",
          "Guinea-Bissau",
          "Canada",
          "China",
          "Anguilla",
          "Germany Fed Rep",
          "Algeria",
          "Australia",
          "Bangladesh",
          "Brazil",
          "France",
          "Guatemala",
          "Ecuador",
          "United Kingdom of Great Britain and Northern Ireland (the)",
          "Spain",
          "Indonesia",
          "Egypt",
          "Afghanistan",
          "Argentina",
          "Colombia",
          "Haiti",
          "Hong Kong",
          "Fiji",
          "Bolivia (Plurinational State of)",
          "Botswana",
          "Chile",
          "Dominican Republic (the)",
          "Ethiopia",
          "Honduras",
          "Ghana",
          "Benin",
          "Costa Rica",
          "Barbados",
          "Hungary",
          "Cameroon",
          "Guyana",
          "Central African Republic",
          "Grenada",
          "Switzerland",
          "Cuba",
          "Djibouti",
          "Greece",
          "Jamaica",
          "Niger (the)",
          "United States of America (the)",
          "Japan",
          "Mali",
          "Mauritania",
          "Senegal",
          "Chad",
          "Soviet Union",
          "Romania",
          "Mexico",
          "New Zealand",
          "Italy",
          "Turkey",
          "Iran (Islamic Republic of)",
          "Pakistan",
          "Morocco",
          "Netherlands (the)",
          "Iraq",
          "Nepal",
          "Lebanon",
          "Korea (the Republic of)",
          "Nicaragua",
          "Somalia",
          "Tunisia",
          "Jordan",
          "Paraguay",
          "Kenya",
          "Saudi Arabia",
          "Tanzania, United Republic of",
          "Myanmar",
          "Malaysia",
          "Peru",
          "Lao People's Democratic Republic (the)",
          "Sri Lanka",
          "Mongolia",
          "Panama",
          "Thailand",
          "Mozambique",
          "Malawi",
          "Portugal",
          "Syrian Arab Republic",
          "Uganda",
          "Uruguay",
          "Lesotho",
          "Philippines (the)",
          "Suriname",
          "Puerto Rico",
          "Togo",
          "Rwanda",
          "Sudan (the)",
          "Poland",
          "Sweden",
          "Taiwan (Province of China)",
          "South Africa",
          "Viet Nam",
          "Yugoslavia",
          "Venezuela (Bolivarian Republic of)",
          "Yemen Arab Rep",
          "Yemen P Dem Rep",
          "Saint Vincent and the Grenadines",
          "Zambia",
          "Belize",
          "Côte d’Ivoire",
          "Austria",
          "Guinea",
          "Angola",
          "Comoros (the)",
          "Bulgaria",
          "Congo (the)",
          "Antigua and Barbuda",
          "Czechoslovakia",
          "Guadeloupe",
          "Bahamas (the)",
          "Gabon",
          "Liberia",
          "Papua New Guinea",
          "Madagascar",
          "Namibia",
          "Nigeria",
          "Israel",
          "Luxembourg",
          "Ireland",
          "Cambodia",
          "Saint Kitts and Nevis",
          "Maldives",
          "Korea (the Democratic People's Republic of)",
          "Iceland",
          "Congo (the Democratic Republic of the)",
          "Eswatini",
          "Zimbabwe",
          "El Salvador",
          "Sao Tome and Principe",
          "Samoa",
          "Albania",
          "Burundi",
          "Cyprus",
          "Germany",
          "Denmark",
          "Belarus",
          "Lithuania",
          "Russian Federation (the)",
          "Eritrea",
          "Macedonia (the former Yugoslav Republic of)",
          "Kazakhstan",
          "Tajikistan",
          "Yemen",
          "Serbia Montenegro",
          "Trinidad and Tobago",
          "Turkmenistan",
          "Ukraine",
          "Bhutan",
          "Azerbaijan",
          "Armenia",
          "Brunei Darussalam",
          "Moldova (the Republic of)",
          "Georgia",
          "Libya",
          "Norway",
          "Czech Republic (the)",
          "French Guiana",
          "Croatia",
          "Kuwait",
          "Kyrgyzstan",
          "Sierra Leone",
          "Solomon Islands",
          "Slovakia",
          "Seychelles",
          "Bosnia and Herzegovina",
          "Micronesia (Federated States of)",
          "Mauritius",
          "Kiribati",
          "Uzbekistan",
          "Canary Is",
          "Timor-Leste",
          "Vanuatu",
          "American Samoa",
          "Finland",
          "Slovenia",
          "Marshall Islands (the)",
          "Palestine, State of",
          "Montenegro",
          "Serbia",
          "South Sudan",
          "Saint Lucia",
          "Tuvalu",
          "Oman",
          "Tonga",
          "United Arab Emirates (the)",
          "French Polynesia",
          "Latvia",
          "Qatar",
          "Palau"
         ],
         "type": "choropleth",
         "z": [
          0,
          21,
          4,
          0,
          1,
          0,
          1,
          28,
          0,
          0,
          8,
          5,
          6,
          9,
          14,
          3,
          5,
          8,
          3,
          14,
          2,
          4,
          8,
          9,
          4,
          0,
          1,
          4,
          1,
          8,
          1,
          6,
          3,
          3,
          0,
          3,
          0,
          3,
          2,
          0,
          0,
          0,
          0,
          2,
          0,
          8,
          1,
          2,
          17,
          2,
          3,
          2,
          2,
          1,
          0,
          7,
          6,
          2,
          9,
          5,
          10,
          4,
          4,
          0,
          0,
          1,
          0,
          5,
          2,
          5,
          0,
          0,
          1,
          5,
          1,
          3,
          2,
          5,
          7,
          3,
          4,
          0,
          4,
          11,
          4,
          5,
          2,
          0,
          4,
          3,
          0,
          10,
          0,
          1,
          0,
          3,
          2,
          1,
          0,
          0,
          6,
          9,
          0,
          3,
          0,
          0,
          0,
          2,
          0,
          0,
          1,
          1,
          7,
          0,
          1,
          1,
          0,
          0,
          0,
          0,
          0,
          0,
          0,
          0,
          1,
          10,
          0,
          0,
          1,
          3,
          0,
          0,
          3,
          0,
          3,
          1,
          2,
          3,
          0,
          1,
          1,
          3,
          0,
          1,
          0,
          0,
          0,
          15,
          0,
          1,
          2,
          5,
          5,
          3,
          0,
          0,
          1,
          1,
          0,
          0,
          0,
          1,
          0,
          0,
          2,
          2,
          0,
          2,
          0,
          0,
          0,
          0,
          2,
          0,
          1,
          0,
          0,
          0,
          0,
          2,
          1,
          1,
          0,
          0,
          0,
          0,
          0,
          0,
          0,
          0,
          0,
          0,
          0,
          0,
          0,
          0,
          0,
          0,
          0
         ]
        }
       ],
       "layout": {
        "geo": {
         "showcoastlines": false,
         "showframe": false
        },
        "template": {
         "data": {
          "bar": [
           {
            "error_x": {
             "color": "#2a3f5f"
            },
            "error_y": {
             "color": "#2a3f5f"
            },
            "marker": {
             "line": {
              "color": "#E5ECF6",
              "width": 0.5
             }
            },
            "type": "bar"
           }
          ],
          "barpolar": [
           {
            "marker": {
             "line": {
              "color": "#E5ECF6",
              "width": 0.5
             }
            },
            "type": "barpolar"
           }
          ],
          "carpet": [
           {
            "aaxis": {
             "endlinecolor": "#2a3f5f",
             "gridcolor": "white",
             "linecolor": "white",
             "minorgridcolor": "white",
             "startlinecolor": "#2a3f5f"
            },
            "baxis": {
             "endlinecolor": "#2a3f5f",
             "gridcolor": "white",
             "linecolor": "white",
             "minorgridcolor": "white",
             "startlinecolor": "#2a3f5f"
            },
            "type": "carpet"
           }
          ],
          "choropleth": [
           {
            "colorbar": {
             "outlinewidth": 0,
             "ticks": ""
            },
            "type": "choropleth"
           }
          ],
          "contour": [
           {
            "colorbar": {
             "outlinewidth": 0,
             "ticks": ""
            },
            "colorscale": [
             [
              0,
              "#0d0887"
             ],
             [
              0.1111111111111111,
              "#46039f"
             ],
             [
              0.2222222222222222,
              "#7201a8"
             ],
             [
              0.3333333333333333,
              "#9c179e"
             ],
             [
              0.4444444444444444,
              "#bd3786"
             ],
             [
              0.5555555555555556,
              "#d8576b"
             ],
             [
              0.6666666666666666,
              "#ed7953"
             ],
             [
              0.7777777777777778,
              "#fb9f3a"
             ],
             [
              0.8888888888888888,
              "#fdca26"
             ],
             [
              1,
              "#f0f921"
             ]
            ],
            "type": "contour"
           }
          ],
          "contourcarpet": [
           {
            "colorbar": {
             "outlinewidth": 0,
             "ticks": ""
            },
            "type": "contourcarpet"
           }
          ],
          "heatmap": [
           {
            "colorbar": {
             "outlinewidth": 0,
             "ticks": ""
            },
            "colorscale": [
             [
              0,
              "#0d0887"
             ],
             [
              0.1111111111111111,
              "#46039f"
             ],
             [
              0.2222222222222222,
              "#7201a8"
             ],
             [
              0.3333333333333333,
              "#9c179e"
             ],
             [
              0.4444444444444444,
              "#bd3786"
             ],
             [
              0.5555555555555556,
              "#d8576b"
             ],
             [
              0.6666666666666666,
              "#ed7953"
             ],
             [
              0.7777777777777778,
              "#fb9f3a"
             ],
             [
              0.8888888888888888,
              "#fdca26"
             ],
             [
              1,
              "#f0f921"
             ]
            ],
            "type": "heatmap"
           }
          ],
          "heatmapgl": [
           {
            "colorbar": {
             "outlinewidth": 0,
             "ticks": ""
            },
            "colorscale": [
             [
              0,
              "#0d0887"
             ],
             [
              0.1111111111111111,
              "#46039f"
             ],
             [
              0.2222222222222222,
              "#7201a8"
             ],
             [
              0.3333333333333333,
              "#9c179e"
             ],
             [
              0.4444444444444444,
              "#bd3786"
             ],
             [
              0.5555555555555556,
              "#d8576b"
             ],
             [
              0.6666666666666666,
              "#ed7953"
             ],
             [
              0.7777777777777778,
              "#fb9f3a"
             ],
             [
              0.8888888888888888,
              "#fdca26"
             ],
             [
              1,
              "#f0f921"
             ]
            ],
            "type": "heatmapgl"
           }
          ],
          "histogram": [
           {
            "marker": {
             "colorbar": {
              "outlinewidth": 0,
              "ticks": ""
             }
            },
            "type": "histogram"
           }
          ],
          "histogram2d": [
           {
            "colorbar": {
             "outlinewidth": 0,
             "ticks": ""
            },
            "colorscale": [
             [
              0,
              "#0d0887"
             ],
             [
              0.1111111111111111,
              "#46039f"
             ],
             [
              0.2222222222222222,
              "#7201a8"
             ],
             [
              0.3333333333333333,
              "#9c179e"
             ],
             [
              0.4444444444444444,
              "#bd3786"
             ],
             [
              0.5555555555555556,
              "#d8576b"
             ],
             [
              0.6666666666666666,
              "#ed7953"
             ],
             [
              0.7777777777777778,
              "#fb9f3a"
             ],
             [
              0.8888888888888888,
              "#fdca26"
             ],
             [
              1,
              "#f0f921"
             ]
            ],
            "type": "histogram2d"
           }
          ],
          "histogram2dcontour": [
           {
            "colorbar": {
             "outlinewidth": 0,
             "ticks": ""
            },
            "colorscale": [
             [
              0,
              "#0d0887"
             ],
             [
              0.1111111111111111,
              "#46039f"
             ],
             [
              0.2222222222222222,
              "#7201a8"
             ],
             [
              0.3333333333333333,
              "#9c179e"
             ],
             [
              0.4444444444444444,
              "#bd3786"
             ],
             [
              0.5555555555555556,
              "#d8576b"
             ],
             [
              0.6666666666666666,
              "#ed7953"
             ],
             [
              0.7777777777777778,
              "#fb9f3a"
             ],
             [
              0.8888888888888888,
              "#fdca26"
             ],
             [
              1,
              "#f0f921"
             ]
            ],
            "type": "histogram2dcontour"
           }
          ],
          "mesh3d": [
           {
            "colorbar": {
             "outlinewidth": 0,
             "ticks": ""
            },
            "type": "mesh3d"
           }
          ],
          "parcoords": [
           {
            "line": {
             "colorbar": {
              "outlinewidth": 0,
              "ticks": ""
             }
            },
            "type": "parcoords"
           }
          ],
          "pie": [
           {
            "automargin": true,
            "type": "pie"
           }
          ],
          "scatter": [
           {
            "marker": {
             "colorbar": {
              "outlinewidth": 0,
              "ticks": ""
             }
            },
            "type": "scatter"
           }
          ],
          "scatter3d": [
           {
            "line": {
             "colorbar": {
              "outlinewidth": 0,
              "ticks": ""
             }
            },
            "marker": {
             "colorbar": {
              "outlinewidth": 0,
              "ticks": ""
             }
            },
            "type": "scatter3d"
           }
          ],
          "scattercarpet": [
           {
            "marker": {
             "colorbar": {
              "outlinewidth": 0,
              "ticks": ""
             }
            },
            "type": "scattercarpet"
           }
          ],
          "scattergeo": [
           {
            "marker": {
             "colorbar": {
              "outlinewidth": 0,
              "ticks": ""
             }
            },
            "type": "scattergeo"
           }
          ],
          "scattergl": [
           {
            "marker": {
             "colorbar": {
              "outlinewidth": 0,
              "ticks": ""
             }
            },
            "type": "scattergl"
           }
          ],
          "scattermapbox": [
           {
            "marker": {
             "colorbar": {
              "outlinewidth": 0,
              "ticks": ""
             }
            },
            "type": "scattermapbox"
           }
          ],
          "scatterpolar": [
           {
            "marker": {
             "colorbar": {
              "outlinewidth": 0,
              "ticks": ""
             }
            },
            "type": "scatterpolar"
           }
          ],
          "scatterpolargl": [
           {
            "marker": {
             "colorbar": {
              "outlinewidth": 0,
              "ticks": ""
             }
            },
            "type": "scatterpolargl"
           }
          ],
          "scatterternary": [
           {
            "marker": {
             "colorbar": {
              "outlinewidth": 0,
              "ticks": ""
             }
            },
            "type": "scatterternary"
           }
          ],
          "surface": [
           {
            "colorbar": {
             "outlinewidth": 0,
             "ticks": ""
            },
            "colorscale": [
             [
              0,
              "#0d0887"
             ],
             [
              0.1111111111111111,
              "#46039f"
             ],
             [
              0.2222222222222222,
              "#7201a8"
             ],
             [
              0.3333333333333333,
              "#9c179e"
             ],
             [
              0.4444444444444444,
              "#bd3786"
             ],
             [
              0.5555555555555556,
              "#d8576b"
             ],
             [
              0.6666666666666666,
              "#ed7953"
             ],
             [
              0.7777777777777778,
              "#fb9f3a"
             ],
             [
              0.8888888888888888,
              "#fdca26"
             ],
             [
              1,
              "#f0f921"
             ]
            ],
            "type": "surface"
           }
          ],
          "table": [
           {
            "cells": {
             "fill": {
              "color": "#EBF0F8"
             },
             "line": {
              "color": "white"
             }
            },
            "header": {
             "fill": {
              "color": "#C8D4E3"
             },
             "line": {
              "color": "white"
             }
            },
            "type": "table"
           }
          ]
         },
         "layout": {
          "annotationdefaults": {
           "arrowcolor": "#2a3f5f",
           "arrowhead": 0,
           "arrowwidth": 1
          },
          "autotypenumbers": "strict",
          "coloraxis": {
           "colorbar": {
            "outlinewidth": 0,
            "ticks": ""
           }
          },
          "colorscale": {
           "diverging": [
            [
             0,
             "#8e0152"
            ],
            [
             0.1,
             "#c51b7d"
            ],
            [
             0.2,
             "#de77ae"
            ],
            [
             0.3,
             "#f1b6da"
            ],
            [
             0.4,
             "#fde0ef"
            ],
            [
             0.5,
             "#f7f7f7"
            ],
            [
             0.6,
             "#e6f5d0"
            ],
            [
             0.7,
             "#b8e186"
            ],
            [
             0.8,
             "#7fbc41"
            ],
            [
             0.9,
             "#4d9221"
            ],
            [
             1,
             "#276419"
            ]
           ],
           "sequential": [
            [
             0,
             "#0d0887"
            ],
            [
             0.1111111111111111,
             "#46039f"
            ],
            [
             0.2222222222222222,
             "#7201a8"
            ],
            [
             0.3333333333333333,
             "#9c179e"
            ],
            [
             0.4444444444444444,
             "#bd3786"
            ],
            [
             0.5555555555555556,
             "#d8576b"
            ],
            [
             0.6666666666666666,
             "#ed7953"
            ],
            [
             0.7777777777777778,
             "#fb9f3a"
            ],
            [
             0.8888888888888888,
             "#fdca26"
            ],
            [
             1,
             "#f0f921"
            ]
           ],
           "sequentialminus": [
            [
             0,
             "#0d0887"
            ],
            [
             0.1111111111111111,
             "#46039f"
            ],
            [
             0.2222222222222222,
             "#7201a8"
            ],
            [
             0.3333333333333333,
             "#9c179e"
            ],
            [
             0.4444444444444444,
             "#bd3786"
            ],
            [
             0.5555555555555556,
             "#d8576b"
            ],
            [
             0.6666666666666666,
             "#ed7953"
            ],
            [
             0.7777777777777778,
             "#fb9f3a"
            ],
            [
             0.8888888888888888,
             "#fdca26"
            ],
            [
             1,
             "#f0f921"
            ]
           ]
          },
          "colorway": [
           "#636efa",
           "#EF553B",
           "#00cc96",
           "#ab63fa",
           "#FFA15A",
           "#19d3f3",
           "#FF6692",
           "#B6E880",
           "#FF97FF",
           "#FECB52"
          ],
          "font": {
           "color": "#2a3f5f"
          },
          "geo": {
           "bgcolor": "white",
           "lakecolor": "white",
           "landcolor": "#E5ECF6",
           "showlakes": true,
           "showland": true,
           "subunitcolor": "white"
          },
          "hoverlabel": {
           "align": "left"
          },
          "hovermode": "closest",
          "mapbox": {
           "style": "light"
          },
          "paper_bgcolor": "white",
          "plot_bgcolor": "#E5ECF6",
          "polar": {
           "angularaxis": {
            "gridcolor": "white",
            "linecolor": "white",
            "ticks": ""
           },
           "bgcolor": "#E5ECF6",
           "radialaxis": {
            "gridcolor": "white",
            "linecolor": "white",
            "ticks": ""
           }
          },
          "scene": {
           "xaxis": {
            "backgroundcolor": "#E5ECF6",
            "gridcolor": "white",
            "gridwidth": 2,
            "linecolor": "white",
            "showbackground": true,
            "ticks": "",
            "zerolinecolor": "white"
           },
           "yaxis": {
            "backgroundcolor": "#E5ECF6",
            "gridcolor": "white",
            "gridwidth": 2,
            "linecolor": "white",
            "showbackground": true,
            "ticks": "",
            "zerolinecolor": "white"
           },
           "zaxis": {
            "backgroundcolor": "#E5ECF6",
            "gridcolor": "white",
            "gridwidth": 2,
            "linecolor": "white",
            "showbackground": true,
            "ticks": "",
            "zerolinecolor": "white"
           }
          },
          "shapedefaults": {
           "line": {
            "color": "#2a3f5f"
           }
          },
          "ternary": {
           "aaxis": {
            "gridcolor": "white",
            "linecolor": "white",
            "ticks": ""
           },
           "baxis": {
            "gridcolor": "white",
            "linecolor": "white",
            "ticks": ""
           },
           "bgcolor": "#E5ECF6",
           "caxis": {
            "gridcolor": "white",
            "linecolor": "white",
            "ticks": ""
           }
          },
          "title": {
           "x": 0.05
          },
          "xaxis": {
           "automargin": true,
           "gridcolor": "white",
           "linecolor": "white",
           "ticks": "",
           "title": {
            "standoff": 15
           },
           "zerolinecolor": "white",
           "zerolinewidth": 2
          },
          "yaxis": {
           "automargin": true,
           "gridcolor": "white",
           "linecolor": "white",
           "ticks": "",
           "title": {
            "standoff": 15
           },
           "zerolinecolor": "white",
           "zerolinewidth": 2
          }
         }
        },
        "title": {
         "text": "Flood frequency (2000-2002)"
        }
       }
      },
      "text/html": [
       "<div>                            <div id=\"81c382db-4dbb-49b2-b51d-93d018e2c0fc\" class=\"plotly-graph-div\" style=\"height:525px; width:100%;\"></div>            <script type=\"text/javascript\">                require([\"plotly\"], function(Plotly) {                    window.PLOTLYENV=window.PLOTLYENV || {};                                    if (document.getElementById(\"81c382db-4dbb-49b2-b51d-93d018e2c0fc\")) {                    Plotly.newPlot(                        \"81c382db-4dbb-49b2-b51d-93d018e2c0fc\",                        [{\"colorbar\": {\"title\": {\"text\": \"Flood frequency<br>(2000-2002)<br>\"}}, \"colorscale\": [[0.0, \"rgb(210, 251, 212)\"], [0.16666666666666666, \"rgb(165, 219, 194)\"], [0.3333333333333333, \"rgb(123, 188, 176)\"], [0.5, \"rgb(85, 156, 158)\"], [0.6666666666666666, \"rgb(58, 124, 137)\"], [0.8333333333333334, \"rgb(35, 93, 114)\"], [1.0, \"rgb(18, 63, 90)\"]], \"locations\": [\"CPV\", \"IND\", \"BEL\", \"BFA\", \"GMB\", \"GNB\", \"CAN\", \"CHN\", \"AIA\", \"DFR\", \"DZA\", \"AUS\", \"BGD\", \"BRA\", \"FRA\", \"GTM\", \"ECU\", \"GBR\", \"ESP\", \"IDN\", \"EGY\", \"AFG\", \"ARG\", \"COL\", \"HTI\", \"HKG\", \"FJI\", \"BOL\", \"BWA\", \"CHL\", \"DOM\", \"ETH\", \"HND\", \"GHA\", \"BEN\", \"CRI\", \"BRB\", \"HUN\", \"CMR\", \"GUY\", \"CAF\", \"GRD\", \"CHE\", \"CUB\", \"DJI\", \"GRC\", \"JAM\", \"NER\", \"USA\", \"JPN\", \"MLI\", \"MRT\", \"SEN\", \"TCD\", \"SUN\", \"ROU\", \"MEX\", \"NZL\", \"ITA\", \"TUR\", \"IRN\", \"PAK\", \"MAR\", \"NLD\", \"IRQ\", \"NPL\", \"LBN\", \"KOR\", \"NIC\", \"SOM\", \"TUN\", \"JOR\", \"PRY\", \"KEN\", \"SAU\", \"TZA\", \"MMR\", \"MYS\", \"PER\", \"LAO\", \"LKA\", \"MNG\", \"PAN\", \"THA\", \"MOZ\", \"MWI\", \"PRT\", \"SYR\", \"UGA\", \"URY\", \"LSO\", \"PHL\", \"SUR\", \"PRI\", \"TGO\", \"RWA\", \"SDN\", \"POL\", \"SWE\", \"TWN\", \"ZAF\", \"VNM\", \"YUG\", \"VEN\", \"YMN\", \"YMD\", \"VCT\", \"ZMB\", \"BLZ\", \"CIV\", \"AUT\", \"GIN\", \"AGO\", \"COM\", \"BGR\", \"COG\", \"ATG\", \"CSK\", \"GLP\", \"BHS\", \"GAB\", \"LBR\", \"PNG\", \"MDG\", \"NAM\", \"NGA\", \"ISR\", \"LUX\", \"IRL\", \"KHM\", \"KNA\", \"MDV\", \"PRK\", \"ISL\", \"COD\", \"SWZ\", \"ZWE\", \"SLV\", \"STP\", \"WSM\", \"ALB\", \"BDI\", \"CYP\", \"DEU\", \"DNK\", \"BLR\", \"LTU\", \"RUS\", \"ERI\", \"MKD\", \"KAZ\", \"TJK\", \"YEM\", \"SCG\", \"TTO\", \"TKM\", \"UKR\", \"BTN\", \"AZE\", \"ARM\", \"BRN\", \"MDA\", \"GEO\", \"LBY\", \"NOR\", \"CZE\", \"GUF\", \"HRV\", \"KWT\", \"KGZ\", \"SLE\", \"SLB\", \"SVK\", \"SYC\", \"BIH\", \"FSM\", \"MUS\", \"KIR\", \"UZB\", \"SPI\", \"TLS\", \"VUT\", \"ASM\", \"FIN\", \"SVN\", \"MHL\", \"PSE\", \"MNE\", \"SRB\", \"SSD\", \"LCA\", \"TUV\", \"OMN\", \"TON\", \"ARE\", \"PYF\", \"LVA\", \"QAT\", \"PLW\"], \"marker\": {\"line\": {\"color\": \"darkgray\", \"width\": 0.5}}, \"text\": [\"Cabo Verde\", \"India\", \"Belgium\", \"Burkina Faso\", \"Gambia (the)\", \"Guinea-Bissau\", \"Canada\", \"China\", \"Anguilla\", \"Germany Fed Rep\", \"Algeria\", \"Australia\", \"Bangladesh\", \"Brazil\", \"France\", \"Guatemala\", \"Ecuador\", \"United Kingdom of Great Britain and Northern Ireland (the)\", \"Spain\", \"Indonesia\", \"Egypt\", \"Afghanistan\", \"Argentina\", \"Colombia\", \"Haiti\", \"Hong Kong\", \"Fiji\", \"Bolivia (Plurinational State of)\", \"Botswana\", \"Chile\", \"Dominican Republic (the)\", \"Ethiopia\", \"Honduras\", \"Ghana\", \"Benin\", \"Costa Rica\", \"Barbados\", \"Hungary\", \"Cameroon\", \"Guyana\", \"Central African Republic\", \"Grenada\", \"Switzerland\", \"Cuba\", \"Djibouti\", \"Greece\", \"Jamaica\", \"Niger (the)\", \"United States of America (the)\", \"Japan\", \"Mali\", \"Mauritania\", \"Senegal\", \"Chad\", \"Soviet Union\", \"Romania\", \"Mexico\", \"New Zealand\", \"Italy\", \"Turkey\", \"Iran (Islamic Republic of)\", \"Pakistan\", \"Morocco\", \"Netherlands (the)\", \"Iraq\", \"Nepal\", \"Lebanon\", \"Korea (the Republic of)\", \"Nicaragua\", \"Somalia\", \"Tunisia\", \"Jordan\", \"Paraguay\", \"Kenya\", \"Saudi Arabia\", \"Tanzania, United Republic of\", \"Myanmar\", \"Malaysia\", \"Peru\", \"Lao People's Democratic Republic (the)\", \"Sri Lanka\", \"Mongolia\", \"Panama\", \"Thailand\", \"Mozambique\", \"Malawi\", \"Portugal\", \"Syrian Arab Republic\", \"Uganda\", \"Uruguay\", \"Lesotho\", \"Philippines (the)\", \"Suriname\", \"Puerto Rico\", \"Togo\", \"Rwanda\", \"Sudan (the)\", \"Poland\", \"Sweden\", \"Taiwan (Province of China)\", \"South Africa\", \"Viet Nam\", \"Yugoslavia\", \"Venezuela (Bolivarian Republic of)\", \"Yemen Arab Rep\", \"Yemen P Dem Rep\", \"Saint Vincent and the Grenadines\", \"Zambia\", \"Belize\", \"C\\u00f4te d\\u2019Ivoire\", \"Austria\", \"Guinea\", \"Angola\", \"Comoros (the)\", \"Bulgaria\", \"Congo (the)\", \"Antigua and Barbuda\", \"Czechoslovakia\", \"Guadeloupe\", \"Bahamas (the)\", \"Gabon\", \"Liberia\", \"Papua New Guinea\", \"Madagascar\", \"Namibia\", \"Nigeria\", \"Israel\", \"Luxembourg\", \"Ireland\", \"Cambodia\", \"Saint Kitts and Nevis\", \"Maldives\", \"Korea (the Democratic People's Republic of)\", \"Iceland\", \"Congo (the Democratic Republic of the)\", \"Eswatini\", \"Zimbabwe\", \"El Salvador\", \"Sao Tome and Principe\", \"Samoa\", \"Albania\", \"Burundi\", \"Cyprus\", \"Germany\", \"Denmark\", \"Belarus\", \"Lithuania\", \"Russian Federation (the)\", \"Eritrea\", \"Macedonia (the former Yugoslav Republic of)\", \"Kazakhstan\", \"Tajikistan\", \"Yemen\", \"Serbia Montenegro\", \"Trinidad and Tobago\", \"Turkmenistan\", \"Ukraine\", \"Bhutan\", \"Azerbaijan\", \"Armenia\", \"Brunei Darussalam\", \"Moldova (the Republic of)\", \"Georgia\", \"Libya\", \"Norway\", \"Czech Republic (the)\", \"French Guiana\", \"Croatia\", \"Kuwait\", \"Kyrgyzstan\", \"Sierra Leone\", \"Solomon Islands\", \"Slovakia\", \"Seychelles\", \"Bosnia and Herzegovina\", \"Micronesia (Federated States of)\", \"Mauritius\", \"Kiribati\", \"Uzbekistan\", \"Canary Is\", \"Timor-Leste\", \"Vanuatu\", \"American Samoa\", \"Finland\", \"Slovenia\", \"Marshall Islands (the)\", \"Palestine, State of\", \"Montenegro\", \"Serbia\", \"South Sudan\", \"Saint Lucia\", \"Tuvalu\", \"Oman\", \"Tonga\", \"United Arab Emirates (the)\", \"French Polynesia\", \"Latvia\", \"Qatar\", \"Palau\"], \"type\": \"choropleth\", \"z\": [0, 21, 4, 0, 1, 0, 1, 28, 0, 0, 8, 5, 6, 9, 14, 3, 5, 8, 3, 14, 2, 4, 8, 9, 4, 0, 1, 4, 1, 8, 1, 6, 3, 3, 0, 3, 0, 3, 2, 0, 0, 0, 0, 2, 0, 8, 1, 2, 17, 2, 3, 2, 2, 1, 0, 7, 6, 2, 9, 5, 10, 4, 4, 0, 0, 1, 0, 5, 2, 5, 0, 0, 1, 5, 1, 3, 2, 5, 7, 3, 4, 0, 4, 11, 4, 5, 2, 0, 4, 3, 0, 10, 0, 1, 0, 3, 2, 1, 0, 0, 6, 9, 0, 3, 0, 0, 0, 2, 0, 0, 1, 1, 7, 0, 1, 1, 0, 0, 0, 0, 0, 0, 0, 0, 1, 10, 0, 0, 1, 3, 0, 0, 3, 0, 3, 1, 2, 3, 0, 1, 1, 3, 0, 1, 0, 0, 0, 15, 0, 1, 2, 5, 5, 3, 0, 0, 1, 1, 0, 0, 0, 1, 0, 0, 2, 2, 0, 2, 0, 0, 0, 0, 2, 0, 1, 0, 0, 0, 0, 2, 1, 1, 0, 0, 0, 0, 0, 0, 0, 0, 0, 0, 0, 0, 0, 0, 0, 0, 0]}],                        {\"geo\": {\"showcoastlines\": false, \"showframe\": false}, \"template\": {\"data\": {\"bar\": [{\"error_x\": {\"color\": \"#2a3f5f\"}, \"error_y\": {\"color\": \"#2a3f5f\"}, \"marker\": {\"line\": {\"color\": \"#E5ECF6\", \"width\": 0.5}}, \"type\": \"bar\"}], \"barpolar\": [{\"marker\": {\"line\": {\"color\": \"#E5ECF6\", \"width\": 0.5}}, \"type\": \"barpolar\"}], \"carpet\": [{\"aaxis\": {\"endlinecolor\": \"#2a3f5f\", \"gridcolor\": \"white\", \"linecolor\": \"white\", \"minorgridcolor\": \"white\", \"startlinecolor\": \"#2a3f5f\"}, \"baxis\": {\"endlinecolor\": \"#2a3f5f\", \"gridcolor\": \"white\", \"linecolor\": \"white\", \"minorgridcolor\": \"white\", \"startlinecolor\": \"#2a3f5f\"}, \"type\": \"carpet\"}], \"choropleth\": [{\"colorbar\": {\"outlinewidth\": 0, \"ticks\": \"\"}, \"type\": \"choropleth\"}], \"contour\": [{\"colorbar\": {\"outlinewidth\": 0, \"ticks\": \"\"}, \"colorscale\": [[0.0, \"#0d0887\"], [0.1111111111111111, \"#46039f\"], [0.2222222222222222, \"#7201a8\"], [0.3333333333333333, \"#9c179e\"], [0.4444444444444444, \"#bd3786\"], [0.5555555555555556, \"#d8576b\"], [0.6666666666666666, \"#ed7953\"], [0.7777777777777778, \"#fb9f3a\"], [0.8888888888888888, \"#fdca26\"], [1.0, \"#f0f921\"]], \"type\": \"contour\"}], \"contourcarpet\": [{\"colorbar\": {\"outlinewidth\": 0, \"ticks\": \"\"}, \"type\": \"contourcarpet\"}], \"heatmap\": [{\"colorbar\": {\"outlinewidth\": 0, \"ticks\": \"\"}, \"colorscale\": [[0.0, \"#0d0887\"], [0.1111111111111111, \"#46039f\"], [0.2222222222222222, \"#7201a8\"], [0.3333333333333333, \"#9c179e\"], [0.4444444444444444, \"#bd3786\"], [0.5555555555555556, \"#d8576b\"], [0.6666666666666666, \"#ed7953\"], [0.7777777777777778, \"#fb9f3a\"], [0.8888888888888888, \"#fdca26\"], [1.0, \"#f0f921\"]], \"type\": \"heatmap\"}], \"heatmapgl\": [{\"colorbar\": {\"outlinewidth\": 0, \"ticks\": \"\"}, \"colorscale\": [[0.0, \"#0d0887\"], [0.1111111111111111, \"#46039f\"], [0.2222222222222222, \"#7201a8\"], [0.3333333333333333, \"#9c179e\"], [0.4444444444444444, \"#bd3786\"], [0.5555555555555556, \"#d8576b\"], [0.6666666666666666, \"#ed7953\"], [0.7777777777777778, \"#fb9f3a\"], [0.8888888888888888, \"#fdca26\"], [1.0, \"#f0f921\"]], \"type\": \"heatmapgl\"}], \"histogram\": [{\"marker\": {\"colorbar\": {\"outlinewidth\": 0, \"ticks\": \"\"}}, \"type\": \"histogram\"}], \"histogram2d\": [{\"colorbar\": {\"outlinewidth\": 0, \"ticks\": \"\"}, \"colorscale\": [[0.0, \"#0d0887\"], [0.1111111111111111, \"#46039f\"], [0.2222222222222222, \"#7201a8\"], [0.3333333333333333, \"#9c179e\"], [0.4444444444444444, \"#bd3786\"], [0.5555555555555556, \"#d8576b\"], [0.6666666666666666, \"#ed7953\"], [0.7777777777777778, \"#fb9f3a\"], [0.8888888888888888, \"#fdca26\"], [1.0, \"#f0f921\"]], \"type\": \"histogram2d\"}], \"histogram2dcontour\": [{\"colorbar\": {\"outlinewidth\": 0, \"ticks\": \"\"}, \"colorscale\": [[0.0, \"#0d0887\"], [0.1111111111111111, \"#46039f\"], [0.2222222222222222, \"#7201a8\"], [0.3333333333333333, \"#9c179e\"], [0.4444444444444444, \"#bd3786\"], [0.5555555555555556, \"#d8576b\"], [0.6666666666666666, \"#ed7953\"], [0.7777777777777778, \"#fb9f3a\"], [0.8888888888888888, \"#fdca26\"], [1.0, \"#f0f921\"]], \"type\": \"histogram2dcontour\"}], \"mesh3d\": [{\"colorbar\": {\"outlinewidth\": 0, \"ticks\": \"\"}, \"type\": \"mesh3d\"}], \"parcoords\": [{\"line\": {\"colorbar\": {\"outlinewidth\": 0, \"ticks\": \"\"}}, \"type\": \"parcoords\"}], \"pie\": [{\"automargin\": true, \"type\": \"pie\"}], \"scatter\": [{\"marker\": {\"colorbar\": {\"outlinewidth\": 0, \"ticks\": \"\"}}, \"type\": \"scatter\"}], \"scatter3d\": [{\"line\": {\"colorbar\": {\"outlinewidth\": 0, \"ticks\": \"\"}}, \"marker\": {\"colorbar\": {\"outlinewidth\": 0, \"ticks\": \"\"}}, \"type\": \"scatter3d\"}], \"scattercarpet\": [{\"marker\": {\"colorbar\": {\"outlinewidth\": 0, \"ticks\": \"\"}}, \"type\": \"scattercarpet\"}], \"scattergeo\": [{\"marker\": {\"colorbar\": {\"outlinewidth\": 0, \"ticks\": \"\"}}, \"type\": \"scattergeo\"}], \"scattergl\": [{\"marker\": {\"colorbar\": {\"outlinewidth\": 0, \"ticks\": \"\"}}, \"type\": \"scattergl\"}], \"scattermapbox\": [{\"marker\": {\"colorbar\": {\"outlinewidth\": 0, \"ticks\": \"\"}}, \"type\": \"scattermapbox\"}], \"scatterpolar\": [{\"marker\": {\"colorbar\": {\"outlinewidth\": 0, \"ticks\": \"\"}}, \"type\": \"scatterpolar\"}], \"scatterpolargl\": [{\"marker\": {\"colorbar\": {\"outlinewidth\": 0, \"ticks\": \"\"}}, \"type\": \"scatterpolargl\"}], \"scatterternary\": [{\"marker\": {\"colorbar\": {\"outlinewidth\": 0, \"ticks\": \"\"}}, \"type\": \"scatterternary\"}], \"surface\": [{\"colorbar\": {\"outlinewidth\": 0, \"ticks\": \"\"}, \"colorscale\": [[0.0, \"#0d0887\"], [0.1111111111111111, \"#46039f\"], [0.2222222222222222, \"#7201a8\"], [0.3333333333333333, \"#9c179e\"], [0.4444444444444444, \"#bd3786\"], [0.5555555555555556, \"#d8576b\"], [0.6666666666666666, \"#ed7953\"], [0.7777777777777778, \"#fb9f3a\"], [0.8888888888888888, \"#fdca26\"], [1.0, \"#f0f921\"]], \"type\": \"surface\"}], \"table\": [{\"cells\": {\"fill\": {\"color\": \"#EBF0F8\"}, \"line\": {\"color\": \"white\"}}, \"header\": {\"fill\": {\"color\": \"#C8D4E3\"}, \"line\": {\"color\": \"white\"}}, \"type\": \"table\"}]}, \"layout\": {\"annotationdefaults\": {\"arrowcolor\": \"#2a3f5f\", \"arrowhead\": 0, \"arrowwidth\": 1}, \"autotypenumbers\": \"strict\", \"coloraxis\": {\"colorbar\": {\"outlinewidth\": 0, \"ticks\": \"\"}}, \"colorscale\": {\"diverging\": [[0, \"#8e0152\"], [0.1, \"#c51b7d\"], [0.2, \"#de77ae\"], [0.3, \"#f1b6da\"], [0.4, \"#fde0ef\"], [0.5, \"#f7f7f7\"], [0.6, \"#e6f5d0\"], [0.7, \"#b8e186\"], [0.8, \"#7fbc41\"], [0.9, \"#4d9221\"], [1, \"#276419\"]], \"sequential\": [[0.0, \"#0d0887\"], [0.1111111111111111, \"#46039f\"], [0.2222222222222222, \"#7201a8\"], [0.3333333333333333, \"#9c179e\"], [0.4444444444444444, \"#bd3786\"], [0.5555555555555556, \"#d8576b\"], [0.6666666666666666, \"#ed7953\"], [0.7777777777777778, \"#fb9f3a\"], [0.8888888888888888, \"#fdca26\"], [1.0, \"#f0f921\"]], \"sequentialminus\": [[0.0, \"#0d0887\"], [0.1111111111111111, \"#46039f\"], [0.2222222222222222, \"#7201a8\"], [0.3333333333333333, \"#9c179e\"], [0.4444444444444444, \"#bd3786\"], [0.5555555555555556, \"#d8576b\"], [0.6666666666666666, \"#ed7953\"], [0.7777777777777778, \"#fb9f3a\"], [0.8888888888888888, \"#fdca26\"], [1.0, \"#f0f921\"]]}, \"colorway\": [\"#636efa\", \"#EF553B\", \"#00cc96\", \"#ab63fa\", \"#FFA15A\", \"#19d3f3\", \"#FF6692\", \"#B6E880\", \"#FF97FF\", \"#FECB52\"], \"font\": {\"color\": \"#2a3f5f\"}, \"geo\": {\"bgcolor\": \"white\", \"lakecolor\": \"white\", \"landcolor\": \"#E5ECF6\", \"showlakes\": true, \"showland\": true, \"subunitcolor\": \"white\"}, \"hoverlabel\": {\"align\": \"left\"}, \"hovermode\": \"closest\", \"mapbox\": {\"style\": \"light\"}, \"paper_bgcolor\": \"white\", \"plot_bgcolor\": \"#E5ECF6\", \"polar\": {\"angularaxis\": {\"gridcolor\": \"white\", \"linecolor\": \"white\", \"ticks\": \"\"}, \"bgcolor\": \"#E5ECF6\", \"radialaxis\": {\"gridcolor\": \"white\", \"linecolor\": \"white\", \"ticks\": \"\"}}, \"scene\": {\"xaxis\": {\"backgroundcolor\": \"#E5ECF6\", \"gridcolor\": \"white\", \"gridwidth\": 2, \"linecolor\": \"white\", \"showbackground\": true, \"ticks\": \"\", \"zerolinecolor\": \"white\"}, \"yaxis\": {\"backgroundcolor\": \"#E5ECF6\", \"gridcolor\": \"white\", \"gridwidth\": 2, \"linecolor\": \"white\", \"showbackground\": true, \"ticks\": \"\", \"zerolinecolor\": \"white\"}, \"zaxis\": {\"backgroundcolor\": \"#E5ECF6\", \"gridcolor\": \"white\", \"gridwidth\": 2, \"linecolor\": \"white\", \"showbackground\": true, \"ticks\": \"\", \"zerolinecolor\": \"white\"}}, \"shapedefaults\": {\"line\": {\"color\": \"#2a3f5f\"}}, \"ternary\": {\"aaxis\": {\"gridcolor\": \"white\", \"linecolor\": \"white\", \"ticks\": \"\"}, \"baxis\": {\"gridcolor\": \"white\", \"linecolor\": \"white\", \"ticks\": \"\"}, \"bgcolor\": \"#E5ECF6\", \"caxis\": {\"gridcolor\": \"white\", \"linecolor\": \"white\", \"ticks\": \"\"}}, \"title\": {\"x\": 0.05}, \"xaxis\": {\"automargin\": true, \"gridcolor\": \"white\", \"linecolor\": \"white\", \"ticks\": \"\", \"title\": {\"standoff\": 15}, \"zerolinecolor\": \"white\", \"zerolinewidth\": 2}, \"yaxis\": {\"automargin\": true, \"gridcolor\": \"white\", \"linecolor\": \"white\", \"ticks\": \"\", \"title\": {\"standoff\": 15}, \"zerolinecolor\": \"white\", \"zerolinewidth\": 2}}}, \"title\": {\"text\": \"Flood frequency (2000-2002)\"}},                        {\"responsive\": true}                    ).then(function(){\n",
       "                            \n",
       "var gd = document.getElementById('81c382db-4dbb-49b2-b51d-93d018e2c0fc');\n",
       "var x = new MutationObserver(function (mutations, observer) {{\n",
       "        var display = window.getComputedStyle(gd).display;\n",
       "        if (!display || display === 'none') {{\n",
       "            console.log([gd, 'removed!']);\n",
       "            Plotly.purge(gd);\n",
       "            observer.disconnect();\n",
       "        }}\n",
       "}});\n",
       "\n",
       "// Listen for the removal of the full notebook cells\n",
       "var notebookContainer = gd.closest('#notebook-container');\n",
       "if (notebookContainer) {{\n",
       "    x.observe(notebookContainer, {childList: true});\n",
       "}}\n",
       "\n",
       "// Listen for the clearing of the current output cell\n",
       "var outputEl = gd.closest('.output');\n",
       "if (outputEl) {{\n",
       "    x.observe(outputEl, {childList: true});\n",
       "}}\n",
       "\n",
       "                        })                };                });            </script>        </div>"
      ]
     },
     "metadata": {},
     "output_type": "display_data"
    }
   ],
   "source": [
    "fig = go.Figure(data=go.Choropleth(\n",
    "    locations = freq_df_2[\"ISO\"],\n",
    "    z = freq_df_2[\"flood_freq\"],\n",
    "    text = freq_df_2[\"Country\"],\n",
    "    colorscale = \"darkmint\",\n",
    "    marker_line_color=\"darkgray\",\n",
    "    marker_line_width=0.5,\n",
    "    colorbar_title = \"Flood frequency<br>(2000-2002)<br>\",\n",
    "))\n",
    "\n",
    "fig.update_layout(\n",
    "    title_text=\"Flood frequency (2000-2002)\",\n",
    "    geo=dict(\n",
    "        showframe=False,\n",
    "        showcoastlines=False,\n",
    "    )\n",
    ")\n",
    "\n",
    "fig.show()"
   ]
  },
  {
   "cell_type": "markdown",
   "id": "3fcbf128",
   "metadata": {},
   "source": [
    "#### Visualization of wildfire frequency "
   ]
  },
  {
   "cell_type": "code",
   "execution_count": 702,
   "id": "7d9eda18",
   "metadata": {},
   "outputs": [
    {
     "data": {
      "application/vnd.plotly.v1+json": {
       "config": {
        "plotlyServerURL": "https://plot.ly"
       },
       "data": [
        {
         "colorbar": {
          "title": {
           "text": "Wildfire frequency<br>(2000-2002)<br>"
          }
         },
         "colorscale": [
          [
           0,
           "rgb(255,245,235)"
          ],
          [
           0.125,
           "rgb(254,230,206)"
          ],
          [
           0.25,
           "rgb(253,208,162)"
          ],
          [
           0.375,
           "rgb(253,174,107)"
          ],
          [
           0.5,
           "rgb(253,141,60)"
          ],
          [
           0.625,
           "rgb(241,105,19)"
          ],
          [
           0.75,
           "rgb(217,72,1)"
          ],
          [
           0.875,
           "rgb(166,54,3)"
          ],
          [
           1,
           "rgb(127,39,4)"
          ]
         ],
         "locations": [
          "CPV",
          "IND",
          "BEL",
          "BFA",
          "GMB",
          "GNB",
          "CAN",
          "CHN",
          "AIA",
          "DFR",
          "DZA",
          "AUS",
          "BGD",
          "BRA",
          "FRA",
          "GTM",
          "ECU",
          "GBR",
          "ESP",
          "IDN",
          "EGY",
          "AFG",
          "ARG",
          "COL",
          "HTI",
          "HKG",
          "FJI",
          "BOL",
          "BWA",
          "CHL",
          "DOM",
          "ETH",
          "HND",
          "GHA",
          "BEN",
          "CRI",
          "BRB",
          "HUN",
          "CMR",
          "GUY",
          "CAF",
          "GRD",
          "CHE",
          "CUB",
          "DJI",
          "GRC",
          "JAM",
          "NER",
          "USA",
          "JPN",
          "MLI",
          "MRT",
          "SEN",
          "TCD",
          "SUN",
          "ROU",
          "MEX",
          "NZL",
          "ITA",
          "TUR",
          "IRN",
          "PAK",
          "MAR",
          "NLD",
          "IRQ",
          "NPL",
          "LBN",
          "KOR",
          "NIC",
          "SOM",
          "TUN",
          "JOR",
          "PRY",
          "KEN",
          "SAU",
          "TZA",
          "MMR",
          "MYS",
          "PER",
          "LAO",
          "LKA",
          "MNG",
          "PAN",
          "THA",
          "MOZ",
          "MWI",
          "PRT",
          "SYR",
          "UGA",
          "URY",
          "LSO",
          "PHL",
          "SUR",
          "PRI",
          "TGO",
          "RWA",
          "SDN",
          "POL",
          "SWE",
          "TWN",
          "ZAF",
          "VNM",
          "YUG",
          "VEN",
          "YMN",
          "YMD",
          "VCT",
          "ZMB",
          "BLZ",
          "CIV",
          "AUT",
          "GIN",
          "AGO",
          "COM",
          "BGR",
          "COG",
          "ATG",
          "CSK",
          "GLP",
          "BHS",
          "GAB",
          "LBR",
          "PNG",
          "MDG",
          "NAM",
          "NGA",
          "ISR",
          "LUX",
          "IRL",
          "KHM",
          "KNA",
          "MDV",
          "PRK",
          "ISL",
          "COD",
          "SWZ",
          "ZWE",
          "SLV",
          "STP",
          "WSM",
          "ALB",
          "BDI",
          "CYP",
          "DEU",
          "DNK",
          "BLR",
          "LTU",
          "RUS",
          "ERI",
          "MKD",
          "KAZ",
          "TJK",
          "YEM",
          "SCG",
          "TTO",
          "TKM",
          "UKR",
          "BTN",
          "AZE",
          "ARM",
          "BRN",
          "MDA",
          "GEO",
          "LBY",
          "NOR",
          "CZE",
          "GUF",
          "HRV",
          "KWT",
          "KGZ",
          "SLE",
          "SLB",
          "SVK",
          "SYC",
          "BIH",
          "FSM",
          "MUS",
          "KIR",
          "UZB",
          "SPI",
          "TLS",
          "VUT",
          "ASM",
          "FIN",
          "SVN",
          "MHL",
          "PSE",
          "MNE",
          "SRB",
          "SSD",
          "LCA",
          "TUV",
          "OMN",
          "TON",
          "ARE",
          "PYF",
          "LVA",
          "QAT",
          "PLW"
         ],
         "marker": {
          "line": {
           "color": "darkgray",
           "width": 0.5
          }
         },
         "text": [
          "Cabo Verde",
          "India",
          "Belgium",
          "Burkina Faso",
          "Gambia (the)",
          "Guinea-Bissau",
          "Canada",
          "China",
          "Anguilla",
          "Germany Fed Rep",
          "Algeria",
          "Australia",
          "Bangladesh",
          "Brazil",
          "France",
          "Guatemala",
          "Ecuador",
          "United Kingdom of Great Britain and Northern Ireland (the)",
          "Spain",
          "Indonesia",
          "Egypt",
          "Afghanistan",
          "Argentina",
          "Colombia",
          "Haiti",
          "Hong Kong",
          "Fiji",
          "Bolivia (Plurinational State of)",
          "Botswana",
          "Chile",
          "Dominican Republic (the)",
          "Ethiopia",
          "Honduras",
          "Ghana",
          "Benin",
          "Costa Rica",
          "Barbados",
          "Hungary",
          "Cameroon",
          "Guyana",
          "Central African Republic",
          "Grenada",
          "Switzerland",
          "Cuba",
          "Djibouti",
          "Greece",
          "Jamaica",
          "Niger (the)",
          "United States of America (the)",
          "Japan",
          "Mali",
          "Mauritania",
          "Senegal",
          "Chad",
          "Soviet Union",
          "Romania",
          "Mexico",
          "New Zealand",
          "Italy",
          "Turkey",
          "Iran (Islamic Republic of)",
          "Pakistan",
          "Morocco",
          "Netherlands (the)",
          "Iraq",
          "Nepal",
          "Lebanon",
          "Korea (the Republic of)",
          "Nicaragua",
          "Somalia",
          "Tunisia",
          "Jordan",
          "Paraguay",
          "Kenya",
          "Saudi Arabia",
          "Tanzania, United Republic of",
          "Myanmar",
          "Malaysia",
          "Peru",
          "Lao People's Democratic Republic (the)",
          "Sri Lanka",
          "Mongolia",
          "Panama",
          "Thailand",
          "Mozambique",
          "Malawi",
          "Portugal",
          "Syrian Arab Republic",
          "Uganda",
          "Uruguay",
          "Lesotho",
          "Philippines (the)",
          "Suriname",
          "Puerto Rico",
          "Togo",
          "Rwanda",
          "Sudan (the)",
          "Poland",
          "Sweden",
          "Taiwan (Province of China)",
          "South Africa",
          "Viet Nam",
          "Yugoslavia",
          "Venezuela (Bolivarian Republic of)",
          "Yemen Arab Rep",
          "Yemen P Dem Rep",
          "Saint Vincent and the Grenadines",
          "Zambia",
          "Belize",
          "Côte d’Ivoire",
          "Austria",
          "Guinea",
          "Angola",
          "Comoros (the)",
          "Bulgaria",
          "Congo (the)",
          "Antigua and Barbuda",
          "Czechoslovakia",
          "Guadeloupe",
          "Bahamas (the)",
          "Gabon",
          "Liberia",
          "Papua New Guinea",
          "Madagascar",
          "Namibia",
          "Nigeria",
          "Israel",
          "Luxembourg",
          "Ireland",
          "Cambodia",
          "Saint Kitts and Nevis",
          "Maldives",
          "Korea (the Democratic People's Republic of)",
          "Iceland",
          "Congo (the Democratic Republic of the)",
          "Eswatini",
          "Zimbabwe",
          "El Salvador",
          "Sao Tome and Principe",
          "Samoa",
          "Albania",
          "Burundi",
          "Cyprus",
          "Germany",
          "Denmark",
          "Belarus",
          "Lithuania",
          "Russian Federation (the)",
          "Eritrea",
          "Macedonia (the former Yugoslav Republic of)",
          "Kazakhstan",
          "Tajikistan",
          "Yemen",
          "Serbia Montenegro",
          "Trinidad and Tobago",
          "Turkmenistan",
          "Ukraine",
          "Bhutan",
          "Azerbaijan",
          "Armenia",
          "Brunei Darussalam",
          "Moldova (the Republic of)",
          "Georgia",
          "Libya",
          "Norway",
          "Czech Republic (the)",
          "French Guiana",
          "Croatia",
          "Kuwait",
          "Kyrgyzstan",
          "Sierra Leone",
          "Solomon Islands",
          "Slovakia",
          "Seychelles",
          "Bosnia and Herzegovina",
          "Micronesia (Federated States of)",
          "Mauritius",
          "Kiribati",
          "Uzbekistan",
          "Canary Is",
          "Timor-Leste",
          "Vanuatu",
          "American Samoa",
          "Finland",
          "Slovenia",
          "Marshall Islands (the)",
          "Palestine, State of",
          "Montenegro",
          "Serbia",
          "South Sudan",
          "Saint Lucia",
          "Tuvalu",
          "Oman",
          "Tonga",
          "United Arab Emirates (the)",
          "French Polynesia",
          "Latvia",
          "Qatar",
          "Palau"
         ],
         "type": "choropleth",
         "z": [
          0,
          0,
          0,
          0,
          0,
          0,
          2,
          0,
          0,
          0,
          0,
          4,
          0,
          0,
          0,
          0,
          0,
          0,
          1,
          2,
          0,
          0,
          2,
          1,
          0,
          0,
          0,
          1,
          0,
          1,
          0,
          1,
          1,
          0,
          0,
          0,
          0,
          0,
          0,
          0,
          1,
          0,
          0,
          0,
          0,
          2,
          0,
          0,
          18,
          1,
          0,
          0,
          0,
          0,
          0,
          0,
          0,
          0,
          0,
          2,
          1,
          0,
          0,
          0,
          0,
          0,
          0,
          1,
          1,
          0,
          0,
          0,
          0,
          0,
          0,
          0,
          0,
          0,
          0,
          0,
          0,
          0,
          0,
          0,
          0,
          0,
          1,
          0,
          0,
          0,
          0,
          0,
          0,
          0,
          0,
          0,
          0,
          0,
          0,
          0,
          4,
          1,
          0,
          0,
          0,
          0,
          0,
          0,
          0,
          0,
          0,
          0,
          0,
          0,
          2,
          0,
          0,
          0,
          0,
          0,
          0,
          0,
          0,
          0,
          0,
          0,
          0,
          0,
          0,
          0,
          0,
          0,
          0,
          0,
          0,
          0,
          0,
          0,
          0,
          0,
          0,
          0,
          1,
          0,
          0,
          0,
          0,
          10,
          0,
          1,
          0,
          0,
          0,
          1,
          0,
          0,
          0,
          0,
          0,
          0,
          0,
          0,
          0,
          0,
          0,
          0,
          0,
          1,
          0,
          0,
          0,
          0,
          1,
          0,
          0,
          0,
          0,
          0,
          0,
          0,
          0,
          0,
          0,
          0,
          0,
          0,
          0,
          0,
          0,
          0,
          0,
          0,
          0,
          0,
          0,
          0,
          0,
          0,
          0
         ]
        }
       ],
       "layout": {
        "geo": {
         "showcoastlines": false,
         "showframe": false
        },
        "template": {
         "data": {
          "bar": [
           {
            "error_x": {
             "color": "#2a3f5f"
            },
            "error_y": {
             "color": "#2a3f5f"
            },
            "marker": {
             "line": {
              "color": "#E5ECF6",
              "width": 0.5
             }
            },
            "type": "bar"
           }
          ],
          "barpolar": [
           {
            "marker": {
             "line": {
              "color": "#E5ECF6",
              "width": 0.5
             }
            },
            "type": "barpolar"
           }
          ],
          "carpet": [
           {
            "aaxis": {
             "endlinecolor": "#2a3f5f",
             "gridcolor": "white",
             "linecolor": "white",
             "minorgridcolor": "white",
             "startlinecolor": "#2a3f5f"
            },
            "baxis": {
             "endlinecolor": "#2a3f5f",
             "gridcolor": "white",
             "linecolor": "white",
             "minorgridcolor": "white",
             "startlinecolor": "#2a3f5f"
            },
            "type": "carpet"
           }
          ],
          "choropleth": [
           {
            "colorbar": {
             "outlinewidth": 0,
             "ticks": ""
            },
            "type": "choropleth"
           }
          ],
          "contour": [
           {
            "colorbar": {
             "outlinewidth": 0,
             "ticks": ""
            },
            "colorscale": [
             [
              0,
              "#0d0887"
             ],
             [
              0.1111111111111111,
              "#46039f"
             ],
             [
              0.2222222222222222,
              "#7201a8"
             ],
             [
              0.3333333333333333,
              "#9c179e"
             ],
             [
              0.4444444444444444,
              "#bd3786"
             ],
             [
              0.5555555555555556,
              "#d8576b"
             ],
             [
              0.6666666666666666,
              "#ed7953"
             ],
             [
              0.7777777777777778,
              "#fb9f3a"
             ],
             [
              0.8888888888888888,
              "#fdca26"
             ],
             [
              1,
              "#f0f921"
             ]
            ],
            "type": "contour"
           }
          ],
          "contourcarpet": [
           {
            "colorbar": {
             "outlinewidth": 0,
             "ticks": ""
            },
            "type": "contourcarpet"
           }
          ],
          "heatmap": [
           {
            "colorbar": {
             "outlinewidth": 0,
             "ticks": ""
            },
            "colorscale": [
             [
              0,
              "#0d0887"
             ],
             [
              0.1111111111111111,
              "#46039f"
             ],
             [
              0.2222222222222222,
              "#7201a8"
             ],
             [
              0.3333333333333333,
              "#9c179e"
             ],
             [
              0.4444444444444444,
              "#bd3786"
             ],
             [
              0.5555555555555556,
              "#d8576b"
             ],
             [
              0.6666666666666666,
              "#ed7953"
             ],
             [
              0.7777777777777778,
              "#fb9f3a"
             ],
             [
              0.8888888888888888,
              "#fdca26"
             ],
             [
              1,
              "#f0f921"
             ]
            ],
            "type": "heatmap"
           }
          ],
          "heatmapgl": [
           {
            "colorbar": {
             "outlinewidth": 0,
             "ticks": ""
            },
            "colorscale": [
             [
              0,
              "#0d0887"
             ],
             [
              0.1111111111111111,
              "#46039f"
             ],
             [
              0.2222222222222222,
              "#7201a8"
             ],
             [
              0.3333333333333333,
              "#9c179e"
             ],
             [
              0.4444444444444444,
              "#bd3786"
             ],
             [
              0.5555555555555556,
              "#d8576b"
             ],
             [
              0.6666666666666666,
              "#ed7953"
             ],
             [
              0.7777777777777778,
              "#fb9f3a"
             ],
             [
              0.8888888888888888,
              "#fdca26"
             ],
             [
              1,
              "#f0f921"
             ]
            ],
            "type": "heatmapgl"
           }
          ],
          "histogram": [
           {
            "marker": {
             "colorbar": {
              "outlinewidth": 0,
              "ticks": ""
             }
            },
            "type": "histogram"
           }
          ],
          "histogram2d": [
           {
            "colorbar": {
             "outlinewidth": 0,
             "ticks": ""
            },
            "colorscale": [
             [
              0,
              "#0d0887"
             ],
             [
              0.1111111111111111,
              "#46039f"
             ],
             [
              0.2222222222222222,
              "#7201a8"
             ],
             [
              0.3333333333333333,
              "#9c179e"
             ],
             [
              0.4444444444444444,
              "#bd3786"
             ],
             [
              0.5555555555555556,
              "#d8576b"
             ],
             [
              0.6666666666666666,
              "#ed7953"
             ],
             [
              0.7777777777777778,
              "#fb9f3a"
             ],
             [
              0.8888888888888888,
              "#fdca26"
             ],
             [
              1,
              "#f0f921"
             ]
            ],
            "type": "histogram2d"
           }
          ],
          "histogram2dcontour": [
           {
            "colorbar": {
             "outlinewidth": 0,
             "ticks": ""
            },
            "colorscale": [
             [
              0,
              "#0d0887"
             ],
             [
              0.1111111111111111,
              "#46039f"
             ],
             [
              0.2222222222222222,
              "#7201a8"
             ],
             [
              0.3333333333333333,
              "#9c179e"
             ],
             [
              0.4444444444444444,
              "#bd3786"
             ],
             [
              0.5555555555555556,
              "#d8576b"
             ],
             [
              0.6666666666666666,
              "#ed7953"
             ],
             [
              0.7777777777777778,
              "#fb9f3a"
             ],
             [
              0.8888888888888888,
              "#fdca26"
             ],
             [
              1,
              "#f0f921"
             ]
            ],
            "type": "histogram2dcontour"
           }
          ],
          "mesh3d": [
           {
            "colorbar": {
             "outlinewidth": 0,
             "ticks": ""
            },
            "type": "mesh3d"
           }
          ],
          "parcoords": [
           {
            "line": {
             "colorbar": {
              "outlinewidth": 0,
              "ticks": ""
             }
            },
            "type": "parcoords"
           }
          ],
          "pie": [
           {
            "automargin": true,
            "type": "pie"
           }
          ],
          "scatter": [
           {
            "marker": {
             "colorbar": {
              "outlinewidth": 0,
              "ticks": ""
             }
            },
            "type": "scatter"
           }
          ],
          "scatter3d": [
           {
            "line": {
             "colorbar": {
              "outlinewidth": 0,
              "ticks": ""
             }
            },
            "marker": {
             "colorbar": {
              "outlinewidth": 0,
              "ticks": ""
             }
            },
            "type": "scatter3d"
           }
          ],
          "scattercarpet": [
           {
            "marker": {
             "colorbar": {
              "outlinewidth": 0,
              "ticks": ""
             }
            },
            "type": "scattercarpet"
           }
          ],
          "scattergeo": [
           {
            "marker": {
             "colorbar": {
              "outlinewidth": 0,
              "ticks": ""
             }
            },
            "type": "scattergeo"
           }
          ],
          "scattergl": [
           {
            "marker": {
             "colorbar": {
              "outlinewidth": 0,
              "ticks": ""
             }
            },
            "type": "scattergl"
           }
          ],
          "scattermapbox": [
           {
            "marker": {
             "colorbar": {
              "outlinewidth": 0,
              "ticks": ""
             }
            },
            "type": "scattermapbox"
           }
          ],
          "scatterpolar": [
           {
            "marker": {
             "colorbar": {
              "outlinewidth": 0,
              "ticks": ""
             }
            },
            "type": "scatterpolar"
           }
          ],
          "scatterpolargl": [
           {
            "marker": {
             "colorbar": {
              "outlinewidth": 0,
              "ticks": ""
             }
            },
            "type": "scatterpolargl"
           }
          ],
          "scatterternary": [
           {
            "marker": {
             "colorbar": {
              "outlinewidth": 0,
              "ticks": ""
             }
            },
            "type": "scatterternary"
           }
          ],
          "surface": [
           {
            "colorbar": {
             "outlinewidth": 0,
             "ticks": ""
            },
            "colorscale": [
             [
              0,
              "#0d0887"
             ],
             [
              0.1111111111111111,
              "#46039f"
             ],
             [
              0.2222222222222222,
              "#7201a8"
             ],
             [
              0.3333333333333333,
              "#9c179e"
             ],
             [
              0.4444444444444444,
              "#bd3786"
             ],
             [
              0.5555555555555556,
              "#d8576b"
             ],
             [
              0.6666666666666666,
              "#ed7953"
             ],
             [
              0.7777777777777778,
              "#fb9f3a"
             ],
             [
              0.8888888888888888,
              "#fdca26"
             ],
             [
              1,
              "#f0f921"
             ]
            ],
            "type": "surface"
           }
          ],
          "table": [
           {
            "cells": {
             "fill": {
              "color": "#EBF0F8"
             },
             "line": {
              "color": "white"
             }
            },
            "header": {
             "fill": {
              "color": "#C8D4E3"
             },
             "line": {
              "color": "white"
             }
            },
            "type": "table"
           }
          ]
         },
         "layout": {
          "annotationdefaults": {
           "arrowcolor": "#2a3f5f",
           "arrowhead": 0,
           "arrowwidth": 1
          },
          "autotypenumbers": "strict",
          "coloraxis": {
           "colorbar": {
            "outlinewidth": 0,
            "ticks": ""
           }
          },
          "colorscale": {
           "diverging": [
            [
             0,
             "#8e0152"
            ],
            [
             0.1,
             "#c51b7d"
            ],
            [
             0.2,
             "#de77ae"
            ],
            [
             0.3,
             "#f1b6da"
            ],
            [
             0.4,
             "#fde0ef"
            ],
            [
             0.5,
             "#f7f7f7"
            ],
            [
             0.6,
             "#e6f5d0"
            ],
            [
             0.7,
             "#b8e186"
            ],
            [
             0.8,
             "#7fbc41"
            ],
            [
             0.9,
             "#4d9221"
            ],
            [
             1,
             "#276419"
            ]
           ],
           "sequential": [
            [
             0,
             "#0d0887"
            ],
            [
             0.1111111111111111,
             "#46039f"
            ],
            [
             0.2222222222222222,
             "#7201a8"
            ],
            [
             0.3333333333333333,
             "#9c179e"
            ],
            [
             0.4444444444444444,
             "#bd3786"
            ],
            [
             0.5555555555555556,
             "#d8576b"
            ],
            [
             0.6666666666666666,
             "#ed7953"
            ],
            [
             0.7777777777777778,
             "#fb9f3a"
            ],
            [
             0.8888888888888888,
             "#fdca26"
            ],
            [
             1,
             "#f0f921"
            ]
           ],
           "sequentialminus": [
            [
             0,
             "#0d0887"
            ],
            [
             0.1111111111111111,
             "#46039f"
            ],
            [
             0.2222222222222222,
             "#7201a8"
            ],
            [
             0.3333333333333333,
             "#9c179e"
            ],
            [
             0.4444444444444444,
             "#bd3786"
            ],
            [
             0.5555555555555556,
             "#d8576b"
            ],
            [
             0.6666666666666666,
             "#ed7953"
            ],
            [
             0.7777777777777778,
             "#fb9f3a"
            ],
            [
             0.8888888888888888,
             "#fdca26"
            ],
            [
             1,
             "#f0f921"
            ]
           ]
          },
          "colorway": [
           "#636efa",
           "#EF553B",
           "#00cc96",
           "#ab63fa",
           "#FFA15A",
           "#19d3f3",
           "#FF6692",
           "#B6E880",
           "#FF97FF",
           "#FECB52"
          ],
          "font": {
           "color": "#2a3f5f"
          },
          "geo": {
           "bgcolor": "white",
           "lakecolor": "white",
           "landcolor": "#E5ECF6",
           "showlakes": true,
           "showland": true,
           "subunitcolor": "white"
          },
          "hoverlabel": {
           "align": "left"
          },
          "hovermode": "closest",
          "mapbox": {
           "style": "light"
          },
          "paper_bgcolor": "white",
          "plot_bgcolor": "#E5ECF6",
          "polar": {
           "angularaxis": {
            "gridcolor": "white",
            "linecolor": "white",
            "ticks": ""
           },
           "bgcolor": "#E5ECF6",
           "radialaxis": {
            "gridcolor": "white",
            "linecolor": "white",
            "ticks": ""
           }
          },
          "scene": {
           "xaxis": {
            "backgroundcolor": "#E5ECF6",
            "gridcolor": "white",
            "gridwidth": 2,
            "linecolor": "white",
            "showbackground": true,
            "ticks": "",
            "zerolinecolor": "white"
           },
           "yaxis": {
            "backgroundcolor": "#E5ECF6",
            "gridcolor": "white",
            "gridwidth": 2,
            "linecolor": "white",
            "showbackground": true,
            "ticks": "",
            "zerolinecolor": "white"
           },
           "zaxis": {
            "backgroundcolor": "#E5ECF6",
            "gridcolor": "white",
            "gridwidth": 2,
            "linecolor": "white",
            "showbackground": true,
            "ticks": "",
            "zerolinecolor": "white"
           }
          },
          "shapedefaults": {
           "line": {
            "color": "#2a3f5f"
           }
          },
          "ternary": {
           "aaxis": {
            "gridcolor": "white",
            "linecolor": "white",
            "ticks": ""
           },
           "baxis": {
            "gridcolor": "white",
            "linecolor": "white",
            "ticks": ""
           },
           "bgcolor": "#E5ECF6",
           "caxis": {
            "gridcolor": "white",
            "linecolor": "white",
            "ticks": ""
           }
          },
          "title": {
           "x": 0.05
          },
          "xaxis": {
           "automargin": true,
           "gridcolor": "white",
           "linecolor": "white",
           "ticks": "",
           "title": {
            "standoff": 15
           },
           "zerolinecolor": "white",
           "zerolinewidth": 2
          },
          "yaxis": {
           "automargin": true,
           "gridcolor": "white",
           "linecolor": "white",
           "ticks": "",
           "title": {
            "standoff": 15
           },
           "zerolinecolor": "white",
           "zerolinewidth": 2
          }
         }
        },
        "title": {
         "text": "Wildfire frequency (2000-2002)"
        }
       }
      },
      "text/html": [
       "<div>                            <div id=\"e865ed0b-1355-4146-b679-2e1aa6b09ea2\" class=\"plotly-graph-div\" style=\"height:525px; width:100%;\"></div>            <script type=\"text/javascript\">                require([\"plotly\"], function(Plotly) {                    window.PLOTLYENV=window.PLOTLYENV || {};                                    if (document.getElementById(\"e865ed0b-1355-4146-b679-2e1aa6b09ea2\")) {                    Plotly.newPlot(                        \"e865ed0b-1355-4146-b679-2e1aa6b09ea2\",                        [{\"colorbar\": {\"title\": {\"text\": \"Wildfire frequency<br>(2000-2002)<br>\"}}, \"colorscale\": [[0.0, \"rgb(255,245,235)\"], [0.125, \"rgb(254,230,206)\"], [0.25, \"rgb(253,208,162)\"], [0.375, \"rgb(253,174,107)\"], [0.5, \"rgb(253,141,60)\"], [0.625, \"rgb(241,105,19)\"], [0.75, \"rgb(217,72,1)\"], [0.875, \"rgb(166,54,3)\"], [1.0, \"rgb(127,39,4)\"]], \"locations\": [\"CPV\", \"IND\", \"BEL\", \"BFA\", \"GMB\", \"GNB\", \"CAN\", \"CHN\", \"AIA\", \"DFR\", \"DZA\", \"AUS\", \"BGD\", \"BRA\", \"FRA\", \"GTM\", \"ECU\", \"GBR\", \"ESP\", \"IDN\", \"EGY\", \"AFG\", \"ARG\", \"COL\", \"HTI\", \"HKG\", \"FJI\", \"BOL\", \"BWA\", \"CHL\", \"DOM\", \"ETH\", \"HND\", \"GHA\", \"BEN\", \"CRI\", \"BRB\", \"HUN\", \"CMR\", \"GUY\", \"CAF\", \"GRD\", \"CHE\", \"CUB\", \"DJI\", \"GRC\", \"JAM\", \"NER\", \"USA\", \"JPN\", \"MLI\", \"MRT\", \"SEN\", \"TCD\", \"SUN\", \"ROU\", \"MEX\", \"NZL\", \"ITA\", \"TUR\", \"IRN\", \"PAK\", \"MAR\", \"NLD\", \"IRQ\", \"NPL\", \"LBN\", \"KOR\", \"NIC\", \"SOM\", \"TUN\", \"JOR\", \"PRY\", \"KEN\", \"SAU\", \"TZA\", \"MMR\", \"MYS\", \"PER\", \"LAO\", \"LKA\", \"MNG\", \"PAN\", \"THA\", \"MOZ\", \"MWI\", \"PRT\", \"SYR\", \"UGA\", \"URY\", \"LSO\", \"PHL\", \"SUR\", \"PRI\", \"TGO\", \"RWA\", \"SDN\", \"POL\", \"SWE\", \"TWN\", \"ZAF\", \"VNM\", \"YUG\", \"VEN\", \"YMN\", \"YMD\", \"VCT\", \"ZMB\", \"BLZ\", \"CIV\", \"AUT\", \"GIN\", \"AGO\", \"COM\", \"BGR\", \"COG\", \"ATG\", \"CSK\", \"GLP\", \"BHS\", \"GAB\", \"LBR\", \"PNG\", \"MDG\", \"NAM\", \"NGA\", \"ISR\", \"LUX\", \"IRL\", \"KHM\", \"KNA\", \"MDV\", \"PRK\", \"ISL\", \"COD\", \"SWZ\", \"ZWE\", \"SLV\", \"STP\", \"WSM\", \"ALB\", \"BDI\", \"CYP\", \"DEU\", \"DNK\", \"BLR\", \"LTU\", \"RUS\", \"ERI\", \"MKD\", \"KAZ\", \"TJK\", \"YEM\", \"SCG\", \"TTO\", \"TKM\", \"UKR\", \"BTN\", \"AZE\", \"ARM\", \"BRN\", \"MDA\", \"GEO\", \"LBY\", \"NOR\", \"CZE\", \"GUF\", \"HRV\", \"KWT\", \"KGZ\", \"SLE\", \"SLB\", \"SVK\", \"SYC\", \"BIH\", \"FSM\", \"MUS\", \"KIR\", \"UZB\", \"SPI\", \"TLS\", \"VUT\", \"ASM\", \"FIN\", \"SVN\", \"MHL\", \"PSE\", \"MNE\", \"SRB\", \"SSD\", \"LCA\", \"TUV\", \"OMN\", \"TON\", \"ARE\", \"PYF\", \"LVA\", \"QAT\", \"PLW\"], \"marker\": {\"line\": {\"color\": \"darkgray\", \"width\": 0.5}}, \"text\": [\"Cabo Verde\", \"India\", \"Belgium\", \"Burkina Faso\", \"Gambia (the)\", \"Guinea-Bissau\", \"Canada\", \"China\", \"Anguilla\", \"Germany Fed Rep\", \"Algeria\", \"Australia\", \"Bangladesh\", \"Brazil\", \"France\", \"Guatemala\", \"Ecuador\", \"United Kingdom of Great Britain and Northern Ireland (the)\", \"Spain\", \"Indonesia\", \"Egypt\", \"Afghanistan\", \"Argentina\", \"Colombia\", \"Haiti\", \"Hong Kong\", \"Fiji\", \"Bolivia (Plurinational State of)\", \"Botswana\", \"Chile\", \"Dominican Republic (the)\", \"Ethiopia\", \"Honduras\", \"Ghana\", \"Benin\", \"Costa Rica\", \"Barbados\", \"Hungary\", \"Cameroon\", \"Guyana\", \"Central African Republic\", \"Grenada\", \"Switzerland\", \"Cuba\", \"Djibouti\", \"Greece\", \"Jamaica\", \"Niger (the)\", \"United States of America (the)\", \"Japan\", \"Mali\", \"Mauritania\", \"Senegal\", \"Chad\", \"Soviet Union\", \"Romania\", \"Mexico\", \"New Zealand\", \"Italy\", \"Turkey\", \"Iran (Islamic Republic of)\", \"Pakistan\", \"Morocco\", \"Netherlands (the)\", \"Iraq\", \"Nepal\", \"Lebanon\", \"Korea (the Republic of)\", \"Nicaragua\", \"Somalia\", \"Tunisia\", \"Jordan\", \"Paraguay\", \"Kenya\", \"Saudi Arabia\", \"Tanzania, United Republic of\", \"Myanmar\", \"Malaysia\", \"Peru\", \"Lao People's Democratic Republic (the)\", \"Sri Lanka\", \"Mongolia\", \"Panama\", \"Thailand\", \"Mozambique\", \"Malawi\", \"Portugal\", \"Syrian Arab Republic\", \"Uganda\", \"Uruguay\", \"Lesotho\", \"Philippines (the)\", \"Suriname\", \"Puerto Rico\", \"Togo\", \"Rwanda\", \"Sudan (the)\", \"Poland\", \"Sweden\", \"Taiwan (Province of China)\", \"South Africa\", \"Viet Nam\", \"Yugoslavia\", \"Venezuela (Bolivarian Republic of)\", \"Yemen Arab Rep\", \"Yemen P Dem Rep\", \"Saint Vincent and the Grenadines\", \"Zambia\", \"Belize\", \"C\\u00f4te d\\u2019Ivoire\", \"Austria\", \"Guinea\", \"Angola\", \"Comoros (the)\", \"Bulgaria\", \"Congo (the)\", \"Antigua and Barbuda\", \"Czechoslovakia\", \"Guadeloupe\", \"Bahamas (the)\", \"Gabon\", \"Liberia\", \"Papua New Guinea\", \"Madagascar\", \"Namibia\", \"Nigeria\", \"Israel\", \"Luxembourg\", \"Ireland\", \"Cambodia\", \"Saint Kitts and Nevis\", \"Maldives\", \"Korea (the Democratic People's Republic of)\", \"Iceland\", \"Congo (the Democratic Republic of the)\", \"Eswatini\", \"Zimbabwe\", \"El Salvador\", \"Sao Tome and Principe\", \"Samoa\", \"Albania\", \"Burundi\", \"Cyprus\", \"Germany\", \"Denmark\", \"Belarus\", \"Lithuania\", \"Russian Federation (the)\", \"Eritrea\", \"Macedonia (the former Yugoslav Republic of)\", \"Kazakhstan\", \"Tajikistan\", \"Yemen\", \"Serbia Montenegro\", \"Trinidad and Tobago\", \"Turkmenistan\", \"Ukraine\", \"Bhutan\", \"Azerbaijan\", \"Armenia\", \"Brunei Darussalam\", \"Moldova (the Republic of)\", \"Georgia\", \"Libya\", \"Norway\", \"Czech Republic (the)\", \"French Guiana\", \"Croatia\", \"Kuwait\", \"Kyrgyzstan\", \"Sierra Leone\", \"Solomon Islands\", \"Slovakia\", \"Seychelles\", \"Bosnia and Herzegovina\", \"Micronesia (Federated States of)\", \"Mauritius\", \"Kiribati\", \"Uzbekistan\", \"Canary Is\", \"Timor-Leste\", \"Vanuatu\", \"American Samoa\", \"Finland\", \"Slovenia\", \"Marshall Islands (the)\", \"Palestine, State of\", \"Montenegro\", \"Serbia\", \"South Sudan\", \"Saint Lucia\", \"Tuvalu\", \"Oman\", \"Tonga\", \"United Arab Emirates (the)\", \"French Polynesia\", \"Latvia\", \"Qatar\", \"Palau\"], \"type\": \"choropleth\", \"z\": [0, 0, 0, 0, 0, 0, 2, 0, 0, 0, 0, 4, 0, 0, 0, 0, 0, 0, 1, 2, 0, 0, 2, 1, 0, 0, 0, 1, 0, 1, 0, 1, 1, 0, 0, 0, 0, 0, 0, 0, 1, 0, 0, 0, 0, 2, 0, 0, 18, 1, 0, 0, 0, 0, 0, 0, 0, 0, 0, 2, 1, 0, 0, 0, 0, 0, 0, 1, 1, 0, 0, 0, 0, 0, 0, 0, 0, 0, 0, 0, 0, 0, 0, 0, 0, 0, 1, 0, 0, 0, 0, 0, 0, 0, 0, 0, 0, 0, 0, 0, 4, 1, 0, 0, 0, 0, 0, 0, 0, 0, 0, 0, 0, 0, 2, 0, 0, 0, 0, 0, 0, 0, 0, 0, 0, 0, 0, 0, 0, 0, 0, 0, 0, 0, 0, 0, 0, 0, 0, 0, 0, 0, 1, 0, 0, 0, 0, 10, 0, 1, 0, 0, 0, 1, 0, 0, 0, 0, 0, 0, 0, 0, 0, 0, 0, 0, 0, 1, 0, 0, 0, 0, 1, 0, 0, 0, 0, 0, 0, 0, 0, 0, 0, 0, 0, 0, 0, 0, 0, 0, 0, 0, 0, 0, 0, 0, 0, 0, 0]}],                        {\"geo\": {\"showcoastlines\": false, \"showframe\": false}, \"template\": {\"data\": {\"bar\": [{\"error_x\": {\"color\": \"#2a3f5f\"}, \"error_y\": {\"color\": \"#2a3f5f\"}, \"marker\": {\"line\": {\"color\": \"#E5ECF6\", \"width\": 0.5}}, \"type\": \"bar\"}], \"barpolar\": [{\"marker\": {\"line\": {\"color\": \"#E5ECF6\", \"width\": 0.5}}, \"type\": \"barpolar\"}], \"carpet\": [{\"aaxis\": {\"endlinecolor\": \"#2a3f5f\", \"gridcolor\": \"white\", \"linecolor\": \"white\", \"minorgridcolor\": \"white\", \"startlinecolor\": \"#2a3f5f\"}, \"baxis\": {\"endlinecolor\": \"#2a3f5f\", \"gridcolor\": \"white\", \"linecolor\": \"white\", \"minorgridcolor\": \"white\", \"startlinecolor\": \"#2a3f5f\"}, \"type\": \"carpet\"}], \"choropleth\": [{\"colorbar\": {\"outlinewidth\": 0, \"ticks\": \"\"}, \"type\": \"choropleth\"}], \"contour\": [{\"colorbar\": {\"outlinewidth\": 0, \"ticks\": \"\"}, \"colorscale\": [[0.0, \"#0d0887\"], [0.1111111111111111, \"#46039f\"], [0.2222222222222222, \"#7201a8\"], [0.3333333333333333, \"#9c179e\"], [0.4444444444444444, \"#bd3786\"], [0.5555555555555556, \"#d8576b\"], [0.6666666666666666, \"#ed7953\"], [0.7777777777777778, \"#fb9f3a\"], [0.8888888888888888, \"#fdca26\"], [1.0, \"#f0f921\"]], \"type\": \"contour\"}], \"contourcarpet\": [{\"colorbar\": {\"outlinewidth\": 0, \"ticks\": \"\"}, \"type\": \"contourcarpet\"}], \"heatmap\": [{\"colorbar\": {\"outlinewidth\": 0, \"ticks\": \"\"}, \"colorscale\": [[0.0, \"#0d0887\"], [0.1111111111111111, \"#46039f\"], [0.2222222222222222, \"#7201a8\"], [0.3333333333333333, \"#9c179e\"], [0.4444444444444444, \"#bd3786\"], [0.5555555555555556, \"#d8576b\"], [0.6666666666666666, \"#ed7953\"], [0.7777777777777778, \"#fb9f3a\"], [0.8888888888888888, \"#fdca26\"], [1.0, \"#f0f921\"]], \"type\": \"heatmap\"}], \"heatmapgl\": [{\"colorbar\": {\"outlinewidth\": 0, \"ticks\": \"\"}, \"colorscale\": [[0.0, \"#0d0887\"], [0.1111111111111111, \"#46039f\"], [0.2222222222222222, \"#7201a8\"], [0.3333333333333333, \"#9c179e\"], [0.4444444444444444, \"#bd3786\"], [0.5555555555555556, \"#d8576b\"], [0.6666666666666666, \"#ed7953\"], [0.7777777777777778, \"#fb9f3a\"], [0.8888888888888888, \"#fdca26\"], [1.0, \"#f0f921\"]], \"type\": \"heatmapgl\"}], \"histogram\": [{\"marker\": {\"colorbar\": {\"outlinewidth\": 0, \"ticks\": \"\"}}, \"type\": \"histogram\"}], \"histogram2d\": [{\"colorbar\": {\"outlinewidth\": 0, \"ticks\": \"\"}, \"colorscale\": [[0.0, \"#0d0887\"], [0.1111111111111111, \"#46039f\"], [0.2222222222222222, \"#7201a8\"], [0.3333333333333333, \"#9c179e\"], [0.4444444444444444, \"#bd3786\"], [0.5555555555555556, \"#d8576b\"], [0.6666666666666666, \"#ed7953\"], [0.7777777777777778, \"#fb9f3a\"], [0.8888888888888888, \"#fdca26\"], [1.0, \"#f0f921\"]], \"type\": \"histogram2d\"}], \"histogram2dcontour\": [{\"colorbar\": {\"outlinewidth\": 0, \"ticks\": \"\"}, \"colorscale\": [[0.0, \"#0d0887\"], [0.1111111111111111, \"#46039f\"], [0.2222222222222222, \"#7201a8\"], [0.3333333333333333, \"#9c179e\"], [0.4444444444444444, \"#bd3786\"], [0.5555555555555556, \"#d8576b\"], [0.6666666666666666, \"#ed7953\"], [0.7777777777777778, \"#fb9f3a\"], [0.8888888888888888, \"#fdca26\"], [1.0, \"#f0f921\"]], \"type\": \"histogram2dcontour\"}], \"mesh3d\": [{\"colorbar\": {\"outlinewidth\": 0, \"ticks\": \"\"}, \"type\": \"mesh3d\"}], \"parcoords\": [{\"line\": {\"colorbar\": {\"outlinewidth\": 0, \"ticks\": \"\"}}, \"type\": \"parcoords\"}], \"pie\": [{\"automargin\": true, \"type\": \"pie\"}], \"scatter\": [{\"marker\": {\"colorbar\": {\"outlinewidth\": 0, \"ticks\": \"\"}}, \"type\": \"scatter\"}], \"scatter3d\": [{\"line\": {\"colorbar\": {\"outlinewidth\": 0, \"ticks\": \"\"}}, \"marker\": {\"colorbar\": {\"outlinewidth\": 0, \"ticks\": \"\"}}, \"type\": \"scatter3d\"}], \"scattercarpet\": [{\"marker\": {\"colorbar\": {\"outlinewidth\": 0, \"ticks\": \"\"}}, \"type\": \"scattercarpet\"}], \"scattergeo\": [{\"marker\": {\"colorbar\": {\"outlinewidth\": 0, \"ticks\": \"\"}}, \"type\": \"scattergeo\"}], \"scattergl\": [{\"marker\": {\"colorbar\": {\"outlinewidth\": 0, \"ticks\": \"\"}}, \"type\": \"scattergl\"}], \"scattermapbox\": [{\"marker\": {\"colorbar\": {\"outlinewidth\": 0, \"ticks\": \"\"}}, \"type\": \"scattermapbox\"}], \"scatterpolar\": [{\"marker\": {\"colorbar\": {\"outlinewidth\": 0, \"ticks\": \"\"}}, \"type\": \"scatterpolar\"}], \"scatterpolargl\": [{\"marker\": {\"colorbar\": {\"outlinewidth\": 0, \"ticks\": \"\"}}, \"type\": \"scatterpolargl\"}], \"scatterternary\": [{\"marker\": {\"colorbar\": {\"outlinewidth\": 0, \"ticks\": \"\"}}, \"type\": \"scatterternary\"}], \"surface\": [{\"colorbar\": {\"outlinewidth\": 0, \"ticks\": \"\"}, \"colorscale\": [[0.0, \"#0d0887\"], [0.1111111111111111, \"#46039f\"], [0.2222222222222222, \"#7201a8\"], [0.3333333333333333, \"#9c179e\"], [0.4444444444444444, \"#bd3786\"], [0.5555555555555556, \"#d8576b\"], [0.6666666666666666, \"#ed7953\"], [0.7777777777777778, \"#fb9f3a\"], [0.8888888888888888, \"#fdca26\"], [1.0, \"#f0f921\"]], \"type\": \"surface\"}], \"table\": [{\"cells\": {\"fill\": {\"color\": \"#EBF0F8\"}, \"line\": {\"color\": \"white\"}}, \"header\": {\"fill\": {\"color\": \"#C8D4E3\"}, \"line\": {\"color\": \"white\"}}, \"type\": \"table\"}]}, \"layout\": {\"annotationdefaults\": {\"arrowcolor\": \"#2a3f5f\", \"arrowhead\": 0, \"arrowwidth\": 1}, \"autotypenumbers\": \"strict\", \"coloraxis\": {\"colorbar\": {\"outlinewidth\": 0, \"ticks\": \"\"}}, \"colorscale\": {\"diverging\": [[0, \"#8e0152\"], [0.1, \"#c51b7d\"], [0.2, \"#de77ae\"], [0.3, \"#f1b6da\"], [0.4, \"#fde0ef\"], [0.5, \"#f7f7f7\"], [0.6, \"#e6f5d0\"], [0.7, \"#b8e186\"], [0.8, \"#7fbc41\"], [0.9, \"#4d9221\"], [1, \"#276419\"]], \"sequential\": [[0.0, \"#0d0887\"], [0.1111111111111111, \"#46039f\"], [0.2222222222222222, \"#7201a8\"], [0.3333333333333333, \"#9c179e\"], [0.4444444444444444, \"#bd3786\"], [0.5555555555555556, \"#d8576b\"], [0.6666666666666666, \"#ed7953\"], [0.7777777777777778, \"#fb9f3a\"], [0.8888888888888888, \"#fdca26\"], [1.0, \"#f0f921\"]], \"sequentialminus\": [[0.0, \"#0d0887\"], [0.1111111111111111, \"#46039f\"], [0.2222222222222222, \"#7201a8\"], [0.3333333333333333, \"#9c179e\"], [0.4444444444444444, \"#bd3786\"], [0.5555555555555556, \"#d8576b\"], [0.6666666666666666, \"#ed7953\"], [0.7777777777777778, \"#fb9f3a\"], [0.8888888888888888, \"#fdca26\"], [1.0, \"#f0f921\"]]}, \"colorway\": [\"#636efa\", \"#EF553B\", \"#00cc96\", \"#ab63fa\", \"#FFA15A\", \"#19d3f3\", \"#FF6692\", \"#B6E880\", \"#FF97FF\", \"#FECB52\"], \"font\": {\"color\": \"#2a3f5f\"}, \"geo\": {\"bgcolor\": \"white\", \"lakecolor\": \"white\", \"landcolor\": \"#E5ECF6\", \"showlakes\": true, \"showland\": true, \"subunitcolor\": \"white\"}, \"hoverlabel\": {\"align\": \"left\"}, \"hovermode\": \"closest\", \"mapbox\": {\"style\": \"light\"}, \"paper_bgcolor\": \"white\", \"plot_bgcolor\": \"#E5ECF6\", \"polar\": {\"angularaxis\": {\"gridcolor\": \"white\", \"linecolor\": \"white\", \"ticks\": \"\"}, \"bgcolor\": \"#E5ECF6\", \"radialaxis\": {\"gridcolor\": \"white\", \"linecolor\": \"white\", \"ticks\": \"\"}}, \"scene\": {\"xaxis\": {\"backgroundcolor\": \"#E5ECF6\", \"gridcolor\": \"white\", \"gridwidth\": 2, \"linecolor\": \"white\", \"showbackground\": true, \"ticks\": \"\", \"zerolinecolor\": \"white\"}, \"yaxis\": {\"backgroundcolor\": \"#E5ECF6\", \"gridcolor\": \"white\", \"gridwidth\": 2, \"linecolor\": \"white\", \"showbackground\": true, \"ticks\": \"\", \"zerolinecolor\": \"white\"}, \"zaxis\": {\"backgroundcolor\": \"#E5ECF6\", \"gridcolor\": \"white\", \"gridwidth\": 2, \"linecolor\": \"white\", \"showbackground\": true, \"ticks\": \"\", \"zerolinecolor\": \"white\"}}, \"shapedefaults\": {\"line\": {\"color\": \"#2a3f5f\"}}, \"ternary\": {\"aaxis\": {\"gridcolor\": \"white\", \"linecolor\": \"white\", \"ticks\": \"\"}, \"baxis\": {\"gridcolor\": \"white\", \"linecolor\": \"white\", \"ticks\": \"\"}, \"bgcolor\": \"#E5ECF6\", \"caxis\": {\"gridcolor\": \"white\", \"linecolor\": \"white\", \"ticks\": \"\"}}, \"title\": {\"x\": 0.05}, \"xaxis\": {\"automargin\": true, \"gridcolor\": \"white\", \"linecolor\": \"white\", \"ticks\": \"\", \"title\": {\"standoff\": 15}, \"zerolinecolor\": \"white\", \"zerolinewidth\": 2}, \"yaxis\": {\"automargin\": true, \"gridcolor\": \"white\", \"linecolor\": \"white\", \"ticks\": \"\", \"title\": {\"standoff\": 15}, \"zerolinecolor\": \"white\", \"zerolinewidth\": 2}}}, \"title\": {\"text\": \"Wildfire frequency (2000-2002)\"}},                        {\"responsive\": true}                    ).then(function(){\n",
       "                            \n",
       "var gd = document.getElementById('e865ed0b-1355-4146-b679-2e1aa6b09ea2');\n",
       "var x = new MutationObserver(function (mutations, observer) {{\n",
       "        var display = window.getComputedStyle(gd).display;\n",
       "        if (!display || display === 'none') {{\n",
       "            console.log([gd, 'removed!']);\n",
       "            Plotly.purge(gd);\n",
       "            observer.disconnect();\n",
       "        }}\n",
       "}});\n",
       "\n",
       "// Listen for the removal of the full notebook cells\n",
       "var notebookContainer = gd.closest('#notebook-container');\n",
       "if (notebookContainer) {{\n",
       "    x.observe(notebookContainer, {childList: true});\n",
       "}}\n",
       "\n",
       "// Listen for the clearing of the current output cell\n",
       "var outputEl = gd.closest('.output');\n",
       "if (outputEl) {{\n",
       "    x.observe(outputEl, {childList: true});\n",
       "}}\n",
       "\n",
       "                        })                };                });            </script>        </div>"
      ]
     },
     "metadata": {},
     "output_type": "display_data"
    }
   ],
   "source": [
    "fig = go.Figure(data=go.Choropleth(\n",
    "    locations = freq_df_2[\"ISO\"],\n",
    "    z = freq_df_2[\"fire_freq\"],\n",
    "    text = freq_df_2[\"Country\"],\n",
    "    colorscale = \"oranges\",\n",
    "    marker_line_color=\"darkgray\",\n",
    "    marker_line_width=0.5,\n",
    "    colorbar_title = \"Wildfire frequency<br>(2000-2002)<br>\",\n",
    "))\n",
    "\n",
    "fig.update_layout(\n",
    "    title_text=\"Wildfire frequency (2000-2002)\",\n",
    "    geo=dict(\n",
    "        showframe=False,\n",
    "        showcoastlines=False,\n",
    "    )\n",
    ")\n",
    "\n",
    "fig.show()"
   ]
  },
  {
   "cell_type": "markdown",
   "id": "b76121ae",
   "metadata": {},
   "source": [
    "#### A general visualization - simple visualization by country & disaster type"
   ]
  },
  {
   "cell_type": "code",
   "execution_count": 703,
   "id": "2a7988fe",
   "metadata": {},
   "outputs": [
    {
     "data": {
      "application/vnd.plotly.v1+json": {
       "config": {
        "plotlyServerURL": "https://plot.ly"
       },
       "data": [
        {
         "colorscale": [
          [
           0,
           "lightblue"
          ],
          [
           1,
           "lightblue"
          ]
         ],
         "geo": "geo",
         "hovertemplate": "color=Flood<br>locations=%{location}<extra></extra>",
         "locationmode": "country names",
         "locations": [
          "Brazil",
          "Bangladesh",
          "Bosnia and Herzegovina",
          "Bolivia (Plurinational State of)",
          "Bolivia (Plurinational State of)",
          "Brazil",
          "Brazil",
          "Brazil",
          "Brazil",
          "Côte d’Ivoire",
          "Colombia",
          "Colombia",
          "Australia",
          "China",
          "Congo (the)",
          "Afghanistan",
          "Afghanistan",
          "Afghanistan",
          "Afghanistan",
          "Afghanistan",
          "Angola",
          "Angola",
          "Argentina",
          "Burundi",
          "Burundi",
          "Benin",
          "Burkina Faso",
          "Burkina Faso",
          "Burkina Faso",
          "Canada",
          "China",
          "China",
          "China",
          "China",
          "Cameroon",
          "Congo (the)",
          "Colombia",
          "Djibouti",
          "Austria",
          "Bangladesh",
          "Bosnia and Herzegovina",
          "Brazil",
          "Brazil",
          "Brazil",
          "Bhutan",
          "Canada",
          "Chile",
          "China",
          "Colombia",
          "Colombia",
          "Colombia",
          "Colombia",
          "Colombia",
          "Germany",
          "Benin",
          "Bolivia (Plurinational State of)",
          "Czech Republic (the)",
          "Brazil",
          "Algeria",
          "Afghanistan",
          "Afghanistan",
          "Angola",
          "Angola",
          "Albania",
          "Argentina",
          "Australia",
          "Australia",
          "Australia",
          "Australia",
          "Burundi",
          "Belgium",
          "Bulgaria",
          "Bolivia (Plurinational State of)",
          "Bolivia (Plurinational State of)",
          "Bolivia (Plurinational State of)",
          "Bolivia (Plurinational State of)",
          "Bolivia (Plurinational State of)",
          "Bolivia (Plurinational State of)",
          "Brazil",
          "Brazil",
          "Brazil",
          "Brazil",
          "Central African Republic",
          "Switzerland",
          "China",
          "China",
          "China",
          "Congo (the)",
          "Colombia",
          "Colombia",
          "Colombia",
          "Colombia",
          "Colombia",
          "Costa Rica",
          "Algeria",
          "Ecuador",
          "Brazil",
          "Brazil",
          "Brazil",
          "Colombia",
          "Australia",
          "Australia",
          "Bolivia (Plurinational State of)",
          "Dominican Republic (the)",
          "Guatemala",
          "Kazakhstan",
          "Italy",
          "Pakistan",
          "Guatemala",
          "Indonesia",
          "Indonesia",
          "Indonesia",
          "Indonesia",
          "Indonesia",
          "Indonesia",
          "Indonesia",
          "Indonesia",
          "India",
          "India",
          "Italy",
          "Japan",
          "Kenya",
          "Korea (the Republic of)",
          "Madagascar",
          "Mexico",
          "Mexico",
          "Malaysia",
          "Nepal",
          "Pakistan",
          "Peru",
          "Peru",
          "Peru",
          "Indonesia",
          "Nigeria",
          "Myanmar",
          "Honduras",
          "Israel",
          "Iran (Islamic Republic of)",
          "Egypt",
          "Ecuador",
          "Ethiopia",
          "Ethiopia",
          "France",
          "France",
          "France",
          "United Kingdom of Great Britain and Northern Ireland (the)",
          "Georgia",
          "Ghana",
          "Ghana",
          "Guinea",
          "Greece",
          "Greece",
          "French Guiana",
          "Indonesia",
          "Indonesia",
          "Indonesia",
          "Indonesia",
          "Indonesia",
          "Indonesia",
          "Indonesia",
          "Indonesia",
          "Indonesia",
          "Indonesia",
          "Indonesia",
          "Indonesia",
          "Indonesia",
          "Indonesia",
          "Indonesia",
          "Indonesia",
          "India",
          "India",
          "India",
          "Iran (Islamic Republic of)",
          "Iran (Islamic Republic of)",
          "Iran (Islamic Republic of)",
          "Iran (Islamic Republic of)",
          "Iran (Islamic Republic of)",
          "Iraq",
          "Italy",
          "Korea (the Republic of)",
          "Sri Lanka",
          "Sri Lanka",
          "Mongolia",
          "Mongolia",
          "Mongolia",
          "Mozambique",
          "Mozambique",
          "Mauritania",
          "Mauritania",
          "Malawi",
          "Malaysia",
          "Malaysia",
          "Malaysia",
          "Malaysia",
          "Namibia",
          "Niger (the)",
          "Niger (the)",
          "Nigeria",
          "Nigeria",
          "New Zealand",
          "New Zealand",
          "Oman",
          "Pakistan",
          "Pakistan",
          "Panama",
          "Nepal",
          "Pakistan",
          "Italy",
          "Spain",
          "Egypt",
          "Iraq",
          "Sri Lanka",
          "Ecuador",
          "France",
          "France",
          "Georgia",
          "Guatemala",
          "Guatemala",
          "Indonesia",
          "Indonesia",
          "Indonesia",
          "Indonesia",
          "Indonesia",
          "Indonesia",
          "Indonesia",
          "India",
          "India",
          "Japan",
          "Japan",
          "Cambodia",
          "Sri Lanka",
          "Sri Lanka",
          "Luxembourg",
          "Madagascar",
          "Malaysia",
          "Malaysia",
          "Malaysia",
          "Nepal",
          "Nepal",
          "Nepal",
          "New Zealand",
          "Panama",
          "Panama",
          "Peru",
          "Peru",
          "Peru",
          "Peru",
          "Peru",
          "India",
          "India",
          "Nigeria",
          "Pakistan",
          "Spain",
          "France",
          "France",
          "Sri Lanka",
          "Malaysia",
          "Ethiopia",
          "France",
          "France",
          "Ghana",
          "Ghana",
          "Guinea",
          "Guatemala",
          "Guyana",
          "Haiti",
          "Indonesia",
          "Indonesia",
          "Indonesia",
          "Indonesia",
          "Indonesia",
          "Indonesia",
          "Indonesia",
          "Indonesia",
          "Indonesia",
          "Indonesia",
          "Indonesia",
          "India",
          "India",
          "India",
          "India",
          "India",
          "Iran (Islamic Republic of)",
          "Iraq",
          "Kenya",
          "Cambodia",
          "Cambodia",
          "Morocco",
          "Morocco",
          "Mexico",
          "Mexico",
          "Mexico",
          "Myanmar",
          "Mongolia",
          "Mozambique",
          "Malaysia",
          "Malaysia",
          "Malaysia",
          "Malaysia",
          "Namibia",
          "Niger (the)",
          "Nigeria",
          "Netherlands (the)",
          "New Zealand",
          "New Zealand",
          "Pakistan",
          "Pakistan",
          "Peru",
          "Peru",
          "Peru",
          "Madagascar",
          "Ecuador",
          "Indonesia",
          "Indonesia",
          "Peru",
          "Ecuador",
          "Honduras",
          "Haiti",
          "Haiti",
          "Indonesia",
          "Indonesia",
          "Iran (Islamic Republic of)",
          "Iran (Islamic Republic of)",
          "Malaysia",
          "Malaysia",
          "Uzbekistan",
          "Papua New Guinea",
          "Rwanda",
          "Rwanda",
          "Rwanda",
          "Thailand",
          "Thailand",
          "Tanzania, United Republic of",
          "Uganda",
          "Uganda",
          "Uganda",
          "Viet Nam",
          "Congo (the Democratic Republic of the)",
          "Serbia",
          "Cabo Verde",
          "United States of America (the)",
          "Zambia",
          "Sudan (the)",
          "Uruguay",
          "Yemen",
          "Rwanda",
          "Papua New Guinea",
          "Papua New Guinea",
          "Poland",
          "Korea (the Democratic People's Republic of)",
          "Romania",
          "Rwanda",
          "Saudi Arabia",
          "Senegal",
          "Somalia",
          "Somalia",
          "Slovakia",
          "Chad",
          "Chad",
          "Togo",
          "Thailand",
          "Tajikistan",
          "Tunisia",
          "Turkey",
          "Turkey",
          "Turkey",
          "Tanzania, United Republic of",
          "Tanzania, United Republic of",
          "Tanzania, United Republic of",
          "Uganda",
          "Uganda",
          "Ukraine",
          "United States of America (the)",
          "Venezuela (Bolivarian Republic of)",
          "Yemen",
          "Yemen",
          "Yemen",
          "Yemen",
          "South Africa",
          "Congo (the Democratic Republic of the)",
          "Congo (the Democratic Republic of the)",
          "Congo (the Democratic Republic of the)",
          "Congo (the Democratic Republic of the)",
          "Congo (the Democratic Republic of the)",
          "Zambia",
          "Zambia",
          "Timor-Leste",
          "South Sudan",
          "Rwanda",
          "Uganda",
          "Sao Tome and Principe",
          "Philippines (the)",
          "Philippines (the)",
          "Paraguay",
          "El Salvador",
          "Thailand",
          "Thailand",
          "Tajikistan",
          "Turkey",
          "Uganda",
          "United States of America (the)",
          "United States of America (the)",
          "Venezuela (Bolivarian Republic of)",
          "Viet Nam",
          "Viet Nam",
          "Slovakia",
          "Poland",
          "Russian Federation (the)",
          "United States of America (the)",
          "United States of America (the)",
          "Philippines (the)",
          "Tunisia",
          "United States of America (the)",
          "Philippines (the)",
          "Philippines (the)",
          "Korea (the Democratic People's Republic of)",
          "Paraguay",
          "Romania",
          "Russian Federation (the)",
          "Russian Federation (the)",
          "Sudan (the)",
          "Somalia",
          "Suriname",
          "Slovenia",
          "Sweden",
          "Syrian Arab Republic",
          "Chad",
          "Thailand",
          "Thailand",
          "Thailand",
          "Turkey",
          "Tanzania, United Republic of",
          "Uganda",
          "United States of America (the)",
          "United States of America (the)",
          "United States of America (the)",
          "United States of America (the)",
          "United States of America (the)",
          "United States of America (the)",
          "United States of America (the)",
          "Venezuela (Bolivarian Republic of)",
          "Viet Nam",
          "Yemen",
          "Yemen",
          "South Africa",
          "Serbia",
          "South Sudan",
          "Indonesia",
          "Georgia",
          "Sri Lanka",
          "India",
          "Rwanda",
          "Uganda",
          "Afghanistan",
          "Afghanistan",
          "Brazil",
          "Brazil",
          "Brazil",
          "China",
          "China",
          "China",
          "Côte d’Ivoire",
          "Colombia",
          "Colombia",
          "Colombia",
          "Colombia",
          "Colombia",
          "Colombia",
          "Ecuador",
          "Ecuador",
          "Guatemala",
          "Indonesia",
          "Indonesia",
          "Indonesia",
          "India",
          "Iran (Islamic Republic of)",
          "Lao People's Democratic Republic (the)",
          "Colombia",
          "Central African Republic",
          "Gambia (the)",
          "Thailand",
          "Uruguay",
          "South Africa",
          "South Africa",
          "South Africa",
          "South Africa",
          "Zambia",
          "Zimbabwe",
          "Afghanistan",
          "Afghanistan",
          "Australia",
          "Australia",
          "Australia",
          "Benin",
          "Bangladesh",
          "Bulgaria",
          "Brazil",
          "Brazil",
          "Canada",
          "Canada",
          "China",
          "Cuba",
          "Ecuador",
          "Ghana",
          "Guinea",
          "Guyana",
          "Honduras",
          "India",
          "Japan",
          "Cambodia",
          "Korea (the Republic of)",
          "Sri Lanka",
          "Mexico",
          "Mexico",
          "Mali",
          "Mongolia",
          "Mauritania",
          "Malaysia",
          "Pakistan",
          "Philippines (the)",
          "Niger (the)",
          "Nepal",
          "Nepal",
          "Rwanda",
          "Sierra Leone",
          "Turkey",
          "United States of America (the)",
          "Uzbekistan",
          "Viet Nam",
          "Viet Nam",
          "Viet Nam",
          "South Africa",
          "Congo (the Democratic Republic of the)",
          "Somalia",
          "Nigeria",
          "Russian Federation (the)",
          "Sudan (the)",
          "Senegal",
          "Suriname",
          "Chad",
          "Thailand",
          "Thailand",
          "Thailand",
          "Thailand",
          "Thailand",
          "Thailand",
          "Tunisia",
          "Turkey",
          "Turkey",
          "Tanzania, United Republic of",
          "Uganda",
          "United States of America (the)",
          "United States of America (the)",
          "Venezuela (Bolivarian Republic of)",
          "Venezuela (Bolivarian Republic of)",
          "Venezuela (Bolivarian Republic of)",
          "Venezuela (Bolivarian Republic of)",
          "Viet Nam",
          "Yemen",
          "Yemen",
          "Yemen",
          "South Africa",
          "South Africa",
          "South Sudan"
         ],
         "name": "Flood",
         "showlegend": true,
         "showscale": false,
         "type": "choropleth",
         "z": [
          1,
          1,
          1,
          1,
          1,
          1,
          1,
          1,
          1,
          1,
          1,
          1,
          1,
          1,
          1,
          1,
          1,
          1,
          1,
          1,
          1,
          1,
          1,
          1,
          1,
          1,
          1,
          1,
          1,
          1,
          1,
          1,
          1,
          1,
          1,
          1,
          1,
          1,
          1,
          1,
          1,
          1,
          1,
          1,
          1,
          1,
          1,
          1,
          1,
          1,
          1,
          1,
          1,
          1,
          1,
          1,
          1,
          1,
          1,
          1,
          1,
          1,
          1,
          1,
          1,
          1,
          1,
          1,
          1,
          1,
          1,
          1,
          1,
          1,
          1,
          1,
          1,
          1,
          1,
          1,
          1,
          1,
          1,
          1,
          1,
          1,
          1,
          1,
          1,
          1,
          1,
          1,
          1,
          1,
          1,
          1,
          1,
          1,
          1,
          1,
          1,
          1,
          1,
          1,
          1,
          1,
          1,
          1,
          1,
          1,
          1,
          1,
          1,
          1,
          1,
          1,
          1,
          1,
          1,
          1,
          1,
          1,
          1,
          1,
          1,
          1,
          1,
          1,
          1,
          1,
          1,
          1,
          1,
          1,
          1,
          1,
          1,
          1,
          1,
          1,
          1,
          1,
          1,
          1,
          1,
          1,
          1,
          1,
          1,
          1,
          1,
          1,
          1,
          1,
          1,
          1,
          1,
          1,
          1,
          1,
          1,
          1,
          1,
          1,
          1,
          1,
          1,
          1,
          1,
          1,
          1,
          1,
          1,
          1,
          1,
          1,
          1,
          1,
          1,
          1,
          1,
          1,
          1,
          1,
          1,
          1,
          1,
          1,
          1,
          1,
          1,
          1,
          1,
          1,
          1,
          1,
          1,
          1,
          1,
          1,
          1,
          1,
          1,
          1,
          1,
          1,
          1,
          1,
          1,
          1,
          1,
          1,
          1,
          1,
          1,
          1,
          1,
          1,
          1,
          1,
          1,
          1,
          1,
          1,
          1,
          1,
          1,
          1,
          1,
          1,
          1,
          1,
          1,
          1,
          1,
          1,
          1,
          1,
          1,
          1,
          1,
          1,
          1,
          1,
          1,
          1,
          1,
          1,
          1,
          1,
          1,
          1,
          1,
          1,
          1,
          1,
          1,
          1,
          1,
          1,
          1,
          1,
          1,
          1,
          1,
          1,
          1,
          1,
          1,
          1,
          1,
          1,
          1,
          1,
          1,
          1,
          1,
          1,
          1,
          1,
          1,
          1,
          1,
          1,
          1,
          1,
          1,
          1,
          1,
          1,
          1,
          1,
          1,
          1,
          1,
          1,
          1,
          1,
          1,
          1,
          1,
          1,
          1,
          1,
          1,
          1,
          1,
          1,
          1,
          1,
          1,
          1,
          1,
          1,
          1,
          1,
          1,
          1,
          1,
          1,
          1,
          1,
          1,
          1,
          1,
          1,
          1,
          1,
          1,
          1,
          1,
          1,
          1,
          1,
          1,
          1,
          1,
          1,
          1,
          1,
          1,
          1,
          1,
          1,
          1,
          1,
          1,
          1,
          1,
          1,
          1,
          1,
          1,
          1,
          1,
          1,
          1,
          1,
          1,
          1,
          1,
          1,
          1,
          1,
          1,
          1,
          1,
          1,
          1,
          1,
          1,
          1,
          1,
          1,
          1,
          1,
          1,
          1,
          1,
          1,
          1,
          1,
          1,
          1,
          1,
          1,
          1,
          1,
          1,
          1,
          1,
          1,
          1,
          1,
          1,
          1,
          1,
          1,
          1,
          1,
          1,
          1,
          1,
          1,
          1,
          1,
          1,
          1,
          1,
          1,
          1,
          1,
          1,
          1,
          1,
          1,
          1,
          1,
          1,
          1,
          1,
          1,
          1,
          1,
          1,
          1,
          1,
          1,
          1,
          1,
          1,
          1,
          1,
          1,
          1,
          1,
          1,
          1,
          1,
          1,
          1,
          1,
          1,
          1,
          1,
          1,
          1,
          1,
          1,
          1,
          1,
          1,
          1,
          1,
          1,
          1,
          1,
          1,
          1,
          1,
          1,
          1,
          1,
          1,
          1,
          1,
          1,
          1,
          1,
          1,
          1,
          1,
          1,
          1,
          1,
          1,
          1,
          1,
          1,
          1,
          1,
          1,
          1,
          1,
          1,
          1,
          1,
          1,
          1,
          1,
          1,
          1,
          1,
          1,
          1,
          1,
          1,
          1,
          1,
          1,
          1,
          1,
          1,
          1,
          1,
          1,
          1,
          1,
          1,
          1,
          1,
          1,
          1,
          1,
          1,
          1,
          1,
          1,
          1,
          1,
          1,
          1,
          1,
          1,
          1,
          1,
          1,
          1,
          1,
          1,
          1,
          1,
          1,
          1,
          1,
          1,
          1,
          1,
          1,
          1,
          1,
          1,
          1,
          1,
          1,
          1,
          1,
          1,
          1,
          1,
          1,
          1,
          1,
          1,
          1,
          1,
          1,
          1,
          1,
          1,
          1,
          1,
          1,
          1
         ]
        },
        {
         "colorscale": [
          [
           0,
           "orange"
          ],
          [
           1,
           "orange"
          ]
         ],
         "geo": "geo",
         "hovertemplate": "color=Drought<br>locations=%{location}<extra></extra>",
         "locationmode": "country names",
         "locations": [
          "Angola",
          "Burkina Faso",
          "Brazil",
          "Afghanistan",
          "Brazil",
          "China",
          "Madagascar",
          "Lesotho",
          "Mali",
          "Mozambique",
          "Mauritania",
          "Niger (the)",
          "Iraq",
          "Kazakhstan",
          "Ethiopia",
          "Kenya",
          "Iran (Islamic Republic of)",
          "Mozambique",
          "Marshall Islands (the)",
          "United States of America (the)",
          "Syrian Arab Republic",
          "South Africa",
          "Zambia",
          "Zimbabwe",
          "South Sudan",
          "Somalia",
          "Tuvalu",
          "United States of America (the)",
          "China",
          "Cabo Verde",
          "Djibouti",
          "Ethiopia",
          "France",
          "United Kingdom of Great Britain and Northern Ireland (the)",
          "Italy",
          "Tanzania, United Republic of",
          "Portugal",
          "Niger (the)",
          "Chad",
          "Uganda",
          "United States of America (the)"
         ],
         "name": "Drought",
         "showlegend": true,
         "showscale": false,
         "type": "choropleth",
         "z": [
          1,
          1,
          1,
          1,
          1,
          1,
          1,
          1,
          1,
          1,
          1,
          1,
          1,
          1,
          1,
          1,
          1,
          1,
          1,
          1,
          1,
          1,
          1,
          1,
          1,
          1,
          1,
          1,
          1,
          1,
          1,
          1,
          1,
          1,
          1,
          1,
          1,
          1,
          1,
          1,
          1
         ]
        },
        {
         "colorscale": [
          [
           0,
           "red"
          ],
          [
           1,
           "red"
          ]
         ],
         "geo": "geo",
         "hovertemplate": "color=Wildfire<br>locations=%{location}<extra></extra>",
         "locationmode": "country names",
         "locations": [
          "Bolivia (Plurinational State of)",
          "China",
          "Bulgaria",
          "Canada",
          "Cyprus",
          "Algeria",
          "Argentina",
          "Australia",
          "Argentina",
          "Israel",
          "Lebanon",
          "New Zealand",
          "Greece",
          "Macedonia (the former Yugoslav Republic of)",
          "Honduras",
          "Italy",
          "Korea (the Republic of)",
          "Syrian Arab Republic",
          "Ukraine",
          "Ukraine",
          "United States of America (the)",
          "Turkey",
          "Russian Federation (the)",
          "Tunisia",
          "United States of America (the)",
          "United States of America (the)",
          "United States of America (the)",
          "United States of America (the)",
          "United States of America (the)",
          "United States of America (the)",
          "United States of America (the)",
          "Central African Republic",
          "Algeria",
          "Spain",
          "Greece",
          "Portugal",
          "United States of America (the)",
          "Pakistan",
          "Russian Federation (the)",
          "United States of America (the)",
          "United States of America (the)",
          "United States of America (the)"
         ],
         "name": "Wildfire",
         "showlegend": true,
         "showscale": false,
         "type": "choropleth",
         "z": [
          1,
          1,
          1,
          1,
          1,
          1,
          1,
          1,
          1,
          1,
          1,
          1,
          1,
          1,
          1,
          1,
          1,
          1,
          1,
          1,
          1,
          1,
          1,
          1,
          1,
          1,
          1,
          1,
          1,
          1,
          1,
          1,
          1,
          1,
          1,
          1,
          1,
          1,
          1,
          1,
          1,
          1
         ]
        }
       ],
       "layout": {
        "geo": {
         "center": {},
         "domain": {
          "x": [
           0,
           1
          ],
          "y": [
           0,
           1
          ]
         }
        },
        "legend": {
         "title": {
          "text": "color"
         },
         "tracegroupgap": 0
        },
        "margin": {
         "t": 60
        },
        "template": {
         "data": {
          "bar": [
           {
            "error_x": {
             "color": "#2a3f5f"
            },
            "error_y": {
             "color": "#2a3f5f"
            },
            "marker": {
             "line": {
              "color": "#E5ECF6",
              "width": 0.5
             }
            },
            "type": "bar"
           }
          ],
          "barpolar": [
           {
            "marker": {
             "line": {
              "color": "#E5ECF6",
              "width": 0.5
             }
            },
            "type": "barpolar"
           }
          ],
          "carpet": [
           {
            "aaxis": {
             "endlinecolor": "#2a3f5f",
             "gridcolor": "white",
             "linecolor": "white",
             "minorgridcolor": "white",
             "startlinecolor": "#2a3f5f"
            },
            "baxis": {
             "endlinecolor": "#2a3f5f",
             "gridcolor": "white",
             "linecolor": "white",
             "minorgridcolor": "white",
             "startlinecolor": "#2a3f5f"
            },
            "type": "carpet"
           }
          ],
          "choropleth": [
           {
            "colorbar": {
             "outlinewidth": 0,
             "ticks": ""
            },
            "type": "choropleth"
           }
          ],
          "contour": [
           {
            "colorbar": {
             "outlinewidth": 0,
             "ticks": ""
            },
            "colorscale": [
             [
              0,
              "#0d0887"
             ],
             [
              0.1111111111111111,
              "#46039f"
             ],
             [
              0.2222222222222222,
              "#7201a8"
             ],
             [
              0.3333333333333333,
              "#9c179e"
             ],
             [
              0.4444444444444444,
              "#bd3786"
             ],
             [
              0.5555555555555556,
              "#d8576b"
             ],
             [
              0.6666666666666666,
              "#ed7953"
             ],
             [
              0.7777777777777778,
              "#fb9f3a"
             ],
             [
              0.8888888888888888,
              "#fdca26"
             ],
             [
              1,
              "#f0f921"
             ]
            ],
            "type": "contour"
           }
          ],
          "contourcarpet": [
           {
            "colorbar": {
             "outlinewidth": 0,
             "ticks": ""
            },
            "type": "contourcarpet"
           }
          ],
          "heatmap": [
           {
            "colorbar": {
             "outlinewidth": 0,
             "ticks": ""
            },
            "colorscale": [
             [
              0,
              "#0d0887"
             ],
             [
              0.1111111111111111,
              "#46039f"
             ],
             [
              0.2222222222222222,
              "#7201a8"
             ],
             [
              0.3333333333333333,
              "#9c179e"
             ],
             [
              0.4444444444444444,
              "#bd3786"
             ],
             [
              0.5555555555555556,
              "#d8576b"
             ],
             [
              0.6666666666666666,
              "#ed7953"
             ],
             [
              0.7777777777777778,
              "#fb9f3a"
             ],
             [
              0.8888888888888888,
              "#fdca26"
             ],
             [
              1,
              "#f0f921"
             ]
            ],
            "type": "heatmap"
           }
          ],
          "heatmapgl": [
           {
            "colorbar": {
             "outlinewidth": 0,
             "ticks": ""
            },
            "colorscale": [
             [
              0,
              "#0d0887"
             ],
             [
              0.1111111111111111,
              "#46039f"
             ],
             [
              0.2222222222222222,
              "#7201a8"
             ],
             [
              0.3333333333333333,
              "#9c179e"
             ],
             [
              0.4444444444444444,
              "#bd3786"
             ],
             [
              0.5555555555555556,
              "#d8576b"
             ],
             [
              0.6666666666666666,
              "#ed7953"
             ],
             [
              0.7777777777777778,
              "#fb9f3a"
             ],
             [
              0.8888888888888888,
              "#fdca26"
             ],
             [
              1,
              "#f0f921"
             ]
            ],
            "type": "heatmapgl"
           }
          ],
          "histogram": [
           {
            "marker": {
             "colorbar": {
              "outlinewidth": 0,
              "ticks": ""
             }
            },
            "type": "histogram"
           }
          ],
          "histogram2d": [
           {
            "colorbar": {
             "outlinewidth": 0,
             "ticks": ""
            },
            "colorscale": [
             [
              0,
              "#0d0887"
             ],
             [
              0.1111111111111111,
              "#46039f"
             ],
             [
              0.2222222222222222,
              "#7201a8"
             ],
             [
              0.3333333333333333,
              "#9c179e"
             ],
             [
              0.4444444444444444,
              "#bd3786"
             ],
             [
              0.5555555555555556,
              "#d8576b"
             ],
             [
              0.6666666666666666,
              "#ed7953"
             ],
             [
              0.7777777777777778,
              "#fb9f3a"
             ],
             [
              0.8888888888888888,
              "#fdca26"
             ],
             [
              1,
              "#f0f921"
             ]
            ],
            "type": "histogram2d"
           }
          ],
          "histogram2dcontour": [
           {
            "colorbar": {
             "outlinewidth": 0,
             "ticks": ""
            },
            "colorscale": [
             [
              0,
              "#0d0887"
             ],
             [
              0.1111111111111111,
              "#46039f"
             ],
             [
              0.2222222222222222,
              "#7201a8"
             ],
             [
              0.3333333333333333,
              "#9c179e"
             ],
             [
              0.4444444444444444,
              "#bd3786"
             ],
             [
              0.5555555555555556,
              "#d8576b"
             ],
             [
              0.6666666666666666,
              "#ed7953"
             ],
             [
              0.7777777777777778,
              "#fb9f3a"
             ],
             [
              0.8888888888888888,
              "#fdca26"
             ],
             [
              1,
              "#f0f921"
             ]
            ],
            "type": "histogram2dcontour"
           }
          ],
          "mesh3d": [
           {
            "colorbar": {
             "outlinewidth": 0,
             "ticks": ""
            },
            "type": "mesh3d"
           }
          ],
          "parcoords": [
           {
            "line": {
             "colorbar": {
              "outlinewidth": 0,
              "ticks": ""
             }
            },
            "type": "parcoords"
           }
          ],
          "pie": [
           {
            "automargin": true,
            "type": "pie"
           }
          ],
          "scatter": [
           {
            "marker": {
             "colorbar": {
              "outlinewidth": 0,
              "ticks": ""
             }
            },
            "type": "scatter"
           }
          ],
          "scatter3d": [
           {
            "line": {
             "colorbar": {
              "outlinewidth": 0,
              "ticks": ""
             }
            },
            "marker": {
             "colorbar": {
              "outlinewidth": 0,
              "ticks": ""
             }
            },
            "type": "scatter3d"
           }
          ],
          "scattercarpet": [
           {
            "marker": {
             "colorbar": {
              "outlinewidth": 0,
              "ticks": ""
             }
            },
            "type": "scattercarpet"
           }
          ],
          "scattergeo": [
           {
            "marker": {
             "colorbar": {
              "outlinewidth": 0,
              "ticks": ""
             }
            },
            "type": "scattergeo"
           }
          ],
          "scattergl": [
           {
            "marker": {
             "colorbar": {
              "outlinewidth": 0,
              "ticks": ""
             }
            },
            "type": "scattergl"
           }
          ],
          "scattermapbox": [
           {
            "marker": {
             "colorbar": {
              "outlinewidth": 0,
              "ticks": ""
             }
            },
            "type": "scattermapbox"
           }
          ],
          "scatterpolar": [
           {
            "marker": {
             "colorbar": {
              "outlinewidth": 0,
              "ticks": ""
             }
            },
            "type": "scatterpolar"
           }
          ],
          "scatterpolargl": [
           {
            "marker": {
             "colorbar": {
              "outlinewidth": 0,
              "ticks": ""
             }
            },
            "type": "scatterpolargl"
           }
          ],
          "scatterternary": [
           {
            "marker": {
             "colorbar": {
              "outlinewidth": 0,
              "ticks": ""
             }
            },
            "type": "scatterternary"
           }
          ],
          "surface": [
           {
            "colorbar": {
             "outlinewidth": 0,
             "ticks": ""
            },
            "colorscale": [
             [
              0,
              "#0d0887"
             ],
             [
              0.1111111111111111,
              "#46039f"
             ],
             [
              0.2222222222222222,
              "#7201a8"
             ],
             [
              0.3333333333333333,
              "#9c179e"
             ],
             [
              0.4444444444444444,
              "#bd3786"
             ],
             [
              0.5555555555555556,
              "#d8576b"
             ],
             [
              0.6666666666666666,
              "#ed7953"
             ],
             [
              0.7777777777777778,
              "#fb9f3a"
             ],
             [
              0.8888888888888888,
              "#fdca26"
             ],
             [
              1,
              "#f0f921"
             ]
            ],
            "type": "surface"
           }
          ],
          "table": [
           {
            "cells": {
             "fill": {
              "color": "#EBF0F8"
             },
             "line": {
              "color": "white"
             }
            },
            "header": {
             "fill": {
              "color": "#C8D4E3"
             },
             "line": {
              "color": "white"
             }
            },
            "type": "table"
           }
          ]
         },
         "layout": {
          "annotationdefaults": {
           "arrowcolor": "#2a3f5f",
           "arrowhead": 0,
           "arrowwidth": 1
          },
          "autotypenumbers": "strict",
          "coloraxis": {
           "colorbar": {
            "outlinewidth": 0,
            "ticks": ""
           }
          },
          "colorscale": {
           "diverging": [
            [
             0,
             "#8e0152"
            ],
            [
             0.1,
             "#c51b7d"
            ],
            [
             0.2,
             "#de77ae"
            ],
            [
             0.3,
             "#f1b6da"
            ],
            [
             0.4,
             "#fde0ef"
            ],
            [
             0.5,
             "#f7f7f7"
            ],
            [
             0.6,
             "#e6f5d0"
            ],
            [
             0.7,
             "#b8e186"
            ],
            [
             0.8,
             "#7fbc41"
            ],
            [
             0.9,
             "#4d9221"
            ],
            [
             1,
             "#276419"
            ]
           ],
           "sequential": [
            [
             0,
             "#0d0887"
            ],
            [
             0.1111111111111111,
             "#46039f"
            ],
            [
             0.2222222222222222,
             "#7201a8"
            ],
            [
             0.3333333333333333,
             "#9c179e"
            ],
            [
             0.4444444444444444,
             "#bd3786"
            ],
            [
             0.5555555555555556,
             "#d8576b"
            ],
            [
             0.6666666666666666,
             "#ed7953"
            ],
            [
             0.7777777777777778,
             "#fb9f3a"
            ],
            [
             0.8888888888888888,
             "#fdca26"
            ],
            [
             1,
             "#f0f921"
            ]
           ],
           "sequentialminus": [
            [
             0,
             "#0d0887"
            ],
            [
             0.1111111111111111,
             "#46039f"
            ],
            [
             0.2222222222222222,
             "#7201a8"
            ],
            [
             0.3333333333333333,
             "#9c179e"
            ],
            [
             0.4444444444444444,
             "#bd3786"
            ],
            [
             0.5555555555555556,
             "#d8576b"
            ],
            [
             0.6666666666666666,
             "#ed7953"
            ],
            [
             0.7777777777777778,
             "#fb9f3a"
            ],
            [
             0.8888888888888888,
             "#fdca26"
            ],
            [
             1,
             "#f0f921"
            ]
           ]
          },
          "colorway": [
           "#636efa",
           "#EF553B",
           "#00cc96",
           "#ab63fa",
           "#FFA15A",
           "#19d3f3",
           "#FF6692",
           "#B6E880",
           "#FF97FF",
           "#FECB52"
          ],
          "font": {
           "color": "#2a3f5f"
          },
          "geo": {
           "bgcolor": "white",
           "lakecolor": "white",
           "landcolor": "#E5ECF6",
           "showlakes": true,
           "showland": true,
           "subunitcolor": "white"
          },
          "hoverlabel": {
           "align": "left"
          },
          "hovermode": "closest",
          "mapbox": {
           "style": "light"
          },
          "paper_bgcolor": "white",
          "plot_bgcolor": "#E5ECF6",
          "polar": {
           "angularaxis": {
            "gridcolor": "white",
            "linecolor": "white",
            "ticks": ""
           },
           "bgcolor": "#E5ECF6",
           "radialaxis": {
            "gridcolor": "white",
            "linecolor": "white",
            "ticks": ""
           }
          },
          "scene": {
           "xaxis": {
            "backgroundcolor": "#E5ECF6",
            "gridcolor": "white",
            "gridwidth": 2,
            "linecolor": "white",
            "showbackground": true,
            "ticks": "",
            "zerolinecolor": "white"
           },
           "yaxis": {
            "backgroundcolor": "#E5ECF6",
            "gridcolor": "white",
            "gridwidth": 2,
            "linecolor": "white",
            "showbackground": true,
            "ticks": "",
            "zerolinecolor": "white"
           },
           "zaxis": {
            "backgroundcolor": "#E5ECF6",
            "gridcolor": "white",
            "gridwidth": 2,
            "linecolor": "white",
            "showbackground": true,
            "ticks": "",
            "zerolinecolor": "white"
           }
          },
          "shapedefaults": {
           "line": {
            "color": "#2a3f5f"
           }
          },
          "ternary": {
           "aaxis": {
            "gridcolor": "white",
            "linecolor": "white",
            "ticks": ""
           },
           "baxis": {
            "gridcolor": "white",
            "linecolor": "white",
            "ticks": ""
           },
           "bgcolor": "#E5ECF6",
           "caxis": {
            "gridcolor": "white",
            "linecolor": "white",
            "ticks": ""
           }
          },
          "title": {
           "x": 0.05
          },
          "xaxis": {
           "automargin": true,
           "gridcolor": "white",
           "linecolor": "white",
           "ticks": "",
           "title": {
            "standoff": 15
           },
           "zerolinecolor": "white",
           "zerolinewidth": 2
          },
          "yaxis": {
           "automargin": true,
           "gridcolor": "white",
           "linecolor": "white",
           "ticks": "",
           "title": {
            "standoff": 15
           },
           "zerolinecolor": "white",
           "zerolinewidth": 2
          }
         }
        }
       }
      },
      "text/html": [
       "<div>                            <div id=\"30d769e5-6404-4509-91af-01ebd440246e\" class=\"plotly-graph-div\" style=\"height:525px; width:100%;\"></div>            <script type=\"text/javascript\">                require([\"plotly\"], function(Plotly) {                    window.PLOTLYENV=window.PLOTLYENV || {};                                    if (document.getElementById(\"30d769e5-6404-4509-91af-01ebd440246e\")) {                    Plotly.newPlot(                        \"30d769e5-6404-4509-91af-01ebd440246e\",                        [{\"colorscale\": [[0.0, \"lightblue\"], [1.0, \"lightblue\"]], \"geo\": \"geo\", \"hovertemplate\": \"color=Flood<br>locations=%{location}<extra></extra>\", \"locationmode\": \"country names\", \"locations\": [\"Brazil\", \"Bangladesh\", \"Bosnia and Herzegovina\", \"Bolivia (Plurinational State of)\", \"Bolivia (Plurinational State of)\", \"Brazil\", \"Brazil\", \"Brazil\", \"Brazil\", \"C\\u00f4te d\\u2019Ivoire\", \"Colombia\", \"Colombia\", \"Australia\", \"China\", \"Congo (the)\", \"Afghanistan\", \"Afghanistan\", \"Afghanistan\", \"Afghanistan\", \"Afghanistan\", \"Angola\", \"Angola\", \"Argentina\", \"Burundi\", \"Burundi\", \"Benin\", \"Burkina Faso\", \"Burkina Faso\", \"Burkina Faso\", \"Canada\", \"China\", \"China\", \"China\", \"China\", \"Cameroon\", \"Congo (the)\", \"Colombia\", \"Djibouti\", \"Austria\", \"Bangladesh\", \"Bosnia and Herzegovina\", \"Brazil\", \"Brazil\", \"Brazil\", \"Bhutan\", \"Canada\", \"Chile\", \"China\", \"Colombia\", \"Colombia\", \"Colombia\", \"Colombia\", \"Colombia\", \"Germany\", \"Benin\", \"Bolivia (Plurinational State of)\", \"Czech Republic (the)\", \"Brazil\", \"Algeria\", \"Afghanistan\", \"Afghanistan\", \"Angola\", \"Angola\", \"Albania\", \"Argentina\", \"Australia\", \"Australia\", \"Australia\", \"Australia\", \"Burundi\", \"Belgium\", \"Bulgaria\", \"Bolivia (Plurinational State of)\", \"Bolivia (Plurinational State of)\", \"Bolivia (Plurinational State of)\", \"Bolivia (Plurinational State of)\", \"Bolivia (Plurinational State of)\", \"Bolivia (Plurinational State of)\", \"Brazil\", \"Brazil\", \"Brazil\", \"Brazil\", \"Central African Republic\", \"Switzerland\", \"China\", \"China\", \"China\", \"Congo (the)\", \"Colombia\", \"Colombia\", \"Colombia\", \"Colombia\", \"Colombia\", \"Costa Rica\", \"Algeria\", \"Ecuador\", \"Brazil\", \"Brazil\", \"Brazil\", \"Colombia\", \"Australia\", \"Australia\", \"Bolivia (Plurinational State of)\", \"Dominican Republic (the)\", \"Guatemala\", \"Kazakhstan\", \"Italy\", \"Pakistan\", \"Guatemala\", \"Indonesia\", \"Indonesia\", \"Indonesia\", \"Indonesia\", \"Indonesia\", \"Indonesia\", \"Indonesia\", \"Indonesia\", \"India\", \"India\", \"Italy\", \"Japan\", \"Kenya\", \"Korea (the Republic of)\", \"Madagascar\", \"Mexico\", \"Mexico\", \"Malaysia\", \"Nepal\", \"Pakistan\", \"Peru\", \"Peru\", \"Peru\", \"Indonesia\", \"Nigeria\", \"Myanmar\", \"Honduras\", \"Israel\", \"Iran (Islamic Republic of)\", \"Egypt\", \"Ecuador\", \"Ethiopia\", \"Ethiopia\", \"France\", \"France\", \"France\", \"United Kingdom of Great Britain and Northern Ireland (the)\", \"Georgia\", \"Ghana\", \"Ghana\", \"Guinea\", \"Greece\", \"Greece\", \"French Guiana\", \"Indonesia\", \"Indonesia\", \"Indonesia\", \"Indonesia\", \"Indonesia\", \"Indonesia\", \"Indonesia\", \"Indonesia\", \"Indonesia\", \"Indonesia\", \"Indonesia\", \"Indonesia\", \"Indonesia\", \"Indonesia\", \"Indonesia\", \"Indonesia\", \"India\", \"India\", \"India\", \"Iran (Islamic Republic of)\", \"Iran (Islamic Republic of)\", \"Iran (Islamic Republic of)\", \"Iran (Islamic Republic of)\", \"Iran (Islamic Republic of)\", \"Iraq\", \"Italy\", \"Korea (the Republic of)\", \"Sri Lanka\", \"Sri Lanka\", \"Mongolia\", \"Mongolia\", \"Mongolia\", \"Mozambique\", \"Mozambique\", \"Mauritania\", \"Mauritania\", \"Malawi\", \"Malaysia\", \"Malaysia\", \"Malaysia\", \"Malaysia\", \"Namibia\", \"Niger (the)\", \"Niger (the)\", \"Nigeria\", \"Nigeria\", \"New Zealand\", \"New Zealand\", \"Oman\", \"Pakistan\", \"Pakistan\", \"Panama\", \"Nepal\", \"Pakistan\", \"Italy\", \"Spain\", \"Egypt\", \"Iraq\", \"Sri Lanka\", \"Ecuador\", \"France\", \"France\", \"Georgia\", \"Guatemala\", \"Guatemala\", \"Indonesia\", \"Indonesia\", \"Indonesia\", \"Indonesia\", \"Indonesia\", \"Indonesia\", \"Indonesia\", \"India\", \"India\", \"Japan\", \"Japan\", \"Cambodia\", \"Sri Lanka\", \"Sri Lanka\", \"Luxembourg\", \"Madagascar\", \"Malaysia\", \"Malaysia\", \"Malaysia\", \"Nepal\", \"Nepal\", \"Nepal\", \"New Zealand\", \"Panama\", \"Panama\", \"Peru\", \"Peru\", \"Peru\", \"Peru\", \"Peru\", \"India\", \"India\", \"Nigeria\", \"Pakistan\", \"Spain\", \"France\", \"France\", \"Sri Lanka\", \"Malaysia\", \"Ethiopia\", \"France\", \"France\", \"Ghana\", \"Ghana\", \"Guinea\", \"Guatemala\", \"Guyana\", \"Haiti\", \"Indonesia\", \"Indonesia\", \"Indonesia\", \"Indonesia\", \"Indonesia\", \"Indonesia\", \"Indonesia\", \"Indonesia\", \"Indonesia\", \"Indonesia\", \"Indonesia\", \"India\", \"India\", \"India\", \"India\", \"India\", \"Iran (Islamic Republic of)\", \"Iraq\", \"Kenya\", \"Cambodia\", \"Cambodia\", \"Morocco\", \"Morocco\", \"Mexico\", \"Mexico\", \"Mexico\", \"Myanmar\", \"Mongolia\", \"Mozambique\", \"Malaysia\", \"Malaysia\", \"Malaysia\", \"Malaysia\", \"Namibia\", \"Niger (the)\", \"Nigeria\", \"Netherlands (the)\", \"New Zealand\", \"New Zealand\", \"Pakistan\", \"Pakistan\", \"Peru\", \"Peru\", \"Peru\", \"Madagascar\", \"Ecuador\", \"Indonesia\", \"Indonesia\", \"Peru\", \"Ecuador\", \"Honduras\", \"Haiti\", \"Haiti\", \"Indonesia\", \"Indonesia\", \"Iran (Islamic Republic of)\", \"Iran (Islamic Republic of)\", \"Malaysia\", \"Malaysia\", \"Uzbekistan\", \"Papua New Guinea\", \"Rwanda\", \"Rwanda\", \"Rwanda\", \"Thailand\", \"Thailand\", \"Tanzania, United Republic of\", \"Uganda\", \"Uganda\", \"Uganda\", \"Viet Nam\", \"Congo (the Democratic Republic of the)\", \"Serbia\", \"Cabo Verde\", \"United States of America (the)\", \"Zambia\", \"Sudan (the)\", \"Uruguay\", \"Yemen\", \"Rwanda\", \"Papua New Guinea\", \"Papua New Guinea\", \"Poland\", \"Korea (the Democratic People's Republic of)\", \"Romania\", \"Rwanda\", \"Saudi Arabia\", \"Senegal\", \"Somalia\", \"Somalia\", \"Slovakia\", \"Chad\", \"Chad\", \"Togo\", \"Thailand\", \"Tajikistan\", \"Tunisia\", \"Turkey\", \"Turkey\", \"Turkey\", \"Tanzania, United Republic of\", \"Tanzania, United Republic of\", \"Tanzania, United Republic of\", \"Uganda\", \"Uganda\", \"Ukraine\", \"United States of America (the)\", \"Venezuela (Bolivarian Republic of)\", \"Yemen\", \"Yemen\", \"Yemen\", \"Yemen\", \"South Africa\", \"Congo (the Democratic Republic of the)\", \"Congo (the Democratic Republic of the)\", \"Congo (the Democratic Republic of the)\", \"Congo (the Democratic Republic of the)\", \"Congo (the Democratic Republic of the)\", \"Zambia\", \"Zambia\", \"Timor-Leste\", \"South Sudan\", \"Rwanda\", \"Uganda\", \"Sao Tome and Principe\", \"Philippines (the)\", \"Philippines (the)\", \"Paraguay\", \"El Salvador\", \"Thailand\", \"Thailand\", \"Tajikistan\", \"Turkey\", \"Uganda\", \"United States of America (the)\", \"United States of America (the)\", \"Venezuela (Bolivarian Republic of)\", \"Viet Nam\", \"Viet Nam\", \"Slovakia\", \"Poland\", \"Russian Federation (the)\", \"United States of America (the)\", \"United States of America (the)\", \"Philippines (the)\", \"Tunisia\", \"United States of America (the)\", \"Philippines (the)\", \"Philippines (the)\", \"Korea (the Democratic People's Republic of)\", \"Paraguay\", \"Romania\", \"Russian Federation (the)\", \"Russian Federation (the)\", \"Sudan (the)\", \"Somalia\", \"Suriname\", \"Slovenia\", \"Sweden\", \"Syrian Arab Republic\", \"Chad\", \"Thailand\", \"Thailand\", \"Thailand\", \"Turkey\", \"Tanzania, United Republic of\", \"Uganda\", \"United States of America (the)\", \"United States of America (the)\", \"United States of America (the)\", \"United States of America (the)\", \"United States of America (the)\", \"United States of America (the)\", \"United States of America (the)\", \"Venezuela (Bolivarian Republic of)\", \"Viet Nam\", \"Yemen\", \"Yemen\", \"South Africa\", \"Serbia\", \"South Sudan\", \"Indonesia\", \"Georgia\", \"Sri Lanka\", \"India\", \"Rwanda\", \"Uganda\", \"Afghanistan\", \"Afghanistan\", \"Brazil\", \"Brazil\", \"Brazil\", \"China\", \"China\", \"China\", \"C\\u00f4te d\\u2019Ivoire\", \"Colombia\", \"Colombia\", \"Colombia\", \"Colombia\", \"Colombia\", \"Colombia\", \"Ecuador\", \"Ecuador\", \"Guatemala\", \"Indonesia\", \"Indonesia\", \"Indonesia\", \"India\", \"Iran (Islamic Republic of)\", \"Lao People's Democratic Republic (the)\", \"Colombia\", \"Central African Republic\", \"Gambia (the)\", \"Thailand\", \"Uruguay\", \"South Africa\", \"South Africa\", \"South Africa\", \"South Africa\", \"Zambia\", \"Zimbabwe\", \"Afghanistan\", \"Afghanistan\", \"Australia\", \"Australia\", \"Australia\", \"Benin\", \"Bangladesh\", \"Bulgaria\", \"Brazil\", \"Brazil\", \"Canada\", \"Canada\", \"China\", \"Cuba\", \"Ecuador\", \"Ghana\", \"Guinea\", \"Guyana\", \"Honduras\", \"India\", \"Japan\", \"Cambodia\", \"Korea (the Republic of)\", \"Sri Lanka\", \"Mexico\", \"Mexico\", \"Mali\", \"Mongolia\", \"Mauritania\", \"Malaysia\", \"Pakistan\", \"Philippines (the)\", \"Niger (the)\", \"Nepal\", \"Nepal\", \"Rwanda\", \"Sierra Leone\", \"Turkey\", \"United States of America (the)\", \"Uzbekistan\", \"Viet Nam\", \"Viet Nam\", \"Viet Nam\", \"South Africa\", \"Congo (the Democratic Republic of the)\", \"Somalia\", \"Nigeria\", \"Russian Federation (the)\", \"Sudan (the)\", \"Senegal\", \"Suriname\", \"Chad\", \"Thailand\", \"Thailand\", \"Thailand\", \"Thailand\", \"Thailand\", \"Thailand\", \"Tunisia\", \"Turkey\", \"Turkey\", \"Tanzania, United Republic of\", \"Uganda\", \"United States of America (the)\", \"United States of America (the)\", \"Venezuela (Bolivarian Republic of)\", \"Venezuela (Bolivarian Republic of)\", \"Venezuela (Bolivarian Republic of)\", \"Venezuela (Bolivarian Republic of)\", \"Viet Nam\", \"Yemen\", \"Yemen\", \"Yemen\", \"South Africa\", \"South Africa\", \"South Sudan\"], \"name\": \"Flood\", \"showlegend\": true, \"showscale\": false, \"type\": \"choropleth\", \"z\": [1, 1, 1, 1, 1, 1, 1, 1, 1, 1, 1, 1, 1, 1, 1, 1, 1, 1, 1, 1, 1, 1, 1, 1, 1, 1, 1, 1, 1, 1, 1, 1, 1, 1, 1, 1, 1, 1, 1, 1, 1, 1, 1, 1, 1, 1, 1, 1, 1, 1, 1, 1, 1, 1, 1, 1, 1, 1, 1, 1, 1, 1, 1, 1, 1, 1, 1, 1, 1, 1, 1, 1, 1, 1, 1, 1, 1, 1, 1, 1, 1, 1, 1, 1, 1, 1, 1, 1, 1, 1, 1, 1, 1, 1, 1, 1, 1, 1, 1, 1, 1, 1, 1, 1, 1, 1, 1, 1, 1, 1, 1, 1, 1, 1, 1, 1, 1, 1, 1, 1, 1, 1, 1, 1, 1, 1, 1, 1, 1, 1, 1, 1, 1, 1, 1, 1, 1, 1, 1, 1, 1, 1, 1, 1, 1, 1, 1, 1, 1, 1, 1, 1, 1, 1, 1, 1, 1, 1, 1, 1, 1, 1, 1, 1, 1, 1, 1, 1, 1, 1, 1, 1, 1, 1, 1, 1, 1, 1, 1, 1, 1, 1, 1, 1, 1, 1, 1, 1, 1, 1, 1, 1, 1, 1, 1, 1, 1, 1, 1, 1, 1, 1, 1, 1, 1, 1, 1, 1, 1, 1, 1, 1, 1, 1, 1, 1, 1, 1, 1, 1, 1, 1, 1, 1, 1, 1, 1, 1, 1, 1, 1, 1, 1, 1, 1, 1, 1, 1, 1, 1, 1, 1, 1, 1, 1, 1, 1, 1, 1, 1, 1, 1, 1, 1, 1, 1, 1, 1, 1, 1, 1, 1, 1, 1, 1, 1, 1, 1, 1, 1, 1, 1, 1, 1, 1, 1, 1, 1, 1, 1, 1, 1, 1, 1, 1, 1, 1, 1, 1, 1, 1, 1, 1, 1, 1, 1, 1, 1, 1, 1, 1, 1, 1, 1, 1, 1, 1, 1, 1, 1, 1, 1, 1, 1, 1, 1, 1, 1, 1, 1, 1, 1, 1, 1, 1, 1, 1, 1, 1, 1, 1, 1, 1, 1, 1, 1, 1, 1, 1, 1, 1, 1, 1, 1, 1, 1, 1, 1, 1, 1, 1, 1, 1, 1, 1, 1, 1, 1, 1, 1, 1, 1, 1, 1, 1, 1, 1, 1, 1, 1, 1, 1, 1, 1, 1, 1, 1, 1, 1, 1, 1, 1, 1, 1, 1, 1, 1, 1, 1, 1, 1, 1, 1, 1, 1, 1, 1, 1, 1, 1, 1, 1, 1, 1, 1, 1, 1, 1, 1, 1, 1, 1, 1, 1, 1, 1, 1, 1, 1, 1, 1, 1, 1, 1, 1, 1, 1, 1, 1, 1, 1, 1, 1, 1, 1, 1, 1, 1, 1, 1, 1, 1, 1, 1, 1, 1, 1, 1, 1, 1, 1, 1, 1, 1, 1, 1, 1, 1, 1, 1, 1, 1, 1, 1, 1, 1, 1, 1, 1, 1, 1, 1, 1, 1, 1, 1, 1, 1, 1, 1, 1, 1, 1, 1, 1, 1, 1, 1, 1, 1, 1, 1, 1, 1, 1, 1, 1, 1, 1, 1, 1, 1, 1, 1, 1, 1, 1, 1, 1, 1, 1, 1, 1, 1, 1, 1, 1, 1, 1, 1, 1, 1, 1, 1, 1, 1, 1, 1, 1, 1, 1, 1, 1, 1, 1, 1, 1, 1, 1, 1, 1, 1, 1, 1, 1, 1, 1, 1, 1, 1, 1, 1, 1, 1, 1, 1, 1, 1, 1, 1, 1, 1, 1, 1]}, {\"colorscale\": [[0.0, \"orange\"], [1.0, \"orange\"]], \"geo\": \"geo\", \"hovertemplate\": \"color=Drought<br>locations=%{location}<extra></extra>\", \"locationmode\": \"country names\", \"locations\": [\"Angola\", \"Burkina Faso\", \"Brazil\", \"Afghanistan\", \"Brazil\", \"China\", \"Madagascar\", \"Lesotho\", \"Mali\", \"Mozambique\", \"Mauritania\", \"Niger (the)\", \"Iraq\", \"Kazakhstan\", \"Ethiopia\", \"Kenya\", \"Iran (Islamic Republic of)\", \"Mozambique\", \"Marshall Islands (the)\", \"United States of America (the)\", \"Syrian Arab Republic\", \"South Africa\", \"Zambia\", \"Zimbabwe\", \"South Sudan\", \"Somalia\", \"Tuvalu\", \"United States of America (the)\", \"China\", \"Cabo Verde\", \"Djibouti\", \"Ethiopia\", \"France\", \"United Kingdom of Great Britain and Northern Ireland (the)\", \"Italy\", \"Tanzania, United Republic of\", \"Portugal\", \"Niger (the)\", \"Chad\", \"Uganda\", \"United States of America (the)\"], \"name\": \"Drought\", \"showlegend\": true, \"showscale\": false, \"type\": \"choropleth\", \"z\": [1, 1, 1, 1, 1, 1, 1, 1, 1, 1, 1, 1, 1, 1, 1, 1, 1, 1, 1, 1, 1, 1, 1, 1, 1, 1, 1, 1, 1, 1, 1, 1, 1, 1, 1, 1, 1, 1, 1, 1, 1]}, {\"colorscale\": [[0.0, \"red\"], [1.0, \"red\"]], \"geo\": \"geo\", \"hovertemplate\": \"color=Wildfire<br>locations=%{location}<extra></extra>\", \"locationmode\": \"country names\", \"locations\": [\"Bolivia (Plurinational State of)\", \"China\", \"Bulgaria\", \"Canada\", \"Cyprus\", \"Algeria\", \"Argentina\", \"Australia\", \"Argentina\", \"Israel\", \"Lebanon\", \"New Zealand\", \"Greece\", \"Macedonia (the former Yugoslav Republic of)\", \"Honduras\", \"Italy\", \"Korea (the Republic of)\", \"Syrian Arab Republic\", \"Ukraine\", \"Ukraine\", \"United States of America (the)\", \"Turkey\", \"Russian Federation (the)\", \"Tunisia\", \"United States of America (the)\", \"United States of America (the)\", \"United States of America (the)\", \"United States of America (the)\", \"United States of America (the)\", \"United States of America (the)\", \"United States of America (the)\", \"Central African Republic\", \"Algeria\", \"Spain\", \"Greece\", \"Portugal\", \"United States of America (the)\", \"Pakistan\", \"Russian Federation (the)\", \"United States of America (the)\", \"United States of America (the)\", \"United States of America (the)\"], \"name\": \"Wildfire\", \"showlegend\": true, \"showscale\": false, \"type\": \"choropleth\", \"z\": [1, 1, 1, 1, 1, 1, 1, 1, 1, 1, 1, 1, 1, 1, 1, 1, 1, 1, 1, 1, 1, 1, 1, 1, 1, 1, 1, 1, 1, 1, 1, 1, 1, 1, 1, 1, 1, 1, 1, 1, 1, 1]}],                        {\"geo\": {\"center\": {}, \"domain\": {\"x\": [0.0, 1.0], \"y\": [0.0, 1.0]}}, \"legend\": {\"title\": {\"text\": \"color\"}, \"tracegroupgap\": 0}, \"margin\": {\"t\": 60}, \"template\": {\"data\": {\"bar\": [{\"error_x\": {\"color\": \"#2a3f5f\"}, \"error_y\": {\"color\": \"#2a3f5f\"}, \"marker\": {\"line\": {\"color\": \"#E5ECF6\", \"width\": 0.5}}, \"type\": \"bar\"}], \"barpolar\": [{\"marker\": {\"line\": {\"color\": \"#E5ECF6\", \"width\": 0.5}}, \"type\": \"barpolar\"}], \"carpet\": [{\"aaxis\": {\"endlinecolor\": \"#2a3f5f\", \"gridcolor\": \"white\", \"linecolor\": \"white\", \"minorgridcolor\": \"white\", \"startlinecolor\": \"#2a3f5f\"}, \"baxis\": {\"endlinecolor\": \"#2a3f5f\", \"gridcolor\": \"white\", \"linecolor\": \"white\", \"minorgridcolor\": \"white\", \"startlinecolor\": \"#2a3f5f\"}, \"type\": \"carpet\"}], \"choropleth\": [{\"colorbar\": {\"outlinewidth\": 0, \"ticks\": \"\"}, \"type\": \"choropleth\"}], \"contour\": [{\"colorbar\": {\"outlinewidth\": 0, \"ticks\": \"\"}, \"colorscale\": [[0.0, \"#0d0887\"], [0.1111111111111111, \"#46039f\"], [0.2222222222222222, \"#7201a8\"], [0.3333333333333333, \"#9c179e\"], [0.4444444444444444, \"#bd3786\"], [0.5555555555555556, \"#d8576b\"], [0.6666666666666666, \"#ed7953\"], [0.7777777777777778, \"#fb9f3a\"], [0.8888888888888888, \"#fdca26\"], [1.0, \"#f0f921\"]], \"type\": \"contour\"}], \"contourcarpet\": [{\"colorbar\": {\"outlinewidth\": 0, \"ticks\": \"\"}, \"type\": \"contourcarpet\"}], \"heatmap\": [{\"colorbar\": {\"outlinewidth\": 0, \"ticks\": \"\"}, \"colorscale\": [[0.0, \"#0d0887\"], [0.1111111111111111, \"#46039f\"], [0.2222222222222222, \"#7201a8\"], [0.3333333333333333, \"#9c179e\"], [0.4444444444444444, \"#bd3786\"], [0.5555555555555556, \"#d8576b\"], [0.6666666666666666, \"#ed7953\"], [0.7777777777777778, \"#fb9f3a\"], [0.8888888888888888, \"#fdca26\"], [1.0, \"#f0f921\"]], \"type\": \"heatmap\"}], \"heatmapgl\": [{\"colorbar\": {\"outlinewidth\": 0, \"ticks\": \"\"}, \"colorscale\": [[0.0, \"#0d0887\"], [0.1111111111111111, \"#46039f\"], [0.2222222222222222, \"#7201a8\"], [0.3333333333333333, \"#9c179e\"], [0.4444444444444444, \"#bd3786\"], [0.5555555555555556, \"#d8576b\"], [0.6666666666666666, \"#ed7953\"], [0.7777777777777778, \"#fb9f3a\"], [0.8888888888888888, \"#fdca26\"], [1.0, \"#f0f921\"]], \"type\": \"heatmapgl\"}], \"histogram\": [{\"marker\": {\"colorbar\": {\"outlinewidth\": 0, \"ticks\": \"\"}}, \"type\": \"histogram\"}], \"histogram2d\": [{\"colorbar\": {\"outlinewidth\": 0, \"ticks\": \"\"}, \"colorscale\": [[0.0, \"#0d0887\"], [0.1111111111111111, \"#46039f\"], [0.2222222222222222, \"#7201a8\"], [0.3333333333333333, \"#9c179e\"], [0.4444444444444444, \"#bd3786\"], [0.5555555555555556, \"#d8576b\"], [0.6666666666666666, \"#ed7953\"], [0.7777777777777778, \"#fb9f3a\"], [0.8888888888888888, \"#fdca26\"], [1.0, \"#f0f921\"]], \"type\": \"histogram2d\"}], \"histogram2dcontour\": [{\"colorbar\": {\"outlinewidth\": 0, \"ticks\": \"\"}, \"colorscale\": [[0.0, \"#0d0887\"], [0.1111111111111111, \"#46039f\"], [0.2222222222222222, \"#7201a8\"], [0.3333333333333333, \"#9c179e\"], [0.4444444444444444, \"#bd3786\"], [0.5555555555555556, \"#d8576b\"], [0.6666666666666666, \"#ed7953\"], [0.7777777777777778, \"#fb9f3a\"], [0.8888888888888888, \"#fdca26\"], [1.0, \"#f0f921\"]], \"type\": \"histogram2dcontour\"}], \"mesh3d\": [{\"colorbar\": {\"outlinewidth\": 0, \"ticks\": \"\"}, \"type\": \"mesh3d\"}], \"parcoords\": [{\"line\": {\"colorbar\": {\"outlinewidth\": 0, \"ticks\": \"\"}}, \"type\": \"parcoords\"}], \"pie\": [{\"automargin\": true, \"type\": \"pie\"}], \"scatter\": [{\"marker\": {\"colorbar\": {\"outlinewidth\": 0, \"ticks\": \"\"}}, \"type\": \"scatter\"}], \"scatter3d\": [{\"line\": {\"colorbar\": {\"outlinewidth\": 0, \"ticks\": \"\"}}, \"marker\": {\"colorbar\": {\"outlinewidth\": 0, \"ticks\": \"\"}}, \"type\": \"scatter3d\"}], \"scattercarpet\": [{\"marker\": {\"colorbar\": {\"outlinewidth\": 0, \"ticks\": \"\"}}, \"type\": \"scattercarpet\"}], \"scattergeo\": [{\"marker\": {\"colorbar\": {\"outlinewidth\": 0, \"ticks\": \"\"}}, \"type\": \"scattergeo\"}], \"scattergl\": [{\"marker\": {\"colorbar\": {\"outlinewidth\": 0, \"ticks\": \"\"}}, \"type\": \"scattergl\"}], \"scattermapbox\": [{\"marker\": {\"colorbar\": {\"outlinewidth\": 0, \"ticks\": \"\"}}, \"type\": \"scattermapbox\"}], \"scatterpolar\": [{\"marker\": {\"colorbar\": {\"outlinewidth\": 0, \"ticks\": \"\"}}, \"type\": \"scatterpolar\"}], \"scatterpolargl\": [{\"marker\": {\"colorbar\": {\"outlinewidth\": 0, \"ticks\": \"\"}}, \"type\": \"scatterpolargl\"}], \"scatterternary\": [{\"marker\": {\"colorbar\": {\"outlinewidth\": 0, \"ticks\": \"\"}}, \"type\": \"scatterternary\"}], \"surface\": [{\"colorbar\": {\"outlinewidth\": 0, \"ticks\": \"\"}, \"colorscale\": [[0.0, \"#0d0887\"], [0.1111111111111111, \"#46039f\"], [0.2222222222222222, \"#7201a8\"], [0.3333333333333333, \"#9c179e\"], [0.4444444444444444, \"#bd3786\"], [0.5555555555555556, \"#d8576b\"], [0.6666666666666666, \"#ed7953\"], [0.7777777777777778, \"#fb9f3a\"], [0.8888888888888888, \"#fdca26\"], [1.0, \"#f0f921\"]], \"type\": \"surface\"}], \"table\": [{\"cells\": {\"fill\": {\"color\": \"#EBF0F8\"}, \"line\": {\"color\": \"white\"}}, \"header\": {\"fill\": {\"color\": \"#C8D4E3\"}, \"line\": {\"color\": \"white\"}}, \"type\": \"table\"}]}, \"layout\": {\"annotationdefaults\": {\"arrowcolor\": \"#2a3f5f\", \"arrowhead\": 0, \"arrowwidth\": 1}, \"autotypenumbers\": \"strict\", \"coloraxis\": {\"colorbar\": {\"outlinewidth\": 0, \"ticks\": \"\"}}, \"colorscale\": {\"diverging\": [[0, \"#8e0152\"], [0.1, \"#c51b7d\"], [0.2, \"#de77ae\"], [0.3, \"#f1b6da\"], [0.4, \"#fde0ef\"], [0.5, \"#f7f7f7\"], [0.6, \"#e6f5d0\"], [0.7, \"#b8e186\"], [0.8, \"#7fbc41\"], [0.9, \"#4d9221\"], [1, \"#276419\"]], \"sequential\": [[0.0, \"#0d0887\"], [0.1111111111111111, \"#46039f\"], [0.2222222222222222, \"#7201a8\"], [0.3333333333333333, \"#9c179e\"], [0.4444444444444444, \"#bd3786\"], [0.5555555555555556, \"#d8576b\"], [0.6666666666666666, \"#ed7953\"], [0.7777777777777778, \"#fb9f3a\"], [0.8888888888888888, \"#fdca26\"], [1.0, \"#f0f921\"]], \"sequentialminus\": [[0.0, \"#0d0887\"], [0.1111111111111111, \"#46039f\"], [0.2222222222222222, \"#7201a8\"], [0.3333333333333333, \"#9c179e\"], [0.4444444444444444, \"#bd3786\"], [0.5555555555555556, \"#d8576b\"], [0.6666666666666666, \"#ed7953\"], [0.7777777777777778, \"#fb9f3a\"], [0.8888888888888888, \"#fdca26\"], [1.0, \"#f0f921\"]]}, \"colorway\": [\"#636efa\", \"#EF553B\", \"#00cc96\", \"#ab63fa\", \"#FFA15A\", \"#19d3f3\", \"#FF6692\", \"#B6E880\", \"#FF97FF\", \"#FECB52\"], \"font\": {\"color\": \"#2a3f5f\"}, \"geo\": {\"bgcolor\": \"white\", \"lakecolor\": \"white\", \"landcolor\": \"#E5ECF6\", \"showlakes\": true, \"showland\": true, \"subunitcolor\": \"white\"}, \"hoverlabel\": {\"align\": \"left\"}, \"hovermode\": \"closest\", \"mapbox\": {\"style\": \"light\"}, \"paper_bgcolor\": \"white\", \"plot_bgcolor\": \"#E5ECF6\", \"polar\": {\"angularaxis\": {\"gridcolor\": \"white\", \"linecolor\": \"white\", \"ticks\": \"\"}, \"bgcolor\": \"#E5ECF6\", \"radialaxis\": {\"gridcolor\": \"white\", \"linecolor\": \"white\", \"ticks\": \"\"}}, \"scene\": {\"xaxis\": {\"backgroundcolor\": \"#E5ECF6\", \"gridcolor\": \"white\", \"gridwidth\": 2, \"linecolor\": \"white\", \"showbackground\": true, \"ticks\": \"\", \"zerolinecolor\": \"white\"}, \"yaxis\": {\"backgroundcolor\": \"#E5ECF6\", \"gridcolor\": \"white\", \"gridwidth\": 2, \"linecolor\": \"white\", \"showbackground\": true, \"ticks\": \"\", \"zerolinecolor\": \"white\"}, \"zaxis\": {\"backgroundcolor\": \"#E5ECF6\", \"gridcolor\": \"white\", \"gridwidth\": 2, \"linecolor\": \"white\", \"showbackground\": true, \"ticks\": \"\", \"zerolinecolor\": \"white\"}}, \"shapedefaults\": {\"line\": {\"color\": \"#2a3f5f\"}}, \"ternary\": {\"aaxis\": {\"gridcolor\": \"white\", \"linecolor\": \"white\", \"ticks\": \"\"}, \"baxis\": {\"gridcolor\": \"white\", \"linecolor\": \"white\", \"ticks\": \"\"}, \"bgcolor\": \"#E5ECF6\", \"caxis\": {\"gridcolor\": \"white\", \"linecolor\": \"white\", \"ticks\": \"\"}}, \"title\": {\"x\": 0.05}, \"xaxis\": {\"automargin\": true, \"gridcolor\": \"white\", \"linecolor\": \"white\", \"ticks\": \"\", \"title\": {\"standoff\": 15}, \"zerolinecolor\": \"white\", \"zerolinewidth\": 2}, \"yaxis\": {\"automargin\": true, \"gridcolor\": \"white\", \"linecolor\": \"white\", \"ticks\": \"\", \"title\": {\"standoff\": 15}, \"zerolinecolor\": \"white\", \"zerolinewidth\": 2}}}},                        {\"responsive\": true}                    ).then(function(){\n",
       "                            \n",
       "var gd = document.getElementById('30d769e5-6404-4509-91af-01ebd440246e');\n",
       "var x = new MutationObserver(function (mutations, observer) {{\n",
       "        var display = window.getComputedStyle(gd).display;\n",
       "        if (!display || display === 'none') {{\n",
       "            console.log([gd, 'removed!']);\n",
       "            Plotly.purge(gd);\n",
       "            observer.disconnect();\n",
       "        }}\n",
       "}});\n",
       "\n",
       "// Listen for the removal of the full notebook cells\n",
       "var notebookContainer = gd.closest('#notebook-container');\n",
       "if (notebookContainer) {{\n",
       "    x.observe(notebookContainer, {childList: true});\n",
       "}}\n",
       "\n",
       "// Listen for the clearing of the current output cell\n",
       "var outputEl = gd.closest('.output');\n",
       "if (outputEl) {{\n",
       "    x.observe(outputEl, {childList: true});\n",
       "}}\n",
       "\n",
       "                        })                };                });            </script>        </div>"
      ]
     },
     "metadata": {},
     "output_type": "display_data"
    }
   ],
   "source": [
    "fig = px.choropleth(\n",
    "    locations=cleaned_df_subset_2[\"Country\"], \n",
    "    locationmode=\"country names\",\n",
    "    color=cleaned_df_subset_2[\"Disaster Type\"],\n",
    "    color_discrete_map={\n",
    "        'Wildfire':'red',\n",
    "        'Drought':'orange',\n",
    "        'Flood':'lightblue'\n",
    "    }\n",
    ")\n",
    "\n",
    "fig.show()"
   ]
  },
  {
   "cell_type": "code",
   "execution_count": null,
   "id": "fbdb9fd6",
   "metadata": {},
   "outputs": [],
   "source": []
  }
 ],
 "metadata": {
  "kernelspec": {
   "display_name": "Python 3 (ipykernel)",
   "language": "python",
   "name": "python3"
  },
  "language_info": {
   "codemirror_mode": {
    "name": "ipython",
    "version": 3
   },
   "file_extension": ".py",
   "mimetype": "text/x-python",
   "name": "python",
   "nbconvert_exporter": "python",
   "pygments_lexer": "ipython3",
   "version": "3.9.13"
  },
  "vscode": {
   "interpreter": {
    "hash": "a665b5d41d17b532ea9890333293a1b812fa0b73c9c25c950b3cedf1bebd0438"
   }
  }
 },
 "nbformat": 4,
 "nbformat_minor": 5
}
