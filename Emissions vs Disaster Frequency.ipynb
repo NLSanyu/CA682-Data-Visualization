{
 "cells": [
  {
   "cell_type": "markdown",
   "id": "352b6aef",
   "metadata": {},
   "source": [
    "# CO2 Emissions vs Climated-related Natural Disaster Frequency\n",
    "<br/>"
   ]
  },
  {
   "cell_type": "code",
   "execution_count": 232,
   "id": "ae9556b6",
   "metadata": {},
   "outputs": [],
   "source": [
    "import pandas as pd\n",
    "import matplotlib.pyplot as plt\n",
    "import seaborn as sns"
   ]
  },
  {
   "cell_type": "markdown",
   "id": "9aee913f",
   "metadata": {},
   "source": [
    "# Datasets"
   ]
  },
  {
   "cell_type": "markdown",
   "id": "6ad3f9b9",
   "metadata": {},
   "source": [
    "### EM-DAT natural disasters dataset (aggregated disaster counts)"
   ]
  },
  {
   "cell_type": "markdown",
   "id": "4c195016",
   "metadata": {},
   "source": [
    "**Note**: The specific data exploration, processing and visualization code for the EM-DAT dataset is in the [EM-DAT Data Exploration notebook](https://github.com/NLSanyu/CA682-Data-Visualization-Assignment/blob/main/EM-DAT%20Data%20Exploration.ipynb)"
   ]
  },
  {
   "cell_type": "code",
   "execution_count": 233,
   "id": "e20bf180",
   "metadata": {},
   "outputs": [
    {
     "data": {
      "text/html": [
       "<div>\n",
       "<style scoped>\n",
       "    .dataframe tbody tr th:only-of-type {\n",
       "        vertical-align: middle;\n",
       "    }\n",
       "\n",
       "    .dataframe tbody tr th {\n",
       "        vertical-align: top;\n",
       "    }\n",
       "\n",
       "    .dataframe thead th {\n",
       "        text-align: right;\n",
       "    }\n",
       "</style>\n",
       "<table border=\"1\" class=\"dataframe\">\n",
       "  <thead>\n",
       "    <tr style=\"text-align: right;\">\n",
       "      <th></th>\n",
       "      <th>Country</th>\n",
       "      <th>ISO</th>\n",
       "      <th>Disaster count</th>\n",
       "      <th>Continent</th>\n",
       "    </tr>\n",
       "  </thead>\n",
       "  <tbody>\n",
       "    <tr>\n",
       "      <th>0</th>\n",
       "      <td>China</td>\n",
       "      <td>CHN</td>\n",
       "      <td>436</td>\n",
       "      <td>Asia</td>\n",
       "    </tr>\n",
       "    <tr>\n",
       "      <th>1</th>\n",
       "      <td>Afghanistan</td>\n",
       "      <td>AFG</td>\n",
       "      <td>92</td>\n",
       "      <td>Asia</td>\n",
       "    </tr>\n",
       "    <tr>\n",
       "      <th>2</th>\n",
       "      <td>Bangladesh</td>\n",
       "      <td>BGD</td>\n",
       "      <td>105</td>\n",
       "      <td>Asia</td>\n",
       "    </tr>\n",
       "    <tr>\n",
       "      <th>3</th>\n",
       "      <td>Bolivia (Plurinational State of)</td>\n",
       "      <td>BOL</td>\n",
       "      <td>48</td>\n",
       "      <td>Americas</td>\n",
       "    </tr>\n",
       "    <tr>\n",
       "      <th>4</th>\n",
       "      <td>Brazil</td>\n",
       "      <td>BRA</td>\n",
       "      <td>104</td>\n",
       "      <td>Americas</td>\n",
       "    </tr>\n",
       "  </tbody>\n",
       "</table>\n",
       "</div>"
      ],
      "text/plain": [
       "                            Country  ISO  Disaster count Continent\n",
       "0                             China  CHN             436      Asia\n",
       "1                       Afghanistan  AFG              92      Asia\n",
       "2                        Bangladesh  BGD             105      Asia\n",
       "3  Bolivia (Plurinational State of)  BOL              48  Americas\n",
       "4                            Brazil  BRA             104  Americas"
      ]
     },
     "execution_count": 233,
     "metadata": {},
     "output_type": "execute_result"
    }
   ],
   "source": [
    "emdat_df = pd.read_csv(\"data/emdat_disaster_counts_2000_2021.csv\", index_col=0)\n",
    "emdat_df.head()"
   ]
  },
  {
   "cell_type": "markdown",
   "id": "5b1b62f7",
   "metadata": {},
   "source": [
    "### Our World in Data CO2 emissions dataset"
   ]
  },
  {
   "cell_type": "code",
   "execution_count": 234,
   "id": "a4ee660e",
   "metadata": {},
   "outputs": [
    {
     "data": {
      "text/html": [
       "<div>\n",
       "<style scoped>\n",
       "    .dataframe tbody tr th:only-of-type {\n",
       "        vertical-align: middle;\n",
       "    }\n",
       "\n",
       "    .dataframe tbody tr th {\n",
       "        vertical-align: top;\n",
       "    }\n",
       "\n",
       "    .dataframe thead th {\n",
       "        text-align: right;\n",
       "    }\n",
       "</style>\n",
       "<table border=\"1\" class=\"dataframe\">\n",
       "  <thead>\n",
       "    <tr style=\"text-align: right;\">\n",
       "      <th></th>\n",
       "      <th>Entity</th>\n",
       "      <th>Code</th>\n",
       "      <th>Year</th>\n",
       "      <th>Annual CO₂ emissions (per capita)</th>\n",
       "    </tr>\n",
       "  </thead>\n",
       "  <tbody>\n",
       "    <tr>\n",
       "      <th>0</th>\n",
       "      <td>Afghanistan</td>\n",
       "      <td>AFG</td>\n",
       "      <td>1949</td>\n",
       "      <td>0.001922</td>\n",
       "    </tr>\n",
       "    <tr>\n",
       "      <th>1</th>\n",
       "      <td>Afghanistan</td>\n",
       "      <td>AFG</td>\n",
       "      <td>1950</td>\n",
       "      <td>0.011266</td>\n",
       "    </tr>\n",
       "    <tr>\n",
       "      <th>2</th>\n",
       "      <td>Afghanistan</td>\n",
       "      <td>AFG</td>\n",
       "      <td>1951</td>\n",
       "      <td>0.012098</td>\n",
       "    </tr>\n",
       "    <tr>\n",
       "      <th>3</th>\n",
       "      <td>Afghanistan</td>\n",
       "      <td>AFG</td>\n",
       "      <td>1952</td>\n",
       "      <td>0.011946</td>\n",
       "    </tr>\n",
       "    <tr>\n",
       "      <th>4</th>\n",
       "      <td>Afghanistan</td>\n",
       "      <td>AFG</td>\n",
       "      <td>1953</td>\n",
       "      <td>0.013685</td>\n",
       "    </tr>\n",
       "  </tbody>\n",
       "</table>\n",
       "</div>"
      ],
      "text/plain": [
       "        Entity Code  Year  Annual CO₂ emissions (per capita)\n",
       "0  Afghanistan  AFG  1949                           0.001922\n",
       "1  Afghanistan  AFG  1950                           0.011266\n",
       "2  Afghanistan  AFG  1951                           0.012098\n",
       "3  Afghanistan  AFG  1952                           0.011946\n",
       "4  Afghanistan  AFG  1953                           0.013685"
      ]
     },
     "execution_count": 234,
     "metadata": {},
     "output_type": "execute_result"
    }
   ],
   "source": [
    "co2_df = pd.read_csv(\"data/co2.csv\")\n",
    "co2_df.head()"
   ]
  },
  {
   "cell_type": "markdown",
   "id": "3694edb1",
   "metadata": {},
   "source": [
    "### Our World in Data land area dataset"
   ]
  },
  {
   "cell_type": "code",
   "execution_count": 235,
   "id": "3a4af1a0",
   "metadata": {},
   "outputs": [
    {
     "data": {
      "text/html": [
       "<div>\n",
       "<style scoped>\n",
       "    .dataframe tbody tr th:only-of-type {\n",
       "        vertical-align: middle;\n",
       "    }\n",
       "\n",
       "    .dataframe tbody tr th {\n",
       "        vertical-align: top;\n",
       "    }\n",
       "\n",
       "    .dataframe thead th {\n",
       "        text-align: right;\n",
       "    }\n",
       "</style>\n",
       "<table border=\"1\" class=\"dataframe\">\n",
       "  <thead>\n",
       "    <tr style=\"text-align: right;\">\n",
       "      <th></th>\n",
       "      <th>Entity</th>\n",
       "      <th>Code</th>\n",
       "      <th>Year</th>\n",
       "      <th>Land area (sq. km)</th>\n",
       "    </tr>\n",
       "  </thead>\n",
       "  <tbody>\n",
       "    <tr>\n",
       "      <th>0</th>\n",
       "      <td>Afghanistan</td>\n",
       "      <td>AFG</td>\n",
       "      <td>1961</td>\n",
       "      <td>652860.0</td>\n",
       "    </tr>\n",
       "    <tr>\n",
       "      <th>1</th>\n",
       "      <td>Afghanistan</td>\n",
       "      <td>AFG</td>\n",
       "      <td>1962</td>\n",
       "      <td>652860.0</td>\n",
       "    </tr>\n",
       "    <tr>\n",
       "      <th>2</th>\n",
       "      <td>Afghanistan</td>\n",
       "      <td>AFG</td>\n",
       "      <td>1963</td>\n",
       "      <td>652860.0</td>\n",
       "    </tr>\n",
       "    <tr>\n",
       "      <th>3</th>\n",
       "      <td>Afghanistan</td>\n",
       "      <td>AFG</td>\n",
       "      <td>1964</td>\n",
       "      <td>652860.0</td>\n",
       "    </tr>\n",
       "    <tr>\n",
       "      <th>4</th>\n",
       "      <td>Afghanistan</td>\n",
       "      <td>AFG</td>\n",
       "      <td>1965</td>\n",
       "      <td>652860.0</td>\n",
       "    </tr>\n",
       "  </tbody>\n",
       "</table>\n",
       "</div>"
      ],
      "text/plain": [
       "        Entity Code  Year  Land area (sq. km)\n",
       "0  Afghanistan  AFG  1961            652860.0\n",
       "1  Afghanistan  AFG  1962            652860.0\n",
       "2  Afghanistan  AFG  1963            652860.0\n",
       "3  Afghanistan  AFG  1964            652860.0\n",
       "4  Afghanistan  AFG  1965            652860.0"
      ]
     },
     "execution_count": 235,
     "metadata": {},
     "output_type": "execute_result"
    }
   ],
   "source": [
    "la_df = pd.read_csv(\"data/land-area-km.csv\")\n",
    "la_df.head()"
   ]
  },
  {
   "cell_type": "markdown",
   "id": "2b8bbe97",
   "metadata": {},
   "source": [
    "### Our World in Data population dataset"
   ]
  },
  {
   "cell_type": "code",
   "execution_count": 236,
   "id": "44660e36",
   "metadata": {},
   "outputs": [
    {
     "data": {
      "text/html": [
       "<div>\n",
       "<style scoped>\n",
       "    .dataframe tbody tr th:only-of-type {\n",
       "        vertical-align: middle;\n",
       "    }\n",
       "\n",
       "    .dataframe tbody tr th {\n",
       "        vertical-align: top;\n",
       "    }\n",
       "\n",
       "    .dataframe thead th {\n",
       "        text-align: right;\n",
       "    }\n",
       "</style>\n",
       "<table border=\"1\" class=\"dataframe\">\n",
       "  <thead>\n",
       "    <tr style=\"text-align: right;\">\n",
       "      <th></th>\n",
       "      <th>Entity</th>\n",
       "      <th>Code</th>\n",
       "      <th>Year</th>\n",
       "      <th>Population (historical estimates)</th>\n",
       "    </tr>\n",
       "  </thead>\n",
       "  <tbody>\n",
       "    <tr>\n",
       "      <th>0</th>\n",
       "      <td>Afghanistan</td>\n",
       "      <td>AFG</td>\n",
       "      <td>-10000</td>\n",
       "      <td>14737</td>\n",
       "    </tr>\n",
       "    <tr>\n",
       "      <th>1</th>\n",
       "      <td>Afghanistan</td>\n",
       "      <td>AFG</td>\n",
       "      <td>-9000</td>\n",
       "      <td>20405</td>\n",
       "    </tr>\n",
       "    <tr>\n",
       "      <th>2</th>\n",
       "      <td>Afghanistan</td>\n",
       "      <td>AFG</td>\n",
       "      <td>-8000</td>\n",
       "      <td>28253</td>\n",
       "    </tr>\n",
       "    <tr>\n",
       "      <th>3</th>\n",
       "      <td>Afghanistan</td>\n",
       "      <td>AFG</td>\n",
       "      <td>-7000</td>\n",
       "      <td>39120</td>\n",
       "    </tr>\n",
       "    <tr>\n",
       "      <th>4</th>\n",
       "      <td>Afghanistan</td>\n",
       "      <td>AFG</td>\n",
       "      <td>-6000</td>\n",
       "      <td>54166</td>\n",
       "    </tr>\n",
       "  </tbody>\n",
       "</table>\n",
       "</div>"
      ],
      "text/plain": [
       "        Entity Code   Year  Population (historical estimates)\n",
       "0  Afghanistan  AFG -10000                              14737\n",
       "1  Afghanistan  AFG  -9000                              20405\n",
       "2  Afghanistan  AFG  -8000                              28253\n",
       "3  Afghanistan  AFG  -7000                              39120\n",
       "4  Afghanistan  AFG  -6000                              54166"
      ]
     },
     "execution_count": 236,
     "metadata": {},
     "output_type": "execute_result"
    }
   ],
   "source": [
    "pop_df = pd.read_csv(\"data/population.csv\")\n",
    "pop_df.head()"
   ]
  },
  {
   "cell_type": "markdown",
   "id": "c3ffb528",
   "metadata": {},
   "source": [
    "# <br/> Data Processing and Visualization"
   ]
  },
  {
   "cell_type": "markdown",
   "id": "419bac68",
   "metadata": {},
   "source": [
    "### Prepare datasets for merging"
   ]
  },
  {
   "cell_type": "markdown",
   "id": "1aa49a14",
   "metadata": {},
   "source": [
    "#### Rename EM-DAT ISO column to match the name of the same column in the CO2 dataset:"
   ]
  },
  {
   "cell_type": "code",
   "execution_count": 237,
   "id": "10c0954a",
   "metadata": {},
   "outputs": [
    {
     "data": {
      "text/html": [
       "<div>\n",
       "<style scoped>\n",
       "    .dataframe tbody tr th:only-of-type {\n",
       "        vertical-align: middle;\n",
       "    }\n",
       "\n",
       "    .dataframe tbody tr th {\n",
       "        vertical-align: top;\n",
       "    }\n",
       "\n",
       "    .dataframe thead th {\n",
       "        text-align: right;\n",
       "    }\n",
       "</style>\n",
       "<table border=\"1\" class=\"dataframe\">\n",
       "  <thead>\n",
       "    <tr style=\"text-align: right;\">\n",
       "      <th></th>\n",
       "      <th>Country</th>\n",
       "      <th>Code</th>\n",
       "      <th>Disaster count</th>\n",
       "      <th>Continent</th>\n",
       "    </tr>\n",
       "  </thead>\n",
       "  <tbody>\n",
       "    <tr>\n",
       "      <th>0</th>\n",
       "      <td>China</td>\n",
       "      <td>CHN</td>\n",
       "      <td>436</td>\n",
       "      <td>Asia</td>\n",
       "    </tr>\n",
       "    <tr>\n",
       "      <th>1</th>\n",
       "      <td>Afghanistan</td>\n",
       "      <td>AFG</td>\n",
       "      <td>92</td>\n",
       "      <td>Asia</td>\n",
       "    </tr>\n",
       "    <tr>\n",
       "      <th>2</th>\n",
       "      <td>Bangladesh</td>\n",
       "      <td>BGD</td>\n",
       "      <td>105</td>\n",
       "      <td>Asia</td>\n",
       "    </tr>\n",
       "    <tr>\n",
       "      <th>3</th>\n",
       "      <td>Bolivia (Plurinational State of)</td>\n",
       "      <td>BOL</td>\n",
       "      <td>48</td>\n",
       "      <td>Americas</td>\n",
       "    </tr>\n",
       "    <tr>\n",
       "      <th>4</th>\n",
       "      <td>Brazil</td>\n",
       "      <td>BRA</td>\n",
       "      <td>104</td>\n",
       "      <td>Americas</td>\n",
       "    </tr>\n",
       "  </tbody>\n",
       "</table>\n",
       "</div>"
      ],
      "text/plain": [
       "                            Country Code  Disaster count Continent\n",
       "0                             China  CHN             436      Asia\n",
       "1                       Afghanistan  AFG              92      Asia\n",
       "2                        Bangladesh  BGD             105      Asia\n",
       "3  Bolivia (Plurinational State of)  BOL              48  Americas\n",
       "4                            Brazil  BRA             104  Americas"
      ]
     },
     "execution_count": 237,
     "metadata": {},
     "output_type": "execute_result"
    }
   ],
   "source": [
    "emdat_df.rename(columns = {\"ISO\": \"Code\"}, inplace=True)\n",
    "emdat_df.head()"
   ]
  },
  {
   "cell_type": "markdown",
   "id": "1e9536d7",
   "metadata": {},
   "source": [
    "#### Get only the latest value of country land area from the land area dataset:"
   ]
  },
  {
   "cell_type": "code",
   "execution_count": 238,
   "id": "4d0cb8fe",
   "metadata": {},
   "outputs": [
    {
     "data": {
      "text/plain": [
       "array([1961, 1962, 1963, 1964, 1965, 1966, 1967, 1968, 1969, 1970, 1971,\n",
       "       1972, 1973, 1974, 1975, 1976, 1977, 1978, 1979, 1980, 1981, 1982,\n",
       "       1983, 1984, 1985, 1986, 1987, 1988, 1989, 1990, 1991, 1992, 1993,\n",
       "       1994, 1995, 1996, 1997, 1998, 1999, 2000, 2001, 2002, 2003, 2004,\n",
       "       2005, 2006, 2007, 2008, 2009, 2010, 2011, 2012, 2013, 2014, 2015,\n",
       "       2016, 2017, 2018, 2019, 2020, 2021])"
      ]
     },
     "execution_count": 238,
     "metadata": {},
     "output_type": "execute_result"
    }
   ],
   "source": [
    "la_df[\"Year\"].unique()"
   ]
  },
  {
   "cell_type": "code",
   "execution_count": 239,
   "id": "ce67218b",
   "metadata": {},
   "outputs": [
    {
     "data": {
      "text/plain": [
       "array([2021])"
      ]
     },
     "execution_count": 239,
     "metadata": {},
     "output_type": "execute_result"
    }
   ],
   "source": [
    "la_df = la_df[la_df[\"Year\"] == 2021]\n",
    "la_df[\"Year\"].unique()"
   ]
  },
  {
   "cell_type": "code",
   "execution_count": 240,
   "id": "7e7b3b93",
   "metadata": {},
   "outputs": [
    {
     "data": {
      "text/plain": [
       "Entity                 object\n",
       "Code                   object\n",
       "Year                    int64\n",
       "Land area (sq. km)    float64\n",
       "dtype: object"
      ]
     },
     "execution_count": 240,
     "metadata": {},
     "output_type": "execute_result"
    }
   ],
   "source": [
    "la_df.dtypes"
   ]
  },
  {
   "cell_type": "code",
   "execution_count": 241,
   "id": "bd96377d",
   "metadata": {},
   "outputs": [],
   "source": [
    "la_df[\"Land area (sq. km)\"] = la_df[\"Land area (sq. km)\"].astype(\"int64\")"
   ]
  },
  {
   "cell_type": "code",
   "execution_count": 242,
   "id": "4e66ef48",
   "metadata": {},
   "outputs": [
    {
     "data": {
      "text/html": [
       "<div>\n",
       "<style scoped>\n",
       "    .dataframe tbody tr th:only-of-type {\n",
       "        vertical-align: middle;\n",
       "    }\n",
       "\n",
       "    .dataframe tbody tr th {\n",
       "        vertical-align: top;\n",
       "    }\n",
       "\n",
       "    .dataframe thead th {\n",
       "        text-align: right;\n",
       "    }\n",
       "</style>\n",
       "<table border=\"1\" class=\"dataframe\">\n",
       "  <thead>\n",
       "    <tr style=\"text-align: right;\">\n",
       "      <th></th>\n",
       "      <th>Entity</th>\n",
       "      <th>Code</th>\n",
       "      <th>Year</th>\n",
       "      <th>Land area (sq. km)</th>\n",
       "    </tr>\n",
       "  </thead>\n",
       "  <tbody>\n",
       "    <tr>\n",
       "      <th>60</th>\n",
       "      <td>Afghanistan</td>\n",
       "      <td>AFG</td>\n",
       "      <td>2021</td>\n",
       "      <td>652860</td>\n",
       "    </tr>\n",
       "    <tr>\n",
       "      <th>121</th>\n",
       "      <td>Albania</td>\n",
       "      <td>ALB</td>\n",
       "      <td>2021</td>\n",
       "      <td>27400</td>\n",
       "    </tr>\n",
       "    <tr>\n",
       "      <th>182</th>\n",
       "      <td>Algeria</td>\n",
       "      <td>DZA</td>\n",
       "      <td>2021</td>\n",
       "      <td>2381741</td>\n",
       "    </tr>\n",
       "    <tr>\n",
       "      <th>243</th>\n",
       "      <td>American Samoa</td>\n",
       "      <td>ASM</td>\n",
       "      <td>2021</td>\n",
       "      <td>200</td>\n",
       "    </tr>\n",
       "    <tr>\n",
       "      <th>304</th>\n",
       "      <td>Andorra</td>\n",
       "      <td>AND</td>\n",
       "      <td>2021</td>\n",
       "      <td>470</td>\n",
       "    </tr>\n",
       "  </tbody>\n",
       "</table>\n",
       "</div>"
      ],
      "text/plain": [
       "             Entity Code  Year  Land area (sq. km)\n",
       "60      Afghanistan  AFG  2021              652860\n",
       "121         Albania  ALB  2021               27400\n",
       "182         Algeria  DZA  2021             2381741\n",
       "243  American Samoa  ASM  2021                 200\n",
       "304         Andorra  AND  2021                 470"
      ]
     },
     "execution_count": 242,
     "metadata": {},
     "output_type": "execute_result"
    }
   ],
   "source": [
    "la_df.head()"
   ]
  },
  {
   "cell_type": "markdown",
   "id": "4fd328f3",
   "metadata": {},
   "source": [
    "#### Get only the latest value of country population from the population dataset:"
   ]
  },
  {
   "cell_type": "code",
   "execution_count": 243,
   "id": "058bd666",
   "metadata": {},
   "outputs": [
    {
     "data": {
      "text/plain": [
       "array([2021])"
      ]
     },
     "execution_count": 243,
     "metadata": {},
     "output_type": "execute_result"
    }
   ],
   "source": [
    "pop_df = pop_df[pop_df[\"Year\"] == 2021]\n",
    "pop_df[\"Year\"].unique()"
   ]
  },
  {
   "cell_type": "code",
   "execution_count": 244,
   "id": "4421dbaf",
   "metadata": {},
   "outputs": [],
   "source": [
    "pop_df.rename(columns={\"Population (historical estimates)\": \"Population\"}, inplace=True)"
   ]
  },
  {
   "cell_type": "code",
   "execution_count": 245,
   "id": "2af0af79",
   "metadata": {},
   "outputs": [
    {
     "data": {
      "text/plain": [
       "Entity        object\n",
       "Code          object\n",
       "Year           int64\n",
       "Population     int64\n",
       "dtype: object"
      ]
     },
     "execution_count": 245,
     "metadata": {},
     "output_type": "execute_result"
    }
   ],
   "source": [
    "pop_df.dtypes"
   ]
  },
  {
   "cell_type": "markdown",
   "id": "35a0d61c",
   "metadata": {},
   "source": [
    "### Data subset choice on the CO2 dataset (to match the subset used for the EM-DAT data in its separate [data exploration notebook](https://github.com/NLSanyu/CA682-Data-Visualization-Assignment/blob/main/EM-DAT%20Data%20Exploration.ipynb))"
   ]
  },
  {
   "cell_type": "code",
   "execution_count": 246,
   "id": "09f14e4a",
   "metadata": {},
   "outputs": [],
   "source": [
    "chosen_years = [\n",
    "    2000, 2001, 2002, 2003, 2004, 2005, 2006, 2007, 2008, 2009, 2010, \n",
    "    2011, 2012, 2013, 2014, 2015, 2016, 2017, 2018, 2019, 2020, 2021\n",
    "]"
   ]
  },
  {
   "cell_type": "code",
   "execution_count": 247,
   "id": "e087cdb4",
   "metadata": {},
   "outputs": [
    {
     "data": {
      "text/html": [
       "<div>\n",
       "<style scoped>\n",
       "    .dataframe tbody tr th:only-of-type {\n",
       "        vertical-align: middle;\n",
       "    }\n",
       "\n",
       "    .dataframe tbody tr th {\n",
       "        vertical-align: top;\n",
       "    }\n",
       "\n",
       "    .dataframe thead th {\n",
       "        text-align: right;\n",
       "    }\n",
       "</style>\n",
       "<table border=\"1\" class=\"dataframe\">\n",
       "  <thead>\n",
       "    <tr style=\"text-align: right;\">\n",
       "      <th></th>\n",
       "      <th>Entity</th>\n",
       "      <th>Code</th>\n",
       "      <th>Year</th>\n",
       "      <th>Annual CO₂ emissions (per capita)</th>\n",
       "    </tr>\n",
       "  </thead>\n",
       "  <tbody>\n",
       "    <tr>\n",
       "      <th>51</th>\n",
       "      <td>Afghanistan</td>\n",
       "      <td>AFG</td>\n",
       "      <td>2000</td>\n",
       "      <td>0.053581</td>\n",
       "    </tr>\n",
       "    <tr>\n",
       "      <th>52</th>\n",
       "      <td>Afghanistan</td>\n",
       "      <td>AFG</td>\n",
       "      <td>2001</td>\n",
       "      <td>0.054300</td>\n",
       "    </tr>\n",
       "    <tr>\n",
       "      <th>53</th>\n",
       "      <td>Afghanistan</td>\n",
       "      <td>AFG</td>\n",
       "      <td>2002</td>\n",
       "      <td>0.063856</td>\n",
       "    </tr>\n",
       "    <tr>\n",
       "      <th>54</th>\n",
       "      <td>Afghanistan</td>\n",
       "      <td>AFG</td>\n",
       "      <td>2003</td>\n",
       "      <td>0.068871</td>\n",
       "    </tr>\n",
       "    <tr>\n",
       "      <th>55</th>\n",
       "      <td>Afghanistan</td>\n",
       "      <td>AFG</td>\n",
       "      <td>2004</td>\n",
       "      <td>0.052529</td>\n",
       "    </tr>\n",
       "  </tbody>\n",
       "</table>\n",
       "</div>"
      ],
      "text/plain": [
       "         Entity Code  Year  Annual CO₂ emissions (per capita)\n",
       "51  Afghanistan  AFG  2000                           0.053581\n",
       "52  Afghanistan  AFG  2001                           0.054300\n",
       "53  Afghanistan  AFG  2002                           0.063856\n",
       "54  Afghanistan  AFG  2003                           0.068871\n",
       "55  Afghanistan  AFG  2004                           0.052529"
      ]
     },
     "execution_count": 247,
     "metadata": {},
     "output_type": "execute_result"
    }
   ],
   "source": [
    "co2_df = co2_df[co2_df[\"Year\"].isin(chosen_years)]\n",
    "co2_df.head()"
   ]
  },
  {
   "cell_type": "code",
   "execution_count": 248,
   "id": "3b95c536",
   "metadata": {},
   "outputs": [
    {
     "data": {
      "text/plain": [
       "array([2000, 2001, 2002, 2003, 2004, 2005, 2006, 2007, 2008, 2009, 2010,\n",
       "       2011, 2012, 2013, 2014, 2015, 2016, 2017, 2018, 2019, 2020, 2021])"
      ]
     },
     "execution_count": 248,
     "metadata": {},
     "output_type": "execute_result"
    }
   ],
   "source": [
    "co2_df[\"Year\"].unique()"
   ]
  },
  {
   "cell_type": "markdown",
   "id": "1c8e6ce6",
   "metadata": {},
   "source": [
    "### Method 1: Merge the datasets using Pandas"
   ]
  },
  {
   "cell_type": "markdown",
   "id": "d97691b2",
   "metadata": {},
   "source": [
    "#### First group the emissions data by country then exctract the max emissions value for each country"
   ]
  },
  {
   "cell_type": "code",
   "execution_count": 249,
   "id": "af7b7d92",
   "metadata": {},
   "outputs": [
    {
     "data": {
      "text/html": [
       "<div>\n",
       "<style scoped>\n",
       "    .dataframe tbody tr th:only-of-type {\n",
       "        vertical-align: middle;\n",
       "    }\n",
       "\n",
       "    .dataframe tbody tr th {\n",
       "        vertical-align: top;\n",
       "    }\n",
       "\n",
       "    .dataframe thead th {\n",
       "        text-align: right;\n",
       "    }\n",
       "</style>\n",
       "<table border=\"1\" class=\"dataframe\">\n",
       "  <thead>\n",
       "    <tr style=\"text-align: right;\">\n",
       "      <th></th>\n",
       "      <th>Entity</th>\n",
       "      <th>Code</th>\n",
       "      <th>Highest annual CO₂ emissions (tonnes per capita)</th>\n",
       "    </tr>\n",
       "  </thead>\n",
       "  <tbody>\n",
       "    <tr>\n",
       "      <th>0</th>\n",
       "      <td>Afghanistan</td>\n",
       "      <td>AFG</td>\n",
       "      <td>0.404740</td>\n",
       "    </tr>\n",
       "    <tr>\n",
       "      <th>1</th>\n",
       "      <td>Albania</td>\n",
       "      <td>ALB</td>\n",
       "      <td>2.080253</td>\n",
       "    </tr>\n",
       "    <tr>\n",
       "      <th>2</th>\n",
       "      <td>Algeria</td>\n",
       "      <td>DZA</td>\n",
       "      <td>4.203331</td>\n",
       "    </tr>\n",
       "    <tr>\n",
       "      <th>3</th>\n",
       "      <td>Andorra</td>\n",
       "      <td>AND</td>\n",
       "      <td>7.924738</td>\n",
       "    </tr>\n",
       "    <tr>\n",
       "      <th>4</th>\n",
       "      <td>Angola</td>\n",
       "      <td>AGO</td>\n",
       "      <td>1.250241</td>\n",
       "    </tr>\n",
       "  </tbody>\n",
       "</table>\n",
       "</div>"
      ],
      "text/plain": [
       "        Entity Code  Highest annual CO₂ emissions (tonnes per capita)\n",
       "0  Afghanistan  AFG                                          0.404740\n",
       "1      Albania  ALB                                          2.080253\n",
       "2      Algeria  DZA                                          4.203331\n",
       "3      Andorra  AND                                          7.924738\n",
       "4       Angola  AGO                                          1.250241"
      ]
     },
     "execution_count": 249,
     "metadata": {},
     "output_type": "execute_result"
    }
   ],
   "source": [
    "co2_agg = co2_df.groupby(by=[\"Entity\", \"Code\"]).agg({\"Annual CO₂ emissions (per capita)\": \"max\"})\n",
    "co2_agg.reset_index(inplace=True)\n",
    "co2_agg.rename(columns={\"Annual CO₂ emissions (per capita)\": \"Highest annual CO₂ emissions (tonnes per capita)\"}, inplace=True)\n",
    "co2_agg.head()"
   ]
  },
  {
   "cell_type": "markdown",
   "id": "bd73ac5b",
   "metadata": {},
   "source": [
    "#### Merge the disaster dataset with the CO2 dataset"
   ]
  },
  {
   "cell_type": "code",
   "execution_count": 250,
   "id": "4593af70",
   "metadata": {},
   "outputs": [
    {
     "data": {
      "text/html": [
       "<div>\n",
       "<style scoped>\n",
       "    .dataframe tbody tr th:only-of-type {\n",
       "        vertical-align: middle;\n",
       "    }\n",
       "\n",
       "    .dataframe tbody tr th {\n",
       "        vertical-align: top;\n",
       "    }\n",
       "\n",
       "    .dataframe thead th {\n",
       "        text-align: right;\n",
       "    }\n",
       "</style>\n",
       "<table border=\"1\" class=\"dataframe\">\n",
       "  <thead>\n",
       "    <tr style=\"text-align: right;\">\n",
       "      <th></th>\n",
       "      <th>Entity</th>\n",
       "      <th>Code</th>\n",
       "      <th>Highest annual CO₂ emissions (tonnes per capita)</th>\n",
       "      <th>Country</th>\n",
       "      <th>Disaster count</th>\n",
       "      <th>Continent</th>\n",
       "    </tr>\n",
       "  </thead>\n",
       "  <tbody>\n",
       "    <tr>\n",
       "      <th>0</th>\n",
       "      <td>Afghanistan</td>\n",
       "      <td>AFG</td>\n",
       "      <td>0.404740</td>\n",
       "      <td>Afghanistan</td>\n",
       "      <td>92</td>\n",
       "      <td>Asia</td>\n",
       "    </tr>\n",
       "    <tr>\n",
       "      <th>1</th>\n",
       "      <td>Albania</td>\n",
       "      <td>ALB</td>\n",
       "      <td>2.080253</td>\n",
       "      <td>Albania</td>\n",
       "      <td>15</td>\n",
       "      <td>Europe</td>\n",
       "    </tr>\n",
       "    <tr>\n",
       "      <th>2</th>\n",
       "      <td>Algeria</td>\n",
       "      <td>DZA</td>\n",
       "      <td>4.203331</td>\n",
       "      <td>Algeria</td>\n",
       "      <td>38</td>\n",
       "      <td>Africa</td>\n",
       "    </tr>\n",
       "    <tr>\n",
       "      <th>3</th>\n",
       "      <td>Angola</td>\n",
       "      <td>AGO</td>\n",
       "      <td>1.250241</td>\n",
       "      <td>Angola</td>\n",
       "      <td>49</td>\n",
       "      <td>Africa</td>\n",
       "    </tr>\n",
       "    <tr>\n",
       "      <th>4</th>\n",
       "      <td>Anguilla</td>\n",
       "      <td>AIA</td>\n",
       "      <td>11.973856</td>\n",
       "      <td>Anguilla</td>\n",
       "      <td>1</td>\n",
       "      <td>Americas</td>\n",
       "    </tr>\n",
       "  </tbody>\n",
       "</table>\n",
       "</div>"
      ],
      "text/plain": [
       "        Entity Code  Highest annual CO₂ emissions (tonnes per capita)  \\\n",
       "0  Afghanistan  AFG                                          0.404740   \n",
       "1      Albania  ALB                                          2.080253   \n",
       "2      Algeria  DZA                                          4.203331   \n",
       "3       Angola  AGO                                          1.250241   \n",
       "4     Anguilla  AIA                                         11.973856   \n",
       "\n",
       "       Country  Disaster count Continent  \n",
       "0  Afghanistan              92      Asia  \n",
       "1      Albania              15    Europe  \n",
       "2      Algeria              38    Africa  \n",
       "3       Angola              49    Africa  \n",
       "4     Anguilla               1  Americas  "
      ]
     },
     "execution_count": 250,
     "metadata": {},
     "output_type": "execute_result"
    }
   ],
   "source": [
    "merged_df_1 = co2_agg.merge(emdat_df, how=\"inner\", on=\"Code\")\n",
    "merged_df_1.head()"
   ]
  },
  {
   "cell_type": "markdown",
   "id": "b36fbfc2",
   "metadata": {},
   "source": [
    "#### Merge the resulting dataset with the land area dataset"
   ]
  },
  {
   "cell_type": "code",
   "execution_count": 251,
   "id": "9681ebb6",
   "metadata": {},
   "outputs": [
    {
     "data": {
      "text/plain": [
       "0      40099460\n",
       "1       2854710\n",
       "2      44177964\n",
       "3      34503776\n",
       "4         15779\n",
       "         ...   \n",
       "195    97468024\n",
       "196       11654\n",
       "197    32981644\n",
       "198    19473132\n",
       "199    15993525\n",
       "Name: Population, Length: 200, dtype: int64"
      ]
     },
     "execution_count": 251,
     "metadata": {},
     "output_type": "execute_result"
    }
   ],
   "source": [
    "merged_df_2 = merged_df_1.merge(pop_df)\n",
    "merged_df_2[\"Population\"]"
   ]
  },
  {
   "cell_type": "code",
   "execution_count": 252,
   "id": "e6aaf968",
   "metadata": {},
   "outputs": [
    {
     "data": {
      "text/html": [
       "<div>\n",
       "<style scoped>\n",
       "    .dataframe tbody tr th:only-of-type {\n",
       "        vertical-align: middle;\n",
       "    }\n",
       "\n",
       "    .dataframe tbody tr th {\n",
       "        vertical-align: top;\n",
       "    }\n",
       "\n",
       "    .dataframe thead th {\n",
       "        text-align: right;\n",
       "    }\n",
       "</style>\n",
       "<table border=\"1\" class=\"dataframe\">\n",
       "  <thead>\n",
       "    <tr style=\"text-align: right;\">\n",
       "      <th></th>\n",
       "      <th>Entity</th>\n",
       "      <th>Code</th>\n",
       "      <th>Highest annual CO₂ emissions (tonnes per capita)</th>\n",
       "      <th>Country</th>\n",
       "      <th>Disaster count</th>\n",
       "      <th>Continent</th>\n",
       "      <th>Year</th>\n",
       "      <th>Population</th>\n",
       "    </tr>\n",
       "  </thead>\n",
       "  <tbody>\n",
       "    <tr>\n",
       "      <th>0</th>\n",
       "      <td>Afghanistan</td>\n",
       "      <td>AFG</td>\n",
       "      <td>0.404740</td>\n",
       "      <td>Afghanistan</td>\n",
       "      <td>92</td>\n",
       "      <td>Asia</td>\n",
       "      <td>2021</td>\n",
       "      <td>40099460</td>\n",
       "    </tr>\n",
       "    <tr>\n",
       "      <th>1</th>\n",
       "      <td>Albania</td>\n",
       "      <td>ALB</td>\n",
       "      <td>2.080253</td>\n",
       "      <td>Albania</td>\n",
       "      <td>15</td>\n",
       "      <td>Europe</td>\n",
       "      <td>2021</td>\n",
       "      <td>2854710</td>\n",
       "    </tr>\n",
       "    <tr>\n",
       "      <th>2</th>\n",
       "      <td>Algeria</td>\n",
       "      <td>DZA</td>\n",
       "      <td>4.203331</td>\n",
       "      <td>Algeria</td>\n",
       "      <td>38</td>\n",
       "      <td>Africa</td>\n",
       "      <td>2021</td>\n",
       "      <td>44177964</td>\n",
       "    </tr>\n",
       "    <tr>\n",
       "      <th>3</th>\n",
       "      <td>Angola</td>\n",
       "      <td>AGO</td>\n",
       "      <td>1.250241</td>\n",
       "      <td>Angola</td>\n",
       "      <td>49</td>\n",
       "      <td>Africa</td>\n",
       "      <td>2021</td>\n",
       "      <td>34503776</td>\n",
       "    </tr>\n",
       "    <tr>\n",
       "      <th>4</th>\n",
       "      <td>Anguilla</td>\n",
       "      <td>AIA</td>\n",
       "      <td>11.973856</td>\n",
       "      <td>Anguilla</td>\n",
       "      <td>1</td>\n",
       "      <td>Americas</td>\n",
       "      <td>2021</td>\n",
       "      <td>15779</td>\n",
       "    </tr>\n",
       "  </tbody>\n",
       "</table>\n",
       "</div>"
      ],
      "text/plain": [
       "        Entity Code  Highest annual CO₂ emissions (tonnes per capita)  \\\n",
       "0  Afghanistan  AFG                                          0.404740   \n",
       "1      Albania  ALB                                          2.080253   \n",
       "2      Algeria  DZA                                          4.203331   \n",
       "3       Angola  AGO                                          1.250241   \n",
       "4     Anguilla  AIA                                         11.973856   \n",
       "\n",
       "       Country  Disaster count Continent  Year  Population  \n",
       "0  Afghanistan              92      Asia  2021    40099460  \n",
       "1      Albania              15    Europe  2021     2854710  \n",
       "2      Algeria              38    Africa  2021    44177964  \n",
       "3       Angola              49    Africa  2021    34503776  \n",
       "4     Anguilla               1  Americas  2021       15779  "
      ]
     },
     "execution_count": 252,
     "metadata": {},
     "output_type": "execute_result"
    }
   ],
   "source": [
    "merged_df_2.head()"
   ]
  },
  {
   "cell_type": "markdown",
   "id": "75de838e",
   "metadata": {},
   "source": [
    "#### Bubble chart on merged data"
   ]
  },
  {
   "cell_type": "code",
   "execution_count": 253,
   "id": "3ac6ea78",
   "metadata": {},
   "outputs": [
    {
     "data": {
      "application/vnd.plotly.v1+json": {
       "config": {
        "plotlyServerURL": "https://plot.ly"
       },
       "data": [
        {
         "hovertemplate": "<b>%{hovertext}</b><br><br>Continent=Asia<br>Highest annual CO₂ emissions (tonnes per capita)=%{x}<br>Disaster count=%{y}<br>Population=%{marker.size}<extra></extra>",
         "hovertext": [
          "Afghanistan",
          "Armenia",
          "Azerbaijan",
          "Bangladesh",
          "Bhutan",
          "Cambodia",
          "China",
          "Cyprus",
          "Georgia",
          "Hong Kong",
          "India",
          "Indonesia",
          "Iran (Islamic Republic of)",
          "Iraq",
          "Israel",
          "Japan",
          "Jordan",
          "Kazakhstan",
          "Kuwait",
          "Kyrgyzstan",
          "Lao People's Democratic Republic (the)",
          "Lebanon",
          "Macao",
          "Malaysia",
          "Maldives",
          "Mongolia",
          "Myanmar",
          "Nepal",
          "Korea (the Democratic People's Republic of)",
          "Oman",
          "Pakistan",
          "Palestine, State of",
          "Philippines (the)",
          "Qatar",
          "Saudi Arabia",
          "Korea (the Republic of)",
          "Sri Lanka",
          "Syrian Arab Republic",
          "Taiwan (Province of China)",
          "Tajikistan",
          "Thailand",
          "Timor-Leste",
          "Turkey",
          "United Arab Emirates (the)",
          "Uzbekistan",
          "Viet Nam",
          "Yemen"
         ],
         "legendgroup": "Asia",
         "marker": {
          "color": "#636efa",
          "size": [
           40099460,
           2790971,
           10312992,
           169356240,
           777500,
           16589031,
           1425893504,
           1244193,
           3757984,
           7494580,
           1407563904,
           273753184,
           87923432,
           43533592,
           8900057,
           124612528,
           11148288,
           19196468,
           4250111,
           6527742,
           7425055,
           5592626,
           686616,
           33573872,
           521469,
           3347782,
           53798088,
           30034988,
           25971910,
           4520474,
           231402112,
           5133393,
           113880336,
           2688239,
           35950396,
           51830136,
           21773438,
           21324366,
           23859904,
           9750078,
           71601104,
           1320944,
           84775408,
           9365149,
           34081452,
           97468024,
           32981644
          ],
          "sizemode": "area",
          "sizeref": 570357.4016,
          "symbol": "circle"
         },
         "mode": "markers",
         "name": "Asia",
         "orientation": "v",
         "showlegend": true,
         "type": "scatter",
         "x": [
          0.40474042,
          2.4385939,
          4.4627414,
          0.553767,
          1.9576669,
          1.1470591,
          8.04574,
          7.9798894,
          2.929708,
          6.304073,
          1.9250876,
          2.4461334,
          8.517396,
          5.34339,
          10.103195,
          10.303727,
          3.598951,
          17.899391,
          31.835678,
          1.7842895,
          2.893467,
          4.5660133,
          3.8381433,
          8.2436075,
          4.0619364,
          15.2814045,
          0.67552847,
          0.52034104,
          3.1428845,
          17.916525,
          0.9989776,
          0.7739392,
          1.3157338,
          62.258972,
          20.728325,
          12.968438,
          1.0745894,
          3.174369,
          12.195806,
          1.060136,
          4.1731873,
          0.5574256,
          5.263368,
          34.12993,
          4.9852676,
          3.560416,
          1.00923
         ],
         "xaxis": "x",
         "y": [
          92,
          6,
          4,
          105,
          4,
          29,
          436,
          5,
          18,
          13,
          284,
          192,
          51,
          15,
          9,
          107,
          5,
          14,
          1,
          6,
          23,
          9,
          2,
          60,
          3,
          19,
          33,
          37,
          33,
          14,
          91,
          7,
          278,
          1,
          23,
          50,
          60,
          10,
          54,
          29,
          90,
          10,
          41,
          1,
          3,
          158,
          35
         ],
         "yaxis": "y"
        },
        {
         "hovertemplate": "<b>%{hovertext}</b><br><br>Continent=Europe<br>Highest annual CO₂ emissions (tonnes per capita)=%{x}<br>Disaster count=%{y}<br>Population=%{marker.size}<extra></extra>",
         "hovertext": [
          "Albania",
          "Austria",
          "Belarus",
          "Belgium",
          "Bosnia and Herzegovina",
          "Bulgaria",
          "Croatia",
          "Czech Republic (the)",
          "Denmark",
          "Estonia",
          "Finland",
          "France",
          "Germany",
          "Greece",
          "Hungary",
          "Ireland",
          "Italy",
          "Latvia",
          "Lithuania",
          "Luxembourg",
          "Moldova (the Republic of)",
          "Montenegro",
          "Netherlands (the)",
          "Macedonia (the former Yugoslav Republic of)",
          "Norway",
          "Poland",
          "Portugal",
          "Romania",
          "Russian Federation (the)",
          "Serbia",
          "Slovakia",
          "Slovenia",
          "Spain",
          "Sweden",
          "Switzerland",
          "Ukraine",
          "United Kingdom of Great Britain and Northern Ireland (the)"
         ],
         "legendgroup": "Europe",
         "marker": {
          "color": "#EF553B",
          "size": [
           2854710,
           8922086,
           9578172,
           11611416,
           3270948,
           6885864,
           4060139,
           10510748,
           5854246,
           1328704,
           5535982,
           64531448,
           83408560,
           10445368,
           9709784,
           4986525,
           59240336,
           1873926,
           2786652,
           639330,
           3061509,
           627856,
           17501696,
           2103329,
           5403021,
           38307724,
           10290109,
           19328558,
           145102752,
           7296771,
           5447621,
           2119408,
           47486932,
           10467095,
           8691409,
           43531424,
           67281040
          ],
          "sizemode": "area",
          "sizeref": 570357.4016,
          "symbol": "circle"
         },
         "mode": "markers",
         "name": "Europe",
         "orientation": "v",
         "showlegend": true,
         "type": "scatter",
         "x": [
          2.0802531,
          9.611983,
          6.616924,
          12.345596,
          6.4924054,
          7.220797,
          5.6435423,
          12.498537,
          11.238168,
          14.945469,
          13.937167,
          6.974761,
          11.239027,
          10.327349,
          6.103559,
          12.433371,
          8.668467,
          4.070399,
          4.981188,
          26.002728,
          1.8296566,
          4.125427,
          11.168892,
          5.886305,
          9.696402,
          8.764865,
          6.6766267,
          5.200805,
          12.09865,
          7.8049955,
          8.038924,
          8.986271,
          8.47116,
          6.401993,
          6.2396073,
          7.262556,
          9.780857
         ],
         "xaxis": "x",
         "y": [
          15,
          18,
          2,
          24,
          20,
          29,
          20,
          21,
          6,
          1,
          1,
          85,
          42,
          36,
          18,
          11,
          57,
          3,
          5,
          3,
          8,
          5,
          12,
          14,
          5,
          27,
          25,
          50,
          88,
          17,
          15,
          7,
          46,
          6,
          19,
          20,
          45
         ],
         "yaxis": "y"
        },
        {
         "hovertemplate": "<b>%{hovertext}</b><br><br>Continent=Africa<br>Highest annual CO₂ emissions (tonnes per capita)=%{x}<br>Disaster count=%{y}<br>Population=%{marker.size}<extra></extra>",
         "hovertext": [
          "Algeria",
          "Angola",
          "Benin",
          "Botswana",
          "Burkina Faso",
          "Burundi",
          "Cameroon",
          "Cabo Verde",
          "Central African Republic",
          "Chad",
          "Comoros (the)",
          "Congo (the)",
          "Côte d’Ivoire",
          "Congo (the Democratic Republic of the)",
          "Djibouti",
          "Egypt",
          "Eritrea",
          "Eswatini",
          "Ethiopia",
          "Gabon",
          "Gambia (the)",
          "Ghana",
          "Guinea",
          "Guinea-Bissau",
          "Kenya",
          "Lesotho",
          "Liberia",
          "Libya",
          "Madagascar",
          "Malawi",
          "Mali",
          "Mauritania",
          "Mauritius",
          "Morocco",
          "Mozambique",
          "Namibia",
          "Niger (the)",
          "Nigeria",
          "Réunion",
          "Rwanda",
          "Saint Helena, Ascension and Tristan da Cunha",
          "Sao Tome and Principe",
          "Senegal",
          "Seychelles",
          "Sierra Leone",
          "Somalia",
          "South Africa",
          "South Sudan",
          "Sudan (the)",
          "Tanzania, United Republic of",
          "Togo",
          "Tunisia",
          "Uganda",
          "Zambia",
          "Zimbabwe"
         ],
         "legendgroup": "Africa",
         "marker": {
          "color": "#00cc96",
          "size": [
           44177964,
           34503776,
           12996901,
           2588424,
           22100690,
           12551215,
           27198632,
           587936,
           5457165,
           17179744,
           821632,
           5835814,
           27478250,
           95894120,
           1105562,
           109262184,
           3620324,
           1192273,
           120283024,
           2341185,
           2639922,
           32833036,
           13531909,
           2060730,
           53005616,
           2281464,
           5193422,
           6735280,
           28915652,
           19889742,
           21904990,
           4614981,
           1298922,
           37076588,
           32077074,
           2530150,
           25252722,
           213401328,
           966132,
           13461891,
           5428,
           223118,
           16876726,
           106486,
           8420642,
           17065588,
           59392256,
           10748278,
           45657204,
           63588332,
           8644829,
           12262949,
           45853780,
           19473132,
           15993525
          ],
          "sizemode": "area",
          "sizeref": 570357.4016,
          "symbol": "circle"
         },
         "mode": "markers",
         "name": "Africa",
         "orientation": "v",
         "showlegend": true,
         "type": "scatter",
         "x": [
          4.2033315,
          1.2502408,
          0.6226188,
          3.0612,
          0.25783187,
          0.060455058,
          0.42805457,
          1.1668613,
          0.06384969,
          0.1381128,
          0.39373294,
          1.3205227,
          0.49487668,
          0.060904752,
          0.5728672,
          2.5553803,
          0.2783153,
          1.2515529,
          0.16033709,
          3.667544,
          0.25856218,
          0.64912677,
          0.35780457,
          0.17073512,
          0.37638173,
          1.505029,
          0.28766924,
          11.064882,
          0.15739256,
          0.085483655,
          0.19035652,
          0.8923355,
          3.5034227,
          1.9035642,
          0.30418453,
          1.7830753,
          0.1159208,
          0.78306425,
          5.0426593,
          0.14118028,
          2.6793418,
          0.6240786,
          0.8057197,
          5.8271527,
          0.15547383,
          0.062292345,
          9.789216,
          0.17085552,
          0.55511844,
          0.21785387,
          0.4283479,
          2.6186612,
          0.13997535,
          0.42148867,
          1.1676027
         ],
         "xaxis": "x",
         "y": [
          38,
          49,
          12,
          11,
          21,
          40,
          16,
          5,
          22,
          20,
          6,
          11,
          12,
          39,
          8,
          11,
          3,
          11,
          43,
          4,
          17,
          23,
          15,
          7,
          58,
          13,
          6,
          2,
          55,
          40,
          27,
          21,
          4,
          22,
          60,
          21,
          34,
          51,
          5,
          25,
          1,
          1,
          20,
          3,
          10,
          50,
          60,
          18,
          30,
          43,
          8,
          11,
          40,
          22,
          24
         ],
         "yaxis": "y"
        },
        {
         "hovertemplate": "<b>%{hovertext}</b><br><br>Continent=Americas<br>Highest annual CO₂ emissions (tonnes per capita)=%{x}<br>Disaster count=%{y}<br>Population=%{marker.size}<extra></extra>",
         "hovertext": [
          "Anguilla",
          "Antigua and Barbuda",
          "Argentina",
          "Bahamas (the)",
          "Barbados",
          "Belize",
          "Bermuda",
          "Bolivia (Plurinational State of)",
          "Brazil",
          "Virgin Island (British)",
          "Canada",
          "Chile",
          "Colombia",
          "Costa Rica",
          "Cuba",
          "Dominica",
          "Dominican Republic (the)",
          "Ecuador",
          "El Salvador",
          "French Guiana",
          "Grenada",
          "Guadeloupe",
          "Guatemala",
          "Guyana",
          "Haiti",
          "Honduras",
          "Jamaica",
          "Martinique",
          "Mexico",
          "Nicaragua",
          "Panama",
          "Paraguay",
          "Peru",
          "Saint Kitts and Nevis",
          "Saint Lucia",
          "Saint Vincent and the Grenadines",
          "Sint Maarten (Dutch part)",
          "Suriname",
          "Trinidad and Tobago",
          "Turks and Caicos Islands (the)",
          "United States of America (the)",
          "Uruguay",
          "Venezuela (Bolivarian Republic of)"
         ],
         "legendgroup": "Americas",
         "marker": {
          "color": "#ab63fa",
          "size": [
           15779,
           93229,
           45276788,
           407920,
           281204,
           400037,
           64213,
           12079474,
           214326224,
           31145,
           38155012,
           19493184,
           51516560,
           5153959,
           11256373,
           72435,
           11117873,
           17797736,
           6314165,
           297462,
           124624,
           396057,
           17608484,
           804571,
           11447575,
           10278346,
           2827701,
           368799,
           126705136,
           6850546,
           4351264,
           6703802,
           33715464,
           47631,
           179663,
           104340,
           44061,
           612989,
           1525671,
           45141,
           336997632,
           3426265,
           28199862
          ],
          "sizemode": "area",
          "sizeref": 570357.4016,
          "symbol": "circle"
         },
         "mode": "markers",
         "name": "Americas",
         "orientation": "v",
         "showlegend": true,
         "type": "scatter",
         "x": [
          11.973856,
          5.437388,
          4.670683,
          7.0114403,
          5.9133754,
          1.8173902,
          11.540431,
          2.0531883,
          2.7420719,
          7.632684,
          18.46901,
          4.8300643,
          2.0964537,
          1.7929502,
          3.0291004,
          2.6632166,
          2.6059487,
          2.7404044,
          1.1819563,
          3.4810603,
          2.6867204,
          6.4024734,
          1.1552123,
          4.002681,
          0.30614442,
          1.1278571,
          4.3043427,
          6.235224,
          4.494525,
          0.8622463,
          3.1705666,
          1.3204619,
          1.9560134,
          5.2957954,
          2.8927286,
          2.5349016,
          21.996424,
          5.0651007,
          33.296116,
          9.6157,
          21.304466,
          2.5486352,
          7.60914
         ],
         "xaxis": "x",
         "y": [
          1,
          3,
          60,
          15,
          6,
          12,
          1,
          48,
          104,
          2,
          61,
          37,
          75,
          27,
          37,
          4,
          49,
          24,
          30,
          1,
          3,
          2,
          50,
          7,
          77,
          45,
          20,
          3,
          122,
          37,
          36,
          30,
          50,
          2,
          8,
          10,
          1,
          3,
          4,
          5,
          509,
          21,
          28
         ],
         "yaxis": "y"
        },
        {
         "hovertemplate": "<b>%{hovertext}</b><br><br>Continent=Oceania<br>Highest annual CO₂ emissions (tonnes per capita)=%{x}<br>Disaster count=%{y}<br>Population=%{marker.size}<extra></extra>",
         "hovertext": [
          "Australia",
          "Cook Islands (the)",
          "Fiji",
          "French Polynesia",
          "Kiribati",
          "Marshall Islands (the)",
          "Micronesia (Federated States of)",
          "New Caledonia",
          "New Zealand",
          "Niue",
          "Palau",
          "Papua New Guinea",
          "Samoa",
          "Solomon Islands",
          "Tonga",
          "Tuvalu",
          "Vanuatu",
          "Wallis and Futuna"
         ],
         "legendgroup": "Oceania",
         "marker": {
          "color": "#FFA15A",
          "size": [
           25921094,
           17028,
           924615,
           304038,
           128883,
           42074,
           113143,
           287809,
           5129730,
           1957,
           18050,
           9949438,
           218781,
           707855,
           106034,
           11229,
           319146,
           11654
          ],
          "sizemode": "area",
          "sizeref": 570357.4016,
          "symbol": "circle"
         },
         "mode": "markers",
         "name": "Oceania",
         "orientation": "v",
         "showlegend": true,
         "type": "scatter",
         "x": [
          19.213036,
          5.367806,
          1.5902857,
          3.2535033,
          0.65889406,
          3.7781527,
          1.6069456,
          19.096947,
          9.055418,
          6.0919776,
          13.210194,
          0.88356525,
          1.3441752,
          0.64173746,
          1.6490842,
          1.141433,
          0.5915502,
          2.3869915
         ],
         "xaxis": "x",
         "y": [
          107,
          3,
          28,
          2,
          3,
          5,
          8,
          2,
          26,
          1,
          4,
          20,
          6,
          15,
          10,
          4,
          11,
          1
         ],
         "yaxis": "y"
        }
       ],
       "layout": {
        "font": {
         "family": "arial, sans-serif"
        },
        "legend": {
         "itemsizing": "constant",
         "title": {
          "text": "Continent"
         },
         "tracegroupgap": 0
        },
        "margin": {
         "t": 60
        },
        "template": {
         "data": {
          "bar": [
           {
            "error_x": {
             "color": "#2a3f5f"
            },
            "error_y": {
             "color": "#2a3f5f"
            },
            "marker": {
             "line": {
              "color": "#E5ECF6",
              "width": 0.5
             }
            },
            "type": "bar"
           }
          ],
          "barpolar": [
           {
            "marker": {
             "line": {
              "color": "#E5ECF6",
              "width": 0.5
             }
            },
            "type": "barpolar"
           }
          ],
          "carpet": [
           {
            "aaxis": {
             "endlinecolor": "#2a3f5f",
             "gridcolor": "white",
             "linecolor": "white",
             "minorgridcolor": "white",
             "startlinecolor": "#2a3f5f"
            },
            "baxis": {
             "endlinecolor": "#2a3f5f",
             "gridcolor": "white",
             "linecolor": "white",
             "minorgridcolor": "white",
             "startlinecolor": "#2a3f5f"
            },
            "type": "carpet"
           }
          ],
          "choropleth": [
           {
            "colorbar": {
             "outlinewidth": 0,
             "ticks": ""
            },
            "type": "choropleth"
           }
          ],
          "contour": [
           {
            "colorbar": {
             "outlinewidth": 0,
             "ticks": ""
            },
            "colorscale": [
             [
              0,
              "#0d0887"
             ],
             [
              0.1111111111111111,
              "#46039f"
             ],
             [
              0.2222222222222222,
              "#7201a8"
             ],
             [
              0.3333333333333333,
              "#9c179e"
             ],
             [
              0.4444444444444444,
              "#bd3786"
             ],
             [
              0.5555555555555556,
              "#d8576b"
             ],
             [
              0.6666666666666666,
              "#ed7953"
             ],
             [
              0.7777777777777778,
              "#fb9f3a"
             ],
             [
              0.8888888888888888,
              "#fdca26"
             ],
             [
              1,
              "#f0f921"
             ]
            ],
            "type": "contour"
           }
          ],
          "contourcarpet": [
           {
            "colorbar": {
             "outlinewidth": 0,
             "ticks": ""
            },
            "type": "contourcarpet"
           }
          ],
          "heatmap": [
           {
            "colorbar": {
             "outlinewidth": 0,
             "ticks": ""
            },
            "colorscale": [
             [
              0,
              "#0d0887"
             ],
             [
              0.1111111111111111,
              "#46039f"
             ],
             [
              0.2222222222222222,
              "#7201a8"
             ],
             [
              0.3333333333333333,
              "#9c179e"
             ],
             [
              0.4444444444444444,
              "#bd3786"
             ],
             [
              0.5555555555555556,
              "#d8576b"
             ],
             [
              0.6666666666666666,
              "#ed7953"
             ],
             [
              0.7777777777777778,
              "#fb9f3a"
             ],
             [
              0.8888888888888888,
              "#fdca26"
             ],
             [
              1,
              "#f0f921"
             ]
            ],
            "type": "heatmap"
           }
          ],
          "heatmapgl": [
           {
            "colorbar": {
             "outlinewidth": 0,
             "ticks": ""
            },
            "colorscale": [
             [
              0,
              "#0d0887"
             ],
             [
              0.1111111111111111,
              "#46039f"
             ],
             [
              0.2222222222222222,
              "#7201a8"
             ],
             [
              0.3333333333333333,
              "#9c179e"
             ],
             [
              0.4444444444444444,
              "#bd3786"
             ],
             [
              0.5555555555555556,
              "#d8576b"
             ],
             [
              0.6666666666666666,
              "#ed7953"
             ],
             [
              0.7777777777777778,
              "#fb9f3a"
             ],
             [
              0.8888888888888888,
              "#fdca26"
             ],
             [
              1,
              "#f0f921"
             ]
            ],
            "type": "heatmapgl"
           }
          ],
          "histogram": [
           {
            "marker": {
             "colorbar": {
              "outlinewidth": 0,
              "ticks": ""
             }
            },
            "type": "histogram"
           }
          ],
          "histogram2d": [
           {
            "colorbar": {
             "outlinewidth": 0,
             "ticks": ""
            },
            "colorscale": [
             [
              0,
              "#0d0887"
             ],
             [
              0.1111111111111111,
              "#46039f"
             ],
             [
              0.2222222222222222,
              "#7201a8"
             ],
             [
              0.3333333333333333,
              "#9c179e"
             ],
             [
              0.4444444444444444,
              "#bd3786"
             ],
             [
              0.5555555555555556,
              "#d8576b"
             ],
             [
              0.6666666666666666,
              "#ed7953"
             ],
             [
              0.7777777777777778,
              "#fb9f3a"
             ],
             [
              0.8888888888888888,
              "#fdca26"
             ],
             [
              1,
              "#f0f921"
             ]
            ],
            "type": "histogram2d"
           }
          ],
          "histogram2dcontour": [
           {
            "colorbar": {
             "outlinewidth": 0,
             "ticks": ""
            },
            "colorscale": [
             [
              0,
              "#0d0887"
             ],
             [
              0.1111111111111111,
              "#46039f"
             ],
             [
              0.2222222222222222,
              "#7201a8"
             ],
             [
              0.3333333333333333,
              "#9c179e"
             ],
             [
              0.4444444444444444,
              "#bd3786"
             ],
             [
              0.5555555555555556,
              "#d8576b"
             ],
             [
              0.6666666666666666,
              "#ed7953"
             ],
             [
              0.7777777777777778,
              "#fb9f3a"
             ],
             [
              0.8888888888888888,
              "#fdca26"
             ],
             [
              1,
              "#f0f921"
             ]
            ],
            "type": "histogram2dcontour"
           }
          ],
          "mesh3d": [
           {
            "colorbar": {
             "outlinewidth": 0,
             "ticks": ""
            },
            "type": "mesh3d"
           }
          ],
          "parcoords": [
           {
            "line": {
             "colorbar": {
              "outlinewidth": 0,
              "ticks": ""
             }
            },
            "type": "parcoords"
           }
          ],
          "pie": [
           {
            "automargin": true,
            "type": "pie"
           }
          ],
          "scatter": [
           {
            "marker": {
             "colorbar": {
              "outlinewidth": 0,
              "ticks": ""
             }
            },
            "type": "scatter"
           }
          ],
          "scatter3d": [
           {
            "line": {
             "colorbar": {
              "outlinewidth": 0,
              "ticks": ""
             }
            },
            "marker": {
             "colorbar": {
              "outlinewidth": 0,
              "ticks": ""
             }
            },
            "type": "scatter3d"
           }
          ],
          "scattercarpet": [
           {
            "marker": {
             "colorbar": {
              "outlinewidth": 0,
              "ticks": ""
             }
            },
            "type": "scattercarpet"
           }
          ],
          "scattergeo": [
           {
            "marker": {
             "colorbar": {
              "outlinewidth": 0,
              "ticks": ""
             }
            },
            "type": "scattergeo"
           }
          ],
          "scattergl": [
           {
            "marker": {
             "colorbar": {
              "outlinewidth": 0,
              "ticks": ""
             }
            },
            "type": "scattergl"
           }
          ],
          "scattermapbox": [
           {
            "marker": {
             "colorbar": {
              "outlinewidth": 0,
              "ticks": ""
             }
            },
            "type": "scattermapbox"
           }
          ],
          "scatterpolar": [
           {
            "marker": {
             "colorbar": {
              "outlinewidth": 0,
              "ticks": ""
             }
            },
            "type": "scatterpolar"
           }
          ],
          "scatterpolargl": [
           {
            "marker": {
             "colorbar": {
              "outlinewidth": 0,
              "ticks": ""
             }
            },
            "type": "scatterpolargl"
           }
          ],
          "scatterternary": [
           {
            "marker": {
             "colorbar": {
              "outlinewidth": 0,
              "ticks": ""
             }
            },
            "type": "scatterternary"
           }
          ],
          "surface": [
           {
            "colorbar": {
             "outlinewidth": 0,
             "ticks": ""
            },
            "colorscale": [
             [
              0,
              "#0d0887"
             ],
             [
              0.1111111111111111,
              "#46039f"
             ],
             [
              0.2222222222222222,
              "#7201a8"
             ],
             [
              0.3333333333333333,
              "#9c179e"
             ],
             [
              0.4444444444444444,
              "#bd3786"
             ],
             [
              0.5555555555555556,
              "#d8576b"
             ],
             [
              0.6666666666666666,
              "#ed7953"
             ],
             [
              0.7777777777777778,
              "#fb9f3a"
             ],
             [
              0.8888888888888888,
              "#fdca26"
             ],
             [
              1,
              "#f0f921"
             ]
            ],
            "type": "surface"
           }
          ],
          "table": [
           {
            "cells": {
             "fill": {
              "color": "#EBF0F8"
             },
             "line": {
              "color": "white"
             }
            },
            "header": {
             "fill": {
              "color": "#C8D4E3"
             },
             "line": {
              "color": "white"
             }
            },
            "type": "table"
           }
          ]
         },
         "layout": {
          "annotationdefaults": {
           "arrowcolor": "#2a3f5f",
           "arrowhead": 0,
           "arrowwidth": 1
          },
          "autotypenumbers": "strict",
          "coloraxis": {
           "colorbar": {
            "outlinewidth": 0,
            "ticks": ""
           }
          },
          "colorscale": {
           "diverging": [
            [
             0,
             "#8e0152"
            ],
            [
             0.1,
             "#c51b7d"
            ],
            [
             0.2,
             "#de77ae"
            ],
            [
             0.3,
             "#f1b6da"
            ],
            [
             0.4,
             "#fde0ef"
            ],
            [
             0.5,
             "#f7f7f7"
            ],
            [
             0.6,
             "#e6f5d0"
            ],
            [
             0.7,
             "#b8e186"
            ],
            [
             0.8,
             "#7fbc41"
            ],
            [
             0.9,
             "#4d9221"
            ],
            [
             1,
             "#276419"
            ]
           ],
           "sequential": [
            [
             0,
             "#0d0887"
            ],
            [
             0.1111111111111111,
             "#46039f"
            ],
            [
             0.2222222222222222,
             "#7201a8"
            ],
            [
             0.3333333333333333,
             "#9c179e"
            ],
            [
             0.4444444444444444,
             "#bd3786"
            ],
            [
             0.5555555555555556,
             "#d8576b"
            ],
            [
             0.6666666666666666,
             "#ed7953"
            ],
            [
             0.7777777777777778,
             "#fb9f3a"
            ],
            [
             0.8888888888888888,
             "#fdca26"
            ],
            [
             1,
             "#f0f921"
            ]
           ],
           "sequentialminus": [
            [
             0,
             "#0d0887"
            ],
            [
             0.1111111111111111,
             "#46039f"
            ],
            [
             0.2222222222222222,
             "#7201a8"
            ],
            [
             0.3333333333333333,
             "#9c179e"
            ],
            [
             0.4444444444444444,
             "#bd3786"
            ],
            [
             0.5555555555555556,
             "#d8576b"
            ],
            [
             0.6666666666666666,
             "#ed7953"
            ],
            [
             0.7777777777777778,
             "#fb9f3a"
            ],
            [
             0.8888888888888888,
             "#fdca26"
            ],
            [
             1,
             "#f0f921"
            ]
           ]
          },
          "colorway": [
           "#636efa",
           "#EF553B",
           "#00cc96",
           "#ab63fa",
           "#FFA15A",
           "#19d3f3",
           "#FF6692",
           "#B6E880",
           "#FF97FF",
           "#FECB52"
          ],
          "font": {
           "color": "#2a3f5f"
          },
          "geo": {
           "bgcolor": "white",
           "lakecolor": "white",
           "landcolor": "#E5ECF6",
           "showlakes": true,
           "showland": true,
           "subunitcolor": "white"
          },
          "hoverlabel": {
           "align": "left"
          },
          "hovermode": "closest",
          "mapbox": {
           "style": "light"
          },
          "paper_bgcolor": "white",
          "plot_bgcolor": "#E5ECF6",
          "polar": {
           "angularaxis": {
            "gridcolor": "white",
            "linecolor": "white",
            "ticks": ""
           },
           "bgcolor": "#E5ECF6",
           "radialaxis": {
            "gridcolor": "white",
            "linecolor": "white",
            "ticks": ""
           }
          },
          "scene": {
           "xaxis": {
            "backgroundcolor": "#E5ECF6",
            "gridcolor": "white",
            "gridwidth": 2,
            "linecolor": "white",
            "showbackground": true,
            "ticks": "",
            "zerolinecolor": "white"
           },
           "yaxis": {
            "backgroundcolor": "#E5ECF6",
            "gridcolor": "white",
            "gridwidth": 2,
            "linecolor": "white",
            "showbackground": true,
            "ticks": "",
            "zerolinecolor": "white"
           },
           "zaxis": {
            "backgroundcolor": "#E5ECF6",
            "gridcolor": "white",
            "gridwidth": 2,
            "linecolor": "white",
            "showbackground": true,
            "ticks": "",
            "zerolinecolor": "white"
           }
          },
          "shapedefaults": {
           "line": {
            "color": "#2a3f5f"
           }
          },
          "ternary": {
           "aaxis": {
            "gridcolor": "white",
            "linecolor": "white",
            "ticks": ""
           },
           "baxis": {
            "gridcolor": "white",
            "linecolor": "white",
            "ticks": ""
           },
           "bgcolor": "#E5ECF6",
           "caxis": {
            "gridcolor": "white",
            "linecolor": "white",
            "ticks": ""
           }
          },
          "title": {
           "x": 0.05
          },
          "xaxis": {
           "automargin": true,
           "gridcolor": "white",
           "linecolor": "white",
           "ticks": "",
           "title": {
            "standoff": 15
           },
           "zerolinecolor": "white",
           "zerolinewidth": 2
          },
          "yaxis": {
           "automargin": true,
           "gridcolor": "white",
           "linecolor": "white",
           "ticks": "",
           "title": {
            "standoff": 15
           },
           "zerolinecolor": "white",
           "zerolinewidth": 2
          }
         }
        },
        "title": {
         "text": "Climate-related disaster counts vs CO2 emissions per capita (2000-2021)"
        },
        "xaxis": {
         "anchor": "y",
         "domain": [
          0,
          1
         ],
         "title": {
          "text": "Highest annual CO₂ emissions (tonnes per capita)"
         }
        },
        "yaxis": {
         "anchor": "x",
         "domain": [
          0,
          1
         ],
         "title": {
          "text": "Disaster count"
         }
        }
       }
      },
      "text/html": [
       "<div>                            <div id=\"869da984-1728-46f9-80be-ea2f4b2a87d7\" class=\"plotly-graph-div\" style=\"height:525px; width:100%;\"></div>            <script type=\"text/javascript\">                require([\"plotly\"], function(Plotly) {                    window.PLOTLYENV=window.PLOTLYENV || {};                                    if (document.getElementById(\"869da984-1728-46f9-80be-ea2f4b2a87d7\")) {                    Plotly.newPlot(                        \"869da984-1728-46f9-80be-ea2f4b2a87d7\",                        [{\"hovertemplate\": \"<b>%{hovertext}</b><br><br>Continent=Asia<br>Highest annual CO\\u2082 emissions (tonnes per capita)=%{x}<br>Disaster count=%{y}<br>Population=%{marker.size}<extra></extra>\", \"hovertext\": [\"Afghanistan\", \"Armenia\", \"Azerbaijan\", \"Bangladesh\", \"Bhutan\", \"Cambodia\", \"China\", \"Cyprus\", \"Georgia\", \"Hong Kong\", \"India\", \"Indonesia\", \"Iran (Islamic Republic of)\", \"Iraq\", \"Israel\", \"Japan\", \"Jordan\", \"Kazakhstan\", \"Kuwait\", \"Kyrgyzstan\", \"Lao People's Democratic Republic (the)\", \"Lebanon\", \"Macao\", \"Malaysia\", \"Maldives\", \"Mongolia\", \"Myanmar\", \"Nepal\", \"Korea (the Democratic People's Republic of)\", \"Oman\", \"Pakistan\", \"Palestine, State of\", \"Philippines (the)\", \"Qatar\", \"Saudi Arabia\", \"Korea (the Republic of)\", \"Sri Lanka\", \"Syrian Arab Republic\", \"Taiwan (Province of China)\", \"Tajikistan\", \"Thailand\", \"Timor-Leste\", \"Turkey\", \"United Arab Emirates (the)\", \"Uzbekistan\", \"Viet Nam\", \"Yemen\"], \"legendgroup\": \"Asia\", \"marker\": {\"color\": \"#636efa\", \"size\": [40099460, 2790971, 10312992, 169356240, 777500, 16589031, 1425893504, 1244193, 3757984, 7494580, 1407563904, 273753184, 87923432, 43533592, 8900057, 124612528, 11148288, 19196468, 4250111, 6527742, 7425055, 5592626, 686616, 33573872, 521469, 3347782, 53798088, 30034988, 25971910, 4520474, 231402112, 5133393, 113880336, 2688239, 35950396, 51830136, 21773438, 21324366, 23859904, 9750078, 71601104, 1320944, 84775408, 9365149, 34081452, 97468024, 32981644], \"sizemode\": \"area\", \"sizeref\": 570357.4016, \"symbol\": \"circle\"}, \"mode\": \"markers\", \"name\": \"Asia\", \"orientation\": \"v\", \"showlegend\": true, \"type\": \"scatter\", \"x\": [0.40474042, 2.4385939, 4.4627414, 0.553767, 1.9576669, 1.1470591, 8.04574, 7.9798894, 2.929708, 6.304073, 1.9250876, 2.4461334, 8.517396, 5.34339, 10.103195, 10.303727, 3.598951, 17.899391, 31.835678, 1.7842895, 2.893467, 4.5660133, 3.8381433, 8.2436075, 4.0619364, 15.2814045, 0.67552847, 0.52034104, 3.1428845, 17.916525, 0.9989776, 0.7739392, 1.3157338, 62.258972, 20.728325, 12.968438, 1.0745894, 3.174369, 12.195806, 1.060136, 4.1731873, 0.5574256, 5.263368, 34.12993, 4.9852676, 3.560416, 1.00923], \"xaxis\": \"x\", \"y\": [92, 6, 4, 105, 4, 29, 436, 5, 18, 13, 284, 192, 51, 15, 9, 107, 5, 14, 1, 6, 23, 9, 2, 60, 3, 19, 33, 37, 33, 14, 91, 7, 278, 1, 23, 50, 60, 10, 54, 29, 90, 10, 41, 1, 3, 158, 35], \"yaxis\": \"y\"}, {\"hovertemplate\": \"<b>%{hovertext}</b><br><br>Continent=Europe<br>Highest annual CO\\u2082 emissions (tonnes per capita)=%{x}<br>Disaster count=%{y}<br>Population=%{marker.size}<extra></extra>\", \"hovertext\": [\"Albania\", \"Austria\", \"Belarus\", \"Belgium\", \"Bosnia and Herzegovina\", \"Bulgaria\", \"Croatia\", \"Czech Republic (the)\", \"Denmark\", \"Estonia\", \"Finland\", \"France\", \"Germany\", \"Greece\", \"Hungary\", \"Ireland\", \"Italy\", \"Latvia\", \"Lithuania\", \"Luxembourg\", \"Moldova (the Republic of)\", \"Montenegro\", \"Netherlands (the)\", \"Macedonia (the former Yugoslav Republic of)\", \"Norway\", \"Poland\", \"Portugal\", \"Romania\", \"Russian Federation (the)\", \"Serbia\", \"Slovakia\", \"Slovenia\", \"Spain\", \"Sweden\", \"Switzerland\", \"Ukraine\", \"United Kingdom of Great Britain and Northern Ireland (the)\"], \"legendgroup\": \"Europe\", \"marker\": {\"color\": \"#EF553B\", \"size\": [2854710, 8922086, 9578172, 11611416, 3270948, 6885864, 4060139, 10510748, 5854246, 1328704, 5535982, 64531448, 83408560, 10445368, 9709784, 4986525, 59240336, 1873926, 2786652, 639330, 3061509, 627856, 17501696, 2103329, 5403021, 38307724, 10290109, 19328558, 145102752, 7296771, 5447621, 2119408, 47486932, 10467095, 8691409, 43531424, 67281040], \"sizemode\": \"area\", \"sizeref\": 570357.4016, \"symbol\": \"circle\"}, \"mode\": \"markers\", \"name\": \"Europe\", \"orientation\": \"v\", \"showlegend\": true, \"type\": \"scatter\", \"x\": [2.0802531, 9.611983, 6.616924, 12.345596, 6.4924054, 7.220797, 5.6435423, 12.498537, 11.238168, 14.945469, 13.937167, 6.974761, 11.239027, 10.327349, 6.103559, 12.433371, 8.668467, 4.070399, 4.981188, 26.002728, 1.8296566, 4.125427, 11.168892, 5.886305, 9.696402, 8.764865, 6.6766267, 5.200805, 12.09865, 7.8049955, 8.038924, 8.986271, 8.47116, 6.401993, 6.2396073, 7.262556, 9.780857], \"xaxis\": \"x\", \"y\": [15, 18, 2, 24, 20, 29, 20, 21, 6, 1, 1, 85, 42, 36, 18, 11, 57, 3, 5, 3, 8, 5, 12, 14, 5, 27, 25, 50, 88, 17, 15, 7, 46, 6, 19, 20, 45], \"yaxis\": \"y\"}, {\"hovertemplate\": \"<b>%{hovertext}</b><br><br>Continent=Africa<br>Highest annual CO\\u2082 emissions (tonnes per capita)=%{x}<br>Disaster count=%{y}<br>Population=%{marker.size}<extra></extra>\", \"hovertext\": [\"Algeria\", \"Angola\", \"Benin\", \"Botswana\", \"Burkina Faso\", \"Burundi\", \"Cameroon\", \"Cabo Verde\", \"Central African Republic\", \"Chad\", \"Comoros (the)\", \"Congo (the)\", \"C\\u00f4te d\\u2019Ivoire\", \"Congo (the Democratic Republic of the)\", \"Djibouti\", \"Egypt\", \"Eritrea\", \"Eswatini\", \"Ethiopia\", \"Gabon\", \"Gambia (the)\", \"Ghana\", \"Guinea\", \"Guinea-Bissau\", \"Kenya\", \"Lesotho\", \"Liberia\", \"Libya\", \"Madagascar\", \"Malawi\", \"Mali\", \"Mauritania\", \"Mauritius\", \"Morocco\", \"Mozambique\", \"Namibia\", \"Niger (the)\", \"Nigeria\", \"R\\u00e9union\", \"Rwanda\", \"Saint Helena, Ascension and Tristan da Cunha\", \"Sao Tome and Principe\", \"Senegal\", \"Seychelles\", \"Sierra Leone\", \"Somalia\", \"South Africa\", \"South Sudan\", \"Sudan (the)\", \"Tanzania, United Republic of\", \"Togo\", \"Tunisia\", \"Uganda\", \"Zambia\", \"Zimbabwe\"], \"legendgroup\": \"Africa\", \"marker\": {\"color\": \"#00cc96\", \"size\": [44177964, 34503776, 12996901, 2588424, 22100690, 12551215, 27198632, 587936, 5457165, 17179744, 821632, 5835814, 27478250, 95894120, 1105562, 109262184, 3620324, 1192273, 120283024, 2341185, 2639922, 32833036, 13531909, 2060730, 53005616, 2281464, 5193422, 6735280, 28915652, 19889742, 21904990, 4614981, 1298922, 37076588, 32077074, 2530150, 25252722, 213401328, 966132, 13461891, 5428, 223118, 16876726, 106486, 8420642, 17065588, 59392256, 10748278, 45657204, 63588332, 8644829, 12262949, 45853780, 19473132, 15993525], \"sizemode\": \"area\", \"sizeref\": 570357.4016, \"symbol\": \"circle\"}, \"mode\": \"markers\", \"name\": \"Africa\", \"orientation\": \"v\", \"showlegend\": true, \"type\": \"scatter\", \"x\": [4.2033315, 1.2502408, 0.6226188, 3.0612, 0.25783187, 0.060455058, 0.42805457, 1.1668613, 0.06384969, 0.1381128, 0.39373294, 1.3205227, 0.49487668, 0.060904752, 0.5728672, 2.5553803, 0.2783153, 1.2515529, 0.16033709, 3.667544, 0.25856218, 0.64912677, 0.35780457, 0.17073512, 0.37638173, 1.505029, 0.28766924, 11.064882, 0.15739256, 0.085483655, 0.19035652, 0.8923355, 3.5034227, 1.9035642, 0.30418453, 1.7830753, 0.1159208, 0.78306425, 5.0426593, 0.14118028, 2.6793418, 0.6240786, 0.8057197, 5.8271527, 0.15547383, 0.062292345, 9.789216, 0.17085552, 0.55511844, 0.21785387, 0.4283479, 2.6186612, 0.13997535, 0.42148867, 1.1676027], \"xaxis\": \"x\", \"y\": [38, 49, 12, 11, 21, 40, 16, 5, 22, 20, 6, 11, 12, 39, 8, 11, 3, 11, 43, 4, 17, 23, 15, 7, 58, 13, 6, 2, 55, 40, 27, 21, 4, 22, 60, 21, 34, 51, 5, 25, 1, 1, 20, 3, 10, 50, 60, 18, 30, 43, 8, 11, 40, 22, 24], \"yaxis\": \"y\"}, {\"hovertemplate\": \"<b>%{hovertext}</b><br><br>Continent=Americas<br>Highest annual CO\\u2082 emissions (tonnes per capita)=%{x}<br>Disaster count=%{y}<br>Population=%{marker.size}<extra></extra>\", \"hovertext\": [\"Anguilla\", \"Antigua and Barbuda\", \"Argentina\", \"Bahamas (the)\", \"Barbados\", \"Belize\", \"Bermuda\", \"Bolivia (Plurinational State of)\", \"Brazil\", \"Virgin Island (British)\", \"Canada\", \"Chile\", \"Colombia\", \"Costa Rica\", \"Cuba\", \"Dominica\", \"Dominican Republic (the)\", \"Ecuador\", \"El Salvador\", \"French Guiana\", \"Grenada\", \"Guadeloupe\", \"Guatemala\", \"Guyana\", \"Haiti\", \"Honduras\", \"Jamaica\", \"Martinique\", \"Mexico\", \"Nicaragua\", \"Panama\", \"Paraguay\", \"Peru\", \"Saint Kitts and Nevis\", \"Saint Lucia\", \"Saint Vincent and the Grenadines\", \"Sint Maarten (Dutch part)\", \"Suriname\", \"Trinidad and Tobago\", \"Turks and Caicos Islands (the)\", \"United States of America (the)\", \"Uruguay\", \"Venezuela (Bolivarian Republic of)\"], \"legendgroup\": \"Americas\", \"marker\": {\"color\": \"#ab63fa\", \"size\": [15779, 93229, 45276788, 407920, 281204, 400037, 64213, 12079474, 214326224, 31145, 38155012, 19493184, 51516560, 5153959, 11256373, 72435, 11117873, 17797736, 6314165, 297462, 124624, 396057, 17608484, 804571, 11447575, 10278346, 2827701, 368799, 126705136, 6850546, 4351264, 6703802, 33715464, 47631, 179663, 104340, 44061, 612989, 1525671, 45141, 336997632, 3426265, 28199862], \"sizemode\": \"area\", \"sizeref\": 570357.4016, \"symbol\": \"circle\"}, \"mode\": \"markers\", \"name\": \"Americas\", \"orientation\": \"v\", \"showlegend\": true, \"type\": \"scatter\", \"x\": [11.973856, 5.437388, 4.670683, 7.0114403, 5.9133754, 1.8173902, 11.540431, 2.0531883, 2.7420719, 7.632684, 18.46901, 4.8300643, 2.0964537, 1.7929502, 3.0291004, 2.6632166, 2.6059487, 2.7404044, 1.1819563, 3.4810603, 2.6867204, 6.4024734, 1.1552123, 4.002681, 0.30614442, 1.1278571, 4.3043427, 6.235224, 4.494525, 0.8622463, 3.1705666, 1.3204619, 1.9560134, 5.2957954, 2.8927286, 2.5349016, 21.996424, 5.0651007, 33.296116, 9.6157, 21.304466, 2.5486352, 7.60914], \"xaxis\": \"x\", \"y\": [1, 3, 60, 15, 6, 12, 1, 48, 104, 2, 61, 37, 75, 27, 37, 4, 49, 24, 30, 1, 3, 2, 50, 7, 77, 45, 20, 3, 122, 37, 36, 30, 50, 2, 8, 10, 1, 3, 4, 5, 509, 21, 28], \"yaxis\": \"y\"}, {\"hovertemplate\": \"<b>%{hovertext}</b><br><br>Continent=Oceania<br>Highest annual CO\\u2082 emissions (tonnes per capita)=%{x}<br>Disaster count=%{y}<br>Population=%{marker.size}<extra></extra>\", \"hovertext\": [\"Australia\", \"Cook Islands (the)\", \"Fiji\", \"French Polynesia\", \"Kiribati\", \"Marshall Islands (the)\", \"Micronesia (Federated States of)\", \"New Caledonia\", \"New Zealand\", \"Niue\", \"Palau\", \"Papua New Guinea\", \"Samoa\", \"Solomon Islands\", \"Tonga\", \"Tuvalu\", \"Vanuatu\", \"Wallis and Futuna\"], \"legendgroup\": \"Oceania\", \"marker\": {\"color\": \"#FFA15A\", \"size\": [25921094, 17028, 924615, 304038, 128883, 42074, 113143, 287809, 5129730, 1957, 18050, 9949438, 218781, 707855, 106034, 11229, 319146, 11654], \"sizemode\": \"area\", \"sizeref\": 570357.4016, \"symbol\": \"circle\"}, \"mode\": \"markers\", \"name\": \"Oceania\", \"orientation\": \"v\", \"showlegend\": true, \"type\": \"scatter\", \"x\": [19.213036, 5.367806, 1.5902857, 3.2535033, 0.65889406, 3.7781527, 1.6069456, 19.096947, 9.055418, 6.0919776, 13.210194, 0.88356525, 1.3441752, 0.64173746, 1.6490842, 1.141433, 0.5915502, 2.3869915], \"xaxis\": \"x\", \"y\": [107, 3, 28, 2, 3, 5, 8, 2, 26, 1, 4, 20, 6, 15, 10, 4, 11, 1], \"yaxis\": \"y\"}],                        {\"font\": {\"family\": \"arial, sans-serif\"}, \"legend\": {\"itemsizing\": \"constant\", \"title\": {\"text\": \"Continent\"}, \"tracegroupgap\": 0}, \"margin\": {\"t\": 60}, \"template\": {\"data\": {\"bar\": [{\"error_x\": {\"color\": \"#2a3f5f\"}, \"error_y\": {\"color\": \"#2a3f5f\"}, \"marker\": {\"line\": {\"color\": \"#E5ECF6\", \"width\": 0.5}}, \"type\": \"bar\"}], \"barpolar\": [{\"marker\": {\"line\": {\"color\": \"#E5ECF6\", \"width\": 0.5}}, \"type\": \"barpolar\"}], \"carpet\": [{\"aaxis\": {\"endlinecolor\": \"#2a3f5f\", \"gridcolor\": \"white\", \"linecolor\": \"white\", \"minorgridcolor\": \"white\", \"startlinecolor\": \"#2a3f5f\"}, \"baxis\": {\"endlinecolor\": \"#2a3f5f\", \"gridcolor\": \"white\", \"linecolor\": \"white\", \"minorgridcolor\": \"white\", \"startlinecolor\": \"#2a3f5f\"}, \"type\": \"carpet\"}], \"choropleth\": [{\"colorbar\": {\"outlinewidth\": 0, \"ticks\": \"\"}, \"type\": \"choropleth\"}], \"contour\": [{\"colorbar\": {\"outlinewidth\": 0, \"ticks\": \"\"}, \"colorscale\": [[0.0, \"#0d0887\"], [0.1111111111111111, \"#46039f\"], [0.2222222222222222, \"#7201a8\"], [0.3333333333333333, \"#9c179e\"], [0.4444444444444444, \"#bd3786\"], [0.5555555555555556, \"#d8576b\"], [0.6666666666666666, \"#ed7953\"], [0.7777777777777778, \"#fb9f3a\"], [0.8888888888888888, \"#fdca26\"], [1.0, \"#f0f921\"]], \"type\": \"contour\"}], \"contourcarpet\": [{\"colorbar\": {\"outlinewidth\": 0, \"ticks\": \"\"}, \"type\": \"contourcarpet\"}], \"heatmap\": [{\"colorbar\": {\"outlinewidth\": 0, \"ticks\": \"\"}, \"colorscale\": [[0.0, \"#0d0887\"], [0.1111111111111111, \"#46039f\"], [0.2222222222222222, \"#7201a8\"], [0.3333333333333333, \"#9c179e\"], [0.4444444444444444, \"#bd3786\"], [0.5555555555555556, \"#d8576b\"], [0.6666666666666666, \"#ed7953\"], [0.7777777777777778, \"#fb9f3a\"], [0.8888888888888888, \"#fdca26\"], [1.0, \"#f0f921\"]], \"type\": \"heatmap\"}], \"heatmapgl\": [{\"colorbar\": {\"outlinewidth\": 0, \"ticks\": \"\"}, \"colorscale\": [[0.0, \"#0d0887\"], [0.1111111111111111, \"#46039f\"], [0.2222222222222222, \"#7201a8\"], [0.3333333333333333, \"#9c179e\"], [0.4444444444444444, \"#bd3786\"], [0.5555555555555556, \"#d8576b\"], [0.6666666666666666, \"#ed7953\"], [0.7777777777777778, \"#fb9f3a\"], [0.8888888888888888, \"#fdca26\"], [1.0, \"#f0f921\"]], \"type\": \"heatmapgl\"}], \"histogram\": [{\"marker\": {\"colorbar\": {\"outlinewidth\": 0, \"ticks\": \"\"}}, \"type\": \"histogram\"}], \"histogram2d\": [{\"colorbar\": {\"outlinewidth\": 0, \"ticks\": \"\"}, \"colorscale\": [[0.0, \"#0d0887\"], [0.1111111111111111, \"#46039f\"], [0.2222222222222222, \"#7201a8\"], [0.3333333333333333, \"#9c179e\"], [0.4444444444444444, \"#bd3786\"], [0.5555555555555556, \"#d8576b\"], [0.6666666666666666, \"#ed7953\"], [0.7777777777777778, \"#fb9f3a\"], [0.8888888888888888, \"#fdca26\"], [1.0, \"#f0f921\"]], \"type\": \"histogram2d\"}], \"histogram2dcontour\": [{\"colorbar\": {\"outlinewidth\": 0, \"ticks\": \"\"}, \"colorscale\": [[0.0, \"#0d0887\"], [0.1111111111111111, \"#46039f\"], [0.2222222222222222, \"#7201a8\"], [0.3333333333333333, \"#9c179e\"], [0.4444444444444444, \"#bd3786\"], [0.5555555555555556, \"#d8576b\"], [0.6666666666666666, \"#ed7953\"], [0.7777777777777778, \"#fb9f3a\"], [0.8888888888888888, \"#fdca26\"], [1.0, \"#f0f921\"]], \"type\": \"histogram2dcontour\"}], \"mesh3d\": [{\"colorbar\": {\"outlinewidth\": 0, \"ticks\": \"\"}, \"type\": \"mesh3d\"}], \"parcoords\": [{\"line\": {\"colorbar\": {\"outlinewidth\": 0, \"ticks\": \"\"}}, \"type\": \"parcoords\"}], \"pie\": [{\"automargin\": true, \"type\": \"pie\"}], \"scatter\": [{\"marker\": {\"colorbar\": {\"outlinewidth\": 0, \"ticks\": \"\"}}, \"type\": \"scatter\"}], \"scatter3d\": [{\"line\": {\"colorbar\": {\"outlinewidth\": 0, \"ticks\": \"\"}}, \"marker\": {\"colorbar\": {\"outlinewidth\": 0, \"ticks\": \"\"}}, \"type\": \"scatter3d\"}], \"scattercarpet\": [{\"marker\": {\"colorbar\": {\"outlinewidth\": 0, \"ticks\": \"\"}}, \"type\": \"scattercarpet\"}], \"scattergeo\": [{\"marker\": {\"colorbar\": {\"outlinewidth\": 0, \"ticks\": \"\"}}, \"type\": \"scattergeo\"}], \"scattergl\": [{\"marker\": {\"colorbar\": {\"outlinewidth\": 0, \"ticks\": \"\"}}, \"type\": \"scattergl\"}], \"scattermapbox\": [{\"marker\": {\"colorbar\": {\"outlinewidth\": 0, \"ticks\": \"\"}}, \"type\": \"scattermapbox\"}], \"scatterpolar\": [{\"marker\": {\"colorbar\": {\"outlinewidth\": 0, \"ticks\": \"\"}}, \"type\": \"scatterpolar\"}], \"scatterpolargl\": [{\"marker\": {\"colorbar\": {\"outlinewidth\": 0, \"ticks\": \"\"}}, \"type\": \"scatterpolargl\"}], \"scatterternary\": [{\"marker\": {\"colorbar\": {\"outlinewidth\": 0, \"ticks\": \"\"}}, \"type\": \"scatterternary\"}], \"surface\": [{\"colorbar\": {\"outlinewidth\": 0, \"ticks\": \"\"}, \"colorscale\": [[0.0, \"#0d0887\"], [0.1111111111111111, \"#46039f\"], [0.2222222222222222, \"#7201a8\"], [0.3333333333333333, \"#9c179e\"], [0.4444444444444444, \"#bd3786\"], [0.5555555555555556, \"#d8576b\"], [0.6666666666666666, \"#ed7953\"], [0.7777777777777778, \"#fb9f3a\"], [0.8888888888888888, \"#fdca26\"], [1.0, \"#f0f921\"]], \"type\": \"surface\"}], \"table\": [{\"cells\": {\"fill\": {\"color\": \"#EBF0F8\"}, \"line\": {\"color\": \"white\"}}, \"header\": {\"fill\": {\"color\": \"#C8D4E3\"}, \"line\": {\"color\": \"white\"}}, \"type\": \"table\"}]}, \"layout\": {\"annotationdefaults\": {\"arrowcolor\": \"#2a3f5f\", \"arrowhead\": 0, \"arrowwidth\": 1}, \"autotypenumbers\": \"strict\", \"coloraxis\": {\"colorbar\": {\"outlinewidth\": 0, \"ticks\": \"\"}}, \"colorscale\": {\"diverging\": [[0, \"#8e0152\"], [0.1, \"#c51b7d\"], [0.2, \"#de77ae\"], [0.3, \"#f1b6da\"], [0.4, \"#fde0ef\"], [0.5, \"#f7f7f7\"], [0.6, \"#e6f5d0\"], [0.7, \"#b8e186\"], [0.8, \"#7fbc41\"], [0.9, \"#4d9221\"], [1, \"#276419\"]], \"sequential\": [[0.0, \"#0d0887\"], [0.1111111111111111, \"#46039f\"], [0.2222222222222222, \"#7201a8\"], [0.3333333333333333, \"#9c179e\"], [0.4444444444444444, \"#bd3786\"], [0.5555555555555556, \"#d8576b\"], [0.6666666666666666, \"#ed7953\"], [0.7777777777777778, \"#fb9f3a\"], [0.8888888888888888, \"#fdca26\"], [1.0, \"#f0f921\"]], \"sequentialminus\": [[0.0, \"#0d0887\"], [0.1111111111111111, \"#46039f\"], [0.2222222222222222, \"#7201a8\"], [0.3333333333333333, \"#9c179e\"], [0.4444444444444444, \"#bd3786\"], [0.5555555555555556, \"#d8576b\"], [0.6666666666666666, \"#ed7953\"], [0.7777777777777778, \"#fb9f3a\"], [0.8888888888888888, \"#fdca26\"], [1.0, \"#f0f921\"]]}, \"colorway\": [\"#636efa\", \"#EF553B\", \"#00cc96\", \"#ab63fa\", \"#FFA15A\", \"#19d3f3\", \"#FF6692\", \"#B6E880\", \"#FF97FF\", \"#FECB52\"], \"font\": {\"color\": \"#2a3f5f\"}, \"geo\": {\"bgcolor\": \"white\", \"lakecolor\": \"white\", \"landcolor\": \"#E5ECF6\", \"showlakes\": true, \"showland\": true, \"subunitcolor\": \"white\"}, \"hoverlabel\": {\"align\": \"left\"}, \"hovermode\": \"closest\", \"mapbox\": {\"style\": \"light\"}, \"paper_bgcolor\": \"white\", \"plot_bgcolor\": \"#E5ECF6\", \"polar\": {\"angularaxis\": {\"gridcolor\": \"white\", \"linecolor\": \"white\", \"ticks\": \"\"}, \"bgcolor\": \"#E5ECF6\", \"radialaxis\": {\"gridcolor\": \"white\", \"linecolor\": \"white\", \"ticks\": \"\"}}, \"scene\": {\"xaxis\": {\"backgroundcolor\": \"#E5ECF6\", \"gridcolor\": \"white\", \"gridwidth\": 2, \"linecolor\": \"white\", \"showbackground\": true, \"ticks\": \"\", \"zerolinecolor\": \"white\"}, \"yaxis\": {\"backgroundcolor\": \"#E5ECF6\", \"gridcolor\": \"white\", \"gridwidth\": 2, \"linecolor\": \"white\", \"showbackground\": true, \"ticks\": \"\", \"zerolinecolor\": \"white\"}, \"zaxis\": {\"backgroundcolor\": \"#E5ECF6\", \"gridcolor\": \"white\", \"gridwidth\": 2, \"linecolor\": \"white\", \"showbackground\": true, \"ticks\": \"\", \"zerolinecolor\": \"white\"}}, \"shapedefaults\": {\"line\": {\"color\": \"#2a3f5f\"}}, \"ternary\": {\"aaxis\": {\"gridcolor\": \"white\", \"linecolor\": \"white\", \"ticks\": \"\"}, \"baxis\": {\"gridcolor\": \"white\", \"linecolor\": \"white\", \"ticks\": \"\"}, \"bgcolor\": \"#E5ECF6\", \"caxis\": {\"gridcolor\": \"white\", \"linecolor\": \"white\", \"ticks\": \"\"}}, \"title\": {\"x\": 0.05}, \"xaxis\": {\"automargin\": true, \"gridcolor\": \"white\", \"linecolor\": \"white\", \"ticks\": \"\", \"title\": {\"standoff\": 15}, \"zerolinecolor\": \"white\", \"zerolinewidth\": 2}, \"yaxis\": {\"automargin\": true, \"gridcolor\": \"white\", \"linecolor\": \"white\", \"ticks\": \"\", \"title\": {\"standoff\": 15}, \"zerolinecolor\": \"white\", \"zerolinewidth\": 2}}}, \"title\": {\"text\": \"Climate-related disaster counts vs CO2 emissions per capita (2000-2021)\"}, \"xaxis\": {\"anchor\": \"y\", \"domain\": [0.0, 1.0], \"title\": {\"text\": \"Highest annual CO\\u2082 emissions (tonnes per capita)\"}}, \"yaxis\": {\"anchor\": \"x\", \"domain\": [0.0, 1.0], \"title\": {\"text\": \"Disaster count\"}}},                        {\"responsive\": true}                    ).then(function(){\n",
       "                            \n",
       "var gd = document.getElementById('869da984-1728-46f9-80be-ea2f4b2a87d7');\n",
       "var x = new MutationObserver(function (mutations, observer) {{\n",
       "        var display = window.getComputedStyle(gd).display;\n",
       "        if (!display || display === 'none') {{\n",
       "            console.log([gd, 'removed!']);\n",
       "            Plotly.purge(gd);\n",
       "            observer.disconnect();\n",
       "        }}\n",
       "}});\n",
       "\n",
       "// Listen for the removal of the full notebook cells\n",
       "var notebookContainer = gd.closest('#notebook-container');\n",
       "if (notebookContainer) {{\n",
       "    x.observe(notebookContainer, {childList: true});\n",
       "}}\n",
       "\n",
       "// Listen for the clearing of the current output cell\n",
       "var outputEl = gd.closest('.output');\n",
       "if (outputEl) {{\n",
       "    x.observe(outputEl, {childList: true});\n",
       "}}\n",
       "\n",
       "                        })                };                });            </script>        </div>"
      ]
     },
     "metadata": {},
     "output_type": "display_data"
    }
   ],
   "source": [
    "import plotly.express as px\n",
    "\n",
    "fig = px.scatter(\n",
    "    merged_df_2, x=\"Highest annual CO₂ emissions (tonnes per capita)\", y=\"Disaster count\", \n",
    "    size=\"Population\", color=\"Continent\", hover_name=\"Country\", size_max=50,\n",
    ")\n",
    "fig.update_layout(\n",
    "    title_text=\"Climate-related disaster counts vs CO2 emissions per capita (2000-2021)\",\n",
    "    font_family=\"arial, sans-serif\"\n",
    ")\n",
    "fig.show()"
   ]
  },
  {
   "cell_type": "markdown",
   "id": "873b7abe",
   "metadata": {},
   "source": [
    "### Method 2: Calculating median on Our World in Data CO2 emissions dataset "
   ]
  },
  {
   "cell_type": "markdown",
   "id": "6c33c267",
   "metadata": {},
   "source": [
    "**Note**: This median calculation is done on a subset `(2000-2021)` of the `C02 emissions dataset` that has been filtered using `Excel`. The median is calculated in order to get only `one value` for C02 emissions per country. The resulting dataset with the median is exported into a csv file in order to merge it with the `EM-DAT` dataset using `Excel` and `OpenRefine`"
   ]
  },
  {
   "cell_type": "code",
   "execution_count": 254,
   "id": "5ad73fc8",
   "metadata": {},
   "outputs": [
    {
     "name": "stderr",
     "output_type": "stream",
     "text": [
      "/opt/homebrew/lib/python3.9/site-packages/openpyxl/styles/stylesheet.py:221: UserWarning:\n",
      "\n",
      "Workbook contains no default style, apply openpyxl's default\n",
      "\n"
     ]
    },
    {
     "data": {
      "text/html": [
       "<div>\n",
       "<style scoped>\n",
       "    .dataframe tbody tr th:only-of-type {\n",
       "        vertical-align: middle;\n",
       "    }\n",
       "\n",
       "    .dataframe tbody tr th {\n",
       "        vertical-align: top;\n",
       "    }\n",
       "\n",
       "    .dataframe thead th {\n",
       "        text-align: right;\n",
       "    }\n",
       "</style>\n",
       "<table border=\"1\" class=\"dataframe\">\n",
       "  <thead>\n",
       "    <tr style=\"text-align: right;\">\n",
       "      <th></th>\n",
       "      <th>Entity</th>\n",
       "      <th>Code</th>\n",
       "      <th>Year</th>\n",
       "      <th>Annual CO₂ emissions (zero filled)</th>\n",
       "    </tr>\n",
       "  </thead>\n",
       "  <tbody>\n",
       "    <tr>\n",
       "      <th>0</th>\n",
       "      <td>Afghanistan</td>\n",
       "      <td>AFG</td>\n",
       "      <td>2000</td>\n",
       "      <td>1047127.94</td>\n",
       "    </tr>\n",
       "    <tr>\n",
       "      <th>1</th>\n",
       "      <td>Afghanistan</td>\n",
       "      <td>AFG</td>\n",
       "      <td>2001</td>\n",
       "      <td>1069098.00</td>\n",
       "    </tr>\n",
       "    <tr>\n",
       "      <th>2</th>\n",
       "      <td>Afghanistan</td>\n",
       "      <td>AFG</td>\n",
       "      <td>2002</td>\n",
       "      <td>1340995.00</td>\n",
       "    </tr>\n",
       "    <tr>\n",
       "      <th>3</th>\n",
       "      <td>Afghanistan</td>\n",
       "      <td>AFG</td>\n",
       "      <td>2003</td>\n",
       "      <td>1559602.00</td>\n",
       "    </tr>\n",
       "    <tr>\n",
       "      <th>4</th>\n",
       "      <td>Afghanistan</td>\n",
       "      <td>AFG</td>\n",
       "      <td>2004</td>\n",
       "      <td>1237247.00</td>\n",
       "    </tr>\n",
       "  </tbody>\n",
       "</table>\n",
       "</div>"
      ],
      "text/plain": [
       "        Entity Code  Year  Annual CO₂ emissions (zero filled)\n",
       "0  Afghanistan  AFG  2000                          1047127.94\n",
       "1  Afghanistan  AFG  2001                          1069098.00\n",
       "2  Afghanistan  AFG  2002                          1340995.00\n",
       "3  Afghanistan  AFG  2003                          1559602.00\n",
       "4  Afghanistan  AFG  2004                          1237247.00"
      ]
     },
     "execution_count": 254,
     "metadata": {},
     "output_type": "execute_result"
    }
   ],
   "source": [
    "df_3 = pd.read_excel(\"data/annual-co-emissions-by-region2000.xlsx\")\n",
    "df_3.head()"
   ]
  },
  {
   "cell_type": "code",
   "execution_count": 255,
   "id": "e219eece",
   "metadata": {},
   "outputs": [
    {
     "data": {
      "text/html": [
       "<div>\n",
       "<style scoped>\n",
       "    .dataframe tbody tr th:only-of-type {\n",
       "        vertical-align: middle;\n",
       "    }\n",
       "\n",
       "    .dataframe tbody tr th {\n",
       "        vertical-align: top;\n",
       "    }\n",
       "\n",
       "    .dataframe thead th {\n",
       "        text-align: right;\n",
       "    }\n",
       "</style>\n",
       "<table border=\"1\" class=\"dataframe\">\n",
       "  <thead>\n",
       "    <tr style=\"text-align: right;\">\n",
       "      <th></th>\n",
       "      <th>Annual CO₂ emissions (zero filled)</th>\n",
       "    </tr>\n",
       "    <tr>\n",
       "      <th>Entity</th>\n",
       "      <th></th>\n",
       "    </tr>\n",
       "  </thead>\n",
       "  <tbody>\n",
       "    <tr>\n",
       "      <th>Afghanistan</th>\n",
       "      <td>8.716201e+06</td>\n",
       "    </tr>\n",
       "    <tr>\n",
       "      <th>Africa</th>\n",
       "      <td>1.233028e+09</td>\n",
       "    </tr>\n",
       "    <tr>\n",
       "      <th>Africa (GCP)</th>\n",
       "      <td>1.233017e+09</td>\n",
       "    </tr>\n",
       "    <tr>\n",
       "      <th>Aland Islands</th>\n",
       "      <td>0.000000e+00</td>\n",
       "    </tr>\n",
       "    <tr>\n",
       "      <th>Albania</th>\n",
       "      <td>4.625543e+06</td>\n",
       "    </tr>\n",
       "    <tr>\n",
       "      <th>...</th>\n",
       "      <td>...</td>\n",
       "    </tr>\n",
       "    <tr>\n",
       "      <th>Western Sahara</th>\n",
       "      <td>0.000000e+00</td>\n",
       "    </tr>\n",
       "    <tr>\n",
       "      <th>World</th>\n",
       "      <td>3.392568e+10</td>\n",
       "    </tr>\n",
       "    <tr>\n",
       "      <th>Yemen</th>\n",
       "      <td>1.786422e+07</td>\n",
       "    </tr>\n",
       "    <tr>\n",
       "      <th>Zambia</th>\n",
       "      <td>3.246334e+06</td>\n",
       "    </tr>\n",
       "    <tr>\n",
       "      <th>Zimbabwe</th>\n",
       "      <td>1.065404e+07</td>\n",
       "    </tr>\n",
       "  </tbody>\n",
       "</table>\n",
       "<p>269 rows × 1 columns</p>\n",
       "</div>"
      ],
      "text/plain": [
       "                Annual CO₂ emissions (zero filled)\n",
       "Entity                                            \n",
       "Afghanistan                           8.716201e+06\n",
       "Africa                                1.233028e+09\n",
       "Africa (GCP)                          1.233017e+09\n",
       "Aland Islands                         0.000000e+00\n",
       "Albania                               4.625543e+06\n",
       "...                                            ...\n",
       "Western Sahara                        0.000000e+00\n",
       "World                                 3.392568e+10\n",
       "Yemen                                 1.786422e+07\n",
       "Zambia                                3.246334e+06\n",
       "Zimbabwe                              1.065404e+07\n",
       "\n",
       "[269 rows x 1 columns]"
      ]
     },
     "execution_count": 255,
     "metadata": {},
     "output_type": "execute_result"
    }
   ],
   "source": [
    "grouped_df = df_3.groupby(by=\"Entity\").agg({\"Annual CO₂ emissions (zero filled)\": \"median\"})\n",
    "grouped_df"
   ]
  },
  {
   "cell_type": "code",
   "execution_count": 256,
   "id": "76bab0ab",
   "metadata": {},
   "outputs": [],
   "source": [
    "grouped_df.to_csv(\"data/annual_co2_median.csv\")"
   ]
  },
  {
   "cell_type": "markdown",
   "id": "cf499309",
   "metadata": {},
   "source": [
    "#### Visualization on the dataset merged using Excel and OpenRefine"
   ]
  },
  {
   "cell_type": "code",
   "execution_count": 257,
   "id": "8b742eaa",
   "metadata": {},
   "outputs": [
    {
     "data": {
      "text/html": [
       "<div>\n",
       "<style scoped>\n",
       "    .dataframe tbody tr th:only-of-type {\n",
       "        vertical-align: middle;\n",
       "    }\n",
       "\n",
       "    .dataframe tbody tr th {\n",
       "        vertical-align: top;\n",
       "    }\n",
       "\n",
       "    .dataframe thead th {\n",
       "        text-align: right;\n",
       "    }\n",
       "</style>\n",
       "<table border=\"1\" class=\"dataframe\">\n",
       "  <thead>\n",
       "    <tr style=\"text-align: right;\">\n",
       "      <th></th>\n",
       "      <th>Entity</th>\n",
       "      <th>Code</th>\n",
       "      <th>Continent</th>\n",
       "      <th>Disaster count</th>\n",
       "      <th>median CO₂ emissions</th>\n",
       "      <th>land area</th>\n",
       "    </tr>\n",
       "  </thead>\n",
       "  <tbody>\n",
       "    <tr>\n",
       "      <th>0</th>\n",
       "      <td>Afghanistan</td>\n",
       "      <td>AFG</td>\n",
       "      <td>Asia</td>\n",
       "      <td>92.0</td>\n",
       "      <td>8.716201e+06</td>\n",
       "      <td>652860.0</td>\n",
       "    </tr>\n",
       "    <tr>\n",
       "      <th>1</th>\n",
       "      <td>Albania</td>\n",
       "      <td>ALB</td>\n",
       "      <td>Europe</td>\n",
       "      <td>15.0</td>\n",
       "      <td>4.625543e+06</td>\n",
       "      <td>27400.0</td>\n",
       "    </tr>\n",
       "    <tr>\n",
       "      <th>2</th>\n",
       "      <td>Algeria</td>\n",
       "      <td>DZA</td>\n",
       "      <td>Africa</td>\n",
       "      <td>38.0</td>\n",
       "      <td>1.199962e+08</td>\n",
       "      <td>2381741.0</td>\n",
       "    </tr>\n",
       "    <tr>\n",
       "      <th>3</th>\n",
       "      <td>Andorra</td>\n",
       "      <td>AND</td>\n",
       "      <td>Europe</td>\n",
       "      <td>NaN</td>\n",
       "      <td>5.056320e+05</td>\n",
       "      <td>470.0</td>\n",
       "    </tr>\n",
       "    <tr>\n",
       "      <th>4</th>\n",
       "      <td>Angola</td>\n",
       "      <td>AGO</td>\n",
       "      <td>Africa</td>\n",
       "      <td>49.0</td>\n",
       "      <td>2.354180e+07</td>\n",
       "      <td>1246700.0</td>\n",
       "    </tr>\n",
       "  </tbody>\n",
       "</table>\n",
       "</div>"
      ],
      "text/plain": [
       "        Entity Code Continent  Disaster count  median CO₂ emissions  land area\n",
       "0  Afghanistan  AFG      Asia            92.0          8.716201e+06   652860.0\n",
       "1      Albania  ALB    Europe            15.0          4.625543e+06    27400.0\n",
       "2      Algeria  DZA    Africa            38.0          1.199962e+08  2381741.0\n",
       "3      Andorra  AND    Europe             NaN          5.056320e+05      470.0\n",
       "4       Angola  AGO    Africa            49.0          2.354180e+07  1246700.0"
      ]
     },
     "execution_count": 257,
     "metadata": {},
     "output_type": "execute_result"
    }
   ],
   "source": [
    "df_2 = pd.read_excel(\"data/CO2_median_disaster_2000_2021.xlsx\")\n",
    "df_2.head()\n"
   ]
  },
  {
   "cell_type": "code",
   "execution_count": 258,
   "id": "dc72eaa0",
   "metadata": {},
   "outputs": [],
   "source": [
    "df_2.rename(columns={\"median CO₂ emissions\": \"Median CO₂ emissions\"}, inplace=True)"
   ]
  },
  {
   "cell_type": "markdown",
   "id": "74fc833e",
   "metadata": {},
   "source": [
    "#### Bubble chart on data merged using OpenRefine"
   ]
  },
  {
   "cell_type": "code",
   "execution_count": 259,
   "id": "ca927bd1",
   "metadata": {},
   "outputs": [
    {
     "data": {
      "application/vnd.plotly.v1+json": {
       "config": {
        "plotlyServerURL": "https://plot.ly"
       },
       "data": [
        {
         "hovertemplate": "<b>%{hovertext}</b><br><br>Continent=Asia<br>Median CO₂ emissions=%{x}<br>Disaster count=%{y}<br>land area=%{marker.size}<extra></extra>",
         "hovertext": [
          "Afghanistan",
          "Armenia",
          "Azerbaijan",
          "Bahrain",
          "Bangladesh",
          "Bhutan",
          "Brunei",
          "Cambodia",
          "China",
          "Georgia",
          "Hong Kong",
          "India",
          "Indonesia",
          "Iran",
          "Iraq",
          "Israel",
          "Japan",
          "Jordan",
          "Kazakhstan",
          "Kuwait",
          "Kyrgyzstan",
          "Laos",
          "Lebanon",
          "Macao",
          "Malaysia",
          "Maldives",
          "Mongolia",
          "Myanmar",
          "Nepal",
          "North Korea",
          "Oman",
          "Pakistan",
          "Palestine",
          "Philippines",
          "Qatar",
          "Saudi Arabia",
          "South Korea",
          "Sri Lanka",
          "Syria",
          "Tajikistan",
          "Thailand",
          "Timor",
          "Turkey",
          "Turkmenistan",
          "United Arab Emirates",
          "Uzbekistan",
          "Vietnam"
         ],
         "legendgroup": "Asia",
         "marker": {
          "color": "#636efa",
          "size": [
           652860,
           28470,
           82654,
           780,
           130170,
           38140,
           5270,
           176520,
           9424703,
           69490,
           1050,
           2973190,
           1877519,
           1628760,
           434128,
           21640,
           364500,
           88780,
           2699700,
           17820,
           191800,
           230800,
           10230,
           32.900001525878906,
           328550,
           300,
           1557255,
           652790,
           143350,
           120410,
           309500,
           770880,
           6020,
           298170,
           11490,
           2149690,
           97520,
           61864,
           183630,
           138790,
           510890,
           14870,
           769630,
           469930,
           71020,
           440555,
           310070
          ],
          "sizemode": "area",
          "sizeref": 40942.175,
          "symbol": "circle"
         },
         "mode": "markers",
         "name": "Asia",
         "orientation": "v",
         "showlegend": true,
         "type": "scatter",
         "x": [
          8716200.75,
          5151611.5,
          33920818,
          28771541,
          55273950,
          566076.5,
          7903269.25,
          5176420,
          9072604500,
          7084938.5,
          42415546,
          1727483800,
          469717775,
          573554135,
          124454605,
          61654810,
          1257200850,
          21386595,
          240477935,
          84992990,
          7550243.5,
          3087308.5,
          20610842,
          1517719.5,
          214611495,
          959968,
          17570092,
          12788577,
          5022366.5,
          54399242,
          52708946,
          154768240,
          2293664,
          83347600,
          75783930,
          507687470,
          595986690,
          13865021.5,
          47971504,
          2901456.5,
          260382295,
          436016,
          329090835,
          59646448,
          186806500,
          118518822,
          141479080
         ],
         "xaxis": "x",
         "y": [
          92,
          6,
          4,
          null,
          105,
          4,
          null,
          29,
          436,
          18,
          13,
          284,
          192,
          51,
          15,
          9,
          107,
          5,
          14,
          1,
          6,
          23,
          9,
          2,
          60,
          3,
          19,
          33,
          37,
          33,
          14,
          91,
          7,
          278,
          1,
          23,
          50,
          60,
          10,
          29,
          90,
          10,
          41,
          null,
          1,
          3,
          158
         ],
         "yaxis": "y"
        },
        {
         "hovertemplate": "<b>%{hovertext}</b><br><br>Continent=Europe<br>Median CO₂ emissions=%{x}<br>Disaster count=%{y}<br>land area=%{marker.size}<extra></extra>",
         "hovertext": [
          "Albania",
          "Andorra",
          "Austria",
          "Belarus",
          "Belgium",
          "Bosnia and Herzegovina",
          "Bulgaria",
          "Croatia",
          "Cyprus",
          "Czechia",
          "Denmark",
          "Estonia",
          "Faeroe Islands",
          "Finland",
          "France",
          "Germany",
          "Greece",
          "Hungary",
          "Iceland",
          "Ireland",
          "Italy",
          "Latvia",
          "Liechtenstein",
          "Lithuania",
          "Luxembourg",
          "Malta",
          "Moldova",
          "Montenegro",
          "Netherlands",
          "North Macedonia",
          "Norway",
          "Poland",
          "Portugal",
          "Romania",
          "Russia",
          "Serbia",
          "Slovakia",
          "Slovenia",
          "Spain",
          "Sweden",
          "Switzerland",
          "Ukraine",
          "United Kingdom"
         ],
         "legendgroup": "Europe",
         "marker": {
          "color": "#EF553B",
          "size": [
           27400,
           470,
           82520,
           202980,
           30280,
           51200,
           108560,
           56590,
           9240,
           77200,
           40000,
           43470,
           1396,
           303920,
           547557,
           349380,
           128900,
           91260,
           100830,
           68890,
           297730,
           62090,
           160,
           62630,
           2430,
           320,
           32885.30078125,
           13450,
           33670,
           25220,
           365107.84375,
           306170,
           91605.6015625,
           230080,
           16376870,
           87460,
           48080,
           20136.400390625,
           499603.46875,
           407310,
           39516.03125,
           579400,
           241930
          ],
          "sizemode": "area",
          "sizeref": 40942.175,
          "symbol": "circle"
         },
         "mode": "markers",
         "name": "Europe",
         "orientation": "v",
         "showlegend": true,
         "type": "scatter",
         "x": [
          4625543,
          505631.985,
          68764504,
          59910298,
          106376235,
          19635217,
          47714340,
          20156053,
          7450390,
          115099532,
          46549673,
          17310637,
          688832,
          56271121,
          364834290,
          822450330,
          95929690,
          50827693,
          3481884.5,
          41081578,
          424475345,
          7519827.5,
          191687.5,
          13612494.5,
          10154524.5,
          2552415.5,
          4901514.5,
          2082984.05,
          168894495,
          8663528,
          44271000,
          323895345,
          54105774,
          88620845,
          1625471950,
          45612989,
          37803450,
          15982267,
          284707480,
          48413320,
          43278242,
          294892330,
          490792235
         ],
         "xaxis": "x",
         "y": [
          15,
          null,
          18,
          2,
          24,
          20,
          29,
          20,
          5,
          21,
          6,
          1,
          null,
          1,
          85,
          42,
          36,
          18,
          null,
          11,
          57,
          3,
          null,
          5,
          3,
          null,
          8,
          5,
          12,
          14,
          5,
          27,
          25,
          50,
          88,
          17,
          15,
          7,
          46,
          6,
          19,
          20,
          45
         ],
         "yaxis": "y"
        },
        {
         "hovertemplate": "<b>%{hovertext}</b><br><br>Continent=Africa<br>Median CO₂ emissions=%{x}<br>Disaster count=%{y}<br>land area=%{marker.size}<extra></extra>",
         "hovertext": [
          "Algeria",
          "Angola",
          "Benin",
          "Botswana",
          "Burkina Faso",
          "Cameroon",
          "Cape Verde",
          "Central African Republic",
          "Chad",
          "Comoros",
          "Congo",
          "Democratic Republic of Congo",
          "Egypt",
          "Equatorial Guinea",
          "Eritrea",
          "Eswatini",
          "Ethiopia",
          "Gabon",
          "Gambia",
          "Ghana",
          "Guinea",
          "Guinea-Bissau",
          "Kenya",
          "Lesotho",
          "Liberia",
          "Libya",
          "Madagascar",
          "Malawi",
          "Mali",
          "Mauritania",
          "Mauritius",
          "Morocco",
          "Mozambique",
          "Namibia",
          "Niger",
          "Nigeria",
          "Sao Tome and Principe",
          "Senegal",
          "Seychelles",
          "Sierra Leone",
          "Somalia",
          "South Africa",
          "South Sudan",
          "Sudan",
          "Tanzania",
          "Togo",
          "Tunisia",
          "Uganda",
          "Zambia",
          "Zimbabwe"
         ],
         "legendgroup": "Africa",
         "marker": {
          "color": "#00cc96",
          "size": [
           2381741,
           1246700,
           112760,
           566730,
           273600,
           472710,
           4030,
           622980,
           1259200,
           1861,
           341500,
           2267050,
           995450,
           28050,
           101000,
           17200,
           1129300.375,
           257670,
           10120,
           227540,
           245720,
           28120,
           569140,
           30360,
           96320,
           1759540,
           581800,
           94280,
           1220190,
           1030700,
           2030,
           446300,
           786380,
           823290,
           1266700,
           910770,
           960,
           192530,
           460,
           72180,
           627340,
           1213090,
           631928.125,
           1849233.75,
           885800,
           54390,
           155360,
           200520,
           743390,
           386850
          ],
          "sizemode": "area",
          "sizeref": 40942.175,
          "symbol": "circle"
         },
         "mode": "markers",
         "name": "Africa",
         "orientation": "v",
         "showlegend": true,
         "type": "scatter",
         "x": [
          119996200,
          23541795,
          4441129,
          4520165.5,
          2083652.5,
          6628048.5,
          498304.015,
          216176,
          1215889,
          157552,
          2100802.5,
          1988037.5,
          207294290,
          6967084.5,
          628785.5,
          1036911.97,
          6927962.5,
          4894575,
          425024,
          10467832.5,
          2137944,
          239992,
          11966908,
          2214888,
          802476,
          53346383,
          2122894,
          1079380,
          2183744,
          2099472,
          3914984,
          54616418,
          2844639,
          2772376,
          1246231.5,
          107411873,
          98928,
          7112260,
          419528,
          644864,
          608224,
          447789665,
          1301960.5,
          14293239.5,
          7339083.5,
          1834036,
          26313600,
          3598303,
          3246333.5,
          10654036
         ],
         "xaxis": "x",
         "y": [
          38,
          49,
          12,
          11,
          21,
          16,
          5,
          22,
          20,
          6,
          11,
          39,
          11,
          null,
          3,
          11,
          43,
          4,
          17,
          23,
          15,
          7,
          58,
          13,
          6,
          2,
          55,
          40,
          27,
          21,
          4,
          22,
          60,
          21,
          34,
          51,
          1,
          20,
          3,
          10,
          50,
          60,
          18,
          30,
          43,
          8,
          11,
          40,
          22,
          24
         ],
         "yaxis": "y"
        },
        {
         "hovertemplate": "<b>%{hovertext}</b><br><br>Continent=North America<br>Median CO₂ emissions=%{x}<br>Disaster count=%{y}<br>land area=%{marker.size}<extra></extra>",
         "hovertext": [
          "Antigua and Barbuda",
          "Bahamas",
          "Barbados",
          "Belize",
          "British Virgin Islands",
          "Canada",
          "Cuba",
          "Dominica",
          "Dominican Republic",
          "El Salvador",
          "Greenland",
          "Grenada",
          "Guatemala",
          "Haiti",
          "Honduras",
          "Jamaica",
          "Mexico",
          "Nicaragua",
          "Panama",
          "Saint Kitts and Nevis",
          "Saint Lucia",
          "Saint Vincent and the Grenadines",
          "Trinidad and Tobago",
          "United States"
         ],
         "legendgroup": "North America",
         "marker": {
          "color": "#ab63fa",
          "size": [
           440,
           10010,
           430,
           22810,
           150,
           8965590,
           103800,
           750,
           48310,
           20720,
           410450,
           340,
           107160,
           27560,
           111890,
           10830,
           1943950,
           120340,
           74177,
           260,
           610,
           390,
           5130,
           9147420
          ],
          "sizemode": "area",
          "sizeref": 40942.175,
          "symbol": "circle"
         },
         "mode": "markers",
         "name": "North America",
         "orientation": "v",
         "showlegend": true,
         "type": "scatter",
         "x": [
          443344,
          2059167.95,
          1303504,
          472656,
          181368,
          569145320,
          25649573,
          161216,
          21260857,
          6407134,
          586337,
          252815.98,
          12127090,
          2200504,
          8696611,
          8209518.25,
          473730215,
          4550224.5,
          9420099.5,
          219840,
          460539.5,
          219840,
          40548044,
          5537750000
         ],
         "xaxis": "x",
         "y": [
          3,
          15,
          6,
          12,
          2,
          61,
          37,
          4,
          49,
          30,
          null,
          3,
          50,
          77,
          45,
          20,
          122,
          37,
          36,
          2,
          8,
          10,
          4,
          509
         ],
         "yaxis": "y"
        },
        {
         "hovertemplate": "<b>%{hovertext}</b><br><br>Continent=South America<br>Median CO₂ emissions=%{x}<br>Disaster count=%{y}<br>land area=%{marker.size}<extra></extra>",
         "hovertext": [
          "Argentina",
          "Bolivia",
          "Brazil",
          "Chile",
          "Colombia",
          "Ecuador",
          "Guyana",
          "Paraguay",
          "Peru",
          "Suriname",
          "Uruguay",
          "Venezuela"
         ],
         "legendgroup": "South America",
         "marker": {
          "color": "#FFA15A",
          "size": [
           2736690,
           1083300,
           8358140,
           743532,
           1109500,
           248360,
           196850,
           397300,
           1280000,
           156000,
           175020,
           882050
          ],
          "sizemode": "area",
          "sizeref": 40942.175,
          "symbol": "circle"
         },
         "mode": "markers",
         "name": "South America",
         "orientation": "v",
         "showlegend": true,
         "type": "scatter",
         "x": [
          179774265,
          16287972.5,
          441287510,
          74450405,
          76179102,
          34641535,
          1918104,
          5096970,
          46498908,
          2188325.5,
          6505585.5,
          164838025
         ],
         "xaxis": "x",
         "y": [
          60,
          48,
          104,
          37,
          75,
          24,
          7,
          30,
          50,
          3,
          21,
          28
         ],
         "yaxis": "y"
        },
        {
         "hovertemplate": "<b>%{hovertext}</b><br><br>Continent=Oceania<br>Median CO₂ emissions=%{x}<br>Disaster count=%{y}<br>land area=%{marker.size}<extra></extra>",
         "hovertext": [
          "Australia",
          "Fiji",
          "French Polynesia",
          "Kiribati",
          "Marshall Islands",
          "Micronesia (country)",
          "New Caledonia",
          "New Zealand",
          "Palau",
          "Papua New Guinea",
          "Samoa",
          "Solomon Islands",
          "Tonga",
          "Tuvalu",
          "Vanuatu"
         ],
         "legendgroup": "Oceania",
         "marker": {
          "color": "#19d3f3",
          "size": [
           7692020,
           18270,
           3520,
           810,
           180,
           700,
           18280,
           263310,
           460,
           452860,
           2830,
           27990,
           720,
           30,
           12190
          ],
          "sizemode": "area",
          "sizeref": 40942.175,
          "symbol": "circle"
         },
         "mode": "markers",
         "name": "Oceania",
         "orientation": "v",
         "showlegend": true,
         "type": "scatter",
         "x": [
          399773465,
          1088103.5,
          848216,
          56792,
          135568,
          142896,
          3548141.5,
          35563527,
          216176,
          5157108,
          185032,
          293120,
          117248,
          10992,
          117248
         ],
         "xaxis": "x",
         "y": [
          107,
          28,
          2,
          3,
          5,
          8,
          2,
          26,
          4,
          20,
          6,
          15,
          10,
          4,
          11
         ],
         "yaxis": "y"
        }
       ],
       "layout": {
        "font": {
         "family": "arial, sans-serif"
        },
        "legend": {
         "itemsizing": "constant",
         "title": {
          "text": "Continent"
         },
         "tracegroupgap": 0
        },
        "margin": {
         "t": 60
        },
        "template": {
         "data": {
          "bar": [
           {
            "error_x": {
             "color": "#2a3f5f"
            },
            "error_y": {
             "color": "#2a3f5f"
            },
            "marker": {
             "line": {
              "color": "#E5ECF6",
              "width": 0.5
             }
            },
            "type": "bar"
           }
          ],
          "barpolar": [
           {
            "marker": {
             "line": {
              "color": "#E5ECF6",
              "width": 0.5
             }
            },
            "type": "barpolar"
           }
          ],
          "carpet": [
           {
            "aaxis": {
             "endlinecolor": "#2a3f5f",
             "gridcolor": "white",
             "linecolor": "white",
             "minorgridcolor": "white",
             "startlinecolor": "#2a3f5f"
            },
            "baxis": {
             "endlinecolor": "#2a3f5f",
             "gridcolor": "white",
             "linecolor": "white",
             "minorgridcolor": "white",
             "startlinecolor": "#2a3f5f"
            },
            "type": "carpet"
           }
          ],
          "choropleth": [
           {
            "colorbar": {
             "outlinewidth": 0,
             "ticks": ""
            },
            "type": "choropleth"
           }
          ],
          "contour": [
           {
            "colorbar": {
             "outlinewidth": 0,
             "ticks": ""
            },
            "colorscale": [
             [
              0,
              "#0d0887"
             ],
             [
              0.1111111111111111,
              "#46039f"
             ],
             [
              0.2222222222222222,
              "#7201a8"
             ],
             [
              0.3333333333333333,
              "#9c179e"
             ],
             [
              0.4444444444444444,
              "#bd3786"
             ],
             [
              0.5555555555555556,
              "#d8576b"
             ],
             [
              0.6666666666666666,
              "#ed7953"
             ],
             [
              0.7777777777777778,
              "#fb9f3a"
             ],
             [
              0.8888888888888888,
              "#fdca26"
             ],
             [
              1,
              "#f0f921"
             ]
            ],
            "type": "contour"
           }
          ],
          "contourcarpet": [
           {
            "colorbar": {
             "outlinewidth": 0,
             "ticks": ""
            },
            "type": "contourcarpet"
           }
          ],
          "heatmap": [
           {
            "colorbar": {
             "outlinewidth": 0,
             "ticks": ""
            },
            "colorscale": [
             [
              0,
              "#0d0887"
             ],
             [
              0.1111111111111111,
              "#46039f"
             ],
             [
              0.2222222222222222,
              "#7201a8"
             ],
             [
              0.3333333333333333,
              "#9c179e"
             ],
             [
              0.4444444444444444,
              "#bd3786"
             ],
             [
              0.5555555555555556,
              "#d8576b"
             ],
             [
              0.6666666666666666,
              "#ed7953"
             ],
             [
              0.7777777777777778,
              "#fb9f3a"
             ],
             [
              0.8888888888888888,
              "#fdca26"
             ],
             [
              1,
              "#f0f921"
             ]
            ],
            "type": "heatmap"
           }
          ],
          "heatmapgl": [
           {
            "colorbar": {
             "outlinewidth": 0,
             "ticks": ""
            },
            "colorscale": [
             [
              0,
              "#0d0887"
             ],
             [
              0.1111111111111111,
              "#46039f"
             ],
             [
              0.2222222222222222,
              "#7201a8"
             ],
             [
              0.3333333333333333,
              "#9c179e"
             ],
             [
              0.4444444444444444,
              "#bd3786"
             ],
             [
              0.5555555555555556,
              "#d8576b"
             ],
             [
              0.6666666666666666,
              "#ed7953"
             ],
             [
              0.7777777777777778,
              "#fb9f3a"
             ],
             [
              0.8888888888888888,
              "#fdca26"
             ],
             [
              1,
              "#f0f921"
             ]
            ],
            "type": "heatmapgl"
           }
          ],
          "histogram": [
           {
            "marker": {
             "colorbar": {
              "outlinewidth": 0,
              "ticks": ""
             }
            },
            "type": "histogram"
           }
          ],
          "histogram2d": [
           {
            "colorbar": {
             "outlinewidth": 0,
             "ticks": ""
            },
            "colorscale": [
             [
              0,
              "#0d0887"
             ],
             [
              0.1111111111111111,
              "#46039f"
             ],
             [
              0.2222222222222222,
              "#7201a8"
             ],
             [
              0.3333333333333333,
              "#9c179e"
             ],
             [
              0.4444444444444444,
              "#bd3786"
             ],
             [
              0.5555555555555556,
              "#d8576b"
             ],
             [
              0.6666666666666666,
              "#ed7953"
             ],
             [
              0.7777777777777778,
              "#fb9f3a"
             ],
             [
              0.8888888888888888,
              "#fdca26"
             ],
             [
              1,
              "#f0f921"
             ]
            ],
            "type": "histogram2d"
           }
          ],
          "histogram2dcontour": [
           {
            "colorbar": {
             "outlinewidth": 0,
             "ticks": ""
            },
            "colorscale": [
             [
              0,
              "#0d0887"
             ],
             [
              0.1111111111111111,
              "#46039f"
             ],
             [
              0.2222222222222222,
              "#7201a8"
             ],
             [
              0.3333333333333333,
              "#9c179e"
             ],
             [
              0.4444444444444444,
              "#bd3786"
             ],
             [
              0.5555555555555556,
              "#d8576b"
             ],
             [
              0.6666666666666666,
              "#ed7953"
             ],
             [
              0.7777777777777778,
              "#fb9f3a"
             ],
             [
              0.8888888888888888,
              "#fdca26"
             ],
             [
              1,
              "#f0f921"
             ]
            ],
            "type": "histogram2dcontour"
           }
          ],
          "mesh3d": [
           {
            "colorbar": {
             "outlinewidth": 0,
             "ticks": ""
            },
            "type": "mesh3d"
           }
          ],
          "parcoords": [
           {
            "line": {
             "colorbar": {
              "outlinewidth": 0,
              "ticks": ""
             }
            },
            "type": "parcoords"
           }
          ],
          "pie": [
           {
            "automargin": true,
            "type": "pie"
           }
          ],
          "scatter": [
           {
            "marker": {
             "colorbar": {
              "outlinewidth": 0,
              "ticks": ""
             }
            },
            "type": "scatter"
           }
          ],
          "scatter3d": [
           {
            "line": {
             "colorbar": {
              "outlinewidth": 0,
              "ticks": ""
             }
            },
            "marker": {
             "colorbar": {
              "outlinewidth": 0,
              "ticks": ""
             }
            },
            "type": "scatter3d"
           }
          ],
          "scattercarpet": [
           {
            "marker": {
             "colorbar": {
              "outlinewidth": 0,
              "ticks": ""
             }
            },
            "type": "scattercarpet"
           }
          ],
          "scattergeo": [
           {
            "marker": {
             "colorbar": {
              "outlinewidth": 0,
              "ticks": ""
             }
            },
            "type": "scattergeo"
           }
          ],
          "scattergl": [
           {
            "marker": {
             "colorbar": {
              "outlinewidth": 0,
              "ticks": ""
             }
            },
            "type": "scattergl"
           }
          ],
          "scattermapbox": [
           {
            "marker": {
             "colorbar": {
              "outlinewidth": 0,
              "ticks": ""
             }
            },
            "type": "scattermapbox"
           }
          ],
          "scatterpolar": [
           {
            "marker": {
             "colorbar": {
              "outlinewidth": 0,
              "ticks": ""
             }
            },
            "type": "scatterpolar"
           }
          ],
          "scatterpolargl": [
           {
            "marker": {
             "colorbar": {
              "outlinewidth": 0,
              "ticks": ""
             }
            },
            "type": "scatterpolargl"
           }
          ],
          "scatterternary": [
           {
            "marker": {
             "colorbar": {
              "outlinewidth": 0,
              "ticks": ""
             }
            },
            "type": "scatterternary"
           }
          ],
          "surface": [
           {
            "colorbar": {
             "outlinewidth": 0,
             "ticks": ""
            },
            "colorscale": [
             [
              0,
              "#0d0887"
             ],
             [
              0.1111111111111111,
              "#46039f"
             ],
             [
              0.2222222222222222,
              "#7201a8"
             ],
             [
              0.3333333333333333,
              "#9c179e"
             ],
             [
              0.4444444444444444,
              "#bd3786"
             ],
             [
              0.5555555555555556,
              "#d8576b"
             ],
             [
              0.6666666666666666,
              "#ed7953"
             ],
             [
              0.7777777777777778,
              "#fb9f3a"
             ],
             [
              0.8888888888888888,
              "#fdca26"
             ],
             [
              1,
              "#f0f921"
             ]
            ],
            "type": "surface"
           }
          ],
          "table": [
           {
            "cells": {
             "fill": {
              "color": "#EBF0F8"
             },
             "line": {
              "color": "white"
             }
            },
            "header": {
             "fill": {
              "color": "#C8D4E3"
             },
             "line": {
              "color": "white"
             }
            },
            "type": "table"
           }
          ]
         },
         "layout": {
          "annotationdefaults": {
           "arrowcolor": "#2a3f5f",
           "arrowhead": 0,
           "arrowwidth": 1
          },
          "autotypenumbers": "strict",
          "coloraxis": {
           "colorbar": {
            "outlinewidth": 0,
            "ticks": ""
           }
          },
          "colorscale": {
           "diverging": [
            [
             0,
             "#8e0152"
            ],
            [
             0.1,
             "#c51b7d"
            ],
            [
             0.2,
             "#de77ae"
            ],
            [
             0.3,
             "#f1b6da"
            ],
            [
             0.4,
             "#fde0ef"
            ],
            [
             0.5,
             "#f7f7f7"
            ],
            [
             0.6,
             "#e6f5d0"
            ],
            [
             0.7,
             "#b8e186"
            ],
            [
             0.8,
             "#7fbc41"
            ],
            [
             0.9,
             "#4d9221"
            ],
            [
             1,
             "#276419"
            ]
           ],
           "sequential": [
            [
             0,
             "#0d0887"
            ],
            [
             0.1111111111111111,
             "#46039f"
            ],
            [
             0.2222222222222222,
             "#7201a8"
            ],
            [
             0.3333333333333333,
             "#9c179e"
            ],
            [
             0.4444444444444444,
             "#bd3786"
            ],
            [
             0.5555555555555556,
             "#d8576b"
            ],
            [
             0.6666666666666666,
             "#ed7953"
            ],
            [
             0.7777777777777778,
             "#fb9f3a"
            ],
            [
             0.8888888888888888,
             "#fdca26"
            ],
            [
             1,
             "#f0f921"
            ]
           ],
           "sequentialminus": [
            [
             0,
             "#0d0887"
            ],
            [
             0.1111111111111111,
             "#46039f"
            ],
            [
             0.2222222222222222,
             "#7201a8"
            ],
            [
             0.3333333333333333,
             "#9c179e"
            ],
            [
             0.4444444444444444,
             "#bd3786"
            ],
            [
             0.5555555555555556,
             "#d8576b"
            ],
            [
             0.6666666666666666,
             "#ed7953"
            ],
            [
             0.7777777777777778,
             "#fb9f3a"
            ],
            [
             0.8888888888888888,
             "#fdca26"
            ],
            [
             1,
             "#f0f921"
            ]
           ]
          },
          "colorway": [
           "#636efa",
           "#EF553B",
           "#00cc96",
           "#ab63fa",
           "#FFA15A",
           "#19d3f3",
           "#FF6692",
           "#B6E880",
           "#FF97FF",
           "#FECB52"
          ],
          "font": {
           "color": "#2a3f5f"
          },
          "geo": {
           "bgcolor": "white",
           "lakecolor": "white",
           "landcolor": "#E5ECF6",
           "showlakes": true,
           "showland": true,
           "subunitcolor": "white"
          },
          "hoverlabel": {
           "align": "left"
          },
          "hovermode": "closest",
          "mapbox": {
           "style": "light"
          },
          "paper_bgcolor": "white",
          "plot_bgcolor": "#E5ECF6",
          "polar": {
           "angularaxis": {
            "gridcolor": "white",
            "linecolor": "white",
            "ticks": ""
           },
           "bgcolor": "#E5ECF6",
           "radialaxis": {
            "gridcolor": "white",
            "linecolor": "white",
            "ticks": ""
           }
          },
          "scene": {
           "xaxis": {
            "backgroundcolor": "#E5ECF6",
            "gridcolor": "white",
            "gridwidth": 2,
            "linecolor": "white",
            "showbackground": true,
            "ticks": "",
            "zerolinecolor": "white"
           },
           "yaxis": {
            "backgroundcolor": "#E5ECF6",
            "gridcolor": "white",
            "gridwidth": 2,
            "linecolor": "white",
            "showbackground": true,
            "ticks": "",
            "zerolinecolor": "white"
           },
           "zaxis": {
            "backgroundcolor": "#E5ECF6",
            "gridcolor": "white",
            "gridwidth": 2,
            "linecolor": "white",
            "showbackground": true,
            "ticks": "",
            "zerolinecolor": "white"
           }
          },
          "shapedefaults": {
           "line": {
            "color": "#2a3f5f"
           }
          },
          "ternary": {
           "aaxis": {
            "gridcolor": "white",
            "linecolor": "white",
            "ticks": ""
           },
           "baxis": {
            "gridcolor": "white",
            "linecolor": "white",
            "ticks": ""
           },
           "bgcolor": "#E5ECF6",
           "caxis": {
            "gridcolor": "white",
            "linecolor": "white",
            "ticks": ""
           }
          },
          "title": {
           "x": 0.05
          },
          "xaxis": {
           "automargin": true,
           "gridcolor": "white",
           "linecolor": "white",
           "ticks": "",
           "title": {
            "standoff": 15
           },
           "zerolinecolor": "white",
           "zerolinewidth": 2
          },
          "yaxis": {
           "automargin": true,
           "gridcolor": "white",
           "linecolor": "white",
           "ticks": "",
           "title": {
            "standoff": 15
           },
           "zerolinecolor": "white",
           "zerolinewidth": 2
          }
         }
        },
        "title": {
         "text": "Disaster counts vs Median CO2 emissions"
        },
        "xaxis": {
         "anchor": "y",
         "domain": [
          0,
          1
         ],
         "title": {
          "text": "Median CO₂ emissions"
         }
        },
        "yaxis": {
         "anchor": "x",
         "domain": [
          0,
          1
         ],
         "title": {
          "text": "Disaster count"
         }
        }
       }
      },
      "text/html": [
       "<div>                            <div id=\"15ef5ed9-cd76-4a7c-9748-e83cb0e276f1\" class=\"plotly-graph-div\" style=\"height:525px; width:100%;\"></div>            <script type=\"text/javascript\">                require([\"plotly\"], function(Plotly) {                    window.PLOTLYENV=window.PLOTLYENV || {};                                    if (document.getElementById(\"15ef5ed9-cd76-4a7c-9748-e83cb0e276f1\")) {                    Plotly.newPlot(                        \"15ef5ed9-cd76-4a7c-9748-e83cb0e276f1\",                        [{\"hovertemplate\": \"<b>%{hovertext}</b><br><br>Continent=Asia<br>Median CO\\u2082 emissions=%{x}<br>Disaster count=%{y}<br>land area=%{marker.size}<extra></extra>\", \"hovertext\": [\"Afghanistan\", \"Armenia\", \"Azerbaijan\", \"Bahrain\", \"Bangladesh\", \"Bhutan\", \"Brunei\", \"Cambodia\", \"China\", \"Georgia\", \"Hong Kong\", \"India\", \"Indonesia\", \"Iran\", \"Iraq\", \"Israel\", \"Japan\", \"Jordan\", \"Kazakhstan\", \"Kuwait\", \"Kyrgyzstan\", \"Laos\", \"Lebanon\", \"Macao\", \"Malaysia\", \"Maldives\", \"Mongolia\", \"Myanmar\", \"Nepal\", \"North Korea\", \"Oman\", \"Pakistan\", \"Palestine\", \"Philippines\", \"Qatar\", \"Saudi Arabia\", \"South Korea\", \"Sri Lanka\", \"Syria\", \"Tajikistan\", \"Thailand\", \"Timor\", \"Turkey\", \"Turkmenistan\", \"United Arab Emirates\", \"Uzbekistan\", \"Vietnam\"], \"legendgroup\": \"Asia\", \"marker\": {\"color\": \"#636efa\", \"size\": [652860.0, 28470.0, 82654.0, 780.0, 130170.0, 38140.0, 5270.0, 176520.0, 9424703.0, 69490.0, 1050.0, 2973190.0, 1877519.0, 1628760.0, 434128.0, 21640.0, 364500.0, 88780.0, 2699700.0, 17820.0, 191800.0, 230800.0, 10230.0, 32.900001525878906, 328550.0, 300.0, 1557255.0, 652790.0, 143350.0, 120410.0, 309500.0, 770880.0, 6020.0, 298170.0, 11490.0, 2149690.0, 97520.0, 61864.0, 183630.0, 138790.0, 510890.0, 14870.0, 769630.0, 469930.0, 71020.0, 440555.0, 310070.0], \"sizemode\": \"area\", \"sizeref\": 40942.175, \"symbol\": \"circle\"}, \"mode\": \"markers\", \"name\": \"Asia\", \"orientation\": \"v\", \"showlegend\": true, \"type\": \"scatter\", \"x\": [8716200.75, 5151611.5, 33920818.0, 28771541.0, 55273950.0, 566076.5, 7903269.25, 5176420.0, 9072604500.0, 7084938.5, 42415546.0, 1727483800.0, 469717775.0, 573554135.0, 124454605.0, 61654810.0, 1257200850.0, 21386595.0, 240477935.0, 84992990.0, 7550243.5, 3087308.5, 20610842.0, 1517719.5, 214611495.0, 959968.0, 17570092.0, 12788577.0, 5022366.5, 54399242.0, 52708946.0, 154768240.0, 2293664.0, 83347600.0, 75783930.0, 507687470.0, 595986690.0, 13865021.5, 47971504.0, 2901456.5, 260382295.0, 436016.0, 329090835.0, 59646448.0, 186806500.0, 118518822.0, 141479080.0], \"xaxis\": \"x\", \"y\": [92.0, 6.0, 4.0, null, 105.0, 4.0, null, 29.0, 436.0, 18.0, 13.0, 284.0, 192.0, 51.0, 15.0, 9.0, 107.0, 5.0, 14.0, 1.0, 6.0, 23.0, 9.0, 2.0, 60.0, 3.0, 19.0, 33.0, 37.0, 33.0, 14.0, 91.0, 7.0, 278.0, 1.0, 23.0, 50.0, 60.0, 10.0, 29.0, 90.0, 10.0, 41.0, null, 1.0, 3.0, 158.0], \"yaxis\": \"y\"}, {\"hovertemplate\": \"<b>%{hovertext}</b><br><br>Continent=Europe<br>Median CO\\u2082 emissions=%{x}<br>Disaster count=%{y}<br>land area=%{marker.size}<extra></extra>\", \"hovertext\": [\"Albania\", \"Andorra\", \"Austria\", \"Belarus\", \"Belgium\", \"Bosnia and Herzegovina\", \"Bulgaria\", \"Croatia\", \"Cyprus\", \"Czechia\", \"Denmark\", \"Estonia\", \"Faeroe Islands\", \"Finland\", \"France\", \"Germany\", \"Greece\", \"Hungary\", \"Iceland\", \"Ireland\", \"Italy\", \"Latvia\", \"Liechtenstein\", \"Lithuania\", \"Luxembourg\", \"Malta\", \"Moldova\", \"Montenegro\", \"Netherlands\", \"North Macedonia\", \"Norway\", \"Poland\", \"Portugal\", \"Romania\", \"Russia\", \"Serbia\", \"Slovakia\", \"Slovenia\", \"Spain\", \"Sweden\", \"Switzerland\", \"Ukraine\", \"United Kingdom\"], \"legendgroup\": \"Europe\", \"marker\": {\"color\": \"#EF553B\", \"size\": [27400.0, 470.0, 82520.0, 202980.0, 30280.0, 51200.0, 108560.0, 56590.0, 9240.0, 77200.0, 40000.0, 43470.0, 1396.0, 303920.0, 547557.0, 349380.0, 128900.0, 91260.0, 100830.0, 68890.0, 297730.0, 62090.0, 160.0, 62630.0, 2430.0, 320.0, 32885.30078125, 13450.0, 33670.0, 25220.0, 365107.84375, 306170.0, 91605.6015625, 230080.0, 16376870.0, 87460.0, 48080.0, 20136.400390625, 499603.46875, 407310.0, 39516.03125, 579400.0, 241930.0], \"sizemode\": \"area\", \"sizeref\": 40942.175, \"symbol\": \"circle\"}, \"mode\": \"markers\", \"name\": \"Europe\", \"orientation\": \"v\", \"showlegend\": true, \"type\": \"scatter\", \"x\": [4625543.0, 505631.985, 68764504.0, 59910298.0, 106376235.0, 19635217.0, 47714340.0, 20156053.0, 7450390.0, 115099532.0, 46549673.0, 17310637.0, 688832.0, 56271121.0, 364834290.0, 822450330.0, 95929690.0, 50827693.0, 3481884.5, 41081578.0, 424475345.0, 7519827.5, 191687.5, 13612494.5, 10154524.5, 2552415.5, 4901514.5, 2082984.05, 168894495.0, 8663528.0, 44271000.0, 323895345.0, 54105774.0, 88620845.0, 1625471950.0, 45612989.0, 37803450.0, 15982267.0, 284707480.0, 48413320.0, 43278242.0, 294892330.0, 490792235.0], \"xaxis\": \"x\", \"y\": [15.0, null, 18.0, 2.0, 24.0, 20.0, 29.0, 20.0, 5.0, 21.0, 6.0, 1.0, null, 1.0, 85.0, 42.0, 36.0, 18.0, null, 11.0, 57.0, 3.0, null, 5.0, 3.0, null, 8.0, 5.0, 12.0, 14.0, 5.0, 27.0, 25.0, 50.0, 88.0, 17.0, 15.0, 7.0, 46.0, 6.0, 19.0, 20.0, 45.0], \"yaxis\": \"y\"}, {\"hovertemplate\": \"<b>%{hovertext}</b><br><br>Continent=Africa<br>Median CO\\u2082 emissions=%{x}<br>Disaster count=%{y}<br>land area=%{marker.size}<extra></extra>\", \"hovertext\": [\"Algeria\", \"Angola\", \"Benin\", \"Botswana\", \"Burkina Faso\", \"Cameroon\", \"Cape Verde\", \"Central African Republic\", \"Chad\", \"Comoros\", \"Congo\", \"Democratic Republic of Congo\", \"Egypt\", \"Equatorial Guinea\", \"Eritrea\", \"Eswatini\", \"Ethiopia\", \"Gabon\", \"Gambia\", \"Ghana\", \"Guinea\", \"Guinea-Bissau\", \"Kenya\", \"Lesotho\", \"Liberia\", \"Libya\", \"Madagascar\", \"Malawi\", \"Mali\", \"Mauritania\", \"Mauritius\", \"Morocco\", \"Mozambique\", \"Namibia\", \"Niger\", \"Nigeria\", \"Sao Tome and Principe\", \"Senegal\", \"Seychelles\", \"Sierra Leone\", \"Somalia\", \"South Africa\", \"South Sudan\", \"Sudan\", \"Tanzania\", \"Togo\", \"Tunisia\", \"Uganda\", \"Zambia\", \"Zimbabwe\"], \"legendgroup\": \"Africa\", \"marker\": {\"color\": \"#00cc96\", \"size\": [2381741.0, 1246700.0, 112760.0, 566730.0, 273600.0, 472710.0, 4030.0, 622980.0, 1259200.0, 1861.0, 341500.0, 2267050.0, 995450.0, 28050.0, 101000.0, 17200.0, 1129300.375, 257670.0, 10120.0, 227540.0, 245720.0, 28120.0, 569140.0, 30360.0, 96320.0, 1759540.0, 581800.0, 94280.0, 1220190.0, 1030700.0, 2030.0, 446300.0, 786380.0, 823290.0, 1266700.0, 910770.0, 960.0, 192530.0, 460.0, 72180.0, 627340.0, 1213090.0, 631928.125, 1849233.75, 885800.0, 54390.0, 155360.0, 200520.0, 743390.0, 386850.0], \"sizemode\": \"area\", \"sizeref\": 40942.175, \"symbol\": \"circle\"}, \"mode\": \"markers\", \"name\": \"Africa\", \"orientation\": \"v\", \"showlegend\": true, \"type\": \"scatter\", \"x\": [119996200.0, 23541795.0, 4441129.0, 4520165.5, 2083652.5, 6628048.5, 498304.015, 216176.0, 1215889.0, 157552.0, 2100802.5, 1988037.5, 207294290.0, 6967084.5, 628785.5, 1036911.97, 6927962.5, 4894575.0, 425024.0, 10467832.5, 2137944.0, 239992.0, 11966908.0, 2214888.0, 802476.0, 53346383.0, 2122894.0, 1079380.0, 2183744.0, 2099472.0, 3914984.0, 54616418.0, 2844639.0, 2772376.0, 1246231.5, 107411873.0, 98928.0, 7112260.0, 419528.0, 644864.0, 608224.0, 447789665.0, 1301960.5, 14293239.5, 7339083.5, 1834036.0, 26313600.0, 3598303.0, 3246333.5, 10654036.0], \"xaxis\": \"x\", \"y\": [38.0, 49.0, 12.0, 11.0, 21.0, 16.0, 5.0, 22.0, 20.0, 6.0, 11.0, 39.0, 11.0, null, 3.0, 11.0, 43.0, 4.0, 17.0, 23.0, 15.0, 7.0, 58.0, 13.0, 6.0, 2.0, 55.0, 40.0, 27.0, 21.0, 4.0, 22.0, 60.0, 21.0, 34.0, 51.0, 1.0, 20.0, 3.0, 10.0, 50.0, 60.0, 18.0, 30.0, 43.0, 8.0, 11.0, 40.0, 22.0, 24.0], \"yaxis\": \"y\"}, {\"hovertemplate\": \"<b>%{hovertext}</b><br><br>Continent=North America<br>Median CO\\u2082 emissions=%{x}<br>Disaster count=%{y}<br>land area=%{marker.size}<extra></extra>\", \"hovertext\": [\"Antigua and Barbuda\", \"Bahamas\", \"Barbados\", \"Belize\", \"British Virgin Islands\", \"Canada\", \"Cuba\", \"Dominica\", \"Dominican Republic\", \"El Salvador\", \"Greenland\", \"Grenada\", \"Guatemala\", \"Haiti\", \"Honduras\", \"Jamaica\", \"Mexico\", \"Nicaragua\", \"Panama\", \"Saint Kitts and Nevis\", \"Saint Lucia\", \"Saint Vincent and the Grenadines\", \"Trinidad and Tobago\", \"United States\"], \"legendgroup\": \"North America\", \"marker\": {\"color\": \"#ab63fa\", \"size\": [440.0, 10010.0, 430.0, 22810.0, 150.0, 8965590.0, 103800.0, 750.0, 48310.0, 20720.0, 410450.0, 340.0, 107160.0, 27560.0, 111890.0, 10830.0, 1943950.0, 120340.0, 74177.0, 260.0, 610.0, 390.0, 5130.0, 9147420.0], \"sizemode\": \"area\", \"sizeref\": 40942.175, \"symbol\": \"circle\"}, \"mode\": \"markers\", \"name\": \"North America\", \"orientation\": \"v\", \"showlegend\": true, \"type\": \"scatter\", \"x\": [443344.0, 2059167.95, 1303504.0, 472656.0, 181368.0, 569145320.0, 25649573.0, 161216.0, 21260857.0, 6407134.0, 586337.0, 252815.98, 12127090.0, 2200504.0, 8696611.0, 8209518.25, 473730215.0, 4550224.5, 9420099.5, 219840.0, 460539.5, 219840.0, 40548044.0, 5537750000.0], \"xaxis\": \"x\", \"y\": [3.0, 15.0, 6.0, 12.0, 2.0, 61.0, 37.0, 4.0, 49.0, 30.0, null, 3.0, 50.0, 77.0, 45.0, 20.0, 122.0, 37.0, 36.0, 2.0, 8.0, 10.0, 4.0, 509.0], \"yaxis\": \"y\"}, {\"hovertemplate\": \"<b>%{hovertext}</b><br><br>Continent=South America<br>Median CO\\u2082 emissions=%{x}<br>Disaster count=%{y}<br>land area=%{marker.size}<extra></extra>\", \"hovertext\": [\"Argentina\", \"Bolivia\", \"Brazil\", \"Chile\", \"Colombia\", \"Ecuador\", \"Guyana\", \"Paraguay\", \"Peru\", \"Suriname\", \"Uruguay\", \"Venezuela\"], \"legendgroup\": \"South America\", \"marker\": {\"color\": \"#FFA15A\", \"size\": [2736690.0, 1083300.0, 8358140.0, 743532.0, 1109500.0, 248360.0, 196850.0, 397300.0, 1280000.0, 156000.0, 175020.0, 882050.0], \"sizemode\": \"area\", \"sizeref\": 40942.175, \"symbol\": \"circle\"}, \"mode\": \"markers\", \"name\": \"South America\", \"orientation\": \"v\", \"showlegend\": true, \"type\": \"scatter\", \"x\": [179774265.0, 16287972.5, 441287510.0, 74450405.0, 76179102.0, 34641535.0, 1918104.0, 5096970.0, 46498908.0, 2188325.5, 6505585.5, 164838025.0], \"xaxis\": \"x\", \"y\": [60.0, 48.0, 104.0, 37.0, 75.0, 24.0, 7.0, 30.0, 50.0, 3.0, 21.0, 28.0], \"yaxis\": \"y\"}, {\"hovertemplate\": \"<b>%{hovertext}</b><br><br>Continent=Oceania<br>Median CO\\u2082 emissions=%{x}<br>Disaster count=%{y}<br>land area=%{marker.size}<extra></extra>\", \"hovertext\": [\"Australia\", \"Fiji\", \"French Polynesia\", \"Kiribati\", \"Marshall Islands\", \"Micronesia (country)\", \"New Caledonia\", \"New Zealand\", \"Palau\", \"Papua New Guinea\", \"Samoa\", \"Solomon Islands\", \"Tonga\", \"Tuvalu\", \"Vanuatu\"], \"legendgroup\": \"Oceania\", \"marker\": {\"color\": \"#19d3f3\", \"size\": [7692020.0, 18270.0, 3520.0, 810.0, 180.0, 700.0, 18280.0, 263310.0, 460.0, 452860.0, 2830.0, 27990.0, 720.0, 30.0, 12190.0], \"sizemode\": \"area\", \"sizeref\": 40942.175, \"symbol\": \"circle\"}, \"mode\": \"markers\", \"name\": \"Oceania\", \"orientation\": \"v\", \"showlegend\": true, \"type\": \"scatter\", \"x\": [399773465.0, 1088103.5, 848216.0, 56792.0, 135568.0, 142896.0, 3548141.5, 35563527.0, 216176.0, 5157108.0, 185032.0, 293120.0, 117248.0, 10992.0, 117248.0], \"xaxis\": \"x\", \"y\": [107.0, 28.0, 2.0, 3.0, 5.0, 8.0, 2.0, 26.0, 4.0, 20.0, 6.0, 15.0, 10.0, 4.0, 11.0], \"yaxis\": \"y\"}],                        {\"font\": {\"family\": \"arial, sans-serif\"}, \"legend\": {\"itemsizing\": \"constant\", \"title\": {\"text\": \"Continent\"}, \"tracegroupgap\": 0}, \"margin\": {\"t\": 60}, \"template\": {\"data\": {\"bar\": [{\"error_x\": {\"color\": \"#2a3f5f\"}, \"error_y\": {\"color\": \"#2a3f5f\"}, \"marker\": {\"line\": {\"color\": \"#E5ECF6\", \"width\": 0.5}}, \"type\": \"bar\"}], \"barpolar\": [{\"marker\": {\"line\": {\"color\": \"#E5ECF6\", \"width\": 0.5}}, \"type\": \"barpolar\"}], \"carpet\": [{\"aaxis\": {\"endlinecolor\": \"#2a3f5f\", \"gridcolor\": \"white\", \"linecolor\": \"white\", \"minorgridcolor\": \"white\", \"startlinecolor\": \"#2a3f5f\"}, \"baxis\": {\"endlinecolor\": \"#2a3f5f\", \"gridcolor\": \"white\", \"linecolor\": \"white\", \"minorgridcolor\": \"white\", \"startlinecolor\": \"#2a3f5f\"}, \"type\": \"carpet\"}], \"choropleth\": [{\"colorbar\": {\"outlinewidth\": 0, \"ticks\": \"\"}, \"type\": \"choropleth\"}], \"contour\": [{\"colorbar\": {\"outlinewidth\": 0, \"ticks\": \"\"}, \"colorscale\": [[0.0, \"#0d0887\"], [0.1111111111111111, \"#46039f\"], [0.2222222222222222, \"#7201a8\"], [0.3333333333333333, \"#9c179e\"], [0.4444444444444444, \"#bd3786\"], [0.5555555555555556, \"#d8576b\"], [0.6666666666666666, \"#ed7953\"], [0.7777777777777778, \"#fb9f3a\"], [0.8888888888888888, \"#fdca26\"], [1.0, \"#f0f921\"]], \"type\": \"contour\"}], \"contourcarpet\": [{\"colorbar\": {\"outlinewidth\": 0, \"ticks\": \"\"}, \"type\": \"contourcarpet\"}], \"heatmap\": [{\"colorbar\": {\"outlinewidth\": 0, \"ticks\": \"\"}, \"colorscale\": [[0.0, \"#0d0887\"], [0.1111111111111111, \"#46039f\"], [0.2222222222222222, \"#7201a8\"], [0.3333333333333333, \"#9c179e\"], [0.4444444444444444, \"#bd3786\"], [0.5555555555555556, \"#d8576b\"], [0.6666666666666666, \"#ed7953\"], [0.7777777777777778, \"#fb9f3a\"], [0.8888888888888888, \"#fdca26\"], [1.0, \"#f0f921\"]], \"type\": \"heatmap\"}], \"heatmapgl\": [{\"colorbar\": {\"outlinewidth\": 0, \"ticks\": \"\"}, \"colorscale\": [[0.0, \"#0d0887\"], [0.1111111111111111, \"#46039f\"], [0.2222222222222222, \"#7201a8\"], [0.3333333333333333, \"#9c179e\"], [0.4444444444444444, \"#bd3786\"], [0.5555555555555556, \"#d8576b\"], [0.6666666666666666, \"#ed7953\"], [0.7777777777777778, \"#fb9f3a\"], [0.8888888888888888, \"#fdca26\"], [1.0, \"#f0f921\"]], \"type\": \"heatmapgl\"}], \"histogram\": [{\"marker\": {\"colorbar\": {\"outlinewidth\": 0, \"ticks\": \"\"}}, \"type\": \"histogram\"}], \"histogram2d\": [{\"colorbar\": {\"outlinewidth\": 0, \"ticks\": \"\"}, \"colorscale\": [[0.0, \"#0d0887\"], [0.1111111111111111, \"#46039f\"], [0.2222222222222222, \"#7201a8\"], [0.3333333333333333, \"#9c179e\"], [0.4444444444444444, \"#bd3786\"], [0.5555555555555556, \"#d8576b\"], [0.6666666666666666, \"#ed7953\"], [0.7777777777777778, \"#fb9f3a\"], [0.8888888888888888, \"#fdca26\"], [1.0, \"#f0f921\"]], \"type\": \"histogram2d\"}], \"histogram2dcontour\": [{\"colorbar\": {\"outlinewidth\": 0, \"ticks\": \"\"}, \"colorscale\": [[0.0, \"#0d0887\"], [0.1111111111111111, \"#46039f\"], [0.2222222222222222, \"#7201a8\"], [0.3333333333333333, \"#9c179e\"], [0.4444444444444444, \"#bd3786\"], [0.5555555555555556, \"#d8576b\"], [0.6666666666666666, \"#ed7953\"], [0.7777777777777778, \"#fb9f3a\"], [0.8888888888888888, \"#fdca26\"], [1.0, \"#f0f921\"]], \"type\": \"histogram2dcontour\"}], \"mesh3d\": [{\"colorbar\": {\"outlinewidth\": 0, \"ticks\": \"\"}, \"type\": \"mesh3d\"}], \"parcoords\": [{\"line\": {\"colorbar\": {\"outlinewidth\": 0, \"ticks\": \"\"}}, \"type\": \"parcoords\"}], \"pie\": [{\"automargin\": true, \"type\": \"pie\"}], \"scatter\": [{\"marker\": {\"colorbar\": {\"outlinewidth\": 0, \"ticks\": \"\"}}, \"type\": \"scatter\"}], \"scatter3d\": [{\"line\": {\"colorbar\": {\"outlinewidth\": 0, \"ticks\": \"\"}}, \"marker\": {\"colorbar\": {\"outlinewidth\": 0, \"ticks\": \"\"}}, \"type\": \"scatter3d\"}], \"scattercarpet\": [{\"marker\": {\"colorbar\": {\"outlinewidth\": 0, \"ticks\": \"\"}}, \"type\": \"scattercarpet\"}], \"scattergeo\": [{\"marker\": {\"colorbar\": {\"outlinewidth\": 0, \"ticks\": \"\"}}, \"type\": \"scattergeo\"}], \"scattergl\": [{\"marker\": {\"colorbar\": {\"outlinewidth\": 0, \"ticks\": \"\"}}, \"type\": \"scattergl\"}], \"scattermapbox\": [{\"marker\": {\"colorbar\": {\"outlinewidth\": 0, \"ticks\": \"\"}}, \"type\": \"scattermapbox\"}], \"scatterpolar\": [{\"marker\": {\"colorbar\": {\"outlinewidth\": 0, \"ticks\": \"\"}}, \"type\": \"scatterpolar\"}], \"scatterpolargl\": [{\"marker\": {\"colorbar\": {\"outlinewidth\": 0, \"ticks\": \"\"}}, \"type\": \"scatterpolargl\"}], \"scatterternary\": [{\"marker\": {\"colorbar\": {\"outlinewidth\": 0, \"ticks\": \"\"}}, \"type\": \"scatterternary\"}], \"surface\": [{\"colorbar\": {\"outlinewidth\": 0, \"ticks\": \"\"}, \"colorscale\": [[0.0, \"#0d0887\"], [0.1111111111111111, \"#46039f\"], [0.2222222222222222, \"#7201a8\"], [0.3333333333333333, \"#9c179e\"], [0.4444444444444444, \"#bd3786\"], [0.5555555555555556, \"#d8576b\"], [0.6666666666666666, \"#ed7953\"], [0.7777777777777778, \"#fb9f3a\"], [0.8888888888888888, \"#fdca26\"], [1.0, \"#f0f921\"]], \"type\": \"surface\"}], \"table\": [{\"cells\": {\"fill\": {\"color\": \"#EBF0F8\"}, \"line\": {\"color\": \"white\"}}, \"header\": {\"fill\": {\"color\": \"#C8D4E3\"}, \"line\": {\"color\": \"white\"}}, \"type\": \"table\"}]}, \"layout\": {\"annotationdefaults\": {\"arrowcolor\": \"#2a3f5f\", \"arrowhead\": 0, \"arrowwidth\": 1}, \"autotypenumbers\": \"strict\", \"coloraxis\": {\"colorbar\": {\"outlinewidth\": 0, \"ticks\": \"\"}}, \"colorscale\": {\"diverging\": [[0, \"#8e0152\"], [0.1, \"#c51b7d\"], [0.2, \"#de77ae\"], [0.3, \"#f1b6da\"], [0.4, \"#fde0ef\"], [0.5, \"#f7f7f7\"], [0.6, \"#e6f5d0\"], [0.7, \"#b8e186\"], [0.8, \"#7fbc41\"], [0.9, \"#4d9221\"], [1, \"#276419\"]], \"sequential\": [[0.0, \"#0d0887\"], [0.1111111111111111, \"#46039f\"], [0.2222222222222222, \"#7201a8\"], [0.3333333333333333, \"#9c179e\"], [0.4444444444444444, \"#bd3786\"], [0.5555555555555556, \"#d8576b\"], [0.6666666666666666, \"#ed7953\"], [0.7777777777777778, \"#fb9f3a\"], [0.8888888888888888, \"#fdca26\"], [1.0, \"#f0f921\"]], \"sequentialminus\": [[0.0, \"#0d0887\"], [0.1111111111111111, \"#46039f\"], [0.2222222222222222, \"#7201a8\"], [0.3333333333333333, \"#9c179e\"], [0.4444444444444444, \"#bd3786\"], [0.5555555555555556, \"#d8576b\"], [0.6666666666666666, \"#ed7953\"], [0.7777777777777778, \"#fb9f3a\"], [0.8888888888888888, \"#fdca26\"], [1.0, \"#f0f921\"]]}, \"colorway\": [\"#636efa\", \"#EF553B\", \"#00cc96\", \"#ab63fa\", \"#FFA15A\", \"#19d3f3\", \"#FF6692\", \"#B6E880\", \"#FF97FF\", \"#FECB52\"], \"font\": {\"color\": \"#2a3f5f\"}, \"geo\": {\"bgcolor\": \"white\", \"lakecolor\": \"white\", \"landcolor\": \"#E5ECF6\", \"showlakes\": true, \"showland\": true, \"subunitcolor\": \"white\"}, \"hoverlabel\": {\"align\": \"left\"}, \"hovermode\": \"closest\", \"mapbox\": {\"style\": \"light\"}, \"paper_bgcolor\": \"white\", \"plot_bgcolor\": \"#E5ECF6\", \"polar\": {\"angularaxis\": {\"gridcolor\": \"white\", \"linecolor\": \"white\", \"ticks\": \"\"}, \"bgcolor\": \"#E5ECF6\", \"radialaxis\": {\"gridcolor\": \"white\", \"linecolor\": \"white\", \"ticks\": \"\"}}, \"scene\": {\"xaxis\": {\"backgroundcolor\": \"#E5ECF6\", \"gridcolor\": \"white\", \"gridwidth\": 2, \"linecolor\": \"white\", \"showbackground\": true, \"ticks\": \"\", \"zerolinecolor\": \"white\"}, \"yaxis\": {\"backgroundcolor\": \"#E5ECF6\", \"gridcolor\": \"white\", \"gridwidth\": 2, \"linecolor\": \"white\", \"showbackground\": true, \"ticks\": \"\", \"zerolinecolor\": \"white\"}, \"zaxis\": {\"backgroundcolor\": \"#E5ECF6\", \"gridcolor\": \"white\", \"gridwidth\": 2, \"linecolor\": \"white\", \"showbackground\": true, \"ticks\": \"\", \"zerolinecolor\": \"white\"}}, \"shapedefaults\": {\"line\": {\"color\": \"#2a3f5f\"}}, \"ternary\": {\"aaxis\": {\"gridcolor\": \"white\", \"linecolor\": \"white\", \"ticks\": \"\"}, \"baxis\": {\"gridcolor\": \"white\", \"linecolor\": \"white\", \"ticks\": \"\"}, \"bgcolor\": \"#E5ECF6\", \"caxis\": {\"gridcolor\": \"white\", \"linecolor\": \"white\", \"ticks\": \"\"}}, \"title\": {\"x\": 0.05}, \"xaxis\": {\"automargin\": true, \"gridcolor\": \"white\", \"linecolor\": \"white\", \"ticks\": \"\", \"title\": {\"standoff\": 15}, \"zerolinecolor\": \"white\", \"zerolinewidth\": 2}, \"yaxis\": {\"automargin\": true, \"gridcolor\": \"white\", \"linecolor\": \"white\", \"ticks\": \"\", \"title\": {\"standoff\": 15}, \"zerolinecolor\": \"white\", \"zerolinewidth\": 2}}}, \"title\": {\"text\": \"Disaster counts vs Median CO2 emissions\"}, \"xaxis\": {\"anchor\": \"y\", \"domain\": [0.0, 1.0], \"title\": {\"text\": \"Median CO\\u2082 emissions\"}}, \"yaxis\": {\"anchor\": \"x\", \"domain\": [0.0, 1.0], \"title\": {\"text\": \"Disaster count\"}}},                        {\"responsive\": true}                    ).then(function(){\n",
       "                            \n",
       "var gd = document.getElementById('15ef5ed9-cd76-4a7c-9748-e83cb0e276f1');\n",
       "var x = new MutationObserver(function (mutations, observer) {{\n",
       "        var display = window.getComputedStyle(gd).display;\n",
       "        if (!display || display === 'none') {{\n",
       "            console.log([gd, 'removed!']);\n",
       "            Plotly.purge(gd);\n",
       "            observer.disconnect();\n",
       "        }}\n",
       "}});\n",
       "\n",
       "// Listen for the removal of the full notebook cells\n",
       "var notebookContainer = gd.closest('#notebook-container');\n",
       "if (notebookContainer) {{\n",
       "    x.observe(notebookContainer, {childList: true});\n",
       "}}\n",
       "\n",
       "// Listen for the clearing of the current output cell\n",
       "var outputEl = gd.closest('.output');\n",
       "if (outputEl) {{\n",
       "    x.observe(outputEl, {childList: true});\n",
       "}}\n",
       "\n",
       "                        })                };                });            </script>        </div>"
      ]
     },
     "metadata": {},
     "output_type": "display_data"
    }
   ],
   "source": [
    "import plotly.express as px\n",
    "\n",
    "fig = px.scatter(df_2, x=\"Median CO₂ emissions\", y=\"Disaster count\", \n",
    "                 size=\"land area\", color=\"Continent\", hover_name=\"Entity\")\n",
    "fig.update_layout(\n",
    "    title_text=\"Disaster counts vs Median CO2 emissions\",\n",
    "    font_family=\"arial, sans-serif\"\n",
    ")\n",
    "fig.show()"
   ]
  }
 ],
 "metadata": {
  "kernelspec": {
   "display_name": "Python 3 (ipykernel)",
   "language": "python",
   "name": "python3"
  },
  "language_info": {
   "codemirror_mode": {
    "name": "ipython",
    "version": 3
   },
   "file_extension": ".py",
   "mimetype": "text/x-python",
   "name": "python",
   "nbconvert_exporter": "python",
   "pygments_lexer": "ipython3",
   "version": "3.9.13"
  },
  "vscode": {
   "interpreter": {
    "hash": "b0fa6594d8f4cbf19f97940f81e996739fb7646882a419484c72d19e05852a7e"
   }
  }
 },
 "nbformat": 4,
 "nbformat_minor": 5
}
