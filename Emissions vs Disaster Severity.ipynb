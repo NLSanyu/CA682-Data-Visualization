{
 "cells": [
  {
   "cell_type": "markdown",
   "id": "352b6aef",
   "metadata": {},
   "source": [
    "# Emissions vs Disaster Severity\n",
    "<br/>"
   ]
  },
  {
   "cell_type": "code",
   "execution_count": 169,
   "id": "ae9556b6",
   "metadata": {},
   "outputs": [],
   "source": [
    "import pandas as pd\n",
    "import matplotlib.pyplot as plt\n",
    "import seaborn as sns"
   ]
  },
  {
   "cell_type": "code",
   "execution_count": 170,
   "id": "d12c7b08",
   "metadata": {},
   "outputs": [],
   "source": [
    "plt.rcParams[\"figure.figsize\"] = (12, 10)"
   ]
  },
  {
   "cell_type": "markdown",
   "id": "715f2d87",
   "metadata": {},
   "source": [
    "# Datasets"
   ]
  },
  {
   "cell_type": "markdown",
   "id": "6ad3f9b9",
   "metadata": {},
   "source": [
    "### EM-DAT natural disasters dataset (aggregated disaster counts)"
   ]
  },
  {
   "cell_type": "markdown",
   "id": "ba34b740",
   "metadata": {},
   "source": [
    "**Note**: Data exploration, processing and visualization for the EM-DAT dataset is in the [EM-DAT Data Exploration notebook](https://github.com/NLSanyu/CA682-Data-Visualization-Assignment/blob/main/EM-DAT%20Data%20Exploration.ipynb)"
   ]
  },
  {
   "cell_type": "code",
   "execution_count": 171,
   "id": "e20bf180",
   "metadata": {},
   "outputs": [
    {
     "data": {
      "text/html": [
       "<div>\n",
       "<style scoped>\n",
       "    .dataframe tbody tr th:only-of-type {\n",
       "        vertical-align: middle;\n",
       "    }\n",
       "\n",
       "    .dataframe tbody tr th {\n",
       "        vertical-align: top;\n",
       "    }\n",
       "\n",
       "    .dataframe thead th {\n",
       "        text-align: right;\n",
       "    }\n",
       "</style>\n",
       "<table border=\"1\" class=\"dataframe\">\n",
       "  <thead>\n",
       "    <tr style=\"text-align: right;\">\n",
       "      <th></th>\n",
       "      <th>Country</th>\n",
       "      <th>ISO</th>\n",
       "      <th>Disaster count</th>\n",
       "      <th>Continent</th>\n",
       "    </tr>\n",
       "  </thead>\n",
       "  <tbody>\n",
       "    <tr>\n",
       "      <th>0</th>\n",
       "      <td>China</td>\n",
       "      <td>CHN</td>\n",
       "      <td>436</td>\n",
       "      <td>Asia</td>\n",
       "    </tr>\n",
       "    <tr>\n",
       "      <th>1</th>\n",
       "      <td>Afghanistan</td>\n",
       "      <td>AFG</td>\n",
       "      <td>92</td>\n",
       "      <td>Asia</td>\n",
       "    </tr>\n",
       "    <tr>\n",
       "      <th>2</th>\n",
       "      <td>Bangladesh</td>\n",
       "      <td>BGD</td>\n",
       "      <td>105</td>\n",
       "      <td>Asia</td>\n",
       "    </tr>\n",
       "    <tr>\n",
       "      <th>3</th>\n",
       "      <td>Bolivia (Plurinational State of)</td>\n",
       "      <td>BOL</td>\n",
       "      <td>48</td>\n",
       "      <td>Americas</td>\n",
       "    </tr>\n",
       "    <tr>\n",
       "      <th>4</th>\n",
       "      <td>Brazil</td>\n",
       "      <td>BRA</td>\n",
       "      <td>104</td>\n",
       "      <td>Americas</td>\n",
       "    </tr>\n",
       "  </tbody>\n",
       "</table>\n",
       "</div>"
      ],
      "text/plain": [
       "                            Country  ISO  Disaster count Continent\n",
       "0                             China  CHN             436      Asia\n",
       "1                       Afghanistan  AFG              92      Asia\n",
       "2                        Bangladesh  BGD             105      Asia\n",
       "3  Bolivia (Plurinational State of)  BOL              48  Americas\n",
       "4                            Brazil  BRA             104  Americas"
      ]
     },
     "execution_count": 171,
     "metadata": {},
     "output_type": "execute_result"
    }
   ],
   "source": [
    "emdat_df = pd.read_csv(\"emdat_disaster_counts_2000_2021.csv\", index_col=0)\n",
    "emdat_df.head()"
   ]
  },
  {
   "cell_type": "code",
   "execution_count": 172,
   "id": "098a61af",
   "metadata": {},
   "outputs": [
    {
     "data": {
      "text/html": [
       "<div>\n",
       "<style scoped>\n",
       "    .dataframe tbody tr th:only-of-type {\n",
       "        vertical-align: middle;\n",
       "    }\n",
       "\n",
       "    .dataframe tbody tr th {\n",
       "        vertical-align: top;\n",
       "    }\n",
       "\n",
       "    .dataframe thead th {\n",
       "        text-align: right;\n",
       "    }\n",
       "</style>\n",
       "<table border=\"1\" class=\"dataframe\">\n",
       "  <thead>\n",
       "    <tr style=\"text-align: right;\">\n",
       "      <th></th>\n",
       "      <th>Country</th>\n",
       "      <th>Code</th>\n",
       "      <th>Disaster count</th>\n",
       "      <th>Continent</th>\n",
       "    </tr>\n",
       "  </thead>\n",
       "  <tbody>\n",
       "    <tr>\n",
       "      <th>0</th>\n",
       "      <td>China</td>\n",
       "      <td>CHN</td>\n",
       "      <td>436</td>\n",
       "      <td>Asia</td>\n",
       "    </tr>\n",
       "    <tr>\n",
       "      <th>1</th>\n",
       "      <td>Afghanistan</td>\n",
       "      <td>AFG</td>\n",
       "      <td>92</td>\n",
       "      <td>Asia</td>\n",
       "    </tr>\n",
       "    <tr>\n",
       "      <th>2</th>\n",
       "      <td>Bangladesh</td>\n",
       "      <td>BGD</td>\n",
       "      <td>105</td>\n",
       "      <td>Asia</td>\n",
       "    </tr>\n",
       "    <tr>\n",
       "      <th>3</th>\n",
       "      <td>Bolivia (Plurinational State of)</td>\n",
       "      <td>BOL</td>\n",
       "      <td>48</td>\n",
       "      <td>Americas</td>\n",
       "    </tr>\n",
       "    <tr>\n",
       "      <th>4</th>\n",
       "      <td>Brazil</td>\n",
       "      <td>BRA</td>\n",
       "      <td>104</td>\n",
       "      <td>Americas</td>\n",
       "    </tr>\n",
       "  </tbody>\n",
       "</table>\n",
       "</div>"
      ],
      "text/plain": [
       "                            Country Code  Disaster count Continent\n",
       "0                             China  CHN             436      Asia\n",
       "1                       Afghanistan  AFG              92      Asia\n",
       "2                        Bangladesh  BGD             105      Asia\n",
       "3  Bolivia (Plurinational State of)  BOL              48  Americas\n",
       "4                            Brazil  BRA             104  Americas"
      ]
     },
     "execution_count": 172,
     "metadata": {},
     "output_type": "execute_result"
    }
   ],
   "source": [
    "emdat_df.rename(columns = {\"ISO\": \"Code\"}, inplace=True)\n",
    "emdat_df.head()"
   ]
  },
  {
   "cell_type": "code",
   "execution_count": 173,
   "id": "488338ee",
   "metadata": {},
   "outputs": [
    {
     "data": {
      "text/plain": [
       "Country           0\n",
       "Code              0\n",
       "Disaster count    0\n",
       "Continent         0\n",
       "dtype: int64"
      ]
     },
     "execution_count": 173,
     "metadata": {},
     "output_type": "execute_result"
    }
   ],
   "source": [
    "emdat_df.isna().sum()"
   ]
  },
  {
   "cell_type": "markdown",
   "id": "5b1b62f7",
   "metadata": {},
   "source": [
    "### Our World in Data CO2 emissions dataset"
   ]
  },
  {
   "cell_type": "code",
   "execution_count": 174,
   "id": "a4ee660e",
   "metadata": {},
   "outputs": [
    {
     "data": {
      "text/html": [
       "<div>\n",
       "<style scoped>\n",
       "    .dataframe tbody tr th:only-of-type {\n",
       "        vertical-align: middle;\n",
       "    }\n",
       "\n",
       "    .dataframe tbody tr th {\n",
       "        vertical-align: top;\n",
       "    }\n",
       "\n",
       "    .dataframe thead th {\n",
       "        text-align: right;\n",
       "    }\n",
       "</style>\n",
       "<table border=\"1\" class=\"dataframe\">\n",
       "  <thead>\n",
       "    <tr style=\"text-align: right;\">\n",
       "      <th></th>\n",
       "      <th>Entity</th>\n",
       "      <th>Code</th>\n",
       "      <th>Year</th>\n",
       "      <th>Annual CO₂ emissions (per capita)</th>\n",
       "    </tr>\n",
       "  </thead>\n",
       "  <tbody>\n",
       "    <tr>\n",
       "      <th>0</th>\n",
       "      <td>Afghanistan</td>\n",
       "      <td>AFG</td>\n",
       "      <td>1949</td>\n",
       "      <td>0.001922</td>\n",
       "    </tr>\n",
       "    <tr>\n",
       "      <th>1</th>\n",
       "      <td>Afghanistan</td>\n",
       "      <td>AFG</td>\n",
       "      <td>1950</td>\n",
       "      <td>0.011266</td>\n",
       "    </tr>\n",
       "    <tr>\n",
       "      <th>2</th>\n",
       "      <td>Afghanistan</td>\n",
       "      <td>AFG</td>\n",
       "      <td>1951</td>\n",
       "      <td>0.012098</td>\n",
       "    </tr>\n",
       "    <tr>\n",
       "      <th>3</th>\n",
       "      <td>Afghanistan</td>\n",
       "      <td>AFG</td>\n",
       "      <td>1952</td>\n",
       "      <td>0.011946</td>\n",
       "    </tr>\n",
       "    <tr>\n",
       "      <th>4</th>\n",
       "      <td>Afghanistan</td>\n",
       "      <td>AFG</td>\n",
       "      <td>1953</td>\n",
       "      <td>0.013685</td>\n",
       "    </tr>\n",
       "  </tbody>\n",
       "</table>\n",
       "</div>"
      ],
      "text/plain": [
       "        Entity Code  Year  Annual CO₂ emissions (per capita)\n",
       "0  Afghanistan  AFG  1949                           0.001922\n",
       "1  Afghanistan  AFG  1950                           0.011266\n",
       "2  Afghanistan  AFG  1951                           0.012098\n",
       "3  Afghanistan  AFG  1952                           0.011946\n",
       "4  Afghanistan  AFG  1953                           0.013685"
      ]
     },
     "execution_count": 174,
     "metadata": {},
     "output_type": "execute_result"
    }
   ],
   "source": [
    "owd_df = pd.read_csv(\"co2.csv\")\n",
    "owd_df.head()"
   ]
  },
  {
   "cell_type": "markdown",
   "id": "6f153105",
   "metadata": {},
   "source": [
    "# <br/> Data Processing and Visualization"
   ]
  },
  {
   "cell_type": "markdown",
   "id": "7af54425",
   "metadata": {},
   "source": [
    "### Method 1: Merging the datasets directly using Pandas"
   ]
  },
  {
   "cell_type": "markdown",
   "id": "325967f2",
   "metadata": {},
   "source": [
    "#### Data subset choice (to match the subset used for the EM-DAT data in its separate [data exploration notebook](https://github.com/NLSanyu/CA682-Data-Visualization-Assignment/blob/main/EM-DAT%20Data%20Exploration.ipynb))"
   ]
  },
  {
   "cell_type": "code",
   "execution_count": 175,
   "id": "052b3ed6",
   "metadata": {},
   "outputs": [],
   "source": [
    "chosen_years = [\n",
    "    2000, 2001, 2002, 2003, 2004, 2005, 2006, 2007, 2008, 2009, 2010, \n",
    "    2011, 2012, 2013, 2014, 2015, 2016, 2017, 2018, 2019, 2020, 2021\n",
    "]"
   ]
  },
  {
   "cell_type": "code",
   "execution_count": 176,
   "id": "e087cdb4",
   "metadata": {},
   "outputs": [
    {
     "data": {
      "text/html": [
       "<div>\n",
       "<style scoped>\n",
       "    .dataframe tbody tr th:only-of-type {\n",
       "        vertical-align: middle;\n",
       "    }\n",
       "\n",
       "    .dataframe tbody tr th {\n",
       "        vertical-align: top;\n",
       "    }\n",
       "\n",
       "    .dataframe thead th {\n",
       "        text-align: right;\n",
       "    }\n",
       "</style>\n",
       "<table border=\"1\" class=\"dataframe\">\n",
       "  <thead>\n",
       "    <tr style=\"text-align: right;\">\n",
       "      <th></th>\n",
       "      <th>Entity</th>\n",
       "      <th>Code</th>\n",
       "      <th>Year</th>\n",
       "      <th>Annual CO₂ emissions (per capita)</th>\n",
       "    </tr>\n",
       "  </thead>\n",
       "  <tbody>\n",
       "    <tr>\n",
       "      <th>51</th>\n",
       "      <td>Afghanistan</td>\n",
       "      <td>AFG</td>\n",
       "      <td>2000</td>\n",
       "      <td>0.053581</td>\n",
       "    </tr>\n",
       "    <tr>\n",
       "      <th>52</th>\n",
       "      <td>Afghanistan</td>\n",
       "      <td>AFG</td>\n",
       "      <td>2001</td>\n",
       "      <td>0.054300</td>\n",
       "    </tr>\n",
       "    <tr>\n",
       "      <th>53</th>\n",
       "      <td>Afghanistan</td>\n",
       "      <td>AFG</td>\n",
       "      <td>2002</td>\n",
       "      <td>0.063856</td>\n",
       "    </tr>\n",
       "    <tr>\n",
       "      <th>54</th>\n",
       "      <td>Afghanistan</td>\n",
       "      <td>AFG</td>\n",
       "      <td>2003</td>\n",
       "      <td>0.068871</td>\n",
       "    </tr>\n",
       "    <tr>\n",
       "      <th>55</th>\n",
       "      <td>Afghanistan</td>\n",
       "      <td>AFG</td>\n",
       "      <td>2004</td>\n",
       "      <td>0.052529</td>\n",
       "    </tr>\n",
       "  </tbody>\n",
       "</table>\n",
       "</div>"
      ],
      "text/plain": [
       "         Entity Code  Year  Annual CO₂ emissions (per capita)\n",
       "51  Afghanistan  AFG  2000                           0.053581\n",
       "52  Afghanistan  AFG  2001                           0.054300\n",
       "53  Afghanistan  AFG  2002                           0.063856\n",
       "54  Afghanistan  AFG  2003                           0.068871\n",
       "55  Afghanistan  AFG  2004                           0.052529"
      ]
     },
     "execution_count": 176,
     "metadata": {},
     "output_type": "execute_result"
    }
   ],
   "source": [
    "owd_df = owd_df[owd_df[\"Year\"].isin(chosen_years)]\n",
    "owd_df.head()"
   ]
  },
  {
   "cell_type": "code",
   "execution_count": 177,
   "id": "f5b5186a",
   "metadata": {},
   "outputs": [
    {
     "data": {
      "text/html": [
       "<div>\n",
       "<style scoped>\n",
       "    .dataframe tbody tr th:only-of-type {\n",
       "        vertical-align: middle;\n",
       "    }\n",
       "\n",
       "    .dataframe tbody tr th {\n",
       "        vertical-align: top;\n",
       "    }\n",
       "\n",
       "    .dataframe thead th {\n",
       "        text-align: right;\n",
       "    }\n",
       "</style>\n",
       "<table border=\"1\" class=\"dataframe\">\n",
       "  <thead>\n",
       "    <tr style=\"text-align: right;\">\n",
       "      <th></th>\n",
       "      <th>Country</th>\n",
       "      <th>Annual CO₂ emissions (per capita)</th>\n",
       "    </tr>\n",
       "  </thead>\n",
       "  <tbody>\n",
       "    <tr>\n",
       "      <th>0</th>\n",
       "      <td>Afghanistan</td>\n",
       "      <td>0.269324</td>\n",
       "    </tr>\n",
       "    <tr>\n",
       "      <th>1</th>\n",
       "      <td>Africa</td>\n",
       "      <td>1.110198</td>\n",
       "    </tr>\n",
       "    <tr>\n",
       "      <th>2</th>\n",
       "      <td>Albania</td>\n",
       "      <td>1.612899</td>\n",
       "    </tr>\n",
       "    <tr>\n",
       "      <th>3</th>\n",
       "      <td>Algeria</td>\n",
       "      <td>3.350211</td>\n",
       "    </tr>\n",
       "    <tr>\n",
       "      <th>4</th>\n",
       "      <td>Andorra</td>\n",
       "      <td>6.874442</td>\n",
       "    </tr>\n",
       "  </tbody>\n",
       "</table>\n",
       "</div>"
      ],
      "text/plain": [
       "       Country  Annual CO₂ emissions (per capita)\n",
       "0  Afghanistan                           0.269324\n",
       "1       Africa                           1.110198\n",
       "2      Albania                           1.612899\n",
       "3      Algeria                           3.350211\n",
       "4      Andorra                           6.874442"
      ]
     },
     "execution_count": 177,
     "metadata": {},
     "output_type": "execute_result"
    }
   ],
   "source": [
    "owd_agg = owd_df.groupby(by=\"Entity\").agg({\"Annual CO₂ emissions (per capita)\": \"median\"})\n",
    "owd_agg.reset_index(inplace=True)\n",
    "owd_agg.rename(columns={\"Entity\": \"Country\"}, inplace=True)\n",
    "owd_agg.head()"
   ]
  },
  {
   "cell_type": "markdown",
   "id": "ec139ac4",
   "metadata": {},
   "source": [
    "#### Merging the datasets"
   ]
  },
  {
   "cell_type": "code",
   "execution_count": 178,
   "id": "aa768998",
   "metadata": {},
   "outputs": [
    {
     "data": {
      "text/html": [
       "<div>\n",
       "<style scoped>\n",
       "    .dataframe tbody tr th:only-of-type {\n",
       "        vertical-align: middle;\n",
       "    }\n",
       "\n",
       "    .dataframe tbody tr th {\n",
       "        vertical-align: top;\n",
       "    }\n",
       "\n",
       "    .dataframe thead th {\n",
       "        text-align: right;\n",
       "    }\n",
       "</style>\n",
       "<table border=\"1\" class=\"dataframe\">\n",
       "  <thead>\n",
       "    <tr style=\"text-align: right;\">\n",
       "      <th></th>\n",
       "      <th>Country</th>\n",
       "      <th>Code</th>\n",
       "      <th>Disaster count</th>\n",
       "      <th>Continent</th>\n",
       "      <th>Annual CO₂ emissions (per capita)</th>\n",
       "    </tr>\n",
       "  </thead>\n",
       "  <tbody>\n",
       "    <tr>\n",
       "      <th>0</th>\n",
       "      <td>China</td>\n",
       "      <td>CHN</td>\n",
       "      <td>436</td>\n",
       "      <td>Asia</td>\n",
       "      <td>6.678426</td>\n",
       "    </tr>\n",
       "    <tr>\n",
       "      <th>1</th>\n",
       "      <td>Afghanistan</td>\n",
       "      <td>AFG</td>\n",
       "      <td>92</td>\n",
       "      <td>Asia</td>\n",
       "      <td>0.269324</td>\n",
       "    </tr>\n",
       "    <tr>\n",
       "      <th>2</th>\n",
       "      <td>Bangladesh</td>\n",
       "      <td>BGD</td>\n",
       "      <td>105</td>\n",
       "      <td>Asia</td>\n",
       "      <td>0.370179</td>\n",
       "    </tr>\n",
       "    <tr>\n",
       "      <th>3</th>\n",
       "      <td>Brazil</td>\n",
       "      <td>BRA</td>\n",
       "      <td>104</td>\n",
       "      <td>Americas</td>\n",
       "      <td>2.191942</td>\n",
       "    </tr>\n",
       "    <tr>\n",
       "      <th>4</th>\n",
       "      <td>Bhutan</td>\n",
       "      <td>BTN</td>\n",
       "      <td>4</td>\n",
       "      <td>Asia</td>\n",
       "      <td>0.797168</td>\n",
       "    </tr>\n",
       "  </tbody>\n",
       "</table>\n",
       "</div>"
      ],
      "text/plain": [
       "       Country Code  Disaster count Continent  \\\n",
       "0        China  CHN             436      Asia   \n",
       "1  Afghanistan  AFG              92      Asia   \n",
       "2   Bangladesh  BGD             105      Asia   \n",
       "3       Brazil  BRA             104  Americas   \n",
       "4       Bhutan  BTN               4      Asia   \n",
       "\n",
       "   Annual CO₂ emissions (per capita)  \n",
       "0                           6.678426  \n",
       "1                           0.269324  \n",
       "2                           0.370179  \n",
       "3                           2.191942  \n",
       "4                           0.797168  "
      ]
     },
     "execution_count": 178,
     "metadata": {},
     "output_type": "execute_result"
    }
   ],
   "source": [
    "merged_df = emdat_df.merge(owd_agg)\n",
    "merged_df.head()"
   ]
  },
  {
   "cell_type": "markdown",
   "id": "585806ce",
   "metadata": {},
   "source": [
    "#### Bubble chart on data merged in the above notebook cell"
   ]
  },
  {
   "cell_type": "code",
   "execution_count": 180,
   "id": "3f3cdecd",
   "metadata": {},
   "outputs": [
    {
     "data": {
      "application/vnd.plotly.v1+json": {
       "config": {
        "plotlyServerURL": "https://plot.ly"
       },
       "data": [
        {
         "hovertemplate": "<b>%{hovertext}</b><br><br>Continent=Asia<br>Annual CO₂ emissions (per capita)=%{marker.size}<br>Disaster count=%{y}<extra></extra>",
         "hovertext": [
          "China",
          "Afghanistan",
          "Bangladesh",
          "Bhutan",
          "Armenia",
          "Azerbaijan",
          "India",
          "Sri Lanka",
          "Indonesia",
          "Japan",
          "Mongolia",
          "Cyprus",
          "Georgia",
          "Israel",
          "Jordan",
          "Kazakhstan",
          "Cambodia",
          "Malaysia",
          "Nepal",
          "Thailand",
          "Tajikistan",
          "Turkey",
          "Uzbekistan",
          "Myanmar",
          "Lebanon",
          "Pakistan",
          "Yemen",
          "Oman",
          "Saudi Arabia",
          "Hong Kong",
          "Iraq",
          "Kyrgyzstan",
          "Maldives",
          "Macao",
          "Kuwait",
          "Qatar"
         ],
         "legendgroup": "Asia",
         "marker": {
          "color": "#636efa",
          "size": [
           6.67842615,
           0.2693239,
           0.370179445,
           0.797168165,
           1.75655435,
           3.52463325,
           1.3827497,
           0.6633151500000001,
           1.87729255,
           9.859931,
           6.441682650000001,
           6.98745765,
           1.83580695,
           8.883069500000001,
           3.0147133000000004,
           14.19484,
           0.35773595,
           7.3683084999999995,
           0.184537605,
           3.80176975,
           0.37634975000000004,
           4.491657249999999,
           3.83066525,
           0.26456915000000003,
           4.0096545,
           0.7901403499999999,
           0.81460225,
           15.863783,
           17.1443985,
           5.8845782,
           4.077996949999999,
           1.34082085,
           2.6080848,
           2.7431585,
           27.955205,
           43.3727765
          ],
          "sizemode": "area",
          "sizeref": 0.10843194125,
          "symbol": "circle"
         },
         "mode": "markers",
         "name": "Asia",
         "orientation": "v",
         "showlegend": true,
         "type": "scatter",
         "x": [
          6.67842615,
          0.2693239,
          0.370179445,
          0.797168165,
          1.75655435,
          3.52463325,
          1.3827497,
          0.6633151500000001,
          1.87729255,
          9.859931,
          6.441682650000001,
          6.98745765,
          1.83580695,
          8.883069500000001,
          3.0147133000000004,
          14.19484,
          0.35773595,
          7.3683084999999995,
          0.184537605,
          3.80176975,
          0.37634975000000004,
          4.491657249999999,
          3.83066525,
          0.26456915000000003,
          4.0096545,
          0.7901403499999999,
          0.81460225,
          15.863783,
          17.1443985,
          5.8845782,
          4.077996949999999,
          1.34082085,
          2.6080848,
          2.7431585,
          27.955205,
          43.3727765
         ],
         "xaxis": "x",
         "y": [
          436,
          92,
          105,
          4,
          6,
          4,
          284,
          60,
          192,
          107,
          19,
          5,
          18,
          9,
          5,
          14,
          29,
          60,
          37,
          90,
          29,
          41,
          3,
          33,
          9,
          91,
          35,
          14,
          23,
          13,
          15,
          6,
          3,
          2,
          1,
          1
         ],
         "yaxis": "y"
        },
        {
         "hovertemplate": "<b>%{hovertext}</b><br><br>Continent=Americas<br>Annual CO₂ emissions (per capita)=%{marker.size}<br>Disaster count=%{y}<extra></extra>",
         "hovertext": [
          "Brazil",
          "Chile",
          "Argentina",
          "Belize",
          "Canada",
          "Colombia",
          "Guatemala",
          "Mexico",
          "Honduras",
          "Nicaragua",
          "Cuba",
          "Ecuador",
          "Haiti",
          "Jamaica",
          "Peru",
          "Panama",
          "El Salvador",
          "Uruguay",
          "Barbados",
          "Costa Rica",
          "Grenada",
          "Paraguay",
          "Saint Vincent and the Grenadines",
          "Bermuda",
          "Saint Lucia",
          "Guyana",
          "Trinidad and Tobago",
          "Suriname",
          "Guadeloupe",
          "Dominica",
          "Antigua and Barbuda",
          "Martinique",
          "Saint Kitts and Nevis",
          "Anguilla",
          "Sint Maarten (Dutch part)",
          "French Guiana"
         ],
         "legendgroup": "Americas",
         "marker": {
          "color": "#EF553B",
          "size": [
           2.19194165,
           4.3143197,
           4.2958012,
           1.6402185999999999,
           16.3831025,
           1.6604043499999999,
           0.876167745,
           4.1266658,
           1.0172823,
           0.77656353,
           2.30074275,
           2.2845984,
           0.22054026999999998,
           2.9602415,
           1.48100055,
           2.54435035,
           1.03968565,
           1.9016304,
           4.710898,
           1.5883251,
           2.21455825,
           0.865874635,
           2.0282582,
           9.048736,
           2.62087575,
           2.5450509,
           27.491193000000003,
           3.97692785,
           6.0663409999999995,
           2.2825305499999997,
           5.0690022,
           5.820854,
           4.619366149999999,
           10.049887,
           18.848955,
           2.8220223
          ],
          "sizemode": "area",
          "sizeref": 0.10843194125,
          "symbol": "circle"
         },
         "mode": "markers",
         "name": "Americas",
         "orientation": "v",
         "showlegend": true,
         "type": "scatter",
         "x": [
          2.19194165,
          4.3143197,
          4.2958012,
          1.6402185999999999,
          16.3831025,
          1.6604043499999999,
          0.876167745,
          4.1266658,
          1.0172823,
          0.77656353,
          2.30074275,
          2.2845984,
          0.22054026999999998,
          2.9602415,
          1.48100055,
          2.54435035,
          1.03968565,
          1.9016304,
          4.710898,
          1.5883251,
          2.21455825,
          0.865874635,
          2.0282582,
          9.048736,
          2.62087575,
          2.5450509,
          27.491193000000003,
          3.97692785,
          6.0663409999999995,
          2.2825305499999997,
          5.0690022,
          5.820854,
          4.619366149999999,
          10.049887,
          18.848955,
          2.8220223
         ],
         "xaxis": "x",
         "y": [
          104,
          37,
          60,
          12,
          61,
          75,
          50,
          122,
          45,
          37,
          37,
          24,
          77,
          20,
          50,
          36,
          30,
          21,
          6,
          27,
          3,
          30,
          10,
          1,
          8,
          7,
          4,
          3,
          2,
          4,
          3,
          3,
          2,
          1,
          1,
          1
         ],
         "yaxis": "y"
        },
        {
         "hovertemplate": "<b>%{hovertext}</b><br><br>Continent=Europe<br>Annual CO₂ emissions (per capita)=%{marker.size}<br>Disaster count=%{y}<extra></extra>",
         "hovertext": [
          "Austria",
          "Bosnia and Herzegovina",
          "Bulgaria",
          "Spain",
          "France",
          "Greece",
          "Croatia",
          "Hungary",
          "Ireland",
          "Italy",
          "Norway",
          "Portugal",
          "Romania",
          "Slovakia",
          "Ukraine",
          "Albania",
          "Belgium",
          "Switzerland",
          "Germany",
          "Denmark",
          "Poland",
          "Sweden",
          "Estonia",
          "Lithuania",
          "Latvia",
          "Finland",
          "Belarus",
          "Slovenia",
          "Montenegro",
          "Serbia",
          "Luxembourg"
         ],
         "legendgroup": "Europe",
         "marker": {
          "color": "#00cc96",
          "size": [
           8.162251000000001,
           5.26707365,
           6.2904072499999995,
           6.1029245,
           5.8189585,
           8.705485,
           4.541451,
           5.1007370000000005,
           8.898758,
           7.099035799999999,
           8.99647075,
           5.19952325,
           4.2392985,
           7.006043699999999,
           6.2164703,
           1.61289865,
           9.7799085,
           5.4843455,
           10.077351,
           8.38748,
           8.394831,
           5.15838425,
           12.67933275,
           4.46857935,
           3.6575637,
           10.4914145,
           6.168324,
           7.768094,
           3.2912916,
           6.03259975,
           20.6741885
          ],
          "sizemode": "area",
          "sizeref": 0.10843194125,
          "symbol": "circle"
         },
         "mode": "markers",
         "name": "Europe",
         "orientation": "v",
         "showlegend": true,
         "type": "scatter",
         "x": [
          8.162251000000001,
          5.26707365,
          6.2904072499999995,
          6.1029245,
          5.8189585,
          8.705485,
          4.541451,
          5.1007370000000005,
          8.898758,
          7.099035799999999,
          8.99647075,
          5.19952325,
          4.2392985,
          7.006043699999999,
          6.2164703,
          1.61289865,
          9.7799085,
          5.4843455,
          10.077351,
          8.38748,
          8.394831,
          5.15838425,
          12.67933275,
          4.46857935,
          3.6575637,
          10.4914145,
          6.168324,
          7.768094,
          3.2912916,
          6.03259975,
          20.6741885
         ],
         "xaxis": "x",
         "y": [
          18,
          20,
          29,
          46,
          85,
          36,
          20,
          18,
          11,
          57,
          5,
          25,
          50,
          15,
          20,
          15,
          24,
          19,
          42,
          6,
          27,
          6,
          1,
          5,
          3,
          1,
          2,
          7,
          5,
          17,
          3
         ],
         "yaxis": "y"
        },
        {
         "hovertemplate": "<b>%{hovertext}</b><br><br>Continent=Oceania<br>Annual CO₂ emissions (per capita)=%{marker.size}<br>Disaster count=%{y}<extra></extra>",
         "hovertext": [
          "Australia",
          "Fiji",
          "New Zealand",
          "Vanuatu",
          "Tonga",
          "Samoa",
          "Solomon Islands",
          "New Caledonia",
          "Papua New Guinea",
          "Niue",
          "Kiribati",
          "French Polynesia",
          "Tuvalu",
          "Palau",
          "Wallis and Futuna"
         ],
         "legendgroup": "Oceania",
         "marker": {
          "color": "#ab63fa",
          "size": [
           18.223599,
           1.21185775,
           8.0275995,
           0.46170665,
           1.09816935,
           0.94281462,
           0.5540440200000001,
           13.3498855,
           0.6829413,
           3.8834304,
           0.5141009000000001,
           2.90743845,
           1.0076176,
           11.7012145,
           2.01570835
          ],
          "sizemode": "area",
          "sizeref": 0.10843194125,
          "symbol": "circle"
         },
         "mode": "markers",
         "name": "Oceania",
         "orientation": "v",
         "showlegend": true,
         "type": "scatter",
         "x": [
          18.223599,
          1.21185775,
          8.0275995,
          0.46170665,
          1.09816935,
          0.94281462,
          0.5540440200000001,
          13.3498855,
          0.6829413,
          3.8834304,
          0.5141009000000001,
          2.90743845,
          1.0076176,
          11.7012145,
          2.01570835
         ],
         "xaxis": "x",
         "y": [
          107,
          28,
          26,
          11,
          10,
          6,
          15,
          2,
          20,
          1,
          3,
          2,
          4,
          4,
          1
         ],
         "yaxis": "y"
        },
        {
         "hovertemplate": "<b>%{hovertext}</b><br><br>Continent=Africa<br>Annual CO₂ emissions (per capita)=%{marker.size}<br>Disaster count=%{y}<extra></extra>",
         "hovertext": [
          "Angola",
          "Burundi",
          "Botswana",
          "Central African Republic",
          "Madagascar",
          "Cameroon",
          "Algeria",
          "Ethiopia",
          "Guinea",
          "Morocco",
          "Mali",
          "Mozambique",
          "Malawi",
          "Namibia",
          "Nigeria",
          "Kenya",
          "Zambia",
          "South Africa",
          "Senegal",
          "Somalia",
          "Eswatini",
          "Uganda",
          "Zimbabwe",
          "Burkina Faso",
          "Mauritania",
          "Ghana",
          "Lesotho",
          "Egypt",
          "Guinea-Bissau",
          "Mauritius",
          "Chad",
          "Rwanda",
          "Seychelles",
          "Tunisia",
          "Eritrea",
          "Djibouti",
          "Sierra Leone",
          "Togo",
          "Benin",
          "Gabon",
          "Liberia",
          "South Sudan",
          "Libya",
          "Sao Tome and Principe"
         ],
         "legendgroup": "Africa",
         "marker": {
          "color": "#FFA15A",
          "size": [
           0.93013565,
           0.036247483999999996,
           2.2289379499999997,
           0.042400427000000004,
           0.1106849875,
           0.337578975,
           3.35021065,
           0.0783489175,
           0.20834418,
           1.6663158,
           0.138286295,
           0.11946272999999999,
           0.07307814,
           1.3311992,
           0.64176565,
           0.293462875,
           0.23131656,
           8.443147,
           0.552033095,
           0.0504816425,
           0.940125715,
           0.10613288700000001,
           0.7927638699999999,
           0.12734972,
           0.593935905,
           0.417044725,
           1.0520033500000001,
           2.290859,
           0.152747145,
           3.0471733,
           0.0986093425,
           0.06351894999999999,
           4.59011235,
           2.29600575,
           0.19992238,
           0.49536609,
           0.10373499750000001,
           0.26920772000000004,
           0.45319200000000004,
           3.00107195,
           0.19832299,
           0.135557865,
           8.9081315,
           0.53740302
          ],
          "sizemode": "area",
          "sizeref": 0.10843194125,
          "symbol": "circle"
         },
         "mode": "markers",
         "name": "Africa",
         "orientation": "v",
         "showlegend": true,
         "type": "scatter",
         "x": [
          0.93013565,
          0.036247483999999996,
          2.2289379499999997,
          0.042400427000000004,
          0.1106849875,
          0.337578975,
          3.35021065,
          0.0783489175,
          0.20834418,
          1.6663158,
          0.138286295,
          0.11946272999999999,
          0.07307814,
          1.3311992,
          0.64176565,
          0.293462875,
          0.23131656,
          8.443147,
          0.552033095,
          0.0504816425,
          0.940125715,
          0.10613288700000001,
          0.7927638699999999,
          0.12734972,
          0.593935905,
          0.417044725,
          1.0520033500000001,
          2.290859,
          0.152747145,
          3.0471733,
          0.0986093425,
          0.06351894999999999,
          4.59011235,
          2.29600575,
          0.19992238,
          0.49536609,
          0.10373499750000001,
          0.26920772000000004,
          0.45319200000000004,
          3.00107195,
          0.19832299,
          0.135557865,
          8.9081315,
          0.53740302
         ],
         "xaxis": "x",
         "y": [
          49,
          40,
          11,
          22,
          55,
          16,
          38,
          43,
          15,
          22,
          27,
          60,
          40,
          21,
          51,
          58,
          22,
          60,
          20,
          50,
          11,
          40,
          24,
          21,
          21,
          23,
          13,
          11,
          7,
          4,
          20,
          25,
          3,
          11,
          3,
          8,
          10,
          8,
          12,
          4,
          6,
          18,
          2,
          1
         ],
         "yaxis": "y"
        }
       ],
       "layout": {
        "legend": {
         "itemsizing": "constant",
         "title": {
          "text": "Continent"
         },
         "tracegroupgap": 0
        },
        "margin": {
         "t": 60
        },
        "template": {
         "data": {
          "bar": [
           {
            "error_x": {
             "color": "#2a3f5f"
            },
            "error_y": {
             "color": "#2a3f5f"
            },
            "marker": {
             "line": {
              "color": "#E5ECF6",
              "width": 0.5
             }
            },
            "type": "bar"
           }
          ],
          "barpolar": [
           {
            "marker": {
             "line": {
              "color": "#E5ECF6",
              "width": 0.5
             }
            },
            "type": "barpolar"
           }
          ],
          "carpet": [
           {
            "aaxis": {
             "endlinecolor": "#2a3f5f",
             "gridcolor": "white",
             "linecolor": "white",
             "minorgridcolor": "white",
             "startlinecolor": "#2a3f5f"
            },
            "baxis": {
             "endlinecolor": "#2a3f5f",
             "gridcolor": "white",
             "linecolor": "white",
             "minorgridcolor": "white",
             "startlinecolor": "#2a3f5f"
            },
            "type": "carpet"
           }
          ],
          "choropleth": [
           {
            "colorbar": {
             "outlinewidth": 0,
             "ticks": ""
            },
            "type": "choropleth"
           }
          ],
          "contour": [
           {
            "colorbar": {
             "outlinewidth": 0,
             "ticks": ""
            },
            "colorscale": [
             [
              0,
              "#0d0887"
             ],
             [
              0.1111111111111111,
              "#46039f"
             ],
             [
              0.2222222222222222,
              "#7201a8"
             ],
             [
              0.3333333333333333,
              "#9c179e"
             ],
             [
              0.4444444444444444,
              "#bd3786"
             ],
             [
              0.5555555555555556,
              "#d8576b"
             ],
             [
              0.6666666666666666,
              "#ed7953"
             ],
             [
              0.7777777777777778,
              "#fb9f3a"
             ],
             [
              0.8888888888888888,
              "#fdca26"
             ],
             [
              1,
              "#f0f921"
             ]
            ],
            "type": "contour"
           }
          ],
          "contourcarpet": [
           {
            "colorbar": {
             "outlinewidth": 0,
             "ticks": ""
            },
            "type": "contourcarpet"
           }
          ],
          "heatmap": [
           {
            "colorbar": {
             "outlinewidth": 0,
             "ticks": ""
            },
            "colorscale": [
             [
              0,
              "#0d0887"
             ],
             [
              0.1111111111111111,
              "#46039f"
             ],
             [
              0.2222222222222222,
              "#7201a8"
             ],
             [
              0.3333333333333333,
              "#9c179e"
             ],
             [
              0.4444444444444444,
              "#bd3786"
             ],
             [
              0.5555555555555556,
              "#d8576b"
             ],
             [
              0.6666666666666666,
              "#ed7953"
             ],
             [
              0.7777777777777778,
              "#fb9f3a"
             ],
             [
              0.8888888888888888,
              "#fdca26"
             ],
             [
              1,
              "#f0f921"
             ]
            ],
            "type": "heatmap"
           }
          ],
          "heatmapgl": [
           {
            "colorbar": {
             "outlinewidth": 0,
             "ticks": ""
            },
            "colorscale": [
             [
              0,
              "#0d0887"
             ],
             [
              0.1111111111111111,
              "#46039f"
             ],
             [
              0.2222222222222222,
              "#7201a8"
             ],
             [
              0.3333333333333333,
              "#9c179e"
             ],
             [
              0.4444444444444444,
              "#bd3786"
             ],
             [
              0.5555555555555556,
              "#d8576b"
             ],
             [
              0.6666666666666666,
              "#ed7953"
             ],
             [
              0.7777777777777778,
              "#fb9f3a"
             ],
             [
              0.8888888888888888,
              "#fdca26"
             ],
             [
              1,
              "#f0f921"
             ]
            ],
            "type": "heatmapgl"
           }
          ],
          "histogram": [
           {
            "marker": {
             "colorbar": {
              "outlinewidth": 0,
              "ticks": ""
             }
            },
            "type": "histogram"
           }
          ],
          "histogram2d": [
           {
            "colorbar": {
             "outlinewidth": 0,
             "ticks": ""
            },
            "colorscale": [
             [
              0,
              "#0d0887"
             ],
             [
              0.1111111111111111,
              "#46039f"
             ],
             [
              0.2222222222222222,
              "#7201a8"
             ],
             [
              0.3333333333333333,
              "#9c179e"
             ],
             [
              0.4444444444444444,
              "#bd3786"
             ],
             [
              0.5555555555555556,
              "#d8576b"
             ],
             [
              0.6666666666666666,
              "#ed7953"
             ],
             [
              0.7777777777777778,
              "#fb9f3a"
             ],
             [
              0.8888888888888888,
              "#fdca26"
             ],
             [
              1,
              "#f0f921"
             ]
            ],
            "type": "histogram2d"
           }
          ],
          "histogram2dcontour": [
           {
            "colorbar": {
             "outlinewidth": 0,
             "ticks": ""
            },
            "colorscale": [
             [
              0,
              "#0d0887"
             ],
             [
              0.1111111111111111,
              "#46039f"
             ],
             [
              0.2222222222222222,
              "#7201a8"
             ],
             [
              0.3333333333333333,
              "#9c179e"
             ],
             [
              0.4444444444444444,
              "#bd3786"
             ],
             [
              0.5555555555555556,
              "#d8576b"
             ],
             [
              0.6666666666666666,
              "#ed7953"
             ],
             [
              0.7777777777777778,
              "#fb9f3a"
             ],
             [
              0.8888888888888888,
              "#fdca26"
             ],
             [
              1,
              "#f0f921"
             ]
            ],
            "type": "histogram2dcontour"
           }
          ],
          "mesh3d": [
           {
            "colorbar": {
             "outlinewidth": 0,
             "ticks": ""
            },
            "type": "mesh3d"
           }
          ],
          "parcoords": [
           {
            "line": {
             "colorbar": {
              "outlinewidth": 0,
              "ticks": ""
             }
            },
            "type": "parcoords"
           }
          ],
          "pie": [
           {
            "automargin": true,
            "type": "pie"
           }
          ],
          "scatter": [
           {
            "marker": {
             "colorbar": {
              "outlinewidth": 0,
              "ticks": ""
             }
            },
            "type": "scatter"
           }
          ],
          "scatter3d": [
           {
            "line": {
             "colorbar": {
              "outlinewidth": 0,
              "ticks": ""
             }
            },
            "marker": {
             "colorbar": {
              "outlinewidth": 0,
              "ticks": ""
             }
            },
            "type": "scatter3d"
           }
          ],
          "scattercarpet": [
           {
            "marker": {
             "colorbar": {
              "outlinewidth": 0,
              "ticks": ""
             }
            },
            "type": "scattercarpet"
           }
          ],
          "scattergeo": [
           {
            "marker": {
             "colorbar": {
              "outlinewidth": 0,
              "ticks": ""
             }
            },
            "type": "scattergeo"
           }
          ],
          "scattergl": [
           {
            "marker": {
             "colorbar": {
              "outlinewidth": 0,
              "ticks": ""
             }
            },
            "type": "scattergl"
           }
          ],
          "scattermapbox": [
           {
            "marker": {
             "colorbar": {
              "outlinewidth": 0,
              "ticks": ""
             }
            },
            "type": "scattermapbox"
           }
          ],
          "scatterpolar": [
           {
            "marker": {
             "colorbar": {
              "outlinewidth": 0,
              "ticks": ""
             }
            },
            "type": "scatterpolar"
           }
          ],
          "scatterpolargl": [
           {
            "marker": {
             "colorbar": {
              "outlinewidth": 0,
              "ticks": ""
             }
            },
            "type": "scatterpolargl"
           }
          ],
          "scatterternary": [
           {
            "marker": {
             "colorbar": {
              "outlinewidth": 0,
              "ticks": ""
             }
            },
            "type": "scatterternary"
           }
          ],
          "surface": [
           {
            "colorbar": {
             "outlinewidth": 0,
             "ticks": ""
            },
            "colorscale": [
             [
              0,
              "#0d0887"
             ],
             [
              0.1111111111111111,
              "#46039f"
             ],
             [
              0.2222222222222222,
              "#7201a8"
             ],
             [
              0.3333333333333333,
              "#9c179e"
             ],
             [
              0.4444444444444444,
              "#bd3786"
             ],
             [
              0.5555555555555556,
              "#d8576b"
             ],
             [
              0.6666666666666666,
              "#ed7953"
             ],
             [
              0.7777777777777778,
              "#fb9f3a"
             ],
             [
              0.8888888888888888,
              "#fdca26"
             ],
             [
              1,
              "#f0f921"
             ]
            ],
            "type": "surface"
           }
          ],
          "table": [
           {
            "cells": {
             "fill": {
              "color": "#EBF0F8"
             },
             "line": {
              "color": "white"
             }
            },
            "header": {
             "fill": {
              "color": "#C8D4E3"
             },
             "line": {
              "color": "white"
             }
            },
            "type": "table"
           }
          ]
         },
         "layout": {
          "annotationdefaults": {
           "arrowcolor": "#2a3f5f",
           "arrowhead": 0,
           "arrowwidth": 1
          },
          "autotypenumbers": "strict",
          "coloraxis": {
           "colorbar": {
            "outlinewidth": 0,
            "ticks": ""
           }
          },
          "colorscale": {
           "diverging": [
            [
             0,
             "#8e0152"
            ],
            [
             0.1,
             "#c51b7d"
            ],
            [
             0.2,
             "#de77ae"
            ],
            [
             0.3,
             "#f1b6da"
            ],
            [
             0.4,
             "#fde0ef"
            ],
            [
             0.5,
             "#f7f7f7"
            ],
            [
             0.6,
             "#e6f5d0"
            ],
            [
             0.7,
             "#b8e186"
            ],
            [
             0.8,
             "#7fbc41"
            ],
            [
             0.9,
             "#4d9221"
            ],
            [
             1,
             "#276419"
            ]
           ],
           "sequential": [
            [
             0,
             "#0d0887"
            ],
            [
             0.1111111111111111,
             "#46039f"
            ],
            [
             0.2222222222222222,
             "#7201a8"
            ],
            [
             0.3333333333333333,
             "#9c179e"
            ],
            [
             0.4444444444444444,
             "#bd3786"
            ],
            [
             0.5555555555555556,
             "#d8576b"
            ],
            [
             0.6666666666666666,
             "#ed7953"
            ],
            [
             0.7777777777777778,
             "#fb9f3a"
            ],
            [
             0.8888888888888888,
             "#fdca26"
            ],
            [
             1,
             "#f0f921"
            ]
           ],
           "sequentialminus": [
            [
             0,
             "#0d0887"
            ],
            [
             0.1111111111111111,
             "#46039f"
            ],
            [
             0.2222222222222222,
             "#7201a8"
            ],
            [
             0.3333333333333333,
             "#9c179e"
            ],
            [
             0.4444444444444444,
             "#bd3786"
            ],
            [
             0.5555555555555556,
             "#d8576b"
            ],
            [
             0.6666666666666666,
             "#ed7953"
            ],
            [
             0.7777777777777778,
             "#fb9f3a"
            ],
            [
             0.8888888888888888,
             "#fdca26"
            ],
            [
             1,
             "#f0f921"
            ]
           ]
          },
          "colorway": [
           "#636efa",
           "#EF553B",
           "#00cc96",
           "#ab63fa",
           "#FFA15A",
           "#19d3f3",
           "#FF6692",
           "#B6E880",
           "#FF97FF",
           "#FECB52"
          ],
          "font": {
           "color": "#2a3f5f"
          },
          "geo": {
           "bgcolor": "white",
           "lakecolor": "white",
           "landcolor": "#E5ECF6",
           "showlakes": true,
           "showland": true,
           "subunitcolor": "white"
          },
          "hoverlabel": {
           "align": "left"
          },
          "hovermode": "closest",
          "mapbox": {
           "style": "light"
          },
          "paper_bgcolor": "white",
          "plot_bgcolor": "#E5ECF6",
          "polar": {
           "angularaxis": {
            "gridcolor": "white",
            "linecolor": "white",
            "ticks": ""
           },
           "bgcolor": "#E5ECF6",
           "radialaxis": {
            "gridcolor": "white",
            "linecolor": "white",
            "ticks": ""
           }
          },
          "scene": {
           "xaxis": {
            "backgroundcolor": "#E5ECF6",
            "gridcolor": "white",
            "gridwidth": 2,
            "linecolor": "white",
            "showbackground": true,
            "ticks": "",
            "zerolinecolor": "white"
           },
           "yaxis": {
            "backgroundcolor": "#E5ECF6",
            "gridcolor": "white",
            "gridwidth": 2,
            "linecolor": "white",
            "showbackground": true,
            "ticks": "",
            "zerolinecolor": "white"
           },
           "zaxis": {
            "backgroundcolor": "#E5ECF6",
            "gridcolor": "white",
            "gridwidth": 2,
            "linecolor": "white",
            "showbackground": true,
            "ticks": "",
            "zerolinecolor": "white"
           }
          },
          "shapedefaults": {
           "line": {
            "color": "#2a3f5f"
           }
          },
          "ternary": {
           "aaxis": {
            "gridcolor": "white",
            "linecolor": "white",
            "ticks": ""
           },
           "baxis": {
            "gridcolor": "white",
            "linecolor": "white",
            "ticks": ""
           },
           "bgcolor": "#E5ECF6",
           "caxis": {
            "gridcolor": "white",
            "linecolor": "white",
            "ticks": ""
           }
          },
          "title": {
           "x": 0.05
          },
          "xaxis": {
           "automargin": true,
           "gridcolor": "white",
           "linecolor": "white",
           "ticks": "",
           "title": {
            "standoff": 15
           },
           "zerolinecolor": "white",
           "zerolinewidth": 2
          },
          "yaxis": {
           "automargin": true,
           "gridcolor": "white",
           "linecolor": "white",
           "ticks": "",
           "title": {
            "standoff": 15
           },
           "zerolinecolor": "white",
           "zerolinewidth": 2
          }
         }
        },
        "xaxis": {
         "anchor": "y",
         "domain": [
          0,
          1
         ],
         "title": {
          "text": "Annual CO₂ emissions (per capita)"
         }
        },
        "yaxis": {
         "anchor": "x",
         "domain": [
          0,
          1
         ],
         "title": {
          "text": "Disaster count"
         }
        }
       }
      },
      "text/html": [
       "<div>                            <div id=\"1c14da05-d60f-468d-af75-8fb9d13be9fd\" class=\"plotly-graph-div\" style=\"height:525px; width:100%;\"></div>            <script type=\"text/javascript\">                require([\"plotly\"], function(Plotly) {                    window.PLOTLYENV=window.PLOTLYENV || {};                                    if (document.getElementById(\"1c14da05-d60f-468d-af75-8fb9d13be9fd\")) {                    Plotly.newPlot(                        \"1c14da05-d60f-468d-af75-8fb9d13be9fd\",                        [{\"hovertemplate\": \"<b>%{hovertext}</b><br><br>Continent=Asia<br>Annual CO\\u2082 emissions (per capita)=%{marker.size}<br>Disaster count=%{y}<extra></extra>\", \"hovertext\": [\"China\", \"Afghanistan\", \"Bangladesh\", \"Bhutan\", \"Armenia\", \"Azerbaijan\", \"India\", \"Sri Lanka\", \"Indonesia\", \"Japan\", \"Mongolia\", \"Cyprus\", \"Georgia\", \"Israel\", \"Jordan\", \"Kazakhstan\", \"Cambodia\", \"Malaysia\", \"Nepal\", \"Thailand\", \"Tajikistan\", \"Turkey\", \"Uzbekistan\", \"Myanmar\", \"Lebanon\", \"Pakistan\", \"Yemen\", \"Oman\", \"Saudi Arabia\", \"Hong Kong\", \"Iraq\", \"Kyrgyzstan\", \"Maldives\", \"Macao\", \"Kuwait\", \"Qatar\"], \"legendgroup\": \"Asia\", \"marker\": {\"color\": \"#636efa\", \"size\": [6.67842615, 0.2693239, 0.370179445, 0.797168165, 1.75655435, 3.52463325, 1.3827497, 0.6633151500000001, 1.87729255, 9.859931, 6.441682650000001, 6.98745765, 1.83580695, 8.883069500000001, 3.0147133000000004, 14.19484, 0.35773595, 7.3683084999999995, 0.184537605, 3.80176975, 0.37634975000000004, 4.491657249999999, 3.83066525, 0.26456915000000003, 4.0096545, 0.7901403499999999, 0.81460225, 15.863783, 17.1443985, 5.8845782, 4.077996949999999, 1.34082085, 2.6080848, 2.7431585, 27.955205, 43.3727765], \"sizemode\": \"area\", \"sizeref\": 0.10843194125, \"symbol\": \"circle\"}, \"mode\": \"markers\", \"name\": \"Asia\", \"orientation\": \"v\", \"showlegend\": true, \"type\": \"scatter\", \"x\": [6.67842615, 0.2693239, 0.370179445, 0.797168165, 1.75655435, 3.52463325, 1.3827497, 0.6633151500000001, 1.87729255, 9.859931, 6.441682650000001, 6.98745765, 1.83580695, 8.883069500000001, 3.0147133000000004, 14.19484, 0.35773595, 7.3683084999999995, 0.184537605, 3.80176975, 0.37634975000000004, 4.491657249999999, 3.83066525, 0.26456915000000003, 4.0096545, 0.7901403499999999, 0.81460225, 15.863783, 17.1443985, 5.8845782, 4.077996949999999, 1.34082085, 2.6080848, 2.7431585, 27.955205, 43.3727765], \"xaxis\": \"x\", \"y\": [436, 92, 105, 4, 6, 4, 284, 60, 192, 107, 19, 5, 18, 9, 5, 14, 29, 60, 37, 90, 29, 41, 3, 33, 9, 91, 35, 14, 23, 13, 15, 6, 3, 2, 1, 1], \"yaxis\": \"y\"}, {\"hovertemplate\": \"<b>%{hovertext}</b><br><br>Continent=Americas<br>Annual CO\\u2082 emissions (per capita)=%{marker.size}<br>Disaster count=%{y}<extra></extra>\", \"hovertext\": [\"Brazil\", \"Chile\", \"Argentina\", \"Belize\", \"Canada\", \"Colombia\", \"Guatemala\", \"Mexico\", \"Honduras\", \"Nicaragua\", \"Cuba\", \"Ecuador\", \"Haiti\", \"Jamaica\", \"Peru\", \"Panama\", \"El Salvador\", \"Uruguay\", \"Barbados\", \"Costa Rica\", \"Grenada\", \"Paraguay\", \"Saint Vincent and the Grenadines\", \"Bermuda\", \"Saint Lucia\", \"Guyana\", \"Trinidad and Tobago\", \"Suriname\", \"Guadeloupe\", \"Dominica\", \"Antigua and Barbuda\", \"Martinique\", \"Saint Kitts and Nevis\", \"Anguilla\", \"Sint Maarten (Dutch part)\", \"French Guiana\"], \"legendgroup\": \"Americas\", \"marker\": {\"color\": \"#EF553B\", \"size\": [2.19194165, 4.3143197, 4.2958012, 1.6402185999999999, 16.3831025, 1.6604043499999999, 0.876167745, 4.1266658, 1.0172823, 0.77656353, 2.30074275, 2.2845984, 0.22054026999999998, 2.9602415, 1.48100055, 2.54435035, 1.03968565, 1.9016304, 4.710898, 1.5883251, 2.21455825, 0.865874635, 2.0282582, 9.048736, 2.62087575, 2.5450509, 27.491193000000003, 3.97692785, 6.0663409999999995, 2.2825305499999997, 5.0690022, 5.820854, 4.619366149999999, 10.049887, 18.848955, 2.8220223], \"sizemode\": \"area\", \"sizeref\": 0.10843194125, \"symbol\": \"circle\"}, \"mode\": \"markers\", \"name\": \"Americas\", \"orientation\": \"v\", \"showlegend\": true, \"type\": \"scatter\", \"x\": [2.19194165, 4.3143197, 4.2958012, 1.6402185999999999, 16.3831025, 1.6604043499999999, 0.876167745, 4.1266658, 1.0172823, 0.77656353, 2.30074275, 2.2845984, 0.22054026999999998, 2.9602415, 1.48100055, 2.54435035, 1.03968565, 1.9016304, 4.710898, 1.5883251, 2.21455825, 0.865874635, 2.0282582, 9.048736, 2.62087575, 2.5450509, 27.491193000000003, 3.97692785, 6.0663409999999995, 2.2825305499999997, 5.0690022, 5.820854, 4.619366149999999, 10.049887, 18.848955, 2.8220223], \"xaxis\": \"x\", \"y\": [104, 37, 60, 12, 61, 75, 50, 122, 45, 37, 37, 24, 77, 20, 50, 36, 30, 21, 6, 27, 3, 30, 10, 1, 8, 7, 4, 3, 2, 4, 3, 3, 2, 1, 1, 1], \"yaxis\": \"y\"}, {\"hovertemplate\": \"<b>%{hovertext}</b><br><br>Continent=Europe<br>Annual CO\\u2082 emissions (per capita)=%{marker.size}<br>Disaster count=%{y}<extra></extra>\", \"hovertext\": [\"Austria\", \"Bosnia and Herzegovina\", \"Bulgaria\", \"Spain\", \"France\", \"Greece\", \"Croatia\", \"Hungary\", \"Ireland\", \"Italy\", \"Norway\", \"Portugal\", \"Romania\", \"Slovakia\", \"Ukraine\", \"Albania\", \"Belgium\", \"Switzerland\", \"Germany\", \"Denmark\", \"Poland\", \"Sweden\", \"Estonia\", \"Lithuania\", \"Latvia\", \"Finland\", \"Belarus\", \"Slovenia\", \"Montenegro\", \"Serbia\", \"Luxembourg\"], \"legendgroup\": \"Europe\", \"marker\": {\"color\": \"#00cc96\", \"size\": [8.162251000000001, 5.26707365, 6.2904072499999995, 6.1029245, 5.8189585, 8.705485, 4.541451, 5.1007370000000005, 8.898758, 7.099035799999999, 8.99647075, 5.19952325, 4.2392985, 7.006043699999999, 6.2164703, 1.61289865, 9.7799085, 5.4843455, 10.077351, 8.38748, 8.394831, 5.15838425, 12.67933275, 4.46857935, 3.6575637, 10.4914145, 6.168324, 7.768094, 3.2912916, 6.03259975, 20.6741885], \"sizemode\": \"area\", \"sizeref\": 0.10843194125, \"symbol\": \"circle\"}, \"mode\": \"markers\", \"name\": \"Europe\", \"orientation\": \"v\", \"showlegend\": true, \"type\": \"scatter\", \"x\": [8.162251000000001, 5.26707365, 6.2904072499999995, 6.1029245, 5.8189585, 8.705485, 4.541451, 5.1007370000000005, 8.898758, 7.099035799999999, 8.99647075, 5.19952325, 4.2392985, 7.006043699999999, 6.2164703, 1.61289865, 9.7799085, 5.4843455, 10.077351, 8.38748, 8.394831, 5.15838425, 12.67933275, 4.46857935, 3.6575637, 10.4914145, 6.168324, 7.768094, 3.2912916, 6.03259975, 20.6741885], \"xaxis\": \"x\", \"y\": [18, 20, 29, 46, 85, 36, 20, 18, 11, 57, 5, 25, 50, 15, 20, 15, 24, 19, 42, 6, 27, 6, 1, 5, 3, 1, 2, 7, 5, 17, 3], \"yaxis\": \"y\"}, {\"hovertemplate\": \"<b>%{hovertext}</b><br><br>Continent=Oceania<br>Annual CO\\u2082 emissions (per capita)=%{marker.size}<br>Disaster count=%{y}<extra></extra>\", \"hovertext\": [\"Australia\", \"Fiji\", \"New Zealand\", \"Vanuatu\", \"Tonga\", \"Samoa\", \"Solomon Islands\", \"New Caledonia\", \"Papua New Guinea\", \"Niue\", \"Kiribati\", \"French Polynesia\", \"Tuvalu\", \"Palau\", \"Wallis and Futuna\"], \"legendgroup\": \"Oceania\", \"marker\": {\"color\": \"#ab63fa\", \"size\": [18.223599, 1.21185775, 8.0275995, 0.46170665, 1.09816935, 0.94281462, 0.5540440200000001, 13.3498855, 0.6829413, 3.8834304, 0.5141009000000001, 2.90743845, 1.0076176, 11.7012145, 2.01570835], \"sizemode\": \"area\", \"sizeref\": 0.10843194125, \"symbol\": \"circle\"}, \"mode\": \"markers\", \"name\": \"Oceania\", \"orientation\": \"v\", \"showlegend\": true, \"type\": \"scatter\", \"x\": [18.223599, 1.21185775, 8.0275995, 0.46170665, 1.09816935, 0.94281462, 0.5540440200000001, 13.3498855, 0.6829413, 3.8834304, 0.5141009000000001, 2.90743845, 1.0076176, 11.7012145, 2.01570835], \"xaxis\": \"x\", \"y\": [107, 28, 26, 11, 10, 6, 15, 2, 20, 1, 3, 2, 4, 4, 1], \"yaxis\": \"y\"}, {\"hovertemplate\": \"<b>%{hovertext}</b><br><br>Continent=Africa<br>Annual CO\\u2082 emissions (per capita)=%{marker.size}<br>Disaster count=%{y}<extra></extra>\", \"hovertext\": [\"Angola\", \"Burundi\", \"Botswana\", \"Central African Republic\", \"Madagascar\", \"Cameroon\", \"Algeria\", \"Ethiopia\", \"Guinea\", \"Morocco\", \"Mali\", \"Mozambique\", \"Malawi\", \"Namibia\", \"Nigeria\", \"Kenya\", \"Zambia\", \"South Africa\", \"Senegal\", \"Somalia\", \"Eswatini\", \"Uganda\", \"Zimbabwe\", \"Burkina Faso\", \"Mauritania\", \"Ghana\", \"Lesotho\", \"Egypt\", \"Guinea-Bissau\", \"Mauritius\", \"Chad\", \"Rwanda\", \"Seychelles\", \"Tunisia\", \"Eritrea\", \"Djibouti\", \"Sierra Leone\", \"Togo\", \"Benin\", \"Gabon\", \"Liberia\", \"South Sudan\", \"Libya\", \"Sao Tome and Principe\"], \"legendgroup\": \"Africa\", \"marker\": {\"color\": \"#FFA15A\", \"size\": [0.93013565, 0.036247483999999996, 2.2289379499999997, 0.042400427000000004, 0.1106849875, 0.337578975, 3.35021065, 0.0783489175, 0.20834418, 1.6663158, 0.138286295, 0.11946272999999999, 0.07307814, 1.3311992, 0.64176565, 0.293462875, 0.23131656, 8.443147, 0.552033095, 0.0504816425, 0.940125715, 0.10613288700000001, 0.7927638699999999, 0.12734972, 0.593935905, 0.417044725, 1.0520033500000001, 2.290859, 0.152747145, 3.0471733, 0.0986093425, 0.06351894999999999, 4.59011235, 2.29600575, 0.19992238, 0.49536609, 0.10373499750000001, 0.26920772000000004, 0.45319200000000004, 3.00107195, 0.19832299, 0.135557865, 8.9081315, 0.53740302], \"sizemode\": \"area\", \"sizeref\": 0.10843194125, \"symbol\": \"circle\"}, \"mode\": \"markers\", \"name\": \"Africa\", \"orientation\": \"v\", \"showlegend\": true, \"type\": \"scatter\", \"x\": [0.93013565, 0.036247483999999996, 2.2289379499999997, 0.042400427000000004, 0.1106849875, 0.337578975, 3.35021065, 0.0783489175, 0.20834418, 1.6663158, 0.138286295, 0.11946272999999999, 0.07307814, 1.3311992, 0.64176565, 0.293462875, 0.23131656, 8.443147, 0.552033095, 0.0504816425, 0.940125715, 0.10613288700000001, 0.7927638699999999, 0.12734972, 0.593935905, 0.417044725, 1.0520033500000001, 2.290859, 0.152747145, 3.0471733, 0.0986093425, 0.06351894999999999, 4.59011235, 2.29600575, 0.19992238, 0.49536609, 0.10373499750000001, 0.26920772000000004, 0.45319200000000004, 3.00107195, 0.19832299, 0.135557865, 8.9081315, 0.53740302], \"xaxis\": \"x\", \"y\": [49, 40, 11, 22, 55, 16, 38, 43, 15, 22, 27, 60, 40, 21, 51, 58, 22, 60, 20, 50, 11, 40, 24, 21, 21, 23, 13, 11, 7, 4, 20, 25, 3, 11, 3, 8, 10, 8, 12, 4, 6, 18, 2, 1], \"yaxis\": \"y\"}],                        {\"legend\": {\"itemsizing\": \"constant\", \"title\": {\"text\": \"Continent\"}, \"tracegroupgap\": 0}, \"margin\": {\"t\": 60}, \"template\": {\"data\": {\"bar\": [{\"error_x\": {\"color\": \"#2a3f5f\"}, \"error_y\": {\"color\": \"#2a3f5f\"}, \"marker\": {\"line\": {\"color\": \"#E5ECF6\", \"width\": 0.5}}, \"type\": \"bar\"}], \"barpolar\": [{\"marker\": {\"line\": {\"color\": \"#E5ECF6\", \"width\": 0.5}}, \"type\": \"barpolar\"}], \"carpet\": [{\"aaxis\": {\"endlinecolor\": \"#2a3f5f\", \"gridcolor\": \"white\", \"linecolor\": \"white\", \"minorgridcolor\": \"white\", \"startlinecolor\": \"#2a3f5f\"}, \"baxis\": {\"endlinecolor\": \"#2a3f5f\", \"gridcolor\": \"white\", \"linecolor\": \"white\", \"minorgridcolor\": \"white\", \"startlinecolor\": \"#2a3f5f\"}, \"type\": \"carpet\"}], \"choropleth\": [{\"colorbar\": {\"outlinewidth\": 0, \"ticks\": \"\"}, \"type\": \"choropleth\"}], \"contour\": [{\"colorbar\": {\"outlinewidth\": 0, \"ticks\": \"\"}, \"colorscale\": [[0.0, \"#0d0887\"], [0.1111111111111111, \"#46039f\"], [0.2222222222222222, \"#7201a8\"], [0.3333333333333333, \"#9c179e\"], [0.4444444444444444, \"#bd3786\"], [0.5555555555555556, \"#d8576b\"], [0.6666666666666666, \"#ed7953\"], [0.7777777777777778, \"#fb9f3a\"], [0.8888888888888888, \"#fdca26\"], [1.0, \"#f0f921\"]], \"type\": \"contour\"}], \"contourcarpet\": [{\"colorbar\": {\"outlinewidth\": 0, \"ticks\": \"\"}, \"type\": \"contourcarpet\"}], \"heatmap\": [{\"colorbar\": {\"outlinewidth\": 0, \"ticks\": \"\"}, \"colorscale\": [[0.0, \"#0d0887\"], [0.1111111111111111, \"#46039f\"], [0.2222222222222222, \"#7201a8\"], [0.3333333333333333, \"#9c179e\"], [0.4444444444444444, \"#bd3786\"], [0.5555555555555556, \"#d8576b\"], [0.6666666666666666, \"#ed7953\"], [0.7777777777777778, \"#fb9f3a\"], [0.8888888888888888, \"#fdca26\"], [1.0, \"#f0f921\"]], \"type\": \"heatmap\"}], \"heatmapgl\": [{\"colorbar\": {\"outlinewidth\": 0, \"ticks\": \"\"}, \"colorscale\": [[0.0, \"#0d0887\"], [0.1111111111111111, \"#46039f\"], [0.2222222222222222, \"#7201a8\"], [0.3333333333333333, \"#9c179e\"], [0.4444444444444444, \"#bd3786\"], [0.5555555555555556, \"#d8576b\"], [0.6666666666666666, \"#ed7953\"], [0.7777777777777778, \"#fb9f3a\"], [0.8888888888888888, \"#fdca26\"], [1.0, \"#f0f921\"]], \"type\": \"heatmapgl\"}], \"histogram\": [{\"marker\": {\"colorbar\": {\"outlinewidth\": 0, \"ticks\": \"\"}}, \"type\": \"histogram\"}], \"histogram2d\": [{\"colorbar\": {\"outlinewidth\": 0, \"ticks\": \"\"}, \"colorscale\": [[0.0, \"#0d0887\"], [0.1111111111111111, \"#46039f\"], [0.2222222222222222, \"#7201a8\"], [0.3333333333333333, \"#9c179e\"], [0.4444444444444444, \"#bd3786\"], [0.5555555555555556, \"#d8576b\"], [0.6666666666666666, \"#ed7953\"], [0.7777777777777778, \"#fb9f3a\"], [0.8888888888888888, \"#fdca26\"], [1.0, \"#f0f921\"]], \"type\": \"histogram2d\"}], \"histogram2dcontour\": [{\"colorbar\": {\"outlinewidth\": 0, \"ticks\": \"\"}, \"colorscale\": [[0.0, \"#0d0887\"], [0.1111111111111111, \"#46039f\"], [0.2222222222222222, \"#7201a8\"], [0.3333333333333333, \"#9c179e\"], [0.4444444444444444, \"#bd3786\"], [0.5555555555555556, \"#d8576b\"], [0.6666666666666666, \"#ed7953\"], [0.7777777777777778, \"#fb9f3a\"], [0.8888888888888888, \"#fdca26\"], [1.0, \"#f0f921\"]], \"type\": \"histogram2dcontour\"}], \"mesh3d\": [{\"colorbar\": {\"outlinewidth\": 0, \"ticks\": \"\"}, \"type\": \"mesh3d\"}], \"parcoords\": [{\"line\": {\"colorbar\": {\"outlinewidth\": 0, \"ticks\": \"\"}}, \"type\": \"parcoords\"}], \"pie\": [{\"automargin\": true, \"type\": \"pie\"}], \"scatter\": [{\"marker\": {\"colorbar\": {\"outlinewidth\": 0, \"ticks\": \"\"}}, \"type\": \"scatter\"}], \"scatter3d\": [{\"line\": {\"colorbar\": {\"outlinewidth\": 0, \"ticks\": \"\"}}, \"marker\": {\"colorbar\": {\"outlinewidth\": 0, \"ticks\": \"\"}}, \"type\": \"scatter3d\"}], \"scattercarpet\": [{\"marker\": {\"colorbar\": {\"outlinewidth\": 0, \"ticks\": \"\"}}, \"type\": \"scattercarpet\"}], \"scattergeo\": [{\"marker\": {\"colorbar\": {\"outlinewidth\": 0, \"ticks\": \"\"}}, \"type\": \"scattergeo\"}], \"scattergl\": [{\"marker\": {\"colorbar\": {\"outlinewidth\": 0, \"ticks\": \"\"}}, \"type\": \"scattergl\"}], \"scattermapbox\": [{\"marker\": {\"colorbar\": {\"outlinewidth\": 0, \"ticks\": \"\"}}, \"type\": \"scattermapbox\"}], \"scatterpolar\": [{\"marker\": {\"colorbar\": {\"outlinewidth\": 0, \"ticks\": \"\"}}, \"type\": \"scatterpolar\"}], \"scatterpolargl\": [{\"marker\": {\"colorbar\": {\"outlinewidth\": 0, \"ticks\": \"\"}}, \"type\": \"scatterpolargl\"}], \"scatterternary\": [{\"marker\": {\"colorbar\": {\"outlinewidth\": 0, \"ticks\": \"\"}}, \"type\": \"scatterternary\"}], \"surface\": [{\"colorbar\": {\"outlinewidth\": 0, \"ticks\": \"\"}, \"colorscale\": [[0.0, \"#0d0887\"], [0.1111111111111111, \"#46039f\"], [0.2222222222222222, \"#7201a8\"], [0.3333333333333333, \"#9c179e\"], [0.4444444444444444, \"#bd3786\"], [0.5555555555555556, \"#d8576b\"], [0.6666666666666666, \"#ed7953\"], [0.7777777777777778, \"#fb9f3a\"], [0.8888888888888888, \"#fdca26\"], [1.0, \"#f0f921\"]], \"type\": \"surface\"}], \"table\": [{\"cells\": {\"fill\": {\"color\": \"#EBF0F8\"}, \"line\": {\"color\": \"white\"}}, \"header\": {\"fill\": {\"color\": \"#C8D4E3\"}, \"line\": {\"color\": \"white\"}}, \"type\": \"table\"}]}, \"layout\": {\"annotationdefaults\": {\"arrowcolor\": \"#2a3f5f\", \"arrowhead\": 0, \"arrowwidth\": 1}, \"autotypenumbers\": \"strict\", \"coloraxis\": {\"colorbar\": {\"outlinewidth\": 0, \"ticks\": \"\"}}, \"colorscale\": {\"diverging\": [[0, \"#8e0152\"], [0.1, \"#c51b7d\"], [0.2, \"#de77ae\"], [0.3, \"#f1b6da\"], [0.4, \"#fde0ef\"], [0.5, \"#f7f7f7\"], [0.6, \"#e6f5d0\"], [0.7, \"#b8e186\"], [0.8, \"#7fbc41\"], [0.9, \"#4d9221\"], [1, \"#276419\"]], \"sequential\": [[0.0, \"#0d0887\"], [0.1111111111111111, \"#46039f\"], [0.2222222222222222, \"#7201a8\"], [0.3333333333333333, \"#9c179e\"], [0.4444444444444444, \"#bd3786\"], [0.5555555555555556, \"#d8576b\"], [0.6666666666666666, \"#ed7953\"], [0.7777777777777778, \"#fb9f3a\"], [0.8888888888888888, \"#fdca26\"], [1.0, \"#f0f921\"]], \"sequentialminus\": [[0.0, \"#0d0887\"], [0.1111111111111111, \"#46039f\"], [0.2222222222222222, \"#7201a8\"], [0.3333333333333333, \"#9c179e\"], [0.4444444444444444, \"#bd3786\"], [0.5555555555555556, \"#d8576b\"], [0.6666666666666666, \"#ed7953\"], [0.7777777777777778, \"#fb9f3a\"], [0.8888888888888888, \"#fdca26\"], [1.0, \"#f0f921\"]]}, \"colorway\": [\"#636efa\", \"#EF553B\", \"#00cc96\", \"#ab63fa\", \"#FFA15A\", \"#19d3f3\", \"#FF6692\", \"#B6E880\", \"#FF97FF\", \"#FECB52\"], \"font\": {\"color\": \"#2a3f5f\"}, \"geo\": {\"bgcolor\": \"white\", \"lakecolor\": \"white\", \"landcolor\": \"#E5ECF6\", \"showlakes\": true, \"showland\": true, \"subunitcolor\": \"white\"}, \"hoverlabel\": {\"align\": \"left\"}, \"hovermode\": \"closest\", \"mapbox\": {\"style\": \"light\"}, \"paper_bgcolor\": \"white\", \"plot_bgcolor\": \"#E5ECF6\", \"polar\": {\"angularaxis\": {\"gridcolor\": \"white\", \"linecolor\": \"white\", \"ticks\": \"\"}, \"bgcolor\": \"#E5ECF6\", \"radialaxis\": {\"gridcolor\": \"white\", \"linecolor\": \"white\", \"ticks\": \"\"}}, \"scene\": {\"xaxis\": {\"backgroundcolor\": \"#E5ECF6\", \"gridcolor\": \"white\", \"gridwidth\": 2, \"linecolor\": \"white\", \"showbackground\": true, \"ticks\": \"\", \"zerolinecolor\": \"white\"}, \"yaxis\": {\"backgroundcolor\": \"#E5ECF6\", \"gridcolor\": \"white\", \"gridwidth\": 2, \"linecolor\": \"white\", \"showbackground\": true, \"ticks\": \"\", \"zerolinecolor\": \"white\"}, \"zaxis\": {\"backgroundcolor\": \"#E5ECF6\", \"gridcolor\": \"white\", \"gridwidth\": 2, \"linecolor\": \"white\", \"showbackground\": true, \"ticks\": \"\", \"zerolinecolor\": \"white\"}}, \"shapedefaults\": {\"line\": {\"color\": \"#2a3f5f\"}}, \"ternary\": {\"aaxis\": {\"gridcolor\": \"white\", \"linecolor\": \"white\", \"ticks\": \"\"}, \"baxis\": {\"gridcolor\": \"white\", \"linecolor\": \"white\", \"ticks\": \"\"}, \"bgcolor\": \"#E5ECF6\", \"caxis\": {\"gridcolor\": \"white\", \"linecolor\": \"white\", \"ticks\": \"\"}}, \"title\": {\"x\": 0.05}, \"xaxis\": {\"automargin\": true, \"gridcolor\": \"white\", \"linecolor\": \"white\", \"ticks\": \"\", \"title\": {\"standoff\": 15}, \"zerolinecolor\": \"white\", \"zerolinewidth\": 2}, \"yaxis\": {\"automargin\": true, \"gridcolor\": \"white\", \"linecolor\": \"white\", \"ticks\": \"\", \"title\": {\"standoff\": 15}, \"zerolinecolor\": \"white\", \"zerolinewidth\": 2}}}, \"xaxis\": {\"anchor\": \"y\", \"domain\": [0.0, 1.0], \"title\": {\"text\": \"Annual CO\\u2082 emissions (per capita)\"}}, \"yaxis\": {\"anchor\": \"x\", \"domain\": [0.0, 1.0], \"title\": {\"text\": \"Disaster count\"}}},                        {\"responsive\": true}                    ).then(function(){\n",
       "                            \n",
       "var gd = document.getElementById('1c14da05-d60f-468d-af75-8fb9d13be9fd');\n",
       "var x = new MutationObserver(function (mutations, observer) {{\n",
       "        var display = window.getComputedStyle(gd).display;\n",
       "        if (!display || display === 'none') {{\n",
       "            console.log([gd, 'removed!']);\n",
       "            Plotly.purge(gd);\n",
       "            observer.disconnect();\n",
       "        }}\n",
       "}});\n",
       "\n",
       "// Listen for the removal of the full notebook cells\n",
       "var notebookContainer = gd.closest('#notebook-container');\n",
       "if (notebookContainer) {{\n",
       "    x.observe(notebookContainer, {childList: true});\n",
       "}}\n",
       "\n",
       "// Listen for the clearing of the current output cell\n",
       "var outputEl = gd.closest('.output');\n",
       "if (outputEl) {{\n",
       "    x.observe(outputEl, {childList: true});\n",
       "}}\n",
       "\n",
       "                        })                };                });            </script>        </div>"
      ]
     },
     "metadata": {},
     "output_type": "display_data"
    }
   ],
   "source": [
    "import plotly.express as px\n",
    "\n",
    "fig = px.scatter(\n",
    "    merged_df, x=\"Annual CO₂ emissions (per capita)\", \n",
    "    y=\"Disaster count\", size=\"Annual CO₂ emissions (per capita)\",\n",
    "    color=\"Continent\", hover_name=\"Country\"\n",
    ")\n",
    "fig.show()"
   ]
  },
  {
   "cell_type": "markdown",
   "id": "32a4077d",
   "metadata": {},
   "source": [
    "### Method 2: Calculating median on Our World in Data CO2 emissions dataset "
   ]
  },
  {
   "cell_type": "markdown",
   "id": "137e998f",
   "metadata": {},
   "source": [
    "**Note**: This median calculation is done on a subset `(2000-2021)` of the `C02 emissions dataset` that has been filtered using `Excel`. The median is calculated in order to get only `one value` for C02 emissions per country. The resulting dataset with the median is exported into a csv file in order to merge it with the `EM-DAT` dataset using `Excel` and `OpenRefine`"
   ]
  },
  {
   "cell_type": "code",
   "execution_count": 181,
   "id": "ddfea820",
   "metadata": {},
   "outputs": [
    {
     "name": "stderr",
     "output_type": "stream",
     "text": [
      "/opt/homebrew/lib/python3.9/site-packages/openpyxl/styles/stylesheet.py:221: UserWarning:\n",
      "\n",
      "Workbook contains no default style, apply openpyxl's default\n",
      "\n"
     ]
    },
    {
     "data": {
      "text/html": [
       "<div>\n",
       "<style scoped>\n",
       "    .dataframe tbody tr th:only-of-type {\n",
       "        vertical-align: middle;\n",
       "    }\n",
       "\n",
       "    .dataframe tbody tr th {\n",
       "        vertical-align: top;\n",
       "    }\n",
       "\n",
       "    .dataframe thead th {\n",
       "        text-align: right;\n",
       "    }\n",
       "</style>\n",
       "<table border=\"1\" class=\"dataframe\">\n",
       "  <thead>\n",
       "    <tr style=\"text-align: right;\">\n",
       "      <th></th>\n",
       "      <th>Entity</th>\n",
       "      <th>Code</th>\n",
       "      <th>Year</th>\n",
       "      <th>Annual CO₂ emissions (zero filled)</th>\n",
       "    </tr>\n",
       "  </thead>\n",
       "  <tbody>\n",
       "    <tr>\n",
       "      <th>0</th>\n",
       "      <td>Afghanistan</td>\n",
       "      <td>AFG</td>\n",
       "      <td>2000</td>\n",
       "      <td>1047127.94</td>\n",
       "    </tr>\n",
       "    <tr>\n",
       "      <th>1</th>\n",
       "      <td>Afghanistan</td>\n",
       "      <td>AFG</td>\n",
       "      <td>2001</td>\n",
       "      <td>1069098.00</td>\n",
       "    </tr>\n",
       "    <tr>\n",
       "      <th>2</th>\n",
       "      <td>Afghanistan</td>\n",
       "      <td>AFG</td>\n",
       "      <td>2002</td>\n",
       "      <td>1340995.00</td>\n",
       "    </tr>\n",
       "    <tr>\n",
       "      <th>3</th>\n",
       "      <td>Afghanistan</td>\n",
       "      <td>AFG</td>\n",
       "      <td>2003</td>\n",
       "      <td>1559602.00</td>\n",
       "    </tr>\n",
       "    <tr>\n",
       "      <th>4</th>\n",
       "      <td>Afghanistan</td>\n",
       "      <td>AFG</td>\n",
       "      <td>2004</td>\n",
       "      <td>1237247.00</td>\n",
       "    </tr>\n",
       "  </tbody>\n",
       "</table>\n",
       "</div>"
      ],
      "text/plain": [
       "        Entity Code  Year  Annual CO₂ emissions (zero filled)\n",
       "0  Afghanistan  AFG  2000                          1047127.94\n",
       "1  Afghanistan  AFG  2001                          1069098.00\n",
       "2  Afghanistan  AFG  2002                          1340995.00\n",
       "3  Afghanistan  AFG  2003                          1559602.00\n",
       "4  Afghanistan  AFG  2004                          1237247.00"
      ]
     },
     "execution_count": 181,
     "metadata": {},
     "output_type": "execute_result"
    }
   ],
   "source": [
    "df_3 = pd.read_excel(\"annual-co-emissions-by-region2000.xlsx\")\n",
    "df_3.head()"
   ]
  },
  {
   "cell_type": "code",
   "execution_count": 182,
   "id": "2b7cb98c",
   "metadata": {},
   "outputs": [
    {
     "data": {
      "text/html": [
       "<div>\n",
       "<style scoped>\n",
       "    .dataframe tbody tr th:only-of-type {\n",
       "        vertical-align: middle;\n",
       "    }\n",
       "\n",
       "    .dataframe tbody tr th {\n",
       "        vertical-align: top;\n",
       "    }\n",
       "\n",
       "    .dataframe thead th {\n",
       "        text-align: right;\n",
       "    }\n",
       "</style>\n",
       "<table border=\"1\" class=\"dataframe\">\n",
       "  <thead>\n",
       "    <tr style=\"text-align: right;\">\n",
       "      <th></th>\n",
       "      <th>Annual CO₂ emissions (zero filled)</th>\n",
       "    </tr>\n",
       "    <tr>\n",
       "      <th>Entity</th>\n",
       "      <th></th>\n",
       "    </tr>\n",
       "  </thead>\n",
       "  <tbody>\n",
       "    <tr>\n",
       "      <th>Afghanistan</th>\n",
       "      <td>8.716201e+06</td>\n",
       "    </tr>\n",
       "    <tr>\n",
       "      <th>Africa</th>\n",
       "      <td>1.233028e+09</td>\n",
       "    </tr>\n",
       "    <tr>\n",
       "      <th>Africa (GCP)</th>\n",
       "      <td>1.233017e+09</td>\n",
       "    </tr>\n",
       "    <tr>\n",
       "      <th>Aland Islands</th>\n",
       "      <td>0.000000e+00</td>\n",
       "    </tr>\n",
       "    <tr>\n",
       "      <th>Albania</th>\n",
       "      <td>4.625543e+06</td>\n",
       "    </tr>\n",
       "    <tr>\n",
       "      <th>...</th>\n",
       "      <td>...</td>\n",
       "    </tr>\n",
       "    <tr>\n",
       "      <th>Western Sahara</th>\n",
       "      <td>0.000000e+00</td>\n",
       "    </tr>\n",
       "    <tr>\n",
       "      <th>World</th>\n",
       "      <td>3.392568e+10</td>\n",
       "    </tr>\n",
       "    <tr>\n",
       "      <th>Yemen</th>\n",
       "      <td>1.786422e+07</td>\n",
       "    </tr>\n",
       "    <tr>\n",
       "      <th>Zambia</th>\n",
       "      <td>3.246334e+06</td>\n",
       "    </tr>\n",
       "    <tr>\n",
       "      <th>Zimbabwe</th>\n",
       "      <td>1.065404e+07</td>\n",
       "    </tr>\n",
       "  </tbody>\n",
       "</table>\n",
       "<p>269 rows × 1 columns</p>\n",
       "</div>"
      ],
      "text/plain": [
       "                Annual CO₂ emissions (zero filled)\n",
       "Entity                                            \n",
       "Afghanistan                           8.716201e+06\n",
       "Africa                                1.233028e+09\n",
       "Africa (GCP)                          1.233017e+09\n",
       "Aland Islands                         0.000000e+00\n",
       "Albania                               4.625543e+06\n",
       "...                                            ...\n",
       "Western Sahara                        0.000000e+00\n",
       "World                                 3.392568e+10\n",
       "Yemen                                 1.786422e+07\n",
       "Zambia                                3.246334e+06\n",
       "Zimbabwe                              1.065404e+07\n",
       "\n",
       "[269 rows x 1 columns]"
      ]
     },
     "execution_count": 182,
     "metadata": {},
     "output_type": "execute_result"
    }
   ],
   "source": [
    "grouped_df = df_3.groupby(by=\"Entity\").agg({\"Annual CO₂ emissions (zero filled)\": \"median\"})\n",
    "grouped_df"
   ]
  },
  {
   "cell_type": "code",
   "execution_count": 183,
   "id": "2b00c30a",
   "metadata": {},
   "outputs": [],
   "source": [
    "grouped_df.to_csv(\"annual_co2_median.csv\")"
   ]
  },
  {
   "cell_type": "markdown",
   "id": "fd6b5b09",
   "metadata": {},
   "source": [
    "#### Visualization on the dataset merged using Excel and OpenRefine"
   ]
  },
  {
   "cell_type": "code",
   "execution_count": 184,
   "id": "019bc43f",
   "metadata": {},
   "outputs": [
    {
     "data": {
      "text/html": [
       "<div>\n",
       "<style scoped>\n",
       "    .dataframe tbody tr th:only-of-type {\n",
       "        vertical-align: middle;\n",
       "    }\n",
       "\n",
       "    .dataframe tbody tr th {\n",
       "        vertical-align: top;\n",
       "    }\n",
       "\n",
       "    .dataframe thead th {\n",
       "        text-align: right;\n",
       "    }\n",
       "</style>\n",
       "<table border=\"1\" class=\"dataframe\">\n",
       "  <thead>\n",
       "    <tr style=\"text-align: right;\">\n",
       "      <th></th>\n",
       "      <th>Entity</th>\n",
       "      <th>Code</th>\n",
       "      <th>Continent</th>\n",
       "      <th>Disaster count</th>\n",
       "      <th>median CO₂ emissions</th>\n",
       "      <th>land area</th>\n",
       "    </tr>\n",
       "  </thead>\n",
       "  <tbody>\n",
       "    <tr>\n",
       "      <th>0</th>\n",
       "      <td>Afghanistan</td>\n",
       "      <td>AFG</td>\n",
       "      <td>Asia</td>\n",
       "      <td>92.0</td>\n",
       "      <td>8.716201e+06</td>\n",
       "      <td>652860.0</td>\n",
       "    </tr>\n",
       "    <tr>\n",
       "      <th>1</th>\n",
       "      <td>Albania</td>\n",
       "      <td>ALB</td>\n",
       "      <td>Europe</td>\n",
       "      <td>15.0</td>\n",
       "      <td>4.625543e+06</td>\n",
       "      <td>27400.0</td>\n",
       "    </tr>\n",
       "    <tr>\n",
       "      <th>2</th>\n",
       "      <td>Algeria</td>\n",
       "      <td>DZA</td>\n",
       "      <td>Africa</td>\n",
       "      <td>38.0</td>\n",
       "      <td>1.199962e+08</td>\n",
       "      <td>2381741.0</td>\n",
       "    </tr>\n",
       "    <tr>\n",
       "      <th>3</th>\n",
       "      <td>Andorra</td>\n",
       "      <td>AND</td>\n",
       "      <td>Europe</td>\n",
       "      <td>NaN</td>\n",
       "      <td>5.056320e+05</td>\n",
       "      <td>470.0</td>\n",
       "    </tr>\n",
       "    <tr>\n",
       "      <th>4</th>\n",
       "      <td>Angola</td>\n",
       "      <td>AGO</td>\n",
       "      <td>Africa</td>\n",
       "      <td>49.0</td>\n",
       "      <td>2.354180e+07</td>\n",
       "      <td>1246700.0</td>\n",
       "    </tr>\n",
       "  </tbody>\n",
       "</table>\n",
       "</div>"
      ],
      "text/plain": [
       "        Entity Code Continent  Disaster count  median CO₂ emissions  land area\n",
       "0  Afghanistan  AFG      Asia            92.0          8.716201e+06   652860.0\n",
       "1      Albania  ALB    Europe            15.0          4.625543e+06    27400.0\n",
       "2      Algeria  DZA    Africa            38.0          1.199962e+08  2381741.0\n",
       "3      Andorra  AND    Europe             NaN          5.056320e+05      470.0\n",
       "4       Angola  AGO    Africa            49.0          2.354180e+07  1246700.0"
      ]
     },
     "execution_count": 184,
     "metadata": {},
     "output_type": "execute_result"
    }
   ],
   "source": [
    "df_2 = pd.read_excel(\"CO2_median_disaster_2000_2021.xlsx\")\n",
    "df_2.head()\n"
   ]
  },
  {
   "cell_type": "markdown",
   "id": "81652c3c",
   "metadata": {},
   "source": [
    "#### Bubble chart on data merged using OpenRefine"
   ]
  },
  {
   "cell_type": "code",
   "execution_count": 190,
   "id": "53730df0",
   "metadata": {},
   "outputs": [
    {
     "data": {
      "application/vnd.plotly.v1+json": {
       "config": {
        "plotlyServerURL": "https://plot.ly"
       },
       "data": [
        {
         "hovertemplate": "<b>%{hovertext}</b><br><br>Continent=Asia<br>median CO₂ emissions=%{x}<br>Disaster count=%{y}<br>land area=%{marker.size}<extra></extra>",
         "hovertext": [
          "Afghanistan",
          "Armenia",
          "Azerbaijan",
          "Bahrain",
          "Bangladesh",
          "Bhutan",
          "Brunei",
          "Cambodia",
          "China",
          "Georgia",
          "Hong Kong",
          "India",
          "Indonesia",
          "Iran",
          "Iraq",
          "Israel",
          "Japan",
          "Jordan",
          "Kazakhstan",
          "Kuwait",
          "Kyrgyzstan",
          "Laos",
          "Lebanon",
          "Macao",
          "Malaysia",
          "Maldives",
          "Mongolia",
          "Myanmar",
          "Nepal",
          "North Korea",
          "Oman",
          "Pakistan",
          "Palestine",
          "Philippines",
          "Qatar",
          "Saudi Arabia",
          "South Korea",
          "Sri Lanka",
          "Syria",
          "Tajikistan",
          "Thailand",
          "Timor",
          "Turkey",
          "Turkmenistan",
          "United Arab Emirates",
          "Uzbekistan",
          "Vietnam"
         ],
         "legendgroup": "Asia",
         "marker": {
          "color": "#636efa",
          "size": [
           652860,
           28470,
           82654,
           780,
           130170,
           38140,
           5270,
           176520,
           9424703,
           69490,
           1050,
           2973190,
           1877519,
           1628760,
           434128,
           21640,
           364500,
           88780,
           2699700,
           17820,
           191800,
           230800,
           10230,
           32.900001525878906,
           328550,
           300,
           1557255,
           652790,
           143350,
           120410,
           309500,
           770880,
           6020,
           298170,
           11490,
           2149690,
           97520,
           61864,
           183630,
           138790,
           510890,
           14870,
           769630,
           469930,
           71020,
           440555,
           310070
          ],
          "sizemode": "area",
          "sizeref": 40942.175,
          "symbol": "circle"
         },
         "mode": "markers",
         "name": "Asia",
         "orientation": "v",
         "showlegend": true,
         "type": "scatter",
         "x": [
          8716200.75,
          5151611.5,
          33920818,
          28771541,
          55273950,
          566076.5,
          7903269.25,
          5176420,
          9072604500,
          7084938.5,
          42415546,
          1727483800,
          469717775,
          573554135,
          124454605,
          61654810,
          1257200850,
          21386595,
          240477935,
          84992990,
          7550243.5,
          3087308.5,
          20610842,
          1517719.5,
          214611495,
          959968,
          17570092,
          12788577,
          5022366.5,
          54399242,
          52708946,
          154768240,
          2293664,
          83347600,
          75783930,
          507687470,
          595986690,
          13865021.5,
          47971504,
          2901456.5,
          260382295,
          436016,
          329090835,
          59646448,
          186806500,
          118518822,
          141479080
         ],
         "xaxis": "x",
         "y": [
          92,
          6,
          4,
          null,
          105,
          4,
          null,
          29,
          436,
          18,
          13,
          284,
          192,
          51,
          15,
          9,
          107,
          5,
          14,
          1,
          6,
          23,
          9,
          2,
          60,
          3,
          19,
          33,
          37,
          33,
          14,
          91,
          7,
          278,
          1,
          23,
          50,
          60,
          10,
          29,
          90,
          10,
          41,
          null,
          1,
          3,
          158
         ],
         "yaxis": "y"
        },
        {
         "hovertemplate": "<b>%{hovertext}</b><br><br>Continent=Europe<br>median CO₂ emissions=%{x}<br>Disaster count=%{y}<br>land area=%{marker.size}<extra></extra>",
         "hovertext": [
          "Albania",
          "Andorra",
          "Austria",
          "Belarus",
          "Belgium",
          "Bosnia and Herzegovina",
          "Bulgaria",
          "Croatia",
          "Cyprus",
          "Czechia",
          "Denmark",
          "Estonia",
          "Faeroe Islands",
          "Finland",
          "France",
          "Germany",
          "Greece",
          "Hungary",
          "Iceland",
          "Ireland",
          "Italy",
          "Latvia",
          "Liechtenstein",
          "Lithuania",
          "Luxembourg",
          "Malta",
          "Moldova",
          "Montenegro",
          "Netherlands",
          "North Macedonia",
          "Norway",
          "Poland",
          "Portugal",
          "Romania",
          "Russia",
          "Serbia",
          "Slovakia",
          "Slovenia",
          "Spain",
          "Sweden",
          "Switzerland",
          "Ukraine",
          "United Kingdom"
         ],
         "legendgroup": "Europe",
         "marker": {
          "color": "#EF553B",
          "size": [
           27400,
           470,
           82520,
           202980,
           30280,
           51200,
           108560,
           56590,
           9240,
           77200,
           40000,
           43470,
           1396,
           303920,
           547557,
           349380,
           128900,
           91260,
           100830,
           68890,
           297730,
           62090,
           160,
           62630,
           2430,
           320,
           32885.30078125,
           13450,
           33670,
           25220,
           365107.84375,
           306170,
           91605.6015625,
           230080,
           16376870,
           87460,
           48080,
           20136.400390625,
           499603.46875,
           407310,
           39516.03125,
           579400,
           241930
          ],
          "sizemode": "area",
          "sizeref": 40942.175,
          "symbol": "circle"
         },
         "mode": "markers",
         "name": "Europe",
         "orientation": "v",
         "showlegend": true,
         "type": "scatter",
         "x": [
          4625543,
          505631.985,
          68764504,
          59910298,
          106376235,
          19635217,
          47714340,
          20156053,
          7450390,
          115099532,
          46549673,
          17310637,
          688832,
          56271121,
          364834290,
          822450330,
          95929690,
          50827693,
          3481884.5,
          41081578,
          424475345,
          7519827.5,
          191687.5,
          13612494.5,
          10154524.5,
          2552415.5,
          4901514.5,
          2082984.05,
          168894495,
          8663528,
          44271000,
          323895345,
          54105774,
          88620845,
          1625471950,
          45612989,
          37803450,
          15982267,
          284707480,
          48413320,
          43278242,
          294892330,
          490792235
         ],
         "xaxis": "x",
         "y": [
          15,
          null,
          18,
          2,
          24,
          20,
          29,
          20,
          5,
          21,
          6,
          1,
          null,
          1,
          85,
          42,
          36,
          18,
          null,
          11,
          57,
          3,
          null,
          5,
          3,
          null,
          8,
          5,
          12,
          14,
          5,
          27,
          25,
          50,
          88,
          17,
          15,
          7,
          46,
          6,
          19,
          20,
          45
         ],
         "yaxis": "y"
        },
        {
         "hovertemplate": "<b>%{hovertext}</b><br><br>Continent=Africa<br>median CO₂ emissions=%{x}<br>Disaster count=%{y}<br>land area=%{marker.size}<extra></extra>",
         "hovertext": [
          "Algeria",
          "Angola",
          "Benin",
          "Botswana",
          "Burkina Faso",
          "Cameroon",
          "Cape Verde",
          "Central African Republic",
          "Chad",
          "Comoros",
          "Congo",
          "Democratic Republic of Congo",
          "Egypt",
          "Equatorial Guinea",
          "Eritrea",
          "Eswatini",
          "Ethiopia",
          "Gabon",
          "Gambia",
          "Ghana",
          "Guinea",
          "Guinea-Bissau",
          "Kenya",
          "Lesotho",
          "Liberia",
          "Libya",
          "Madagascar",
          "Malawi",
          "Mali",
          "Mauritania",
          "Mauritius",
          "Morocco",
          "Mozambique",
          "Namibia",
          "Niger",
          "Nigeria",
          "Sao Tome and Principe",
          "Senegal",
          "Seychelles",
          "Sierra Leone",
          "Somalia",
          "South Africa",
          "South Sudan",
          "Sudan",
          "Tanzania",
          "Togo",
          "Tunisia",
          "Uganda",
          "Zambia",
          "Zimbabwe"
         ],
         "legendgroup": "Africa",
         "marker": {
          "color": "#00cc96",
          "size": [
           2381741,
           1246700,
           112760,
           566730,
           273600,
           472710,
           4030,
           622980,
           1259200,
           1861,
           341500,
           2267050,
           995450,
           28050,
           101000,
           17200,
           1129300.375,
           257670,
           10120,
           227540,
           245720,
           28120,
           569140,
           30360,
           96320,
           1759540,
           581800,
           94280,
           1220190,
           1030700,
           2030,
           446300,
           786380,
           823290,
           1266700,
           910770,
           960,
           192530,
           460,
           72180,
           627340,
           1213090,
           631928.125,
           1849233.75,
           885800,
           54390,
           155360,
           200520,
           743390,
           386850
          ],
          "sizemode": "area",
          "sizeref": 40942.175,
          "symbol": "circle"
         },
         "mode": "markers",
         "name": "Africa",
         "orientation": "v",
         "showlegend": true,
         "type": "scatter",
         "x": [
          119996200,
          23541795,
          4441129,
          4520165.5,
          2083652.5,
          6628048.5,
          498304.015,
          216176,
          1215889,
          157552,
          2100802.5,
          1988037.5,
          207294290,
          6967084.5,
          628785.5,
          1036911.97,
          6927962.5,
          4894575,
          425024,
          10467832.5,
          2137944,
          239992,
          11966908,
          2214888,
          802476,
          53346383,
          2122894,
          1079380,
          2183744,
          2099472,
          3914984,
          54616418,
          2844639,
          2772376,
          1246231.5,
          107411873,
          98928,
          7112260,
          419528,
          644864,
          608224,
          447789665,
          1301960.5,
          14293239.5,
          7339083.5,
          1834036,
          26313600,
          3598303,
          3246333.5,
          10654036
         ],
         "xaxis": "x",
         "y": [
          38,
          49,
          12,
          11,
          21,
          16,
          5,
          22,
          20,
          6,
          11,
          39,
          11,
          null,
          3,
          11,
          43,
          4,
          17,
          23,
          15,
          7,
          58,
          13,
          6,
          2,
          55,
          40,
          27,
          21,
          4,
          22,
          60,
          21,
          34,
          51,
          1,
          20,
          3,
          10,
          50,
          60,
          18,
          30,
          43,
          8,
          11,
          40,
          22,
          24
         ],
         "yaxis": "y"
        },
        {
         "hovertemplate": "<b>%{hovertext}</b><br><br>Continent=North America<br>median CO₂ emissions=%{x}<br>Disaster count=%{y}<br>land area=%{marker.size}<extra></extra>",
         "hovertext": [
          "Antigua and Barbuda",
          "Bahamas",
          "Barbados",
          "Belize",
          "British Virgin Islands",
          "Canada",
          "Cuba",
          "Dominica",
          "Dominican Republic",
          "El Salvador",
          "Greenland",
          "Grenada",
          "Guatemala",
          "Haiti",
          "Honduras",
          "Jamaica",
          "Mexico",
          "Nicaragua",
          "Panama",
          "Saint Kitts and Nevis",
          "Saint Lucia",
          "Saint Vincent and the Grenadines",
          "Trinidad and Tobago",
          "United States"
         ],
         "legendgroup": "North America",
         "marker": {
          "color": "#ab63fa",
          "size": [
           440,
           10010,
           430,
           22810,
           150,
           8965590,
           103800,
           750,
           48310,
           20720,
           410450,
           340,
           107160,
           27560,
           111890,
           10830,
           1943950,
           120340,
           74177,
           260,
           610,
           390,
           5130,
           9147420
          ],
          "sizemode": "area",
          "sizeref": 40942.175,
          "symbol": "circle"
         },
         "mode": "markers",
         "name": "North America",
         "orientation": "v",
         "showlegend": true,
         "type": "scatter",
         "x": [
          443344,
          2059167.95,
          1303504,
          472656,
          181368,
          569145320,
          25649573,
          161216,
          21260857,
          6407134,
          586337,
          252815.98,
          12127090,
          2200504,
          8696611,
          8209518.25,
          473730215,
          4550224.5,
          9420099.5,
          219840,
          460539.5,
          219840,
          40548044,
          5537750000
         ],
         "xaxis": "x",
         "y": [
          3,
          15,
          6,
          12,
          2,
          61,
          37,
          4,
          49,
          30,
          null,
          3,
          50,
          77,
          45,
          20,
          122,
          37,
          36,
          2,
          8,
          10,
          4,
          509
         ],
         "yaxis": "y"
        },
        {
         "hovertemplate": "<b>%{hovertext}</b><br><br>Continent=South America<br>median CO₂ emissions=%{x}<br>Disaster count=%{y}<br>land area=%{marker.size}<extra></extra>",
         "hovertext": [
          "Argentina",
          "Bolivia",
          "Brazil",
          "Chile",
          "Colombia",
          "Ecuador",
          "Guyana",
          "Paraguay",
          "Peru",
          "Suriname",
          "Uruguay",
          "Venezuela"
         ],
         "legendgroup": "South America",
         "marker": {
          "color": "#FFA15A",
          "size": [
           2736690,
           1083300,
           8358140,
           743532,
           1109500,
           248360,
           196850,
           397300,
           1280000,
           156000,
           175020,
           882050
          ],
          "sizemode": "area",
          "sizeref": 40942.175,
          "symbol": "circle"
         },
         "mode": "markers",
         "name": "South America",
         "orientation": "v",
         "showlegend": true,
         "type": "scatter",
         "x": [
          179774265,
          16287972.5,
          441287510,
          74450405,
          76179102,
          34641535,
          1918104,
          5096970,
          46498908,
          2188325.5,
          6505585.5,
          164838025
         ],
         "xaxis": "x",
         "y": [
          60,
          48,
          104,
          37,
          75,
          24,
          7,
          30,
          50,
          3,
          21,
          28
         ],
         "yaxis": "y"
        },
        {
         "hovertemplate": "<b>%{hovertext}</b><br><br>Continent=Oceania<br>median CO₂ emissions=%{x}<br>Disaster count=%{y}<br>land area=%{marker.size}<extra></extra>",
         "hovertext": [
          "Australia",
          "Fiji",
          "French Polynesia",
          "Kiribati",
          "Marshall Islands",
          "Micronesia (country)",
          "New Caledonia",
          "New Zealand",
          "Palau",
          "Papua New Guinea",
          "Samoa",
          "Solomon Islands",
          "Tonga",
          "Tuvalu",
          "Vanuatu"
         ],
         "legendgroup": "Oceania",
         "marker": {
          "color": "#19d3f3",
          "size": [
           7692020,
           18270,
           3520,
           810,
           180,
           700,
           18280,
           263310,
           460,
           452860,
           2830,
           27990,
           720,
           30,
           12190
          ],
          "sizemode": "area",
          "sizeref": 40942.175,
          "symbol": "circle"
         },
         "mode": "markers",
         "name": "Oceania",
         "orientation": "v",
         "showlegend": true,
         "type": "scatter",
         "x": [
          399773465,
          1088103.5,
          848216,
          56792,
          135568,
          142896,
          3548141.5,
          35563527,
          216176,
          5157108,
          185032,
          293120,
          117248,
          10992,
          117248
         ],
         "xaxis": "x",
         "y": [
          107,
          28,
          2,
          3,
          5,
          8,
          2,
          26,
          4,
          20,
          6,
          15,
          10,
          4,
          11
         ],
         "yaxis": "y"
        }
       ],
       "layout": {
        "legend": {
         "itemsizing": "constant",
         "title": {
          "text": "Continent"
         },
         "tracegroupgap": 0
        },
        "margin": {
         "t": 60
        },
        "template": {
         "data": {
          "bar": [
           {
            "error_x": {
             "color": "#2a3f5f"
            },
            "error_y": {
             "color": "#2a3f5f"
            },
            "marker": {
             "line": {
              "color": "#E5ECF6",
              "width": 0.5
             }
            },
            "type": "bar"
           }
          ],
          "barpolar": [
           {
            "marker": {
             "line": {
              "color": "#E5ECF6",
              "width": 0.5
             }
            },
            "type": "barpolar"
           }
          ],
          "carpet": [
           {
            "aaxis": {
             "endlinecolor": "#2a3f5f",
             "gridcolor": "white",
             "linecolor": "white",
             "minorgridcolor": "white",
             "startlinecolor": "#2a3f5f"
            },
            "baxis": {
             "endlinecolor": "#2a3f5f",
             "gridcolor": "white",
             "linecolor": "white",
             "minorgridcolor": "white",
             "startlinecolor": "#2a3f5f"
            },
            "type": "carpet"
           }
          ],
          "choropleth": [
           {
            "colorbar": {
             "outlinewidth": 0,
             "ticks": ""
            },
            "type": "choropleth"
           }
          ],
          "contour": [
           {
            "colorbar": {
             "outlinewidth": 0,
             "ticks": ""
            },
            "colorscale": [
             [
              0,
              "#0d0887"
             ],
             [
              0.1111111111111111,
              "#46039f"
             ],
             [
              0.2222222222222222,
              "#7201a8"
             ],
             [
              0.3333333333333333,
              "#9c179e"
             ],
             [
              0.4444444444444444,
              "#bd3786"
             ],
             [
              0.5555555555555556,
              "#d8576b"
             ],
             [
              0.6666666666666666,
              "#ed7953"
             ],
             [
              0.7777777777777778,
              "#fb9f3a"
             ],
             [
              0.8888888888888888,
              "#fdca26"
             ],
             [
              1,
              "#f0f921"
             ]
            ],
            "type": "contour"
           }
          ],
          "contourcarpet": [
           {
            "colorbar": {
             "outlinewidth": 0,
             "ticks": ""
            },
            "type": "contourcarpet"
           }
          ],
          "heatmap": [
           {
            "colorbar": {
             "outlinewidth": 0,
             "ticks": ""
            },
            "colorscale": [
             [
              0,
              "#0d0887"
             ],
             [
              0.1111111111111111,
              "#46039f"
             ],
             [
              0.2222222222222222,
              "#7201a8"
             ],
             [
              0.3333333333333333,
              "#9c179e"
             ],
             [
              0.4444444444444444,
              "#bd3786"
             ],
             [
              0.5555555555555556,
              "#d8576b"
             ],
             [
              0.6666666666666666,
              "#ed7953"
             ],
             [
              0.7777777777777778,
              "#fb9f3a"
             ],
             [
              0.8888888888888888,
              "#fdca26"
             ],
             [
              1,
              "#f0f921"
             ]
            ],
            "type": "heatmap"
           }
          ],
          "heatmapgl": [
           {
            "colorbar": {
             "outlinewidth": 0,
             "ticks": ""
            },
            "colorscale": [
             [
              0,
              "#0d0887"
             ],
             [
              0.1111111111111111,
              "#46039f"
             ],
             [
              0.2222222222222222,
              "#7201a8"
             ],
             [
              0.3333333333333333,
              "#9c179e"
             ],
             [
              0.4444444444444444,
              "#bd3786"
             ],
             [
              0.5555555555555556,
              "#d8576b"
             ],
             [
              0.6666666666666666,
              "#ed7953"
             ],
             [
              0.7777777777777778,
              "#fb9f3a"
             ],
             [
              0.8888888888888888,
              "#fdca26"
             ],
             [
              1,
              "#f0f921"
             ]
            ],
            "type": "heatmapgl"
           }
          ],
          "histogram": [
           {
            "marker": {
             "colorbar": {
              "outlinewidth": 0,
              "ticks": ""
             }
            },
            "type": "histogram"
           }
          ],
          "histogram2d": [
           {
            "colorbar": {
             "outlinewidth": 0,
             "ticks": ""
            },
            "colorscale": [
             [
              0,
              "#0d0887"
             ],
             [
              0.1111111111111111,
              "#46039f"
             ],
             [
              0.2222222222222222,
              "#7201a8"
             ],
             [
              0.3333333333333333,
              "#9c179e"
             ],
             [
              0.4444444444444444,
              "#bd3786"
             ],
             [
              0.5555555555555556,
              "#d8576b"
             ],
             [
              0.6666666666666666,
              "#ed7953"
             ],
             [
              0.7777777777777778,
              "#fb9f3a"
             ],
             [
              0.8888888888888888,
              "#fdca26"
             ],
             [
              1,
              "#f0f921"
             ]
            ],
            "type": "histogram2d"
           }
          ],
          "histogram2dcontour": [
           {
            "colorbar": {
             "outlinewidth": 0,
             "ticks": ""
            },
            "colorscale": [
             [
              0,
              "#0d0887"
             ],
             [
              0.1111111111111111,
              "#46039f"
             ],
             [
              0.2222222222222222,
              "#7201a8"
             ],
             [
              0.3333333333333333,
              "#9c179e"
             ],
             [
              0.4444444444444444,
              "#bd3786"
             ],
             [
              0.5555555555555556,
              "#d8576b"
             ],
             [
              0.6666666666666666,
              "#ed7953"
             ],
             [
              0.7777777777777778,
              "#fb9f3a"
             ],
             [
              0.8888888888888888,
              "#fdca26"
             ],
             [
              1,
              "#f0f921"
             ]
            ],
            "type": "histogram2dcontour"
           }
          ],
          "mesh3d": [
           {
            "colorbar": {
             "outlinewidth": 0,
             "ticks": ""
            },
            "type": "mesh3d"
           }
          ],
          "parcoords": [
           {
            "line": {
             "colorbar": {
              "outlinewidth": 0,
              "ticks": ""
             }
            },
            "type": "parcoords"
           }
          ],
          "pie": [
           {
            "automargin": true,
            "type": "pie"
           }
          ],
          "scatter": [
           {
            "marker": {
             "colorbar": {
              "outlinewidth": 0,
              "ticks": ""
             }
            },
            "type": "scatter"
           }
          ],
          "scatter3d": [
           {
            "line": {
             "colorbar": {
              "outlinewidth": 0,
              "ticks": ""
             }
            },
            "marker": {
             "colorbar": {
              "outlinewidth": 0,
              "ticks": ""
             }
            },
            "type": "scatter3d"
           }
          ],
          "scattercarpet": [
           {
            "marker": {
             "colorbar": {
              "outlinewidth": 0,
              "ticks": ""
             }
            },
            "type": "scattercarpet"
           }
          ],
          "scattergeo": [
           {
            "marker": {
             "colorbar": {
              "outlinewidth": 0,
              "ticks": ""
             }
            },
            "type": "scattergeo"
           }
          ],
          "scattergl": [
           {
            "marker": {
             "colorbar": {
              "outlinewidth": 0,
              "ticks": ""
             }
            },
            "type": "scattergl"
           }
          ],
          "scattermapbox": [
           {
            "marker": {
             "colorbar": {
              "outlinewidth": 0,
              "ticks": ""
             }
            },
            "type": "scattermapbox"
           }
          ],
          "scatterpolar": [
           {
            "marker": {
             "colorbar": {
              "outlinewidth": 0,
              "ticks": ""
             }
            },
            "type": "scatterpolar"
           }
          ],
          "scatterpolargl": [
           {
            "marker": {
             "colorbar": {
              "outlinewidth": 0,
              "ticks": ""
             }
            },
            "type": "scatterpolargl"
           }
          ],
          "scatterternary": [
           {
            "marker": {
             "colorbar": {
              "outlinewidth": 0,
              "ticks": ""
             }
            },
            "type": "scatterternary"
           }
          ],
          "surface": [
           {
            "colorbar": {
             "outlinewidth": 0,
             "ticks": ""
            },
            "colorscale": [
             [
              0,
              "#0d0887"
             ],
             [
              0.1111111111111111,
              "#46039f"
             ],
             [
              0.2222222222222222,
              "#7201a8"
             ],
             [
              0.3333333333333333,
              "#9c179e"
             ],
             [
              0.4444444444444444,
              "#bd3786"
             ],
             [
              0.5555555555555556,
              "#d8576b"
             ],
             [
              0.6666666666666666,
              "#ed7953"
             ],
             [
              0.7777777777777778,
              "#fb9f3a"
             ],
             [
              0.8888888888888888,
              "#fdca26"
             ],
             [
              1,
              "#f0f921"
             ]
            ],
            "type": "surface"
           }
          ],
          "table": [
           {
            "cells": {
             "fill": {
              "color": "#EBF0F8"
             },
             "line": {
              "color": "white"
             }
            },
            "header": {
             "fill": {
              "color": "#C8D4E3"
             },
             "line": {
              "color": "white"
             }
            },
            "type": "table"
           }
          ]
         },
         "layout": {
          "annotationdefaults": {
           "arrowcolor": "#2a3f5f",
           "arrowhead": 0,
           "arrowwidth": 1
          },
          "autotypenumbers": "strict",
          "coloraxis": {
           "colorbar": {
            "outlinewidth": 0,
            "ticks": ""
           }
          },
          "colorscale": {
           "diverging": [
            [
             0,
             "#8e0152"
            ],
            [
             0.1,
             "#c51b7d"
            ],
            [
             0.2,
             "#de77ae"
            ],
            [
             0.3,
             "#f1b6da"
            ],
            [
             0.4,
             "#fde0ef"
            ],
            [
             0.5,
             "#f7f7f7"
            ],
            [
             0.6,
             "#e6f5d0"
            ],
            [
             0.7,
             "#b8e186"
            ],
            [
             0.8,
             "#7fbc41"
            ],
            [
             0.9,
             "#4d9221"
            ],
            [
             1,
             "#276419"
            ]
           ],
           "sequential": [
            [
             0,
             "#0d0887"
            ],
            [
             0.1111111111111111,
             "#46039f"
            ],
            [
             0.2222222222222222,
             "#7201a8"
            ],
            [
             0.3333333333333333,
             "#9c179e"
            ],
            [
             0.4444444444444444,
             "#bd3786"
            ],
            [
             0.5555555555555556,
             "#d8576b"
            ],
            [
             0.6666666666666666,
             "#ed7953"
            ],
            [
             0.7777777777777778,
             "#fb9f3a"
            ],
            [
             0.8888888888888888,
             "#fdca26"
            ],
            [
             1,
             "#f0f921"
            ]
           ],
           "sequentialminus": [
            [
             0,
             "#0d0887"
            ],
            [
             0.1111111111111111,
             "#46039f"
            ],
            [
             0.2222222222222222,
             "#7201a8"
            ],
            [
             0.3333333333333333,
             "#9c179e"
            ],
            [
             0.4444444444444444,
             "#bd3786"
            ],
            [
             0.5555555555555556,
             "#d8576b"
            ],
            [
             0.6666666666666666,
             "#ed7953"
            ],
            [
             0.7777777777777778,
             "#fb9f3a"
            ],
            [
             0.8888888888888888,
             "#fdca26"
            ],
            [
             1,
             "#f0f921"
            ]
           ]
          },
          "colorway": [
           "#636efa",
           "#EF553B",
           "#00cc96",
           "#ab63fa",
           "#FFA15A",
           "#19d3f3",
           "#FF6692",
           "#B6E880",
           "#FF97FF",
           "#FECB52"
          ],
          "font": {
           "color": "#2a3f5f"
          },
          "geo": {
           "bgcolor": "white",
           "lakecolor": "white",
           "landcolor": "#E5ECF6",
           "showlakes": true,
           "showland": true,
           "subunitcolor": "white"
          },
          "hoverlabel": {
           "align": "left"
          },
          "hovermode": "closest",
          "mapbox": {
           "style": "light"
          },
          "paper_bgcolor": "white",
          "plot_bgcolor": "#E5ECF6",
          "polar": {
           "angularaxis": {
            "gridcolor": "white",
            "linecolor": "white",
            "ticks": ""
           },
           "bgcolor": "#E5ECF6",
           "radialaxis": {
            "gridcolor": "white",
            "linecolor": "white",
            "ticks": ""
           }
          },
          "scene": {
           "xaxis": {
            "backgroundcolor": "#E5ECF6",
            "gridcolor": "white",
            "gridwidth": 2,
            "linecolor": "white",
            "showbackground": true,
            "ticks": "",
            "zerolinecolor": "white"
           },
           "yaxis": {
            "backgroundcolor": "#E5ECF6",
            "gridcolor": "white",
            "gridwidth": 2,
            "linecolor": "white",
            "showbackground": true,
            "ticks": "",
            "zerolinecolor": "white"
           },
           "zaxis": {
            "backgroundcolor": "#E5ECF6",
            "gridcolor": "white",
            "gridwidth": 2,
            "linecolor": "white",
            "showbackground": true,
            "ticks": "",
            "zerolinecolor": "white"
           }
          },
          "shapedefaults": {
           "line": {
            "color": "#2a3f5f"
           }
          },
          "ternary": {
           "aaxis": {
            "gridcolor": "white",
            "linecolor": "white",
            "ticks": ""
           },
           "baxis": {
            "gridcolor": "white",
            "linecolor": "white",
            "ticks": ""
           },
           "bgcolor": "#E5ECF6",
           "caxis": {
            "gridcolor": "white",
            "linecolor": "white",
            "ticks": ""
           }
          },
          "title": {
           "x": 0.05
          },
          "xaxis": {
           "automargin": true,
           "gridcolor": "white",
           "linecolor": "white",
           "ticks": "",
           "title": {
            "standoff": 15
           },
           "zerolinecolor": "white",
           "zerolinewidth": 2
          },
          "yaxis": {
           "automargin": true,
           "gridcolor": "white",
           "linecolor": "white",
           "ticks": "",
           "title": {
            "standoff": 15
           },
           "zerolinecolor": "white",
           "zerolinewidth": 2
          }
         }
        },
        "title": {
         "text": "Disaster counts vs Median CO2 emissions",
         "xanchor": "center",
         "yanchor": "top"
        },
        "xaxis": {
         "anchor": "y",
         "domain": [
          0,
          1
         ],
         "title": {
          "text": "median CO₂ emissions"
         }
        },
        "yaxis": {
         "anchor": "x",
         "domain": [
          0,
          1
         ],
         "title": {
          "text": "Disaster count"
         }
        }
       }
      },
      "text/html": [
       "<div>                            <div id=\"582ada18-c321-4620-af90-6a9708c52045\" class=\"plotly-graph-div\" style=\"height:525px; width:100%;\"></div>            <script type=\"text/javascript\">                require([\"plotly\"], function(Plotly) {                    window.PLOTLYENV=window.PLOTLYENV || {};                                    if (document.getElementById(\"582ada18-c321-4620-af90-6a9708c52045\")) {                    Plotly.newPlot(                        \"582ada18-c321-4620-af90-6a9708c52045\",                        [{\"hovertemplate\": \"<b>%{hovertext}</b><br><br>Continent=Asia<br>median CO\\u2082 emissions=%{x}<br>Disaster count=%{y}<br>land area=%{marker.size}<extra></extra>\", \"hovertext\": [\"Afghanistan\", \"Armenia\", \"Azerbaijan\", \"Bahrain\", \"Bangladesh\", \"Bhutan\", \"Brunei\", \"Cambodia\", \"China\", \"Georgia\", \"Hong Kong\", \"India\", \"Indonesia\", \"Iran\", \"Iraq\", \"Israel\", \"Japan\", \"Jordan\", \"Kazakhstan\", \"Kuwait\", \"Kyrgyzstan\", \"Laos\", \"Lebanon\", \"Macao\", \"Malaysia\", \"Maldives\", \"Mongolia\", \"Myanmar\", \"Nepal\", \"North Korea\", \"Oman\", \"Pakistan\", \"Palestine\", \"Philippines\", \"Qatar\", \"Saudi Arabia\", \"South Korea\", \"Sri Lanka\", \"Syria\", \"Tajikistan\", \"Thailand\", \"Timor\", \"Turkey\", \"Turkmenistan\", \"United Arab Emirates\", \"Uzbekistan\", \"Vietnam\"], \"legendgroup\": \"Asia\", \"marker\": {\"color\": \"#636efa\", \"size\": [652860.0, 28470.0, 82654.0, 780.0, 130170.0, 38140.0, 5270.0, 176520.0, 9424703.0, 69490.0, 1050.0, 2973190.0, 1877519.0, 1628760.0, 434128.0, 21640.0, 364500.0, 88780.0, 2699700.0, 17820.0, 191800.0, 230800.0, 10230.0, 32.900001525878906, 328550.0, 300.0, 1557255.0, 652790.0, 143350.0, 120410.0, 309500.0, 770880.0, 6020.0, 298170.0, 11490.0, 2149690.0, 97520.0, 61864.0, 183630.0, 138790.0, 510890.0, 14870.0, 769630.0, 469930.0, 71020.0, 440555.0, 310070.0], \"sizemode\": \"area\", \"sizeref\": 40942.175, \"symbol\": \"circle\"}, \"mode\": \"markers\", \"name\": \"Asia\", \"orientation\": \"v\", \"showlegend\": true, \"type\": \"scatter\", \"x\": [8716200.75, 5151611.5, 33920818.0, 28771541.0, 55273950.0, 566076.5, 7903269.25, 5176420.0, 9072604500.0, 7084938.5, 42415546.0, 1727483800.0, 469717775.0, 573554135.0, 124454605.0, 61654810.0, 1257200850.0, 21386595.0, 240477935.0, 84992990.0, 7550243.5, 3087308.5, 20610842.0, 1517719.5, 214611495.0, 959968.0, 17570092.0, 12788577.0, 5022366.5, 54399242.0, 52708946.0, 154768240.0, 2293664.0, 83347600.0, 75783930.0, 507687470.0, 595986690.0, 13865021.5, 47971504.0, 2901456.5, 260382295.0, 436016.0, 329090835.0, 59646448.0, 186806500.0, 118518822.0, 141479080.0], \"xaxis\": \"x\", \"y\": [92.0, 6.0, 4.0, null, 105.0, 4.0, null, 29.0, 436.0, 18.0, 13.0, 284.0, 192.0, 51.0, 15.0, 9.0, 107.0, 5.0, 14.0, 1.0, 6.0, 23.0, 9.0, 2.0, 60.0, 3.0, 19.0, 33.0, 37.0, 33.0, 14.0, 91.0, 7.0, 278.0, 1.0, 23.0, 50.0, 60.0, 10.0, 29.0, 90.0, 10.0, 41.0, null, 1.0, 3.0, 158.0], \"yaxis\": \"y\"}, {\"hovertemplate\": \"<b>%{hovertext}</b><br><br>Continent=Europe<br>median CO\\u2082 emissions=%{x}<br>Disaster count=%{y}<br>land area=%{marker.size}<extra></extra>\", \"hovertext\": [\"Albania\", \"Andorra\", \"Austria\", \"Belarus\", \"Belgium\", \"Bosnia and Herzegovina\", \"Bulgaria\", \"Croatia\", \"Cyprus\", \"Czechia\", \"Denmark\", \"Estonia\", \"Faeroe Islands\", \"Finland\", \"France\", \"Germany\", \"Greece\", \"Hungary\", \"Iceland\", \"Ireland\", \"Italy\", \"Latvia\", \"Liechtenstein\", \"Lithuania\", \"Luxembourg\", \"Malta\", \"Moldova\", \"Montenegro\", \"Netherlands\", \"North Macedonia\", \"Norway\", \"Poland\", \"Portugal\", \"Romania\", \"Russia\", \"Serbia\", \"Slovakia\", \"Slovenia\", \"Spain\", \"Sweden\", \"Switzerland\", \"Ukraine\", \"United Kingdom\"], \"legendgroup\": \"Europe\", \"marker\": {\"color\": \"#EF553B\", \"size\": [27400.0, 470.0, 82520.0, 202980.0, 30280.0, 51200.0, 108560.0, 56590.0, 9240.0, 77200.0, 40000.0, 43470.0, 1396.0, 303920.0, 547557.0, 349380.0, 128900.0, 91260.0, 100830.0, 68890.0, 297730.0, 62090.0, 160.0, 62630.0, 2430.0, 320.0, 32885.30078125, 13450.0, 33670.0, 25220.0, 365107.84375, 306170.0, 91605.6015625, 230080.0, 16376870.0, 87460.0, 48080.0, 20136.400390625, 499603.46875, 407310.0, 39516.03125, 579400.0, 241930.0], \"sizemode\": \"area\", \"sizeref\": 40942.175, \"symbol\": \"circle\"}, \"mode\": \"markers\", \"name\": \"Europe\", \"orientation\": \"v\", \"showlegend\": true, \"type\": \"scatter\", \"x\": [4625543.0, 505631.985, 68764504.0, 59910298.0, 106376235.0, 19635217.0, 47714340.0, 20156053.0, 7450390.0, 115099532.0, 46549673.0, 17310637.0, 688832.0, 56271121.0, 364834290.0, 822450330.0, 95929690.0, 50827693.0, 3481884.5, 41081578.0, 424475345.0, 7519827.5, 191687.5, 13612494.5, 10154524.5, 2552415.5, 4901514.5, 2082984.05, 168894495.0, 8663528.0, 44271000.0, 323895345.0, 54105774.0, 88620845.0, 1625471950.0, 45612989.0, 37803450.0, 15982267.0, 284707480.0, 48413320.0, 43278242.0, 294892330.0, 490792235.0], \"xaxis\": \"x\", \"y\": [15.0, null, 18.0, 2.0, 24.0, 20.0, 29.0, 20.0, 5.0, 21.0, 6.0, 1.0, null, 1.0, 85.0, 42.0, 36.0, 18.0, null, 11.0, 57.0, 3.0, null, 5.0, 3.0, null, 8.0, 5.0, 12.0, 14.0, 5.0, 27.0, 25.0, 50.0, 88.0, 17.0, 15.0, 7.0, 46.0, 6.0, 19.0, 20.0, 45.0], \"yaxis\": \"y\"}, {\"hovertemplate\": \"<b>%{hovertext}</b><br><br>Continent=Africa<br>median CO\\u2082 emissions=%{x}<br>Disaster count=%{y}<br>land area=%{marker.size}<extra></extra>\", \"hovertext\": [\"Algeria\", \"Angola\", \"Benin\", \"Botswana\", \"Burkina Faso\", \"Cameroon\", \"Cape Verde\", \"Central African Republic\", \"Chad\", \"Comoros\", \"Congo\", \"Democratic Republic of Congo\", \"Egypt\", \"Equatorial Guinea\", \"Eritrea\", \"Eswatini\", \"Ethiopia\", \"Gabon\", \"Gambia\", \"Ghana\", \"Guinea\", \"Guinea-Bissau\", \"Kenya\", \"Lesotho\", \"Liberia\", \"Libya\", \"Madagascar\", \"Malawi\", \"Mali\", \"Mauritania\", \"Mauritius\", \"Morocco\", \"Mozambique\", \"Namibia\", \"Niger\", \"Nigeria\", \"Sao Tome and Principe\", \"Senegal\", \"Seychelles\", \"Sierra Leone\", \"Somalia\", \"South Africa\", \"South Sudan\", \"Sudan\", \"Tanzania\", \"Togo\", \"Tunisia\", \"Uganda\", \"Zambia\", \"Zimbabwe\"], \"legendgroup\": \"Africa\", \"marker\": {\"color\": \"#00cc96\", \"size\": [2381741.0, 1246700.0, 112760.0, 566730.0, 273600.0, 472710.0, 4030.0, 622980.0, 1259200.0, 1861.0, 341500.0, 2267050.0, 995450.0, 28050.0, 101000.0, 17200.0, 1129300.375, 257670.0, 10120.0, 227540.0, 245720.0, 28120.0, 569140.0, 30360.0, 96320.0, 1759540.0, 581800.0, 94280.0, 1220190.0, 1030700.0, 2030.0, 446300.0, 786380.0, 823290.0, 1266700.0, 910770.0, 960.0, 192530.0, 460.0, 72180.0, 627340.0, 1213090.0, 631928.125, 1849233.75, 885800.0, 54390.0, 155360.0, 200520.0, 743390.0, 386850.0], \"sizemode\": \"area\", \"sizeref\": 40942.175, \"symbol\": \"circle\"}, \"mode\": \"markers\", \"name\": \"Africa\", \"orientation\": \"v\", \"showlegend\": true, \"type\": \"scatter\", \"x\": [119996200.0, 23541795.0, 4441129.0, 4520165.5, 2083652.5, 6628048.5, 498304.015, 216176.0, 1215889.0, 157552.0, 2100802.5, 1988037.5, 207294290.0, 6967084.5, 628785.5, 1036911.97, 6927962.5, 4894575.0, 425024.0, 10467832.5, 2137944.0, 239992.0, 11966908.0, 2214888.0, 802476.0, 53346383.0, 2122894.0, 1079380.0, 2183744.0, 2099472.0, 3914984.0, 54616418.0, 2844639.0, 2772376.0, 1246231.5, 107411873.0, 98928.0, 7112260.0, 419528.0, 644864.0, 608224.0, 447789665.0, 1301960.5, 14293239.5, 7339083.5, 1834036.0, 26313600.0, 3598303.0, 3246333.5, 10654036.0], \"xaxis\": \"x\", \"y\": [38.0, 49.0, 12.0, 11.0, 21.0, 16.0, 5.0, 22.0, 20.0, 6.0, 11.0, 39.0, 11.0, null, 3.0, 11.0, 43.0, 4.0, 17.0, 23.0, 15.0, 7.0, 58.0, 13.0, 6.0, 2.0, 55.0, 40.0, 27.0, 21.0, 4.0, 22.0, 60.0, 21.0, 34.0, 51.0, 1.0, 20.0, 3.0, 10.0, 50.0, 60.0, 18.0, 30.0, 43.0, 8.0, 11.0, 40.0, 22.0, 24.0], \"yaxis\": \"y\"}, {\"hovertemplate\": \"<b>%{hovertext}</b><br><br>Continent=North America<br>median CO\\u2082 emissions=%{x}<br>Disaster count=%{y}<br>land area=%{marker.size}<extra></extra>\", \"hovertext\": [\"Antigua and Barbuda\", \"Bahamas\", \"Barbados\", \"Belize\", \"British Virgin Islands\", \"Canada\", \"Cuba\", \"Dominica\", \"Dominican Republic\", \"El Salvador\", \"Greenland\", \"Grenada\", \"Guatemala\", \"Haiti\", \"Honduras\", \"Jamaica\", \"Mexico\", \"Nicaragua\", \"Panama\", \"Saint Kitts and Nevis\", \"Saint Lucia\", \"Saint Vincent and the Grenadines\", \"Trinidad and Tobago\", \"United States\"], \"legendgroup\": \"North America\", \"marker\": {\"color\": \"#ab63fa\", \"size\": [440.0, 10010.0, 430.0, 22810.0, 150.0, 8965590.0, 103800.0, 750.0, 48310.0, 20720.0, 410450.0, 340.0, 107160.0, 27560.0, 111890.0, 10830.0, 1943950.0, 120340.0, 74177.0, 260.0, 610.0, 390.0, 5130.0, 9147420.0], \"sizemode\": \"area\", \"sizeref\": 40942.175, \"symbol\": \"circle\"}, \"mode\": \"markers\", \"name\": \"North America\", \"orientation\": \"v\", \"showlegend\": true, \"type\": \"scatter\", \"x\": [443344.0, 2059167.95, 1303504.0, 472656.0, 181368.0, 569145320.0, 25649573.0, 161216.0, 21260857.0, 6407134.0, 586337.0, 252815.98, 12127090.0, 2200504.0, 8696611.0, 8209518.25, 473730215.0, 4550224.5, 9420099.5, 219840.0, 460539.5, 219840.0, 40548044.0, 5537750000.0], \"xaxis\": \"x\", \"y\": [3.0, 15.0, 6.0, 12.0, 2.0, 61.0, 37.0, 4.0, 49.0, 30.0, null, 3.0, 50.0, 77.0, 45.0, 20.0, 122.0, 37.0, 36.0, 2.0, 8.0, 10.0, 4.0, 509.0], \"yaxis\": \"y\"}, {\"hovertemplate\": \"<b>%{hovertext}</b><br><br>Continent=South America<br>median CO\\u2082 emissions=%{x}<br>Disaster count=%{y}<br>land area=%{marker.size}<extra></extra>\", \"hovertext\": [\"Argentina\", \"Bolivia\", \"Brazil\", \"Chile\", \"Colombia\", \"Ecuador\", \"Guyana\", \"Paraguay\", \"Peru\", \"Suriname\", \"Uruguay\", \"Venezuela\"], \"legendgroup\": \"South America\", \"marker\": {\"color\": \"#FFA15A\", \"size\": [2736690.0, 1083300.0, 8358140.0, 743532.0, 1109500.0, 248360.0, 196850.0, 397300.0, 1280000.0, 156000.0, 175020.0, 882050.0], \"sizemode\": \"area\", \"sizeref\": 40942.175, \"symbol\": \"circle\"}, \"mode\": \"markers\", \"name\": \"South America\", \"orientation\": \"v\", \"showlegend\": true, \"type\": \"scatter\", \"x\": [179774265.0, 16287972.5, 441287510.0, 74450405.0, 76179102.0, 34641535.0, 1918104.0, 5096970.0, 46498908.0, 2188325.5, 6505585.5, 164838025.0], \"xaxis\": \"x\", \"y\": [60.0, 48.0, 104.0, 37.0, 75.0, 24.0, 7.0, 30.0, 50.0, 3.0, 21.0, 28.0], \"yaxis\": \"y\"}, {\"hovertemplate\": \"<b>%{hovertext}</b><br><br>Continent=Oceania<br>median CO\\u2082 emissions=%{x}<br>Disaster count=%{y}<br>land area=%{marker.size}<extra></extra>\", \"hovertext\": [\"Australia\", \"Fiji\", \"French Polynesia\", \"Kiribati\", \"Marshall Islands\", \"Micronesia (country)\", \"New Caledonia\", \"New Zealand\", \"Palau\", \"Papua New Guinea\", \"Samoa\", \"Solomon Islands\", \"Tonga\", \"Tuvalu\", \"Vanuatu\"], \"legendgroup\": \"Oceania\", \"marker\": {\"color\": \"#19d3f3\", \"size\": [7692020.0, 18270.0, 3520.0, 810.0, 180.0, 700.0, 18280.0, 263310.0, 460.0, 452860.0, 2830.0, 27990.0, 720.0, 30.0, 12190.0], \"sizemode\": \"area\", \"sizeref\": 40942.175, \"symbol\": \"circle\"}, \"mode\": \"markers\", \"name\": \"Oceania\", \"orientation\": \"v\", \"showlegend\": true, \"type\": \"scatter\", \"x\": [399773465.0, 1088103.5, 848216.0, 56792.0, 135568.0, 142896.0, 3548141.5, 35563527.0, 216176.0, 5157108.0, 185032.0, 293120.0, 117248.0, 10992.0, 117248.0], \"xaxis\": \"x\", \"y\": [107.0, 28.0, 2.0, 3.0, 5.0, 8.0, 2.0, 26.0, 4.0, 20.0, 6.0, 15.0, 10.0, 4.0, 11.0], \"yaxis\": \"y\"}],                        {\"legend\": {\"itemsizing\": \"constant\", \"title\": {\"text\": \"Continent\"}, \"tracegroupgap\": 0}, \"margin\": {\"t\": 60}, \"template\": {\"data\": {\"bar\": [{\"error_x\": {\"color\": \"#2a3f5f\"}, \"error_y\": {\"color\": \"#2a3f5f\"}, \"marker\": {\"line\": {\"color\": \"#E5ECF6\", \"width\": 0.5}}, \"type\": \"bar\"}], \"barpolar\": [{\"marker\": {\"line\": {\"color\": \"#E5ECF6\", \"width\": 0.5}}, \"type\": \"barpolar\"}], \"carpet\": [{\"aaxis\": {\"endlinecolor\": \"#2a3f5f\", \"gridcolor\": \"white\", \"linecolor\": \"white\", \"minorgridcolor\": \"white\", \"startlinecolor\": \"#2a3f5f\"}, \"baxis\": {\"endlinecolor\": \"#2a3f5f\", \"gridcolor\": \"white\", \"linecolor\": \"white\", \"minorgridcolor\": \"white\", \"startlinecolor\": \"#2a3f5f\"}, \"type\": \"carpet\"}], \"choropleth\": [{\"colorbar\": {\"outlinewidth\": 0, \"ticks\": \"\"}, \"type\": \"choropleth\"}], \"contour\": [{\"colorbar\": {\"outlinewidth\": 0, \"ticks\": \"\"}, \"colorscale\": [[0.0, \"#0d0887\"], [0.1111111111111111, \"#46039f\"], [0.2222222222222222, \"#7201a8\"], [0.3333333333333333, \"#9c179e\"], [0.4444444444444444, \"#bd3786\"], [0.5555555555555556, \"#d8576b\"], [0.6666666666666666, \"#ed7953\"], [0.7777777777777778, \"#fb9f3a\"], [0.8888888888888888, \"#fdca26\"], [1.0, \"#f0f921\"]], \"type\": \"contour\"}], \"contourcarpet\": [{\"colorbar\": {\"outlinewidth\": 0, \"ticks\": \"\"}, \"type\": \"contourcarpet\"}], \"heatmap\": [{\"colorbar\": {\"outlinewidth\": 0, \"ticks\": \"\"}, \"colorscale\": [[0.0, \"#0d0887\"], [0.1111111111111111, \"#46039f\"], [0.2222222222222222, \"#7201a8\"], [0.3333333333333333, \"#9c179e\"], [0.4444444444444444, \"#bd3786\"], [0.5555555555555556, \"#d8576b\"], [0.6666666666666666, \"#ed7953\"], [0.7777777777777778, \"#fb9f3a\"], [0.8888888888888888, \"#fdca26\"], [1.0, \"#f0f921\"]], \"type\": \"heatmap\"}], \"heatmapgl\": [{\"colorbar\": {\"outlinewidth\": 0, \"ticks\": \"\"}, \"colorscale\": [[0.0, \"#0d0887\"], [0.1111111111111111, \"#46039f\"], [0.2222222222222222, \"#7201a8\"], [0.3333333333333333, \"#9c179e\"], [0.4444444444444444, \"#bd3786\"], [0.5555555555555556, \"#d8576b\"], [0.6666666666666666, \"#ed7953\"], [0.7777777777777778, \"#fb9f3a\"], [0.8888888888888888, \"#fdca26\"], [1.0, \"#f0f921\"]], \"type\": \"heatmapgl\"}], \"histogram\": [{\"marker\": {\"colorbar\": {\"outlinewidth\": 0, \"ticks\": \"\"}}, \"type\": \"histogram\"}], \"histogram2d\": [{\"colorbar\": {\"outlinewidth\": 0, \"ticks\": \"\"}, \"colorscale\": [[0.0, \"#0d0887\"], [0.1111111111111111, \"#46039f\"], [0.2222222222222222, \"#7201a8\"], [0.3333333333333333, \"#9c179e\"], [0.4444444444444444, \"#bd3786\"], [0.5555555555555556, \"#d8576b\"], [0.6666666666666666, \"#ed7953\"], [0.7777777777777778, \"#fb9f3a\"], [0.8888888888888888, \"#fdca26\"], [1.0, \"#f0f921\"]], \"type\": \"histogram2d\"}], \"histogram2dcontour\": [{\"colorbar\": {\"outlinewidth\": 0, \"ticks\": \"\"}, \"colorscale\": [[0.0, \"#0d0887\"], [0.1111111111111111, \"#46039f\"], [0.2222222222222222, \"#7201a8\"], [0.3333333333333333, \"#9c179e\"], [0.4444444444444444, \"#bd3786\"], [0.5555555555555556, \"#d8576b\"], [0.6666666666666666, \"#ed7953\"], [0.7777777777777778, \"#fb9f3a\"], [0.8888888888888888, \"#fdca26\"], [1.0, \"#f0f921\"]], \"type\": \"histogram2dcontour\"}], \"mesh3d\": [{\"colorbar\": {\"outlinewidth\": 0, \"ticks\": \"\"}, \"type\": \"mesh3d\"}], \"parcoords\": [{\"line\": {\"colorbar\": {\"outlinewidth\": 0, \"ticks\": \"\"}}, \"type\": \"parcoords\"}], \"pie\": [{\"automargin\": true, \"type\": \"pie\"}], \"scatter\": [{\"marker\": {\"colorbar\": {\"outlinewidth\": 0, \"ticks\": \"\"}}, \"type\": \"scatter\"}], \"scatter3d\": [{\"line\": {\"colorbar\": {\"outlinewidth\": 0, \"ticks\": \"\"}}, \"marker\": {\"colorbar\": {\"outlinewidth\": 0, \"ticks\": \"\"}}, \"type\": \"scatter3d\"}], \"scattercarpet\": [{\"marker\": {\"colorbar\": {\"outlinewidth\": 0, \"ticks\": \"\"}}, \"type\": \"scattercarpet\"}], \"scattergeo\": [{\"marker\": {\"colorbar\": {\"outlinewidth\": 0, \"ticks\": \"\"}}, \"type\": \"scattergeo\"}], \"scattergl\": [{\"marker\": {\"colorbar\": {\"outlinewidth\": 0, \"ticks\": \"\"}}, \"type\": \"scattergl\"}], \"scattermapbox\": [{\"marker\": {\"colorbar\": {\"outlinewidth\": 0, \"ticks\": \"\"}}, \"type\": \"scattermapbox\"}], \"scatterpolar\": [{\"marker\": {\"colorbar\": {\"outlinewidth\": 0, \"ticks\": \"\"}}, \"type\": \"scatterpolar\"}], \"scatterpolargl\": [{\"marker\": {\"colorbar\": {\"outlinewidth\": 0, \"ticks\": \"\"}}, \"type\": \"scatterpolargl\"}], \"scatterternary\": [{\"marker\": {\"colorbar\": {\"outlinewidth\": 0, \"ticks\": \"\"}}, \"type\": \"scatterternary\"}], \"surface\": [{\"colorbar\": {\"outlinewidth\": 0, \"ticks\": \"\"}, \"colorscale\": [[0.0, \"#0d0887\"], [0.1111111111111111, \"#46039f\"], [0.2222222222222222, \"#7201a8\"], [0.3333333333333333, \"#9c179e\"], [0.4444444444444444, \"#bd3786\"], [0.5555555555555556, \"#d8576b\"], [0.6666666666666666, \"#ed7953\"], [0.7777777777777778, \"#fb9f3a\"], [0.8888888888888888, \"#fdca26\"], [1.0, \"#f0f921\"]], \"type\": \"surface\"}], \"table\": [{\"cells\": {\"fill\": {\"color\": \"#EBF0F8\"}, \"line\": {\"color\": \"white\"}}, \"header\": {\"fill\": {\"color\": \"#C8D4E3\"}, \"line\": {\"color\": \"white\"}}, \"type\": \"table\"}]}, \"layout\": {\"annotationdefaults\": {\"arrowcolor\": \"#2a3f5f\", \"arrowhead\": 0, \"arrowwidth\": 1}, \"autotypenumbers\": \"strict\", \"coloraxis\": {\"colorbar\": {\"outlinewidth\": 0, \"ticks\": \"\"}}, \"colorscale\": {\"diverging\": [[0, \"#8e0152\"], [0.1, \"#c51b7d\"], [0.2, \"#de77ae\"], [0.3, \"#f1b6da\"], [0.4, \"#fde0ef\"], [0.5, \"#f7f7f7\"], [0.6, \"#e6f5d0\"], [0.7, \"#b8e186\"], [0.8, \"#7fbc41\"], [0.9, \"#4d9221\"], [1, \"#276419\"]], \"sequential\": [[0.0, \"#0d0887\"], [0.1111111111111111, \"#46039f\"], [0.2222222222222222, \"#7201a8\"], [0.3333333333333333, \"#9c179e\"], [0.4444444444444444, \"#bd3786\"], [0.5555555555555556, \"#d8576b\"], [0.6666666666666666, \"#ed7953\"], [0.7777777777777778, \"#fb9f3a\"], [0.8888888888888888, \"#fdca26\"], [1.0, \"#f0f921\"]], \"sequentialminus\": [[0.0, \"#0d0887\"], [0.1111111111111111, \"#46039f\"], [0.2222222222222222, \"#7201a8\"], [0.3333333333333333, \"#9c179e\"], [0.4444444444444444, \"#bd3786\"], [0.5555555555555556, \"#d8576b\"], [0.6666666666666666, \"#ed7953\"], [0.7777777777777778, \"#fb9f3a\"], [0.8888888888888888, \"#fdca26\"], [1.0, \"#f0f921\"]]}, \"colorway\": [\"#636efa\", \"#EF553B\", \"#00cc96\", \"#ab63fa\", \"#FFA15A\", \"#19d3f3\", \"#FF6692\", \"#B6E880\", \"#FF97FF\", \"#FECB52\"], \"font\": {\"color\": \"#2a3f5f\"}, \"geo\": {\"bgcolor\": \"white\", \"lakecolor\": \"white\", \"landcolor\": \"#E5ECF6\", \"showlakes\": true, \"showland\": true, \"subunitcolor\": \"white\"}, \"hoverlabel\": {\"align\": \"left\"}, \"hovermode\": \"closest\", \"mapbox\": {\"style\": \"light\"}, \"paper_bgcolor\": \"white\", \"plot_bgcolor\": \"#E5ECF6\", \"polar\": {\"angularaxis\": {\"gridcolor\": \"white\", \"linecolor\": \"white\", \"ticks\": \"\"}, \"bgcolor\": \"#E5ECF6\", \"radialaxis\": {\"gridcolor\": \"white\", \"linecolor\": \"white\", \"ticks\": \"\"}}, \"scene\": {\"xaxis\": {\"backgroundcolor\": \"#E5ECF6\", \"gridcolor\": \"white\", \"gridwidth\": 2, \"linecolor\": \"white\", \"showbackground\": true, \"ticks\": \"\", \"zerolinecolor\": \"white\"}, \"yaxis\": {\"backgroundcolor\": \"#E5ECF6\", \"gridcolor\": \"white\", \"gridwidth\": 2, \"linecolor\": \"white\", \"showbackground\": true, \"ticks\": \"\", \"zerolinecolor\": \"white\"}, \"zaxis\": {\"backgroundcolor\": \"#E5ECF6\", \"gridcolor\": \"white\", \"gridwidth\": 2, \"linecolor\": \"white\", \"showbackground\": true, \"ticks\": \"\", \"zerolinecolor\": \"white\"}}, \"shapedefaults\": {\"line\": {\"color\": \"#2a3f5f\"}}, \"ternary\": {\"aaxis\": {\"gridcolor\": \"white\", \"linecolor\": \"white\", \"ticks\": \"\"}, \"baxis\": {\"gridcolor\": \"white\", \"linecolor\": \"white\", \"ticks\": \"\"}, \"bgcolor\": \"#E5ECF6\", \"caxis\": {\"gridcolor\": \"white\", \"linecolor\": \"white\", \"ticks\": \"\"}}, \"title\": {\"x\": 0.05}, \"xaxis\": {\"automargin\": true, \"gridcolor\": \"white\", \"linecolor\": \"white\", \"ticks\": \"\", \"title\": {\"standoff\": 15}, \"zerolinecolor\": \"white\", \"zerolinewidth\": 2}, \"yaxis\": {\"automargin\": true, \"gridcolor\": \"white\", \"linecolor\": \"white\", \"ticks\": \"\", \"title\": {\"standoff\": 15}, \"zerolinecolor\": \"white\", \"zerolinewidth\": 2}}}, \"title\": {\"text\": \"Disaster counts vs Median CO2 emissions\", \"xanchor\": \"center\", \"yanchor\": \"top\"}, \"xaxis\": {\"anchor\": \"y\", \"domain\": [0.0, 1.0], \"title\": {\"text\": \"median CO\\u2082 emissions\"}}, \"yaxis\": {\"anchor\": \"x\", \"domain\": [0.0, 1.0], \"title\": {\"text\": \"Disaster count\"}}},                        {\"responsive\": true}                    ).then(function(){\n",
       "                            \n",
       "var gd = document.getElementById('582ada18-c321-4620-af90-6a9708c52045');\n",
       "var x = new MutationObserver(function (mutations, observer) {{\n",
       "        var display = window.getComputedStyle(gd).display;\n",
       "        if (!display || display === 'none') {{\n",
       "            console.log([gd, 'removed!']);\n",
       "            Plotly.purge(gd);\n",
       "            observer.disconnect();\n",
       "        }}\n",
       "}});\n",
       "\n",
       "// Listen for the removal of the full notebook cells\n",
       "var notebookContainer = gd.closest('#notebook-container');\n",
       "if (notebookContainer) {{\n",
       "    x.observe(notebookContainer, {childList: true});\n",
       "}}\n",
       "\n",
       "// Listen for the clearing of the current output cell\n",
       "var outputEl = gd.closest('.output');\n",
       "if (outputEl) {{\n",
       "    x.observe(outputEl, {childList: true});\n",
       "}}\n",
       "\n",
       "                        })                };                });            </script>        </div>"
      ]
     },
     "metadata": {},
     "output_type": "display_data"
    }
   ],
   "source": [
    "import plotly.express as px\n",
    "\n",
    "fig = px.scatter(df_2, x=\"median CO₂ emissions\", y=\"Disaster count\", \n",
    "                 size=\"land area\", color=\"Continent\", hover_name=\"Entity\")\n",
    "fig.update_layout(\n",
    "    title = {\"text\": \"Disaster counts vs Median CO2 emissions\", \"xanchor\": \"center\", \"yanchor\": \"top\"},\n",
    ")\n",
    "fig.show()"
   ]
  },
  {
   "cell_type": "code",
   "execution_count": null,
   "id": "5a0f1448",
   "metadata": {},
   "outputs": [],
   "source": []
  }
 ],
 "metadata": {
  "kernelspec": {
   "display_name": "Python 3 (ipykernel)",
   "language": "python",
   "name": "python3"
  },
  "language_info": {
   "codemirror_mode": {
    "name": "ipython",
    "version": 3
   },
   "file_extension": ".py",
   "mimetype": "text/x-python",
   "name": "python",
   "nbconvert_exporter": "python",
   "pygments_lexer": "ipython3",
   "version": "3.9.13"
  },
  "vscode": {
   "interpreter": {
    "hash": "b0fa6594d8f4cbf19f97940f81e996739fb7646882a419484c72d19e05852a7e"
   }
  }
 },
 "nbformat": 4,
 "nbformat_minor": 5
}
