{
 "cells": [
  {
   "cell_type": "markdown",
   "id": "c31ebd37",
   "metadata": {},
   "source": [
    "### EM-DAT data exploration"
   ]
  },
  {
   "cell_type": "code",
   "execution_count": 24,
   "id": "a06c7538",
   "metadata": {},
   "outputs": [],
   "source": [
    "import pandas as pd\n",
    "import matplotlib.pyplot as plt\n",
    "import seaborn as sns"
   ]
  },
  {
   "cell_type": "code",
   "execution_count": 25,
   "id": "4a6277d7",
   "metadata": {},
   "outputs": [],
   "source": [
    "plt.rcParams[\"figure.figsize\"] = (8, 5)"
   ]
  },
  {
   "cell_type": "code",
   "execution_count": 7,
   "id": "801cfedb",
   "metadata": {},
   "outputs": [
    {
     "name": "stderr",
     "output_type": "stream",
     "text": [
      "/opt/homebrew/lib/python3.9/site-packages/openpyxl/styles/stylesheet.py:221: UserWarning: Workbook contains no default style, apply openpyxl's default\n",
      "  warn(\"Workbook contains no default style, apply openpyxl's default\")\n"
     ]
    },
    {
     "data": {
      "text/html": [
       "<div>\n",
       "<style scoped>\n",
       "    .dataframe tbody tr th:only-of-type {\n",
       "        vertical-align: middle;\n",
       "    }\n",
       "\n",
       "    .dataframe tbody tr th {\n",
       "        vertical-align: top;\n",
       "    }\n",
       "\n",
       "    .dataframe thead th {\n",
       "        text-align: right;\n",
       "    }\n",
       "</style>\n",
       "<table border=\"1\" class=\"dataframe\">\n",
       "  <thead>\n",
       "    <tr style=\"text-align: right;\">\n",
       "      <th></th>\n",
       "      <th>Dis No</th>\n",
       "      <th>Year</th>\n",
       "      <th>Seq</th>\n",
       "      <th>Glide</th>\n",
       "      <th>Disaster Group</th>\n",
       "      <th>Disaster Subgroup</th>\n",
       "      <th>Disaster Type</th>\n",
       "      <th>Disaster Subtype</th>\n",
       "      <th>Disaster Subsubtype</th>\n",
       "      <th>Event Name</th>\n",
       "      <th>...</th>\n",
       "      <th>Reconstruction Costs, Adjusted ('000 US$)</th>\n",
       "      <th>Insured Damages ('000 US$)</th>\n",
       "      <th>Insured Damages, Adjusted ('000 US$)</th>\n",
       "      <th>Total Damages ('000 US$)</th>\n",
       "      <th>Total Damages, Adjusted ('000 US$)</th>\n",
       "      <th>CPI</th>\n",
       "      <th>Adm Level</th>\n",
       "      <th>Admin1 Code</th>\n",
       "      <th>Admin2 Code</th>\n",
       "      <th>Geo Locations</th>\n",
       "    </tr>\n",
       "  </thead>\n",
       "  <tbody>\n",
       "    <tr>\n",
       "      <th>0</th>\n",
       "      <td>1900-9002-CPV</td>\n",
       "      <td>1900</td>\n",
       "      <td>9002</td>\n",
       "      <td>NaN</td>\n",
       "      <td>Natural</td>\n",
       "      <td>Climatological</td>\n",
       "      <td>Drought</td>\n",
       "      <td>Drought</td>\n",
       "      <td>NaN</td>\n",
       "      <td>NaN</td>\n",
       "      <td>...</td>\n",
       "      <td>NaN</td>\n",
       "      <td>NaN</td>\n",
       "      <td>NaN</td>\n",
       "      <td>NaN</td>\n",
       "      <td>NaN</td>\n",
       "      <td>3.077091</td>\n",
       "      <td>NaN</td>\n",
       "      <td>NaN</td>\n",
       "      <td>NaN</td>\n",
       "      <td>NaN</td>\n",
       "    </tr>\n",
       "    <tr>\n",
       "      <th>1</th>\n",
       "      <td>1900-9001-IND</td>\n",
       "      <td>1900</td>\n",
       "      <td>9001</td>\n",
       "      <td>NaN</td>\n",
       "      <td>Natural</td>\n",
       "      <td>Climatological</td>\n",
       "      <td>Drought</td>\n",
       "      <td>Drought</td>\n",
       "      <td>NaN</td>\n",
       "      <td>NaN</td>\n",
       "      <td>...</td>\n",
       "      <td>NaN</td>\n",
       "      <td>NaN</td>\n",
       "      <td>NaN</td>\n",
       "      <td>NaN</td>\n",
       "      <td>NaN</td>\n",
       "      <td>3.077091</td>\n",
       "      <td>NaN</td>\n",
       "      <td>NaN</td>\n",
       "      <td>NaN</td>\n",
       "      <td>NaN</td>\n",
       "    </tr>\n",
       "    <tr>\n",
       "      <th>2</th>\n",
       "      <td>1902-0012-GTM</td>\n",
       "      <td>1902</td>\n",
       "      <td>12</td>\n",
       "      <td>NaN</td>\n",
       "      <td>Natural</td>\n",
       "      <td>Geophysical</td>\n",
       "      <td>Earthquake</td>\n",
       "      <td>Ground movement</td>\n",
       "      <td>NaN</td>\n",
       "      <td>NaN</td>\n",
       "      <td>...</td>\n",
       "      <td>NaN</td>\n",
       "      <td>NaN</td>\n",
       "      <td>NaN</td>\n",
       "      <td>25000.0</td>\n",
       "      <td>781207.0</td>\n",
       "      <td>3.200175</td>\n",
       "      <td>NaN</td>\n",
       "      <td>NaN</td>\n",
       "      <td>NaN</td>\n",
       "      <td>NaN</td>\n",
       "    </tr>\n",
       "    <tr>\n",
       "      <th>3</th>\n",
       "      <td>1902-0003-GTM</td>\n",
       "      <td>1902</td>\n",
       "      <td>3</td>\n",
       "      <td>NaN</td>\n",
       "      <td>Natural</td>\n",
       "      <td>Geophysical</td>\n",
       "      <td>Volcanic activity</td>\n",
       "      <td>Ash fall</td>\n",
       "      <td>NaN</td>\n",
       "      <td>Santa Maria</td>\n",
       "      <td>...</td>\n",
       "      <td>NaN</td>\n",
       "      <td>NaN</td>\n",
       "      <td>NaN</td>\n",
       "      <td>NaN</td>\n",
       "      <td>NaN</td>\n",
       "      <td>3.200175</td>\n",
       "      <td>NaN</td>\n",
       "      <td>NaN</td>\n",
       "      <td>NaN</td>\n",
       "      <td>NaN</td>\n",
       "    </tr>\n",
       "    <tr>\n",
       "      <th>4</th>\n",
       "      <td>1902-0010-GTM</td>\n",
       "      <td>1902</td>\n",
       "      <td>10</td>\n",
       "      <td>NaN</td>\n",
       "      <td>Natural</td>\n",
       "      <td>Geophysical</td>\n",
       "      <td>Volcanic activity</td>\n",
       "      <td>Ash fall</td>\n",
       "      <td>NaN</td>\n",
       "      <td>Santa Maria</td>\n",
       "      <td>...</td>\n",
       "      <td>NaN</td>\n",
       "      <td>NaN</td>\n",
       "      <td>NaN</td>\n",
       "      <td>NaN</td>\n",
       "      <td>NaN</td>\n",
       "      <td>3.200175</td>\n",
       "      <td>NaN</td>\n",
       "      <td>NaN</td>\n",
       "      <td>NaN</td>\n",
       "      <td>NaN</td>\n",
       "    </tr>\n",
       "  </tbody>\n",
       "</table>\n",
       "<p>5 rows × 50 columns</p>\n",
       "</div>"
      ],
      "text/plain": [
       "          Dis No  Year   Seq Glide Disaster Group Disaster Subgroup  \\\n",
       "0  1900-9002-CPV  1900  9002   NaN        Natural    Climatological   \n",
       "1  1900-9001-IND  1900  9001   NaN        Natural    Climatological   \n",
       "2  1902-0012-GTM  1902    12   NaN        Natural       Geophysical   \n",
       "3  1902-0003-GTM  1902     3   NaN        Natural       Geophysical   \n",
       "4  1902-0010-GTM  1902    10   NaN        Natural       Geophysical   \n",
       "\n",
       "       Disaster Type Disaster Subtype Disaster Subsubtype   Event Name  ...  \\\n",
       "0            Drought          Drought                 NaN          NaN  ...   \n",
       "1            Drought          Drought                 NaN          NaN  ...   \n",
       "2         Earthquake  Ground movement                 NaN          NaN  ...   \n",
       "3  Volcanic activity         Ash fall                 NaN  Santa Maria  ...   \n",
       "4  Volcanic activity         Ash fall                 NaN  Santa Maria  ...   \n",
       "\n",
       "  Reconstruction Costs, Adjusted ('000 US$) Insured Damages ('000 US$)  \\\n",
       "0                                       NaN                        NaN   \n",
       "1                                       NaN                        NaN   \n",
       "2                                       NaN                        NaN   \n",
       "3                                       NaN                        NaN   \n",
       "4                                       NaN                        NaN   \n",
       "\n",
       "  Insured Damages, Adjusted ('000 US$) Total Damages ('000 US$)  \\\n",
       "0                                  NaN                      NaN   \n",
       "1                                  NaN                      NaN   \n",
       "2                                  NaN                  25000.0   \n",
       "3                                  NaN                      NaN   \n",
       "4                                  NaN                      NaN   \n",
       "\n",
       "  Total Damages, Adjusted ('000 US$)       CPI Adm Level Admin1 Code  \\\n",
       "0                                NaN  3.077091       NaN         NaN   \n",
       "1                                NaN  3.077091       NaN         NaN   \n",
       "2                           781207.0  3.200175       NaN         NaN   \n",
       "3                                NaN  3.200175       NaN         NaN   \n",
       "4                                NaN  3.200175       NaN         NaN   \n",
       "\n",
       "  Admin2 Code Geo Locations  \n",
       "0         NaN           NaN  \n",
       "1         NaN           NaN  \n",
       "2         NaN           NaN  \n",
       "3         NaN           NaN  \n",
       "4         NaN           NaN  \n",
       "\n",
       "[5 rows x 50 columns]"
      ]
     },
     "execution_count": 7,
     "metadata": {},
     "output_type": "execute_result"
    }
   ],
   "source": [
    "df = pd.read_excel(\"emdat_public_2022_11_07_query_uid-dvxNk1.xlsx\", header=6)\n",
    "df.head()"
   ]
  },
  {
   "cell_type": "code",
   "execution_count": 11,
   "id": "4287f51f",
   "metadata": {},
   "outputs": [
    {
     "name": "stdout",
     "output_type": "stream",
     "text": [
      "<class 'pandas.core.frame.DataFrame'>\n",
      "RangeIndex: 16457 entries, 0 to 16456\n",
      "Data columns (total 50 columns):\n",
      " #   Column                                     Non-Null Count  Dtype  \n",
      "---  ------                                     --------------  -----  \n",
      " 0   Dis No                                     16457 non-null  object \n",
      " 1   Year                                       16457 non-null  int64  \n",
      " 2   Seq                                        16457 non-null  int64  \n",
      " 3   Glide                                      1703 non-null   object \n",
      " 4   Disaster Group                             16457 non-null  object \n",
      " 5   Disaster Subgroup                          16457 non-null  object \n",
      " 6   Disaster Type                              16457 non-null  object \n",
      " 7   Disaster Subtype                           13195 non-null  object \n",
      " 8   Disaster Subsubtype                        1103 non-null   object \n",
      " 9   Event Name                                 3962 non-null   object \n",
      " 10  Country                                    16457 non-null  object \n",
      " 11  ISO                                        16457 non-null  object \n",
      " 12  Region                                     16457 non-null  object \n",
      " 13  Continent                                  16457 non-null  object \n",
      " 14  Location                                   14666 non-null  object \n",
      " 15  Origin                                     4006 non-null   object \n",
      " 16  Associated Dis                             3525 non-null   object \n",
      " 17  Associated Dis2                            747 non-null    object \n",
      " 18  OFDA Response                              1716 non-null   object \n",
      " 19  Appeal                                     2572 non-null   object \n",
      " 20  Declaration                                3325 non-null   object \n",
      " 21  AID Contribution ('000 US$)                776 non-null    float64\n",
      " 22  Dis Mag Value                              5023 non-null   float64\n",
      " 23  Dis Mag Scale                              15251 non-null  object \n",
      " 24  Latitude                                   2760 non-null   object \n",
      " 25  Longitude                                  2759 non-null   object \n",
      " 26  Local Time                                 1135 non-null   object \n",
      " 27  River Basin                                1319 non-null   object \n",
      " 28  Start Year                                 16457 non-null  int64  \n",
      " 29  Start Month                                16068 non-null  float64\n",
      " 30  Start Day                                  12858 non-null  float64\n",
      " 31  End Year                                   16457 non-null  int64  \n",
      " 32  End Month                                  15755 non-null  float64\n",
      " 33  End Day                                    12944 non-null  float64\n",
      " 34  Total Deaths                               11719 non-null  float64\n",
      " 35  No Injured                                 4072 non-null   float64\n",
      " 36  No Affected                                9539 non-null   float64\n",
      " 37  No Homeless                                2457 non-null   float64\n",
      " 38  Total Affected                             11984 non-null  float64\n",
      " 39  Reconstruction Costs ('000 US$)            33 non-null     float64\n",
      " 40  Reconstruction Costs, Adjusted ('000 US$)  33 non-null     float64\n",
      " 41  Insured Damages ('000 US$)                 1106 non-null   float64\n",
      " 42  Insured Damages, Adjusted ('000 US$)       1101 non-null   float64\n",
      " 43  Total Damages ('000 US$)                   5316 non-null   float64\n",
      " 44  Total Damages, Adjusted ('000 US$)         5266 non-null   float64\n",
      " 45  CPI                                        16133 non-null  float64\n",
      " 46  Adm Level                                  8355 non-null   object \n",
      " 47  Admin1 Code                                4941 non-null   object \n",
      " 48  Admin2 Code                                4191 non-null   object \n",
      " 49  Geo Locations                              8355 non-null   object \n",
      "dtypes: float64(18), int64(4), object(28)\n",
      "memory usage: 6.3+ MB\n"
     ]
    }
   ],
   "source": [
    "df.info()"
   ]
  },
  {
   "cell_type": "code",
   "execution_count": 27,
   "id": "e558920a",
   "metadata": {},
   "outputs": [
    {
     "data": {
      "text/plain": [
       "United States of America (the)                  1117\n",
       "China                                            994\n",
       "India                                            758\n",
       "Philippines (the)                                679\n",
       "Indonesia                                        598\n",
       "                                                ... \n",
       "Saint Helena, Ascension and Tristan da Cunha       1\n",
       "Qatar                                              1\n",
       "Isle of Man                                        1\n",
       "United Arab Emirates (the)                         1\n",
       "Saint Barthélemy                                   1\n",
       "Name: Country, Length: 228, dtype: int64"
      ]
     },
     "execution_count": 27,
     "metadata": {},
     "output_type": "execute_result"
    }
   ],
   "source": [
    "df[\"Country\"].value_counts()"
   ]
  },
  {
   "cell_type": "code",
   "execution_count": 21,
   "id": "8d058023",
   "metadata": {},
   "outputs": [
    {
     "data": {
      "text/plain": [
       "Riverine flood                      2656\n",
       "Tropical cyclone                    2459\n",
       "Ground movement                     1516\n",
       "Convective storm                    1155\n",
       "Flash flood                          811\n",
       "Drought                              791\n",
       "Bacterial disease                    775\n",
       "Landslide                            580\n",
       "Viral disease                        551\n",
       "Forest fire                          313\n",
       "Cold wave                            307\n",
       "Ash fall                             247\n",
       "Heat wave                            223\n",
       "Extra-tropical storm                 148\n",
       "Avalanche                            121\n",
       "Land fire (Brush, Bush, Pasture)      92\n",
       "Coastal flood                         85\n",
       "Severe winter conditions              77\n",
       "Mudslide                              75\n",
       "Locust                                62\n",
       "Tsunami                               57\n",
       "Parasitic disease                     51\n",
       "Grasshopper                           16\n",
       "Rockfall                              12\n",
       "Lava flow                              9\n",
       "Pyroclastic flow                       4\n",
       "Subsidence                             2\n",
       "Name: Disaster Subtype, dtype: int64"
      ]
     },
     "execution_count": 21,
     "metadata": {},
     "output_type": "execute_result"
    }
   ],
   "source": [
    "disaster_types = df[\"Disaster Subtype\"].value_counts()\n",
    "disaster_types"
   ]
  },
  {
   "cell_type": "code",
   "execution_count": 23,
   "id": "4193679e",
   "metadata": {},
   "outputs": [
    {
     "data": {
      "text/plain": [
       "<AxesSubplot:xlabel='Disaster Subtype', ylabel='count'>"
      ]
     },
     "execution_count": 23,
     "metadata": {},
     "output_type": "execute_result"
    },
    {
     "data": {
      "image/png": "[encoded data removed]",
      "text/plain": [
       "<Figure size 432x288 with 1 Axes>"
      ]
     },
     "metadata": {
      "needs_background": "light"
     },
     "output_type": "display_data"
    }
   ],
   "source": [
    "sns.countplot(data=df, x=df[\"Disaster Subtype\"])"
   ]
  },
  {
   "cell_type": "code",
   "execution_count": null,
   "id": "b47ad8b4",
   "metadata": {},
   "outputs": [],
   "source": []
  }
 ],
 "metadata": {
  "kernelspec": {
   "display_name": "Python 3 (ipykernel)",
   "language": "python",
   "name": "python3"
  },
  "language_info": {
   "codemirror_mode": {
    "name": "ipython",
    "version": 3
   },
   "file_extension": ".py",
   "mimetype": "text/x-python",
   "name": "python",
   "nbconvert_exporter": "python",
   "pygments_lexer": "ipython3",
   "version": "3.9.13"
  }
 },
 "nbformat": 4,
 "nbformat_minor": 5
}
