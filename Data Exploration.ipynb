{
 "cells": [
  {
   "cell_type": "markdown",
   "id": "c31ebd37",
   "metadata": {},
   "source": [
    "### EM-DAT data exploration"
   ]
  },
  {
   "cell_type": "code",
   "execution_count": 24,
   "id": "a06c7538",
   "metadata": {},
   "outputs": [],
   "source": [
    "import pandas as pd\n",
    "import matplotlib.pyplot as plt\n",
    "import seaborn as sns"
   ]
  },
  {
   "cell_type": "code",
   "execution_count": 25,
   "id": "4a6277d7",
   "metadata": {},
   "outputs": [],
   "source": [
    "plt.rcParams[\"figure.figsize\"] = (8, 5)"
   ]
  },
  {
   "cell_type": "code",
   "execution_count": 7,
   "id": "801cfedb",
   "metadata": {},
   "outputs": [
    {
     "name": "stderr",
     "output_type": "stream",
     "text": [
      "/opt/homebrew/lib/python3.9/site-packages/openpyxl/styles/stylesheet.py:221: UserWarning: Workbook contains no default style, apply openpyxl's default\n",
      "  warn(\"Workbook contains no default style, apply openpyxl's default\")\n"
     ]
    },
    {
     "data": {
      "text/html": [
       "<div>\n",
       "<style scoped>\n",
       "    .dataframe tbody tr th:only-of-type {\n",
       "        vertical-align: middle;\n",
       "    }\n",
       "\n",
       "    .dataframe tbody tr th {\n",
       "        vertical-align: top;\n",
       "    }\n",
       "\n",
       "    .dataframe thead th {\n",
       "        text-align: right;\n",
       "    }\n",
       "</style>\n",
       "<table border=\"1\" class=\"dataframe\">\n",
       "  <thead>\n",
       "    <tr style=\"text-align: right;\">\n",
       "      <th></th>\n",
       "      <th>Dis No</th>\n",
       "      <th>Year</th>\n",
       "      <th>Seq</th>\n",
       "      <th>Glide</th>\n",
       "      <th>Disaster Group</th>\n",
       "      <th>Disaster Subgroup</th>\n",
       "      <th>Disaster Type</th>\n",
       "      <th>Disaster Subtype</th>\n",
       "      <th>Disaster Subsubtype</th>\n",
       "      <th>Event Name</th>\n",
       "      <th>...</th>\n",
       "      <th>Reconstruction Costs, Adjusted ('000 US$)</th>\n",
       "      <th>Insured Damages ('000 US$)</th>\n",
       "      <th>Insured Damages, Adjusted ('000 US$)</th>\n",
       "      <th>Total Damages ('000 US$)</th>\n",
       "      <th>Total Damages, Adjusted ('000 US$)</th>\n",
       "      <th>CPI</th>\n",
       "      <th>Adm Level</th>\n",
       "      <th>Admin1 Code</th>\n",
       "      <th>Admin2 Code</th>\n",
       "      <th>Geo Locations</th>\n",
       "    </tr>\n",
       "  </thead>\n",
       "  <tbody>\n",
       "    <tr>\n",
       "      <th>0</th>\n",
       "      <td>1900-9002-CPV</td>\n",
       "      <td>1900</td>\n",
       "      <td>9002</td>\n",
       "      <td>NaN</td>\n",
       "      <td>Natural</td>\n",
       "      <td>Climatological</td>\n",
       "      <td>Drought</td>\n",
       "      <td>Drought</td>\n",
       "      <td>NaN</td>\n",
       "      <td>NaN</td>\n",
       "      <td>...</td>\n",
       "      <td>NaN</td>\n",
       "      <td>NaN</td>\n",
       "      <td>NaN</td>\n",
       "      <td>NaN</td>\n",
       "      <td>NaN</td>\n",
       "      <td>3.077091</td>\n",
       "      <td>NaN</td>\n",
       "      <td>NaN</td>\n",
       "      <td>NaN</td>\n",
       "      <td>NaN</td>\n",
       "    </tr>\n",
       "    <tr>\n",
       "      <th>1</th>\n",
       "      <td>1900-9001-IND</td>\n",
       "      <td>1900</td>\n",
       "      <td>9001</td>\n",
       "      <td>NaN</td>\n",
       "      <td>Natural</td>\n",
       "      <td>Climatological</td>\n",
       "      <td>Drought</td>\n",
       "      <td>Drought</td>\n",
       "      <td>NaN</td>\n",
       "      <td>NaN</td>\n",
       "      <td>...</td>\n",
       "      <td>NaN</td>\n",
       "      <td>NaN</td>\n",
       "      <td>NaN</td>\n",
       "      <td>NaN</td>\n",
       "      <td>NaN</td>\n",
       "      <td>3.077091</td>\n",
       "      <td>NaN</td>\n",
       "      <td>NaN</td>\n",
       "      <td>NaN</td>\n",
       "      <td>NaN</td>\n",
       "    </tr>\n",
       "    <tr>\n",
       "      <th>2</th>\n",
       "      <td>1902-0012-GTM</td>\n",
       "      <td>1902</td>\n",
       "      <td>12</td>\n",
       "      <td>NaN</td>\n",
       "      <td>Natural</td>\n",
       "      <td>Geophysical</td>\n",
       "      <td>Earthquake</td>\n",
       "      <td>Ground movement</td>\n",
       "      <td>NaN</td>\n",
       "      <td>NaN</td>\n",
       "      <td>...</td>\n",
       "      <td>NaN</td>\n",
       "      <td>NaN</td>\n",
       "      <td>NaN</td>\n",
       "      <td>25000.0</td>\n",
       "      <td>781207.0</td>\n",
       "      <td>3.200175</td>\n",
       "      <td>NaN</td>\n",
       "      <td>NaN</td>\n",
       "      <td>NaN</td>\n",
       "      <td>NaN</td>\n",
       "    </tr>\n",
       "    <tr>\n",
       "      <th>3</th>\n",
       "      <td>1902-0003-GTM</td>\n",
       "      <td>1902</td>\n",
       "      <td>3</td>\n",
       "      <td>NaN</td>\n",
       "      <td>Natural</td>\n",
       "      <td>Geophysical</td>\n",
       "      <td>Volcanic activity</td>\n",
       "      <td>Ash fall</td>\n",
       "      <td>NaN</td>\n",
       "      <td>Santa Maria</td>\n",
       "      <td>...</td>\n",
       "      <td>NaN</td>\n",
       "      <td>NaN</td>\n",
       "      <td>NaN</td>\n",
       "      <td>NaN</td>\n",
       "      <td>NaN</td>\n",
       "      <td>3.200175</td>\n",
       "      <td>NaN</td>\n",
       "      <td>NaN</td>\n",
       "      <td>NaN</td>\n",
       "      <td>NaN</td>\n",
       "    </tr>\n",
       "    <tr>\n",
       "      <th>4</th>\n",
       "      <td>1902-0010-GTM</td>\n",
       "      <td>1902</td>\n",
       "      <td>10</td>\n",
       "      <td>NaN</td>\n",
       "      <td>Natural</td>\n",
       "      <td>Geophysical</td>\n",
       "      <td>Volcanic activity</td>\n",
       "      <td>Ash fall</td>\n",
       "      <td>NaN</td>\n",
       "      <td>Santa Maria</td>\n",
       "      <td>...</td>\n",
       "      <td>NaN</td>\n",
       "      <td>NaN</td>\n",
       "      <td>NaN</td>\n",
       "      <td>NaN</td>\n",
       "      <td>NaN</td>\n",
       "      <td>3.200175</td>\n",
       "      <td>NaN</td>\n",
       "      <td>NaN</td>\n",
       "      <td>NaN</td>\n",
       "      <td>NaN</td>\n",
       "    </tr>\n",
       "  </tbody>\n",
       "</table>\n",
       "<p>5 rows × 50 columns</p>\n",
       "</div>"
      ],
      "text/plain": [
       "          Dis No  Year   Seq Glide Disaster Group Disaster Subgroup  \\\n",
       "0  1900-9002-CPV  1900  9002   NaN        Natural    Climatological   \n",
       "1  1900-9001-IND  1900  9001   NaN        Natural    Climatological   \n",
       "2  1902-0012-GTM  1902    12   NaN        Natural       Geophysical   \n",
       "3  1902-0003-GTM  1902     3   NaN        Natural       Geophysical   \n",
       "4  1902-0010-GTM  1902    10   NaN        Natural       Geophysical   \n",
       "\n",
       "       Disaster Type Disaster Subtype Disaster Subsubtype   Event Name  ...  \\\n",
       "0            Drought          Drought                 NaN          NaN  ...   \n",
       "1            Drought          Drought                 NaN          NaN  ...   \n",
       "2         Earthquake  Ground movement                 NaN          NaN  ...   \n",
       "3  Volcanic activity         Ash fall                 NaN  Santa Maria  ...   \n",
       "4  Volcanic activity         Ash fall                 NaN  Santa Maria  ...   \n",
       "\n",
       "  Reconstruction Costs, Adjusted ('000 US$) Insured Damages ('000 US$)  \\\n",
       "0                                       NaN                        NaN   \n",
       "1                                       NaN                        NaN   \n",
       "2                                       NaN                        NaN   \n",
       "3                                       NaN                        NaN   \n",
       "4                                       NaN                        NaN   \n",
       "\n",
       "  Insured Damages, Adjusted ('000 US$) Total Damages ('000 US$)  \\\n",
       "0                                  NaN                      NaN   \n",
       "1                                  NaN                      NaN   \n",
       "2                                  NaN                  25000.0   \n",
       "3                                  NaN                      NaN   \n",
       "4                                  NaN                      NaN   \n",
       "\n",
       "  Total Damages, Adjusted ('000 US$)       CPI Adm Level Admin1 Code  \\\n",
       "0                                NaN  3.077091       NaN         NaN   \n",
       "1                                NaN  3.077091       NaN         NaN   \n",
       "2                           781207.0  3.200175       NaN         NaN   \n",
       "3                                NaN  3.200175       NaN         NaN   \n",
       "4                                NaN  3.200175       NaN         NaN   \n",
       "\n",
       "  Admin2 Code Geo Locations  \n",
       "0         NaN           NaN  \n",
       "1         NaN           NaN  \n",
       "2         NaN           NaN  \n",
       "3         NaN           NaN  \n",
       "4         NaN           NaN  \n",
       "\n",
       "[5 rows x 50 columns]"
      ]
     },
     "execution_count": 7,
     "metadata": {},
     "output_type": "execute_result"
    }
   ],
   "source": [
    "df = pd.read_excel(\"emdat_public_2022_11_07_query_uid-dvxNk1.xlsx\", header=6)\n",
    "df.head()"
   ]
  },
  {
   "cell_type": "code",
   "execution_count": 11,
   "id": "4287f51f",
   "metadata": {},
   "outputs": [
    {
     "name": "stdout",
     "output_type": "stream",
     "text": [
      "<class 'pandas.core.frame.DataFrame'>\n",
      "RangeIndex: 16457 entries, 0 to 16456\n",
      "Data columns (total 50 columns):\n",
      " #   Column                                     Non-Null Count  Dtype  \n",
      "---  ------                                     --------------  -----  \n",
      " 0   Dis No                                     16457 non-null  object \n",
      " 1   Year                                       16457 non-null  int64  \n",
      " 2   Seq                                        16457 non-null  int64  \n",
      " 3   Glide                                      1703 non-null   object \n",
      " 4   Disaster Group                             16457 non-null  object \n",
      " 5   Disaster Subgroup                          16457 non-null  object \n",
      " 6   Disaster Type                              16457 non-null  object \n",
      " 7   Disaster Subtype                           13195 non-null  object \n",
      " 8   Disaster Subsubtype                        1103 non-null   object \n",
      " 9   Event Name                                 3962 non-null   object \n",
      " 10  Country                                    16457 non-null  object \n",
      " 11  ISO                                        16457 non-null  object \n",
      " 12  Region                                     16457 non-null  object \n",
      " 13  Continent                                  16457 non-null  object \n",
      " 14  Location                                   14666 non-null  object \n",
      " 15  Origin                                     4006 non-null   object \n",
      " 16  Associated Dis                             3525 non-null   object \n",
      " 17  Associated Dis2                            747 non-null    object \n",
      " 18  OFDA Response                              1716 non-null   object \n",
      " 19  Appeal                                     2572 non-null   object \n",
      " 20  Declaration                                3325 non-null   object \n",
      " 21  AID Contribution ('000 US$)                776 non-null    float64\n",
      " 22  Dis Mag Value                              5023 non-null   float64\n",
      " 23  Dis Mag Scale                              15251 non-null  object \n",
      " 24  Latitude                                   2760 non-null   object \n",
      " 25  Longitude                                  2759 non-null   object \n",
      " 26  Local Time                                 1135 non-null   object \n",
      " 27  River Basin                                1319 non-null   object \n",
      " 28  Start Year                                 16457 non-null  int64  \n",
      " 29  Start Month                                16068 non-null  float64\n",
      " 30  Start Day                                  12858 non-null  float64\n",
      " 31  End Year                                   16457 non-null  int64  \n",
      " 32  End Month                                  15755 non-null  float64\n",
      " 33  End Day                                    12944 non-null  float64\n",
      " 34  Total Deaths                               11719 non-null  float64\n",
      " 35  No Injured                                 4072 non-null   float64\n",
      " 36  No Affected                                9539 non-null   float64\n",
      " 37  No Homeless                                2457 non-null   float64\n",
      " 38  Total Affected                             11984 non-null  float64\n",
      " 39  Reconstruction Costs ('000 US$)            33 non-null     float64\n",
      " 40  Reconstruction Costs, Adjusted ('000 US$)  33 non-null     float64\n",
      " 41  Insured Damages ('000 US$)                 1106 non-null   float64\n",
      " 42  Insured Damages, Adjusted ('000 US$)       1101 non-null   float64\n",
      " 43  Total Damages ('000 US$)                   5316 non-null   float64\n",
      " 44  Total Damages, Adjusted ('000 US$)         5266 non-null   float64\n",
      " 45  CPI                                        16133 non-null  float64\n",
      " 46  Adm Level                                  8355 non-null   object \n",
      " 47  Admin1 Code                                4941 non-null   object \n",
      " 48  Admin2 Code                                4191 non-null   object \n",
      " 49  Geo Locations                              8355 non-null   object \n",
      "dtypes: float64(18), int64(4), object(28)\n",
      "memory usage: 6.3+ MB\n"
     ]
    }
   ],
   "source": [
    "df.info()"
   ]
  },
  {
   "cell_type": "code",
   "execution_count": 27,
   "id": "e558920a",
   "metadata": {},
   "outputs": [
    {
     "data": {
      "text/plain": [
       "United States of America (the)                  1117\n",
       "China                                            994\n",
       "India                                            758\n",
       "Philippines (the)                                679\n",
       "Indonesia                                        598\n",
       "                                                ... \n",
       "Saint Helena, Ascension and Tristan da Cunha       1\n",
       "Qatar                                              1\n",
       "Isle of Man                                        1\n",
       "United Arab Emirates (the)                         1\n",
       "Saint Barthélemy                                   1\n",
       "Name: Country, Length: 228, dtype: int64"
      ]
     },
     "execution_count": 27,
     "metadata": {},
     "output_type": "execute_result"
    }
   ],
   "source": [
    "df[\"Country\"].value_counts()"
   ]
  },
  {
   "cell_type": "code",
<<<<<<< HEAD
   "execution_count": 44,
   "id": "f53f8743",
   "metadata": {},
   "outputs": [
    {
     "data": {
      "text/plain": [
       "Flood                    5728\n",
       "Storm                    4576\n",
       "Earthquake               1576\n",
       "Epidemic                 1519\n",
       "Drought                   792\n",
       "Landslide                 788\n",
       "Extreme temperature       607\n",
       "Wildfire                  453\n",
       "Volcanic activity         269\n",
       "Insect infestation         95\n",
       "Mass movement (dry)        48\n",
       "Glacial lake outburst       3\n",
       "Impact                      1\n",
       "Animal accident             1\n",
       "Fog                         1\n",
       "Name: Disaster Type, dtype: int64"
      ]
     },
     "execution_count": 44,
     "metadata": {},
     "output_type": "execute_result"
    }
   ],
   "source": [
    "df[\"Disaster Type\"].value_counts()"
   ]
  },
  {
   "cell_type": "code",
   "execution_count": 45,
   "id": "b37b32d0",
=======
   "execution_count": 21,
   "id": "8d058023",
>>>>>>> c04395a93fc76f46e57558fda27b3108c048d493
   "metadata": {},
   "outputs": [
    {
     "data": {
      "text/plain": [
<<<<<<< HEAD
       "0"
      ]
     },
     "execution_count": 45,
=======
       "Riverine flood                      2656\n",
       "Tropical cyclone                    2459\n",
       "Ground movement                     1516\n",
       "Convective storm                    1155\n",
       "Flash flood                          811\n",
       "Drought                              791\n",
       "Bacterial disease                    775\n",
       "Landslide                            580\n",
       "Viral disease                        551\n",
       "Forest fire                          313\n",
       "Cold wave                            307\n",
       "Ash fall                             247\n",
       "Heat wave                            223\n",
       "Extra-tropical storm                 148\n",
       "Avalanche                            121\n",
       "Land fire (Brush, Bush, Pasture)      92\n",
       "Coastal flood                         85\n",
       "Severe winter conditions              77\n",
       "Mudslide                              75\n",
       "Locust                                62\n",
       "Tsunami                               57\n",
       "Parasitic disease                     51\n",
       "Grasshopper                           16\n",
       "Rockfall                              12\n",
       "Lava flow                              9\n",
       "Pyroclastic flow                       4\n",
       "Subsidence                             2\n",
       "Name: Disaster Subtype, dtype: int64"
      ]
     },
     "execution_count": 21,
>>>>>>> c04395a93fc76f46e57558fda27b3108c048d493
     "metadata": {},
     "output_type": "execute_result"
    }
   ],
   "source": [
<<<<<<< HEAD
    "df[\"Disaster Type\"].isna().sum()"
=======
    "disaster_types = df[\"Disaster Subtype\"].value_counts()\n",
    "disaster_types"
>>>>>>> c04395a93fc76f46e57558fda27b3108c048d493
   ]
  },
  {
   "cell_type": "code",
<<<<<<< HEAD
   "execution_count": 46,
   "id": "08edf601",
=======
   "execution_count": 23,
   "id": "4193679e",
>>>>>>> c04395a93fc76f46e57558fda27b3108c048d493
   "metadata": {},
   "outputs": [
    {
     "data": {
      "text/plain": [
<<<<<<< HEAD
       "count     16457\n",
       "unique       15\n",
       "top       Flood\n",
       "freq       5728\n",
       "Name: Disaster Type, dtype: object"
      ]
     },
     "execution_count": 46,
     "metadata": {},
     "output_type": "execute_result"
    }
   ],
   "source": [
    "df[\"Disaster Type\"].describe()"
   ]
  },
  {
   "cell_type": "code",
   "execution_count": null,
   "id": "8d058023",
   "metadata": {},
   "outputs": [],
   "source": []
  },
  {
   "cell_type": "code",
   "execution_count": 47,
   "id": "4193679e",
   "metadata": {},
   "outputs": [
    {
     "data": {
      "image/png": "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\n",
      "text/plain": [
       "<Figure size 1080x360 with 1 Axes>"
=======
       "<AxesSubplot:xlabel='Disaster Subtype', ylabel='count'>"
      ]
     },
     "execution_count": 23,
     "metadata": {},
     "output_type": "execute_result"
    },
    {
     "data": {
      "image/png": "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\n",
      "text/plain": [
       "<Figure size 432x288 with 1 Axes>"
>>>>>>> c04395a93fc76f46e57558fda27b3108c048d493
      ]
     },
     "metadata": {
      "needs_background": "light"
     },
     "output_type": "display_data"
    }
   ],
   "source": [
<<<<<<< HEAD
    "fig, ax = plt.subplots(figsize=(15, 5))\n",
    "sns.countplot(data=df, x=df[\"Disaster Type\"])\n",
    "plt.xticks(rotation = 70)\n",
    "plt.show()"
=======
    "sns.countplot(data=df, x=df[\"Disaster Subtype\"])"
>>>>>>> c04395a93fc76f46e57558fda27b3108c048d493
   ]
  },
  {
   "cell_type": "code",
   "execution_count": null,
   "id": "b47ad8b4",
   "metadata": {},
   "outputs": [],
   "source": []
  }
 ],
 "metadata": {
  "kernelspec": {
   "display_name": "Python 3 (ipykernel)",
   "language": "python",
   "name": "python3"
  },
  "language_info": {
   "codemirror_mode": {
    "name": "ipython",
    "version": 3
   },
   "file_extension": ".py",
   "mimetype": "text/x-python",
   "name": "python",
   "nbconvert_exporter": "python",
   "pygments_lexer": "ipython3",
   "version": "3.9.13"
<<<<<<< HEAD
  },
  "vscode": {
   "interpreter": {
    "hash": "b0fa6594d8f4cbf19f97940f81e996739fb7646882a419484c72d19e05852a7e"
   }
=======
>>>>>>> c04395a93fc76f46e57558fda27b3108c048d493
  }
 },
 "nbformat": 4,
 "nbformat_minor": 5
}
